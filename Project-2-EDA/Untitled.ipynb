{
 "cells": [
  {
   "cell_type": "markdown",
   "id": "72176fb6",
   "metadata": {},
   "source": [
    "### Добрый день.\n",
    "Вашему вниманию представлено решение задачи по итоговому модулю разведывательный анализ данных.  \n",
    "Суть проекта — отследить влияние условий жизни учащихся в возрасте от 15 до 22 лет на их успеваемость по математике, чтобы на ранней стадии выявлять студентов, находящихся в группе риска.  \n",
    "И сделать это можно с помощью модели, которая предсказывала бы результаты госэкзамена по математике для каждого ученика школы (вот она, сила ML!). Чтобы определиться с параметрами будущей модели, проведите разведывательный анализ данных и составьте отчёт по его результатам.  \n",
    "Так же в датасете присутствует переменная-загадка (**studytime, granular**). Необходимо узнать, имеет ли она влияние на успеваемость.  \n",
    "Для начала загрузим все нужные библиотеки и наш датасет."
   ]
  },
  {
   "cell_type": "code",
   "execution_count": 1,
   "id": "a2e11f62",
   "metadata": {},
   "outputs": [],
   "source": [
    "import pandas as pd\n",
    "import numpy as np\n",
    "import matplotlib.pyplot as plt\n",
    "import seaborn as sns\n",
    "from itertools import combinations\n",
    "import math\n",
    "import scipy.stats as stats\n",
    "\n",
    "pd.set_option('display.max_rows', 50)\n",
    "pd.set_option('display.max_columns', 50)\n",
    "\n",
    "df = pd.read_csv(\"stud_math.xls\")"
   ]
  },
  {
   "cell_type": "markdown",
   "id": "8283cc54",
   "metadata": {},
   "source": [
    "Исходя из условий задачи, дата сет содержит следующие переменные:\n",
    "\n",
    "1. **school** — аббревиатура школы, в которой учится ученик\n",
    "\n",
    "2.  **sex** — пол ученика ('F' - женский, 'M' - мужской)\n",
    "\n",
    "3. **age** — возраст ученика (от 15 до 22)\n",
    "\n",
    "4. **address** — тип адреса ученика ('U' - городской, 'R' - за городом)\n",
    "\n",
    "5. **famsize** — размер семьи('LE3' <= 3, 'GT3' >3)\n",
    "\n",
    "6. **Pstatus** — статус совместного жилья родителей ('T' - живут вместе 'A' - раздельно)\n",
    "\n",
    "7. **Medu** — образование матери (0 - нет, 1 - 4 класса, 2 - 5-9 классы, 3 - среднее специальное или 11 классов, 4 - высшее)\n",
    "\n",
    "8. **Fedu** — образование отца (0 - нет, 1 - 4 класса, 2 - 5-9 классы, 3 - среднее специальное или 11 классов, 4 - высшее)\n",
    "\n",
    "9. **Mjob** — работа матери ('teacher' - учитель, 'health' - сфера здравоохранения, 'services' - гос служба, 'at_home' - не работает, 'other' - другое)\n",
    "\n",
    "10. **Fjob** — работа отца ('teacher' - учитель, 'health' - сфера здравоохранения, 'services' - гос служба, 'at_home' - не работает, 'other' - другое)\n",
    "\n",
    "11. **reason** — причина выбора школы ('home' - близость к дому, 'reputation' - репутация школы, 'course' - образовательная программа, 'other' - другое)\n",
    "\n",
    "12. **guardian** — опекун ('mother' - мать, 'father' - отец, 'other' - другое)\n",
    "\n",
    "13. **traveltime** — время в пути до школы (1 - <15 мин., 2 - 15-30 мин., 3 - 30-60 мин., 4 - >60 мин.)\n",
    "\n",
    "14. **studytime** — время на учёбу помимо школы в неделю (1 - <2 часов, 2 - 2-5 часов, 3 - 5-10 часов, 4 - >10 часов)\n",
    "\n",
    "15. **failures** — количество внеучебных неудач (n, если 1<=n<=3, иначе 0)\n",
    "\n",
    "16. **schoolsup** — дополнительная образовательная поддержка (yes или no)\n",
    "\n",
    "17. **famsup** — семейная образовательная поддержка (yes или no)\n",
    "\n",
    "18. **paid** — дополнительные платные занятия по математике (yes или no)\n",
    "\n",
    "19. **activities** — дополнительные внеучебные занятия (yes или no)\n",
    "\n",
    "20. **nursery** — посещал детский сад (yes или no)\n",
    "\n",
    "21. **studytime, granular**- переменная загадка. Исходя из условий, надо определить имеет она влияние на успеваемость или нет.\n",
    "\n",
    "21. **higher** — хочет получить высшее образование (yes или no)\n",
    "\n",
    "22. **internet** — наличие интернета дома (yes или no)\n",
    "\n",
    "23. **romantic** — в романтических отношениях (yes или no)\n",
    "\n",
    "24. **famrel** — семейные отношения (от 1 - очень плохо до 5 - очень хорошо)\n",
    "\n",
    "25. **freetime** — свободное время после школы (от 1 - очень мало до 5 - очень много)\n",
    "\n",
    "26. **goout** — проведение времени с друзьями (от 1 - очень мало до 5 - очень много)\n",
    "\n",
    "27. **health** — текущее состояние здоровья (от 1 - очень плохо до 5 - очень хорошо)\n",
    "\n",
    "28. **absences** — количество пропущенных занятий\n",
    "\n",
    "29. **score** — баллы по госэкзамену по математике\n",
    "\n"
   ]
  },
  {
   "cell_type": "markdown",
   "id": "89321e8c",
   "metadata": {},
   "source": [
    "# Часть 1. Знакомство с данными"
   ]
  },
  {
   "cell_type": "code",
   "execution_count": 2,
   "id": "08b1c2a3",
   "metadata": {},
   "outputs": [
    {
     "name": "stdout",
     "output_type": "stream",
     "text": [
      "Размер дата сета - (395, 30)\n"
     ]
    }
   ],
   "source": [
    "print(f\"Размер дата сета - {df.shape}\")"
   ]
  },
  {
   "cell_type": "code",
   "execution_count": 3,
   "id": "32330885",
   "metadata": {},
   "outputs": [
    {
     "name": "stdout",
     "output_type": "stream",
     "text": [
      "Проверим какие у нас есть столбцы и какой у их тип\n",
      "<class 'pandas.core.frame.DataFrame'>\n",
      "RangeIndex: 395 entries, 0 to 394\n",
      "Data columns (total 30 columns):\n",
      " #   Column               Non-Null Count  Dtype  \n",
      "---  ------               --------------  -----  \n",
      " 0   school               395 non-null    object \n",
      " 1   sex                  395 non-null    object \n",
      " 2   age                  395 non-null    int64  \n",
      " 3   address              378 non-null    object \n",
      " 4   famsize              368 non-null    object \n",
      " 5   Pstatus              350 non-null    object \n",
      " 6   Medu                 392 non-null    float64\n",
      " 7   Fedu                 371 non-null    float64\n",
      " 8   Mjob                 376 non-null    object \n",
      " 9   Fjob                 359 non-null    object \n",
      " 10  reason               378 non-null    object \n",
      " 11  guardian             364 non-null    object \n",
      " 12  traveltime           367 non-null    float64\n",
      " 13  studytime            388 non-null    float64\n",
      " 14  failures             373 non-null    float64\n",
      " 15  schoolsup            386 non-null    object \n",
      " 16  famsup               356 non-null    object \n",
      " 17  paid                 355 non-null    object \n",
      " 18  activities           381 non-null    object \n",
      " 19  nursery              379 non-null    object \n",
      " 20  studytime, granular  388 non-null    float64\n",
      " 21  higher               375 non-null    object \n",
      " 22  internet             361 non-null    object \n",
      " 23  romantic             364 non-null    object \n",
      " 24  famrel               368 non-null    float64\n",
      " 25  freetime             384 non-null    float64\n",
      " 26  goout                387 non-null    float64\n",
      " 27  health               380 non-null    float64\n",
      " 28  absences             383 non-null    float64\n",
      " 29  score                389 non-null    float64\n",
      "dtypes: float64(12), int64(1), object(17)\n",
      "memory usage: 92.7+ KB\n"
     ]
    }
   ],
   "source": [
    "# -----------------------------------------------------------------------\n",
    "print(\"Проверим какие у нас есть столбцы и какой у их тип\")\n",
    "df.info()"
   ]
  },
  {
   "cell_type": "code",
   "execution_count": 4,
   "id": "81264c01",
   "metadata": {},
   "outputs": [
    {
     "name": "stdout",
     "output_type": "stream",
     "text": [
      "Посмотрим более подробнее, сколько изначально пропущенных значений\n"
     ]
    },
    {
     "data": {
      "text/plain": [
       "address                17\n",
       "famsize                27\n",
       "Pstatus                45\n",
       "Medu                    3\n",
       "Fedu                   24\n",
       "Mjob                   19\n",
       "Fjob                   36\n",
       "reason                 17\n",
       "guardian               31\n",
       "traveltime             28\n",
       "studytime               7\n",
       "failures               22\n",
       "schoolsup               9\n",
       "famsup                 39\n",
       "paid                   40\n",
       "activities             14\n",
       "nursery                16\n",
       "studytime, granular     7\n",
       "higher                 20\n",
       "internet               34\n",
       "romantic               31\n",
       "famrel                 27\n",
       "freetime               11\n",
       "goout                   8\n",
       "health                 15\n",
       "absences               12\n",
       "score                   6\n",
       "dtype: int64"
      ]
     },
     "execution_count": 4,
     "metadata": {},
     "output_type": "execute_result"
    }
   ],
   "source": [
    "# -----------------------------------------------------------------------\n",
    "print('Посмотрим более подробнее, сколько изначально пропущенных значений')\n",
    "null_data_1 = df.isnull().sum()\n",
    "null_data_1[null_data_1 > 0]"
   ]
  },
  {
   "cell_type": "code",
   "execution_count": 5,
   "id": "1870ef7c",
   "metadata": {
    "scrolled": true
   },
   "outputs": [
    {
     "name": "stdout",
     "output_type": "stream",
     "text": [
      "А теперь взглянем на наш датасет, выведем первые 10 строк\n"
     ]
    },
    {
     "data": {
      "text/html": [
       "<div>\n",
       "<style scoped>\n",
       "    .dataframe tbody tr th:only-of-type {\n",
       "        vertical-align: middle;\n",
       "    }\n",
       "\n",
       "    .dataframe tbody tr th {\n",
       "        vertical-align: top;\n",
       "    }\n",
       "\n",
       "    .dataframe thead th {\n",
       "        text-align: right;\n",
       "    }\n",
       "</style>\n",
       "<table border=\"1\" class=\"dataframe\">\n",
       "  <thead>\n",
       "    <tr style=\"text-align: right;\">\n",
       "      <th></th>\n",
       "      <th>school</th>\n",
       "      <th>sex</th>\n",
       "      <th>age</th>\n",
       "      <th>address</th>\n",
       "      <th>famsize</th>\n",
       "      <th>Pstatus</th>\n",
       "      <th>Medu</th>\n",
       "      <th>Fedu</th>\n",
       "      <th>Mjob</th>\n",
       "      <th>Fjob</th>\n",
       "      <th>reason</th>\n",
       "      <th>guardian</th>\n",
       "      <th>traveltime</th>\n",
       "      <th>studytime</th>\n",
       "      <th>failures</th>\n",
       "      <th>schoolsup</th>\n",
       "      <th>famsup</th>\n",
       "      <th>paid</th>\n",
       "      <th>activities</th>\n",
       "      <th>nursery</th>\n",
       "      <th>studytime, granular</th>\n",
       "      <th>higher</th>\n",
       "      <th>internet</th>\n",
       "      <th>romantic</th>\n",
       "      <th>famrel</th>\n",
       "      <th>freetime</th>\n",
       "      <th>goout</th>\n",
       "      <th>health</th>\n",
       "      <th>absences</th>\n",
       "      <th>score</th>\n",
       "    </tr>\n",
       "  </thead>\n",
       "  <tbody>\n",
       "    <tr>\n",
       "      <th>0</th>\n",
       "      <td>GP</td>\n",
       "      <td>F</td>\n",
       "      <td>18</td>\n",
       "      <td>U</td>\n",
       "      <td>NaN</td>\n",
       "      <td>A</td>\n",
       "      <td>4.0</td>\n",
       "      <td>4.0</td>\n",
       "      <td>at_home</td>\n",
       "      <td>teacher</td>\n",
       "      <td>course</td>\n",
       "      <td>mother</td>\n",
       "      <td>2.0</td>\n",
       "      <td>2.0</td>\n",
       "      <td>0.0</td>\n",
       "      <td>yes</td>\n",
       "      <td>no</td>\n",
       "      <td>no</td>\n",
       "      <td>no</td>\n",
       "      <td>yes</td>\n",
       "      <td>-6.0</td>\n",
       "      <td>yes</td>\n",
       "      <td>NaN</td>\n",
       "      <td>no</td>\n",
       "      <td>4.0</td>\n",
       "      <td>3.0</td>\n",
       "      <td>4.0</td>\n",
       "      <td>3.0</td>\n",
       "      <td>6.0</td>\n",
       "      <td>30.0</td>\n",
       "    </tr>\n",
       "    <tr>\n",
       "      <th>1</th>\n",
       "      <td>GP</td>\n",
       "      <td>F</td>\n",
       "      <td>17</td>\n",
       "      <td>U</td>\n",
       "      <td>GT3</td>\n",
       "      <td>NaN</td>\n",
       "      <td>1.0</td>\n",
       "      <td>1.0</td>\n",
       "      <td>at_home</td>\n",
       "      <td>other</td>\n",
       "      <td>course</td>\n",
       "      <td>father</td>\n",
       "      <td>1.0</td>\n",
       "      <td>2.0</td>\n",
       "      <td>0.0</td>\n",
       "      <td>no</td>\n",
       "      <td>yes</td>\n",
       "      <td>no</td>\n",
       "      <td>no</td>\n",
       "      <td>no</td>\n",
       "      <td>-6.0</td>\n",
       "      <td>yes</td>\n",
       "      <td>yes</td>\n",
       "      <td>no</td>\n",
       "      <td>5.0</td>\n",
       "      <td>3.0</td>\n",
       "      <td>3.0</td>\n",
       "      <td>3.0</td>\n",
       "      <td>4.0</td>\n",
       "      <td>30.0</td>\n",
       "    </tr>\n",
       "    <tr>\n",
       "      <th>2</th>\n",
       "      <td>GP</td>\n",
       "      <td>F</td>\n",
       "      <td>15</td>\n",
       "      <td>U</td>\n",
       "      <td>LE3</td>\n",
       "      <td>T</td>\n",
       "      <td>1.0</td>\n",
       "      <td>1.0</td>\n",
       "      <td>at_home</td>\n",
       "      <td>other</td>\n",
       "      <td>other</td>\n",
       "      <td>mother</td>\n",
       "      <td>1.0</td>\n",
       "      <td>2.0</td>\n",
       "      <td>3.0</td>\n",
       "      <td>yes</td>\n",
       "      <td>no</td>\n",
       "      <td>NaN</td>\n",
       "      <td>no</td>\n",
       "      <td>yes</td>\n",
       "      <td>-6.0</td>\n",
       "      <td>yes</td>\n",
       "      <td>yes</td>\n",
       "      <td>NaN</td>\n",
       "      <td>4.0</td>\n",
       "      <td>3.0</td>\n",
       "      <td>2.0</td>\n",
       "      <td>3.0</td>\n",
       "      <td>10.0</td>\n",
       "      <td>50.0</td>\n",
       "    </tr>\n",
       "    <tr>\n",
       "      <th>3</th>\n",
       "      <td>GP</td>\n",
       "      <td>F</td>\n",
       "      <td>15</td>\n",
       "      <td>U</td>\n",
       "      <td>GT3</td>\n",
       "      <td>T</td>\n",
       "      <td>4.0</td>\n",
       "      <td>2.0</td>\n",
       "      <td>health</td>\n",
       "      <td>NaN</td>\n",
       "      <td>home</td>\n",
       "      <td>mother</td>\n",
       "      <td>1.0</td>\n",
       "      <td>3.0</td>\n",
       "      <td>0.0</td>\n",
       "      <td>no</td>\n",
       "      <td>yes</td>\n",
       "      <td>yes</td>\n",
       "      <td>yes</td>\n",
       "      <td>yes</td>\n",
       "      <td>-9.0</td>\n",
       "      <td>yes</td>\n",
       "      <td>yes</td>\n",
       "      <td>yes</td>\n",
       "      <td>3.0</td>\n",
       "      <td>2.0</td>\n",
       "      <td>2.0</td>\n",
       "      <td>5.0</td>\n",
       "      <td>2.0</td>\n",
       "      <td>75.0</td>\n",
       "    </tr>\n",
       "    <tr>\n",
       "      <th>4</th>\n",
       "      <td>GP</td>\n",
       "      <td>F</td>\n",
       "      <td>16</td>\n",
       "      <td>U</td>\n",
       "      <td>GT3</td>\n",
       "      <td>T</td>\n",
       "      <td>3.0</td>\n",
       "      <td>3.0</td>\n",
       "      <td>other</td>\n",
       "      <td>other</td>\n",
       "      <td>home</td>\n",
       "      <td>father</td>\n",
       "      <td>1.0</td>\n",
       "      <td>2.0</td>\n",
       "      <td>0.0</td>\n",
       "      <td>no</td>\n",
       "      <td>yes</td>\n",
       "      <td>yes</td>\n",
       "      <td>no</td>\n",
       "      <td>yes</td>\n",
       "      <td>-6.0</td>\n",
       "      <td>yes</td>\n",
       "      <td>no</td>\n",
       "      <td>no</td>\n",
       "      <td>4.0</td>\n",
       "      <td>3.0</td>\n",
       "      <td>2.0</td>\n",
       "      <td>5.0</td>\n",
       "      <td>4.0</td>\n",
       "      <td>50.0</td>\n",
       "    </tr>\n",
       "    <tr>\n",
       "      <th>5</th>\n",
       "      <td>GP</td>\n",
       "      <td>M</td>\n",
       "      <td>16</td>\n",
       "      <td>U</td>\n",
       "      <td>LE3</td>\n",
       "      <td>T</td>\n",
       "      <td>4.0</td>\n",
       "      <td>3.0</td>\n",
       "      <td>services</td>\n",
       "      <td>other</td>\n",
       "      <td>reputation</td>\n",
       "      <td>mother</td>\n",
       "      <td>1.0</td>\n",
       "      <td>2.0</td>\n",
       "      <td>0.0</td>\n",
       "      <td>no</td>\n",
       "      <td>yes</td>\n",
       "      <td>yes</td>\n",
       "      <td>yes</td>\n",
       "      <td>yes</td>\n",
       "      <td>-6.0</td>\n",
       "      <td>yes</td>\n",
       "      <td>yes</td>\n",
       "      <td>no</td>\n",
       "      <td>5.0</td>\n",
       "      <td>4.0</td>\n",
       "      <td>2.0</td>\n",
       "      <td>5.0</td>\n",
       "      <td>10.0</td>\n",
       "      <td>75.0</td>\n",
       "    </tr>\n",
       "    <tr>\n",
       "      <th>6</th>\n",
       "      <td>GP</td>\n",
       "      <td>M</td>\n",
       "      <td>16</td>\n",
       "      <td>NaN</td>\n",
       "      <td>LE3</td>\n",
       "      <td>T</td>\n",
       "      <td>2.0</td>\n",
       "      <td>2.0</td>\n",
       "      <td>other</td>\n",
       "      <td>other</td>\n",
       "      <td>home</td>\n",
       "      <td>mother</td>\n",
       "      <td>1.0</td>\n",
       "      <td>2.0</td>\n",
       "      <td>0.0</td>\n",
       "      <td>no</td>\n",
       "      <td>no</td>\n",
       "      <td>no</td>\n",
       "      <td>no</td>\n",
       "      <td>yes</td>\n",
       "      <td>-6.0</td>\n",
       "      <td>yes</td>\n",
       "      <td>yes</td>\n",
       "      <td>no</td>\n",
       "      <td>4.0</td>\n",
       "      <td>4.0</td>\n",
       "      <td>4.0</td>\n",
       "      <td>3.0</td>\n",
       "      <td>0.0</td>\n",
       "      <td>55.0</td>\n",
       "    </tr>\n",
       "    <tr>\n",
       "      <th>7</th>\n",
       "      <td>GP</td>\n",
       "      <td>F</td>\n",
       "      <td>17</td>\n",
       "      <td>U</td>\n",
       "      <td>GT3</td>\n",
       "      <td>A</td>\n",
       "      <td>4.0</td>\n",
       "      <td>4.0</td>\n",
       "      <td>other</td>\n",
       "      <td>teacher</td>\n",
       "      <td>home</td>\n",
       "      <td>mother</td>\n",
       "      <td>2.0</td>\n",
       "      <td>2.0</td>\n",
       "      <td>0.0</td>\n",
       "      <td>yes</td>\n",
       "      <td>yes</td>\n",
       "      <td>no</td>\n",
       "      <td>no</td>\n",
       "      <td>yes</td>\n",
       "      <td>-6.0</td>\n",
       "      <td>yes</td>\n",
       "      <td>no</td>\n",
       "      <td>no</td>\n",
       "      <td>4.0</td>\n",
       "      <td>1.0</td>\n",
       "      <td>4.0</td>\n",
       "      <td>1.0</td>\n",
       "      <td>6.0</td>\n",
       "      <td>30.0</td>\n",
       "    </tr>\n",
       "    <tr>\n",
       "      <th>8</th>\n",
       "      <td>GP</td>\n",
       "      <td>M</td>\n",
       "      <td>15</td>\n",
       "      <td>U</td>\n",
       "      <td>LE3</td>\n",
       "      <td>A</td>\n",
       "      <td>3.0</td>\n",
       "      <td>2.0</td>\n",
       "      <td>services</td>\n",
       "      <td>other</td>\n",
       "      <td>home</td>\n",
       "      <td>mother</td>\n",
       "      <td>1.0</td>\n",
       "      <td>2.0</td>\n",
       "      <td>0.0</td>\n",
       "      <td>no</td>\n",
       "      <td>yes</td>\n",
       "      <td>yes</td>\n",
       "      <td>no</td>\n",
       "      <td>yes</td>\n",
       "      <td>-6.0</td>\n",
       "      <td>yes</td>\n",
       "      <td>yes</td>\n",
       "      <td>no</td>\n",
       "      <td>NaN</td>\n",
       "      <td>2.0</td>\n",
       "      <td>2.0</td>\n",
       "      <td>1.0</td>\n",
       "      <td>0.0</td>\n",
       "      <td>95.0</td>\n",
       "    </tr>\n",
       "    <tr>\n",
       "      <th>9</th>\n",
       "      <td>GP</td>\n",
       "      <td>M</td>\n",
       "      <td>15</td>\n",
       "      <td>U</td>\n",
       "      <td>NaN</td>\n",
       "      <td>NaN</td>\n",
       "      <td>3.0</td>\n",
       "      <td>4.0</td>\n",
       "      <td>other</td>\n",
       "      <td>other</td>\n",
       "      <td>home</td>\n",
       "      <td>mother</td>\n",
       "      <td>1.0</td>\n",
       "      <td>2.0</td>\n",
       "      <td>0.0</td>\n",
       "      <td>no</td>\n",
       "      <td>yes</td>\n",
       "      <td>yes</td>\n",
       "      <td>yes</td>\n",
       "      <td>yes</td>\n",
       "      <td>-6.0</td>\n",
       "      <td>yes</td>\n",
       "      <td>yes</td>\n",
       "      <td>no</td>\n",
       "      <td>5.0</td>\n",
       "      <td>5.0</td>\n",
       "      <td>1.0</td>\n",
       "      <td>5.0</td>\n",
       "      <td>0.0</td>\n",
       "      <td>75.0</td>\n",
       "    </tr>\n",
       "  </tbody>\n",
       "</table>\n",
       "</div>"
      ],
      "text/plain": [
       "  school sex  age address famsize Pstatus  Medu  Fedu      Mjob     Fjob  \\\n",
       "0     GP   F   18       U     NaN       A   4.0   4.0   at_home  teacher   \n",
       "1     GP   F   17       U     GT3     NaN   1.0   1.0   at_home    other   \n",
       "2     GP   F   15       U     LE3       T   1.0   1.0   at_home    other   \n",
       "3     GP   F   15       U     GT3       T   4.0   2.0    health      NaN   \n",
       "4     GP   F   16       U     GT3       T   3.0   3.0     other    other   \n",
       "5     GP   M   16       U     LE3       T   4.0   3.0  services    other   \n",
       "6     GP   M   16     NaN     LE3       T   2.0   2.0     other    other   \n",
       "7     GP   F   17       U     GT3       A   4.0   4.0     other  teacher   \n",
       "8     GP   M   15       U     LE3       A   3.0   2.0  services    other   \n",
       "9     GP   M   15       U     NaN     NaN   3.0   4.0     other    other   \n",
       "\n",
       "       reason guardian  traveltime  studytime  failures schoolsup famsup paid  \\\n",
       "0      course   mother         2.0        2.0       0.0       yes     no   no   \n",
       "1      course   father         1.0        2.0       0.0        no    yes   no   \n",
       "2       other   mother         1.0        2.0       3.0       yes     no  NaN   \n",
       "3        home   mother         1.0        3.0       0.0        no    yes  yes   \n",
       "4        home   father         1.0        2.0       0.0        no    yes  yes   \n",
       "5  reputation   mother         1.0        2.0       0.0        no    yes  yes   \n",
       "6        home   mother         1.0        2.0       0.0        no     no   no   \n",
       "7        home   mother         2.0        2.0       0.0       yes    yes   no   \n",
       "8        home   mother         1.0        2.0       0.0        no    yes  yes   \n",
       "9        home   mother         1.0        2.0       0.0        no    yes  yes   \n",
       "\n",
       "  activities nursery  studytime, granular higher internet romantic  famrel  \\\n",
       "0         no     yes                 -6.0    yes      NaN       no     4.0   \n",
       "1         no      no                 -6.0    yes      yes       no     5.0   \n",
       "2         no     yes                 -6.0    yes      yes      NaN     4.0   \n",
       "3        yes     yes                 -9.0    yes      yes      yes     3.0   \n",
       "4         no     yes                 -6.0    yes       no       no     4.0   \n",
       "5        yes     yes                 -6.0    yes      yes       no     5.0   \n",
       "6         no     yes                 -6.0    yes      yes       no     4.0   \n",
       "7         no     yes                 -6.0    yes       no       no     4.0   \n",
       "8         no     yes                 -6.0    yes      yes       no     NaN   \n",
       "9        yes     yes                 -6.0    yes      yes       no     5.0   \n",
       "\n",
       "   freetime  goout  health  absences  score  \n",
       "0       3.0    4.0     3.0       6.0   30.0  \n",
       "1       3.0    3.0     3.0       4.0   30.0  \n",
       "2       3.0    2.0     3.0      10.0   50.0  \n",
       "3       2.0    2.0     5.0       2.0   75.0  \n",
       "4       3.0    2.0     5.0       4.0   50.0  \n",
       "5       4.0    2.0     5.0      10.0   75.0  \n",
       "6       4.0    4.0     3.0       0.0   55.0  \n",
       "7       1.0    4.0     1.0       6.0   30.0  \n",
       "8       2.0    2.0     1.0       0.0   95.0  \n",
       "9       5.0    1.0     5.0       0.0   75.0  "
      ]
     },
     "execution_count": 5,
     "metadata": {},
     "output_type": "execute_result"
    }
   ],
   "source": [
    "print(\"А теперь взглянем на наш датасет, выведем первые 10 строк\")\n",
    "df.head(10)"
   ]
  },
  {
   "cell_type": "markdown",
   "id": "49addfd1",
   "metadata": {},
   "source": [
    "Проверим датасет на наличие пустых значений."
   ]
  },
  {
   "cell_type": "code",
   "execution_count": 6,
   "id": "584ff790",
   "metadata": {},
   "outputs": [],
   "source": [
    "#  Для начала получим список столбцов, которые имеют тип object\n",
    "object_col = [] \n",
    "for i in df:\n",
    "    if df[i].dtypes == \"object\": object_col.append(i)"
   ]
  },
  {
   "cell_type": "code",
   "execution_count": 7,
   "id": "86ebbfe0",
   "metadata": {},
   "outputs": [],
   "source": [
    "#-----------------------------------------------------------------------\n",
    "# Преобразовываем все пустые значение и None\n",
    "for i in object_col:\n",
    "    df[i] = df[i].apply(lambda x: None if str(x).split() == \"\" else\n",
    "                        None if str(x).lower() == \"Nan\" else x)"
   ]
  },
  {
   "cell_type": "code",
   "execution_count": 8,
   "id": "5f6780e8",
   "metadata": {},
   "outputs": [
    {
     "data": {
      "text/html": [
       "<div>\n",
       "<style scoped>\n",
       "    .dataframe tbody tr th:only-of-type {\n",
       "        vertical-align: middle;\n",
       "    }\n",
       "\n",
       "    .dataframe tbody tr th {\n",
       "        vertical-align: top;\n",
       "    }\n",
       "\n",
       "    .dataframe thead th {\n",
       "        text-align: right;\n",
       "    }\n",
       "</style>\n",
       "<table border=\"1\" class=\"dataframe\">\n",
       "  <thead>\n",
       "    <tr style=\"text-align: right;\">\n",
       "      <th></th>\n",
       "      <th>school</th>\n",
       "      <th>sex</th>\n",
       "      <th>age</th>\n",
       "      <th>address</th>\n",
       "      <th>famsize</th>\n",
       "      <th>Pstatus</th>\n",
       "      <th>Medu</th>\n",
       "      <th>Fedu</th>\n",
       "      <th>Mjob</th>\n",
       "      <th>Fjob</th>\n",
       "      <th>reason</th>\n",
       "      <th>guardian</th>\n",
       "      <th>traveltime</th>\n",
       "      <th>studytime</th>\n",
       "      <th>failures</th>\n",
       "      <th>schoolsup</th>\n",
       "      <th>famsup</th>\n",
       "      <th>paid</th>\n",
       "      <th>activities</th>\n",
       "      <th>nursery</th>\n",
       "      <th>studytime, granular</th>\n",
       "      <th>higher</th>\n",
       "      <th>internet</th>\n",
       "      <th>romantic</th>\n",
       "      <th>famrel</th>\n",
       "      <th>freetime</th>\n",
       "      <th>goout</th>\n",
       "      <th>health</th>\n",
       "      <th>absences</th>\n",
       "      <th>score</th>\n",
       "    </tr>\n",
       "  </thead>\n",
       "  <tbody>\n",
       "    <tr>\n",
       "      <th>0</th>\n",
       "      <td>GP</td>\n",
       "      <td>F</td>\n",
       "      <td>18</td>\n",
       "      <td>U</td>\n",
       "      <td>NaN</td>\n",
       "      <td>A</td>\n",
       "      <td>4.0</td>\n",
       "      <td>4.0</td>\n",
       "      <td>at_home</td>\n",
       "      <td>teacher</td>\n",
       "      <td>course</td>\n",
       "      <td>mother</td>\n",
       "      <td>2.0</td>\n",
       "      <td>2.0</td>\n",
       "      <td>0.0</td>\n",
       "      <td>yes</td>\n",
       "      <td>no</td>\n",
       "      <td>no</td>\n",
       "      <td>no</td>\n",
       "      <td>yes</td>\n",
       "      <td>-6.0</td>\n",
       "      <td>yes</td>\n",
       "      <td>NaN</td>\n",
       "      <td>no</td>\n",
       "      <td>4.0</td>\n",
       "      <td>3.0</td>\n",
       "      <td>4.0</td>\n",
       "      <td>3.0</td>\n",
       "      <td>6.0</td>\n",
       "      <td>30.0</td>\n",
       "    </tr>\n",
       "    <tr>\n",
       "      <th>1</th>\n",
       "      <td>GP</td>\n",
       "      <td>F</td>\n",
       "      <td>17</td>\n",
       "      <td>U</td>\n",
       "      <td>GT3</td>\n",
       "      <td>NaN</td>\n",
       "      <td>1.0</td>\n",
       "      <td>1.0</td>\n",
       "      <td>at_home</td>\n",
       "      <td>other</td>\n",
       "      <td>course</td>\n",
       "      <td>father</td>\n",
       "      <td>1.0</td>\n",
       "      <td>2.0</td>\n",
       "      <td>0.0</td>\n",
       "      <td>no</td>\n",
       "      <td>yes</td>\n",
       "      <td>no</td>\n",
       "      <td>no</td>\n",
       "      <td>no</td>\n",
       "      <td>-6.0</td>\n",
       "      <td>yes</td>\n",
       "      <td>yes</td>\n",
       "      <td>no</td>\n",
       "      <td>5.0</td>\n",
       "      <td>3.0</td>\n",
       "      <td>3.0</td>\n",
       "      <td>3.0</td>\n",
       "      <td>4.0</td>\n",
       "      <td>30.0</td>\n",
       "    </tr>\n",
       "    <tr>\n",
       "      <th>2</th>\n",
       "      <td>GP</td>\n",
       "      <td>F</td>\n",
       "      <td>15</td>\n",
       "      <td>U</td>\n",
       "      <td>LE3</td>\n",
       "      <td>T</td>\n",
       "      <td>1.0</td>\n",
       "      <td>1.0</td>\n",
       "      <td>at_home</td>\n",
       "      <td>other</td>\n",
       "      <td>other</td>\n",
       "      <td>mother</td>\n",
       "      <td>1.0</td>\n",
       "      <td>2.0</td>\n",
       "      <td>3.0</td>\n",
       "      <td>yes</td>\n",
       "      <td>no</td>\n",
       "      <td>NaN</td>\n",
       "      <td>no</td>\n",
       "      <td>yes</td>\n",
       "      <td>-6.0</td>\n",
       "      <td>yes</td>\n",
       "      <td>yes</td>\n",
       "      <td>NaN</td>\n",
       "      <td>4.0</td>\n",
       "      <td>3.0</td>\n",
       "      <td>2.0</td>\n",
       "      <td>3.0</td>\n",
       "      <td>10.0</td>\n",
       "      <td>50.0</td>\n",
       "    </tr>\n",
       "    <tr>\n",
       "      <th>3</th>\n",
       "      <td>GP</td>\n",
       "      <td>F</td>\n",
       "      <td>15</td>\n",
       "      <td>U</td>\n",
       "      <td>GT3</td>\n",
       "      <td>T</td>\n",
       "      <td>4.0</td>\n",
       "      <td>2.0</td>\n",
       "      <td>health</td>\n",
       "      <td>NaN</td>\n",
       "      <td>home</td>\n",
       "      <td>mother</td>\n",
       "      <td>1.0</td>\n",
       "      <td>3.0</td>\n",
       "      <td>0.0</td>\n",
       "      <td>no</td>\n",
       "      <td>yes</td>\n",
       "      <td>yes</td>\n",
       "      <td>yes</td>\n",
       "      <td>yes</td>\n",
       "      <td>-9.0</td>\n",
       "      <td>yes</td>\n",
       "      <td>yes</td>\n",
       "      <td>yes</td>\n",
       "      <td>3.0</td>\n",
       "      <td>2.0</td>\n",
       "      <td>2.0</td>\n",
       "      <td>5.0</td>\n",
       "      <td>2.0</td>\n",
       "      <td>75.0</td>\n",
       "    </tr>\n",
       "    <tr>\n",
       "      <th>4</th>\n",
       "      <td>GP</td>\n",
       "      <td>F</td>\n",
       "      <td>16</td>\n",
       "      <td>U</td>\n",
       "      <td>GT3</td>\n",
       "      <td>T</td>\n",
       "      <td>3.0</td>\n",
       "      <td>3.0</td>\n",
       "      <td>other</td>\n",
       "      <td>other</td>\n",
       "      <td>home</td>\n",
       "      <td>father</td>\n",
       "      <td>1.0</td>\n",
       "      <td>2.0</td>\n",
       "      <td>0.0</td>\n",
       "      <td>no</td>\n",
       "      <td>yes</td>\n",
       "      <td>yes</td>\n",
       "      <td>no</td>\n",
       "      <td>yes</td>\n",
       "      <td>-6.0</td>\n",
       "      <td>yes</td>\n",
       "      <td>no</td>\n",
       "      <td>no</td>\n",
       "      <td>4.0</td>\n",
       "      <td>3.0</td>\n",
       "      <td>2.0</td>\n",
       "      <td>5.0</td>\n",
       "      <td>4.0</td>\n",
       "      <td>50.0</td>\n",
       "    </tr>\n",
       "  </tbody>\n",
       "</table>\n",
       "</div>"
      ],
      "text/plain": [
       "  school sex  age address famsize Pstatus  Medu  Fedu     Mjob     Fjob  \\\n",
       "0     GP   F   18       U     NaN       A   4.0   4.0  at_home  teacher   \n",
       "1     GP   F   17       U     GT3     NaN   1.0   1.0  at_home    other   \n",
       "2     GP   F   15       U     LE3       T   1.0   1.0  at_home    other   \n",
       "3     GP   F   15       U     GT3       T   4.0   2.0   health      NaN   \n",
       "4     GP   F   16       U     GT3       T   3.0   3.0    other    other   \n",
       "\n",
       "   reason guardian  traveltime  studytime  failures schoolsup famsup paid  \\\n",
       "0  course   mother         2.0        2.0       0.0       yes     no   no   \n",
       "1  course   father         1.0        2.0       0.0        no    yes   no   \n",
       "2   other   mother         1.0        2.0       3.0       yes     no  NaN   \n",
       "3    home   mother         1.0        3.0       0.0        no    yes  yes   \n",
       "4    home   father         1.0        2.0       0.0        no    yes  yes   \n",
       "\n",
       "  activities nursery  studytime, granular higher internet romantic  famrel  \\\n",
       "0         no     yes                 -6.0    yes      NaN       no     4.0   \n",
       "1         no      no                 -6.0    yes      yes       no     5.0   \n",
       "2         no     yes                 -6.0    yes      yes      NaN     4.0   \n",
       "3        yes     yes                 -9.0    yes      yes      yes     3.0   \n",
       "4         no     yes                 -6.0    yes       no       no     4.0   \n",
       "\n",
       "   freetime  goout  health  absences  score  \n",
       "0       3.0    4.0     3.0       6.0   30.0  \n",
       "1       3.0    3.0     3.0       4.0   30.0  \n",
       "2       3.0    2.0     3.0      10.0   50.0  \n",
       "3       2.0    2.0     5.0       2.0   75.0  \n",
       "4       3.0    2.0     5.0       4.0   50.0  "
      ]
     },
     "execution_count": 8,
     "metadata": {},
     "output_type": "execute_result"
    }
   ],
   "source": [
    "df.head()"
   ]
  },
  {
   "cell_type": "code",
   "execution_count": 9,
   "id": "ad0ab45e",
   "metadata": {},
   "outputs": [
    {
     "name": "stdout",
     "output_type": "stream",
     "text": [
      "Проверим сколько пропущенных значений стало\n"
     ]
    },
    {
     "data": {
      "text/plain": [
       "address                17\n",
       "famsize                27\n",
       "Pstatus                45\n",
       "Medu                    3\n",
       "Fedu                   24\n",
       "Mjob                   19\n",
       "Fjob                   36\n",
       "reason                 17\n",
       "guardian               31\n",
       "traveltime             28\n",
       "studytime               7\n",
       "failures               22\n",
       "schoolsup               9\n",
       "famsup                 39\n",
       "paid                   40\n",
       "activities             14\n",
       "nursery                16\n",
       "studytime, granular     7\n",
       "higher                 20\n",
       "internet               34\n",
       "romantic               31\n",
       "famrel                 27\n",
       "freetime               11\n",
       "goout                   8\n",
       "health                 15\n",
       "absences               12\n",
       "score                   6\n",
       "dtype: int64"
      ]
     },
     "execution_count": 9,
     "metadata": {},
     "output_type": "execute_result"
    }
   ],
   "source": [
    "print(\"Проверим сколько пропущенных значений стало\")\n",
    "null_data_2 = df.isnull().sum()\n",
    "null_data_2[null_data_2 > 0]"
   ]
  },
  {
   "cell_type": "markdown",
   "id": "08c929a7",
   "metadata": {},
   "source": [
    "Явным образом видно, что у нас нету столбцов где пропуски составляют более 40% от данных."
   ]
  },
  {
   "cell_type": "markdown",
   "id": "95deefec",
   "metadata": {},
   "source": [
    "Узнаем, сколько строк у нас имеют хотя бы один пропуск."
   ]
  },
  {
   "cell_type": "code",
   "execution_count": 10,
   "id": "03229827",
   "metadata": {
    "scrolled": true
   },
   "outputs": [
    {
     "data": {
      "text/plain": [
       "(298, 30)"
      ]
     },
     "execution_count": 10,
     "metadata": {},
     "output_type": "execute_result"
    }
   ],
   "source": [
    "df[df.isnull().any(axis=1)].shape"
   ]
  },
  {
   "cell_type": "markdown",
   "id": "e6c573c8",
   "metadata": {},
   "source": [
    "298 строк из 395 содержать пустые значение... Мы не можем себе позволить необдуманно удалить все строки где есть хотя бы один пропуск..."
   ]
  },
  {
   "cell_type": "code",
   "execution_count": 11,
   "id": "ec613bd4",
   "metadata": {},
   "outputs": [
    {
     "name": "stdout",
     "output_type": "stream",
     "text": [
      "Проверим, увеличилось ли количество пустых ячеек \n"
     ]
    },
    {
     "data": {
      "text/plain": [
       "school                 0\n",
       "sex                    0\n",
       "age                    0\n",
       "address                0\n",
       "famsize                0\n",
       "Pstatus                0\n",
       "Medu                   0\n",
       "Fedu                   0\n",
       "Mjob                   0\n",
       "Fjob                   0\n",
       "reason                 0\n",
       "guardian               0\n",
       "traveltime             0\n",
       "studytime              0\n",
       "failures               0\n",
       "schoolsup              0\n",
       "famsup                 0\n",
       "paid                   0\n",
       "activities             0\n",
       "nursery                0\n",
       "studytime, granular    0\n",
       "higher                 0\n",
       "internet               0\n",
       "romantic               0\n",
       "famrel                 0\n",
       "freetime               0\n",
       "goout                  0\n",
       "health                 0\n",
       "absences               0\n",
       "score                  0\n",
       "dtype: int64"
      ]
     },
     "execution_count": 11,
     "metadata": {},
     "output_type": "execute_result"
    }
   ],
   "source": [
    "# -----------------------------------------------------------------------\n",
    "print(\"Проверим, увеличилось ли количество пустых ячеек \")\n",
    "null_data_2 - null_data_1"
   ]
  },
  {
   "cell_type": "markdown",
   "id": "a462bc2e",
   "metadata": {},
   "source": [
    "Ничего не изменилось... Нам повезло с данными :)"
   ]
  },
  {
   "cell_type": "markdown",
   "id": "5bde2330",
   "metadata": {},
   "source": [
    "# Раздел 2. Смотрим распределение признака для числовых переменным, устраняем выбросы."
   ]
  },
  {
   "cell_type": "markdown",
   "id": "a8271428",
   "metadata": {},
   "source": [
    "Прибегнем к инфо, что бы посмотреть какие числовые данные используются."
   ]
  },
  {
   "cell_type": "code",
   "execution_count": 12,
   "id": "0e978d01",
   "metadata": {},
   "outputs": [
    {
     "name": "stdout",
     "output_type": "stream",
     "text": [
      "<class 'pandas.core.frame.DataFrame'>\n",
      "RangeIndex: 395 entries, 0 to 394\n",
      "Data columns (total 30 columns):\n",
      " #   Column               Non-Null Count  Dtype  \n",
      "---  ------               --------------  -----  \n",
      " 0   school               395 non-null    object \n",
      " 1   sex                  395 non-null    object \n",
      " 2   age                  395 non-null    int64  \n",
      " 3   address              378 non-null    object \n",
      " 4   famsize              368 non-null    object \n",
      " 5   Pstatus              350 non-null    object \n",
      " 6   Medu                 392 non-null    float64\n",
      " 7   Fedu                 371 non-null    float64\n",
      " 8   Mjob                 376 non-null    object \n",
      " 9   Fjob                 359 non-null    object \n",
      " 10  reason               378 non-null    object \n",
      " 11  guardian             364 non-null    object \n",
      " 12  traveltime           367 non-null    float64\n",
      " 13  studytime            388 non-null    float64\n",
      " 14  failures             373 non-null    float64\n",
      " 15  schoolsup            386 non-null    object \n",
      " 16  famsup               356 non-null    object \n",
      " 17  paid                 355 non-null    object \n",
      " 18  activities           381 non-null    object \n",
      " 19  nursery              379 non-null    object \n",
      " 20  studytime, granular  388 non-null    float64\n",
      " 21  higher               375 non-null    object \n",
      " 22  internet             361 non-null    object \n",
      " 23  romantic             364 non-null    object \n",
      " 24  famrel               368 non-null    float64\n",
      " 25  freetime             384 non-null    float64\n",
      " 26  goout                387 non-null    float64\n",
      " 27  health               380 non-null    float64\n",
      " 28  absences             383 non-null    float64\n",
      " 29  score                389 non-null    float64\n",
      "dtypes: float64(12), int64(1), object(17)\n",
      "memory usage: 92.7+ KB\n"
     ]
    }
   ],
   "source": [
    "df.info()"
   ]
  },
  {
   "cell_type": "markdown",
   "id": "4dfcbe96",
   "metadata": {},
   "source": [
    "Выше можно увидеть, что используется только два типа числовых данные - int64 и float64.  \n",
    "Напишем маленькой код, который автоматически соберет название колонок для нас."
   ]
  },
  {
   "cell_type": "code",
   "execution_count": 13,
   "id": "c7af1d28",
   "metadata": {},
   "outputs": [],
   "source": [
    "# -----------------------------------------------------------------------\n",
    "numeric_col = []\n",
    "for i in df:\n",
    "    if df[i].dtypes == \"int64\" or df[i].dtypes == \"float64\":\n",
    "        numeric_col.append(i)"
   ]
  },
  {
   "cell_type": "markdown",
   "id": "0cc78cd8",
   "metadata": {},
   "source": [
    "Посмотрим на результат. "
   ]
  },
  {
   "cell_type": "code",
   "execution_count": 14,
   "id": "b536352c",
   "metadata": {
    "scrolled": true
   },
   "outputs": [
    {
     "data": {
      "text/plain": [
       "['age',\n",
       " 'Medu',\n",
       " 'Fedu',\n",
       " 'traveltime',\n",
       " 'studytime',\n",
       " 'failures',\n",
       " 'studytime, granular',\n",
       " 'famrel',\n",
       " 'freetime',\n",
       " 'goout',\n",
       " 'health',\n",
       " 'absences',\n",
       " 'score']"
      ]
     },
     "execution_count": 14,
     "metadata": {},
     "output_type": "execute_result"
    }
   ],
   "source": [
    "numeric_col"
   ]
  },
  {
   "cell_type": "markdown",
   "id": "eb880f7d",
   "metadata": {},
   "source": [
    "Так же создадим функцию, чтобы одной строкой кода выводить все графики и числовые значения.\n",
    "В связи с тем, что мы работаем только со смешанными типами переменными, воспользуемся графиком countplot."
   ]
  },
  {
   "cell_type": "code",
   "execution_count": 15,
   "id": "681fadc2",
   "metadata": {},
   "outputs": [],
   "source": [
    "# -----------------------------------------------------------------------\n",
    "def look_at_col(df, col_name):\n",
    "    '''Данная функция принимает в качестве аргументов датасет и название\n",
    "    колонки в str формате, и возвращает уникальные значение, моду,\n",
    "    так же гистограмму и discribe по отношению к указанному столбцу\n",
    "    '''\n",
    "\n",
    "    print(f\"Анализируем столбец {col_name} \")\n",
    "    print(f\"Уникальные значения : {df[col_name].unique()}\")\n",
    "    print(\"---------------------------------------------------------\")\n",
    "    print(f\"Кол-во нулевых значений {df[col_name].isnull().sum()} \")\n",
    "    print(\"Мода -\", df[col_name].mode())\n",
    "    print(df[col_name].describe())\n",
    "    \n",
    "    ax = sns.countplot(x=col_name, data=df)\n",
    "    plt.title(f'Гистограмма к столбцу {col_name}')\n",
    "    plt.ylabel(\"Количество\")\n",
    "    ax.tick_params(axis='x', labelrotation=90)"
   ]
  },
  {
   "cell_type": "code",
   "execution_count": 16,
   "id": "a426189e",
   "metadata": {
    "scrolled": true
   },
   "outputs": [
    {
     "name": "stdout",
     "output_type": "stream",
     "text": [
      "Анализируем столбец age \n",
      "Уникальные значения : [18 17 15 16 19 22 20 21]\n",
      "---------------------------------------------------------\n",
      "Кол-во нулевых значений 0 \n",
      "Мода - 0    16\n",
      "dtype: int64\n",
      "count    395.000000\n",
      "mean      16.696203\n",
      "std        1.276043\n",
      "min       15.000000\n",
      "25%       16.000000\n",
      "50%       17.000000\n",
      "75%       18.000000\n",
      "max       22.000000\n",
      "Name: age, dtype: float64\n"
     ]
    },
    {
     "data": {
      "image/png": "[encoded data removed]",
      "text/plain": [
       "<Figure size 432x288 with 1 Axes>"
      ]
     },
     "metadata": {
      "needs_background": "light"
     },
     "output_type": "display_data"
    }
   ],
   "source": [
    "look_at_col(df, numeric_col[0])"
   ]
  },
  {
   "cell_type": "markdown",
   "id": "e98a5b85",
   "metadata": {},
   "source": [
    "Условие к столбцу:  \n",
    "age — возраст ученика (от 15 до 22).  \n",
    "\n",
    "Вывод:  \n",
    "В соответствии с условием, выбросы не обнаружены.  \n",
    "В выборке большая половина учащихся в возрасте от 15 до 17 лет."
   ]
  },
  {
   "cell_type": "markdown",
   "id": "fb9da2d8",
   "metadata": {},
   "source": [
    "### Анализируем столбец Medu."
   ]
  },
  {
   "cell_type": "code",
   "execution_count": 17,
   "id": "d9a72dcc",
   "metadata": {},
   "outputs": [
    {
     "name": "stdout",
     "output_type": "stream",
     "text": [
      "Анализируем столбец Medu \n",
      "Уникальные значения : [ 4.  1.  3.  2. nan  0.]\n",
      "---------------------------------------------------------\n",
      "Кол-во нулевых значений 3 \n",
      "Мода - 0    4.0\n",
      "dtype: float64\n",
      "count    392.000000\n",
      "mean       2.750000\n",
      "std        1.098127\n",
      "min        0.000000\n",
      "25%        2.000000\n",
      "50%        3.000000\n",
      "75%        4.000000\n",
      "max        4.000000\n",
      "Name: Medu, dtype: float64\n"
     ]
    },
    {
     "data": {
      "image/png": "[encoded data removed]",
      "text/plain": [
       "<Figure size 432x288 with 1 Axes>"
      ]
     },
     "metadata": {
      "needs_background": "light"
     },
     "output_type": "display_data"
    }
   ],
   "source": [
    "look_at_col(df, numeric_col[1])"
   ]
  },
  {
   "cell_type": "markdown",
   "id": "35e463ca",
   "metadata": {},
   "source": [
    "Вспоминаем условие.   \n",
    "Medu — образование матери (0 - нет, 1 - 4 класса, 2 - 5-9 классы, 3 - среднее специальное или 11 классов, 4 - высшее)  \n",
    "\n",
    "Вывод:  \n",
    "В соответствии с условием, выбросы не обнаружены.  \n",
    "У большинства матерей образование высшее. Весьма интересно, что матерей с неполным высшим образованием больше, чем с средне специальное образованием.\n"
   ]
  },
  {
   "cell_type": "markdown",
   "id": "9690768f",
   "metadata": {},
   "source": [
    "### Анализируем столбец Fedu."
   ]
  },
  {
   "cell_type": "code",
   "execution_count": 18,
   "id": "d8c7bb06",
   "metadata": {},
   "outputs": [
    {
     "name": "stdout",
     "output_type": "stream",
     "text": [
      "Анализируем столбец Fedu \n",
      "Уникальные значения : [ 4.  1.  2.  3. 40. nan  0.]\n",
      "---------------------------------------------------------\n",
      "Кол-во нулевых значений 24 \n",
      "Мода - 0    2.0\n",
      "dtype: float64\n",
      "count    371.000000\n",
      "mean       2.614555\n",
      "std        2.228732\n",
      "min        0.000000\n",
      "25%        2.000000\n",
      "50%        2.000000\n",
      "75%        3.000000\n",
      "max       40.000000\n",
      "Name: Fedu, dtype: float64\n"
     ]
    },
    {
     "data": {
      "image/png": "[encoded data removed]",
      "text/plain": [
       "<Figure size 432x288 with 1 Axes>"
      ]
     },
     "metadata": {
      "needs_background": "light"
     },
     "output_type": "display_data"
    }
   ],
   "source": [
    "look_at_col(df, numeric_col[2])"
   ]
  },
  {
   "cell_type": "markdown",
   "id": "14ee9b4d",
   "metadata": {},
   "source": [
    "Условие к столбцу:  \n",
    "Fedu — образование отца (0 - нет, 1 - 4 класса, 2 - 5-9 классы, 3 - среднее специальное или 11 классов, 4 - высшее)  \n",
    "\n",
    "Сразу видим выбросы. У нас появились значение равное 40, что противоречит нашему условию.  \n",
    "Взглянем на выбросы подробнее"
   ]
  },
  {
   "cell_type": "code",
   "execution_count": 19,
   "id": "e425af74",
   "metadata": {},
   "outputs": [
    {
     "data": {
      "text/html": [
       "<div>\n",
       "<style scoped>\n",
       "    .dataframe tbody tr th:only-of-type {\n",
       "        vertical-align: middle;\n",
       "    }\n",
       "\n",
       "    .dataframe tbody tr th {\n",
       "        vertical-align: top;\n",
       "    }\n",
       "\n",
       "    .dataframe thead th {\n",
       "        text-align: right;\n",
       "    }\n",
       "</style>\n",
       "<table border=\"1\" class=\"dataframe\">\n",
       "  <thead>\n",
       "    <tr style=\"text-align: right;\">\n",
       "      <th></th>\n",
       "      <th>school</th>\n",
       "      <th>sex</th>\n",
       "      <th>age</th>\n",
       "      <th>address</th>\n",
       "      <th>famsize</th>\n",
       "      <th>Pstatus</th>\n",
       "      <th>Medu</th>\n",
       "      <th>Fedu</th>\n",
       "      <th>Mjob</th>\n",
       "      <th>Fjob</th>\n",
       "      <th>reason</th>\n",
       "      <th>guardian</th>\n",
       "      <th>traveltime</th>\n",
       "      <th>studytime</th>\n",
       "      <th>failures</th>\n",
       "      <th>schoolsup</th>\n",
       "      <th>famsup</th>\n",
       "      <th>paid</th>\n",
       "      <th>activities</th>\n",
       "      <th>nursery</th>\n",
       "      <th>studytime, granular</th>\n",
       "      <th>higher</th>\n",
       "      <th>internet</th>\n",
       "      <th>romantic</th>\n",
       "      <th>famrel</th>\n",
       "      <th>freetime</th>\n",
       "      <th>goout</th>\n",
       "      <th>health</th>\n",
       "      <th>absences</th>\n",
       "      <th>score</th>\n",
       "    </tr>\n",
       "  </thead>\n",
       "  <tbody>\n",
       "    <tr>\n",
       "      <th>11</th>\n",
       "      <td>GP</td>\n",
       "      <td>F</td>\n",
       "      <td>15</td>\n",
       "      <td>U</td>\n",
       "      <td>GT3</td>\n",
       "      <td>NaN</td>\n",
       "      <td>2.0</td>\n",
       "      <td>40.0</td>\n",
       "      <td>services</td>\n",
       "      <td>other</td>\n",
       "      <td>reputation</td>\n",
       "      <td>father</td>\n",
       "      <td>3.0</td>\n",
       "      <td>3.0</td>\n",
       "      <td>0.0</td>\n",
       "      <td>no</td>\n",
       "      <td>yes</td>\n",
       "      <td>no</td>\n",
       "      <td>yes</td>\n",
       "      <td>yes</td>\n",
       "      <td>-9.0</td>\n",
       "      <td>yes</td>\n",
       "      <td>yes</td>\n",
       "      <td>no</td>\n",
       "      <td>5.0</td>\n",
       "      <td>2.0</td>\n",
       "      <td>2.0</td>\n",
       "      <td>4.0</td>\n",
       "      <td>4.0</td>\n",
       "      <td>60.0</td>\n",
       "    </tr>\n",
       "  </tbody>\n",
       "</table>\n",
       "</div>"
      ],
      "text/plain": [
       "   school sex  age address famsize Pstatus  Medu  Fedu      Mjob   Fjob  \\\n",
       "11     GP   F   15       U     GT3     NaN   2.0  40.0  services  other   \n",
       "\n",
       "        reason guardian  traveltime  studytime  failures schoolsup famsup  \\\n",
       "11  reputation   father         3.0        3.0       0.0        no    yes   \n",
       "\n",
       "   paid activities nursery  studytime, granular higher internet romantic  \\\n",
       "11   no        yes     yes                 -9.0    yes      yes       no   \n",
       "\n",
       "    famrel  freetime  goout  health  absences  score  \n",
       "11     5.0       2.0    2.0     4.0       4.0   60.0  "
      ]
     },
     "execution_count": 19,
     "metadata": {},
     "output_type": "execute_result"
    }
   ],
   "source": [
    "df[df.Fedu > 4]"
   ]
  },
  {
   "cell_type": "markdown",
   "id": "3f809268",
   "metadata": {},
   "source": [
    "Обнаружен 1 выброс. Скорее всего кто-то допустил опечатку и ввели 40 вместо 4.  \n",
    "Удалим данный выброс. "
   ]
  },
  {
   "cell_type": "code",
   "execution_count": 20,
   "id": "cb6d1179",
   "metadata": {},
   "outputs": [],
   "source": [
    "df = df.drop(df[df.Fedu > 4].index)"
   ]
  },
  {
   "cell_type": "code",
   "execution_count": 21,
   "id": "b0f69ed6",
   "metadata": {},
   "outputs": [
    {
     "name": "stdout",
     "output_type": "stream",
     "text": [
      "Анализируем столбец Fedu \n",
      "Уникальные значения : [ 4.  1.  2.  3. nan  0.]\n",
      "---------------------------------------------------------\n",
      "Кол-во нулевых значений 24 \n",
      "Мода - 0    2.0\n",
      "dtype: float64\n",
      "count    370.000000\n",
      "mean       2.513514\n",
      "std        1.087540\n",
      "min        0.000000\n",
      "25%        2.000000\n",
      "50%        2.000000\n",
      "75%        3.000000\n",
      "max        4.000000\n",
      "Name: Fedu, dtype: float64\n"
     ]
    },
    {
     "data": {
      "image/png": "[encoded data removed]",
      "text/plain": [
       "<Figure size 432x288 with 1 Axes>"
      ]
     },
     "metadata": {
      "needs_background": "light"
     },
     "output_type": "display_data"
    }
   ],
   "source": [
    "look_at_col(df, numeric_col[2])"
   ]
  },
  {
   "cell_type": "markdown",
   "id": "405532b4",
   "metadata": {},
   "source": [
    "Вывод:  \n",
    "Отметим, что в данной выборке образование у мужчин ниже чему у женщин."
   ]
  },
  {
   "cell_type": "markdown",
   "id": "188ca82e",
   "metadata": {},
   "source": [
    "### Анализируем столбец traveltime."
   ]
  },
  {
   "cell_type": "code",
   "execution_count": 22,
   "id": "00ffc666",
   "metadata": {},
   "outputs": [
    {
     "name": "stdout",
     "output_type": "stream",
     "text": [
      "Анализируем столбец traveltime \n",
      "Уникальные значения : [ 2.  1.  3. nan  4.]\n",
      "---------------------------------------------------------\n",
      "Кол-во нулевых значений 28 \n",
      "Мода - 0    1.0\n",
      "dtype: float64\n",
      "count    366.000000\n",
      "mean       1.434426\n",
      "std        0.690297\n",
      "min        1.000000\n",
      "25%        1.000000\n",
      "50%        1.000000\n",
      "75%        2.000000\n",
      "max        4.000000\n",
      "Name: traveltime, dtype: float64\n"
     ]
    },
    {
     "data": {
      "image/png": "[encoded data removed]",
      "text/plain": [
       "<Figure size 432x288 with 1 Axes>"
      ]
     },
     "metadata": {
      "needs_background": "light"
     },
     "output_type": "display_data"
    }
   ],
   "source": [
    "look_at_col(df, numeric_col[3])"
   ]
  },
  {
   "cell_type": "markdown",
   "id": "a4585304",
   "metadata": {},
   "source": [
    "Условие к столбцу:  \n",
    "traveltime — время в пути до школы (1 - <15 мин., 2 - 15-30 мин., 3 - 30-60 мин., 4 - >60 мин.)\n",
    "\n",
    "Вывод:\n",
    "В соответствии с условием, выбросы не обнаружены.  \n",
    "На графике видно, что в выборке много учеников живут в относительной близости от школы."
   ]
  },
  {
   "cell_type": "markdown",
   "id": "66d4aed4",
   "metadata": {},
   "source": [
    "### Анализируем столбец studytime."
   ]
  },
  {
   "cell_type": "code",
   "execution_count": 23,
   "id": "53880e65",
   "metadata": {},
   "outputs": [
    {
     "name": "stdout",
     "output_type": "stream",
     "text": [
      "Анализируем столбец studytime \n",
      "Уникальные значения : [ 2.  3.  1. nan  4.]\n",
      "---------------------------------------------------------\n",
      "Кол-во нулевых значений 7 \n",
      "Мода - 0    2.0\n",
      "dtype: float64\n",
      "count    387.000000\n",
      "mean       2.036176\n",
      "std        0.841744\n",
      "min        1.000000\n",
      "25%        1.000000\n",
      "50%        2.000000\n",
      "75%        2.000000\n",
      "max        4.000000\n",
      "Name: studytime, dtype: float64\n"
     ]
    },
    {
     "data": {
      "image/png": "[encoded data removed]",
      "text/plain": [
       "<Figure size 432x288 with 1 Axes>"
      ]
     },
     "metadata": {
      "needs_background": "light"
     },
     "output_type": "display_data"
    }
   ],
   "source": [
    "look_at_col(df, numeric_col[4])"
   ]
  },
  {
   "cell_type": "markdown",
   "id": "0d3075d3",
   "metadata": {},
   "source": [
    "Условие к столбцу:  \n",
    "**studytime** — время на учёбу помимо школы в неделю (1 - <2 часов, 2 - 2-5 часов, 3 - 5-10 часов, 4 - >10 часов)\n",
    "\n",
    "\n",
    "Вывод:  \n",
    "В соответствии с условием, выбросы не обнаружены.  \n",
    "Заметно, что в среднем ученики в выборке проводят от 2 до 5 часов на дополнительную учебу.  \n",
    "А так же, среднее значение равно медиане и моде."
   ]
  },
  {
   "cell_type": "markdown",
   "id": "71fed26e",
   "metadata": {},
   "source": [
    "### Анализируем столбец failures."
   ]
  },
  {
   "cell_type": "code",
   "execution_count": 24,
   "id": "5b0a46a8",
   "metadata": {},
   "outputs": [
    {
     "name": "stdout",
     "output_type": "stream",
     "text": [
      "Анализируем столбец failures \n",
      "Уникальные значения : [ 0.  3. nan  2.  1.]\n",
      "---------------------------------------------------------\n",
      "Кол-во нулевых значений 22 \n",
      "Мода - 0    0.0\n",
      "dtype: float64\n",
      "count    372.000000\n",
      "mean       0.338710\n",
      "std        0.743929\n",
      "min        0.000000\n",
      "25%        0.000000\n",
      "50%        0.000000\n",
      "75%        0.000000\n",
      "max        3.000000\n",
      "Name: failures, dtype: float64\n"
     ]
    },
    {
     "data": {
      "image/png": "[encoded data removed]",
      "text/plain": [
       "<Figure size 432x288 with 1 Axes>"
      ]
     },
     "metadata": {
      "needs_background": "light"
     },
     "output_type": "display_data"
    }
   ],
   "source": [
    "look_at_col(df, numeric_col[5])"
   ]
  },
  {
   "cell_type": "markdown",
   "id": "59427bc7",
   "metadata": {},
   "source": [
    "\n",
    "Условие к столбцу:  \n",
    "**failures** — количество внеучебных неудач (n, если 1<=n<=3, иначе 0)  \n",
    "\n",
    "Вывод:  \n",
    "В соответствии с условием, выбросы не обнаружены.  \n",
    "Почти все ученики в выборке имеют более 3 неудач.  "
   ]
  },
  {
   "cell_type": "markdown",
   "id": "5d2f1aed",
   "metadata": {},
   "source": [
    "Вероятность, что количество неудач в 15-летнем возрасте равно 0, стремиться к 0. Поэтому для правильного корреляционного анализа заменим все значения 0 на 4 и назовем её, как количество неудач больше 3.   "
   ]
  },
  {
   "cell_type": "code",
   "execution_count": 25,
   "id": "96f7bd77",
   "metadata": {},
   "outputs": [],
   "source": [
    "df[numeric_col[5]] = df[numeric_col[5]].apply(lambda x: 4 if x == 0 else x)"
   ]
  },
  {
   "cell_type": "markdown",
   "id": "cc60c1d8",
   "metadata": {},
   "source": [
    "### Анализируем столбец granular."
   ]
  },
  {
   "cell_type": "code",
   "execution_count": 26,
   "id": "ce0db585",
   "metadata": {},
   "outputs": [
    {
     "name": "stdout",
     "output_type": "stream",
     "text": [
      "Анализируем столбец studytime, granular \n",
      "Уникальные значения : [ -6.  -9.  -3.  nan -12.]\n",
      "---------------------------------------------------------\n",
      "Кол-во нулевых значений 7 \n",
      "Мода - 0   -6.0\n",
      "dtype: float64\n",
      "count    387.000000\n",
      "mean      -6.108527\n",
      "std        2.525231\n",
      "min      -12.000000\n",
      "25%       -6.000000\n",
      "50%       -6.000000\n",
      "75%       -3.000000\n",
      "max       -3.000000\n",
      "Name: studytime, granular, dtype: float64\n"
     ]
    },
    {
     "data": {
      "image/png": "[encoded data removed]",
      "text/plain": [
       "<Figure size 432x288 with 1 Axes>"
      ]
     },
     "metadata": {
      "needs_background": "light"
     },
     "output_type": "display_data"
    }
   ],
   "source": [
    "look_at_col(df, numeric_col[6])"
   ]
  },
  {
   "cell_type": "markdown",
   "id": "847e8677",
   "metadata": {},
   "source": [
    "Условие к столбцу:      \n",
    "**studytime, granular**- переменная загадка. Исходя из условий, надо определить имеет она влияние на успеваемость или нет.  \n",
    "\n",
    "Вывод:  \n",
    "В данном случаи в условии не указано какие значения могут примать значения.  \n",
    "Давайте к данному методу построим дополнительный график - ящик с усами."
   ]
  },
  {
   "cell_type": "code",
   "execution_count": 27,
   "id": "595db373",
   "metadata": {},
   "outputs": [
    {
     "data": {
      "text/plain": [
       "<AxesSubplot:xlabel='studytime, granular'>"
      ]
     },
     "execution_count": 27,
     "metadata": {},
     "output_type": "execute_result"
    },
    {
     "data": {
      "image/png": "[encoded data removed]",
      "text/plain": [
       "<Figure size 432x288 with 1 Axes>"
      ]
     },
     "metadata": {
      "needs_background": "light"
     },
     "output_type": "display_data"
    }
   ],
   "source": [
    "sns.boxplot(x=numeric_col[6], data=df)"
   ]
  },
  {
   "cell_type": "markdown",
   "id": "d97f6129",
   "metadata": {},
   "source": [
    "Как видно из графика, значение -12 выходит за границу межквартильного размаха. Однако учитывая что таких значений около 25 можно предположить что это тоже номинативная переменная. \n",
    "\n",
    "Вывод: Выбросы не обнаружены."
   ]
  },
  {
   "cell_type": "markdown",
   "id": "86dc3a59",
   "metadata": {},
   "source": [
    "### Анализируем столбец famrel."
   ]
  },
  {
   "cell_type": "code",
   "execution_count": 28,
   "id": "dd6918c4",
   "metadata": {},
   "outputs": [
    {
     "name": "stdout",
     "output_type": "stream",
     "text": [
      "Анализируем столбец famrel \n",
      "Уникальные значения : [ 4.  5.  3. nan -1.  2.  1.]\n",
      "---------------------------------------------------------\n",
      "Кол-во нулевых значений 27 \n",
      "Мода - 0    4.0\n",
      "dtype: float64\n",
      "count    367.000000\n",
      "mean       3.934605\n",
      "std        0.926876\n",
      "min       -1.000000\n",
      "25%        4.000000\n",
      "50%        4.000000\n",
      "75%        5.000000\n",
      "max        5.000000\n",
      "Name: famrel, dtype: float64\n"
     ]
    },
    {
     "data": {
      "image/png": "[encoded data removed]",
      "text/plain": [
       "<Figure size 432x288 with 1 Axes>"
      ]
     },
     "metadata": {
      "needs_background": "light"
     },
     "output_type": "display_data"
    }
   ],
   "source": [
    "look_at_col(df, numeric_col[7])"
   ]
  },
  {
   "cell_type": "markdown",
   "id": "6df9286a",
   "metadata": {},
   "source": [
    "Условие к столбцу:\n",
    "    \n",
    "**famrel** — семейные отношения (от 1 - очень плохо до 5 - очень хорошо)\n",
    "\n",
    "В соответствии с условием, выбросы все значение ниже 1."
   ]
  },
  {
   "cell_type": "code",
   "execution_count": 29,
   "id": "03464f2d",
   "metadata": {},
   "outputs": [],
   "source": [
    "df = df.drop(df[df.famrel < 0].index)"
   ]
  },
  {
   "cell_type": "markdown",
   "id": "4ed2bd35",
   "metadata": {},
   "source": [
    "Проверим столбец ещё раз."
   ]
  },
  {
   "cell_type": "code",
   "execution_count": 30,
   "id": "43d91a4a",
   "metadata": {},
   "outputs": [
    {
     "name": "stdout",
     "output_type": "stream",
     "text": [
      "Анализируем столбец famrel \n",
      "Уникальные значения : [ 4.  5.  3. nan  2.  1.]\n",
      "---------------------------------------------------------\n",
      "Кол-во нулевых значений 27 \n",
      "Мода - 0    4.0\n",
      "dtype: float64\n",
      "count    366.000000\n",
      "mean       3.948087\n",
      "std        0.891380\n",
      "min        1.000000\n",
      "25%        4.000000\n",
      "50%        4.000000\n",
      "75%        5.000000\n",
      "max        5.000000\n",
      "Name: famrel, dtype: float64\n"
     ]
    },
    {
     "data": {
      "image/png": "[encoded data removed]",
      "text/plain": [
       "<Figure size 432x288 with 1 Axes>"
      ]
     },
     "metadata": {
      "needs_background": "light"
     },
     "output_type": "display_data"
    }
   ],
   "source": [
    "look_at_col(df, numeric_col[7])"
   ]
  },
  {
   "cell_type": "markdown",
   "id": "e9451b59",
   "metadata": {},
   "source": [
    "Вывод:\n",
    "\n",
    "Согласно нашему 25 квантилю, более 75 % учеников имеют 3-(нормальное) и выше показатель отношения в семье."
   ]
  },
  {
   "cell_type": "markdown",
   "id": "f05cc4eb",
   "metadata": {},
   "source": [
    "### Анализируем столбец freetime."
   ]
  },
  {
   "cell_type": "code",
   "execution_count": 31,
   "id": "3bd08024",
   "metadata": {},
   "outputs": [
    {
     "name": "stdout",
     "output_type": "stream",
     "text": [
      "Анализируем столбец freetime \n",
      "Уникальные значения : [ 3.  2.  4.  1.  5. nan]\n",
      "---------------------------------------------------------\n",
      "Кол-во нулевых значений 11 \n",
      "Мода - 0    3.0\n",
      "dtype: float64\n",
      "count    382.000000\n",
      "mean       3.238220\n",
      "std        0.992521\n",
      "min        1.000000\n",
      "25%        3.000000\n",
      "50%        3.000000\n",
      "75%        4.000000\n",
      "max        5.000000\n",
      "Name: freetime, dtype: float64\n"
     ]
    },
    {
     "data": {
      "image/png": "[encoded data removed]",
      "text/plain": [
       "<Figure size 432x288 with 1 Axes>"
      ]
     },
     "metadata": {
      "needs_background": "light"
     },
     "output_type": "display_data"
    }
   ],
   "source": [
    "look_at_col(df, numeric_col[8])"
   ]
  },
  {
   "cell_type": "markdown",
   "id": "650659dc",
   "metadata": {},
   "source": [
    "Условие к столбцу:  \n",
    "**freetime** — свободное время после школы (от 1 - очень мало до 5 - очень много)  \n",
    "\n",
    "Вывод:  \n",
    "В соответствии с условием, выбросы не обнаружены.  \n",
    "Заметно, что в среднем у учеников в выборке от 3 - среднее и выше показатели свободного времени.\n",
    "Среднее значение равно медиане и моде."
   ]
  },
  {
   "cell_type": "markdown",
   "id": "d97c1279",
   "metadata": {},
   "source": [
    "### Анализируем столбец goout."
   ]
  },
  {
   "cell_type": "code",
   "execution_count": 32,
   "id": "e591cdcf",
   "metadata": {},
   "outputs": [
    {
     "name": "stdout",
     "output_type": "stream",
     "text": [
      "Анализируем столбец goout \n",
      "Уникальные значения : [ 4.  3.  2.  1.  5. nan]\n",
      "---------------------------------------------------------\n",
      "Кол-во нулевых значений 8 \n",
      "Мода - 0    3.0\n",
      "dtype: float64\n",
      "count    385.000000\n",
      "mean       3.111688\n",
      "std        1.115933\n",
      "min        1.000000\n",
      "25%        2.000000\n",
      "50%        3.000000\n",
      "75%        4.000000\n",
      "max        5.000000\n",
      "Name: goout, dtype: float64\n"
     ]
    },
    {
     "data": {
      "image/png": "[encoded data removed]",
      "text/plain": [
       "<Figure size 432x288 with 1 Axes>"
      ]
     },
     "metadata": {
      "needs_background": "light"
     },
     "output_type": "display_data"
    }
   ],
   "source": [
    "look_at_col(df, numeric_col[9])"
   ]
  },
  {
   "cell_type": "markdown",
   "id": "38ed13fe",
   "metadata": {},
   "source": [
    "Условие к столбцу:  \n",
    "goout — проведение времени с друзьями (от 1 - очень мало до 5 - очень много)  \n",
    "\n",
    "Вывод:  \n",
    "В соответствии с условием, выбросы не обнаружены.  \n",
    "Заметно, что в среднем у учеников в выборке от 3- среднее и выше показатель времени провождения с друзьями.\n",
    "К слову. График немного напоминает предыдущий. Очевидна зависимость между количеством свободного времени и времени провождения с друзьями. "
   ]
  },
  {
   "cell_type": "markdown",
   "id": "8661d8af",
   "metadata": {},
   "source": [
    "### Анализируем столбец health."
   ]
  },
  {
   "cell_type": "code",
   "execution_count": 33,
   "id": "da521c01",
   "metadata": {},
   "outputs": [
    {
     "name": "stdout",
     "output_type": "stream",
     "text": [
      "Анализируем столбец health \n",
      "Уникальные значения : [ 3.  5.  1.  2.  4. nan]\n",
      "---------------------------------------------------------\n",
      "Кол-во нулевых значений 15 \n",
      "Мода - 0    5.0\n",
      "dtype: float64\n",
      "count    378.000000\n",
      "mean       3.526455\n",
      "std        1.397455\n",
      "min        1.000000\n",
      "25%        3.000000\n",
      "50%        4.000000\n",
      "75%        5.000000\n",
      "max        5.000000\n",
      "Name: health, dtype: float64\n"
     ]
    },
    {
     "data": {
      "image/png": "[encoded data removed]",
      "text/plain": [
       "<Figure size 432x288 with 1 Axes>"
      ]
     },
     "metadata": {
      "needs_background": "light"
     },
     "output_type": "display_data"
    }
   ],
   "source": [
    "look_at_col(df, numeric_col[10])"
   ]
  },
  {
   "cell_type": "markdown",
   "id": "53201eb5",
   "metadata": {},
   "source": [
    "Условие к столбцу:    \n",
    "**health** — текущее состояние здоровья (от 1 - очень плохо до 5 - очень хорошо)\n",
    "\n",
    "Вывод:  \n",
    "В соответствии с условием, выбросы не обнаружены.  \n",
    "Согласно медиане и среднему, большинство учеников в выборке имеют нормальные и выше показатели здоровья.  "
   ]
  },
  {
   "cell_type": "markdown",
   "id": "a1cd81d6",
   "metadata": {},
   "source": [
    "### Анализируем столбец absences ."
   ]
  },
  {
   "cell_type": "code",
   "execution_count": 34,
   "id": "ceca9473",
   "metadata": {},
   "outputs": [
    {
     "name": "stdout",
     "output_type": "stream",
     "text": [
      "Анализируем столбец absences \n",
      "Уникальные значения : [  6.   4.  10.   2.   0.  16.  nan   7.   8.  25.  14.  12.  54.  18.\n",
      "  26.  20.  56.  24.  28.   5.  13.  15.  22.   3. 385.  21.   1.  75.\n",
      "  30.  19.   9.  11.  38.  40.  23.  17. 212.]\n",
      "---------------------------------------------------------\n",
      "Кол-во нулевых значений 12 \n",
      "Мода - 0    0.0\n",
      "dtype: float64\n",
      "count    381.000000\n",
      "mean       7.270341\n",
      "std       23.523737\n",
      "min        0.000000\n",
      "25%        0.000000\n",
      "50%        4.000000\n",
      "75%        8.000000\n",
      "max      385.000000\n",
      "Name: absences, dtype: float64\n"
     ]
    },
    {
     "data": {
      "image/png": "[encoded data removed]",
      "text/plain": [
       "<Figure size 432x288 with 1 Axes>"
      ]
     },
     "metadata": {
      "needs_background": "light"
     },
     "output_type": "display_data"
    }
   ],
   "source": [
    "look_at_col(df, numeric_col[11])"
   ]
  },
  {
   "cell_type": "markdown",
   "id": "3687c360",
   "metadata": {},
   "source": [
    "Условие к столбцу:\n",
    "    \n",
    "absences — количество пропущенных занятий\n",
    "\n",
    "Наблюдается большой разброс значение. Значений меньше 0 нет. Значит выбросы слева у нас отсутствуют. Выведем ящик с усами, для более детального анализа.\n"
   ]
  },
  {
   "cell_type": "code",
   "execution_count": 35,
   "id": "19903fff",
   "metadata": {},
   "outputs": [
    {
     "data": {
      "text/plain": [
       "<AxesSubplot:xlabel='absences'>"
      ]
     },
     "execution_count": 35,
     "metadata": {},
     "output_type": "execute_result"
    },
    {
     "data": {
      "image/png": "[encoded data removed]",
      "text/plain": [
       "<Figure size 432x288 with 1 Axes>"
      ]
     },
     "metadata": {
      "needs_background": "light"
     },
     "output_type": "display_data"
    }
   ],
   "source": [
    "sns.boxplot(x=numeric_col[11], data=df)"
   ]
  },
  {
   "cell_type": "markdown",
   "id": "c65626a3",
   "metadata": {},
   "source": [
    "как видим. У нас очень сильны выбросы со значением > 200, посмотрим на эти данные."
   ]
  },
  {
   "cell_type": "code",
   "execution_count": 36,
   "id": "df2e9c3d",
   "metadata": {},
   "outputs": [
    {
     "data": {
      "text/html": [
       "<div>\n",
       "<style scoped>\n",
       "    .dataframe tbody tr th:only-of-type {\n",
       "        vertical-align: middle;\n",
       "    }\n",
       "\n",
       "    .dataframe tbody tr th {\n",
       "        vertical-align: top;\n",
       "    }\n",
       "\n",
       "    .dataframe thead th {\n",
       "        text-align: right;\n",
       "    }\n",
       "</style>\n",
       "<table border=\"1\" class=\"dataframe\">\n",
       "  <thead>\n",
       "    <tr style=\"text-align: right;\">\n",
       "      <th></th>\n",
       "      <th>school</th>\n",
       "      <th>sex</th>\n",
       "      <th>age</th>\n",
       "      <th>address</th>\n",
       "      <th>famsize</th>\n",
       "      <th>Pstatus</th>\n",
       "      <th>Medu</th>\n",
       "      <th>Fedu</th>\n",
       "      <th>Mjob</th>\n",
       "      <th>Fjob</th>\n",
       "      <th>reason</th>\n",
       "      <th>guardian</th>\n",
       "      <th>traveltime</th>\n",
       "      <th>studytime</th>\n",
       "      <th>failures</th>\n",
       "      <th>schoolsup</th>\n",
       "      <th>famsup</th>\n",
       "      <th>paid</th>\n",
       "      <th>activities</th>\n",
       "      <th>nursery</th>\n",
       "      <th>studytime, granular</th>\n",
       "      <th>higher</th>\n",
       "      <th>internet</th>\n",
       "      <th>romantic</th>\n",
       "      <th>famrel</th>\n",
       "      <th>freetime</th>\n",
       "      <th>goout</th>\n",
       "      <th>health</th>\n",
       "      <th>absences</th>\n",
       "      <th>score</th>\n",
       "    </tr>\n",
       "  </thead>\n",
       "  <tbody>\n",
       "    <tr>\n",
       "      <th>222</th>\n",
       "      <td>GP</td>\n",
       "      <td>F</td>\n",
       "      <td>16</td>\n",
       "      <td>U</td>\n",
       "      <td>GT3</td>\n",
       "      <td>T</td>\n",
       "      <td>2.0</td>\n",
       "      <td>3.0</td>\n",
       "      <td>services</td>\n",
       "      <td>teacher</td>\n",
       "      <td>other</td>\n",
       "      <td>mother</td>\n",
       "      <td>1.0</td>\n",
       "      <td>2.0</td>\n",
       "      <td>4.0</td>\n",
       "      <td>yes</td>\n",
       "      <td>NaN</td>\n",
       "      <td>no</td>\n",
       "      <td>no</td>\n",
       "      <td>yes</td>\n",
       "      <td>-6.0</td>\n",
       "      <td>yes</td>\n",
       "      <td>yes</td>\n",
       "      <td>no</td>\n",
       "      <td>2.0</td>\n",
       "      <td>3.0</td>\n",
       "      <td>1.0</td>\n",
       "      <td>3.0</td>\n",
       "      <td>385.0</td>\n",
       "      <td>85.0</td>\n",
       "    </tr>\n",
       "    <tr>\n",
       "      <th>390</th>\n",
       "      <td>MS</td>\n",
       "      <td>M</td>\n",
       "      <td>20</td>\n",
       "      <td>U</td>\n",
       "      <td>LE3</td>\n",
       "      <td>A</td>\n",
       "      <td>2.0</td>\n",
       "      <td>2.0</td>\n",
       "      <td>services</td>\n",
       "      <td>services</td>\n",
       "      <td>course</td>\n",
       "      <td>NaN</td>\n",
       "      <td>1.0</td>\n",
       "      <td>2.0</td>\n",
       "      <td>2.0</td>\n",
       "      <td>no</td>\n",
       "      <td>yes</td>\n",
       "      <td>yes</td>\n",
       "      <td>no</td>\n",
       "      <td>yes</td>\n",
       "      <td>-6.0</td>\n",
       "      <td>yes</td>\n",
       "      <td>no</td>\n",
       "      <td>no</td>\n",
       "      <td>5.0</td>\n",
       "      <td>5.0</td>\n",
       "      <td>4.0</td>\n",
       "      <td>4.0</td>\n",
       "      <td>212.0</td>\n",
       "      <td>45.0</td>\n",
       "    </tr>\n",
       "  </tbody>\n",
       "</table>\n",
       "</div>"
      ],
      "text/plain": [
       "    school sex  age address famsize Pstatus  Medu  Fedu      Mjob      Fjob  \\\n",
       "222     GP   F   16       U     GT3       T   2.0   3.0  services   teacher   \n",
       "390     MS   M   20       U     LE3       A   2.0   2.0  services  services   \n",
       "\n",
       "     reason guardian  traveltime  studytime  failures schoolsup famsup paid  \\\n",
       "222   other   mother         1.0        2.0       4.0       yes    NaN   no   \n",
       "390  course      NaN         1.0        2.0       2.0        no    yes  yes   \n",
       "\n",
       "    activities nursery  studytime, granular higher internet romantic  famrel  \\\n",
       "222         no     yes                 -6.0    yes      yes       no     2.0   \n",
       "390         no     yes                 -6.0    yes       no       no     5.0   \n",
       "\n",
       "     freetime  goout  health  absences  score  \n",
       "222       3.0    1.0     3.0     385.0   85.0  \n",
       "390       5.0    4.0     4.0     212.0   45.0  "
      ]
     },
     "execution_count": 36,
     "metadata": {},
     "output_type": "execute_result"
    }
   ],
   "source": [
    "df[df[numeric_col[11]] > 200]"
   ]
  },
  {
   "cell_type": "markdown",
   "id": "358ffec3",
   "metadata": {},
   "source": [
    "Исходя из исходных условий, нам не известно максимальное число часов занятий в неделю, т.к. такие сильные выбросы могут очень сильно повлияют на наш дальнейший анализ,  предлагаю заменить данные значения на другой максимальный параметр, который мы потом определим. \n",
    "\n",
    "Так же следуют отметить, что студент 222 имеет довольно-таки высокие баллы по математике. Возможно, это будущий гений, который пропускает занятия по какой-либо причине."
   ]
  },
  {
   "cell_type": "markdown",
   "id": "26eaf4bf",
   "metadata": {},
   "source": [
    "В связи с тем, что данных у нас и так мало, не хотелось бы удалять просто так данные которые выходят за границы межквартильного размаха. \n",
    "Предлагаю посмотреть подробнее глянуть на строки которые попали за межквартальный размах. "
   ]
  },
  {
   "cell_type": "code",
   "execution_count": 37,
   "id": "e4b7feac",
   "metadata": {},
   "outputs": [
    {
     "name": "stdout",
     "output_type": "stream",
     "text": [
      "Верхняя граница межкватрильного размаха равна  12.0\n"
     ]
    }
   ],
   "source": [
    "perc25 = df.absences.quantile(0.25)\n",
    "perc75 = df.absences.quantile(0.75)\n",
    "IQR = perc75 - perc25\n",
    "max_IQR = IQR * 1.5\n",
    "print(\"Верхняя граница межкватрильного размаха равна \", max_IQR)"
   ]
  },
  {
   "cell_type": "code",
   "execution_count": 38,
   "id": "6fac2f93",
   "metadata": {},
   "outputs": [
    {
     "name": "stdout",
     "output_type": "stream",
     "text": [
      "Анализируем столбец absences \n",
      "Уникальные значения : [ 16.  25.  14.  54.  18.  26.  20.  56.  24.  28.  13.  15.  22. 385.\n",
      "  21.  75.  30.  19.  38.  40.  23.  17. 212.]\n",
      "---------------------------------------------------------\n",
      "Кол-во нулевых значений 0 \n",
      "Мода - 0    14.0\n",
      "dtype: float64\n",
      "count     50.000000\n",
      "mean      32.620000\n",
      "std       58.775911\n",
      "min       13.000000\n",
      "25%       14.250000\n",
      "50%       18.000000\n",
      "75%       22.750000\n",
      "max      385.000000\n",
      "Name: absences, dtype: float64\n"
     ]
    },
    {
     "data": {
      "image/png": "[encoded data removed]",
      "text/plain": [
       "<Figure size 432x288 with 1 Axes>"
      ]
     },
     "metadata": {
      "needs_background": "light"
     },
     "output_type": "display_data"
    }
   ],
   "source": [
    "look_at_col(df[df.absences > 12], numeric_col[11])"
   ]
  },
  {
   "cell_type": "markdown",
   "id": "c6409059",
   "metadata": {},
   "source": [
    "Всех учеников которые имеют свыше 40 часов пропусков определим как злостные прогульщики, и объединим их в одну группу и присвоим им значение в 40 часов."
   ]
  },
  {
   "cell_type": "code",
   "execution_count": 39,
   "id": "ef9c927e",
   "metadata": {},
   "outputs": [],
   "source": [
    "df_2 = df.copy()"
   ]
  },
  {
   "cell_type": "code",
   "execution_count": 40,
   "id": "7ec50d78",
   "metadata": {},
   "outputs": [],
   "source": [
    "df_2.loc[(df_2.absences > 40), \"absences\"] = 40"
   ]
  },
  {
   "cell_type": "markdown",
   "id": "0a9ae456",
   "metadata": {},
   "source": [
    "Допускаем возможность, что данные верные.  \n",
    "\n",
    "Вывод.  \n",
    "Только около 90 человек не имеют пропусков, это всего примерно 30 процентов от всех учеников.\n"
   ]
  },
  {
   "cell_type": "markdown",
   "id": "037eedca",
   "metadata": {},
   "source": [
    "### Анализируем столбец score."
   ]
  },
  {
   "cell_type": "code",
   "execution_count": 41,
   "id": "5b2299d1",
   "metadata": {},
   "outputs": [
    {
     "name": "stdout",
     "output_type": "stream",
     "text": [
      "Анализируем столбец score \n",
      "Уникальные значения : [ 30.  50.  75.  55.  95.  45.  70.  80.  25.  60.  40.  85.  90.  65.\n",
      " 100.  35.   0.  nan  20.]\n",
      "---------------------------------------------------------\n",
      "Кол-во нулевых значений 6 \n",
      "Мода - 0    50.0\n",
      "dtype: float64\n",
      "count    387.000000\n",
      "mean      52.273902\n",
      "std       22.966464\n",
      "min        0.000000\n",
      "25%       40.000000\n",
      "50%       55.000000\n",
      "75%       70.000000\n",
      "max      100.000000\n",
      "Name: score, dtype: float64\n"
     ]
    },
    {
     "data": {
      "image/png": "[encoded data removed]",
      "text/plain": [
       "<Figure size 432x288 with 1 Axes>"
      ]
     },
     "metadata": {
      "needs_background": "light"
     },
     "output_type": "display_data"
    }
   ],
   "source": [
    "look_at_col(df_2, numeric_col[12])"
   ]
  },
  {
   "cell_type": "markdown",
   "id": "5590c670",
   "metadata": {},
   "source": [
    "Условие к столбцу:\n",
    "\n",
    "**score** — баллы по госэкзамену по математике.\n",
    "\n",
    "Предполагаем, что максимальный бал по экзамену 100%. В соответствии с данным условием, выбросы не обнаружены.\n",
    "\n",
    "Вывод:\n",
    "В целом график похож на график нормально распределения, кроме 0. Как то с трудов вериться что около 10% от выборки набрали всего 0 баллов.\n"
   ]
  },
  {
   "cell_type": "markdown",
   "id": "b5c20478",
   "metadata": {},
   "source": [
    "Давайте посмотрим на эти данные."
   ]
  },
  {
   "cell_type": "code",
   "execution_count": 42,
   "id": "3d289baa",
   "metadata": {
    "scrolled": false
   },
   "outputs": [],
   "source": [
    "df_score_zero = df_2[df_2.score == 0]"
   ]
  },
  {
   "cell_type": "code",
   "execution_count": 43,
   "id": "faee1418",
   "metadata": {},
   "outputs": [
    {
     "data": {
      "text/html": [
       "<div>\n",
       "<style scoped>\n",
       "    .dataframe tbody tr th:only-of-type {\n",
       "        vertical-align: middle;\n",
       "    }\n",
       "\n",
       "    .dataframe tbody tr th {\n",
       "        vertical-align: top;\n",
       "    }\n",
       "\n",
       "    .dataframe thead th {\n",
       "        text-align: right;\n",
       "    }\n",
       "</style>\n",
       "<table border=\"1\" class=\"dataframe\">\n",
       "  <thead>\n",
       "    <tr style=\"text-align: right;\">\n",
       "      <th></th>\n",
       "      <th>school</th>\n",
       "      <th>sex</th>\n",
       "      <th>age</th>\n",
       "      <th>address</th>\n",
       "      <th>famsize</th>\n",
       "      <th>Pstatus</th>\n",
       "      <th>Medu</th>\n",
       "      <th>Fedu</th>\n",
       "      <th>Mjob</th>\n",
       "      <th>Fjob</th>\n",
       "      <th>reason</th>\n",
       "      <th>guardian</th>\n",
       "      <th>traveltime</th>\n",
       "      <th>studytime</th>\n",
       "      <th>failures</th>\n",
       "      <th>schoolsup</th>\n",
       "      <th>famsup</th>\n",
       "      <th>paid</th>\n",
       "      <th>activities</th>\n",
       "      <th>nursery</th>\n",
       "      <th>studytime, granular</th>\n",
       "      <th>higher</th>\n",
       "      <th>internet</th>\n",
       "      <th>romantic</th>\n",
       "      <th>famrel</th>\n",
       "      <th>freetime</th>\n",
       "      <th>goout</th>\n",
       "      <th>health</th>\n",
       "      <th>absences</th>\n",
       "      <th>score</th>\n",
       "    </tr>\n",
       "  </thead>\n",
       "  <tbody>\n",
       "    <tr>\n",
       "      <th>128</th>\n",
       "      <td>GP</td>\n",
       "      <td>M</td>\n",
       "      <td>18</td>\n",
       "      <td>R</td>\n",
       "      <td>NaN</td>\n",
       "      <td>T</td>\n",
       "      <td>2.0</td>\n",
       "      <td>2.0</td>\n",
       "      <td>NaN</td>\n",
       "      <td>other</td>\n",
       "      <td>reputation</td>\n",
       "      <td>mother</td>\n",
       "      <td>1.0</td>\n",
       "      <td>1.0</td>\n",
       "      <td>2.0</td>\n",
       "      <td>no</td>\n",
       "      <td>yes</td>\n",
       "      <td>no</td>\n",
       "      <td>yes</td>\n",
       "      <td>yes</td>\n",
       "      <td>-3.0</td>\n",
       "      <td>yes</td>\n",
       "      <td>yes</td>\n",
       "      <td>no</td>\n",
       "      <td>3.0</td>\n",
       "      <td>3.0</td>\n",
       "      <td>3.0</td>\n",
       "      <td>4.0</td>\n",
       "      <td>0.0</td>\n",
       "      <td>0.0</td>\n",
       "    </tr>\n",
       "    <tr>\n",
       "      <th>130</th>\n",
       "      <td>GP</td>\n",
       "      <td>F</td>\n",
       "      <td>15</td>\n",
       "      <td>R</td>\n",
       "      <td>GT3</td>\n",
       "      <td>T</td>\n",
       "      <td>3.0</td>\n",
       "      <td>4.0</td>\n",
       "      <td>services</td>\n",
       "      <td>teacher</td>\n",
       "      <td>course</td>\n",
       "      <td>father</td>\n",
       "      <td>2.0</td>\n",
       "      <td>3.0</td>\n",
       "      <td>2.0</td>\n",
       "      <td>no</td>\n",
       "      <td>yes</td>\n",
       "      <td>no</td>\n",
       "      <td>no</td>\n",
       "      <td>yes</td>\n",
       "      <td>-9.0</td>\n",
       "      <td>yes</td>\n",
       "      <td>yes</td>\n",
       "      <td>yes</td>\n",
       "      <td>4.0</td>\n",
       "      <td>2.0</td>\n",
       "      <td>2.0</td>\n",
       "      <td>5.0</td>\n",
       "      <td>0.0</td>\n",
       "      <td>0.0</td>\n",
       "    </tr>\n",
       "    <tr>\n",
       "      <th>131</th>\n",
       "      <td>GP</td>\n",
       "      <td>F</td>\n",
       "      <td>15</td>\n",
       "      <td>U</td>\n",
       "      <td>GT3</td>\n",
       "      <td>NaN</td>\n",
       "      <td>1.0</td>\n",
       "      <td>1.0</td>\n",
       "      <td>at_home</td>\n",
       "      <td>other</td>\n",
       "      <td>course</td>\n",
       "      <td>mother</td>\n",
       "      <td>3.0</td>\n",
       "      <td>1.0</td>\n",
       "      <td>4.0</td>\n",
       "      <td>no</td>\n",
       "      <td>yes</td>\n",
       "      <td>no</td>\n",
       "      <td>yes</td>\n",
       "      <td>no</td>\n",
       "      <td>-3.0</td>\n",
       "      <td>yes</td>\n",
       "      <td>yes</td>\n",
       "      <td>yes</td>\n",
       "      <td>4.0</td>\n",
       "      <td>NaN</td>\n",
       "      <td>3.0</td>\n",
       "      <td>4.0</td>\n",
       "      <td>0.0</td>\n",
       "      <td>0.0</td>\n",
       "    </tr>\n",
       "    <tr>\n",
       "      <th>134</th>\n",
       "      <td>GP</td>\n",
       "      <td>M</td>\n",
       "      <td>15</td>\n",
       "      <td>R</td>\n",
       "      <td>GT3</td>\n",
       "      <td>T</td>\n",
       "      <td>3.0</td>\n",
       "      <td>4.0</td>\n",
       "      <td>at_home</td>\n",
       "      <td>teacher</td>\n",
       "      <td>course</td>\n",
       "      <td>mother</td>\n",
       "      <td>NaN</td>\n",
       "      <td>2.0</td>\n",
       "      <td>4.0</td>\n",
       "      <td>no</td>\n",
       "      <td>yes</td>\n",
       "      <td>no</td>\n",
       "      <td>no</td>\n",
       "      <td>yes</td>\n",
       "      <td>-6.0</td>\n",
       "      <td>yes</td>\n",
       "      <td>no</td>\n",
       "      <td>yes</td>\n",
       "      <td>5.0</td>\n",
       "      <td>3.0</td>\n",
       "      <td>3.0</td>\n",
       "      <td>5.0</td>\n",
       "      <td>0.0</td>\n",
       "      <td>0.0</td>\n",
       "    </tr>\n",
       "    <tr>\n",
       "      <th>135</th>\n",
       "      <td>GP</td>\n",
       "      <td>F</td>\n",
       "      <td>15</td>\n",
       "      <td>U</td>\n",
       "      <td>GT3</td>\n",
       "      <td>T</td>\n",
       "      <td>4.0</td>\n",
       "      <td>4.0</td>\n",
       "      <td>services</td>\n",
       "      <td>NaN</td>\n",
       "      <td>course</td>\n",
       "      <td>mother</td>\n",
       "      <td>1.0</td>\n",
       "      <td>3.0</td>\n",
       "      <td>4.0</td>\n",
       "      <td>no</td>\n",
       "      <td>yes</td>\n",
       "      <td>no</td>\n",
       "      <td>yes</td>\n",
       "      <td>yes</td>\n",
       "      <td>-9.0</td>\n",
       "      <td>yes</td>\n",
       "      <td>yes</td>\n",
       "      <td>yes</td>\n",
       "      <td>4.0</td>\n",
       "      <td>3.0</td>\n",
       "      <td>3.0</td>\n",
       "      <td>5.0</td>\n",
       "      <td>0.0</td>\n",
       "      <td>0.0</td>\n",
       "    </tr>\n",
       "    <tr>\n",
       "      <th>136</th>\n",
       "      <td>GP</td>\n",
       "      <td>M</td>\n",
       "      <td>17</td>\n",
       "      <td>R</td>\n",
       "      <td>GT3</td>\n",
       "      <td>T</td>\n",
       "      <td>3.0</td>\n",
       "      <td>4.0</td>\n",
       "      <td>at_home</td>\n",
       "      <td>other</td>\n",
       "      <td>course</td>\n",
       "      <td>mother</td>\n",
       "      <td>3.0</td>\n",
       "      <td>2.0</td>\n",
       "      <td>4.0</td>\n",
       "      <td>no</td>\n",
       "      <td>no</td>\n",
       "      <td>NaN</td>\n",
       "      <td>no</td>\n",
       "      <td>yes</td>\n",
       "      <td>-6.0</td>\n",
       "      <td>yes</td>\n",
       "      <td>no</td>\n",
       "      <td>no</td>\n",
       "      <td>NaN</td>\n",
       "      <td>4.0</td>\n",
       "      <td>5.0</td>\n",
       "      <td>5.0</td>\n",
       "      <td>0.0</td>\n",
       "      <td>0.0</td>\n",
       "    </tr>\n",
       "    <tr>\n",
       "      <th>137</th>\n",
       "      <td>GP</td>\n",
       "      <td>F</td>\n",
       "      <td>16</td>\n",
       "      <td>U</td>\n",
       "      <td>GT3</td>\n",
       "      <td>A</td>\n",
       "      <td>3.0</td>\n",
       "      <td>NaN</td>\n",
       "      <td>other</td>\n",
       "      <td>other</td>\n",
       "      <td>NaN</td>\n",
       "      <td>other</td>\n",
       "      <td>NaN</td>\n",
       "      <td>1.0</td>\n",
       "      <td>2.0</td>\n",
       "      <td>no</td>\n",
       "      <td>yes</td>\n",
       "      <td>no</td>\n",
       "      <td>yes</td>\n",
       "      <td>no</td>\n",
       "      <td>-3.0</td>\n",
       "      <td>yes</td>\n",
       "      <td>yes</td>\n",
       "      <td>yes</td>\n",
       "      <td>4.0</td>\n",
       "      <td>3.0</td>\n",
       "      <td>2.0</td>\n",
       "      <td>5.0</td>\n",
       "      <td>0.0</td>\n",
       "      <td>0.0</td>\n",
       "    </tr>\n",
       "    <tr>\n",
       "      <th>140</th>\n",
       "      <td>GP</td>\n",
       "      <td>M</td>\n",
       "      <td>15</td>\n",
       "      <td>U</td>\n",
       "      <td>GT3</td>\n",
       "      <td>T</td>\n",
       "      <td>4.0</td>\n",
       "      <td>3.0</td>\n",
       "      <td>teacher</td>\n",
       "      <td>services</td>\n",
       "      <td>NaN</td>\n",
       "      <td>father</td>\n",
       "      <td>2.0</td>\n",
       "      <td>4.0</td>\n",
       "      <td>4.0</td>\n",
       "      <td>yes</td>\n",
       "      <td>yes</td>\n",
       "      <td>no</td>\n",
       "      <td>NaN</td>\n",
       "      <td>yes</td>\n",
       "      <td>-12.0</td>\n",
       "      <td>yes</td>\n",
       "      <td>yes</td>\n",
       "      <td>no</td>\n",
       "      <td>2.0</td>\n",
       "      <td>2.0</td>\n",
       "      <td>2.0</td>\n",
       "      <td>3.0</td>\n",
       "      <td>0.0</td>\n",
       "      <td>0.0</td>\n",
       "    </tr>\n",
       "    <tr>\n",
       "      <th>144</th>\n",
       "      <td>GP</td>\n",
       "      <td>M</td>\n",
       "      <td>17</td>\n",
       "      <td>U</td>\n",
       "      <td>GT3</td>\n",
       "      <td>T</td>\n",
       "      <td>2.0</td>\n",
       "      <td>1.0</td>\n",
       "      <td>other</td>\n",
       "      <td>other</td>\n",
       "      <td>home</td>\n",
       "      <td>NaN</td>\n",
       "      <td>1.0</td>\n",
       "      <td>1.0</td>\n",
       "      <td>3.0</td>\n",
       "      <td>no</td>\n",
       "      <td>yes</td>\n",
       "      <td>no</td>\n",
       "      <td>no</td>\n",
       "      <td>yes</td>\n",
       "      <td>-3.0</td>\n",
       "      <td>yes</td>\n",
       "      <td>yes</td>\n",
       "      <td>no</td>\n",
       "      <td>5.0</td>\n",
       "      <td>4.0</td>\n",
       "      <td>5.0</td>\n",
       "      <td>5.0</td>\n",
       "      <td>0.0</td>\n",
       "      <td>0.0</td>\n",
       "    </tr>\n",
       "    <tr>\n",
       "      <th>146</th>\n",
       "      <td>GP</td>\n",
       "      <td>F</td>\n",
       "      <td>15</td>\n",
       "      <td>U</td>\n",
       "      <td>GT3</td>\n",
       "      <td>T</td>\n",
       "      <td>3.0</td>\n",
       "      <td>2.0</td>\n",
       "      <td>health</td>\n",
       "      <td>services</td>\n",
       "      <td>home</td>\n",
       "      <td>father</td>\n",
       "      <td>1.0</td>\n",
       "      <td>2.0</td>\n",
       "      <td>3.0</td>\n",
       "      <td>no</td>\n",
       "      <td>NaN</td>\n",
       "      <td>no</td>\n",
       "      <td>no</td>\n",
       "      <td>yes</td>\n",
       "      <td>-6.0</td>\n",
       "      <td>yes</td>\n",
       "      <td>yes</td>\n",
       "      <td>no</td>\n",
       "      <td>3.0</td>\n",
       "      <td>3.0</td>\n",
       "      <td>2.0</td>\n",
       "      <td>3.0</td>\n",
       "      <td>0.0</td>\n",
       "      <td>0.0</td>\n",
       "    </tr>\n",
       "    <tr>\n",
       "      <th>148</th>\n",
       "      <td>GP</td>\n",
       "      <td>M</td>\n",
       "      <td>16</td>\n",
       "      <td>U</td>\n",
       "      <td>GT3</td>\n",
       "      <td>T</td>\n",
       "      <td>4.0</td>\n",
       "      <td>4.0</td>\n",
       "      <td>teacher</td>\n",
       "      <td>teacher</td>\n",
       "      <td>course</td>\n",
       "      <td>mother</td>\n",
       "      <td>1.0</td>\n",
       "      <td>1.0</td>\n",
       "      <td>4.0</td>\n",
       "      <td>no</td>\n",
       "      <td>yes</td>\n",
       "      <td>NaN</td>\n",
       "      <td>no</td>\n",
       "      <td>yes</td>\n",
       "      <td>-3.0</td>\n",
       "      <td>no</td>\n",
       "      <td>yes</td>\n",
       "      <td>yes</td>\n",
       "      <td>3.0</td>\n",
       "      <td>3.0</td>\n",
       "      <td>2.0</td>\n",
       "      <td>5.0</td>\n",
       "      <td>0.0</td>\n",
       "      <td>0.0</td>\n",
       "    </tr>\n",
       "    <tr>\n",
       "      <th>150</th>\n",
       "      <td>GP</td>\n",
       "      <td>M</td>\n",
       "      <td>18</td>\n",
       "      <td>U</td>\n",
       "      <td>LE3</td>\n",
       "      <td>T</td>\n",
       "      <td>1.0</td>\n",
       "      <td>1.0</td>\n",
       "      <td>other</td>\n",
       "      <td>other</td>\n",
       "      <td>course</td>\n",
       "      <td>mother</td>\n",
       "      <td>1.0</td>\n",
       "      <td>1.0</td>\n",
       "      <td>3.0</td>\n",
       "      <td>no</td>\n",
       "      <td>no</td>\n",
       "      <td>no</td>\n",
       "      <td>no</td>\n",
       "      <td>yes</td>\n",
       "      <td>-3.0</td>\n",
       "      <td>no</td>\n",
       "      <td>yes</td>\n",
       "      <td>yes</td>\n",
       "      <td>2.0</td>\n",
       "      <td>3.0</td>\n",
       "      <td>5.0</td>\n",
       "      <td>4.0</td>\n",
       "      <td>NaN</td>\n",
       "      <td>0.0</td>\n",
       "    </tr>\n",
       "    <tr>\n",
       "      <th>153</th>\n",
       "      <td>GP</td>\n",
       "      <td>M</td>\n",
       "      <td>19</td>\n",
       "      <td>U</td>\n",
       "      <td>GT3</td>\n",
       "      <td>NaN</td>\n",
       "      <td>3.0</td>\n",
       "      <td>2.0</td>\n",
       "      <td>services</td>\n",
       "      <td>at_home</td>\n",
       "      <td>home</td>\n",
       "      <td>mother</td>\n",
       "      <td>1.0</td>\n",
       "      <td>1.0</td>\n",
       "      <td>NaN</td>\n",
       "      <td>no</td>\n",
       "      <td>yes</td>\n",
       "      <td>no</td>\n",
       "      <td>no</td>\n",
       "      <td>yes</td>\n",
       "      <td>-3.0</td>\n",
       "      <td>no</td>\n",
       "      <td>yes</td>\n",
       "      <td>yes</td>\n",
       "      <td>4.0</td>\n",
       "      <td>5.0</td>\n",
       "      <td>4.0</td>\n",
       "      <td>NaN</td>\n",
       "      <td>0.0</td>\n",
       "      <td>0.0</td>\n",
       "    </tr>\n",
       "    <tr>\n",
       "      <th>160</th>\n",
       "      <td>GP</td>\n",
       "      <td>M</td>\n",
       "      <td>17</td>\n",
       "      <td>R</td>\n",
       "      <td>LE3</td>\n",
       "      <td>T</td>\n",
       "      <td>2.0</td>\n",
       "      <td>1.0</td>\n",
       "      <td>at_home</td>\n",
       "      <td>NaN</td>\n",
       "      <td>course</td>\n",
       "      <td>mother</td>\n",
       "      <td>NaN</td>\n",
       "      <td>1.0</td>\n",
       "      <td>2.0</td>\n",
       "      <td>no</td>\n",
       "      <td>no</td>\n",
       "      <td>no</td>\n",
       "      <td>NaN</td>\n",
       "      <td>yes</td>\n",
       "      <td>-3.0</td>\n",
       "      <td>no</td>\n",
       "      <td>yes</td>\n",
       "      <td>yes</td>\n",
       "      <td>NaN</td>\n",
       "      <td>3.0</td>\n",
       "      <td>2.0</td>\n",
       "      <td>5.0</td>\n",
       "      <td>0.0</td>\n",
       "      <td>0.0</td>\n",
       "    </tr>\n",
       "    <tr>\n",
       "      <th>162</th>\n",
       "      <td>GP</td>\n",
       "      <td>M</td>\n",
       "      <td>16</td>\n",
       "      <td>U</td>\n",
       "      <td>LE3</td>\n",
       "      <td>T</td>\n",
       "      <td>1.0</td>\n",
       "      <td>2.0</td>\n",
       "      <td>other</td>\n",
       "      <td>other</td>\n",
       "      <td>course</td>\n",
       "      <td>mother</td>\n",
       "      <td>2.0</td>\n",
       "      <td>1.0</td>\n",
       "      <td>1.0</td>\n",
       "      <td>no</td>\n",
       "      <td>no</td>\n",
       "      <td>no</td>\n",
       "      <td>yes</td>\n",
       "      <td>yes</td>\n",
       "      <td>-3.0</td>\n",
       "      <td>yes</td>\n",
       "      <td>NaN</td>\n",
       "      <td>NaN</td>\n",
       "      <td>4.0</td>\n",
       "      <td>4.0</td>\n",
       "      <td>4.0</td>\n",
       "      <td>5.0</td>\n",
       "      <td>0.0</td>\n",
       "      <td>0.0</td>\n",
       "    </tr>\n",
       "    <tr>\n",
       "      <th>168</th>\n",
       "      <td>GP</td>\n",
       "      <td>F</td>\n",
       "      <td>16</td>\n",
       "      <td>NaN</td>\n",
       "      <td>GT3</td>\n",
       "      <td>T</td>\n",
       "      <td>2.0</td>\n",
       "      <td>2.0</td>\n",
       "      <td>other</td>\n",
       "      <td>other</td>\n",
       "      <td>home</td>\n",
       "      <td>mother</td>\n",
       "      <td>1.0</td>\n",
       "      <td>2.0</td>\n",
       "      <td>4.0</td>\n",
       "      <td>no</td>\n",
       "      <td>yes</td>\n",
       "      <td>yes</td>\n",
       "      <td>no</td>\n",
       "      <td>no</td>\n",
       "      <td>-6.0</td>\n",
       "      <td>yes</td>\n",
       "      <td>yes</td>\n",
       "      <td>no</td>\n",
       "      <td>5.0</td>\n",
       "      <td>1.0</td>\n",
       "      <td>5.0</td>\n",
       "      <td>4.0</td>\n",
       "      <td>0.0</td>\n",
       "      <td>0.0</td>\n",
       "    </tr>\n",
       "    <tr>\n",
       "      <th>170</th>\n",
       "      <td>GP</td>\n",
       "      <td>M</td>\n",
       "      <td>16</td>\n",
       "      <td>U</td>\n",
       "      <td>GT3</td>\n",
       "      <td>T</td>\n",
       "      <td>3.0</td>\n",
       "      <td>4.0</td>\n",
       "      <td>other</td>\n",
       "      <td>other</td>\n",
       "      <td>course</td>\n",
       "      <td>father</td>\n",
       "      <td>3.0</td>\n",
       "      <td>1.0</td>\n",
       "      <td>NaN</td>\n",
       "      <td>no</td>\n",
       "      <td>yes</td>\n",
       "      <td>no</td>\n",
       "      <td>yes</td>\n",
       "      <td>no</td>\n",
       "      <td>-3.0</td>\n",
       "      <td>NaN</td>\n",
       "      <td>yes</td>\n",
       "      <td>no</td>\n",
       "      <td>3.0</td>\n",
       "      <td>4.0</td>\n",
       "      <td>5.0</td>\n",
       "      <td>2.0</td>\n",
       "      <td>0.0</td>\n",
       "      <td>0.0</td>\n",
       "    </tr>\n",
       "    <tr>\n",
       "      <th>173</th>\n",
       "      <td>GP</td>\n",
       "      <td>F</td>\n",
       "      <td>16</td>\n",
       "      <td>U</td>\n",
       "      <td>GT3</td>\n",
       "      <td>T</td>\n",
       "      <td>1.0</td>\n",
       "      <td>3.0</td>\n",
       "      <td>at_home</td>\n",
       "      <td>services</td>\n",
       "      <td>home</td>\n",
       "      <td>NaN</td>\n",
       "      <td>1.0</td>\n",
       "      <td>2.0</td>\n",
       "      <td>3.0</td>\n",
       "      <td>no</td>\n",
       "      <td>no</td>\n",
       "      <td>no</td>\n",
       "      <td>yes</td>\n",
       "      <td>no</td>\n",
       "      <td>-6.0</td>\n",
       "      <td>yes</td>\n",
       "      <td>yes</td>\n",
       "      <td>yes</td>\n",
       "      <td>4.0</td>\n",
       "      <td>3.0</td>\n",
       "      <td>5.0</td>\n",
       "      <td>3.0</td>\n",
       "      <td>0.0</td>\n",
       "      <td>0.0</td>\n",
       "    </tr>\n",
       "    <tr>\n",
       "      <th>221</th>\n",
       "      <td>GP</td>\n",
       "      <td>F</td>\n",
       "      <td>17</td>\n",
       "      <td>U</td>\n",
       "      <td>NaN</td>\n",
       "      <td>T</td>\n",
       "      <td>1.0</td>\n",
       "      <td>1.0</td>\n",
       "      <td>at_home</td>\n",
       "      <td>other</td>\n",
       "      <td>reputation</td>\n",
       "      <td>mother</td>\n",
       "      <td>1.0</td>\n",
       "      <td>3.0</td>\n",
       "      <td>1.0</td>\n",
       "      <td>no</td>\n",
       "      <td>yes</td>\n",
       "      <td>no</td>\n",
       "      <td>yes</td>\n",
       "      <td>yes</td>\n",
       "      <td>-9.0</td>\n",
       "      <td>yes</td>\n",
       "      <td>no</td>\n",
       "      <td>yes</td>\n",
       "      <td>4.0</td>\n",
       "      <td>3.0</td>\n",
       "      <td>NaN</td>\n",
       "      <td>5.0</td>\n",
       "      <td>0.0</td>\n",
       "      <td>0.0</td>\n",
       "    </tr>\n",
       "    <tr>\n",
       "      <th>239</th>\n",
       "      <td>GP</td>\n",
       "      <td>M</td>\n",
       "      <td>18</td>\n",
       "      <td>U</td>\n",
       "      <td>GT3</td>\n",
       "      <td>NaN</td>\n",
       "      <td>NaN</td>\n",
       "      <td>2.0</td>\n",
       "      <td>other</td>\n",
       "      <td>services</td>\n",
       "      <td>reputation</td>\n",
       "      <td>father</td>\n",
       "      <td>1.0</td>\n",
       "      <td>2.0</td>\n",
       "      <td>1.0</td>\n",
       "      <td>no</td>\n",
       "      <td>no</td>\n",
       "      <td>no</td>\n",
       "      <td>no</td>\n",
       "      <td>yes</td>\n",
       "      <td>-6.0</td>\n",
       "      <td>no</td>\n",
       "      <td>NaN</td>\n",
       "      <td>NaN</td>\n",
       "      <td>5.0</td>\n",
       "      <td>5.0</td>\n",
       "      <td>4.0</td>\n",
       "      <td>2.0</td>\n",
       "      <td>0.0</td>\n",
       "      <td>0.0</td>\n",
       "    </tr>\n",
       "    <tr>\n",
       "      <th>242</th>\n",
       "      <td>GP</td>\n",
       "      <td>M</td>\n",
       "      <td>16</td>\n",
       "      <td>U</td>\n",
       "      <td>LE3</td>\n",
       "      <td>T</td>\n",
       "      <td>4.0</td>\n",
       "      <td>3.0</td>\n",
       "      <td>teacher</td>\n",
       "      <td>other</td>\n",
       "      <td>course</td>\n",
       "      <td>mother</td>\n",
       "      <td>1.0</td>\n",
       "      <td>1.0</td>\n",
       "      <td>4.0</td>\n",
       "      <td>no</td>\n",
       "      <td>no</td>\n",
       "      <td>no</td>\n",
       "      <td>yes</td>\n",
       "      <td>no</td>\n",
       "      <td>-3.0</td>\n",
       "      <td>yes</td>\n",
       "      <td>yes</td>\n",
       "      <td>no</td>\n",
       "      <td>5.0</td>\n",
       "      <td>4.0</td>\n",
       "      <td>5.0</td>\n",
       "      <td>3.0</td>\n",
       "      <td>0.0</td>\n",
       "      <td>0.0</td>\n",
       "    </tr>\n",
       "    <tr>\n",
       "      <th>259</th>\n",
       "      <td>GP</td>\n",
       "      <td>F</td>\n",
       "      <td>17</td>\n",
       "      <td>U</td>\n",
       "      <td>LE3</td>\n",
       "      <td>T</td>\n",
       "      <td>2.0</td>\n",
       "      <td>NaN</td>\n",
       "      <td>services</td>\n",
       "      <td>services</td>\n",
       "      <td>course</td>\n",
       "      <td>father</td>\n",
       "      <td>1.0</td>\n",
       "      <td>4.0</td>\n",
       "      <td>4.0</td>\n",
       "      <td>no</td>\n",
       "      <td>no</td>\n",
       "      <td>yes</td>\n",
       "      <td>yes</td>\n",
       "      <td>yes</td>\n",
       "      <td>-12.0</td>\n",
       "      <td>yes</td>\n",
       "      <td>NaN</td>\n",
       "      <td>yes</td>\n",
       "      <td>3.0</td>\n",
       "      <td>4.0</td>\n",
       "      <td>1.0</td>\n",
       "      <td>NaN</td>\n",
       "      <td>0.0</td>\n",
       "      <td>0.0</td>\n",
       "    </tr>\n",
       "    <tr>\n",
       "      <th>264</th>\n",
       "      <td>GP</td>\n",
       "      <td>F</td>\n",
       "      <td>18</td>\n",
       "      <td>U</td>\n",
       "      <td>GT3</td>\n",
       "      <td>T</td>\n",
       "      <td>2.0</td>\n",
       "      <td>2.0</td>\n",
       "      <td>at_home</td>\n",
       "      <td>services</td>\n",
       "      <td>home</td>\n",
       "      <td>mother</td>\n",
       "      <td>1.0</td>\n",
       "      <td>3.0</td>\n",
       "      <td>4.0</td>\n",
       "      <td>no</td>\n",
       "      <td>yes</td>\n",
       "      <td>yes</td>\n",
       "      <td>yes</td>\n",
       "      <td>yes</td>\n",
       "      <td>-9.0</td>\n",
       "      <td>yes</td>\n",
       "      <td>yes</td>\n",
       "      <td>yes</td>\n",
       "      <td>4.0</td>\n",
       "      <td>3.0</td>\n",
       "      <td>3.0</td>\n",
       "      <td>3.0</td>\n",
       "      <td>0.0</td>\n",
       "      <td>0.0</td>\n",
       "    </tr>\n",
       "    <tr>\n",
       "      <th>269</th>\n",
       "      <td>GP</td>\n",
       "      <td>F</td>\n",
       "      <td>18</td>\n",
       "      <td>R</td>\n",
       "      <td>GT3</td>\n",
       "      <td>T</td>\n",
       "      <td>2.0</td>\n",
       "      <td>1.0</td>\n",
       "      <td>other</td>\n",
       "      <td>other</td>\n",
       "      <td>reputation</td>\n",
       "      <td>mother</td>\n",
       "      <td>2.0</td>\n",
       "      <td>2.0</td>\n",
       "      <td>4.0</td>\n",
       "      <td>no</td>\n",
       "      <td>NaN</td>\n",
       "      <td>no</td>\n",
       "      <td>no</td>\n",
       "      <td>yes</td>\n",
       "      <td>-6.0</td>\n",
       "      <td>no</td>\n",
       "      <td>yes</td>\n",
       "      <td>yes</td>\n",
       "      <td>4.0</td>\n",
       "      <td>3.0</td>\n",
       "      <td>5.0</td>\n",
       "      <td>3.0</td>\n",
       "      <td>0.0</td>\n",
       "      <td>0.0</td>\n",
       "    </tr>\n",
       "    <tr>\n",
       "      <th>296</th>\n",
       "      <td>GP</td>\n",
       "      <td>F</td>\n",
       "      <td>19</td>\n",
       "      <td>U</td>\n",
       "      <td>GT3</td>\n",
       "      <td>T</td>\n",
       "      <td>4.0</td>\n",
       "      <td>4.0</td>\n",
       "      <td>health</td>\n",
       "      <td>other</td>\n",
       "      <td>reputation</td>\n",
       "      <td>other</td>\n",
       "      <td>2.0</td>\n",
       "      <td>2.0</td>\n",
       "      <td>4.0</td>\n",
       "      <td>no</td>\n",
       "      <td>yes</td>\n",
       "      <td>yes</td>\n",
       "      <td>yes</td>\n",
       "      <td>yes</td>\n",
       "      <td>-6.0</td>\n",
       "      <td>yes</td>\n",
       "      <td>yes</td>\n",
       "      <td>no</td>\n",
       "      <td>2.0</td>\n",
       "      <td>3.0</td>\n",
       "      <td>4.0</td>\n",
       "      <td>2.0</td>\n",
       "      <td>0.0</td>\n",
       "      <td>0.0</td>\n",
       "    </tr>\n",
       "    <tr>\n",
       "      <th>310</th>\n",
       "      <td>GP</td>\n",
       "      <td>F</td>\n",
       "      <td>19</td>\n",
       "      <td>U</td>\n",
       "      <td>LE3</td>\n",
       "      <td>T</td>\n",
       "      <td>1.0</td>\n",
       "      <td>NaN</td>\n",
       "      <td>services</td>\n",
       "      <td>services</td>\n",
       "      <td>home</td>\n",
       "      <td>other</td>\n",
       "      <td>NaN</td>\n",
       "      <td>2.0</td>\n",
       "      <td>1.0</td>\n",
       "      <td>no</td>\n",
       "      <td>no</td>\n",
       "      <td>no</td>\n",
       "      <td>yes</td>\n",
       "      <td>no</td>\n",
       "      <td>-6.0</td>\n",
       "      <td>yes</td>\n",
       "      <td>no</td>\n",
       "      <td>yes</td>\n",
       "      <td>4.0</td>\n",
       "      <td>2.0</td>\n",
       "      <td>4.0</td>\n",
       "      <td>3.0</td>\n",
       "      <td>0.0</td>\n",
       "      <td>0.0</td>\n",
       "    </tr>\n",
       "    <tr>\n",
       "      <th>316</th>\n",
       "      <td>GP</td>\n",
       "      <td>F</td>\n",
       "      <td>18</td>\n",
       "      <td>U</td>\n",
       "      <td>GT3</td>\n",
       "      <td>T</td>\n",
       "      <td>2.0</td>\n",
       "      <td>1.0</td>\n",
       "      <td>services</td>\n",
       "      <td>NaN</td>\n",
       "      <td>course</td>\n",
       "      <td>mother</td>\n",
       "      <td>2.0</td>\n",
       "      <td>2.0</td>\n",
       "      <td>4.0</td>\n",
       "      <td>no</td>\n",
       "      <td>yes</td>\n",
       "      <td>yes</td>\n",
       "      <td>yes</td>\n",
       "      <td>yes</td>\n",
       "      <td>-6.0</td>\n",
       "      <td>yes</td>\n",
       "      <td>yes</td>\n",
       "      <td>no</td>\n",
       "      <td>5.0</td>\n",
       "      <td>3.0</td>\n",
       "      <td>3.0</td>\n",
       "      <td>1.0</td>\n",
       "      <td>0.0</td>\n",
       "      <td>0.0</td>\n",
       "    </tr>\n",
       "    <tr>\n",
       "      <th>332</th>\n",
       "      <td>GP</td>\n",
       "      <td>F</td>\n",
       "      <td>18</td>\n",
       "      <td>U</td>\n",
       "      <td>GT3</td>\n",
       "      <td>T</td>\n",
       "      <td>3.0</td>\n",
       "      <td>3.0</td>\n",
       "      <td>services</td>\n",
       "      <td>services</td>\n",
       "      <td>home</td>\n",
       "      <td>mother</td>\n",
       "      <td>1.0</td>\n",
       "      <td>2.0</td>\n",
       "      <td>4.0</td>\n",
       "      <td>no</td>\n",
       "      <td>no</td>\n",
       "      <td>no</td>\n",
       "      <td>yes</td>\n",
       "      <td>NaN</td>\n",
       "      <td>-6.0</td>\n",
       "      <td>yes</td>\n",
       "      <td>yes</td>\n",
       "      <td>no</td>\n",
       "      <td>5.0</td>\n",
       "      <td>3.0</td>\n",
       "      <td>4.0</td>\n",
       "      <td>4.0</td>\n",
       "      <td>0.0</td>\n",
       "      <td>0.0</td>\n",
       "    </tr>\n",
       "    <tr>\n",
       "      <th>333</th>\n",
       "      <td>GP</td>\n",
       "      <td>F</td>\n",
       "      <td>18</td>\n",
       "      <td>U</td>\n",
       "      <td>LE3</td>\n",
       "      <td>NaN</td>\n",
       "      <td>2.0</td>\n",
       "      <td>2.0</td>\n",
       "      <td>other</td>\n",
       "      <td>other</td>\n",
       "      <td>home</td>\n",
       "      <td>other</td>\n",
       "      <td>1.0</td>\n",
       "      <td>2.0</td>\n",
       "      <td>4.0</td>\n",
       "      <td>no</td>\n",
       "      <td>no</td>\n",
       "      <td>no</td>\n",
       "      <td>yes</td>\n",
       "      <td>no</td>\n",
       "      <td>-6.0</td>\n",
       "      <td>yes</td>\n",
       "      <td>NaN</td>\n",
       "      <td>yes</td>\n",
       "      <td>4.0</td>\n",
       "      <td>3.0</td>\n",
       "      <td>3.0</td>\n",
       "      <td>2.0</td>\n",
       "      <td>0.0</td>\n",
       "      <td>0.0</td>\n",
       "    </tr>\n",
       "    <tr>\n",
       "      <th>334</th>\n",
       "      <td>GP</td>\n",
       "      <td>F</td>\n",
       "      <td>18</td>\n",
       "      <td>R</td>\n",
       "      <td>GT3</td>\n",
       "      <td>T</td>\n",
       "      <td>2.0</td>\n",
       "      <td>2.0</td>\n",
       "      <td>at_home</td>\n",
       "      <td>other</td>\n",
       "      <td>course</td>\n",
       "      <td>mother</td>\n",
       "      <td>2.0</td>\n",
       "      <td>4.0</td>\n",
       "      <td>4.0</td>\n",
       "      <td>no</td>\n",
       "      <td>no</td>\n",
       "      <td>no</td>\n",
       "      <td>yes</td>\n",
       "      <td>yes</td>\n",
       "      <td>-12.0</td>\n",
       "      <td>yes</td>\n",
       "      <td>no</td>\n",
       "      <td>no</td>\n",
       "      <td>4.0</td>\n",
       "      <td>4.0</td>\n",
       "      <td>4.0</td>\n",
       "      <td>4.0</td>\n",
       "      <td>0.0</td>\n",
       "      <td>0.0</td>\n",
       "    </tr>\n",
       "    <tr>\n",
       "      <th>337</th>\n",
       "      <td>GP</td>\n",
       "      <td>F</td>\n",
       "      <td>17</td>\n",
       "      <td>U</td>\n",
       "      <td>GT3</td>\n",
       "      <td>T</td>\n",
       "      <td>3.0</td>\n",
       "      <td>2.0</td>\n",
       "      <td>NaN</td>\n",
       "      <td>other</td>\n",
       "      <td>home</td>\n",
       "      <td>mother</td>\n",
       "      <td>1.0</td>\n",
       "      <td>2.0</td>\n",
       "      <td>4.0</td>\n",
       "      <td>no</td>\n",
       "      <td>yes</td>\n",
       "      <td>yes</td>\n",
       "      <td>no</td>\n",
       "      <td>yes</td>\n",
       "      <td>-6.0</td>\n",
       "      <td>yes</td>\n",
       "      <td>yes</td>\n",
       "      <td>yes</td>\n",
       "      <td>NaN</td>\n",
       "      <td>3.0</td>\n",
       "      <td>2.0</td>\n",
       "      <td>2.0</td>\n",
       "      <td>0.0</td>\n",
       "      <td>0.0</td>\n",
       "    </tr>\n",
       "    <tr>\n",
       "      <th>341</th>\n",
       "      <td>GP</td>\n",
       "      <td>M</td>\n",
       "      <td>18</td>\n",
       "      <td>U</td>\n",
       "      <td>GT3</td>\n",
       "      <td>T</td>\n",
       "      <td>4.0</td>\n",
       "      <td>4.0</td>\n",
       "      <td>teacher</td>\n",
       "      <td>NaN</td>\n",
       "      <td>home</td>\n",
       "      <td>father</td>\n",
       "      <td>1.0</td>\n",
       "      <td>2.0</td>\n",
       "      <td>1.0</td>\n",
       "      <td>no</td>\n",
       "      <td>yes</td>\n",
       "      <td>NaN</td>\n",
       "      <td>yes</td>\n",
       "      <td>NaN</td>\n",
       "      <td>-6.0</td>\n",
       "      <td>yes</td>\n",
       "      <td>yes</td>\n",
       "      <td>no</td>\n",
       "      <td>4.0</td>\n",
       "      <td>3.0</td>\n",
       "      <td>3.0</td>\n",
       "      <td>2.0</td>\n",
       "      <td>0.0</td>\n",
       "      <td>0.0</td>\n",
       "    </tr>\n",
       "    <tr>\n",
       "      <th>343</th>\n",
       "      <td>GP</td>\n",
       "      <td>F</td>\n",
       "      <td>17</td>\n",
       "      <td>U</td>\n",
       "      <td>GT3</td>\n",
       "      <td>A</td>\n",
       "      <td>2.0</td>\n",
       "      <td>2.0</td>\n",
       "      <td>at_home</td>\n",
       "      <td>at_home</td>\n",
       "      <td>home</td>\n",
       "      <td>father</td>\n",
       "      <td>1.0</td>\n",
       "      <td>2.0</td>\n",
       "      <td>1.0</td>\n",
       "      <td>no</td>\n",
       "      <td>yes</td>\n",
       "      <td>no</td>\n",
       "      <td>no</td>\n",
       "      <td>yes</td>\n",
       "      <td>-6.0</td>\n",
       "      <td>yes</td>\n",
       "      <td>yes</td>\n",
       "      <td>yes</td>\n",
       "      <td>3.0</td>\n",
       "      <td>3.0</td>\n",
       "      <td>1.0</td>\n",
       "      <td>4.0</td>\n",
       "      <td>0.0</td>\n",
       "      <td>0.0</td>\n",
       "    </tr>\n",
       "    <tr>\n",
       "      <th>367</th>\n",
       "      <td>MS</td>\n",
       "      <td>F</td>\n",
       "      <td>17</td>\n",
       "      <td>R</td>\n",
       "      <td>NaN</td>\n",
       "      <td>T</td>\n",
       "      <td>1.0</td>\n",
       "      <td>1.0</td>\n",
       "      <td>other</td>\n",
       "      <td>services</td>\n",
       "      <td>reputation</td>\n",
       "      <td>mother</td>\n",
       "      <td>3.0</td>\n",
       "      <td>1.0</td>\n",
       "      <td>1.0</td>\n",
       "      <td>no</td>\n",
       "      <td>yes</td>\n",
       "      <td>yes</td>\n",
       "      <td>no</td>\n",
       "      <td>yes</td>\n",
       "      <td>-3.0</td>\n",
       "      <td>yes</td>\n",
       "      <td>yes</td>\n",
       "      <td>yes</td>\n",
       "      <td>5.0</td>\n",
       "      <td>2.0</td>\n",
       "      <td>1.0</td>\n",
       "      <td>1.0</td>\n",
       "      <td>0.0</td>\n",
       "      <td>0.0</td>\n",
       "    </tr>\n",
       "    <tr>\n",
       "      <th>383</th>\n",
       "      <td>MS</td>\n",
       "      <td>M</td>\n",
       "      <td>19</td>\n",
       "      <td>R</td>\n",
       "      <td>GT3</td>\n",
       "      <td>T</td>\n",
       "      <td>1.0</td>\n",
       "      <td>1.0</td>\n",
       "      <td>other</td>\n",
       "      <td>services</td>\n",
       "      <td>other</td>\n",
       "      <td>mother</td>\n",
       "      <td>2.0</td>\n",
       "      <td>1.0</td>\n",
       "      <td>1.0</td>\n",
       "      <td>no</td>\n",
       "      <td>no</td>\n",
       "      <td>no</td>\n",
       "      <td>no</td>\n",
       "      <td>NaN</td>\n",
       "      <td>-3.0</td>\n",
       "      <td>yes</td>\n",
       "      <td>no</td>\n",
       "      <td>no</td>\n",
       "      <td>4.0</td>\n",
       "      <td>3.0</td>\n",
       "      <td>2.0</td>\n",
       "      <td>5.0</td>\n",
       "      <td>0.0</td>\n",
       "      <td>0.0</td>\n",
       "    </tr>\n",
       "    <tr>\n",
       "      <th>387</th>\n",
       "      <td>MS</td>\n",
       "      <td>F</td>\n",
       "      <td>19</td>\n",
       "      <td>R</td>\n",
       "      <td>GT3</td>\n",
       "      <td>T</td>\n",
       "      <td>2.0</td>\n",
       "      <td>3.0</td>\n",
       "      <td>services</td>\n",
       "      <td>other</td>\n",
       "      <td>course</td>\n",
       "      <td>mother</td>\n",
       "      <td>1.0</td>\n",
       "      <td>3.0</td>\n",
       "      <td>1.0</td>\n",
       "      <td>no</td>\n",
       "      <td>no</td>\n",
       "      <td>no</td>\n",
       "      <td>yes</td>\n",
       "      <td>no</td>\n",
       "      <td>-9.0</td>\n",
       "      <td>yes</td>\n",
       "      <td>yes</td>\n",
       "      <td>no</td>\n",
       "      <td>5.0</td>\n",
       "      <td>4.0</td>\n",
       "      <td>2.0</td>\n",
       "      <td>5.0</td>\n",
       "      <td>0.0</td>\n",
       "      <td>0.0</td>\n",
       "    </tr>\n",
       "    <tr>\n",
       "      <th>389</th>\n",
       "      <td>MS</td>\n",
       "      <td>F</td>\n",
       "      <td>18</td>\n",
       "      <td>U</td>\n",
       "      <td>GT3</td>\n",
       "      <td>T</td>\n",
       "      <td>1.0</td>\n",
       "      <td>1.0</td>\n",
       "      <td>other</td>\n",
       "      <td>other</td>\n",
       "      <td>course</td>\n",
       "      <td>mother</td>\n",
       "      <td>NaN</td>\n",
       "      <td>2.0</td>\n",
       "      <td>1.0</td>\n",
       "      <td>no</td>\n",
       "      <td>no</td>\n",
       "      <td>no</td>\n",
       "      <td>yes</td>\n",
       "      <td>yes</td>\n",
       "      <td>-6.0</td>\n",
       "      <td>yes</td>\n",
       "      <td>NaN</td>\n",
       "      <td>no</td>\n",
       "      <td>1.0</td>\n",
       "      <td>1.0</td>\n",
       "      <td>1.0</td>\n",
       "      <td>5.0</td>\n",
       "      <td>0.0</td>\n",
       "      <td>0.0</td>\n",
       "    </tr>\n",
       "  </tbody>\n",
       "</table>\n",
       "</div>"
      ],
      "text/plain": [
       "    school sex  age address famsize Pstatus  Medu  Fedu      Mjob      Fjob  \\\n",
       "128     GP   M   18       R     NaN       T   2.0   2.0       NaN     other   \n",
       "130     GP   F   15       R     GT3       T   3.0   4.0  services   teacher   \n",
       "131     GP   F   15       U     GT3     NaN   1.0   1.0   at_home     other   \n",
       "134     GP   M   15       R     GT3       T   3.0   4.0   at_home   teacher   \n",
       "135     GP   F   15       U     GT3       T   4.0   4.0  services       NaN   \n",
       "136     GP   M   17       R     GT3       T   3.0   4.0   at_home     other   \n",
       "137     GP   F   16       U     GT3       A   3.0   NaN     other     other   \n",
       "140     GP   M   15       U     GT3       T   4.0   3.0   teacher  services   \n",
       "144     GP   M   17       U     GT3       T   2.0   1.0     other     other   \n",
       "146     GP   F   15       U     GT3       T   3.0   2.0    health  services   \n",
       "148     GP   M   16       U     GT3       T   4.0   4.0   teacher   teacher   \n",
       "150     GP   M   18       U     LE3       T   1.0   1.0     other     other   \n",
       "153     GP   M   19       U     GT3     NaN   3.0   2.0  services   at_home   \n",
       "160     GP   M   17       R     LE3       T   2.0   1.0   at_home       NaN   \n",
       "162     GP   M   16       U     LE3       T   1.0   2.0     other     other   \n",
       "168     GP   F   16     NaN     GT3       T   2.0   2.0     other     other   \n",
       "170     GP   M   16       U     GT3       T   3.0   4.0     other     other   \n",
       "173     GP   F   16       U     GT3       T   1.0   3.0   at_home  services   \n",
       "221     GP   F   17       U     NaN       T   1.0   1.0   at_home     other   \n",
       "239     GP   M   18       U     GT3     NaN   NaN   2.0     other  services   \n",
       "242     GP   M   16       U     LE3       T   4.0   3.0   teacher     other   \n",
       "259     GP   F   17       U     LE3       T   2.0   NaN  services  services   \n",
       "264     GP   F   18       U     GT3       T   2.0   2.0   at_home  services   \n",
       "269     GP   F   18       R     GT3       T   2.0   1.0     other     other   \n",
       "296     GP   F   19       U     GT3       T   4.0   4.0    health     other   \n",
       "310     GP   F   19       U     LE3       T   1.0   NaN  services  services   \n",
       "316     GP   F   18       U     GT3       T   2.0   1.0  services       NaN   \n",
       "332     GP   F   18       U     GT3       T   3.0   3.0  services  services   \n",
       "333     GP   F   18       U     LE3     NaN   2.0   2.0     other     other   \n",
       "334     GP   F   18       R     GT3       T   2.0   2.0   at_home     other   \n",
       "337     GP   F   17       U     GT3       T   3.0   2.0       NaN     other   \n",
       "341     GP   M   18       U     GT3       T   4.0   4.0   teacher       NaN   \n",
       "343     GP   F   17       U     GT3       A   2.0   2.0   at_home   at_home   \n",
       "367     MS   F   17       R     NaN       T   1.0   1.0     other  services   \n",
       "383     MS   M   19       R     GT3       T   1.0   1.0     other  services   \n",
       "387     MS   F   19       R     GT3       T   2.0   3.0  services     other   \n",
       "389     MS   F   18       U     GT3       T   1.0   1.0     other     other   \n",
       "\n",
       "         reason guardian  traveltime  studytime  failures schoolsup famsup  \\\n",
       "128  reputation   mother         1.0        1.0       2.0        no    yes   \n",
       "130      course   father         2.0        3.0       2.0        no    yes   \n",
       "131      course   mother         3.0        1.0       4.0        no    yes   \n",
       "134      course   mother         NaN        2.0       4.0        no    yes   \n",
       "135      course   mother         1.0        3.0       4.0        no    yes   \n",
       "136      course   mother         3.0        2.0       4.0        no     no   \n",
       "137         NaN    other         NaN        1.0       2.0        no    yes   \n",
       "140         NaN   father         2.0        4.0       4.0       yes    yes   \n",
       "144        home      NaN         1.0        1.0       3.0        no    yes   \n",
       "146        home   father         1.0        2.0       3.0        no    NaN   \n",
       "148      course   mother         1.0        1.0       4.0        no    yes   \n",
       "150      course   mother         1.0        1.0       3.0        no     no   \n",
       "153        home   mother         1.0        1.0       NaN        no    yes   \n",
       "160      course   mother         NaN        1.0       2.0        no     no   \n",
       "162      course   mother         2.0        1.0       1.0        no     no   \n",
       "168        home   mother         1.0        2.0       4.0        no    yes   \n",
       "170      course   father         3.0        1.0       NaN        no    yes   \n",
       "173        home      NaN         1.0        2.0       3.0        no     no   \n",
       "221  reputation   mother         1.0        3.0       1.0        no    yes   \n",
       "239  reputation   father         1.0        2.0       1.0        no     no   \n",
       "242      course   mother         1.0        1.0       4.0        no     no   \n",
       "259      course   father         1.0        4.0       4.0        no     no   \n",
       "264        home   mother         1.0        3.0       4.0        no    yes   \n",
       "269  reputation   mother         2.0        2.0       4.0        no    NaN   \n",
       "296  reputation    other         2.0        2.0       4.0        no    yes   \n",
       "310        home    other         NaN        2.0       1.0        no     no   \n",
       "316      course   mother         2.0        2.0       4.0        no    yes   \n",
       "332        home   mother         1.0        2.0       4.0        no     no   \n",
       "333        home    other         1.0        2.0       4.0        no     no   \n",
       "334      course   mother         2.0        4.0       4.0        no     no   \n",
       "337        home   mother         1.0        2.0       4.0        no    yes   \n",
       "341        home   father         1.0        2.0       1.0        no    yes   \n",
       "343        home   father         1.0        2.0       1.0        no    yes   \n",
       "367  reputation   mother         3.0        1.0       1.0        no    yes   \n",
       "383       other   mother         2.0        1.0       1.0        no     no   \n",
       "387      course   mother         1.0        3.0       1.0        no     no   \n",
       "389      course   mother         NaN        2.0       1.0        no     no   \n",
       "\n",
       "    paid activities nursery  studytime, granular higher internet romantic  \\\n",
       "128   no        yes     yes                 -3.0    yes      yes       no   \n",
       "130   no         no     yes                 -9.0    yes      yes      yes   \n",
       "131   no        yes      no                 -3.0    yes      yes      yes   \n",
       "134   no         no     yes                 -6.0    yes       no      yes   \n",
       "135   no        yes     yes                 -9.0    yes      yes      yes   \n",
       "136  NaN         no     yes                 -6.0    yes       no       no   \n",
       "137   no        yes      no                 -3.0    yes      yes      yes   \n",
       "140   no        NaN     yes                -12.0    yes      yes       no   \n",
       "144   no         no     yes                 -3.0    yes      yes       no   \n",
       "146   no         no     yes                 -6.0    yes      yes       no   \n",
       "148  NaN         no     yes                 -3.0     no      yes      yes   \n",
       "150   no         no     yes                 -3.0     no      yes      yes   \n",
       "153   no         no     yes                 -3.0     no      yes      yes   \n",
       "160   no        NaN     yes                 -3.0     no      yes      yes   \n",
       "162   no        yes     yes                 -3.0    yes      NaN      NaN   \n",
       "168  yes         no      no                 -6.0    yes      yes       no   \n",
       "170   no        yes      no                 -3.0    NaN      yes       no   \n",
       "173   no        yes      no                 -6.0    yes      yes      yes   \n",
       "221   no        yes     yes                 -9.0    yes       no      yes   \n",
       "239   no         no     yes                 -6.0     no      NaN      NaN   \n",
       "242   no        yes      no                 -3.0    yes      yes       no   \n",
       "259  yes        yes     yes                -12.0    yes      NaN      yes   \n",
       "264  yes        yes     yes                 -9.0    yes      yes      yes   \n",
       "269   no         no     yes                 -6.0     no      yes      yes   \n",
       "296  yes        yes     yes                 -6.0    yes      yes       no   \n",
       "310   no        yes      no                 -6.0    yes       no      yes   \n",
       "316  yes        yes     yes                 -6.0    yes      yes       no   \n",
       "332   no        yes     NaN                 -6.0    yes      yes       no   \n",
       "333   no        yes      no                 -6.0    yes      NaN      yes   \n",
       "334   no        yes     yes                -12.0    yes       no       no   \n",
       "337  yes         no     yes                 -6.0    yes      yes      yes   \n",
       "341  NaN        yes     NaN                 -6.0    yes      yes       no   \n",
       "343   no         no     yes                 -6.0    yes      yes      yes   \n",
       "367  yes         no     yes                 -3.0    yes      yes      yes   \n",
       "383   no         no     NaN                 -3.0    yes       no       no   \n",
       "387   no        yes      no                 -9.0    yes      yes       no   \n",
       "389   no        yes     yes                 -6.0    yes      NaN       no   \n",
       "\n",
       "     famrel  freetime  goout  health  absences  score  \n",
       "128     3.0       3.0    3.0     4.0       0.0    0.0  \n",
       "130     4.0       2.0    2.0     5.0       0.0    0.0  \n",
       "131     4.0       NaN    3.0     4.0       0.0    0.0  \n",
       "134     5.0       3.0    3.0     5.0       0.0    0.0  \n",
       "135     4.0       3.0    3.0     5.0       0.0    0.0  \n",
       "136     NaN       4.0    5.0     5.0       0.0    0.0  \n",
       "137     4.0       3.0    2.0     5.0       0.0    0.0  \n",
       "140     2.0       2.0    2.0     3.0       0.0    0.0  \n",
       "144     5.0       4.0    5.0     5.0       0.0    0.0  \n",
       "146     3.0       3.0    2.0     3.0       0.0    0.0  \n",
       "148     3.0       3.0    2.0     5.0       0.0    0.0  \n",
       "150     2.0       3.0    5.0     4.0       NaN    0.0  \n",
       "153     4.0       5.0    4.0     NaN       0.0    0.0  \n",
       "160     NaN       3.0    2.0     5.0       0.0    0.0  \n",
       "162     4.0       4.0    4.0     5.0       0.0    0.0  \n",
       "168     5.0       1.0    5.0     4.0       0.0    0.0  \n",
       "170     3.0       4.0    5.0     2.0       0.0    0.0  \n",
       "173     4.0       3.0    5.0     3.0       0.0    0.0  \n",
       "221     4.0       3.0    NaN     5.0       0.0    0.0  \n",
       "239     5.0       5.0    4.0     2.0       0.0    0.0  \n",
       "242     5.0       4.0    5.0     3.0       0.0    0.0  \n",
       "259     3.0       4.0    1.0     NaN       0.0    0.0  \n",
       "264     4.0       3.0    3.0     3.0       0.0    0.0  \n",
       "269     4.0       3.0    5.0     3.0       0.0    0.0  \n",
       "296     2.0       3.0    4.0     2.0       0.0    0.0  \n",
       "310     4.0       2.0    4.0     3.0       0.0    0.0  \n",
       "316     5.0       3.0    3.0     1.0       0.0    0.0  \n",
       "332     5.0       3.0    4.0     4.0       0.0    0.0  \n",
       "333     4.0       3.0    3.0     2.0       0.0    0.0  \n",
       "334     4.0       4.0    4.0     4.0       0.0    0.0  \n",
       "337     NaN       3.0    2.0     2.0       0.0    0.0  \n",
       "341     4.0       3.0    3.0     2.0       0.0    0.0  \n",
       "343     3.0       3.0    1.0     4.0       0.0    0.0  \n",
       "367     5.0       2.0    1.0     1.0       0.0    0.0  \n",
       "383     4.0       3.0    2.0     5.0       0.0    0.0  \n",
       "387     5.0       4.0    2.0     5.0       0.0    0.0  \n",
       "389     1.0       1.0    1.0     5.0       0.0    0.0  "
      ]
     },
     "execution_count": 43,
     "metadata": {},
     "output_type": "execute_result"
    }
   ],
   "source": [
    "df_score_zero"
   ]
  },
  {
   "cell_type": "markdown",
   "id": "6b0d0454",
   "metadata": {},
   "source": [
    "Все данные значения помечаем как выбросы, т.к. у всех данных признаков одинаковые показатели в столбцах absences, famsize и Pstatus так же почти одинаковые показатели school.\n",
    "В связи с выше изложенным, данный показатель будет негативно влиять на алгоритмы дальнейшего обучения.\n",
    "\n",
    "В целом это выборка, требует отдельного анализа и уточнения условий задачи.  \n",
    "Так же удалим все NaN значения. т.к. на таких записях модель не сможет обучиться. По сути они бесполезные."
   ]
  },
  {
   "cell_type": "code",
   "execution_count": 44,
   "id": "ffa0d33a",
   "metadata": {},
   "outputs": [],
   "source": [
    "df_3 = df_2[df_2.score > 0].copy()"
   ]
  },
  {
   "cell_type": "markdown",
   "id": "4de3fe2f",
   "metadata": {},
   "source": [
    "Отметим, что при данном способе удаления данных, так же удаляться все Nan значения. "
   ]
  },
  {
   "cell_type": "markdown",
   "id": "4d41a4af",
   "metadata": {},
   "source": [
    "# Раздел 3. Корреляционный анализ количественных переменных"
   ]
  },
  {
   "cell_type": "markdown",
   "id": "8b799371",
   "metadata": {},
   "source": [
    "Для анализа выведем графики и значения кореляций."
   ]
  },
  {
   "cell_type": "code",
   "execution_count": 45,
   "id": "0c2c9396",
   "metadata": {
    "scrolled": true
   },
   "outputs": [],
   "source": [
    "cor_matr = df_3.corr()"
   ]
  },
  {
   "cell_type": "code",
   "execution_count": 46,
   "id": "32cbf396",
   "metadata": {},
   "outputs": [
    {
     "data": {
      "text/html": [
       "<div>\n",
       "<style scoped>\n",
       "    .dataframe tbody tr th:only-of-type {\n",
       "        vertical-align: middle;\n",
       "    }\n",
       "\n",
       "    .dataframe tbody tr th {\n",
       "        vertical-align: top;\n",
       "    }\n",
       "\n",
       "    .dataframe thead th {\n",
       "        text-align: right;\n",
       "    }\n",
       "</style>\n",
       "<table border=\"1\" class=\"dataframe\">\n",
       "  <thead>\n",
       "    <tr style=\"text-align: right;\">\n",
       "      <th></th>\n",
       "      <th>age</th>\n",
       "      <th>Medu</th>\n",
       "      <th>Fedu</th>\n",
       "      <th>traveltime</th>\n",
       "      <th>studytime</th>\n",
       "      <th>failures</th>\n",
       "      <th>studytime, granular</th>\n",
       "      <th>famrel</th>\n",
       "      <th>freetime</th>\n",
       "      <th>goout</th>\n",
       "      <th>health</th>\n",
       "      <th>absences</th>\n",
       "      <th>score</th>\n",
       "    </tr>\n",
       "  </thead>\n",
       "  <tbody>\n",
       "    <tr>\n",
       "      <th>age</th>\n",
       "      <td>1.000000</td>\n",
       "      <td>-0.127411</td>\n",
       "      <td>-0.126262</td>\n",
       "      <td>0.104695</td>\n",
       "      <td>-0.009031</td>\n",
       "      <td>-0.238928</td>\n",
       "      <td>0.009031</td>\n",
       "      <td>0.074120</td>\n",
       "      <td>-0.001622</td>\n",
       "      <td>0.119106</td>\n",
       "      <td>-0.053539</td>\n",
       "      <td>0.243656</td>\n",
       "      <td>-0.133221</td>\n",
       "    </tr>\n",
       "    <tr>\n",
       "      <th>Medu</th>\n",
       "      <td>-0.127411</td>\n",
       "      <td>1.000000</td>\n",
       "      <td>0.610995</td>\n",
       "      <td>-0.163279</td>\n",
       "      <td>0.070684</td>\n",
       "      <td>0.148522</td>\n",
       "      <td>-0.070684</td>\n",
       "      <td>-0.011290</td>\n",
       "      <td>0.015757</td>\n",
       "      <td>0.076565</td>\n",
       "      <td>-0.034962</td>\n",
       "      <td>0.058626</td>\n",
       "      <td>0.185018</td>\n",
       "    </tr>\n",
       "    <tr>\n",
       "      <th>Fedu</th>\n",
       "      <td>-0.126262</td>\n",
       "      <td>0.610995</td>\n",
       "      <td>1.000000</td>\n",
       "      <td>-0.157956</td>\n",
       "      <td>-0.017564</td>\n",
       "      <td>0.159491</td>\n",
       "      <td>0.017564</td>\n",
       "      <td>-0.027716</td>\n",
       "      <td>-0.027575</td>\n",
       "      <td>0.046972</td>\n",
       "      <td>0.019059</td>\n",
       "      <td>0.036833</td>\n",
       "      <td>0.133649</td>\n",
       "    </tr>\n",
       "    <tr>\n",
       "      <th>traveltime</th>\n",
       "      <td>0.104695</td>\n",
       "      <td>-0.163279</td>\n",
       "      <td>-0.157956</td>\n",
       "      <td>1.000000</td>\n",
       "      <td>-0.113372</td>\n",
       "      <td>-0.044571</td>\n",
       "      <td>0.113372</td>\n",
       "      <td>-0.046098</td>\n",
       "      <td>-0.016865</td>\n",
       "      <td>0.034903</td>\n",
       "      <td>-0.000732</td>\n",
       "      <td>-0.025501</td>\n",
       "      <td>-0.079383</td>\n",
       "    </tr>\n",
       "    <tr>\n",
       "      <th>studytime</th>\n",
       "      <td>-0.009031</td>\n",
       "      <td>0.070684</td>\n",
       "      <td>-0.017564</td>\n",
       "      <td>-0.113372</td>\n",
       "      <td>1.000000</td>\n",
       "      <td>0.107627</td>\n",
       "      <td>-1.000000</td>\n",
       "      <td>0.041233</td>\n",
       "      <td>-0.130168</td>\n",
       "      <td>-0.030210</td>\n",
       "      <td>-0.083250</td>\n",
       "      <td>-0.081297</td>\n",
       "      <td>0.138439</td>\n",
       "    </tr>\n",
       "    <tr>\n",
       "      <th>failures</th>\n",
       "      <td>-0.238928</td>\n",
       "      <td>0.148522</td>\n",
       "      <td>0.159491</td>\n",
       "      <td>-0.044571</td>\n",
       "      <td>0.107627</td>\n",
       "      <td>1.000000</td>\n",
       "      <td>-0.107627</td>\n",
       "      <td>-0.014895</td>\n",
       "      <td>-0.090675</td>\n",
       "      <td>-0.142624</td>\n",
       "      <td>-0.111963</td>\n",
       "      <td>-0.293666</td>\n",
       "      <td>0.227683</td>\n",
       "    </tr>\n",
       "    <tr>\n",
       "      <th>studytime, granular</th>\n",
       "      <td>0.009031</td>\n",
       "      <td>-0.070684</td>\n",
       "      <td>0.017564</td>\n",
       "      <td>0.113372</td>\n",
       "      <td>-1.000000</td>\n",
       "      <td>-0.107627</td>\n",
       "      <td>1.000000</td>\n",
       "      <td>-0.041233</td>\n",
       "      <td>0.130168</td>\n",
       "      <td>0.030210</td>\n",
       "      <td>0.083250</td>\n",
       "      <td>0.081297</td>\n",
       "      <td>-0.138439</td>\n",
       "    </tr>\n",
       "    <tr>\n",
       "      <th>famrel</th>\n",
       "      <td>0.074120</td>\n",
       "      <td>-0.011290</td>\n",
       "      <td>-0.027716</td>\n",
       "      <td>-0.046098</td>\n",
       "      <td>0.041233</td>\n",
       "      <td>-0.014895</td>\n",
       "      <td>-0.041233</td>\n",
       "      <td>1.000000</td>\n",
       "      <td>0.154119</td>\n",
       "      <td>0.039546</td>\n",
       "      <td>0.119492</td>\n",
       "      <td>-0.075128</td>\n",
       "      <td>0.029613</td>\n",
       "    </tr>\n",
       "    <tr>\n",
       "      <th>freetime</th>\n",
       "      <td>-0.001622</td>\n",
       "      <td>0.015757</td>\n",
       "      <td>-0.027575</td>\n",
       "      <td>-0.016865</td>\n",
       "      <td>-0.130168</td>\n",
       "      <td>-0.090675</td>\n",
       "      <td>0.130168</td>\n",
       "      <td>0.154119</td>\n",
       "      <td>1.000000</td>\n",
       "      <td>0.291143</td>\n",
       "      <td>0.078495</td>\n",
       "      <td>-0.029540</td>\n",
       "      <td>-0.015933</td>\n",
       "    </tr>\n",
       "    <tr>\n",
       "      <th>goout</th>\n",
       "      <td>0.119106</td>\n",
       "      <td>0.076565</td>\n",
       "      <td>0.046972</td>\n",
       "      <td>0.034903</td>\n",
       "      <td>-0.030210</td>\n",
       "      <td>-0.142624</td>\n",
       "      <td>0.030210</td>\n",
       "      <td>0.039546</td>\n",
       "      <td>0.291143</td>\n",
       "      <td>1.000000</td>\n",
       "      <td>-0.006226</td>\n",
       "      <td>0.063699</td>\n",
       "      <td>-0.185977</td>\n",
       "    </tr>\n",
       "    <tr>\n",
       "      <th>health</th>\n",
       "      <td>-0.053539</td>\n",
       "      <td>-0.034962</td>\n",
       "      <td>0.019059</td>\n",
       "      <td>-0.000732</td>\n",
       "      <td>-0.083250</td>\n",
       "      <td>-0.111963</td>\n",
       "      <td>0.083250</td>\n",
       "      <td>0.119492</td>\n",
       "      <td>0.078495</td>\n",
       "      <td>-0.006226</td>\n",
       "      <td>1.000000</td>\n",
       "      <td>-0.030510</td>\n",
       "      <td>-0.072289</td>\n",
       "    </tr>\n",
       "    <tr>\n",
       "      <th>absences</th>\n",
       "      <td>0.243656</td>\n",
       "      <td>0.058626</td>\n",
       "      <td>0.036833</td>\n",
       "      <td>-0.025501</td>\n",
       "      <td>-0.081297</td>\n",
       "      <td>-0.293666</td>\n",
       "      <td>0.081297</td>\n",
       "      <td>-0.075128</td>\n",
       "      <td>-0.029540</td>\n",
       "      <td>0.063699</td>\n",
       "      <td>-0.030510</td>\n",
       "      <td>1.000000</td>\n",
       "      <td>-0.200662</td>\n",
       "    </tr>\n",
       "    <tr>\n",
       "      <th>score</th>\n",
       "      <td>-0.133221</td>\n",
       "      <td>0.185018</td>\n",
       "      <td>0.133649</td>\n",
       "      <td>-0.079383</td>\n",
       "      <td>0.138439</td>\n",
       "      <td>0.227683</td>\n",
       "      <td>-0.138439</td>\n",
       "      <td>0.029613</td>\n",
       "      <td>-0.015933</td>\n",
       "      <td>-0.185977</td>\n",
       "      <td>-0.072289</td>\n",
       "      <td>-0.200662</td>\n",
       "      <td>1.000000</td>\n",
       "    </tr>\n",
       "  </tbody>\n",
       "</table>\n",
       "</div>"
      ],
      "text/plain": [
       "                          age      Medu      Fedu  traveltime  studytime  \\\n",
       "age                  1.000000 -0.127411 -0.126262    0.104695  -0.009031   \n",
       "Medu                -0.127411  1.000000  0.610995   -0.163279   0.070684   \n",
       "Fedu                -0.126262  0.610995  1.000000   -0.157956  -0.017564   \n",
       "traveltime           0.104695 -0.163279 -0.157956    1.000000  -0.113372   \n",
       "studytime           -0.009031  0.070684 -0.017564   -0.113372   1.000000   \n",
       "failures            -0.238928  0.148522  0.159491   -0.044571   0.107627   \n",
       "studytime, granular  0.009031 -0.070684  0.017564    0.113372  -1.000000   \n",
       "famrel               0.074120 -0.011290 -0.027716   -0.046098   0.041233   \n",
       "freetime            -0.001622  0.015757 -0.027575   -0.016865  -0.130168   \n",
       "goout                0.119106  0.076565  0.046972    0.034903  -0.030210   \n",
       "health              -0.053539 -0.034962  0.019059   -0.000732  -0.083250   \n",
       "absences             0.243656  0.058626  0.036833   -0.025501  -0.081297   \n",
       "score               -0.133221  0.185018  0.133649   -0.079383   0.138439   \n",
       "\n",
       "                     failures  studytime, granular    famrel  freetime  \\\n",
       "age                 -0.238928             0.009031  0.074120 -0.001622   \n",
       "Medu                 0.148522            -0.070684 -0.011290  0.015757   \n",
       "Fedu                 0.159491             0.017564 -0.027716 -0.027575   \n",
       "traveltime          -0.044571             0.113372 -0.046098 -0.016865   \n",
       "studytime            0.107627            -1.000000  0.041233 -0.130168   \n",
       "failures             1.000000            -0.107627 -0.014895 -0.090675   \n",
       "studytime, granular -0.107627             1.000000 -0.041233  0.130168   \n",
       "famrel              -0.014895            -0.041233  1.000000  0.154119   \n",
       "freetime            -0.090675             0.130168  0.154119  1.000000   \n",
       "goout               -0.142624             0.030210  0.039546  0.291143   \n",
       "health              -0.111963             0.083250  0.119492  0.078495   \n",
       "absences            -0.293666             0.081297 -0.075128 -0.029540   \n",
       "score                0.227683            -0.138439  0.029613 -0.015933   \n",
       "\n",
       "                        goout    health  absences     score  \n",
       "age                  0.119106 -0.053539  0.243656 -0.133221  \n",
       "Medu                 0.076565 -0.034962  0.058626  0.185018  \n",
       "Fedu                 0.046972  0.019059  0.036833  0.133649  \n",
       "traveltime           0.034903 -0.000732 -0.025501 -0.079383  \n",
       "studytime           -0.030210 -0.083250 -0.081297  0.138439  \n",
       "failures            -0.142624 -0.111963 -0.293666  0.227683  \n",
       "studytime, granular  0.030210  0.083250  0.081297 -0.138439  \n",
       "famrel               0.039546  0.119492 -0.075128  0.029613  \n",
       "freetime             0.291143  0.078495 -0.029540 -0.015933  \n",
       "goout                1.000000 -0.006226  0.063699 -0.185977  \n",
       "health              -0.006226  1.000000 -0.030510 -0.072289  \n",
       "absences             0.063699 -0.030510  1.000000 -0.200662  \n",
       "score               -0.185977 -0.072289 -0.200662  1.000000  "
      ]
     },
     "execution_count": 46,
     "metadata": {},
     "output_type": "execute_result"
    }
   ],
   "source": [
    "cor_matr"
   ]
  },
  {
   "cell_type": "code",
   "execution_count": 47,
   "id": "38979450",
   "metadata": {},
   "outputs": [
    {
     "data": {
      "text/plain": [
       "<AxesSubplot:>"
      ]
     },
     "execution_count": 47,
     "metadata": {},
     "output_type": "execute_result"
    },
    {
     "data": {
      "image/png": "[encoded data removed]",
      "text/plain": [
       "<Figure size 432x288 with 2 Axes>"
      ]
     },
     "metadata": {
      "needs_background": "light"
     },
     "output_type": "display_data"
    }
   ],
   "source": [
    "sns.heatmap(cor_matr)"
   ]
  },
  {
   "cell_type": "markdown",
   "id": "ffba95f6",
   "metadata": {},
   "source": [
    "в связи с относительно невысокой корреляцией определим, что 14% будет являться пороговым значением.  \n",
    "Отсортируем все наши значения и выведем их.  \n",
    "График получился слишком большой и нечитаемый, отсортируем интересующие нас значения."
   ]
  },
  {
   "cell_type": "markdown",
   "id": "7a4c8ff8",
   "metadata": {},
   "source": [
    "Создадим код, для вывода информации в более читаемом виде."
   ]
  },
  {
   "cell_type": "code",
   "execution_count": 48,
   "id": "ecda1779",
   "metadata": {},
   "outputs": [],
   "source": [
    "def print_res(cor_matr):\n",
    "    ''' Код сортирует столбцы которые коррелируются более чем 0,14 \n",
    "    и выводит их на экран. Код на вход принимает матрицу корреляции'''\n",
    "\n",
    "    cor_dict = {}\n",
    "    for y in range(len(numeric_col)):\n",
    "        cor_dict[numeric_col[y]] = {}\n",
    "        for x in range(len(numeric_col)):\n",
    "            if y != x:\n",
    "                if abs(cor_matr.iloc[y][x]) > 0.14:\n",
    "                    cor_dict[numeric_col[y]][numeric_col[x]\n",
    "                                             ] = cor_matr.iloc[y][x]\n",
    "\n",
    "    for x in cor_dict:\n",
    "        print(f\"Столбец {x} корелируеться  c\")\n",
    "        print(cor_dict[x])\n",
    "        print()"
   ]
  },
  {
   "cell_type": "markdown",
   "id": "22b2ef36",
   "metadata": {},
   "source": [
    "Теперь выведем полученный результат"
   ]
  },
  {
   "cell_type": "code",
   "execution_count": 49,
   "id": "0ed43e01",
   "metadata": {
    "scrolled": false
   },
   "outputs": [
    {
     "name": "stdout",
     "output_type": "stream",
     "text": [
      "Столбец age корелируеться  c\n",
      "{'failures': -0.2389278600048591, 'absences': 0.24365602228889216}\n",
      "\n",
      "Столбец Medu корелируеться  c\n",
      "{'Fedu': 0.6109948741322937, 'traveltime': -0.1632793601300975, 'failures': 0.1485217449495198, 'score': 0.18501842960302256}\n",
      "\n",
      "Столбец Fedu корелируеться  c\n",
      "{'Medu': 0.6109948741322937, 'traveltime': -0.1579558238524197, 'failures': 0.1594908117206338}\n",
      "\n",
      "Столбец traveltime корелируеться  c\n",
      "{'Medu': -0.1632793601300975, 'Fedu': -0.1579558238524197}\n",
      "\n",
      "Столбец studytime корелируеться  c\n",
      "{'studytime, granular': -1.0000000000000002}\n",
      "\n",
      "Столбец failures корелируеться  c\n",
      "{'age': -0.2389278600048591, 'Medu': 0.1485217449495198, 'Fedu': 0.1594908117206338, 'goout': -0.1426243246845965, 'absences': -0.29366632990446695, 'score': 0.2276831656391304}\n",
      "\n",
      "Столбец studytime, granular корелируеться  c\n",
      "{'studytime': -1.0000000000000002}\n",
      "\n",
      "Столбец famrel корелируеться  c\n",
      "{'freetime': 0.15411856423069123}\n",
      "\n",
      "Столбец freetime корелируеться  c\n",
      "{'famrel': 0.15411856423069123, 'goout': 0.2911434221023373}\n",
      "\n",
      "Столбец goout корелируеться  c\n",
      "{'failures': -0.1426243246845965, 'freetime': 0.2911434221023373, 'score': -0.18597745997319892}\n",
      "\n",
      "Столбец health корелируеться  c\n",
      "{}\n",
      "\n",
      "Столбец absences корелируеться  c\n",
      "{'age': 0.24365602228889216, 'failures': -0.29366632990446695, 'score': -0.20066245430620158}\n",
      "\n",
      "Столбец score корелируеться  c\n",
      "{'Medu': 0.18501842960302256, 'failures': 0.2276831656391304, 'goout': -0.18597745997319892, 'absences': -0.20066245430620158}\n",
      "\n"
     ]
    }
   ],
   "source": [
    "print_res(cor_matr)"
   ]
  },
  {
   "cell_type": "markdown",
   "id": "0d1e696c",
   "metadata": {},
   "source": [
    "Выводы по разделу:\n",
    "\n",
    "Видно, что с возрастом (Столбец age), ученики прогуливают больше (absences) и совершают больше ошибок(failures).\n",
    "\n",
    "Так же высокая корреляция у переменных Medu и Fedu. Можно сделать вывод, что чем более образованные человек, тем более образованную пару он будет себе искать. Однако значение Medu коррелируется с итоговой оценкой на экзамене (score) намного лучше, чем Fedu. Исходя из этого можно предположить, что обучением детей больше занимается мать чем отец. Так же более образованные родители живут ближе к школе. Видимо это связано с тем, что более образованные люди живут в городе, где есть школы, а менее образованные более больше заняты в сельском хозяйстве и соответственно проживают за городом. Так же у более образованных отцов ученики допускают больше ошибок. Опять же это можно связать с воспитанием детей, т.к. более образованные родители чаще будут отдавать своих детей в разные кружки, и давать детям больше пробовать делать что-то новое. \n",
    "\n",
    "Так же отмечаем, что свободное время(freetime) так же коррелируется с временим проведенными с друзьями(goout) и с семейными отношениями (famrel). Значит, чем больше свободного времени у ученика, тем больше он проводит времени с друзьями. И тем более у его благоприятная обстановка в семье.\n",
    "\n",
    "Столбцы studytime, granular и studytime обратно скоррелированы почти полностью, одну переменную можно исключить. Пусть это будет переменная studytime, granular.  \n",
    "\n",
    "Столбец health значимо не скоррелирован ни с одним из других столбцов. \n",
    "\n",
    "В конце ещё раз отметим, что итоговая переменная (score) более скоррелирована только с образованием матери, и с количеством внеучебных неудач. Как мы отмечали ранее, матери больше занимаются чем отцы, а количество внеучебных неудач учит преодолевать трудности, и учебные неудачи в том числе. А также вспомним крылатое выражение \" На ошибках учатся\". Так же присутствует обратная корреляция к столбцам goout, и absences. В целом тоже логично, что чем больше пропусков, тем хуже ученик учиться. И Количество учебных часов тоже влияет на итоговую оценку по математике.\n"
   ]
  },
  {
   "cell_type": "markdown",
   "id": "52afdbe2",
   "metadata": {},
   "source": [
    "# Раздел 4. Анализи номинативных переменных"
   ]
  },
  {
   "cell_type": "markdown",
   "id": "2269127e",
   "metadata": {},
   "source": [
    "Возвращаемся к списку object_col который хранит в себе название столбцов, имеющие тип Object, создадим функцию, которая будет выводить нам ящик с усами для каждой переменной. И проверим данные на выбросы."
   ]
  },
  {
   "cell_type": "code",
   "execution_count": 50,
   "id": "182098a0",
   "metadata": {},
   "outputs": [],
   "source": [
    "def get_boxplot(df, column):\n",
    "    ''' Данный код выдает ящик с усами и описательную статистику\n",
    "    по результатам итогового экзамена в зависимости от столбца.\n",
    "    На вход принимает df (датасет), и имя столбца (column)\n",
    "    '''\n",
    "\n",
    "    print(f\"Анализируем столбец {column}\")\n",
    "    print(f\"Уникальные значения: \")\n",
    "    print(f\"Кол-во нулевых значений: {df[column].isnull().sum()}\")\n",
    "    print(df[column].unique())\n",
    "\n",
    "    sns.boxplot(x=column, y='score', data=df)\n",
    "    plt.title(f'Ящик с усами к столбцу {column}')\n",
    "    plt.ylabel('Итоговые результаты за экзамен')"
   ]
  },
  {
   "cell_type": "markdown",
   "id": "4faabb51",
   "metadata": {},
   "source": [
    "Так же создадим отдельный список столбцов, в который будем заносить результаты, которые нам покажутся странными."
   ]
  },
  {
   "cell_type": "code",
   "execution_count": 51,
   "id": "c66b5980",
   "metadata": {},
   "outputs": [],
   "source": [
    "strange_col = []"
   ]
  },
  {
   "cell_type": "markdown",
   "id": "c4538efb",
   "metadata": {},
   "source": [
    "### Анализируем столбец school."
   ]
  },
  {
   "cell_type": "code",
   "execution_count": 52,
   "id": "3c8f455f",
   "metadata": {},
   "outputs": [
    {
     "name": "stdout",
     "output_type": "stream",
     "text": [
      "Анализируем столбец school\n",
      "Уникальные значения: \n",
      "Кол-во нулевых значений: 0\n",
      "['GP' 'MS']\n"
     ]
    },
    {
     "data": {
      "image/png": "[encoded data removed]",
      "text/plain": [
       "<Figure size 432x288 with 1 Axes>"
      ]
     },
     "metadata": {
      "needs_background": "light"
     },
     "output_type": "display_data"
    }
   ],
   "source": [
    "get_boxplot(df_3, object_col[0])"
   ]
  },
  {
   "cell_type": "markdown",
   "id": "9720efa1",
   "metadata": {},
   "source": [
    "Условие к столбцу:  \n",
    "school — аббревиатура школы, в которой учится ученик  \n",
    "\n",
    "Вывод:  \n",
    "В соответствии  с условием, выбросы не обнаружены.  \n",
    "Судя по графику, ученики получают более высокие балы в GP."
   ]
  },
  {
   "cell_type": "markdown",
   "id": "73b58737",
   "metadata": {},
   "source": [
    "### Анализируем столбец sex."
   ]
  },
  {
   "cell_type": "code",
   "execution_count": 53,
   "id": "8de8888b",
   "metadata": {
    "scrolled": true
   },
   "outputs": [
    {
     "name": "stdout",
     "output_type": "stream",
     "text": [
      "Анализируем столбец sex\n",
      "Уникальные значения: \n",
      "Кол-во нулевых значений: 0\n",
      "['F' 'M']\n"
     ]
    },
    {
     "data": {
      "image/png": "[encoded data removed]",
      "text/plain": [
       "<Figure size 432x288 with 1 Axes>"
      ]
     },
     "metadata": {
      "needs_background": "light"
     },
     "output_type": "display_data"
    }
   ],
   "source": [
    "get_boxplot(df_3, object_col[1])"
   ]
  },
  {
   "cell_type": "markdown",
   "id": "077ed876",
   "metadata": {},
   "source": [
    "Условие к столбцу:  \n",
    "sex — пол ученика ('F' - женский, 'M' - мужской)  \n",
    "\n",
    "Вывод:  \n",
    "В соответствии  с условием, выбросы не обнаружены.  \n",
    "Судя по графику, ученики - мужчины получают чуть чуть более высокие балы на экзамене."
   ]
  },
  {
   "cell_type": "markdown",
   "id": "d6e1c767",
   "metadata": {},
   "source": [
    "### Анализируем столбец address."
   ]
  },
  {
   "cell_type": "code",
   "execution_count": 54,
   "id": "2ba24618",
   "metadata": {},
   "outputs": [
    {
     "name": "stdout",
     "output_type": "stream",
     "text": [
      "Анализируем столбец address\n",
      "Уникальные значения: \n",
      "Кол-во нулевых значений: 14\n",
      "['U' nan 'R']\n"
     ]
    },
    {
     "data": {
      "image/png": "[encoded data removed]",
      "text/plain": [
       "<Figure size 432x288 with 1 Axes>"
      ]
     },
     "metadata": {
      "needs_background": "light"
     },
     "output_type": "display_data"
    }
   ],
   "source": [
    "get_boxplot(df_3, object_col[2])"
   ]
  },
  {
   "cell_type": "markdown",
   "id": "5aae0448",
   "metadata": {},
   "source": [
    "Условие к столбцу:   \n",
    "address — тип адреса ученика ('U' - городской, 'R' - за городом)\n",
    "\n",
    "Вывод:  \n",
    "В соответствии  с условием, выбросы не обнаружены.  \n",
    "Судя по графику, городские получают более высокий был чем ученики которые живут за городом."
   ]
  },
  {
   "cell_type": "markdown",
   "id": "17b184c6",
   "metadata": {},
   "source": [
    "### Анализируем столбец famsize."
   ]
  },
  {
   "cell_type": "code",
   "execution_count": 55,
   "id": "2068d31e",
   "metadata": {},
   "outputs": [
    {
     "name": "stdout",
     "output_type": "stream",
     "text": [
      "Анализируем столбец famsize\n",
      "Уникальные значения: \n",
      "Кол-во нулевых значений: 24\n",
      "[nan 'GT3' 'LE3']\n"
     ]
    },
    {
     "data": {
      "image/png": "[encoded data removed]",
      "text/plain": [
       "<Figure size 432x288 with 1 Axes>"
      ]
     },
     "metadata": {
      "needs_background": "light"
     },
     "output_type": "display_data"
    }
   ],
   "source": [
    "get_boxplot(df_3, object_col[3])"
   ]
  },
  {
   "cell_type": "markdown",
   "id": "40440161",
   "metadata": {},
   "source": [
    "Условие к столбцу:  \n",
    "famsize — размер семьи('LE3' <= 3, 'GT3' >3)  \n",
    "\n",
    "Вывод:  \n",
    "В соответствии  с условием, выбросы не обнаружены.  \n",
    "Судя по графику, столбец не влияет на баллы набранные экзамене."
   ]
  },
  {
   "cell_type": "markdown",
   "id": "45581ed5",
   "metadata": {},
   "source": [
    "### Анализируем столбец Pstatus."
   ]
  },
  {
   "cell_type": "code",
   "execution_count": 56,
   "id": "bc552839",
   "metadata": {},
   "outputs": [
    {
     "name": "stdout",
     "output_type": "stream",
     "text": [
      "Анализируем столбец Pstatus\n",
      "Уникальные значения: \n",
      "Кол-во нулевых значений: 39\n",
      "['A' nan 'T']\n"
     ]
    },
    {
     "data": {
      "image/png": "[encoded data removed]",
      "text/plain": [
       "<Figure size 432x288 with 1 Axes>"
      ]
     },
     "metadata": {
      "needs_background": "light"
     },
     "output_type": "display_data"
    }
   ],
   "source": [
    "get_boxplot(df_3, object_col[4])"
   ]
  },
  {
   "cell_type": "markdown",
   "id": "7e00e5ef",
   "metadata": {},
   "source": [
    "Условие к столбцу:  \n",
    "Pstatus — статус совместного жилья родителей ('T' - живут вместе 'A' - раздельно)  \n",
    "\n",
    "Вывод:  \n",
    "В соответствии  с условием, выбросы не обнаружены.  \n",
    "Судя по графику, столбец не влияет на баллы набранные экзамене."
   ]
  },
  {
   "cell_type": "markdown",
   "id": "2723949c",
   "metadata": {},
   "source": [
    "### Анализируем столбец Mjob."
   ]
  },
  {
   "cell_type": "code",
   "execution_count": 57,
   "id": "4c0720fd",
   "metadata": {},
   "outputs": [
    {
     "name": "stdout",
     "output_type": "stream",
     "text": [
      "Анализируем столбец Mjob\n",
      "Уникальные значения: \n",
      "Кол-во нулевых значений: 17\n",
      "['at_home' 'health' 'other' 'services' 'teacher' nan]\n"
     ]
    },
    {
     "data": {
      "image/png": "[encoded data removed]",
      "text/plain": [
       "<Figure size 432x288 with 1 Axes>"
      ]
     },
     "metadata": {
      "needs_background": "light"
     },
     "output_type": "display_data"
    }
   ],
   "source": [
    "get_boxplot(df_3, object_col[5])"
   ]
  },
  {
   "cell_type": "markdown",
   "id": "a1558949",
   "metadata": {},
   "source": [
    "Условие к столбцу:  \n",
    "Mjob — работа матери ('teacher' - учитель, 'health' - сфера здравоохранения, 'services' - гос служба, 'at_home' - не работает, 'other' - другое)  \n",
    "\n",
    "Вывод:  \n",
    "В соответствии с условием, выбросы не обнаружены.  \n",
    "Судя по графику, столбец незначительно влияет на баллы набранные на экзамене."
   ]
  },
  {
   "cell_type": "markdown",
   "id": "0bcd9792",
   "metadata": {},
   "source": [
    "### Анализируем столбец Fjob."
   ]
  },
  {
   "cell_type": "code",
   "execution_count": 58,
   "id": "a03c5104",
   "metadata": {},
   "outputs": [
    {
     "name": "stdout",
     "output_type": "stream",
     "text": [
      "Анализируем столбец Fjob\n",
      "Уникальные значения: \n",
      "Кол-во нулевых значений: 32\n",
      "['teacher' 'other' nan 'health' 'services' 'at_home']\n"
     ]
    },
    {
     "data": {
      "image/png": "[encoded data removed]",
      "text/plain": [
       "<Figure size 432x288 with 1 Axes>"
      ]
     },
     "metadata": {
      "needs_background": "light"
     },
     "output_type": "display_data"
    }
   ],
   "source": [
    "get_boxplot(df_3, object_col[6])"
   ]
  },
  {
   "cell_type": "markdown",
   "id": "b6bef5aa",
   "metadata": {},
   "source": [
    "Условие к столбцу:  \n",
    "Fjob — работа отца ('teacher' - учитель, 'health' - сфера здравоохранения, 'services' - гос служба, 'at_home' - не работает, 'other' - другое) \n",
    "\n",
    "Вывод:  \n",
    "В соответствии с условием, выбросы не обнаружены.  \n",
    "Судя по графику, столбец незначительно влияет на баллы набранные на экзамене."
   ]
  },
  {
   "cell_type": "markdown",
   "id": "ae2a2d81",
   "metadata": {},
   "source": [
    "### Анализируем столбец reason."
   ]
  },
  {
   "cell_type": "code",
   "execution_count": 59,
   "id": "68687ec9",
   "metadata": {},
   "outputs": [
    {
     "name": "stdout",
     "output_type": "stream",
     "text": [
      "Анализируем столбец reason\n",
      "Уникальные значения: \n",
      "Кол-во нулевых значений: 15\n",
      "['course' 'other' 'home' 'reputation' nan]\n"
     ]
    },
    {
     "data": {
      "image/png": "[encoded data removed]",
      "text/plain": [
       "<Figure size 432x288 with 1 Axes>"
      ]
     },
     "metadata": {
      "needs_background": "light"
     },
     "output_type": "display_data"
    }
   ],
   "source": [
    "get_boxplot(df_3, object_col[7])"
   ]
  },
  {
   "cell_type": "markdown",
   "id": "a6641072",
   "metadata": {},
   "source": [
    "Условие к столбцу:  \n",
    "reason — причина выбора школы ('home' - близость к дому, 'reputation' - репутация школы, 'course' - образовательная программа, 'other' - другое)\n",
    "\n",
    "Вывод:  \n",
    "В соответствии с условием, выбросы не обнаружены.  \n",
    "Судя по графику, столбец не влияет на баллы набранные на экзамене."
   ]
  },
  {
   "cell_type": "markdown",
   "id": "a37e9488",
   "metadata": {},
   "source": [
    "### Анализируем столбец guardian."
   ]
  },
  {
   "cell_type": "code",
   "execution_count": 60,
   "id": "0df85006",
   "metadata": {},
   "outputs": [
    {
     "name": "stdout",
     "output_type": "stream",
     "text": [
      "Анализируем столбец guardian\n",
      "Уникальные значения: \n",
      "Кол-во нулевых значений: 29\n",
      "['mother' 'father' 'other' nan]\n"
     ]
    },
    {
     "data": {
      "image/png": "[encoded data removed]",
      "text/plain": [
       "<Figure size 432x288 with 1 Axes>"
      ]
     },
     "metadata": {
      "needs_background": "light"
     },
     "output_type": "display_data"
    }
   ],
   "source": [
    "get_boxplot(df_3, object_col[8])"
   ]
  },
  {
   "cell_type": "markdown",
   "id": "702a68c1",
   "metadata": {},
   "source": [
    "Условие к столбцу:  \n",
    "guardian — опекун ('mother' - мать, 'father' - отец, 'other' - другое)  \n",
    "\n",
    "Вывод:  \n",
    "В соответствии с условием, выбросы не обнаружены.  \n",
    "Судя по графику, столбец незначительно влияет на баллы набранные на экзамене."
   ]
  },
  {
   "cell_type": "markdown",
   "id": "d648cb52",
   "metadata": {},
   "source": [
    "### Анализируем столбец schoolsup."
   ]
  },
  {
   "cell_type": "code",
   "execution_count": 61,
   "id": "fddfa01b",
   "metadata": {},
   "outputs": [
    {
     "name": "stdout",
     "output_type": "stream",
     "text": [
      "Анализируем столбец schoolsup\n",
      "Уникальные значения: \n",
      "Кол-во нулевых значений: 9\n",
      "['yes' 'no' nan]\n"
     ]
    },
    {
     "data": {
      "image/png": "[encoded data removed]",
      "text/plain": [
       "<Figure size 432x288 with 1 Axes>"
      ]
     },
     "metadata": {
      "needs_background": "light"
     },
     "output_type": "display_data"
    }
   ],
   "source": [
    "get_boxplot(df_3, object_col[9])"
   ]
  },
  {
   "cell_type": "markdown",
   "id": "b37677b6",
   "metadata": {},
   "source": [
    "Условие к столбцу:  \n",
    "schoolsup — дополнительная образовательная поддержка (yes или no)  \n",
    "\n",
    "Вывод:  \n",
    "В соответствии с условием, выбросы не обнаружены.  \n",
    "Судя по графику, столбец влияет на баллы, набранные на экзамене.  \n",
    "Логически, странно что дополнительная образовательная поддержка отрицательно сказывается на баллы, набранные на экзамене.  \n",
    "В дальнейшем надо будет поэкспериментировать с данным признаком.  \n",
    "Добавим наименование столбца в наш список странных столбца."
   ]
  },
  {
   "cell_type": "code",
   "execution_count": 62,
   "id": "9cf2e07f",
   "metadata": {},
   "outputs": [],
   "source": [
    "strange_col.append(object_col[9])"
   ]
  },
  {
   "cell_type": "markdown",
   "id": "29f9e2d7",
   "metadata": {},
   "source": [
    "### Анализируем столбец famsup."
   ]
  },
  {
   "cell_type": "code",
   "execution_count": 63,
   "id": "afd76540",
   "metadata": {},
   "outputs": [
    {
     "name": "stdout",
     "output_type": "stream",
     "text": [
      "Анализируем столбец famsup\n",
      "Уникальные значения: \n",
      "Кол-во нулевых значений: 36\n",
      "['no' 'yes' nan]\n"
     ]
    },
    {
     "data": {
      "image/png": "[encoded data removed]",
      "text/plain": [
       "<Figure size 432x288 with 1 Axes>"
      ]
     },
     "metadata": {
      "needs_background": "light"
     },
     "output_type": "display_data"
    }
   ],
   "source": [
    "get_boxplot(df_3, object_col[10])"
   ]
  },
  {
   "cell_type": "markdown",
   "id": "9505bbeb",
   "metadata": {},
   "source": [
    "Условие к столбцу:  \n",
    "famsup — семейная образовательная поддержка (yes или no) \n",
    "\n",
    "Вывод:  \n",
    "В соответствии с условием, выбросы не обнаружены.  \n",
    "Судя по графику, столбец незначительно влияет на баллы, набранные на экзамене.  \n",
    "Логически, странно что образовательная поддержка отрицательно сказывается на баллы, набранные на экзамене.  \n",
    "В дальнейшем надо будет поэкспериментировать с данным признаком.  \n",
    "Добавим наименование столбца в наш список странных столбца."
   ]
  },
  {
   "cell_type": "code",
   "execution_count": 64,
   "id": "fa93f610",
   "metadata": {},
   "outputs": [],
   "source": [
    "strange_col.append(object_col[10])"
   ]
  },
  {
   "cell_type": "markdown",
   "id": "af906537",
   "metadata": {},
   "source": [
    "### Анализируем столбец paid."
   ]
  },
  {
   "cell_type": "code",
   "execution_count": 65,
   "id": "ed7d2c15",
   "metadata": {},
   "outputs": [
    {
     "name": "stdout",
     "output_type": "stream",
     "text": [
      "Анализируем столбец paid\n",
      "Уникальные значения: \n",
      "Кол-во нулевых значений: 36\n",
      "['no' nan 'yes']\n"
     ]
    },
    {
     "data": {
      "image/png": "[encoded data removed]",
      "text/plain": [
       "<Figure size 432x288 with 1 Axes>"
      ]
     },
     "metadata": {
      "needs_background": "light"
     },
     "output_type": "display_data"
    }
   ],
   "source": [
    "get_boxplot(df_3, object_col[11])"
   ]
  },
  {
   "cell_type": "markdown",
   "id": "4b36fb0e",
   "metadata": {},
   "source": [
    "Условие к столбцу:  \n",
    "paid — дополнительные платные занятия по математике (yes или no)  \n",
    "\n",
    "Вывод:  \n",
    "В соответствии с условием, выбросы не обнаружены.  \n",
    "Судя по графику, столбец незначительно влияет на баллы, набранные на экзамене.  \n",
    "Логически, наличие дополнительных платных занятий отрицательно сказывается на баллы, набранные на экзамене.  \n",
    "В дальнейшем надо будет поэкспериментировать с данным признаком.  \n",
    "Добавим наименование столбца в наш список странных столбцов."
   ]
  },
  {
   "cell_type": "code",
   "execution_count": 66,
   "id": "7479c56e",
   "metadata": {},
   "outputs": [],
   "source": [
    "strange_col.append(object_col[11])"
   ]
  },
  {
   "cell_type": "markdown",
   "id": "4a863273",
   "metadata": {},
   "source": [
    "### Анализируем столбец activities."
   ]
  },
  {
   "cell_type": "code",
   "execution_count": 67,
   "id": "ca38949a",
   "metadata": {},
   "outputs": [
    {
     "name": "stdout",
     "output_type": "stream",
     "text": [
      "Анализируем столбец activities\n",
      "Уникальные значения: \n",
      "Кол-во нулевых значений: 12\n",
      "['no' 'yes' nan]\n"
     ]
    },
    {
     "data": {
      "image/png": "[encoded data removed]",
      "text/plain": [
       "<Figure size 432x288 with 1 Axes>"
      ]
     },
     "metadata": {
      "needs_background": "light"
     },
     "output_type": "display_data"
    }
   ],
   "source": [
    "get_boxplot(df_3, object_col[12])"
   ]
  },
  {
   "cell_type": "markdown",
   "id": "81a2d666",
   "metadata": {},
   "source": [
    "Условие к столбцу:  \n",
    "paid — дополнительные платные занятия по математике (yes или no)\n",
    "\n",
    "Вывод:  \n",
    "В соответствии с условием, выбросы не обнаружены.  \n",
    "Судя по графику, столбец незначительно влияет на баллы, набранные на экзамене.  \n",
    "Логически, наличие дополнительных платных занятий отрицательно сказывается на баллы, набранные на экзамене.  \n",
    "В дальнейшем надо будет поэкспериментировать с данным признаком.  \n",
    "Добавим наименование столбца в наш список странных столбцов."
   ]
  },
  {
   "cell_type": "markdown",
   "id": "8ad50511",
   "metadata": {},
   "source": [
    "### Анализируем столбец nursery."
   ]
  },
  {
   "cell_type": "code",
   "execution_count": 68,
   "id": "9c146785",
   "metadata": {},
   "outputs": [
    {
     "name": "stdout",
     "output_type": "stream",
     "text": [
      "Анализируем столбец nursery\n",
      "Уникальные значения: \n",
      "Кол-во нулевых значений: 12\n",
      "['yes' 'no' nan]\n"
     ]
    },
    {
     "data": {
      "image/png": "[encoded data removed]",
      "text/plain": [
       "<Figure size 432x288 with 1 Axes>"
      ]
     },
     "metadata": {
      "needs_background": "light"
     },
     "output_type": "display_data"
    }
   ],
   "source": [
    "get_boxplot(df_3, object_col[13])"
   ]
  },
  {
   "cell_type": "markdown",
   "id": "cf40c407",
   "metadata": {},
   "source": [
    "Условие к столбцу:  \n",
    "nursery — посещал детский сад (yes или no)\n",
    "\n",
    "Вывод:  \n",
    "В соответствии с условием, выбросы не обнаружены.  \n",
    "Судя по графику, столбец незначительно влияет на баллы, набранные на экзамене.  "
   ]
  },
  {
   "cell_type": "markdown",
   "id": "91a8e3ae",
   "metadata": {},
   "source": [
    "### Анализируем столбец higher."
   ]
  },
  {
   "cell_type": "code",
   "execution_count": 69,
   "id": "d2c481ee",
   "metadata": {},
   "outputs": [
    {
     "name": "stdout",
     "output_type": "stream",
     "text": [
      "Анализируем столбец higher\n",
      "Уникальные значения: \n",
      "Кол-во нулевых значений: 19\n",
      "['yes' nan 'no']\n"
     ]
    },
    {
     "data": {
      "image/png": "[encoded data removed]",
      "text/plain": [
       "<Figure size 432x288 with 1 Axes>"
      ]
     },
     "metadata": {
      "needs_background": "light"
     },
     "output_type": "display_data"
    }
   ],
   "source": [
    "get_boxplot(df_3, object_col[14])"
   ]
  },
  {
   "cell_type": "markdown",
   "id": "20e9fd96",
   "metadata": {},
   "source": [
    "Условие к столбцу:  \n",
    "higher — хочет получить высшее образование (yes или no)\n",
    "\n",
    "Вывод:  \n",
    "В соответствии с условием, выбросы не обнаружены.  \n",
    "Судя по графику, столбец влияет на баллы, набранные на экзамене. "
   ]
  },
  {
   "cell_type": "markdown",
   "id": "e3cc6cf4",
   "metadata": {},
   "source": [
    "### Анализируем столбец internet."
   ]
  },
  {
   "cell_type": "code",
   "execution_count": 70,
   "id": "cd8685dc",
   "metadata": {},
   "outputs": [
    {
     "name": "stdout",
     "output_type": "stream",
     "text": [
      "Анализируем столбец internet\n",
      "Уникальные значения: \n",
      "Кол-во нулевых значений: 29\n",
      "[nan 'yes' 'no']\n"
     ]
    },
    {
     "data": {
      "image/png": "[encoded data removed]",
      "text/plain": [
       "<Figure size 432x288 with 1 Axes>"
      ]
     },
     "metadata": {
      "needs_background": "light"
     },
     "output_type": "display_data"
    }
   ],
   "source": [
    "get_boxplot(df_3, object_col[15])"
   ]
  },
  {
   "cell_type": "markdown",
   "id": "cca462cd",
   "metadata": {},
   "source": [
    "Условие к столбцу:  \n",
    "internet — наличие интернета дома (yes или no)\n",
    "\n",
    "Вывод:  \n",
    "В соответствии с условием, выбросы не обнаружены.  \n",
    "Судя по графику, столбец влияет на баллы, набранные на экзамене. "
   ]
  },
  {
   "cell_type": "markdown",
   "id": "085fcdda",
   "metadata": {},
   "source": [
    "### Анализируем столбец romantic."
   ]
  },
  {
   "cell_type": "code",
   "execution_count": 71,
   "id": "bc89b7e5",
   "metadata": {},
   "outputs": [
    {
     "name": "stdout",
     "output_type": "stream",
     "text": [
      "Анализируем столбец romantic\n",
      "Уникальные значения: \n",
      "Кол-во нулевых значений: 29\n",
      "['no' nan 'yes']\n"
     ]
    },
    {
     "data": {
      "image/png": "[encoded data removed]",
      "text/plain": [
       "<Figure size 432x288 with 1 Axes>"
      ]
     },
     "metadata": {
      "needs_background": "light"
     },
     "output_type": "display_data"
    }
   ],
   "source": [
    "get_boxplot(df_3, object_col[16])"
   ]
  },
  {
   "cell_type": "markdown",
   "id": "aba080d7",
   "metadata": {},
   "source": [
    "Условие к столбцу:  \n",
    "romantic — в романтических отношениях (yes или no)\n",
    "\n",
    "Вывод:  \n",
    "В соответствии с условием, выбросы не обнаружены.  \n",
    "Судя по графику, столбец незначительно влияет на баллы, набранные на экзамене. "
   ]
  },
  {
   "cell_type": "markdown",
   "id": "286ca96c",
   "metadata": {},
   "source": [
    "# Проверим, есть ли статистическая разница в распределении оценок по номинативным признакам, с помощью теста Anova"
   ]
  },
  {
   "cell_type": "code",
   "execution_count": 72,
   "id": "d8818fac",
   "metadata": {},
   "outputs": [],
   "source": [
    "#  создадим список, куда поместим все статистически значимые переменные. \n",
    "nom_stat_meaningful = []"
   ]
  },
  {
   "cell_type": "code",
   "execution_count": 73,
   "id": "7ee3a1c4",
   "metadata": {},
   "outputs": [
    {
     "name": "stdout",
     "output_type": "stream",
     "text": [
      "Найдены статистически значимые различия для колонки address\n",
      "Найдены статистически значимые различия для колонки Mjob\n",
      "Найдены статистически значимые различия для колонки Fjob\n",
      "Найдены статистически значимые различия для колонки schoolsup\n"
     ]
    }
   ],
   "source": [
    "def get_stat_anova(df, column):\n",
    "    ''' Код проводит статистический анализ с помощью теста Anova\n",
    "    на вход принимает df - датасет и column - столбец из таблицы.\n",
    "    Корреляция происходи на основе столбца score (итоговое значение) '''\n",
    "\n",
    "    cols = df.loc[:, column].value_counts().index\n",
    "    combinations_all = list(combinations(cols, 2))\n",
    "\n",
    "    for comb in combinations_all:\n",
    "        pvalue_1 = stats.f_oneway(\n",
    "            df.loc[df.loc[:, column] == comb[0], 'score'], df.loc[df.loc[:, column] == comb[1], 'score']).pvalue\n",
    "        if pvalue_1 <= 0.05:  # Учли поправку Бонферони\n",
    "            nom_stat_meaningful.append(column)\n",
    "            print('Найдены статистически значимые различия для колонки', column)\n",
    "            break\n",
    "\n",
    "\n",
    "for i in object_col:\n",
    "    get_stat_anova(df_3, i)"
   ]
  },
  {
   "cell_type": "markdown",
   "id": "9abf48b9",
   "metadata": {},
   "source": [
    "# Вывод по работе."
   ]
  },
  {
   "cell_type": "markdown",
   "id": "0a458c8a",
   "metadata": {},
   "source": [
    "Итак, в результате EDA для анализа влияния условий жизни учащихся в возрасте от 15 до 22 лет на их успеваемость по математике были получены следующие выводы:\n",
    "\n",
    "- В данных достаточно мало пустых значений.\n",
    "    Выбросы найдены только в столбцах с Fedu, famrel и absences. Так же обнаружено какое-то странное распределение в итоговых баллам по математике. Слишком много учеников в выборке набрали 0 баллов. Необходимо уточнить условия по этому столбцу. В целом можно сказать, что данные достаточно чистые.\n",
    "- Обнаружена положительная корреляция параметров Medu, studytime, failures, goout, absences. Можно говорить, что мама вносить огромный вклад в обучение учеников, количество учебных часов в программе. Количество ошибок помогает студентам стать мудрее. А большое количество проведенного времени с друзьями и отсутствие на занятиях отрицательно влияют на итоговую оценку по математике.\n",
    "- Столбцы studytime, granular и studytime обратно скоррелированы почти полностью, одну переменную можно исключить. Пусть это будет переменная studytime, granular. \n",
    "- Тест Anova указал на следующие статистически значимые колонки: address, Mjob, Fjob, schoolsup.\n",
    "- При наличии дополнительного времени, запросить дополнительные данные и отдельно изучить влияние колонок famsup, paid, т.к. фактические результаты не соответствуют ожиданиям. Возможно дополнительные платные занятия, семейная образовательная поддержка и дополнительная образовательная поддержка не эффективны, а возможно есть препятствия, которые не позволяют получить должный эффект от вышеуказанной деятельности. \n",
    "- Самые важные параметры, которые предлагаю использовать в дальнейшем для построения модели, это company, Medu, studytime, failures, goout, и absences, address, Mjob, Fjob, schoolsup.\n"
   ]
  }
 ],
 "metadata": {
  "kernelspec": {
   "display_name": "Python 3",
   "language": "python",
   "name": "python3"
  },
  "language_info": {
   "codemirror_mode": {
    "name": "ipython",
    "version": 3
   },
   "file_extension": ".py",
   "mimetype": "text/x-python",
   "name": "python",
   "nbconvert_exporter": "python",
   "pygments_lexer": "ipython3",
   "version": "3.8.8"
  }
 },
 "nbformat": 4,
 "nbformat_minor": 5
}
