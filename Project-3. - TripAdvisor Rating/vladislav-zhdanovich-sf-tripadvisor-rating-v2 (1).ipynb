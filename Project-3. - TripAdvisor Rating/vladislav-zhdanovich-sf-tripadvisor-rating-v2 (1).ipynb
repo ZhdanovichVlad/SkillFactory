{
 "cells": [
  {
   "cell_type": "markdown",
   "metadata": {},
   "source": [
    "# Данный проект проходит в рамках учебного соревнования \n",
    "https://www.kaggle.com/c/sf-dst-restaurant-rating/data"
   ]
  },
  {
   "cell_type": "markdown",
   "metadata": {},
   "source": [
    "![](https://www.pata.org/wp-content/uploads/2014/09/TripAdvisor_Logo-300x119.png)\n",
    "# Predict TripAdvisor Rating\n",
    "## В этом соревновании нам предстоит предсказать рейтинг ресторана в TripAdvisor\n",
    "**По ходу задачи:**\n",
    "* Прокачаем работу с pandas\n",
    "* Научимся работать с Kaggle Notebooks\n",
    "* Поймем как делать предобработку различных данных\n",
    "* Научимся работать с пропущенными данными (Nan)\n",
    "* Познакомимся с различными видами кодирования признаков\n",
    "* Немного попробуем [Feature Engineering](https://ru.wikipedia.org/wiki/Конструирование_признаков) (генерировать новые признаки)\n",
    "* И совсем немного затронем ML\n",
    "* И многое другое...   \n",
    "\n",
    "\n",
    "\n",
    "### И самое важное, все это вы сможете сделать самостоятельно!\n",
    "\n",
    "*Этот Ноутбук являетсся Примером/Шаблоном к этому соревнованию (Baseline) и не служит готовым решением!*   \n",
    "Вы можете использовать его как основу для построения своего решения.\n",
    "\n",
    "> что такое baseline решение, зачем оно нужно и почему предоставлять baseline к соревнованию стало важным стандартом на kaggle и других площадках.   \n",
    "**baseline** создается больше как шаблон, где можно посмотреть как происходит обращение с входящими данными и что нужно получить на выходе. При этом МЛ начинка может быть достаточно простой, просто для примера. Это помогает быстрее приступить к самому МЛ, а не тратить ценное время на чисто инженерные задачи. \n",
    "Также baseline являеться хорошей опорной точкой по метрике. Если твое решение хуже baseline - ты явно делаешь что-то не то и стоит попробовать другой путь) \n",
    "\n",
    "В контексте нашего соревнования baseline идет с небольшими примерами того, что можно делать с данными, и с инструкцией, что делать дальше, чтобы улучшить результат.  Вообще готовым решением это сложно назвать, так как используются всего 2 самых простых признака (а остальные исключаются)."
   ]
  },
  {
   "cell_type": "markdown",
   "metadata": {},
   "source": [
    "# import"
   ]
  },
  {
   "cell_type": "code",
   "execution_count": 36,
   "metadata": {
    "_cell_guid": "b1076dfc-b9ad-4769-8c92-a6c4dae69d19",
    "_uuid": "8f2839f25d086af736a60e9eeb907d3b93b6e0e5",
    "execution": {
     "iopub.execute_input": "2021-09-04T15:46:08.926601Z",
     "iopub.status.busy": "2021-09-04T15:46:08.926147Z",
     "iopub.status.idle": "2021-09-04T15:46:12.224061Z",
     "shell.execute_reply": "2021-09-04T15:46:12.222933Z",
     "shell.execute_reply.started": "2021-09-04T15:46:08.926553Z"
    }
   },
   "outputs": [],
   "source": [
    "# This Python 3 environment comes with many helpful analytics libraries installed\n",
    "# It is defined by the kaggle/python docker image: https://github.com/kaggle/docker-python\n",
    "# For example, here's several helpful packages to load in \n",
    "\n",
    "import numpy as np # linear algebra\n",
    "import pandas as pd # data processing, CSV file I/O (e.g. pd.read_csv)\n",
    "\n",
    "from datetime import datetime\n",
    "import re \n",
    "from collections import Counter\n",
    "from sklearn import preprocessing\n",
    "\n",
    "import matplotlib.pyplot as plt\n",
    "import seaborn as sns \n",
    "%matplotlib inline\n",
    "\n",
    "# Загружаем специальный удобный инструмент для разделения датасета:\n",
    "from sklearn.model_selection import train_test_split\n",
    "\n",
    "# Input data files are available in the \"../input/\" directory.\n",
    "# For example, running this (by clicking run or pressing Shift+Enter) will list all files under the input directory\n",
    "\n",
    "import os\n",
    "for dirname, _, filenames in os.walk('/kaggle/input'):\n",
    "    for filename in filenames:\n",
    "        print(os.path.join(dirname, filename))\n",
    "\n",
    "# Any results you write to the current directory are saved as output."
   ]
  },
  {
   "cell_type": "code",
   "execution_count": 37,
   "metadata": {
    "execution": {
     "iopub.execute_input": "2021-09-04T15:46:12.225937Z",
     "iopub.status.busy": "2021-09-04T15:46:12.225702Z",
     "iopub.status.idle": "2021-09-04T15:46:12.229714Z",
     "shell.execute_reply": "2021-09-04T15:46:12.228765Z",
     "shell.execute_reply.started": "2021-09-04T15:46:12.225903Z"
    }
   },
   "outputs": [],
   "source": [
    "# всегда фиксируйте RANDOM_SEED, чтобы ваши эксперименты были воспроизводимы!\n",
    "RANDOM_SEED = 42"
   ]
  },
  {
   "cell_type": "code",
   "execution_count": 38,
   "metadata": {
    "execution": {
     "iopub.execute_input": "2021-09-04T15:46:12.231635Z",
     "iopub.status.busy": "2021-09-04T15:46:12.231380Z",
     "iopub.status.idle": "2021-09-04T15:46:15.731320Z",
     "shell.execute_reply": "2021-09-04T15:46:15.730090Z",
     "shell.execute_reply.started": "2021-09-04T15:46:12.231592Z"
    }
   },
   "outputs": [],
   "source": [
    "# зафиксируем версию пакетов, чтобы эксперименты были воспроизводимы:\n",
    "!pip freeze > requirements.txt"
   ]
  },
  {
   "cell_type": "markdown",
   "metadata": {},
   "source": [
    "# DATA"
   ]
  },
  {
   "cell_type": "code",
   "execution_count": 39,
   "metadata": {
    "_cell_guid": "79c7e3d0-c299-4dcb-8224-4455121ee9b0",
    "_uuid": "d629ff2d2480ee46fbb7e2d37f6b5fab8052498a",
    "execution": {
     "iopub.execute_input": "2021-09-04T15:46:15.736235Z",
     "iopub.status.busy": "2021-09-04T15:46:15.735909Z",
     "iopub.status.idle": "2021-09-04T15:46:16.144530Z",
     "shell.execute_reply": "2021-09-04T15:46:16.143568Z",
     "shell.execute_reply.started": "2021-09-04T15:46:15.736181Z"
    }
   },
   "outputs": [],
   "source": [
    "df_train = pd.read_csv('main_task.csv')\n",
    "df_test = pd.read_csv('kaggle_task.csv')\n",
    "sample_submission = pd.read_csv('sample_submission.csv')"
   ]
  },
  {
   "cell_type": "code",
   "execution_count": 40,
   "metadata": {
    "execution": {
     "iopub.execute_input": "2021-09-04T15:46:16.148432Z",
     "iopub.status.busy": "2021-09-04T15:46:16.148087Z",
     "iopub.status.idle": "2021-09-04T15:46:16.327970Z",
     "shell.execute_reply": "2021-09-04T15:46:16.326865Z",
     "shell.execute_reply.started": "2021-09-04T15:46:16.148368Z"
    }
   },
   "outputs": [],
   "source": [
    "#  Добавим дополнительные данные\n",
    "worldcities = pd.read_csv('worldcities.csv')\n",
    "сost_of_living_index = pd.read_csv('Cost_of_living_index.csv')"
   ]
  },
  {
   "cell_type": "code",
   "execution_count": 41,
   "metadata": {
    "execution": {
     "iopub.execute_input": "2021-09-04T15:46:16.331464Z",
     "iopub.status.busy": "2021-09-04T15:46:16.330984Z",
     "iopub.status.idle": "2021-09-04T15:46:16.383090Z",
     "shell.execute_reply": "2021-09-04T15:46:16.382296Z",
     "shell.execute_reply.started": "2021-09-04T15:46:16.331260Z"
    }
   },
   "outputs": [
    {
     "name": "stdout",
     "output_type": "stream",
     "text": [
      "<class 'pandas.core.frame.DataFrame'>\n",
      "RangeIndex: 40000 entries, 0 to 39999\n",
      "Data columns (total 10 columns):\n",
      " #   Column             Non-Null Count  Dtype  \n",
      "---  ------             --------------  -----  \n",
      " 0   Restaurant_id      40000 non-null  object \n",
      " 1   City               40000 non-null  object \n",
      " 2   Cuisine Style      30717 non-null  object \n",
      " 3   Ranking            40000 non-null  float64\n",
      " 4   Rating             40000 non-null  float64\n",
      " 5   Price Range        26114 non-null  object \n",
      " 6   Number of Reviews  37457 non-null  float64\n",
      " 7   Reviews            40000 non-null  object \n",
      " 8   URL_TA             40000 non-null  object \n",
      " 9   ID_TA              40000 non-null  object \n",
      "dtypes: float64(3), object(7)\n",
      "memory usage: 3.1+ MB\n"
     ]
    }
   ],
   "source": [
    "df_train.info()"
   ]
  },
  {
   "cell_type": "code",
   "execution_count": 42,
   "metadata": {
    "execution": {
     "iopub.execute_input": "2021-09-04T15:46:16.385607Z",
     "iopub.status.busy": "2021-09-04T15:46:16.385184Z",
     "iopub.status.idle": "2021-09-04T15:46:16.389506Z",
     "shell.execute_reply": "2021-09-04T15:46:16.388845Z",
     "shell.execute_reply.started": "2021-09-04T15:46:16.385428Z"
    }
   },
   "outputs": [],
   "source": [
    "# отметим колонки которые будем удалять\n",
    "drop_col = ['Restaurant_id', 'Cuisine Style' , 'Price Range',\n",
    "            'Reviews', 'URL_TA', \"ID_TA\"] "
   ]
  },
  {
   "cell_type": "code",
   "execution_count": 43,
   "metadata": {
    "execution": {
     "iopub.execute_input": "2021-09-04T15:46:16.391297Z",
     "iopub.status.busy": "2021-09-04T15:46:16.390840Z",
     "iopub.status.idle": "2021-09-04T15:46:16.430836Z",
     "shell.execute_reply": "2021-09-04T15:46:16.430093Z",
     "shell.execute_reply.started": "2021-09-04T15:46:16.391258Z"
    }
   },
   "outputs": [
    {
     "data": {
      "text/html": [
       "<div>\n",
       "<style scoped>\n",
       "    .dataframe tbody tr th:only-of-type {\n",
       "        vertical-align: middle;\n",
       "    }\n",
       "\n",
       "    .dataframe tbody tr th {\n",
       "        vertical-align: top;\n",
       "    }\n",
       "\n",
       "    .dataframe thead th {\n",
       "        text-align: right;\n",
       "    }\n",
       "</style>\n",
       "<table border=\"1\" class=\"dataframe\">\n",
       "  <thead>\n",
       "    <tr style=\"text-align: right;\">\n",
       "      <th></th>\n",
       "      <th>Restaurant_id</th>\n",
       "      <th>City</th>\n",
       "      <th>Cuisine Style</th>\n",
       "      <th>Ranking</th>\n",
       "      <th>Rating</th>\n",
       "      <th>Price Range</th>\n",
       "      <th>Number of Reviews</th>\n",
       "      <th>Reviews</th>\n",
       "      <th>URL_TA</th>\n",
       "      <th>ID_TA</th>\n",
       "    </tr>\n",
       "  </thead>\n",
       "  <tbody>\n",
       "    <tr>\n",
       "      <th>0</th>\n",
       "      <td>id_5569</td>\n",
       "      <td>Paris</td>\n",
       "      <td>['European', 'French', 'International']</td>\n",
       "      <td>5570.0</td>\n",
       "      <td>3.5</td>\n",
       "      <td>$$ - $$$</td>\n",
       "      <td>194.0</td>\n",
       "      <td>[['Good food at your doorstep', 'A good hotel ...</td>\n",
       "      <td>/Restaurant_Review-g187147-d1912643-Reviews-R_...</td>\n",
       "      <td>d1912643</td>\n",
       "    </tr>\n",
       "    <tr>\n",
       "      <th>1</th>\n",
       "      <td>id_1535</td>\n",
       "      <td>Stockholm</td>\n",
       "      <td>NaN</td>\n",
       "      <td>1537.0</td>\n",
       "      <td>4.0</td>\n",
       "      <td>NaN</td>\n",
       "      <td>10.0</td>\n",
       "      <td>[['Unique cuisine', 'Delicious Nepalese food']...</td>\n",
       "      <td>/Restaurant_Review-g189852-d7992032-Reviews-Bu...</td>\n",
       "      <td>d7992032</td>\n",
       "    </tr>\n",
       "    <tr>\n",
       "      <th>2</th>\n",
       "      <td>id_352</td>\n",
       "      <td>London</td>\n",
       "      <td>['Japanese', 'Sushi', 'Asian', 'Grill', 'Veget...</td>\n",
       "      <td>353.0</td>\n",
       "      <td>4.5</td>\n",
       "      <td>$$$$</td>\n",
       "      <td>688.0</td>\n",
       "      <td>[['Catch up with friends', 'Not exceptional'],...</td>\n",
       "      <td>/Restaurant_Review-g186338-d8632781-Reviews-RO...</td>\n",
       "      <td>d8632781</td>\n",
       "    </tr>\n",
       "    <tr>\n",
       "      <th>3</th>\n",
       "      <td>id_3456</td>\n",
       "      <td>Berlin</td>\n",
       "      <td>NaN</td>\n",
       "      <td>3458.0</td>\n",
       "      <td>5.0</td>\n",
       "      <td>NaN</td>\n",
       "      <td>3.0</td>\n",
       "      <td>[[], []]</td>\n",
       "      <td>/Restaurant_Review-g187323-d1358776-Reviews-Es...</td>\n",
       "      <td>d1358776</td>\n",
       "    </tr>\n",
       "    <tr>\n",
       "      <th>4</th>\n",
       "      <td>id_615</td>\n",
       "      <td>Munich</td>\n",
       "      <td>['German', 'Central European', 'Vegetarian Fri...</td>\n",
       "      <td>621.0</td>\n",
       "      <td>4.0</td>\n",
       "      <td>$$ - $$$</td>\n",
       "      <td>84.0</td>\n",
       "      <td>[['Best place to try a Bavarian food', 'Nice b...</td>\n",
       "      <td>/Restaurant_Review-g187309-d6864963-Reviews-Au...</td>\n",
       "      <td>d6864963</td>\n",
       "    </tr>\n",
       "  </tbody>\n",
       "</table>\n",
       "</div>"
      ],
      "text/plain": [
       "  Restaurant_id       City                                      Cuisine Style  \\\n",
       "0       id_5569      Paris            ['European', 'French', 'International']   \n",
       "1       id_1535  Stockholm                                                NaN   \n",
       "2        id_352     London  ['Japanese', 'Sushi', 'Asian', 'Grill', 'Veget...   \n",
       "3       id_3456     Berlin                                                NaN   \n",
       "4        id_615     Munich  ['German', 'Central European', 'Vegetarian Fri...   \n",
       "\n",
       "   Ranking  Rating Price Range  Number of Reviews  \\\n",
       "0   5570.0     3.5    $$ - $$$              194.0   \n",
       "1   1537.0     4.0         NaN               10.0   \n",
       "2    353.0     4.5        $$$$              688.0   \n",
       "3   3458.0     5.0         NaN                3.0   \n",
       "4    621.0     4.0    $$ - $$$               84.0   \n",
       "\n",
       "                                             Reviews  \\\n",
       "0  [['Good food at your doorstep', 'A good hotel ...   \n",
       "1  [['Unique cuisine', 'Delicious Nepalese food']...   \n",
       "2  [['Catch up with friends', 'Not exceptional'],...   \n",
       "3                                           [[], []]   \n",
       "4  [['Best place to try a Bavarian food', 'Nice b...   \n",
       "\n",
       "                                              URL_TA     ID_TA  \n",
       "0  /Restaurant_Review-g187147-d1912643-Reviews-R_...  d1912643  \n",
       "1  /Restaurant_Review-g189852-d7992032-Reviews-Bu...  d7992032  \n",
       "2  /Restaurant_Review-g186338-d8632781-Reviews-RO...  d8632781  \n",
       "3  /Restaurant_Review-g187323-d1358776-Reviews-Es...  d1358776  \n",
       "4  /Restaurant_Review-g187309-d6864963-Reviews-Au...  d6864963  "
      ]
     },
     "execution_count": 43,
     "metadata": {},
     "output_type": "execute_result"
    }
   ],
   "source": [
    "df_train.head(5)"
   ]
  },
  {
   "cell_type": "code",
   "execution_count": 44,
   "metadata": {
    "execution": {
     "iopub.execute_input": "2021-09-04T15:46:16.432198Z",
     "iopub.status.busy": "2021-09-04T15:46:16.431858Z",
     "iopub.status.idle": "2021-09-04T15:46:16.450068Z",
     "shell.execute_reply": "2021-09-04T15:46:16.448888Z",
     "shell.execute_reply.started": "2021-09-04T15:46:16.432161Z"
    }
   },
   "outputs": [
    {
     "name": "stdout",
     "output_type": "stream",
     "text": [
      "<class 'pandas.core.frame.DataFrame'>\n",
      "RangeIndex: 10000 entries, 0 to 9999\n",
      "Data columns (total 9 columns):\n",
      " #   Column             Non-Null Count  Dtype  \n",
      "---  ------             --------------  -----  \n",
      " 0   Restaurant_id      10000 non-null  object \n",
      " 1   City               10000 non-null  object \n",
      " 2   Cuisine Style      7693 non-null   object \n",
      " 3   Ranking            10000 non-null  float64\n",
      " 4   Price Range        6525 non-null   object \n",
      " 5   Number of Reviews  9343 non-null   float64\n",
      " 6   Reviews            9998 non-null   object \n",
      " 7   URL_TA             10000 non-null  object \n",
      " 8   ID_TA              10000 non-null  object \n",
      "dtypes: float64(2), object(7)\n",
      "memory usage: 703.2+ KB\n"
     ]
    }
   ],
   "source": [
    "df_test.info()"
   ]
  },
  {
   "cell_type": "code",
   "execution_count": 45,
   "metadata": {
    "execution": {
     "iopub.execute_input": "2021-09-04T15:46:16.451854Z",
     "iopub.status.busy": "2021-09-04T15:46:16.451581Z",
     "iopub.status.idle": "2021-09-04T15:46:16.471506Z",
     "shell.execute_reply": "2021-09-04T15:46:16.470666Z",
     "shell.execute_reply.started": "2021-09-04T15:46:16.451802Z"
    }
   },
   "outputs": [
    {
     "data": {
      "text/html": [
       "<div>\n",
       "<style scoped>\n",
       "    .dataframe tbody tr th:only-of-type {\n",
       "        vertical-align: middle;\n",
       "    }\n",
       "\n",
       "    .dataframe tbody tr th {\n",
       "        vertical-align: top;\n",
       "    }\n",
       "\n",
       "    .dataframe thead th {\n",
       "        text-align: right;\n",
       "    }\n",
       "</style>\n",
       "<table border=\"1\" class=\"dataframe\">\n",
       "  <thead>\n",
       "    <tr style=\"text-align: right;\">\n",
       "      <th></th>\n",
       "      <th>Restaurant_id</th>\n",
       "      <th>City</th>\n",
       "      <th>Cuisine Style</th>\n",
       "      <th>Ranking</th>\n",
       "      <th>Price Range</th>\n",
       "      <th>Number of Reviews</th>\n",
       "      <th>Reviews</th>\n",
       "      <th>URL_TA</th>\n",
       "      <th>ID_TA</th>\n",
       "    </tr>\n",
       "  </thead>\n",
       "  <tbody>\n",
       "    <tr>\n",
       "      <th>0</th>\n",
       "      <td>id_0</td>\n",
       "      <td>Paris</td>\n",
       "      <td>['Bar', 'Pub']</td>\n",
       "      <td>12963.0</td>\n",
       "      <td>$$ - $$$</td>\n",
       "      <td>4.0</td>\n",
       "      <td>[[], []]</td>\n",
       "      <td>/Restaurant_Review-g187147-d10746918-Reviews-L...</td>\n",
       "      <td>d10746918</td>\n",
       "    </tr>\n",
       "    <tr>\n",
       "      <th>1</th>\n",
       "      <td>id_1</td>\n",
       "      <td>Helsinki</td>\n",
       "      <td>['European', 'Scandinavian', 'Gluten Free Opti...</td>\n",
       "      <td>106.0</td>\n",
       "      <td>$$ - $$$</td>\n",
       "      <td>97.0</td>\n",
       "      <td>[['Very good reviews!', 'Fine dining in Hakani...</td>\n",
       "      <td>/Restaurant_Review-g189934-d6674944-Reviews-Ra...</td>\n",
       "      <td>d6674944</td>\n",
       "    </tr>\n",
       "    <tr>\n",
       "      <th>2</th>\n",
       "      <td>id_2</td>\n",
       "      <td>Edinburgh</td>\n",
       "      <td>['Vegetarian Friendly']</td>\n",
       "      <td>810.0</td>\n",
       "      <td>$$ - $$$</td>\n",
       "      <td>28.0</td>\n",
       "      <td>[['Better than the Links', 'Ivy Black'], ['12/...</td>\n",
       "      <td>/Restaurant_Review-g186525-d13129638-Reviews-B...</td>\n",
       "      <td>d13129638</td>\n",
       "    </tr>\n",
       "    <tr>\n",
       "      <th>3</th>\n",
       "      <td>id_3</td>\n",
       "      <td>London</td>\n",
       "      <td>['Italian', 'Mediterranean', 'European', 'Vege...</td>\n",
       "      <td>1669.0</td>\n",
       "      <td>$$$$</td>\n",
       "      <td>202.0</td>\n",
       "      <td>[['Most exquisite', 'Delicious and authentic']...</td>\n",
       "      <td>/Restaurant_Review-g186338-d680417-Reviews-Qui...</td>\n",
       "      <td>d680417</td>\n",
       "    </tr>\n",
       "    <tr>\n",
       "      <th>4</th>\n",
       "      <td>id_4</td>\n",
       "      <td>Bratislava</td>\n",
       "      <td>['Italian', 'Mediterranean', 'European', 'Seaf...</td>\n",
       "      <td>37.0</td>\n",
       "      <td>$$$$</td>\n",
       "      <td>162.0</td>\n",
       "      <td>[['Always the best in bratislava', 'Very good ...</td>\n",
       "      <td>/Restaurant_Review-g274924-d1112354-Reviews-Ma...</td>\n",
       "      <td>d1112354</td>\n",
       "    </tr>\n",
       "  </tbody>\n",
       "</table>\n",
       "</div>"
      ],
      "text/plain": [
       "  Restaurant_id        City  \\\n",
       "0          id_0       Paris   \n",
       "1          id_1    Helsinki   \n",
       "2          id_2   Edinburgh   \n",
       "3          id_3      London   \n",
       "4          id_4  Bratislava   \n",
       "\n",
       "                                       Cuisine Style  Ranking Price Range  \\\n",
       "0                                     ['Bar', 'Pub']  12963.0    $$ - $$$   \n",
       "1  ['European', 'Scandinavian', 'Gluten Free Opti...    106.0    $$ - $$$   \n",
       "2                            ['Vegetarian Friendly']    810.0    $$ - $$$   \n",
       "3  ['Italian', 'Mediterranean', 'European', 'Vege...   1669.0        $$$$   \n",
       "4  ['Italian', 'Mediterranean', 'European', 'Seaf...     37.0        $$$$   \n",
       "\n",
       "   Number of Reviews                                            Reviews  \\\n",
       "0                4.0                                           [[], []]   \n",
       "1               97.0  [['Very good reviews!', 'Fine dining in Hakani...   \n",
       "2               28.0  [['Better than the Links', 'Ivy Black'], ['12/...   \n",
       "3              202.0  [['Most exquisite', 'Delicious and authentic']...   \n",
       "4              162.0  [['Always the best in bratislava', 'Very good ...   \n",
       "\n",
       "                                              URL_TA      ID_TA  \n",
       "0  /Restaurant_Review-g187147-d10746918-Reviews-L...  d10746918  \n",
       "1  /Restaurant_Review-g189934-d6674944-Reviews-Ra...   d6674944  \n",
       "2  /Restaurant_Review-g186525-d13129638-Reviews-B...  d13129638  \n",
       "3  /Restaurant_Review-g186338-d680417-Reviews-Qui...    d680417  \n",
       "4  /Restaurant_Review-g274924-d1112354-Reviews-Ma...   d1112354  "
      ]
     },
     "execution_count": 45,
     "metadata": {},
     "output_type": "execute_result"
    }
   ],
   "source": [
    "df_test.head(5)"
   ]
  },
  {
   "cell_type": "code",
   "execution_count": 46,
   "metadata": {
    "execution": {
     "iopub.execute_input": "2021-09-04T15:46:16.473015Z",
     "iopub.status.busy": "2021-09-04T15:46:16.472770Z",
     "iopub.status.idle": "2021-09-04T15:46:16.484738Z",
     "shell.execute_reply": "2021-09-04T15:46:16.483596Z",
     "shell.execute_reply.started": "2021-09-04T15:46:16.472974Z"
    }
   },
   "outputs": [
    {
     "data": {
      "text/html": [
       "<div>\n",
       "<style scoped>\n",
       "    .dataframe tbody tr th:only-of-type {\n",
       "        vertical-align: middle;\n",
       "    }\n",
       "\n",
       "    .dataframe tbody tr th {\n",
       "        vertical-align: top;\n",
       "    }\n",
       "\n",
       "    .dataframe thead th {\n",
       "        text-align: right;\n",
       "    }\n",
       "</style>\n",
       "<table border=\"1\" class=\"dataframe\">\n",
       "  <thead>\n",
       "    <tr style=\"text-align: right;\">\n",
       "      <th></th>\n",
       "      <th>Restaurant_id</th>\n",
       "      <th>Rating</th>\n",
       "    </tr>\n",
       "  </thead>\n",
       "  <tbody>\n",
       "    <tr>\n",
       "      <th>0</th>\n",
       "      <td>id_0</td>\n",
       "      <td>2.0</td>\n",
       "    </tr>\n",
       "    <tr>\n",
       "      <th>1</th>\n",
       "      <td>id_1</td>\n",
       "      <td>2.5</td>\n",
       "    </tr>\n",
       "    <tr>\n",
       "      <th>2</th>\n",
       "      <td>id_2</td>\n",
       "      <td>4.0</td>\n",
       "    </tr>\n",
       "    <tr>\n",
       "      <th>3</th>\n",
       "      <td>id_3</td>\n",
       "      <td>1.0</td>\n",
       "    </tr>\n",
       "    <tr>\n",
       "      <th>4</th>\n",
       "      <td>id_4</td>\n",
       "      <td>4.0</td>\n",
       "    </tr>\n",
       "  </tbody>\n",
       "</table>\n",
       "</div>"
      ],
      "text/plain": [
       "  Restaurant_id  Rating\n",
       "0          id_0     2.0\n",
       "1          id_1     2.5\n",
       "2          id_2     4.0\n",
       "3          id_3     1.0\n",
       "4          id_4     4.0"
      ]
     },
     "execution_count": 46,
     "metadata": {},
     "output_type": "execute_result"
    }
   ],
   "source": [
    "sample_submission.head(5)"
   ]
  },
  {
   "cell_type": "code",
   "execution_count": 47,
   "metadata": {
    "execution": {
     "iopub.execute_input": "2021-09-04T15:46:16.486574Z",
     "iopub.status.busy": "2021-09-04T15:46:16.486199Z",
     "iopub.status.idle": "2021-09-04T15:46:16.498965Z",
     "shell.execute_reply": "2021-09-04T15:46:16.497812Z",
     "shell.execute_reply.started": "2021-09-04T15:46:16.486504Z"
    }
   },
   "outputs": [
    {
     "name": "stdout",
     "output_type": "stream",
     "text": [
      "<class 'pandas.core.frame.DataFrame'>\n",
      "RangeIndex: 10000 entries, 0 to 9999\n",
      "Data columns (total 2 columns):\n",
      " #   Column         Non-Null Count  Dtype  \n",
      "---  ------         --------------  -----  \n",
      " 0   Restaurant_id  10000 non-null  object \n",
      " 1   Rating         10000 non-null  float64\n",
      "dtypes: float64(1), object(1)\n",
      "memory usage: 156.4+ KB\n"
     ]
    }
   ],
   "source": [
    "sample_submission.info()"
   ]
  },
  {
   "cell_type": "code",
   "execution_count": 48,
   "metadata": {
    "execution": {
     "iopub.execute_input": "2021-09-04T15:46:16.501212Z",
     "iopub.status.busy": "2021-09-04T15:46:16.500835Z",
     "iopub.status.idle": "2021-09-04T15:46:16.557761Z",
     "shell.execute_reply": "2021-09-04T15:46:16.556685Z",
     "shell.execute_reply.started": "2021-09-04T15:46:16.501143Z"
    }
   },
   "outputs": [],
   "source": [
    "# ВАЖНО! дря корректной обработки признаков объединяем трейн и тест в один датасет\n",
    "df_train['sample'] = 1 # помечаем где у нас трейн\n",
    "df_test['sample'] = 0 # помечаем где у нас тест\n",
    "df_test['Rating'] = 0 # в тесте у нас нет значения Rating, мы его должны предсказать, по этому пока просто заполняем нулями\n",
    "\n",
    "data = df_test.append(df_train, sort=False).reset_index(drop=True) # объединяем"
   ]
  },
  {
   "cell_type": "code",
   "execution_count": 49,
   "metadata": {
    "execution": {
     "iopub.execute_input": "2021-09-04T15:46:16.559411Z",
     "iopub.status.busy": "2021-09-04T15:46:16.559106Z",
     "iopub.status.idle": "2021-09-04T15:46:16.606023Z",
     "shell.execute_reply": "2021-09-04T15:46:16.604695Z",
     "shell.execute_reply.started": "2021-09-04T15:46:16.559336Z"
    }
   },
   "outputs": [
    {
     "name": "stdout",
     "output_type": "stream",
     "text": [
      "<class 'pandas.core.frame.DataFrame'>\n",
      "RangeIndex: 50000 entries, 0 to 49999\n",
      "Data columns (total 11 columns):\n",
      " #   Column             Non-Null Count  Dtype  \n",
      "---  ------             --------------  -----  \n",
      " 0   Restaurant_id      50000 non-null  object \n",
      " 1   City               50000 non-null  object \n",
      " 2   Cuisine Style      38410 non-null  object \n",
      " 3   Ranking            50000 non-null  float64\n",
      " 4   Price Range        32639 non-null  object \n",
      " 5   Number of Reviews  46800 non-null  float64\n",
      " 6   Reviews            49998 non-null  object \n",
      " 7   URL_TA             50000 non-null  object \n",
      " 8   ID_TA              50000 non-null  object \n",
      " 9   sample             50000 non-null  int64  \n",
      " 10  Rating             50000 non-null  float64\n",
      "dtypes: float64(3), int64(1), object(7)\n",
      "memory usage: 4.2+ MB\n"
     ]
    }
   ],
   "source": [
    "data.info()"
   ]
  },
  {
   "cell_type": "markdown",
   "metadata": {},
   "source": [
    "Подробнее по признакам:\n",
    "* City: Город \n",
    "* Cuisine Style: Кухня\n",
    "* Ranking: Ранг ресторана относительно других ресторанов в этом городе\n",
    "* Price Range: Цены в ресторане в 3 категориях\n",
    "* Number of Reviews: Количество отзывов\n",
    "* Reviews: 2 последних отзыва и даты этих отзывов\n",
    "* URL_TA: страница ресторана на 'www.tripadvisor.com' \n",
    "* ID_TA: ID ресторана в TripAdvisor\n",
    "* Rating: Рейтинг ресторана"
   ]
  },
  {
   "cell_type": "code",
   "execution_count": 50,
   "metadata": {
    "execution": {
     "iopub.execute_input": "2021-09-04T15:46:16.608342Z",
     "iopub.status.busy": "2021-09-04T15:46:16.608008Z",
     "iopub.status.idle": "2021-09-04T15:46:16.631415Z",
     "shell.execute_reply": "2021-09-04T15:46:16.629880Z",
     "shell.execute_reply.started": "2021-09-04T15:46:16.608262Z"
    }
   },
   "outputs": [
    {
     "data": {
      "text/html": [
       "<div>\n",
       "<style scoped>\n",
       "    .dataframe tbody tr th:only-of-type {\n",
       "        vertical-align: middle;\n",
       "    }\n",
       "\n",
       "    .dataframe tbody tr th {\n",
       "        vertical-align: top;\n",
       "    }\n",
       "\n",
       "    .dataframe thead th {\n",
       "        text-align: right;\n",
       "    }\n",
       "</style>\n",
       "<table border=\"1\" class=\"dataframe\">\n",
       "  <thead>\n",
       "    <tr style=\"text-align: right;\">\n",
       "      <th></th>\n",
       "      <th>Restaurant_id</th>\n",
       "      <th>City</th>\n",
       "      <th>Cuisine Style</th>\n",
       "      <th>Ranking</th>\n",
       "      <th>Price Range</th>\n",
       "      <th>Number of Reviews</th>\n",
       "      <th>Reviews</th>\n",
       "      <th>URL_TA</th>\n",
       "      <th>ID_TA</th>\n",
       "      <th>sample</th>\n",
       "      <th>Rating</th>\n",
       "    </tr>\n",
       "  </thead>\n",
       "  <tbody>\n",
       "    <tr>\n",
       "      <th>25115</th>\n",
       "      <td>id_14325</td>\n",
       "      <td>London</td>\n",
       "      <td>['European', 'British']</td>\n",
       "      <td>14336.0</td>\n",
       "      <td>$$ - $$$</td>\n",
       "      <td>70.0</td>\n",
       "      <td>[['An average afternoon tea.', 'Afternoon tea'...</td>\n",
       "      <td>/Restaurant_Review-g186338-d7234467-Reviews-Re...</td>\n",
       "      <td>d7234467</td>\n",
       "      <td>1</td>\n",
       "      <td>3.0</td>\n",
       "    </tr>\n",
       "    <tr>\n",
       "      <th>6888</th>\n",
       "      <td>id_6888</td>\n",
       "      <td>Warsaw</td>\n",
       "      <td>['Polish', 'European']</td>\n",
       "      <td>964.0</td>\n",
       "      <td>$$$$</td>\n",
       "      <td>11.0</td>\n",
       "      <td>[['Great treat', 'GREAT AS FOR HOTEL'], ['12/1...</td>\n",
       "      <td>/Restaurant_Review-g274856-d10621414-Reviews-P...</td>\n",
       "      <td>d10621414</td>\n",
       "      <td>0</td>\n",
       "      <td>0.0</td>\n",
       "    </tr>\n",
       "    <tr>\n",
       "      <th>36684</th>\n",
       "      <td>id_210</td>\n",
       "      <td>Bratislava</td>\n",
       "      <td>['European', 'Czech', 'Hungarian']</td>\n",
       "      <td>211.0</td>\n",
       "      <td>$</td>\n",
       "      <td>5.0</td>\n",
       "      <td>[['Perfect shop in Bratislava', 'I stop by eve...</td>\n",
       "      <td>/Restaurant_Review-g274924-d12342846-Reviews-P...</td>\n",
       "      <td>d12342846</td>\n",
       "      <td>1</td>\n",
       "      <td>5.0</td>\n",
       "    </tr>\n",
       "    <tr>\n",
       "      <th>2390</th>\n",
       "      <td>id_2390</td>\n",
       "      <td>Paris</td>\n",
       "      <td>NaN</td>\n",
       "      <td>5553.0</td>\n",
       "      <td>NaN</td>\n",
       "      <td>81.0</td>\n",
       "      <td>[[\"Excellent choice of 'proper' beers\", 'Great...</td>\n",
       "      <td>/Restaurant_Review-g187147-d2142583-Reviews-Br...</td>\n",
       "      <td>d2142583</td>\n",
       "      <td>0</td>\n",
       "      <td>0.0</td>\n",
       "    </tr>\n",
       "    <tr>\n",
       "      <th>12427</th>\n",
       "      <td>id_5126</td>\n",
       "      <td>Rome</td>\n",
       "      <td>['Italian']</td>\n",
       "      <td>5127.0</td>\n",
       "      <td>$$ - $$$</td>\n",
       "      <td>84.0</td>\n",
       "      <td>[['Family Sunday lunch', 'Great food, great se...</td>\n",
       "      <td>/Restaurant_Review-g187791-d1051068-Reviews-Cl...</td>\n",
       "      <td>d1051068</td>\n",
       "      <td>1</td>\n",
       "      <td>3.5</td>\n",
       "    </tr>\n",
       "  </tbody>\n",
       "</table>\n",
       "</div>"
      ],
      "text/plain": [
       "      Restaurant_id        City                       Cuisine Style  Ranking  \\\n",
       "25115      id_14325      London             ['European', 'British']  14336.0   \n",
       "6888        id_6888      Warsaw              ['Polish', 'European']    964.0   \n",
       "36684        id_210  Bratislava  ['European', 'Czech', 'Hungarian']    211.0   \n",
       "2390        id_2390       Paris                                 NaN   5553.0   \n",
       "12427       id_5126        Rome                         ['Italian']   5127.0   \n",
       "\n",
       "      Price Range  Number of Reviews  \\\n",
       "25115    $$ - $$$               70.0   \n",
       "6888         $$$$               11.0   \n",
       "36684           $                5.0   \n",
       "2390          NaN               81.0   \n",
       "12427    $$ - $$$               84.0   \n",
       "\n",
       "                                                 Reviews  \\\n",
       "25115  [['An average afternoon tea.', 'Afternoon tea'...   \n",
       "6888   [['Great treat', 'GREAT AS FOR HOTEL'], ['12/1...   \n",
       "36684  [['Perfect shop in Bratislava', 'I stop by eve...   \n",
       "2390   [[\"Excellent choice of 'proper' beers\", 'Great...   \n",
       "12427  [['Family Sunday lunch', 'Great food, great se...   \n",
       "\n",
       "                                                  URL_TA      ID_TA  sample  \\\n",
       "25115  /Restaurant_Review-g186338-d7234467-Reviews-Re...   d7234467       1   \n",
       "6888   /Restaurant_Review-g274856-d10621414-Reviews-P...  d10621414       0   \n",
       "36684  /Restaurant_Review-g274924-d12342846-Reviews-P...  d12342846       1   \n",
       "2390   /Restaurant_Review-g187147-d2142583-Reviews-Br...   d2142583       0   \n",
       "12427  /Restaurant_Review-g187791-d1051068-Reviews-Cl...   d1051068       1   \n",
       "\n",
       "       Rating  \n",
       "25115     3.0  \n",
       "6888      0.0  \n",
       "36684     5.0  \n",
       "2390      0.0  \n",
       "12427     3.5  "
      ]
     },
     "execution_count": 50,
     "metadata": {},
     "output_type": "execute_result"
    }
   ],
   "source": [
    "data.sample(5)"
   ]
  },
  {
   "cell_type": "code",
   "execution_count": 51,
   "metadata": {
    "execution": {
     "iopub.execute_input": "2021-09-04T15:46:16.633137Z",
     "iopub.status.busy": "2021-09-04T15:46:16.632698Z",
     "iopub.status.idle": "2021-09-04T15:46:16.645959Z",
     "shell.execute_reply": "2021-09-04T15:46:16.645164Z",
     "shell.execute_reply.started": "2021-09-04T15:46:16.632937Z"
    }
   },
   "outputs": [
    {
     "data": {
      "text/plain": [
       "\"[['Very good reviews!', 'Fine dining in Hakaniemi'], ['12/05/2017', '10/29/2017']]\""
      ]
     },
     "execution_count": 51,
     "metadata": {},
     "output_type": "execute_result"
    }
   ],
   "source": [
    "data.Reviews[1]"
   ]
  },
  {
   "cell_type": "markdown",
   "metadata": {},
   "source": [
    "Как видим, большинство признаков у нас требует очистки и предварительной обработки."
   ]
  },
  {
   "cell_type": "markdown",
   "metadata": {},
   "source": [
    "# Предобработка внешней информации."
   ]
  },
  {
   "cell_type": "markdown",
   "metadata": {},
   "source": [
    "# worldcities - Население"
   ]
  },
  {
   "cell_type": "code",
   "execution_count": 52,
   "metadata": {
    "execution": {
     "iopub.execute_input": "2021-09-04T15:46:16.648281Z",
     "iopub.status.busy": "2021-09-04T15:46:16.647788Z",
     "iopub.status.idle": "2021-09-04T15:46:16.670657Z",
     "shell.execute_reply": "2021-09-04T15:46:16.669648Z",
     "shell.execute_reply.started": "2021-09-04T15:46:16.648117Z"
    }
   },
   "outputs": [
    {
     "data": {
      "text/html": [
       "<div>\n",
       "<style scoped>\n",
       "    .dataframe tbody tr th:only-of-type {\n",
       "        vertical-align: middle;\n",
       "    }\n",
       "\n",
       "    .dataframe tbody tr th {\n",
       "        vertical-align: top;\n",
       "    }\n",
       "\n",
       "    .dataframe thead th {\n",
       "        text-align: right;\n",
       "    }\n",
       "</style>\n",
       "<table border=\"1\" class=\"dataframe\">\n",
       "  <thead>\n",
       "    <tr style=\"text-align: right;\">\n",
       "      <th></th>\n",
       "      <th>city</th>\n",
       "      <th>city_ascii</th>\n",
       "      <th>lat</th>\n",
       "      <th>lng</th>\n",
       "      <th>country</th>\n",
       "      <th>iso2</th>\n",
       "      <th>iso3</th>\n",
       "      <th>admin_name</th>\n",
       "      <th>capital</th>\n",
       "      <th>population</th>\n",
       "      <th>id</th>\n",
       "    </tr>\n",
       "  </thead>\n",
       "  <tbody>\n",
       "    <tr>\n",
       "      <th>0</th>\n",
       "      <td>Tokyo</td>\n",
       "      <td>Tokyo</td>\n",
       "      <td>35.6897</td>\n",
       "      <td>139.6922</td>\n",
       "      <td>Japan</td>\n",
       "      <td>JP</td>\n",
       "      <td>JPN</td>\n",
       "      <td>Tōkyō</td>\n",
       "      <td>primary</td>\n",
       "      <td>37977000.0</td>\n",
       "      <td>1392685764</td>\n",
       "    </tr>\n",
       "    <tr>\n",
       "      <th>1</th>\n",
       "      <td>Jakarta</td>\n",
       "      <td>Jakarta</td>\n",
       "      <td>-6.2146</td>\n",
       "      <td>106.8451</td>\n",
       "      <td>Indonesia</td>\n",
       "      <td>ID</td>\n",
       "      <td>IDN</td>\n",
       "      <td>Jakarta</td>\n",
       "      <td>primary</td>\n",
       "      <td>34540000.0</td>\n",
       "      <td>1360771077</td>\n",
       "    </tr>\n",
       "    <tr>\n",
       "      <th>2</th>\n",
       "      <td>Delhi</td>\n",
       "      <td>Delhi</td>\n",
       "      <td>28.6600</td>\n",
       "      <td>77.2300</td>\n",
       "      <td>India</td>\n",
       "      <td>IN</td>\n",
       "      <td>IND</td>\n",
       "      <td>Delhi</td>\n",
       "      <td>admin</td>\n",
       "      <td>29617000.0</td>\n",
       "      <td>1356872604</td>\n",
       "    </tr>\n",
       "    <tr>\n",
       "      <th>3</th>\n",
       "      <td>Mumbai</td>\n",
       "      <td>Mumbai</td>\n",
       "      <td>18.9667</td>\n",
       "      <td>72.8333</td>\n",
       "      <td>India</td>\n",
       "      <td>IN</td>\n",
       "      <td>IND</td>\n",
       "      <td>Mahārāshtra</td>\n",
       "      <td>admin</td>\n",
       "      <td>23355000.0</td>\n",
       "      <td>1356226629</td>\n",
       "    </tr>\n",
       "    <tr>\n",
       "      <th>4</th>\n",
       "      <td>Manila</td>\n",
       "      <td>Manila</td>\n",
       "      <td>14.6000</td>\n",
       "      <td>120.9833</td>\n",
       "      <td>Philippines</td>\n",
       "      <td>PH</td>\n",
       "      <td>PHL</td>\n",
       "      <td>Manila</td>\n",
       "      <td>primary</td>\n",
       "      <td>23088000.0</td>\n",
       "      <td>1608618140</td>\n",
       "    </tr>\n",
       "  </tbody>\n",
       "</table>\n",
       "</div>"
      ],
      "text/plain": [
       "      city city_ascii      lat       lng      country iso2 iso3   admin_name  \\\n",
       "0    Tokyo      Tokyo  35.6897  139.6922        Japan   JP  JPN        Tōkyō   \n",
       "1  Jakarta    Jakarta  -6.2146  106.8451    Indonesia   ID  IDN      Jakarta   \n",
       "2    Delhi      Delhi  28.6600   77.2300        India   IN  IND        Delhi   \n",
       "3   Mumbai     Mumbai  18.9667   72.8333        India   IN  IND  Mahārāshtra   \n",
       "4   Manila     Manila  14.6000  120.9833  Philippines   PH  PHL       Manila   \n",
       "\n",
       "   capital  population          id  \n",
       "0  primary  37977000.0  1392685764  \n",
       "1  primary  34540000.0  1360771077  \n",
       "2    admin  29617000.0  1356872604  \n",
       "3    admin  23355000.0  1356226629  \n",
       "4  primary  23088000.0  1608618140  "
      ]
     },
     "execution_count": 52,
     "metadata": {},
     "output_type": "execute_result"
    }
   ],
   "source": [
    "worldcities.head()\n"
   ]
  },
  {
   "cell_type": "code",
   "execution_count": 53,
   "metadata": {
    "execution": {
     "iopub.execute_input": "2021-09-04T15:46:16.672561Z",
     "iopub.status.busy": "2021-09-04T15:46:16.672179Z",
     "iopub.status.idle": "2021-09-04T15:46:16.718800Z",
     "shell.execute_reply": "2021-09-04T15:46:16.717754Z",
     "shell.execute_reply.started": "2021-09-04T15:46:16.672485Z"
    }
   },
   "outputs": [
    {
     "name": "stdout",
     "output_type": "stream",
     "text": [
      "<class 'pandas.core.frame.DataFrame'>\n",
      "RangeIndex: 41001 entries, 0 to 41000\n",
      "Data columns (total 11 columns):\n",
      " #   Column      Non-Null Count  Dtype  \n",
      "---  ------      --------------  -----  \n",
      " 0   city        41001 non-null  object \n",
      " 1   city_ascii  41001 non-null  object \n",
      " 2   lat         41001 non-null  float64\n",
      " 3   lng         41001 non-null  float64\n",
      " 4   country     41001 non-null  object \n",
      " 5   iso2        40970 non-null  object \n",
      " 6   iso3        41001 non-null  object \n",
      " 7   admin_name  40902 non-null  object \n",
      " 8   capital     9483 non-null   object \n",
      " 9   population  40263 non-null  float64\n",
      " 10  id          41001 non-null  int64  \n",
      "dtypes: float64(3), int64(1), object(7)\n",
      "memory usage: 3.4+ MB\n"
     ]
    }
   ],
   "source": [
    "worldcities.info()"
   ]
  },
  {
   "cell_type": "code",
   "execution_count": 54,
   "metadata": {
    "execution": {
     "iopub.execute_input": "2021-09-04T15:46:16.720610Z",
     "iopub.status.busy": "2021-09-04T15:46:16.720330Z",
     "iopub.status.idle": "2021-09-04T15:46:16.756794Z",
     "shell.execute_reply": "2021-09-04T15:46:16.755965Z",
     "shell.execute_reply.started": "2021-09-04T15:46:16.720561Z"
    }
   },
   "outputs": [],
   "source": [
    "#замена наименований городов\n",
    "worldcities.loc[worldcities.city_ascii == 'Porto', 'city_ascii'] = 'Oporto'\n",
    "worldcities.loc[worldcities.city_ascii == 'Zürich', 'city_ascii'] = 'Zurich' \n",
    "worldcities.loc[worldcities.city_ascii == 'Kraków', 'city_ascii'] = 'Krakow'"
   ]
  },
  {
   "cell_type": "code",
   "execution_count": 55,
   "metadata": {
    "execution": {
     "iopub.execute_input": "2021-09-04T15:46:16.758362Z",
     "iopub.status.busy": "2021-09-04T15:46:16.757956Z",
     "iopub.status.idle": "2021-09-04T15:46:16.815591Z",
     "shell.execute_reply": "2021-09-04T15:46:16.814819Z",
     "shell.execute_reply.started": "2021-09-04T15:46:16.758309Z"
    }
   },
   "outputs": [],
   "source": [
    "# из дополнительного датасета по населению городов выбираем только нужные нам города Европы\n",
    "worldcities = worldcities[(worldcities.city_ascii.isin(data.City.unique()))&\n",
    "                  (worldcities.country != 'United States') &\n",
    "                  (worldcities.country != 'Canada') &\n",
    "                  (worldcities.country != 'Venezuela') &\n",
    "                  (worldcities.country != 'Philippines') &\n",
    "                  (worldcities.country != 'Colombia') &\n",
    "                  (worldcities.country != 'Brazil')]\n",
    "# удаляем ненужные столбцы\n",
    "worldcities = worldcities.drop(['city', 'lat','lng','country','iso2','iso3','admin_name','id','capital'], axis=1)"
   ]
  },
  {
   "cell_type": "code",
   "execution_count": 56,
   "metadata": {
    "execution": {
     "iopub.execute_input": "2021-09-04T15:46:16.817010Z",
     "iopub.status.busy": "2021-09-04T15:46:16.816647Z",
     "iopub.status.idle": "2021-09-04T15:46:16.830416Z",
     "shell.execute_reply": "2021-09-04T15:46:16.829248Z",
     "shell.execute_reply.started": "2021-09-04T15:46:16.816972Z"
    }
   },
   "outputs": [
    {
     "data": {
      "text/html": [
       "<div>\n",
       "<style scoped>\n",
       "    .dataframe tbody tr th:only-of-type {\n",
       "        vertical-align: middle;\n",
       "    }\n",
       "\n",
       "    .dataframe tbody tr th {\n",
       "        vertical-align: top;\n",
       "    }\n",
       "\n",
       "    .dataframe thead th {\n",
       "        text-align: right;\n",
       "    }\n",
       "</style>\n",
       "<table border=\"1\" class=\"dataframe\">\n",
       "  <thead>\n",
       "    <tr style=\"text-align: right;\">\n",
       "      <th></th>\n",
       "      <th>city_ascii</th>\n",
       "      <th>population</th>\n",
       "    </tr>\n",
       "  </thead>\n",
       "  <tbody>\n",
       "    <tr>\n",
       "      <th>34</th>\n",
       "      <td>Paris</td>\n",
       "      <td>11020000.0</td>\n",
       "    </tr>\n",
       "    <tr>\n",
       "      <th>35</th>\n",
       "      <td>London</td>\n",
       "      <td>10979000.0</td>\n",
       "    </tr>\n",
       "    <tr>\n",
       "      <th>101</th>\n",
       "      <td>Madrid</td>\n",
       "      <td>6026000.0</td>\n",
       "    </tr>\n",
       "    <tr>\n",
       "      <th>169</th>\n",
       "      <td>Barcelona</td>\n",
       "      <td>4588000.0</td>\n",
       "    </tr>\n",
       "    <tr>\n",
       "      <th>218</th>\n",
       "      <td>Berlin</td>\n",
       "      <td>3644826.0</td>\n",
       "    </tr>\n",
       "    <tr>\n",
       "      <th>282</th>\n",
       "      <td>Rome</td>\n",
       "      <td>2872800.0</td>\n",
       "    </tr>\n",
       "    <tr>\n",
       "      <th>403</th>\n",
       "      <td>Vienna</td>\n",
       "      <td>1911191.0</td>\n",
       "    </tr>\n",
       "    <tr>\n",
       "      <th>417</th>\n",
       "      <td>Hamburg</td>\n",
       "      <td>1841179.0</td>\n",
       "    </tr>\n",
       "    <tr>\n",
       "      <th>427</th>\n",
       "      <td>Warsaw</td>\n",
       "      <td>1790658.0</td>\n",
       "    </tr>\n",
       "    <tr>\n",
       "      <th>433</th>\n",
       "      <td>Brussels</td>\n",
       "      <td>1743000.0</td>\n",
       "    </tr>\n",
       "    <tr>\n",
       "      <th>435</th>\n",
       "      <td>Budapest</td>\n",
       "      <td>1752286.0</td>\n",
       "    </tr>\n",
       "    <tr>\n",
       "      <th>503</th>\n",
       "      <td>Munich</td>\n",
       "      <td>1471508.0</td>\n",
       "    </tr>\n",
       "    <tr>\n",
       "      <th>534</th>\n",
       "      <td>Milan</td>\n",
       "      <td>1366180.0</td>\n",
       "    </tr>\n",
       "    <tr>\n",
       "      <th>541</th>\n",
       "      <td>Prague</td>\n",
       "      <td>1335084.0</td>\n",
       "    </tr>\n",
       "    <tr>\n",
       "      <th>604</th>\n",
       "      <td>Dublin</td>\n",
       "      <td>1173179.0</td>\n",
       "    </tr>\n",
       "    <tr>\n",
       "      <th>726</th>\n",
       "      <td>Stockholm</td>\n",
       "      <td>972647.0</td>\n",
       "    </tr>\n",
       "    <tr>\n",
       "      <th>733</th>\n",
       "      <td>Amsterdam</td>\n",
       "      <td>862965.0</td>\n",
       "    </tr>\n",
       "    <tr>\n",
       "      <th>745</th>\n",
       "      <td>Oslo</td>\n",
       "      <td>693494.0</td>\n",
       "    </tr>\n",
       "    <tr>\n",
       "      <th>746</th>\n",
       "      <td>Athens</td>\n",
       "      <td>664046.0</td>\n",
       "    </tr>\n",
       "    <tr>\n",
       "      <th>748</th>\n",
       "      <td>Helsinki</td>\n",
       "      <td>642045.0</td>\n",
       "    </tr>\n",
       "    <tr>\n",
       "      <th>752</th>\n",
       "      <td>Copenhagen</td>\n",
       "      <td>602481.0</td>\n",
       "    </tr>\n",
       "    <tr>\n",
       "      <th>758</th>\n",
       "      <td>Lisbon</td>\n",
       "      <td>506654.0</td>\n",
       "    </tr>\n",
       "    <tr>\n",
       "      <th>762</th>\n",
       "      <td>Bratislava</td>\n",
       "      <td>429564.0</td>\n",
       "    </tr>\n",
       "    <tr>\n",
       "      <th>780</th>\n",
       "      <td>Ljubljana</td>\n",
       "      <td>286745.0</td>\n",
       "    </tr>\n",
       "    <tr>\n",
       "      <th>803</th>\n",
       "      <td>Luxembourg</td>\n",
       "      <td>124509.0</td>\n",
       "    </tr>\n",
       "    <tr>\n",
       "      <th>1030</th>\n",
       "      <td>Krakow</td>\n",
       "      <td>766739.0</td>\n",
       "    </tr>\n",
       "    <tr>\n",
       "      <th>1363</th>\n",
       "      <td>Lyon</td>\n",
       "      <td>516092.0</td>\n",
       "    </tr>\n",
       "    <tr>\n",
       "      <th>1448</th>\n",
       "      <td>Edinburgh</td>\n",
       "      <td>488050.0</td>\n",
       "    </tr>\n",
       "    <tr>\n",
       "      <th>1563</th>\n",
       "      <td>Zurich</td>\n",
       "      <td>434008.0</td>\n",
       "    </tr>\n",
       "    <tr>\n",
       "      <th>2434</th>\n",
       "      <td>Oporto</td>\n",
       "      <td>237591.0</td>\n",
       "    </tr>\n",
       "    <tr>\n",
       "      <th>2688</th>\n",
       "      <td>Geneva</td>\n",
       "      <td>201818.0</td>\n",
       "    </tr>\n",
       "  </tbody>\n",
       "</table>\n",
       "</div>"
      ],
      "text/plain": [
       "      city_ascii  population\n",
       "34         Paris  11020000.0\n",
       "35        London  10979000.0\n",
       "101       Madrid   6026000.0\n",
       "169    Barcelona   4588000.0\n",
       "218       Berlin   3644826.0\n",
       "282         Rome   2872800.0\n",
       "403       Vienna   1911191.0\n",
       "417      Hamburg   1841179.0\n",
       "427       Warsaw   1790658.0\n",
       "433     Brussels   1743000.0\n",
       "435     Budapest   1752286.0\n",
       "503       Munich   1471508.0\n",
       "534        Milan   1366180.0\n",
       "541       Prague   1335084.0\n",
       "604       Dublin   1173179.0\n",
       "726    Stockholm    972647.0\n",
       "733    Amsterdam    862965.0\n",
       "745         Oslo    693494.0\n",
       "746       Athens    664046.0\n",
       "748     Helsinki    642045.0\n",
       "752   Copenhagen    602481.0\n",
       "758       Lisbon    506654.0\n",
       "762   Bratislava    429564.0\n",
       "780    Ljubljana    286745.0\n",
       "803   Luxembourg    124509.0\n",
       "1030      Krakow    766739.0\n",
       "1363        Lyon    516092.0\n",
       "1448   Edinburgh    488050.0\n",
       "1563      Zurich    434008.0\n",
       "2434      Oporto    237591.0\n",
       "2688      Geneva    201818.0"
      ]
     },
     "execution_count": 56,
     "metadata": {},
     "output_type": "execute_result"
    }
   ],
   "source": [
    "worldcities"
   ]
  },
  {
   "cell_type": "code",
   "execution_count": 57,
   "metadata": {
    "execution": {
     "iopub.execute_input": "2021-09-04T15:46:16.832549Z",
     "iopub.status.busy": "2021-09-04T15:46:16.832027Z",
     "iopub.status.idle": "2021-09-04T15:46:16.862274Z",
     "shell.execute_reply": "2021-09-04T15:46:16.861499Z",
     "shell.execute_reply.started": "2021-09-04T15:46:16.832311Z"
    }
   },
   "outputs": [
    {
     "data": {
      "text/html": [
       "<div>\n",
       "<style scoped>\n",
       "    .dataframe tbody tr th:only-of-type {\n",
       "        vertical-align: middle;\n",
       "    }\n",
       "\n",
       "    .dataframe tbody tr th {\n",
       "        vertical-align: top;\n",
       "    }\n",
       "\n",
       "    .dataframe thead th {\n",
       "        text-align: right;\n",
       "    }\n",
       "</style>\n",
       "<table border=\"1\" class=\"dataframe\">\n",
       "  <thead>\n",
       "    <tr style=\"text-align: right;\">\n",
       "      <th></th>\n",
       "      <th>population</th>\n",
       "    </tr>\n",
       "  </thead>\n",
       "  <tbody>\n",
       "    <tr>\n",
       "      <th>count</th>\n",
       "      <td>3.100000e+01</td>\n",
       "    </tr>\n",
       "    <tr>\n",
       "      <th>mean</th>\n",
       "      <td>1.998204e+06</td>\n",
       "    </tr>\n",
       "    <tr>\n",
       "      <th>std</th>\n",
       "      <td>2.744416e+06</td>\n",
       "    </tr>\n",
       "    <tr>\n",
       "      <th>min</th>\n",
       "      <td>1.245090e+05</td>\n",
       "    </tr>\n",
       "    <tr>\n",
       "      <th>25%</th>\n",
       "      <td>5.113730e+05</td>\n",
       "    </tr>\n",
       "    <tr>\n",
       "      <th>50%</th>\n",
       "      <td>9.726470e+05</td>\n",
       "    </tr>\n",
       "    <tr>\n",
       "      <th>75%</th>\n",
       "      <td>1.815918e+06</td>\n",
       "    </tr>\n",
       "    <tr>\n",
       "      <th>max</th>\n",
       "      <td>1.102000e+07</td>\n",
       "    </tr>\n",
       "  </tbody>\n",
       "</table>\n",
       "</div>"
      ],
      "text/plain": [
       "         population\n",
       "count  3.100000e+01\n",
       "mean   1.998204e+06\n",
       "std    2.744416e+06\n",
       "min    1.245090e+05\n",
       "25%    5.113730e+05\n",
       "50%    9.726470e+05\n",
       "75%    1.815918e+06\n",
       "max    1.102000e+07"
      ]
     },
     "execution_count": 57,
     "metadata": {},
     "output_type": "execute_result"
    }
   ],
   "source": [
    "worldcities.describe()"
   ]
  },
  {
   "cell_type": "markdown",
   "metadata": {},
   "source": [
    "Пропусков нету. Явные выбросы не обнаружены Данные можно вносить в наш дата фрейм."
   ]
  },
  {
   "cell_type": "markdown",
   "metadata": {},
   "source": [
    "# сost_of_living_index"
   ]
  },
  {
   "cell_type": "code",
   "execution_count": 58,
   "metadata": {
    "execution": {
     "iopub.execute_input": "2021-09-04T15:46:16.863883Z",
     "iopub.status.busy": "2021-09-04T15:46:16.863475Z",
     "iopub.status.idle": "2021-09-04T15:46:16.871134Z",
     "shell.execute_reply": "2021-09-04T15:46:16.870072Z",
     "shell.execute_reply.started": "2021-09-04T15:46:16.863835Z"
    }
   },
   "outputs": [],
   "source": [
    "сost_of_living_index.drop(сost_of_living_index[\n",
    "    сost_of_living_index.City == 'London, Canada'].index, inplace = True)"
   ]
  },
  {
   "cell_type": "code",
   "execution_count": 59,
   "metadata": {
    "execution": {
     "iopub.execute_input": "2021-09-04T15:46:16.872753Z",
     "iopub.status.busy": "2021-09-04T15:46:16.872401Z",
     "iopub.status.idle": "2021-09-04T15:46:16.917831Z",
     "shell.execute_reply": "2021-09-04T15:46:16.917197Z",
     "shell.execute_reply.started": "2021-09-04T15:46:16.872696Z"
    }
   },
   "outputs": [
    {
     "data": {
      "text/html": [
       "<div>\n",
       "<style scoped>\n",
       "    .dataframe tbody tr th:only-of-type {\n",
       "        vertical-align: middle;\n",
       "    }\n",
       "\n",
       "    .dataframe tbody tr th {\n",
       "        vertical-align: top;\n",
       "    }\n",
       "\n",
       "    .dataframe thead th {\n",
       "        text-align: right;\n",
       "    }\n",
       "</style>\n",
       "<table border=\"1\" class=\"dataframe\">\n",
       "  <thead>\n",
       "    <tr style=\"text-align: right;\">\n",
       "      <th></th>\n",
       "      <th>Rank</th>\n",
       "      <th>City</th>\n",
       "      <th>Cost of Living Index</th>\n",
       "      <th>Rent Index</th>\n",
       "      <th>Cost of Living Plus Rent Index</th>\n",
       "      <th>Groceries Index</th>\n",
       "      <th>Restaurant Price Index</th>\n",
       "      <th>Local Purchasing Power Index</th>\n",
       "    </tr>\n",
       "  </thead>\n",
       "  <tbody>\n",
       "    <tr>\n",
       "      <th>1</th>\n",
       "      <td>2</td>\n",
       "      <td>Zurich</td>\n",
       "      <td>128.65</td>\n",
       "      <td>62.62</td>\n",
       "      <td>97.39</td>\n",
       "      <td>127.35</td>\n",
       "      <td>127.14</td>\n",
       "      <td>142.39</td>\n",
       "    </tr>\n",
       "    <tr>\n",
       "      <th>5</th>\n",
       "      <td>6</td>\n",
       "      <td>Geneva</td>\n",
       "      <td>118.33</td>\n",
       "      <td>69.16</td>\n",
       "      <td>95.06</td>\n",
       "      <td>112.08</td>\n",
       "      <td>119.78</td>\n",
       "      <td>133.47</td>\n",
       "    </tr>\n",
       "    <tr>\n",
       "      <th>9</th>\n",
       "      <td>10</td>\n",
       "      <td>Oslo</td>\n",
       "      <td>107.14</td>\n",
       "      <td>48.58</td>\n",
       "      <td>79.42</td>\n",
       "      <td>93.81</td>\n",
       "      <td>114.42</td>\n",
       "      <td>104.30</td>\n",
       "    </tr>\n",
       "    <tr>\n",
       "      <th>19</th>\n",
       "      <td>20</td>\n",
       "      <td>Copenhagen</td>\n",
       "      <td>87.91</td>\n",
       "      <td>47.84</td>\n",
       "      <td>68.94</td>\n",
       "      <td>64.59</td>\n",
       "      <td>113.18</td>\n",
       "      <td>114.05</td>\n",
       "    </tr>\n",
       "    <tr>\n",
       "      <th>21</th>\n",
       "      <td>22</td>\n",
       "      <td>Luxembourg</td>\n",
       "      <td>86.85</td>\n",
       "      <td>61.31</td>\n",
       "      <td>74.76</td>\n",
       "      <td>70.75</td>\n",
       "      <td>99.49</td>\n",
       "      <td>120.25</td>\n",
       "    </tr>\n",
       "    <tr>\n",
       "      <th>25</th>\n",
       "      <td>26</td>\n",
       "      <td>Paris</td>\n",
       "      <td>84.68</td>\n",
       "      <td>47.60</td>\n",
       "      <td>67.13</td>\n",
       "      <td>73.77</td>\n",
       "      <td>88.11</td>\n",
       "      <td>95.38</td>\n",
       "    </tr>\n",
       "    <tr>\n",
       "      <th>30</th>\n",
       "      <td>31</td>\n",
       "      <td>Amsterdam</td>\n",
       "      <td>82.14</td>\n",
       "      <td>54.65</td>\n",
       "      <td>69.13</td>\n",
       "      <td>62.35</td>\n",
       "      <td>87.71</td>\n",
       "      <td>98.88</td>\n",
       "    </tr>\n",
       "    <tr>\n",
       "      <th>33</th>\n",
       "      <td>34</td>\n",
       "      <td>London</td>\n",
       "      <td>81.31</td>\n",
       "      <td>70.30</td>\n",
       "      <td>76.10</td>\n",
       "      <td>57.74</td>\n",
       "      <td>91.85</td>\n",
       "      <td>100.22</td>\n",
       "    </tr>\n",
       "    <tr>\n",
       "      <th>35</th>\n",
       "      <td>36</td>\n",
       "      <td>Helsinki</td>\n",
       "      <td>80.60</td>\n",
       "      <td>35.69</td>\n",
       "      <td>59.34</td>\n",
       "      <td>61.31</td>\n",
       "      <td>94.99</td>\n",
       "      <td>108.83</td>\n",
       "    </tr>\n",
       "    <tr>\n",
       "      <th>38</th>\n",
       "      <td>39</td>\n",
       "      <td>Dublin</td>\n",
       "      <td>80.28</td>\n",
       "      <td>60.12</td>\n",
       "      <td>70.73</td>\n",
       "      <td>60.82</td>\n",
       "      <td>87.98</td>\n",
       "      <td>89.32</td>\n",
       "    </tr>\n",
       "    <tr>\n",
       "      <th>47</th>\n",
       "      <td>48</td>\n",
       "      <td>Lyon</td>\n",
       "      <td>78.00</td>\n",
       "      <td>27.34</td>\n",
       "      <td>54.02</td>\n",
       "      <td>69.55</td>\n",
       "      <td>72.77</td>\n",
       "      <td>96.07</td>\n",
       "    </tr>\n",
       "    <tr>\n",
       "      <th>54</th>\n",
       "      <td>55</td>\n",
       "      <td>Stockholm</td>\n",
       "      <td>77.23</td>\n",
       "      <td>40.18</td>\n",
       "      <td>59.69</td>\n",
       "      <td>64.74</td>\n",
       "      <td>85.51</td>\n",
       "      <td>115.83</td>\n",
       "    </tr>\n",
       "    <tr>\n",
       "      <th>69</th>\n",
       "      <td>70</td>\n",
       "      <td>Brussels</td>\n",
       "      <td>75.69</td>\n",
       "      <td>32.03</td>\n",
       "      <td>55.02</td>\n",
       "      <td>63.45</td>\n",
       "      <td>87.07</td>\n",
       "      <td>100.24</td>\n",
       "    </tr>\n",
       "    <tr>\n",
       "      <th>94</th>\n",
       "      <td>95</td>\n",
       "      <td>Milan</td>\n",
       "      <td>73.89</td>\n",
       "      <td>39.56</td>\n",
       "      <td>57.63</td>\n",
       "      <td>59.19</td>\n",
       "      <td>84.57</td>\n",
       "      <td>74.87</td>\n",
       "    </tr>\n",
       "    <tr>\n",
       "      <th>97</th>\n",
       "      <td>98</td>\n",
       "      <td>Munich</td>\n",
       "      <td>73.79</td>\n",
       "      <td>45.18</td>\n",
       "      <td>60.25</td>\n",
       "      <td>56.28</td>\n",
       "      <td>80.50</td>\n",
       "      <td>114.57</td>\n",
       "    </tr>\n",
       "    <tr>\n",
       "      <th>119</th>\n",
       "      <td>120</td>\n",
       "      <td>Hamburg</td>\n",
       "      <td>72.15</td>\n",
       "      <td>35.25</td>\n",
       "      <td>54.68</td>\n",
       "      <td>54.35</td>\n",
       "      <td>70.09</td>\n",
       "      <td>113.28</td>\n",
       "    </tr>\n",
       "    <tr>\n",
       "      <th>134</th>\n",
       "      <td>135</td>\n",
       "      <td>Vienna</td>\n",
       "      <td>70.86</td>\n",
       "      <td>32.48</td>\n",
       "      <td>52.70</td>\n",
       "      <td>63.61</td>\n",
       "      <td>67.94</td>\n",
       "      <td>104.56</td>\n",
       "    </tr>\n",
       "    <tr>\n",
       "      <th>137</th>\n",
       "      <td>138</td>\n",
       "      <td>Edinburgh</td>\n",
       "      <td>70.73</td>\n",
       "      <td>33.44</td>\n",
       "      <td>53.08</td>\n",
       "      <td>58.75</td>\n",
       "      <td>80.86</td>\n",
       "      <td>110.16</td>\n",
       "    </tr>\n",
       "    <tr>\n",
       "      <th>170</th>\n",
       "      <td>171</td>\n",
       "      <td>Rome</td>\n",
       "      <td>69.03</td>\n",
       "      <td>36.69</td>\n",
       "      <td>53.72</td>\n",
       "      <td>55.28</td>\n",
       "      <td>78.14</td>\n",
       "      <td>72.99</td>\n",
       "    </tr>\n",
       "    <tr>\n",
       "      <th>183</th>\n",
       "      <td>184</td>\n",
       "      <td>Berlin</td>\n",
       "      <td>67.75</td>\n",
       "      <td>31.64</td>\n",
       "      <td>50.65</td>\n",
       "      <td>52.31</td>\n",
       "      <td>58.53</td>\n",
       "      <td>112.36</td>\n",
       "    </tr>\n",
       "    <tr>\n",
       "      <th>265</th>\n",
       "      <td>266</td>\n",
       "      <td>Barcelona</td>\n",
       "      <td>62.15</td>\n",
       "      <td>32.44</td>\n",
       "      <td>48.09</td>\n",
       "      <td>48.06</td>\n",
       "      <td>60.42</td>\n",
       "      <td>80.46</td>\n",
       "    </tr>\n",
       "    <tr>\n",
       "      <th>278</th>\n",
       "      <td>279</td>\n",
       "      <td>Athens</td>\n",
       "      <td>60.44</td>\n",
       "      <td>12.73</td>\n",
       "      <td>37.85</td>\n",
       "      <td>44.92</td>\n",
       "      <td>62.38</td>\n",
       "      <td>52.48</td>\n",
       "    </tr>\n",
       "    <tr>\n",
       "      <th>282</th>\n",
       "      <td>283</td>\n",
       "      <td>Madrid</td>\n",
       "      <td>60.12</td>\n",
       "      <td>31.59</td>\n",
       "      <td>46.62</td>\n",
       "      <td>45.69</td>\n",
       "      <td>64.44</td>\n",
       "      <td>91.36</td>\n",
       "    </tr>\n",
       "    <tr>\n",
       "      <th>301</th>\n",
       "      <td>302</td>\n",
       "      <td>Ljubljana</td>\n",
       "      <td>56.34</td>\n",
       "      <td>19.10</td>\n",
       "      <td>38.71</td>\n",
       "      <td>44.61</td>\n",
       "      <td>50.53</td>\n",
       "      <td>78.01</td>\n",
       "    </tr>\n",
       "    <tr>\n",
       "      <th>309</th>\n",
       "      <td>310</td>\n",
       "      <td>Lisbon</td>\n",
       "      <td>54.16</td>\n",
       "      <td>29.92</td>\n",
       "      <td>42.69</td>\n",
       "      <td>42.20</td>\n",
       "      <td>48.79</td>\n",
       "      <td>55.01</td>\n",
       "    </tr>\n",
       "    <tr>\n",
       "      <th>323</th>\n",
       "      <td>324</td>\n",
       "      <td>Oporto</td>\n",
       "      <td>50.43</td>\n",
       "      <td>21.87</td>\n",
       "      <td>36.91</td>\n",
       "      <td>39.50</td>\n",
       "      <td>42.58</td>\n",
       "      <td>59.38</td>\n",
       "    </tr>\n",
       "    <tr>\n",
       "      <th>336</th>\n",
       "      <td>337</td>\n",
       "      <td>Bratislava</td>\n",
       "      <td>48.64</td>\n",
       "      <td>22.28</td>\n",
       "      <td>36.16</td>\n",
       "      <td>39.84</td>\n",
       "      <td>42.14</td>\n",
       "      <td>71.93</td>\n",
       "    </tr>\n",
       "    <tr>\n",
       "      <th>340</th>\n",
       "      <td>341</td>\n",
       "      <td>Prague</td>\n",
       "      <td>48.02</td>\n",
       "      <td>23.87</td>\n",
       "      <td>36.59</td>\n",
       "      <td>39.22</td>\n",
       "      <td>37.83</td>\n",
       "      <td>77.71</td>\n",
       "    </tr>\n",
       "    <tr>\n",
       "      <th>369</th>\n",
       "      <td>370</td>\n",
       "      <td>Budapest</td>\n",
       "      <td>43.74</td>\n",
       "      <td>16.04</td>\n",
       "      <td>30.63</td>\n",
       "      <td>33.14</td>\n",
       "      <td>35.79</td>\n",
       "      <td>57.49</td>\n",
       "    </tr>\n",
       "    <tr>\n",
       "      <th>375</th>\n",
       "      <td>376</td>\n",
       "      <td>Warsaw</td>\n",
       "      <td>42.32</td>\n",
       "      <td>20.60</td>\n",
       "      <td>32.04</td>\n",
       "      <td>31.63</td>\n",
       "      <td>39.89</td>\n",
       "      <td>76.34</td>\n",
       "    </tr>\n",
       "    <tr>\n",
       "      <th>400</th>\n",
       "      <td>401</td>\n",
       "      <td>Krakow</td>\n",
       "      <td>39.53</td>\n",
       "      <td>17.33</td>\n",
       "      <td>29.02</td>\n",
       "      <td>29.92</td>\n",
       "      <td>33.78</td>\n",
       "      <td>70.68</td>\n",
       "    </tr>\n",
       "  </tbody>\n",
       "</table>\n",
       "</div>"
      ],
      "text/plain": [
       "     Rank        City  Cost of Living Index  Rent Index  \\\n",
       "1       2      Zurich                128.65       62.62   \n",
       "5       6      Geneva                118.33       69.16   \n",
       "9      10        Oslo                107.14       48.58   \n",
       "19     20  Copenhagen                 87.91       47.84   \n",
       "21     22  Luxembourg                 86.85       61.31   \n",
       "25     26       Paris                 84.68       47.60   \n",
       "30     31   Amsterdam                 82.14       54.65   \n",
       "33     34      London                 81.31       70.30   \n",
       "35     36    Helsinki                 80.60       35.69   \n",
       "38     39      Dublin                 80.28       60.12   \n",
       "47     48        Lyon                 78.00       27.34   \n",
       "54     55   Stockholm                 77.23       40.18   \n",
       "69     70    Brussels                 75.69       32.03   \n",
       "94     95       Milan                 73.89       39.56   \n",
       "97     98      Munich                 73.79       45.18   \n",
       "119   120     Hamburg                 72.15       35.25   \n",
       "134   135      Vienna                 70.86       32.48   \n",
       "137   138   Edinburgh                 70.73       33.44   \n",
       "170   171        Rome                 69.03       36.69   \n",
       "183   184      Berlin                 67.75       31.64   \n",
       "265   266   Barcelona                 62.15       32.44   \n",
       "278   279      Athens                 60.44       12.73   \n",
       "282   283      Madrid                 60.12       31.59   \n",
       "301   302   Ljubljana                 56.34       19.10   \n",
       "309   310      Lisbon                 54.16       29.92   \n",
       "323   324      Oporto                 50.43       21.87   \n",
       "336   337  Bratislava                 48.64       22.28   \n",
       "340   341      Prague                 48.02       23.87   \n",
       "369   370    Budapest                 43.74       16.04   \n",
       "375   376      Warsaw                 42.32       20.60   \n",
       "400   401      Krakow                 39.53       17.33   \n",
       "\n",
       "     Cost of Living Plus Rent Index  Groceries Index  Restaurant Price Index  \\\n",
       "1                             97.39           127.35                  127.14   \n",
       "5                             95.06           112.08                  119.78   \n",
       "9                             79.42            93.81                  114.42   \n",
       "19                            68.94            64.59                  113.18   \n",
       "21                            74.76            70.75                   99.49   \n",
       "25                            67.13            73.77                   88.11   \n",
       "30                            69.13            62.35                   87.71   \n",
       "33                            76.10            57.74                   91.85   \n",
       "35                            59.34            61.31                   94.99   \n",
       "38                            70.73            60.82                   87.98   \n",
       "47                            54.02            69.55                   72.77   \n",
       "54                            59.69            64.74                   85.51   \n",
       "69                            55.02            63.45                   87.07   \n",
       "94                            57.63            59.19                   84.57   \n",
       "97                            60.25            56.28                   80.50   \n",
       "119                           54.68            54.35                   70.09   \n",
       "134                           52.70            63.61                   67.94   \n",
       "137                           53.08            58.75                   80.86   \n",
       "170                           53.72            55.28                   78.14   \n",
       "183                           50.65            52.31                   58.53   \n",
       "265                           48.09            48.06                   60.42   \n",
       "278                           37.85            44.92                   62.38   \n",
       "282                           46.62            45.69                   64.44   \n",
       "301                           38.71            44.61                   50.53   \n",
       "309                           42.69            42.20                   48.79   \n",
       "323                           36.91            39.50                   42.58   \n",
       "336                           36.16            39.84                   42.14   \n",
       "340                           36.59            39.22                   37.83   \n",
       "369                           30.63            33.14                   35.79   \n",
       "375                           32.04            31.63                   39.89   \n",
       "400                           29.02            29.92                   33.78   \n",
       "\n",
       "     Local Purchasing Power Index  \n",
       "1                          142.39  \n",
       "5                          133.47  \n",
       "9                          104.30  \n",
       "19                         114.05  \n",
       "21                         120.25  \n",
       "25                          95.38  \n",
       "30                          98.88  \n",
       "33                         100.22  \n",
       "35                         108.83  \n",
       "38                          89.32  \n",
       "47                          96.07  \n",
       "54                         115.83  \n",
       "69                         100.24  \n",
       "94                          74.87  \n",
       "97                         114.57  \n",
       "119                        113.28  \n",
       "134                        104.56  \n",
       "137                        110.16  \n",
       "170                         72.99  \n",
       "183                        112.36  \n",
       "265                         80.46  \n",
       "278                         52.48  \n",
       "282                         91.36  \n",
       "301                         78.01  \n",
       "309                         55.01  \n",
       "323                         59.38  \n",
       "336                         71.93  \n",
       "340                         77.71  \n",
       "369                         57.49  \n",
       "375                         76.34  \n",
       "400                         70.68  "
      ]
     },
     "execution_count": 59,
     "metadata": {},
     "output_type": "execute_result"
    }
   ],
   "source": [
    "# в датасете уровня жизни городов обрезаем в колоне City название города\n",
    "сost_of_living_index.City = сost_of_living_index.City.apply(lambda x:x.split(',')[0])\n",
    "# Преобразуем название городов которые не совпадают с названьями в тестовом дата фрейме\n",
    "сost_of_living_index.loc[сost_of_living_index.City == 'Krakow (Cracow)', 'City'] = 'Krakow'\n",
    "сost_of_living_index.loc[сost_of_living_index.City == 'Porto','City'] = 'Oporto'\n",
    "# из дополнительного датасета по населению городов выбираем только нужные нам города Европы\n",
    "сost_of_living_index = сost_of_living_index[(сost_of_living_index.City.isin(data.City.unique()))] \n",
    "сost_of_living_index"
   ]
  },
  {
   "cell_type": "code",
   "execution_count": 60,
   "metadata": {
    "execution": {
     "iopub.execute_input": "2021-09-04T15:46:16.919518Z",
     "iopub.status.busy": "2021-09-04T15:46:16.919082Z",
     "iopub.status.idle": "2021-09-04T15:46:16.929100Z",
     "shell.execute_reply": "2021-09-04T15:46:16.927947Z",
     "shell.execute_reply.started": "2021-09-04T15:46:16.919476Z"
    }
   },
   "outputs": [
    {
     "name": "stdout",
     "output_type": "stream",
     "text": [
      "<class 'pandas.core.frame.DataFrame'>\n",
      "Int64Index: 31 entries, 1 to 400\n",
      "Data columns (total 8 columns):\n",
      " #   Column                          Non-Null Count  Dtype  \n",
      "---  ------                          --------------  -----  \n",
      " 0   Rank                            31 non-null     int64  \n",
      " 1   City                            31 non-null     object \n",
      " 2   Cost of Living Index            31 non-null     float64\n",
      " 3   Rent Index                      31 non-null     float64\n",
      " 4   Cost of Living Plus Rent Index  31 non-null     float64\n",
      " 5   Groceries Index                 31 non-null     float64\n",
      " 6   Restaurant Price Index          31 non-null     float64\n",
      " 7   Local Purchasing Power Index    31 non-null     float64\n",
      "dtypes: float64(6), int64(1), object(1)\n",
      "memory usage: 2.2+ KB\n"
     ]
    }
   ],
   "source": [
    "сost_of_living_index.info()"
   ]
  },
  {
   "cell_type": "code",
   "execution_count": 61,
   "metadata": {
    "execution": {
     "iopub.execute_input": "2021-09-04T15:46:16.930897Z",
     "iopub.status.busy": "2021-09-04T15:46:16.930630Z",
     "iopub.status.idle": "2021-09-04T15:46:16.977275Z",
     "shell.execute_reply": "2021-09-04T15:46:16.976293Z",
     "shell.execute_reply.started": "2021-09-04T15:46:16.930853Z"
    },
    "scrolled": true
   },
   "outputs": [
    {
     "data": {
      "text/html": [
       "<div>\n",
       "<style scoped>\n",
       "    .dataframe tbody tr th:only-of-type {\n",
       "        vertical-align: middle;\n",
       "    }\n",
       "\n",
       "    .dataframe tbody tr th {\n",
       "        vertical-align: top;\n",
       "    }\n",
       "\n",
       "    .dataframe thead th {\n",
       "        text-align: right;\n",
       "    }\n",
       "</style>\n",
       "<table border=\"1\" class=\"dataframe\">\n",
       "  <thead>\n",
       "    <tr style=\"text-align: right;\">\n",
       "      <th></th>\n",
       "      <th>Rank</th>\n",
       "      <th>Cost of Living Index</th>\n",
       "      <th>Rent Index</th>\n",
       "      <th>Cost of Living Plus Rent Index</th>\n",
       "      <th>Groceries Index</th>\n",
       "      <th>Restaurant Price Index</th>\n",
       "      <th>Local Purchasing Power Index</th>\n",
       "    </tr>\n",
       "  </thead>\n",
       "  <tbody>\n",
       "    <tr>\n",
       "      <th>count</th>\n",
       "      <td>31.000000</td>\n",
       "      <td>31.000000</td>\n",
       "      <td>31.000000</td>\n",
       "      <td>31.000000</td>\n",
       "      <td>31.000000</td>\n",
       "      <td>31.000000</td>\n",
       "      <td>31.000000</td>\n",
       "    </tr>\n",
       "    <tr>\n",
       "      <th>mean</th>\n",
       "      <td>159.000000</td>\n",
       "      <td>72.029032</td>\n",
       "      <td>37.400968</td>\n",
       "      <td>55.637097</td>\n",
       "      <td>58.735806</td>\n",
       "      <td>74.490323</td>\n",
       "      <td>93.318387</td>\n",
       "    </tr>\n",
       "    <tr>\n",
       "      <th>std</th>\n",
       "      <td>136.191042</td>\n",
       "      <td>20.757017</td>\n",
       "      <td>15.902482</td>\n",
       "      <td>17.665159</td>\n",
       "      <td>21.422128</td>\n",
       "      <td>25.842947</td>\n",
       "      <td>23.130058</td>\n",
       "    </tr>\n",
       "    <tr>\n",
       "      <th>min</th>\n",
       "      <td>2.000000</td>\n",
       "      <td>39.530000</td>\n",
       "      <td>12.730000</td>\n",
       "      <td>29.020000</td>\n",
       "      <td>29.920000</td>\n",
       "      <td>33.780000</td>\n",
       "      <td>52.480000</td>\n",
       "    </tr>\n",
       "    <tr>\n",
       "      <th>25%</th>\n",
       "      <td>35.000000</td>\n",
       "      <td>58.230000</td>\n",
       "      <td>25.605000</td>\n",
       "      <td>40.700000</td>\n",
       "      <td>44.765000</td>\n",
       "      <td>54.530000</td>\n",
       "      <td>75.605000</td>\n",
       "    </tr>\n",
       "    <tr>\n",
       "      <th>50%</th>\n",
       "      <td>120.000000</td>\n",
       "      <td>72.150000</td>\n",
       "      <td>33.440000</td>\n",
       "      <td>54.020000</td>\n",
       "      <td>57.740000</td>\n",
       "      <td>78.140000</td>\n",
       "      <td>96.070000</td>\n",
       "    </tr>\n",
       "    <tr>\n",
       "      <th>75%</th>\n",
       "      <td>292.500000</td>\n",
       "      <td>80.955000</td>\n",
       "      <td>47.720000</td>\n",
       "      <td>68.035000</td>\n",
       "      <td>64.100000</td>\n",
       "      <td>88.045000</td>\n",
       "      <td>111.260000</td>\n",
       "    </tr>\n",
       "    <tr>\n",
       "      <th>max</th>\n",
       "      <td>401.000000</td>\n",
       "      <td>128.650000</td>\n",
       "      <td>70.300000</td>\n",
       "      <td>97.390000</td>\n",
       "      <td>127.350000</td>\n",
       "      <td>127.140000</td>\n",
       "      <td>142.390000</td>\n",
       "    </tr>\n",
       "  </tbody>\n",
       "</table>\n",
       "</div>"
      ],
      "text/plain": [
       "             Rank  Cost of Living Index  Rent Index  \\\n",
       "count   31.000000             31.000000   31.000000   \n",
       "mean   159.000000             72.029032   37.400968   \n",
       "std    136.191042             20.757017   15.902482   \n",
       "min      2.000000             39.530000   12.730000   \n",
       "25%     35.000000             58.230000   25.605000   \n",
       "50%    120.000000             72.150000   33.440000   \n",
       "75%    292.500000             80.955000   47.720000   \n",
       "max    401.000000            128.650000   70.300000   \n",
       "\n",
       "       Cost of Living Plus Rent Index  Groceries Index  \\\n",
       "count                       31.000000        31.000000   \n",
       "mean                        55.637097        58.735806   \n",
       "std                         17.665159        21.422128   \n",
       "min                         29.020000        29.920000   \n",
       "25%                         40.700000        44.765000   \n",
       "50%                         54.020000        57.740000   \n",
       "75%                         68.035000        64.100000   \n",
       "max                         97.390000       127.350000   \n",
       "\n",
       "       Restaurant Price Index  Local Purchasing Power Index  \n",
       "count               31.000000                     31.000000  \n",
       "mean                74.490323                     93.318387  \n",
       "std                 25.842947                     23.130058  \n",
       "min                 33.780000                     52.480000  \n",
       "25%                 54.530000                     75.605000  \n",
       "50%                 78.140000                     96.070000  \n",
       "75%                 88.045000                    111.260000  \n",
       "max                127.140000                    142.390000  "
      ]
     },
     "execution_count": 61,
     "metadata": {},
     "output_type": "execute_result"
    }
   ],
   "source": [
    "сost_of_living_index.describe()"
   ]
  },
  {
   "cell_type": "markdown",
   "metadata": {},
   "source": [
    "Пропусков нету. Явные выбросы не обнаружены Данные можно вносить в наш дата фрейм."
   ]
  },
  {
   "cell_type": "markdown",
   "metadata": {},
   "source": [
    "# Cleaning and Prepping Data\n",
    "Обычно данные содержат в себе кучу мусора, который необходимо почистить, для того чтобы привести их в приемлемый формат. Чистка данных — это необходимый этап решения почти любой реальной задачи.   \n",
    "![](https://analyticsindiamag.com/wp-content/uploads/2018/01/data-cleaning.png)"
   ]
  },
  {
   "cell_type": "markdown",
   "metadata": {},
   "source": [
    "## 1. Обработка NAN \n",
    "У наличия пропусков могут быть разные причины, но пропуски нужно либо заполнить, либо исключить из набора полностью. Но с пропусками нужно быть внимательным, **даже отсутствие информации может быть важным признаком!**   \n",
    "По этому перед обработкой NAN лучше вынести информацию о наличии пропуска как отдельный признак "
   ]
  },
  {
   "cell_type": "markdown",
   "metadata": {
    "execution": {
     "iopub.execute_input": "2021-08-27T08:18:54.053144Z",
     "iopub.status.busy": "2021-08-27T08:18:54.052807Z",
     "iopub.status.idle": "2021-08-27T08:18:54.062727Z",
     "shell.execute_reply": "2021-08-27T08:18:54.060724Z",
     "shell.execute_reply.started": "2021-08-27T08:18:54.053085Z"
    }
   },
   "source": [
    "Пройдемся по каждому столбцу, и познакомимся с данными по ближе."
   ]
  },
  {
   "cell_type": "markdown",
   "metadata": {},
   "source": [
    "# Restaurant_id "
   ]
  },
  {
   "cell_type": "code",
   "execution_count": 62,
   "metadata": {
    "execution": {
     "iopub.execute_input": "2021-09-04T15:46:16.980649Z",
     "iopub.status.busy": "2021-09-04T15:46:16.980318Z",
     "iopub.status.idle": "2021-09-04T15:46:17.015776Z",
     "shell.execute_reply": "2021-09-04T15:46:17.014644Z",
     "shell.execute_reply.started": "2021-09-04T15:46:16.980589Z"
    }
   },
   "outputs": [
    {
     "data": {
      "text/plain": [
       "id_227      19\n",
       "id_633      19\n",
       "id_436      19\n",
       "id_871      19\n",
       "id_585      18\n",
       "            ..\n",
       "id_14655     1\n",
       "id_14405     1\n",
       "id_15809     1\n",
       "id_14855     1\n",
       "id_11658     1\n",
       "Name: Restaurant_id, Length: 13094, dtype: int64"
      ]
     },
     "execution_count": 62,
     "metadata": {},
     "output_type": "execute_result"
    }
   ],
   "source": [
    "# Посмотрим количество уникальных значений и их количество\n",
    "data.Restaurant_id.value_counts()"
   ]
  },
  {
   "cell_type": "code",
   "execution_count": 63,
   "metadata": {
    "execution": {
     "iopub.execute_input": "2021-09-04T15:46:17.017648Z",
     "iopub.status.busy": "2021-09-04T15:46:17.017263Z",
     "iopub.status.idle": "2021-09-04T15:46:17.025706Z",
     "shell.execute_reply": "2021-09-04T15:46:17.024483Z",
     "shell.execute_reply.started": "2021-09-04T15:46:17.017573Z"
    }
   },
   "outputs": [],
   "source": [
    "yyy = data[['Restaurant_id',\"Rating\" ]].groupby(\"Restaurant_id\")"
   ]
  },
  {
   "cell_type": "markdown",
   "metadata": {},
   "source": [
    "В общем дата фрейме предоставлено 50000 строк, а у нас всего 13094 уникальных значений ID, отметим, что у нас есть сетевые рестораны, либо у ресторанов один владелец. Отсутствуют пропуски в признаке."
   ]
  },
  {
   "cell_type": "markdown",
   "metadata": {},
   "source": [
    "# City"
   ]
  },
  {
   "cell_type": "code",
   "execution_count": 64,
   "metadata": {
    "execution": {
     "iopub.execute_input": "2021-09-04T15:46:17.028028Z",
     "iopub.status.busy": "2021-09-04T15:46:17.027414Z",
     "iopub.status.idle": "2021-09-04T15:46:17.062776Z",
     "shell.execute_reply": "2021-09-04T15:46:17.061850Z",
     "shell.execute_reply.started": "2021-09-04T15:46:17.027969Z"
    }
   },
   "outputs": [
    {
     "name": "stdout",
     "output_type": "stream",
     "text": [
      "Количество уникальных городов 31\n"
     ]
    },
    {
     "data": {
      "text/plain": [
       "London        7193\n",
       "Paris         6108\n",
       "Madrid        3813\n",
       "Barcelona     3395\n",
       "Berlin        2705\n",
       "Milan         2694\n",
       "Rome          2589\n",
       "Prague        1816\n",
       "Lisbon        1647\n",
       "Vienna        1443\n",
       "Amsterdam     1372\n",
       "Brussels      1314\n",
       "Hamburg       1186\n",
       "Munich        1145\n",
       "Lyon          1126\n",
       "Stockholm     1033\n",
       "Budapest      1021\n",
       "Warsaw         925\n",
       "Dublin         836\n",
       "Copenhagen     819\n",
       "Athens         776\n",
       "Edinburgh      745\n",
       "Zurich         685\n",
       "Oporto         642\n",
       "Geneva         590\n",
       "Krakow         554\n",
       "Oslo           488\n",
       "Helsinki       475\n",
       "Bratislava     380\n",
       "Luxembourg     263\n",
       "Ljubljana      222\n",
       "Name: City, dtype: int64"
      ]
     },
     "execution_count": 64,
     "metadata": {},
     "output_type": "execute_result"
    }
   ],
   "source": [
    "# Посмотрим количество уникальных значений и их количество\n",
    "print('Количество уникальных городов', len(data.City.unique()))\n",
    "data.City.value_counts()"
   ]
  },
  {
   "cell_type": "code",
   "execution_count": 65,
   "metadata": {
    "execution": {
     "iopub.execute_input": "2021-09-04T15:46:17.064807Z",
     "iopub.status.busy": "2021-09-04T15:46:17.064261Z",
     "iopub.status.idle": "2021-09-04T15:46:17.989803Z",
     "shell.execute_reply": "2021-09-04T15:46:17.988522Z",
     "shell.execute_reply.started": "2021-09-04T15:46:17.064748Z"
    }
   },
   "outputs": [
    {
     "data": {
      "image/png": "[encoded data removed]",
      "text/plain": [
       "<Figure size 1296x504 with 1 Axes>"
      ]
     },
     "metadata": {
      "needs_background": "light"
     },
     "output_type": "display_data"
    }
   ],
   "source": [
    "plt.figure(figsize=(18, 7))\n",
    "sns.boxplot(x='City', y='Rating', data=data[data['sample'] == 1])\n",
    "plt.xticks(rotation=90);"
   ]
  },
  {
   "cell_type": "markdown",
   "metadata": {},
   "source": [
    "В дата фрейме 31 уникальный город. Отсутствуют пропуски в признаке.    \n",
    "Отметим, у Рима самые высокие оценки."
   ]
  },
  {
   "cell_type": "markdown",
   "metadata": {},
   "source": [
    "# **Cuisine Style**"
   ]
  },
  {
   "cell_type": "markdown",
   "metadata": {},
   "source": [
    "Первый столбце, где есть пропуски это Cuisine Style. Отметим данные пропуски в отдельном столбце. Предположим, что в данных ресторанах предложена местная кухня и заполним её значением значением local."
   ]
  },
  {
   "cell_type": "code",
   "execution_count": 66,
   "metadata": {
    "execution": {
     "iopub.execute_input": "2021-09-04T15:46:17.991420Z",
     "iopub.status.busy": "2021-09-04T15:46:17.991141Z",
     "iopub.status.idle": "2021-09-04T15:46:18.004242Z",
     "shell.execute_reply": "2021-09-04T15:46:18.003224Z",
     "shell.execute_reply.started": "2021-09-04T15:46:17.991344Z"
    }
   },
   "outputs": [],
   "source": [
    "data['Number_of_Cuisine_Style_isNAN'] = pd.isna(data['Cuisine Style']).\\\n",
    "                                        astype('uint8')"
   ]
  },
  {
   "cell_type": "code",
   "execution_count": 67,
   "metadata": {
    "execution": {
     "iopub.execute_input": "2021-09-04T15:46:18.017456Z",
     "iopub.status.busy": "2021-09-04T15:46:18.017100Z",
     "iopub.status.idle": "2021-09-04T15:46:18.032248Z",
     "shell.execute_reply": "2021-09-04T15:46:18.030930Z",
     "shell.execute_reply.started": "2021-09-04T15:46:18.017412Z"
    }
   },
   "outputs": [],
   "source": [
    "data['Cuisine Style'].fillna(\"local\", inplace=True)"
   ]
  },
  {
   "cell_type": "markdown",
   "metadata": {},
   "source": [
    "# *Price Range*"
   ]
  },
  {
   "cell_type": "markdown",
   "metadata": {},
   "source": [
    "В связи с тем, что в данных есть сетевые ресторыны, применим следующую логику.      \n",
    "    1) для начала отметим все данные где есть пропуски.     \n",
    "    2) если ресторан сетевой. То ставиь наиболее популярный ценовой рейтинг в данной сети.    \n",
    "    3) если ресторан только один, то ставим минимальный рейнитинг.     "
   ]
  },
  {
   "cell_type": "code",
   "execution_count": 68,
   "metadata": {
    "execution": {
     "iopub.execute_input": "2021-09-04T15:46:18.034806Z",
     "iopub.status.busy": "2021-09-04T15:46:18.034485Z",
     "iopub.status.idle": "2021-09-04T15:46:18.051828Z",
     "shell.execute_reply": "2021-09-04T15:46:18.050642Z",
     "shell.execute_reply.started": "2021-09-04T15:46:18.034745Z"
    }
   },
   "outputs": [],
   "source": [
    "data['Price_Range_isNAN'] = pd.isna(data['Price Range']).astype('uint8')"
   ]
  },
  {
   "cell_type": "markdown",
   "metadata": {},
   "source": [
    "Создадим список, который будет хранить ID ресторана и наиболее популярную категорию цену.\n",
    "Пропуски сразу заполним \"$\""
   ]
  },
  {
   "cell_type": "code",
   "execution_count": 69,
   "metadata": {
    "execution": {
     "iopub.execute_input": "2021-09-04T15:46:18.054055Z",
     "iopub.status.busy": "2021-09-04T15:46:18.053662Z",
     "iopub.status.idle": "2021-09-04T15:46:52.695867Z",
     "shell.execute_reply": "2021-09-04T15:46:52.694511Z",
     "shell.execute_reply.started": "2021-09-04T15:46:18.053984Z"
    }
   },
   "outputs": [],
   "source": [
    "most_com_price = data[[\"Restaurant_id\", \"Price Range\"]].\\\n",
    "groupby(\"Restaurant_id\").apply(lambda x: x.mode()).fillna(\"$\")"
   ]
  },
  {
   "cell_type": "markdown",
   "metadata": {},
   "source": [
    "Далее напишем код, который будет возвращать нам значение в соответствии с заданной нами логикой. И сразу же применим его к дата фрейму."
   ]
  },
  {
   "cell_type": "code",
   "execution_count": 70,
   "metadata": {
    "execution": {
     "iopub.execute_input": "2021-09-04T15:46:52.697324Z",
     "iopub.status.busy": "2021-09-04T15:46:52.697042Z",
     "iopub.status.idle": "2021-09-04T15:46:52.704942Z",
     "shell.execute_reply": "2021-09-04T15:46:52.703830Z",
     "shell.execute_reply.started": "2021-09-04T15:46:52.697286Z"
    }
   },
   "outputs": [],
   "source": [
    "                                                                        \n",
    "def fill_price_na(x):\n",
    "    '''Код принимает в себя всю строку и возращает значение\n",
    "    price range в зависемости нулевое это значение или нет'''\n",
    "    if pd.isna(x['Price Range']):\n",
    "        return most_com_price.loc[x[\"Restaurant_id\"]][\"Price Range\"][0]\n",
    "    else:\n",
    "        return x[\"Price Range\"]"
   ]
  },
  {
   "cell_type": "code",
   "execution_count": 71,
   "metadata": {
    "execution": {
     "iopub.execute_input": "2021-09-04T15:46:52.706682Z",
     "iopub.status.busy": "2021-09-04T15:46:52.706417Z",
     "iopub.status.idle": "2021-09-04T15:47:05.554108Z",
     "shell.execute_reply": "2021-09-04T15:47:05.552966Z",
     "shell.execute_reply.started": "2021-09-04T15:46:52.706640Z"
    }
   },
   "outputs": [],
   "source": [
    "data[\"Price Range\"] = data.apply(lambda x: fill_price_na(x), axis = 1)"
   ]
  },
  {
   "cell_type": "code",
   "execution_count": 72,
   "metadata": {
    "execution": {
     "iopub.execute_input": "2021-09-04T15:47:05.555638Z",
     "iopub.status.busy": "2021-09-04T15:47:05.555340Z",
     "iopub.status.idle": "2021-09-04T15:47:05.605798Z",
     "shell.execute_reply": "2021-09-04T15:47:05.604294Z",
     "shell.execute_reply.started": "2021-09-04T15:47:05.555591Z"
    }
   },
   "outputs": [
    {
     "name": "stdout",
     "output_type": "stream",
     "text": [
      "<class 'pandas.core.frame.DataFrame'>\n",
      "RangeIndex: 50000 entries, 0 to 49999\n",
      "Data columns (total 13 columns):\n",
      " #   Column                         Non-Null Count  Dtype  \n",
      "---  ------                         --------------  -----  \n",
      " 0   Restaurant_id                  50000 non-null  object \n",
      " 1   City                           50000 non-null  object \n",
      " 2   Cuisine Style                  50000 non-null  object \n",
      " 3   Ranking                        50000 non-null  float64\n",
      " 4   Price Range                    50000 non-null  object \n",
      " 5   Number of Reviews              46800 non-null  float64\n",
      " 6   Reviews                        49998 non-null  object \n",
      " 7   URL_TA                         50000 non-null  object \n",
      " 8   ID_TA                          50000 non-null  object \n",
      " 9   sample                         50000 non-null  int64  \n",
      " 10  Rating                         50000 non-null  float64\n",
      " 11  Number_of_Cuisine_Style_isNAN  50000 non-null  uint8  \n",
      " 12  Price_Range_isNAN              50000 non-null  uint8  \n",
      "dtypes: float64(3), int64(1), object(7), uint8(2)\n",
      "memory usage: 4.3+ MB\n"
     ]
    }
   ],
   "source": [
    "data.info()"
   ]
  },
  {
   "cell_type": "markdown",
   "metadata": {},
   "source": [
    "# **Number of Reviews**"
   ]
  },
  {
   "cell_type": "markdown",
   "metadata": {
    "execution": {
     "iopub.execute_input": "2021-08-27T10:42:16.16553Z",
     "iopub.status.busy": "2021-08-27T10:42:16.165066Z",
     "iopub.status.idle": "2021-08-27T10:42:16.175041Z",
     "shell.execute_reply": "2021-08-27T10:42:16.17395Z",
     "shell.execute_reply.started": "2021-08-27T10:42:16.165451Z"
    }
   },
   "source": [
    "Данный столбик неразрывно связан с Reviews. Так же при более детальном просмотре, можно заметить, что в некоторых строках у нас есть комментарии, хотя их фактическое количество не указано."
   ]
  },
  {
   "cell_type": "code",
   "execution_count": 73,
   "metadata": {
    "execution": {
     "iopub.execute_input": "2021-09-04T15:47:05.607663Z",
     "iopub.status.busy": "2021-09-04T15:47:05.607254Z",
     "iopub.status.idle": "2021-09-04T15:47:05.616484Z",
     "shell.execute_reply": "2021-09-04T15:47:05.615405Z",
     "shell.execute_reply.started": "2021-09-04T15:47:05.607507Z"
    }
   },
   "outputs": [
    {
     "data": {
      "text/plain": [
       "Restaurant_id                                                                id_74\n",
       "City                                                                        Prague\n",
       "Cuisine Style                                        ['Cafe', 'European', 'Czech']\n",
       "Ranking                                                                     2052.0\n",
       "Price Range                                                                      $\n",
       "Number of Reviews                                                              NaN\n",
       "Reviews                                           [[\"Nova' Doba\"], ['01/26/2017']]\n",
       "URL_TA                           /Restaurant_Review-g274707-d12032989-Reviews-C...\n",
       "ID_TA                                                                    d12032989\n",
       "sample                                                                           0\n",
       "Rating                                                                         0.0\n",
       "Number_of_Cuisine_Style_isNAN                                                    0\n",
       "Price_Range_isNAN                                                                0\n",
       "Name: 74, dtype: object"
      ]
     },
     "execution_count": 73,
     "metadata": {},
     "output_type": "execute_result"
    }
   ],
   "source": [
    "# Например\n",
    "data.iloc[74]"
   ]
  },
  {
   "cell_type": "markdown",
   "metadata": {
    "execution": {
     "iopub.execute_input": "2021-08-27T10:48:19.803181Z",
     "iopub.status.busy": "2021-08-27T10:48:19.802849Z",
     "iopub.status.idle": "2021-08-27T10:48:19.809625Z",
     "shell.execute_reply": "2021-08-27T10:48:19.80808Z",
     "shell.execute_reply.started": "2021-08-27T10:48:19.803131Z"
    }
   },
   "source": [
    "Поэтому будем использовать следующий подход к заполнению пропусков.    \n",
    "Оставлять значение если оно указано.    \n",
    "Если значение не указано, будем проверять есть ли комментарии в Reviews, подсчитывать их и возвращать значение комментариев либо 0 если пусто.    \n",
    "Отметим, что в данных указано максимально 2 комментария в столбцу Reviews.   \n",
    "А все пустые значение Reviews отмечены как [[], []], и длинна такой строки составляет 8. Больше комментариев с такой длинной нету. Поэтому пропуск можно вычислить по длине строки.\n",
    "Количество комментариев (1 или 2) можно вычислить через функцию сплит.\n",
    "Т.к. если в столбце указан два комментария, то используется шаблон \"[['Good for a quick lunch', 'A good option'], ['01/10/2018', '12/29/2017']]\", и если использовать сплит по (\"', '\"), то у нас получится лист длинной 3.    \n",
    "При одном комментарии в столбце используется маска \"[['Good, not Great'], ['01/20/2015']]\"Если использовать такой же сплит этой маске, то получим лист с длинной один.  \n",
    "Первым делом отметим все пропущенные значения."
   ]
  },
  {
   "cell_type": "code",
   "execution_count": 74,
   "metadata": {
    "execution": {
     "iopub.execute_input": "2021-09-04T15:47:05.618663Z",
     "iopub.status.busy": "2021-09-04T15:47:05.618042Z",
     "iopub.status.idle": "2021-09-04T15:47:05.632986Z",
     "shell.execute_reply": "2021-09-04T15:47:05.632053Z",
     "shell.execute_reply.started": "2021-09-04T15:47:05.618589Z"
    }
   },
   "outputs": [],
   "source": [
    "data['Number_of_Reviews_isNAN'] = pd.isna(data['Number of Reviews'])\\\n",
    "                                  .astype('uint8')"
   ]
  },
  {
   "cell_type": "markdown",
   "metadata": {},
   "source": [
    "Снова напишем функцию для заполнения. "
   ]
  },
  {
   "cell_type": "code",
   "execution_count": 75,
   "metadata": {
    "execution": {
     "iopub.execute_input": "2021-09-04T15:47:05.634974Z",
     "iopub.status.busy": "2021-09-04T15:47:05.634606Z",
     "iopub.status.idle": "2021-09-04T15:47:05.649162Z",
     "shell.execute_reply": "2021-09-04T15:47:05.647759Z",
     "shell.execute_reply.started": "2021-09-04T15:47:05.634904Z"
    }
   },
   "outputs": [],
   "source": [
    "def fill_Number_of_Reviews(x):\n",
    "    '''функция принимает в себя строку, и проверяет есть ли комментарии \n",
    "    в Reviews и возвращает соответствующие значение'''\n",
    "    \n",
    "    if pd.isna(x[\"Number of Reviews\"]):\n",
    "        if pd.isna(x[\"Reviews\"]):\n",
    "            return 0\n",
    "        if len(x[\"Reviews\"]) == 8:\n",
    "            return 0\n",
    "        else:\n",
    "            list_ = x[\"Reviews\"].split(\"', '\")\n",
    "            if len(list_) == 3:\n",
    "                return 2\n",
    "            else:\n",
    "                return 1\n",
    "    else:\n",
    "        return x[\"Number of Reviews\"]"
   ]
  },
  {
   "cell_type": "code",
   "execution_count": 76,
   "metadata": {
    "execution": {
     "iopub.execute_input": "2021-09-04T15:47:05.650779Z",
     "iopub.status.busy": "2021-09-04T15:47:05.650515Z",
     "iopub.status.idle": "2021-09-04T15:47:07.480724Z",
     "shell.execute_reply": "2021-09-04T15:47:07.479672Z",
     "shell.execute_reply.started": "2021-09-04T15:47:05.650736Z"
    }
   },
   "outputs": [],
   "source": [
    "data[\"Number of Reviews\"] = data.apply(lambda x: fill_Number_of_Reviews(x),\n",
    "                                       axis=1)"
   ]
  },
  {
   "cell_type": "markdown",
   "metadata": {},
   "source": [
    "Теперь посмотрим на распределение признака."
   ]
  },
  {
   "cell_type": "code",
   "execution_count": 77,
   "metadata": {
    "execution": {
     "iopub.execute_input": "2021-09-04T15:47:07.483305Z",
     "iopub.status.busy": "2021-09-04T15:47:07.482952Z",
     "iopub.status.idle": "2021-09-04T15:47:07.498819Z",
     "shell.execute_reply": "2021-09-04T15:47:07.497281Z",
     "shell.execute_reply.started": "2021-09-04T15:47:07.483245Z"
    }
   },
   "outputs": [
    {
     "data": {
      "text/plain": [
       "count    50000.000000\n",
       "mean       116.528560\n",
       "std        286.163568\n",
       "min          0.000000\n",
       "25%          7.000000\n",
       "50%         28.000000\n",
       "75%        105.000000\n",
       "max       9660.000000\n",
       "Name: Number of Reviews, dtype: float64"
      ]
     },
     "execution_count": 77,
     "metadata": {},
     "output_type": "execute_result"
    }
   ],
   "source": [
    "data[\"Number of Reviews\"].describe()"
   ]
  },
  {
   "cell_type": "code",
   "execution_count": 78,
   "metadata": {
    "execution": {
     "iopub.execute_input": "2021-09-04T15:47:07.500515Z",
     "iopub.status.busy": "2021-09-04T15:47:07.500214Z",
     "iopub.status.idle": "2021-09-04T15:47:07.509965Z",
     "shell.execute_reply": "2021-09-04T15:47:07.509080Z",
     "shell.execute_reply.started": "2021-09-04T15:47:07.500461Z"
    }
   },
   "outputs": [
    {
     "data": {
      "text/plain": [
       "0    2.0\n",
       "dtype: float64"
      ]
     },
     "execution_count": 78,
     "metadata": {},
     "output_type": "execute_result"
    }
   ],
   "source": [
    "# Посмотрим на моду\n",
    "data[\"Number of Reviews\"].mode()"
   ]
  },
  {
   "cell_type": "code",
   "execution_count": 79,
   "metadata": {
    "execution": {
     "iopub.execute_input": "2021-09-04T15:47:07.511857Z",
     "iopub.status.busy": "2021-09-04T15:47:07.511505Z",
     "iopub.status.idle": "2021-09-04T15:47:07.774306Z",
     "shell.execute_reply": "2021-09-04T15:47:07.773577Z",
     "shell.execute_reply.started": "2021-09-04T15:47:07.511723Z"
    }
   },
   "outputs": [
    {
     "data": {
      "text/plain": [
       "<AxesSubplot:>"
      ]
     },
     "execution_count": 79,
     "metadata": {},
     "output_type": "execute_result"
    },
    {
     "data": {
      "image/png": "[encoded data removed]",
      "text/plain": [
       "<Figure size 432x288 with 1 Axes>"
      ]
     },
     "metadata": {
      "needs_background": "light"
     },
     "output_type": "display_data"
    }
   ],
   "source": [
    "data[\"Number of Reviews\"].hist()"
   ]
  },
  {
   "cell_type": "code",
   "execution_count": 80,
   "metadata": {
    "execution": {
     "iopub.execute_input": "2021-09-04T15:47:07.776202Z",
     "iopub.status.busy": "2021-09-04T15:47:07.775679Z",
     "iopub.status.idle": "2021-09-04T15:47:07.944207Z",
     "shell.execute_reply": "2021-09-04T15:47:07.942946Z",
     "shell.execute_reply.started": "2021-09-04T15:47:07.776143Z"
    }
   },
   "outputs": [
    {
     "name": "stderr",
     "output_type": "stream",
     "text": [
      "C:\\ProgramData\\Anaconda3\\lib\\site-packages\\seaborn\\_decorators.py:36: FutureWarning: Pass the following variable as a keyword arg: x. From version 0.12, the only valid positional argument will be `data`, and passing other arguments without an explicit keyword will result in an error or misinterpretation.\n",
      "  warnings.warn(\n"
     ]
    },
    {
     "data": {
      "text/plain": [
       "<AxesSubplot:xlabel='Number of Reviews'>"
      ]
     },
     "execution_count": 80,
     "metadata": {},
     "output_type": "execute_result"
    },
    {
     "data": {
      "image/png": "[encoded data removed]",
      "text/plain": [
       "<Figure size 432x288 with 1 Axes>"
      ]
     },
     "metadata": {
      "needs_background": "light"
     },
     "output_type": "display_data"
    }
   ],
   "source": [
    "sns.boxplot(data[\"Number of Reviews\"])"
   ]
  },
  {
   "cell_type": "markdown",
   "metadata": {
    "execution": {
     "iopub.execute_input": "2021-09-03T02:19:39.67538Z",
     "iopub.status.busy": "2021-09-03T02:19:39.675004Z",
     "iopub.status.idle": "2021-09-03T02:19:39.685085Z",
     "shell.execute_reply": "2021-09-03T02:19:39.683154Z",
     "shell.execute_reply.started": "2021-09-03T02:19:39.675338Z"
    }
   },
   "source": [
    "Принимаем решение, все значение свыше 200 будет объединены в одну группу. И присвоим им значение рейтинга равное 200."
   ]
  },
  {
   "cell_type": "code",
   "execution_count": 81,
   "metadata": {
    "execution": {
     "iopub.execute_input": "2021-09-04T15:47:07.946730Z",
     "iopub.status.busy": "2021-09-04T15:47:07.946163Z",
     "iopub.status.idle": "2021-09-04T15:47:07.979139Z",
     "shell.execute_reply": "2021-09-04T15:47:07.978198Z",
     "shell.execute_reply.started": "2021-09-04T15:47:07.946507Z"
    }
   },
   "outputs": [],
   "source": [
    "data[\"Number of Reviews\"] = data[\"Number of Reviews\"].apply(lambda x:\n",
    "                                                            200 if x>200 else x)"
   ]
  },
  {
   "cell_type": "markdown",
   "metadata": {
    "execution": {
     "iopub.execute_input": "2021-08-27T16:19:18.222622Z",
     "iopub.status.busy": "2021-08-27T16:19:18.222294Z",
     "iopub.status.idle": "2021-08-27T16:19:18.255651Z",
     "shell.execute_reply": "2021-08-27T16:19:18.255023Z",
     "shell.execute_reply.started": "2021-08-27T16:19:18.222567Z"
    }
   },
   "source": [
    "# **Reviews**"
   ]
  },
  {
   "cell_type": "markdown",
   "metadata": {
    "execution": {
     "iopub.execute_input": "2021-08-27T16:21:44.269178Z",
     "iopub.status.busy": "2021-08-27T16:21:44.268853Z",
     "iopub.status.idle": "2021-08-27T16:21:44.275844Z",
     "shell.execute_reply": "2021-08-27T16:21:44.274812Z",
     "shell.execute_reply.started": "2021-08-27T16:21:44.269128Z"
    }
   },
   "source": [
    "Reviews содержит всего 2 Nan, заполним пропуски пустой строкой."
   ]
  },
  {
   "cell_type": "code",
   "execution_count": 82,
   "metadata": {
    "execution": {
     "iopub.execute_input": "2021-09-04T15:47:07.981561Z",
     "iopub.status.busy": "2021-09-04T15:47:07.980923Z",
     "iopub.status.idle": "2021-09-04T15:47:08.000742Z",
     "shell.execute_reply": "2021-09-04T15:47:07.999737Z",
     "shell.execute_reply.started": "2021-09-04T15:47:07.981500Z"
    }
   },
   "outputs": [],
   "source": [
    "data['Reviews'].fillna(\"[[], []]\", inplace=True)"
   ]
  },
  {
   "cell_type": "code",
   "execution_count": 83,
   "metadata": {
    "execution": {
     "iopub.execute_input": "2021-09-04T15:47:08.003071Z",
     "iopub.status.busy": "2021-09-04T15:47:08.002403Z",
     "iopub.status.idle": "2021-09-04T15:47:08.057928Z",
     "shell.execute_reply": "2021-09-04T15:47:08.056894Z",
     "shell.execute_reply.started": "2021-09-04T15:47:08.002997Z"
    }
   },
   "outputs": [
    {
     "name": "stdout",
     "output_type": "stream",
     "text": [
      "<class 'pandas.core.frame.DataFrame'>\n",
      "RangeIndex: 50000 entries, 0 to 49999\n",
      "Data columns (total 14 columns):\n",
      " #   Column                         Non-Null Count  Dtype  \n",
      "---  ------                         --------------  -----  \n",
      " 0   Restaurant_id                  50000 non-null  object \n",
      " 1   City                           50000 non-null  object \n",
      " 2   Cuisine Style                  50000 non-null  object \n",
      " 3   Ranking                        50000 non-null  float64\n",
      " 4   Price Range                    50000 non-null  object \n",
      " 5   Number of Reviews              50000 non-null  float64\n",
      " 6   Reviews                        50000 non-null  object \n",
      " 7   URL_TA                         50000 non-null  object \n",
      " 8   ID_TA                          50000 non-null  object \n",
      " 9   sample                         50000 non-null  int64  \n",
      " 10  Rating                         50000 non-null  float64\n",
      " 11  Number_of_Cuisine_Style_isNAN  50000 non-null  uint8  \n",
      " 12  Price_Range_isNAN              50000 non-null  uint8  \n",
      " 13  Number_of_Reviews_isNAN        50000 non-null  uint8  \n",
      "dtypes: float64(3), int64(1), object(7), uint8(3)\n",
      "memory usage: 4.3+ MB\n"
     ]
    }
   ],
   "source": [
    "# Проверим ещё раз данные на пропуски\n",
    "data.info()"
   ]
  },
  {
   "cell_type": "markdown",
   "metadata": {},
   "source": [
    "Все заполнено. Идем дальше"
   ]
  },
  {
   "cell_type": "markdown",
   "metadata": {},
   "source": [
    "### 2. Обработка признаков\n",
    "Для начала посмотрим какие признаки у нас могут быть категориальными."
   ]
  },
  {
   "cell_type": "code",
   "execution_count": 84,
   "metadata": {
    "execution": {
     "iopub.execute_input": "2021-09-04T15:47:08.059969Z",
     "iopub.status.busy": "2021-09-04T15:47:08.059594Z",
     "iopub.status.idle": "2021-09-04T15:47:08.200804Z",
     "shell.execute_reply": "2021-09-04T15:47:08.199725Z",
     "shell.execute_reply.started": "2021-09-04T15:47:08.059895Z"
    }
   },
   "outputs": [
    {
     "data": {
      "text/plain": [
       "Restaurant_id                    13094\n",
       "City                                31\n",
       "Cuisine Style                    10732\n",
       "Ranking                          12975\n",
       "Price Range                          3\n",
       "Number of Reviews                  201\n",
       "Reviews                          41857\n",
       "URL_TA                           49963\n",
       "ID_TA                            49963\n",
       "sample                               2\n",
       "Rating                              10\n",
       "Number_of_Cuisine_Style_isNAN        2\n",
       "Price_Range_isNAN                    2\n",
       "Number_of_Reviews_isNAN              2\n",
       "dtype: int64"
      ]
     },
     "execution_count": 84,
     "metadata": {},
     "output_type": "execute_result"
    }
   ],
   "source": [
    "data.nunique(dropna=False)"
   ]
  },
  {
   "cell_type": "markdown",
   "metadata": {},
   "source": [
    "Прежде чем приступить к обработке столбца City мы сгенерируем новый признак - количество ресторанов в одном городе."
   ]
  },
  {
   "cell_type": "markdown",
   "metadata": {},
   "source": [
    "#### Возьмем следующий признак \"Price Range\"."
   ]
  },
  {
   "cell_type": "code",
   "execution_count": 85,
   "metadata": {
    "execution": {
     "iopub.execute_input": "2021-09-04T15:47:08.202906Z",
     "iopub.status.busy": "2021-09-04T15:47:08.202490Z",
     "iopub.status.idle": "2021-09-04T15:47:08.224970Z",
     "shell.execute_reply": "2021-09-04T15:47:08.223860Z",
     "shell.execute_reply.started": "2021-09-04T15:47:08.202837Z"
    }
   },
   "outputs": [
    {
     "data": {
      "text/plain": [
       "$$ - $$$    33436\n",
       "$           14612\n",
       "$$$$         1952\n",
       "Name: Price Range, dtype: int64"
      ]
     },
     "execution_count": 85,
     "metadata": {},
     "output_type": "execute_result"
    }
   ],
   "source": [
    "data['Price Range'].value_counts()"
   ]
  },
  {
   "cell_type": "markdown",
   "metadata": {},
   "source": [
    "По описанию 'Price Range' это - Цены в ресторане.  \n",
    "Их можно поставить по возрастанию (значит это не категориальный признак). А это значит, что их можно заменить последовательными числами, например 1,2,3 "
   ]
  },
  {
   "cell_type": "code",
   "execution_count": 86,
   "metadata": {
    "execution": {
     "iopub.execute_input": "2021-09-04T15:47:08.227074Z",
     "iopub.status.busy": "2021-09-04T15:47:08.226502Z",
     "iopub.status.idle": "2021-09-04T15:47:08.253140Z",
     "shell.execute_reply": "2021-09-04T15:47:08.252148Z",
     "shell.execute_reply.started": "2021-09-04T15:47:08.226738Z"
    }
   },
   "outputs": [
    {
     "data": {
      "text/plain": [
       "$$ - $$$    33436\n",
       "$           14612\n",
       "$$$$         1952\n",
       "Name: Price Range, dtype: int64"
      ]
     },
     "execution_count": 86,
     "metadata": {},
     "output_type": "execute_result"
    }
   ],
   "source": [
    "data['Price Range'].value_counts()"
   ]
  },
  {
   "cell_type": "code",
   "execution_count": 87,
   "metadata": {
    "execution": {
     "iopub.execute_input": "2021-09-04T15:47:08.255476Z",
     "iopub.status.busy": "2021-09-04T15:47:08.255043Z",
     "iopub.status.idle": "2021-09-04T15:47:08.264938Z",
     "shell.execute_reply": "2021-09-04T15:47:08.263908Z",
     "shell.execute_reply.started": "2021-09-04T15:47:08.255272Z"
    }
   },
   "outputs": [],
   "source": [
    "code_price_range = {\"$$ - $$$\": 2, \"$\": 1, \"$$$$\": 3}"
   ]
  },
  {
   "cell_type": "code",
   "execution_count": 88,
   "metadata": {
    "execution": {
     "iopub.execute_input": "2021-09-04T15:47:08.267056Z",
     "iopub.status.busy": "2021-09-04T15:47:08.266757Z",
     "iopub.status.idle": "2021-09-04T15:47:08.309064Z",
     "shell.execute_reply": "2021-09-04T15:47:08.308056Z",
     "shell.execute_reply.started": "2021-09-04T15:47:08.267009Z"
    }
   },
   "outputs": [],
   "source": [
    "data[\"label_encoding_price\"] = data['Price Range'].apply(lambda x:\n",
    "                                                   code_price_range[x])"
   ]
  },
  {
   "cell_type": "markdown",
   "metadata": {},
   "source": [
    "> Для некоторых алгоритмов МЛ даже для не категориальных признаков можно применить One-Hot Encoding, и это может улучшить качество модели. Пробуйте разные подходы к кодированию признака - никто не знает заранее, что может взлететь."
   ]
  },
  {
   "cell_type": "markdown",
   "metadata": {},
   "source": [
    "### Обработка Cuisine Style"
   ]
  },
  {
   "cell_type": "code",
   "execution_count": 89,
   "metadata": {
    "execution": {
     "iopub.execute_input": "2021-09-04T15:47:08.310779Z",
     "iopub.status.busy": "2021-09-04T15:47:08.310497Z",
     "iopub.status.idle": "2021-09-04T15:47:08.531288Z",
     "shell.execute_reply": "2021-09-04T15:47:08.530391Z",
     "shell.execute_reply.started": "2021-09-04T15:47:08.310734Z"
    }
   },
   "outputs": [],
   "source": [
    "# Преобразуем значение str в лист. \n",
    "data[\"Cuisine Style\"] = data[\"Cuisine Style\"].str.replace(\"'\", \"\")\\\n",
    "                        .str.strip('''['']''').str.split(', ')"
   ]
  },
  {
   "cell_type": "code",
   "execution_count": 90,
   "metadata": {
    "execution": {
     "iopub.execute_input": "2021-09-04T15:47:08.533276Z",
     "iopub.status.busy": "2021-09-04T15:47:08.532809Z",
     "iopub.status.idle": "2021-09-04T15:47:08.568509Z",
     "shell.execute_reply": "2021-09-04T15:47:08.567301Z",
     "shell.execute_reply.started": "2021-09-04T15:47:08.533048Z"
    }
   },
   "outputs": [],
   "source": [
    "# Найдем уникальные значения.\n",
    "unique_cuisine_style = set()\n",
    "for list_ in data[\"Cuisine Style\"]:\n",
    "    unique_cuisine_style.update(list_)"
   ]
  },
  {
   "cell_type": "markdown",
   "metadata": {},
   "source": [
    "Закодируем данные перед построением модели, дабы не затруднять анализ данных на данном этапе."
   ]
  },
  {
   "cell_type": "markdown",
   "metadata": {
    "execution": {
     "iopub.execute_input": "2021-08-28T03:05:48.53128Z",
     "iopub.status.busy": "2021-08-28T03:05:48.53095Z",
     "iopub.status.idle": "2021-08-28T03:05:48.53522Z",
     "shell.execute_reply": "2021-08-28T03:05:48.534197Z",
     "shell.execute_reply.started": "2021-08-28T03:05:48.531241Z"
    }
   },
   "source": [
    "### Обработка Reviews"
   ]
  },
  {
   "cell_type": "markdown",
   "metadata": {},
   "source": [
    "#  Найдем в Reviews даты и занесем их в новый столбки\n"
   ]
  },
  {
   "cell_type": "code",
   "execution_count": 91,
   "metadata": {
    "execution": {
     "iopub.execute_input": "2021-09-04T15:47:08.570374Z",
     "iopub.status.busy": "2021-09-04T15:47:08.569855Z",
     "iopub.status.idle": "2021-09-04T15:47:22.491004Z",
     "shell.execute_reply": "2021-09-04T15:47:22.489961Z",
     "shell.execute_reply.started": "2021-09-04T15:47:08.570204Z"
    }
   },
   "outputs": [],
   "source": [
    "data['Reviews data'] = data['Reviews'].apply(lambda x:\n",
    "                                             re.findall(r\"\\d\\d\\/\\d\\d\\/\\d{4}\",\n",
    "                                                        str(x)))\n",
    "data[['Date_1','Date_2']] = data['Reviews data'].apply(pd.Series, 1)\n",
    "data['Date_1'] = pd.to_datetime(data['Date_1'])\n",
    "data['Date_2'] = pd.to_datetime(data['Date_2'])\n",
    "# вычислим разницу между датами\n",
    "data['Delta review'] = abs(data['Date_1'] - data['Date_2'])\n",
    "# приведем разницу в дни\n",
    "data['Delta review'] = data['Delta review'].dt.days\n",
    "# пропуски заполняем средним значением\n",
    "data['Delta review'].fillna(round(data['Delta review'].mean()), inplace=True)"
   ]
  },
  {
   "cell_type": "code",
   "execution_count": 92,
   "metadata": {
    "execution": {
     "iopub.execute_input": "2021-09-04T15:47:22.492809Z",
     "iopub.status.busy": "2021-09-04T15:47:22.492528Z",
     "iopub.status.idle": "2021-09-04T15:47:22.533820Z",
     "shell.execute_reply": "2021-09-04T15:47:22.532772Z",
     "shell.execute_reply.started": "2021-09-04T15:47:22.492763Z"
    }
   },
   "outputs": [],
   "source": [
    "# Сразу же удалим ненужные столбцы \n",
    "data.drop('Date_1', axis=1, inplace=True)\n",
    "data.drop('Date_2', axis=1, inplace=True)"
   ]
  },
  {
   "cell_type": "markdown",
   "metadata": {},
   "source": []
  },
  {
   "cell_type": "markdown",
   "metadata": {},
   "source": [
    "![](https://cs10.pikabu.ru/post_img/2018/09/06/11/1536261023140110012.jpg)"
   ]
  },
  {
   "cell_type": "markdown",
   "metadata": {},
   "source": [
    "# EDA \n",
    "Теперь займемся самым интересным.   \n",
    "[Exploratory Data Analysis](https://ru.wikipedia.org/wiki/Разведочный_анализ_данных) - Анализ данных\n",
    "На этом этапе мы строим графики, ищем закономерности, аномалии, выбросы или связи между признаками.\n",
    "В общем цель этого этапа понять, что эти данные могут нам дать и как признаки могут быть взаимосвязаны между собой.\n",
    "Понимание изначальных признаков позволит сгенерировать новые, более сильные и, тем самым, сделать нашу модель лучше.\n",
    "![](https://miro.medium.com/max/2598/1*RXdMb7Uk6mGqWqPguHULaQ.png)"
   ]
  },
  {
   "cell_type": "markdown",
   "metadata": {},
   "source": [
    "Создадим новые признаки. \n",
    "1) Количество ресторанов с одним ID. Предположим, что это сетевые рестораны или рестораны с одним владельцем.     \n",
    "2) Количество ресторанов в одном городе.    \n",
    "3) Население в городе.   \n",
    "4) Количество слов, которые придают положительный или негативный оттенок в комментариях.    \n",
    "5) Добавим признак. Количество кухонь в ресторане.   \n",
    "6) Отметим столицы.   \n",
    "7) Присоединим таблицу сost_of_living_index..         \n",
    "8) Отметим, к какой части Европы относятся города    \n",
    "9) Отметим топ 10 самых встречающихся городов в выборке    \n",
    "10) Добавим новый признак. Количество слов в комментариях    \n",
    "Прежде чем мы начнем считать новые признаки на основе старых, нормализуем числовые признаки.    \n",
    "11) Добавим признак. Население в городе, деленное на количество ресторанов.    \n",
    "12) Добавим признак. Население в городе деленное, на количество кухонь.    \n",
    "13) Добавим признак. Население в городе, деленное на рейтинг стоимости.   \n",
    "14) Вычисляем относительную позицию ресторана среди всех ресторанов города    \n",
    "15) Добавим признак. Рейтинг стоимости, умноженный на стоимость жизни     \n",
    "16) Добавим признак. Рейтинг стоимости, деленный на покупательскую способность    \n",
    "17) Добавим признак. Покупательскую способность разделим на население    \n",
    "18) Добавим признак. Как часто оставляют отзывы. Разделим население на количество отзывов    \n",
    "\n"
   ]
  },
  {
   "cell_type": "markdown",
   "metadata": {},
   "source": [
    "# 1) Количество ресторанов с одним ID. Предположим, что это сетевые рестораны или рестораны с одним владельцем. "
   ]
  },
  {
   "cell_type": "code",
   "execution_count": 93,
   "metadata": {
    "execution": {
     "iopub.execute_input": "2021-09-04T15:47:22.536269Z",
     "iopub.status.busy": "2021-09-04T15:47:22.535702Z",
     "iopub.status.idle": "2021-09-04T15:47:23.225102Z",
     "shell.execute_reply": "2021-09-04T15:47:23.224045Z",
     "shell.execute_reply.started": "2021-09-04T15:47:22.536049Z"
    }
   },
   "outputs": [],
   "source": [
    "number_by_ID = data[\"Restaurant_id\"].value_counts()\n",
    "data[\"number_by_ID\"] = data[\"Restaurant_id\"].apply(\n",
    "    lambda x: number_by_ID[x])"
   ]
  },
  {
   "cell_type": "markdown",
   "metadata": {},
   "source": [
    "# 2) Количество ресторанов в одном городе."
   ]
  },
  {
   "cell_type": "code",
   "execution_count": 94,
   "metadata": {
    "execution": {
     "iopub.execute_input": "2021-09-04T15:47:23.227536Z",
     "iopub.status.busy": "2021-09-04T15:47:23.226943Z",
     "iopub.status.idle": "2021-09-04T15:47:23.888302Z",
     "shell.execute_reply": "2021-09-04T15:47:23.887330Z",
     "shell.execute_reply.started": "2021-09-04T15:47:23.227290Z"
    }
   },
   "outputs": [],
   "source": [
    "# Количество ресторанов в одном городе.\n",
    "number_by_city = data[\"City\"].value_counts()\n",
    "data[\"number_by_city\"] = data[\"City\"].apply(\n",
    "    lambda x: number_by_city[x])"
   ]
  },
  {
   "cell_type": "markdown",
   "metadata": {},
   "source": [
    "# 3) Население в городе.   "
   ]
  },
  {
   "cell_type": "code",
   "execution_count": 95,
   "metadata": {
    "execution": {
     "iopub.execute_input": "2021-09-04T15:47:23.889959Z",
     "iopub.status.busy": "2021-09-04T15:47:23.889670Z",
     "iopub.status.idle": "2021-09-04T15:47:23.932781Z",
     "shell.execute_reply": "2021-09-04T15:47:23.931725Z",
     "shell.execute_reply.started": "2021-09-04T15:47:23.889909Z"
    }
   },
   "outputs": [],
   "source": [
    "data = data.join(worldcities.set_index('city_ascii'), on='City') "
   ]
  },
  {
   "cell_type": "markdown",
   "metadata": {},
   "source": [
    "# 4) Количество слов, которые придают положительный или негативный оттенок в комментариях.    "
   ]
  },
  {
   "cell_type": "code",
   "execution_count": 96,
   "metadata": {
    "execution": {
     "iopub.execute_input": "2021-09-04T15:47:23.934865Z",
     "iopub.status.busy": "2021-09-04T15:47:23.934479Z",
     "iopub.status.idle": "2021-09-04T15:47:23.942045Z",
     "shell.execute_reply": "2021-09-04T15:47:23.941069Z",
     "shell.execute_reply.started": "2021-09-04T15:47:23.934796Z"
    }
   },
   "outputs": [],
   "source": [
    "def count_words(line, words):\n",
    "    '''Функция принимает на вход строку и список слов\n",
    "    и возвращает количество слов встреченных в строке из списка '''\n",
    "    list_count = list()\n",
    "    for text in line:\n",
    "        text_words = set(re.findall(r'\\w+', text.casefold()))\n",
    "        test = sum(w in text_words for w in set(map(str.casefold, words)))\n",
    "        list_count.append(test)\n",
    "    return list_count\n"
   ]
  },
  {
   "cell_type": "code",
   "execution_count": 97,
   "metadata": {
    "execution": {
     "iopub.execute_input": "2021-09-04T15:47:23.944722Z",
     "iopub.status.busy": "2021-09-04T15:47:23.944002Z",
     "iopub.status.idle": "2021-09-04T15:47:23.966691Z",
     "shell.execute_reply": "2021-09-04T15:47:23.965701Z",
     "shell.execute_reply.started": "2021-09-04T15:47:23.944654Z"
    }
   },
   "outputs": [],
   "source": [
    "# Список слов с положительным оттенком.\n",
    "good_words = ['good', 'great', 'nice', 'best', 'excellent', 'delicious',\n",
    "             'friendly', 'lovely', 'amazing', 'tasty', 'fine',\n",
    "              'Piping hot', 'Tender' , 'well', 'palatable']"
   ]
  },
  {
   "cell_type": "code",
   "execution_count": 98,
   "metadata": {
    "execution": {
     "iopub.execute_input": "2021-09-04T15:47:23.968783Z",
     "iopub.status.busy": "2021-09-04T15:47:23.968129Z",
     "iopub.status.idle": "2021-09-04T15:47:23.982890Z",
     "shell.execute_reply": "2021-09-04T15:47:23.981396Z",
     "shell.execute_reply.started": "2021-09-04T15:47:23.968691Z"
    }
   },
   "outputs": [],
   "source": [
    "# Список слов с отрицательным оттенком.\n",
    "bad_words = ['terrible', 'horrible', 'awful', 'dreadful', 'horrendous',\n",
    "             'Raw', 'Tasteless', 'Bland ','Salty', 'Bitter', 'Sour',\n",
    "             'Rancid', 'Tough']"
   ]
  },
  {
   "cell_type": "code",
   "execution_count": 99,
   "metadata": {
    "execution": {
     "iopub.execute_input": "2021-09-04T15:47:23.985210Z",
     "iopub.status.busy": "2021-09-04T15:47:23.984824Z",
     "iopub.status.idle": "2021-09-04T15:47:25.391761Z",
     "shell.execute_reply": "2021-09-04T15:47:25.390722Z",
     "shell.execute_reply.started": "2021-09-04T15:47:23.985140Z"
    }
   },
   "outputs": [],
   "source": [
    "# Выделим отдельные списки, и запустим нашу функцию.\n",
    "data_Reviews = data[\"Reviews\"]\n",
    "count_of_good_words = count_words(data_Reviews, good_words)\n",
    "count_of_bad_words = count_words(data_Reviews, bad_words)"
   ]
  },
  {
   "cell_type": "code",
   "execution_count": 100,
   "metadata": {
    "execution": {
     "iopub.execute_input": "2021-09-04T15:47:25.393274Z",
     "iopub.status.busy": "2021-09-04T15:47:25.393041Z",
     "iopub.status.idle": "2021-09-04T15:47:25.443746Z",
     "shell.execute_reply": "2021-09-04T15:47:25.442616Z",
     "shell.execute_reply.started": "2021-09-04T15:47:25.393240Z"
    }
   },
   "outputs": [],
   "source": [
    "# Добавим результаты в дата фрейм\n",
    "data[\"count_of_good_words\"] = count_of_good_words\n",
    "data[\"count_of_bad_words\"] = count_of_bad_words"
   ]
  },
  {
   "cell_type": "code",
   "execution_count": 101,
   "metadata": {
    "execution": {
     "iopub.execute_input": "2021-09-04T15:47:25.445435Z",
     "iopub.status.busy": "2021-09-04T15:47:25.445136Z",
     "iopub.status.idle": "2021-09-04T15:47:25.494811Z",
     "shell.execute_reply": "2021-09-04T15:47:25.493804Z",
     "shell.execute_reply.started": "2021-09-04T15:47:25.445370Z"
    }
   },
   "outputs": [
    {
     "data": {
      "text/html": [
       "<div>\n",
       "<style scoped>\n",
       "    .dataframe tbody tr th:only-of-type {\n",
       "        vertical-align: middle;\n",
       "    }\n",
       "\n",
       "    .dataframe tbody tr th {\n",
       "        vertical-align: top;\n",
       "    }\n",
       "\n",
       "    .dataframe thead th {\n",
       "        text-align: right;\n",
       "    }\n",
       "</style>\n",
       "<table border=\"1\" class=\"dataframe\">\n",
       "  <thead>\n",
       "    <tr style=\"text-align: right;\">\n",
       "      <th></th>\n",
       "      <th>count_of_good_words</th>\n",
       "      <th>count_of_bad_words</th>\n",
       "    </tr>\n",
       "  </thead>\n",
       "  <tbody>\n",
       "    <tr>\n",
       "      <th>count</th>\n",
       "      <td>50000.000000</td>\n",
       "      <td>50000.00000</td>\n",
       "    </tr>\n",
       "    <tr>\n",
       "      <th>mean</th>\n",
       "      <td>0.818000</td>\n",
       "      <td>0.01524</td>\n",
       "    </tr>\n",
       "    <tr>\n",
       "      <th>std</th>\n",
       "      <td>0.818101</td>\n",
       "      <td>0.12429</td>\n",
       "    </tr>\n",
       "    <tr>\n",
       "      <th>min</th>\n",
       "      <td>0.000000</td>\n",
       "      <td>0.00000</td>\n",
       "    </tr>\n",
       "    <tr>\n",
       "      <th>25%</th>\n",
       "      <td>0.000000</td>\n",
       "      <td>0.00000</td>\n",
       "    </tr>\n",
       "    <tr>\n",
       "      <th>50%</th>\n",
       "      <td>1.000000</td>\n",
       "      <td>0.00000</td>\n",
       "    </tr>\n",
       "    <tr>\n",
       "      <th>75%</th>\n",
       "      <td>1.000000</td>\n",
       "      <td>0.00000</td>\n",
       "    </tr>\n",
       "    <tr>\n",
       "      <th>max</th>\n",
       "      <td>5.000000</td>\n",
       "      <td>2.00000</td>\n",
       "    </tr>\n",
       "  </tbody>\n",
       "</table>\n",
       "</div>"
      ],
      "text/plain": [
       "       count_of_good_words  count_of_bad_words\n",
       "count         50000.000000         50000.00000\n",
       "mean              0.818000             0.01524\n",
       "std               0.818101             0.12429\n",
       "min               0.000000             0.00000\n",
       "25%               0.000000             0.00000\n",
       "50%               1.000000             0.00000\n",
       "75%               1.000000             0.00000\n",
       "max               5.000000             2.00000"
      ]
     },
     "execution_count": 101,
     "metadata": {},
     "output_type": "execute_result"
    }
   ],
   "source": [
    "# Посмотрим сразу и на распределение новых признаков\n",
    "data[[\"count_of_good_words\", \"count_of_bad_words\"]].describe()"
   ]
  },
  {
   "cell_type": "markdown",
   "metadata": {},
   "source": [
    "Смотря на данные можно сделать вывод, что люди чаще оставляют положительный отзыв."
   ]
  },
  {
   "cell_type": "markdown",
   "metadata": {},
   "source": [
    "# 5) Добавим признак. Количество кухонь в ресторане.     "
   ]
  },
  {
   "cell_type": "code",
   "execution_count": 102,
   "metadata": {
    "execution": {
     "iopub.execute_input": "2021-09-04T15:47:25.496827Z",
     "iopub.status.busy": "2021-09-04T15:47:25.496442Z",
     "iopub.status.idle": "2021-09-04T15:47:25.568062Z",
     "shell.execute_reply": "2021-09-04T15:47:25.566913Z",
     "shell.execute_reply.started": "2021-09-04T15:47:25.496757Z"
    }
   },
   "outputs": [],
   "source": [
    "# Количество кухонь в городе. \n",
    "def city_cuisine_count (cuis_st):\n",
    "    '''функция принимает сгруппированные по городу данные\n",
    "    и возвращает количество уникальных стилей кухонь по городу'''\n",
    "    cuisine_set = set()\n",
    "    \n",
    "    for x in cuis_st[\"Cuisine Style\"]:\n",
    "        cuisine_set.update(x)\n",
    "    return len(cuisine_set) \n",
    "\n",
    "\n",
    "\n",
    "number_of_unique_cuisines = data[['City','Cuisine Style']]\\\n",
    ".groupby('City').apply(lambda x: city_cuisine_count(x))\n",
    "\n",
    "data['number_of_unique_cuisines'] = data.City.map(number_of_unique_cuisines)"
   ]
  },
  {
   "cell_type": "markdown",
   "metadata": {},
   "source": [
    "# 6) Отметим столицы.    "
   ]
  },
  {
   "cell_type": "code",
   "execution_count": 103,
   "metadata": {
    "execution": {
     "iopub.execute_input": "2021-09-04T15:47:25.570102Z",
     "iopub.status.busy": "2021-09-04T15:47:25.569701Z",
     "iopub.status.idle": "2021-09-04T15:47:25.616689Z",
     "shell.execute_reply": "2021-09-04T15:47:25.615634Z",
     "shell.execute_reply.started": "2021-09-04T15:47:25.570002Z"
    }
   },
   "outputs": [],
   "source": [
    "# Отметим столицы.\n",
    "# Для начала создадим список со столицами\n",
    "capital = ['Barcelona', 'Milan', 'Hamburg', 'Munich', \n",
    "                          'Lyon', 'Zurich', 'Oporto', 'Geneva', 'Krakow']\n",
    "data['is_capital'] = data['City'].apply(lambda x: 0 if x in capital else 1)"
   ]
  },
  {
   "cell_type": "markdown",
   "metadata": {
    "execution": {
     "iopub.execute_input": "2021-08-31T16:05:54.611115Z",
     "iopub.status.busy": "2021-08-31T16:05:54.610772Z",
     "iopub.status.idle": "2021-08-31T16:05:54.614573Z",
     "shell.execute_reply": "2021-08-31T16:05:54.613972Z",
     "shell.execute_reply.started": "2021-08-31T16:05:54.611031Z"
    }
   },
   "source": [
    "# 7) Присоеденим таблицу сost_of_living_index.         "
   ]
  },
  {
   "cell_type": "code",
   "execution_count": 104,
   "metadata": {
    "execution": {
     "iopub.execute_input": "2021-09-04T15:47:25.618826Z",
     "iopub.status.busy": "2021-09-04T15:47:25.618415Z",
     "iopub.status.idle": "2021-09-04T15:47:25.653869Z",
     "shell.execute_reply": "2021-09-04T15:47:25.652780Z",
     "shell.execute_reply.started": "2021-09-04T15:47:25.618753Z"
    }
   },
   "outputs": [],
   "source": [
    "data = data.join(сost_of_living_index.set_index('City'), on='City') "
   ]
  },
  {
   "cell_type": "markdown",
   "metadata": {},
   "source": [
    "# 8) Отметим, к какой части Европы относятся города.     "
   ]
  },
  {
   "cell_type": "code",
   "execution_count": 105,
   "metadata": {
    "execution": {
     "iopub.execute_input": "2021-09-04T15:47:25.655963Z",
     "iopub.status.busy": "2021-09-04T15:47:25.655594Z",
     "iopub.status.idle": "2021-09-04T15:47:25.664230Z",
     "shell.execute_reply": "2021-09-04T15:47:25.663026Z",
     "shell.execute_reply.started": "2021-09-04T15:47:25.655892Z"
    }
   },
   "outputs": [],
   "source": [
    "# Предварительно отсортируем и создадим списки. \n",
    "city = data['City']\n",
    "westert_europe = ['Paris', 'Edinburgh', 'London', 'Munich', 'Hamburg',\n",
    "                  'Vienna', 'Dublin', 'Brussels', 'Amsterdam', 'Berlin',\n",
    "                  'Lyon', 'Luxembourg'\n",
    "                 ]\n",
    "northern_europe = ['Helsinki', 'Stockholm', 'Oslo', 'Copenhagen', 'Zurich',\n",
    "                   'Geneva'\n",
    "                  ]\n",
    "eastern_europe = ['Bratislava', 'Budapest', 'Prague', 'Warsaw', 'Krakow']\n",
    "southern_europe = ['Lisbon', 'Rome', 'Milan', 'Barcelona', 'Madrid', 'Athens',\n",
    "                   'Oporto', 'Ljubljana'\n",
    "                  ]"
   ]
  },
  {
   "cell_type": "code",
   "execution_count": 106,
   "metadata": {
    "execution": {
     "iopub.execute_input": "2021-09-04T15:47:25.666246Z",
     "iopub.status.busy": "2021-09-04T15:47:25.665876Z",
     "iopub.status.idle": "2021-09-04T15:47:25.679137Z",
     "shell.execute_reply": "2021-09-04T15:47:25.677960Z",
     "shell.execute_reply.started": "2021-09-04T15:47:25.666180Z"
    }
   },
   "outputs": [],
   "source": [
    "#  Напишем функцию для заполнения наших признаков.\n",
    "def europe_coding(city, europe_type):\n",
    "    '''Функция принимает списко городов и список городов входящих\n",
    "    в определунню часть европу'''\n",
    "    for i in city:\n",
    "        if i in europe_type:\n",
    "            return 1\n",
    "        else:\n",
    "            return 0"
   ]
  },
  {
   "cell_type": "code",
   "execution_count": 107,
   "metadata": {
    "execution": {
     "iopub.execute_input": "2021-09-04T15:47:25.680985Z",
     "iopub.status.busy": "2021-09-04T15:47:25.680692Z",
     "iopub.status.idle": "2021-09-04T15:47:25.705301Z",
     "shell.execute_reply": "2021-09-04T15:47:25.704282Z",
     "shell.execute_reply.started": "2021-09-04T15:47:25.680931Z"
    }
   },
   "outputs": [],
   "source": [
    "is_westert_europe = europe_coding(city, westert_europe)\n",
    "is_northern_europe = europe_coding(city, northern_europe)\n",
    "is_eastern_europe = europe_coding(city, eastern_europe)\n",
    "is_southern_europe = europe_coding(city, southern_europe)\n",
    "data['is_westert_europe'] = is_westert_europe\n",
    "data['is_northern_europe'] = is_northern_europe\n",
    "data['is_eastern_europe'] = is_eastern_europe\n",
    "data['is_southern_europe'] = is_southern_europe"
   ]
  },
  {
   "cell_type": "markdown",
   "metadata": {
    "execution": {
     "iopub.execute_input": "2021-08-29T14:51:02.659155Z",
     "iopub.status.busy": "2021-08-29T14:51:02.658642Z",
     "iopub.status.idle": "2021-08-29T14:51:02.666288Z",
     "shell.execute_reply": "2021-08-29T14:51:02.664695Z",
     "shell.execute_reply.started": "2021-08-29T14:51:02.659101Z"
    }
   },
   "source": [
    "Отметим, что в выборке больше всего данных из Восточной Европы и меньше всего из Восточной Европы. "
   ]
  },
  {
   "cell_type": "markdown",
   "metadata": {},
   "source": [
    "# 9) Отметим топ 10 самых встречающихся городов в выборке. "
   ]
  },
  {
   "cell_type": "code",
   "execution_count": 108,
   "metadata": {
    "execution": {
     "iopub.execute_input": "2021-09-04T15:47:25.707501Z",
     "iopub.status.busy": "2021-09-04T15:47:25.706856Z",
     "iopub.status.idle": "2021-09-04T15:47:25.734716Z",
     "shell.execute_reply": "2021-09-04T15:47:25.733755Z",
     "shell.execute_reply.started": "2021-09-04T15:47:25.707426Z"
    }
   },
   "outputs": [],
   "source": [
    "# Отметим топ 10 самых больших городов\n",
    "top_10_city = data['City'].value_counts()[0:10].index\n",
    "# Создадим наш будущий признак, воспользуемся функцией europe_coding\n",
    "top_10_city_list = europe_coding(top_10_city,data[\"City\"])\n",
    "data[\"Top_10_City\"] = top_10_city_list"
   ]
  },
  {
   "cell_type": "markdown",
   "metadata": {},
   "source": [
    "# 10) Добавим новый признак. Количество слов в комментариях**"
   ]
  },
  {
   "cell_type": "code",
   "execution_count": 109,
   "metadata": {
    "execution": {
     "iopub.execute_input": "2021-09-04T15:47:25.736327Z",
     "iopub.status.busy": "2021-09-04T15:47:25.736070Z",
     "iopub.status.idle": "2021-09-04T15:47:25.743216Z",
     "shell.execute_reply": "2021-09-04T15:47:25.742473Z",
     "shell.execute_reply.started": "2021-09-04T15:47:25.736291Z"
    }
   },
   "outputs": [],
   "source": [
    "#  Напишем функцию, для нахождения количества слов\n",
    "def count_words (rev):\n",
    "    '''Функция принимает в себя строку \n",
    "    и возращает её длинну'''\n",
    "    sentence = rev.split(\"], [\")[0]\n",
    "    sentence = sentence.replace('[',\"\").replace(\"'\",\"\")\n",
    "    return (len(sentence.split(\" \")))\n"
   ]
  },
  {
   "cell_type": "code",
   "execution_count": 110,
   "metadata": {
    "execution": {
     "iopub.execute_input": "2021-09-04T15:47:25.744846Z",
     "iopub.status.busy": "2021-09-04T15:47:25.744509Z",
     "iopub.status.idle": "2021-09-04T15:47:25.884246Z",
     "shell.execute_reply": "2021-09-04T15:47:25.883246Z",
     "shell.execute_reply.started": "2021-09-04T15:47:25.744793Z"
    }
   },
   "outputs": [],
   "source": [
    "data[\"count_words\"] = data[\"Reviews\"].apply(lambda x: count_words(x))"
   ]
  },
  {
   "cell_type": "markdown",
   "metadata": {},
   "source": [
    "# **Прежде чем мы начнем считать новые признаки на основе старых, нормализуем числовые признаки.**"
   ]
  },
  {
   "cell_type": "code",
   "execution_count": 111,
   "metadata": {
    "execution": {
     "iopub.execute_input": "2021-09-04T15:47:25.886479Z",
     "iopub.status.busy": "2021-09-04T15:47:25.886052Z",
     "iopub.status.idle": "2021-09-04T15:47:25.918611Z",
     "shell.execute_reply": "2021-09-04T15:47:25.917643Z",
     "shell.execute_reply.started": "2021-09-04T15:47:25.886407Z"
    }
   },
   "outputs": [],
   "source": [
    "for i in data:\n",
    "    if not(data[i].dtype == object):\n",
    "        array_before =  np.array(data[i])\n",
    "        array_before = array_before.reshape(1, -1)\n",
    "        array_normalize = preprocessing.normalize(array_before)\n",
    "        array_after = array_before.reshape(-1,1)\n",
    "        data[i] = array_after"
   ]
  },
  {
   "cell_type": "markdown",
   "metadata": {},
   "source": [
    "# 11) Добавим признак. Население в городе, деленное на количество ресторанов."
   ]
  },
  {
   "cell_type": "code",
   "execution_count": 112,
   "metadata": {
    "execution": {
     "iopub.execute_input": "2021-09-04T15:47:25.920692Z",
     "iopub.status.busy": "2021-09-04T15:47:25.920286Z",
     "iopub.status.idle": "2021-09-04T15:47:27.697867Z",
     "shell.execute_reply": "2021-09-04T15:47:27.696852Z",
     "shell.execute_reply.started": "2021-09-04T15:47:25.920619Z"
    }
   },
   "outputs": [],
   "source": [
    "data['pop_res'] = data.apply(lambda x: x['population'] / x[\"number_by_city\"],\n",
    "                             axis=1)\n"
   ]
  },
  {
   "cell_type": "markdown",
   "metadata": {},
   "source": [
    "# 12) Добавим признак. Население в городе деленное, на количество кухонь.  "
   ]
  },
  {
   "cell_type": "code",
   "execution_count": 113,
   "metadata": {
    "execution": {
     "iopub.execute_input": "2021-09-04T15:47:27.699390Z",
     "iopub.status.busy": "2021-09-04T15:47:27.699121Z",
     "iopub.status.idle": "2021-09-04T15:47:29.466602Z",
     "shell.execute_reply": "2021-09-04T15:47:29.465537Z",
     "shell.execute_reply.started": "2021-09-04T15:47:27.699332Z"
    }
   },
   "outputs": [],
   "source": [
    "data['pop_cuis'] = data.apply(lambda x:\n",
    "                              x['population'] / x['number_of_unique_cuisines'],\n",
    "                              axis=1)"
   ]
  },
  {
   "cell_type": "markdown",
   "metadata": {},
   "source": [
    "# 13) Добавим признак. Население в городе, деленное на рейтинг стоимости.   "
   ]
  },
  {
   "cell_type": "code",
   "execution_count": 114,
   "metadata": {
    "execution": {
     "iopub.execute_input": "2021-09-04T15:47:29.468093Z",
     "iopub.status.busy": "2021-09-04T15:47:29.467828Z",
     "iopub.status.idle": "2021-09-04T15:47:31.218764Z",
     "shell.execute_reply": "2021-09-04T15:47:31.217580Z",
     "shell.execute_reply.started": "2021-09-04T15:47:29.468050Z"
    }
   },
   "outputs": [],
   "source": [
    "data['pop_price'] = data.apply(lambda x:\n",
    "                              x['population'] / x['label_encoding_price'],\n",
    "                              axis=1)"
   ]
  },
  {
   "cell_type": "markdown",
   "metadata": {},
   "source": [
    "# 14) Вычисляем относительную позицию ресторана среди всех ресторанов города"
   ]
  },
  {
   "cell_type": "code",
   "execution_count": 115,
   "metadata": {
    "execution": {
     "iopub.execute_input": "2021-09-04T15:47:31.220324Z",
     "iopub.status.busy": "2021-09-04T15:47:31.220065Z",
     "iopub.status.idle": "2021-09-04T15:47:31.488907Z",
     "shell.execute_reply": "2021-09-04T15:47:31.487838Z",
     "shell.execute_reply.started": "2021-09-04T15:47:31.220282Z"
    }
   },
   "outputs": [],
   "source": [
    "data[\"rank_number_by_city\"] = data['Ranking'] / data['number_by_city']"
   ]
  },
  {
   "cell_type": "markdown",
   "metadata": {},
   "source": [
    "# 15) Добавим признак. Рейтинг стоимости, умноженный на стоимость жизни"
   ]
  },
  {
   "cell_type": "code",
   "execution_count": 116,
   "metadata": {
    "execution": {
     "iopub.execute_input": "2021-09-04T15:47:31.490327Z",
     "iopub.status.busy": "2021-09-04T15:47:31.490097Z",
     "iopub.status.idle": "2021-09-04T15:47:33.299424Z",
     "shell.execute_reply": "2021-09-04T15:47:33.298210Z",
     "shell.execute_reply.started": "2021-09-04T15:47:31.490292Z"
    }
   },
   "outputs": [],
   "source": [
    "data['price_cost_of_liv'] = data.apply(lambda x:\n",
    "                            x['label_encoding_price']/ x['Cost of Living Index'],\n",
    "                              axis=1)"
   ]
  },
  {
   "cell_type": "markdown",
   "metadata": {},
   "source": [
    "# 16) Добавим признак. Рейтинг стоимости, деленный на покупательскую способность"
   ]
  },
  {
   "cell_type": "code",
   "execution_count": 117,
   "metadata": {
    "execution": {
     "iopub.execute_input": "2021-09-04T15:47:33.301675Z",
     "iopub.status.busy": "2021-09-04T15:47:33.301086Z",
     "iopub.status.idle": "2021-09-04T15:47:35.120682Z",
     "shell.execute_reply": "2021-09-04T15:47:35.119658Z",
     "shell.execute_reply.started": "2021-09-04T15:47:33.301425Z"
    }
   },
   "outputs": [],
   "source": [
    "data['price_pur_power'] = data.apply(lambda x:\n",
    "                            x['label_encoding_price'] / x['Local Purchasing Power Index'],\n",
    "                              axis=1) "
   ]
  },
  {
   "cell_type": "markdown",
   "metadata": {},
   "source": [
    "# 17) Добавим признак. Покупательскую способность умножим на население"
   ]
  },
  {
   "cell_type": "code",
   "execution_count": 118,
   "metadata": {
    "execution": {
     "iopub.execute_input": "2021-09-04T15:47:35.123256Z",
     "iopub.status.busy": "2021-09-04T15:47:35.122710Z",
     "iopub.status.idle": "2021-09-04T15:47:36.907989Z",
     "shell.execute_reply": "2021-09-04T15:47:36.906852Z",
     "shell.execute_reply.started": "2021-09-04T15:47:35.123055Z"
    }
   },
   "outputs": [],
   "source": [
    "data['pop_loc_pur'] = data.apply(lambda x:\n",
    "                            x['Local Purchasing Power Index'] *  x['population'],\n",
    "                              axis=1)"
   ]
  },
  {
   "cell_type": "markdown",
   "metadata": {},
   "source": [
    "# 18) Добавим признак. Как часто оставляют отзывы. Разделим население на количество отзывов"
   ]
  },
  {
   "cell_type": "code",
   "execution_count": 119,
   "metadata": {
    "execution": {
     "iopub.execute_input": "2021-09-04T15:47:36.909658Z",
     "iopub.status.busy": "2021-09-04T15:47:36.909336Z",
     "iopub.status.idle": "2021-09-04T15:47:39.246537Z",
     "shell.execute_reply": "2021-09-04T15:47:39.245235Z",
     "shell.execute_reply.started": "2021-09-04T15:47:36.909605Z"
    }
   },
   "outputs": [],
   "source": [
    "data['pop_num_rev'] = data.apply(lambda x:\n",
    "                            x['population'] / x['Number of Reviews']\n",
    "                                 if x['Number of Reviews'] != 0  else 0,\n",
    "                              axis=1)"
   ]
  },
  {
   "cell_type": "markdown",
   "metadata": {},
   "source": [
    "### Посмотрим распределение признака"
   ]
  },
  {
   "cell_type": "code",
   "execution_count": 120,
   "metadata": {
    "execution": {
     "iopub.execute_input": "2021-09-04T15:47:39.248317Z",
     "iopub.status.busy": "2021-09-04T15:47:39.247994Z",
     "iopub.status.idle": "2021-09-04T15:47:39.682739Z",
     "shell.execute_reply": "2021-09-04T15:47:39.681623Z",
     "shell.execute_reply.started": "2021-09-04T15:47:39.248258Z"
    }
   },
   "outputs": [
    {
     "data": {
      "text/plain": [
       "<AxesSubplot:>"
      ]
     },
     "execution_count": 120,
     "metadata": {},
     "output_type": "execute_result"
    },
    {
     "data": {
      "image/png": "[encoded data removed]",
      "text/plain": [
       "<Figure size 720x504 with 1 Axes>"
      ]
     },
     "metadata": {
      "needs_background": "light"
     },
     "output_type": "display_data"
    }
   ],
   "source": [
    "plt.rcParams['figure.figsize'] = (10,7)\n",
    "df_train['Ranking'].hist(bins=100)"
   ]
  },
  {
   "cell_type": "markdown",
   "metadata": {
    "execution": {
     "iopub.execute_input": "2021-09-04T15:47:39.684968Z",
     "iopub.status.busy": "2021-09-04T15:47:39.684402Z",
     "iopub.status.idle": "2021-09-04T15:47:39.693856Z",
     "shell.execute_reply": "2021-09-04T15:47:39.691888Z",
     "shell.execute_reply.started": "2021-09-04T15:47:39.684728Z"
    }
   },
   "source": [
    "У нас много ресторанов, которые не дотягивают и до 2500 места в своем городе, а что там по городам?"
   ]
  },
  {
   "cell_type": "code",
   "execution_count": 121,
   "metadata": {
    "execution": {
     "iopub.execute_input": "2021-09-04T15:48:02.603967Z",
     "iopub.status.busy": "2021-09-04T15:48:02.603673Z",
     "iopub.status.idle": "2021-09-04T15:48:02.986334Z",
     "shell.execute_reply": "2021-09-04T15:48:02.985266Z",
     "shell.execute_reply.started": "2021-09-04T15:48:02.603931Z"
    }
   },
   "outputs": [
    {
     "data": {
      "text/plain": [
       "<AxesSubplot:>"
      ]
     },
     "execution_count": 121,
     "metadata": {},
     "output_type": "execute_result"
    },
    {
     "data": {
      "image/png": "[encoded data removed]",
      "text/plain": [
       "<Figure size 720x504 with 1 Axes>"
      ]
     },
     "metadata": {
      "needs_background": "light"
     },
     "output_type": "display_data"
    }
   ],
   "source": [
    "df_train['City'].value_counts(ascending=True).plot(kind='barh')"
   ]
  },
  {
   "cell_type": "markdown",
   "metadata": {},
   "source": [
    "А кто-то говорил, что французы любят поесть=) Посмотрим, как изменится распределение в большом городе:"
   ]
  },
  {
   "cell_type": "code",
   "execution_count": 122,
   "metadata": {
    "execution": {
     "iopub.execute_input": "2021-09-04T15:48:51.422731Z",
     "iopub.status.busy": "2021-09-04T15:48:51.422295Z",
     "iopub.status.idle": "2021-09-04T15:48:51.939552Z",
     "shell.execute_reply": "2021-09-04T15:48:51.938472Z",
     "shell.execute_reply.started": "2021-09-04T15:48:51.422674Z"
    }
   },
   "outputs": [
    {
     "data": {
      "text/plain": [
       "<AxesSubplot:>"
      ]
     },
     "execution_count": 122,
     "metadata": {},
     "output_type": "execute_result"
    },
    {
     "data": {
      "image/png": "[encoded data removed]",
      "text/plain": [
       "<Figure size 720x504 with 1 Axes>"
      ]
     },
     "metadata": {
      "needs_background": "light"
     },
     "output_type": "display_data"
    }
   ],
   "source": [
    "df_train['Ranking'][df_train['City'] =='London'].hist(bins=100)"
   ]
  },
  {
   "cell_type": "code",
   "execution_count": 123,
   "metadata": {
    "execution": {
     "iopub.execute_input": "2021-09-04T15:48:51.943999Z",
     "iopub.status.busy": "2021-09-04T15:48:51.941989Z",
     "iopub.status.idle": "2021-09-04T15:48:54.536844Z",
     "shell.execute_reply": "2021-09-04T15:48:54.536019Z",
     "shell.execute_reply.started": "2021-09-04T15:48:51.943905Z"
    }
   },
   "outputs": [
    {
     "data": {
      "image/png": "[encoded data removed]",
      "text/plain": [
       "<Figure size 720x504 with 1 Axes>"
      ]
     },
     "metadata": {
      "needs_background": "light"
     },
     "output_type": "display_data"
    }
   ],
   "source": [
    "# посмотрим на топ 10 городов\n",
    "for x in (df_train['City'].value_counts())[0:10].index:\n",
    "    df_train['Ranking'][df_train['City'] == x].hist(bins=100)\n",
    "plt.show()"
   ]
  },
  {
   "cell_type": "markdown",
   "metadata": {},
   "source": [
    "### Посмотрим распределение целевой переменной"
   ]
  },
  {
   "cell_type": "code",
   "execution_count": 124,
   "metadata": {
    "execution": {
     "iopub.execute_input": "2021-09-04T15:48:54.538251Z",
     "iopub.status.busy": "2021-09-04T15:48:54.538006Z",
     "iopub.status.idle": "2021-09-04T15:48:54.842876Z",
     "shell.execute_reply": "2021-09-04T15:48:54.841452Z",
     "shell.execute_reply.started": "2021-09-04T15:48:54.538216Z"
    }
   },
   "outputs": [
    {
     "data": {
      "text/plain": [
       "<AxesSubplot:>"
      ]
     },
     "execution_count": 124,
     "metadata": {},
     "output_type": "execute_result"
    },
    {
     "data": {
      "image/png": "[encoded data removed]",
      "text/plain": [
       "<Figure size 720x504 with 1 Axes>"
      ]
     },
     "metadata": {
      "needs_background": "light"
     },
     "output_type": "display_data"
    }
   ],
   "source": [
    "df_train['Rating'].value_counts(ascending=True).plot(kind='barh')"
   ]
  },
  {
   "cell_type": "markdown",
   "metadata": {},
   "source": [
    "### Посмотрим распределение целевой переменной относительно признака"
   ]
  },
  {
   "cell_type": "code",
   "execution_count": 125,
   "metadata": {
    "execution": {
     "iopub.execute_input": "2021-09-04T15:48:54.845677Z",
     "iopub.status.busy": "2021-09-04T15:48:54.844934Z",
     "iopub.status.idle": "2021-09-04T15:48:55.395892Z",
     "shell.execute_reply": "2021-09-04T15:48:55.394814Z",
     "shell.execute_reply.started": "2021-09-04T15:48:54.845299Z"
    }
   },
   "outputs": [
    {
     "data": {
      "text/plain": [
       "<AxesSubplot:>"
      ]
     },
     "execution_count": 125,
     "metadata": {},
     "output_type": "execute_result"
    },
    {
     "data": {
      "image/png": "[encoded data removed]",
      "text/plain": [
       "<Figure size 720x504 with 1 Axes>"
      ]
     },
     "metadata": {
      "needs_background": "light"
     },
     "output_type": "display_data"
    }
   ],
   "source": [
    "df_train['Ranking'][df_train['Rating'] == 5].hist(bins=100)"
   ]
  },
  {
   "cell_type": "code",
   "execution_count": 126,
   "metadata": {
    "execution": {
     "iopub.execute_input": "2021-09-04T15:48:55.401186Z",
     "iopub.status.busy": "2021-09-04T15:48:55.400388Z",
     "iopub.status.idle": "2021-09-04T15:48:55.916796Z",
     "shell.execute_reply": "2021-09-04T15:48:55.915328Z",
     "shell.execute_reply.started": "2021-09-04T15:48:55.401113Z"
    }
   },
   "outputs": [
    {
     "data": {
      "text/plain": [
       "<AxesSubplot:>"
      ]
     },
     "execution_count": 126,
     "metadata": {},
     "output_type": "execute_result"
    },
    {
     "data": {
      "image/png": "[encoded data removed]",
      "text/plain": [
       "<Figure size 720x504 with 1 Axes>"
      ]
     },
     "metadata": {
      "needs_background": "light"
     },
     "output_type": "display_data"
    }
   ],
   "source": [
    "df_train['Ranking'][df_train['Rating'] < 4].hist(bins=100)"
   ]
  },
  {
   "cell_type": "code",
   "execution_count": 127,
   "metadata": {
    "execution": {
     "iopub.execute_input": "2021-09-04T15:48:55.920963Z",
     "iopub.status.busy": "2021-09-04T15:48:55.920314Z",
     "iopub.status.idle": "2021-09-04T15:48:55.997140Z",
     "shell.execute_reply": "2021-09-04T15:48:55.996104Z",
     "shell.execute_reply.started": "2021-09-04T15:48:55.920702Z"
    }
   },
   "outputs": [
    {
     "name": "stdout",
     "output_type": "stream",
     "text": [
      "<class 'pandas.core.frame.DataFrame'>\n",
      "RangeIndex: 50000 entries, 0 to 49999\n",
      "Data columns (total 45 columns):\n",
      " #   Column                          Non-Null Count  Dtype  \n",
      "---  ------                          --------------  -----  \n",
      " 0   Restaurant_id                   50000 non-null  object \n",
      " 1   City                            50000 non-null  object \n",
      " 2   Cuisine Style                   50000 non-null  object \n",
      " 3   Ranking                         50000 non-null  float64\n",
      " 4   Price Range                     50000 non-null  object \n",
      " 5   Number of Reviews               50000 non-null  float64\n",
      " 6   Reviews                         50000 non-null  object \n",
      " 7   URL_TA                          50000 non-null  object \n",
      " 8   ID_TA                           50000 non-null  object \n",
      " 9   sample                          50000 non-null  int64  \n",
      " 10  Rating                          50000 non-null  float64\n",
      " 11  Number_of_Cuisine_Style_isNAN   50000 non-null  uint8  \n",
      " 12  Price_Range_isNAN               50000 non-null  uint8  \n",
      " 13  Number_of_Reviews_isNAN         50000 non-null  uint8  \n",
      " 14  label_encoding_price            50000 non-null  int64  \n",
      " 15  Reviews data                    50000 non-null  object \n",
      " 16  Delta review                    50000 non-null  float64\n",
      " 17  number_by_ID                    50000 non-null  int64  \n",
      " 18  number_by_city                  50000 non-null  int64  \n",
      " 19  population                      50000 non-null  float64\n",
      " 20  count_of_good_words             50000 non-null  int64  \n",
      " 21  count_of_bad_words              50000 non-null  int64  \n",
      " 22  number_of_unique_cuisines       50000 non-null  int64  \n",
      " 23  is_capital                      50000 non-null  int64  \n",
      " 24  Rank                            50000 non-null  int64  \n",
      " 25  Cost of Living Index            50000 non-null  float64\n",
      " 26  Rent Index                      50000 non-null  float64\n",
      " 27  Cost of Living Plus Rent Index  50000 non-null  float64\n",
      " 28  Groceries Index                 50000 non-null  float64\n",
      " 29  Restaurant Price Index          50000 non-null  float64\n",
      " 30  Local Purchasing Power Index    50000 non-null  float64\n",
      " 31  is_westert_europe               50000 non-null  int64  \n",
      " 32  is_northern_europe              50000 non-null  int64  \n",
      " 33  is_eastern_europe               50000 non-null  int64  \n",
      " 34  is_southern_europe              50000 non-null  int64  \n",
      " 35  Top_10_City                     50000 non-null  int64  \n",
      " 36  count_words                     50000 non-null  int64  \n",
      " 37  pop_res                         50000 non-null  float64\n",
      " 38  pop_cuis                        50000 non-null  float64\n",
      " 39  pop_price                       50000 non-null  float64\n",
      " 40  rank_number_by_city             50000 non-null  float64\n",
      " 41  price_cost_of_liv               50000 non-null  float64\n",
      " 42  price_pur_power                 50000 non-null  float64\n",
      " 43  pop_loc_pur                     50000 non-null  float64\n",
      " 44  pop_num_rev                     50000 non-null  float64\n",
      "dtypes: float64(19), int64(15), object(8), uint8(3)\n",
      "memory usage: 16.2+ MB\n"
     ]
    }
   ],
   "source": [
    "data.info()"
   ]
  },
  {
   "cell_type": "markdown",
   "metadata": {},
   "source": [
    "# **Закодируем \"Cuisine Style\" и 'City'**"
   ]
  },
  {
   "cell_type": "code",
   "execution_count": 128,
   "metadata": {
    "execution": {
     "iopub.execute_input": "2021-09-04T15:48:55.998640Z",
     "iopub.status.busy": "2021-09-04T15:48:55.998385Z",
     "iopub.status.idle": "2021-09-04T15:48:56.048521Z",
     "shell.execute_reply": "2021-09-04T15:48:56.047630Z",
     "shell.execute_reply.started": "2021-09-04T15:48:55.998598Z"
    }
   },
   "outputs": [],
   "source": [
    "# закодируем City Способом One-Hot Encoding в pandas есть готовая функция - get_dummies. Особенно радует параметр dummy_na\n",
    "data = pd.get_dummies(data, columns=[ 'City',], dummy_na=True)"
   ]
  },
  {
   "cell_type": "markdown",
   "metadata": {},
   "source": [
    "Напишем функцию, которая проведет кодирование,    \n",
    "но предварительно из уникальных кухонь удалим local    \n",
    "т.к. данный столбец будет полностью повторять 'Number_of_Cuisine_Style_isNAN'\n"
   ]
  },
  {
   "cell_type": "code",
   "execution_count": 129,
   "metadata": {
    "execution": {
     "iopub.execute_input": "2021-09-04T15:48:56.050433Z",
     "iopub.status.busy": "2021-09-04T15:48:56.050078Z",
     "iopub.status.idle": "2021-09-04T15:49:01.262019Z",
     "shell.execute_reply": "2021-09-04T15:49:01.260810Z",
     "shell.execute_reply.started": "2021-09-04T15:48:56.050340Z"
    }
   },
   "outputs": [
    {
     "name": "stderr",
     "output_type": "stream",
     "text": [
      "<ipython-input-129-bd023561d200>:10: PerformanceWarning: DataFrame is highly fragmented.  This is usually the result of calling `frame.insert` many times, which has poor performance.  Consider joining all columns at once using pd.concat(axis=1) instead.  To get a de-fragmented frame, use `newframe = frame.copy()`\n",
      "  data[cuisine] = cuisine_array\n"
     ]
    }
   ],
   "source": [
    "unique_cuisine_style.remove(\"local\")\n",
    "\n",
    "for cuisine in unique_cuisine_style:\n",
    "    cuisine_array = list() # лист для добавления в датафрейм\n",
    "    for cuisine_data in data[\"Cuisine Style\"]:\n",
    "        if cuisine in cuisine_data:\n",
    "            cuisine_array.append(1)\n",
    "        else:\n",
    "            cuisine_array.append(0)\n",
    "    data[cuisine] = cuisine_array"
   ]
  },
  {
   "cell_type": "markdown",
   "metadata": {
    "execution": {
     "iopub.execute_input": "2021-08-31T15:21:41.700495Z",
     "iopub.status.busy": "2021-08-31T15:21:41.700182Z",
     "iopub.status.idle": "2021-08-31T15:21:41.707781Z",
     "shell.execute_reply": "2021-08-31T15:21:41.706135Z",
     "shell.execute_reply.started": "2021-08-31T15:21:41.700447Z"
    }
   },
   "source": [
    "### И один из моих любимых - [корреляция признаков](https://ru.wikipedia.org/wiki/Корреляция)\n",
    "На этом графике уже сейчас вы сможете заметить, как признаки связаны между собой и с целевой переменной."
   ]
  },
  {
   "cell_type": "code",
   "execution_count": 130,
   "metadata": {
    "execution": {
     "iopub.execute_input": "2021-09-04T15:49:01.264024Z",
     "iopub.status.busy": "2021-09-04T15:49:01.263653Z",
     "iopub.status.idle": "2021-09-04T15:49:07.211793Z",
     "shell.execute_reply": "2021-09-04T15:49:07.210452Z",
     "shell.execute_reply.started": "2021-09-04T15:49:01.263956Z"
    }
   },
   "outputs": [
    {
     "data": {
      "text/plain": [
       "<AxesSubplot:>"
      ]
     },
     "execution_count": 130,
     "metadata": {},
     "output_type": "execute_result"
    },
    {
     "data": {
      "image/png": "[encoded data removed]",
      "text/plain": [
       "<Figure size 1080x720 with 2 Axes>"
      ]
     },
     "metadata": {
      "needs_background": "light"
     },
     "output_type": "display_data"
    }
   ],
   "source": [
    "plt.rcParams['figure.figsize'] = (15,10)\n",
    "sns.heatmap(data.drop(['sample'], axis=1).corr())"
   ]
  },
  {
   "cell_type": "markdown",
   "metadata": {},
   "source": [
    "# Data Preprocessing\n",
    "Теперь, для удобства и воспроизводимости кода, завернем всю обработку в одну большую функцию."
   ]
  },
  {
   "cell_type": "markdown",
   "metadata": {},
   "source": [
    "#### Запускаем и проверяем что получилось"
   ]
  },
  {
   "cell_type": "code",
   "execution_count": 131,
   "metadata": {
    "execution": {
     "iopub.execute_input": "2021-09-04T15:49:07.214216Z",
     "iopub.status.busy": "2021-09-04T15:49:07.213748Z",
     "iopub.status.idle": "2021-09-04T15:49:07.417462Z",
     "shell.execute_reply": "2021-09-04T15:49:07.416410Z",
     "shell.execute_reply.started": "2021-09-04T15:49:07.214078Z"
    }
   },
   "outputs": [],
   "source": [
    "# Удалим все object признаки\n",
    "for i in data:\n",
    "    if data[i].dtype == object:\n",
    "        data.drop(i,axis=1,inplace = True)"
   ]
  },
  {
   "cell_type": "code",
   "execution_count": 132,
   "metadata": {
    "execution": {
     "iopub.execute_input": "2021-09-04T15:49:07.419668Z",
     "iopub.status.busy": "2021-09-04T15:49:07.419141Z",
     "iopub.status.idle": "2021-09-04T15:49:07.424074Z",
     "shell.execute_reply": "2021-09-04T15:49:07.422956Z",
     "shell.execute_reply.started": "2021-09-04T15:49:07.419588Z"
    }
   },
   "outputs": [],
   "source": [
    "df_preproc = data"
   ]
  },
  {
   "cell_type": "code",
   "execution_count": 133,
   "metadata": {
    "execution": {
     "iopub.execute_input": "2021-09-04T15:49:07.426135Z",
     "iopub.status.busy": "2021-09-04T15:49:07.425805Z",
     "iopub.status.idle": "2021-09-04T15:49:07.519089Z",
     "shell.execute_reply": "2021-09-04T15:49:07.518313Z",
     "shell.execute_reply.started": "2021-09-04T15:49:07.426079Z"
    }
   },
   "outputs": [],
   "source": [
    "# Теперь выделим тестовую часть\n",
    "train_data = df_preproc.query('sample == 1').drop(['sample'], axis=1)\n",
    "test_data = df_preproc.query('sample == 0').drop(['sample'], axis=1)\n",
    "\n",
    "y = train_data.Rating.values            # наш таргет\n",
    "X = train_data.drop(['Rating'], axis=1)"
   ]
  },
  {
   "cell_type": "markdown",
   "metadata": {},
   "source": [
    "**Перед тем как отправлять наши данные на обучение, разделим данные на еще один тест и трейн, для валидации. \n",
    "Это поможет нам проверить, как хорошо наша модель работает, до отправки submissiona на kaggle.**"
   ]
  },
  {
   "cell_type": "code",
   "execution_count": 134,
   "metadata": {
    "execution": {
     "iopub.execute_input": "2021-09-04T15:49:07.520637Z",
     "iopub.status.busy": "2021-09-04T15:49:07.520106Z",
     "iopub.status.idle": "2021-09-04T15:49:07.575480Z",
     "shell.execute_reply": "2021-09-04T15:49:07.574439Z",
     "shell.execute_reply.started": "2021-09-04T15:49:07.520537Z"
    }
   },
   "outputs": [],
   "source": [
    "# Воспользуемся специальной функцие train_test_split для разбивки тестовых данных\n",
    "# выделим 20% данных на валидацию (параметр test_size)\n",
    "X_train, X_test, y_train, y_test = train_test_split(X, y, test_size=0.2, random_state=RANDOM_SEED)"
   ]
  },
  {
   "cell_type": "code",
   "execution_count": 135,
   "metadata": {
    "execution": {
     "iopub.execute_input": "2021-09-04T15:49:07.576950Z",
     "iopub.status.busy": "2021-09-04T15:49:07.576706Z",
     "iopub.status.idle": "2021-09-04T15:49:07.583778Z",
     "shell.execute_reply": "2021-09-04T15:49:07.582424Z",
     "shell.execute_reply.started": "2021-09-04T15:49:07.576908Z"
    }
   },
   "outputs": [
    {
     "data": {
      "text/plain": [
       "((10000, 193), (40000, 193), (40000, 192), (32000, 192), (8000, 192))"
      ]
     },
     "execution_count": 135,
     "metadata": {},
     "output_type": "execute_result"
    }
   ],
   "source": [
    "# проверяем\n",
    "test_data.shape, train_data.shape, X.shape, X_train.shape, X_test.shape"
   ]
  },
  {
   "cell_type": "markdown",
   "metadata": {},
   "source": [
    "# Model \n",
    "Сам ML"
   ]
  },
  {
   "cell_type": "code",
   "execution_count": 136,
   "metadata": {
    "execution": {
     "iopub.execute_input": "2021-09-04T15:49:07.586065Z",
     "iopub.status.busy": "2021-09-04T15:49:07.585602Z",
     "iopub.status.idle": "2021-09-04T15:49:07.778043Z",
     "shell.execute_reply": "2021-09-04T15:49:07.777093Z",
     "shell.execute_reply.started": "2021-09-04T15:49:07.585994Z"
    }
   },
   "outputs": [],
   "source": [
    "# Импортируем необходимые библиотеки:\n",
    "from sklearn.ensemble import RandomForestRegressor # инструмент для создания и обучения модели\n",
    "from sklearn import metrics # инструменты для оценки точности модели"
   ]
  },
  {
   "cell_type": "code",
   "execution_count": 137,
   "metadata": {
    "execution": {
     "iopub.execute_input": "2021-09-04T15:49:07.779910Z",
     "iopub.status.busy": "2021-09-04T15:49:07.779596Z",
     "iopub.status.idle": "2021-09-04T15:49:07.785710Z",
     "shell.execute_reply": "2021-09-04T15:49:07.784232Z",
     "shell.execute_reply.started": "2021-09-04T15:49:07.779862Z"
    }
   },
   "outputs": [],
   "source": [
    "# Создаём модель (НАСТРОЙКИ НЕ ТРОГАЕМ)\n",
    "model = RandomForestRegressor(n_estimators=100, verbose=1, n_jobs=-1, random_state=RANDOM_SEED)"
   ]
  },
  {
   "cell_type": "code",
   "execution_count": 138,
   "metadata": {
    "execution": {
     "iopub.execute_input": "2021-09-04T15:49:07.788295Z",
     "iopub.status.busy": "2021-09-04T15:49:07.787801Z",
     "iopub.status.idle": "2021-09-04T15:49:34.919899Z",
     "shell.execute_reply": "2021-09-04T15:49:34.919016Z",
     "shell.execute_reply.started": "2021-09-04T15:49:07.788224Z"
    }
   },
   "outputs": [
    {
     "name": "stderr",
     "output_type": "stream",
     "text": [
      "[Parallel(n_jobs=-1)]: Using backend ThreadingBackend with 8 concurrent workers.\n",
      "[Parallel(n_jobs=-1)]: Done  34 tasks      | elapsed:    7.0s\n",
      "[Parallel(n_jobs=-1)]: Done 100 out of 100 | elapsed:   18.1s finished\n",
      "[Parallel(n_jobs=8)]: Using backend ThreadingBackend with 8 concurrent workers.\n",
      "[Parallel(n_jobs=8)]: Done  34 tasks      | elapsed:    0.0s\n",
      "[Parallel(n_jobs=8)]: Done 100 out of 100 | elapsed:    0.0s finished\n"
     ]
    }
   ],
   "source": [
    "# Обучаем модель на тестовом наборе данных\n",
    "model.fit(X_train, y_train)\n",
    "\n",
    "# Используем обученную модель для предсказания рейтинга ресторанов в тестовой выборке.\n",
    "# Предсказанные значения записываем в переменную y_pred\n",
    "y_pred = model.predict(X_test)\n",
    "\n",
    "# # Округлим предсказанные значения до степени округления целевой переменной\n",
    "\n",
    "def rating(prediction):\n",
    "        if prediction < 0.25:\n",
    "            return 0\n",
    "        elif 0.25 < prediction <= 0.75:\n",
    "            return 0.5\n",
    "        elif 0.75 < prediction <= 1.25:\n",
    "            return 1\n",
    "        elif 1.25 < prediction <= 1.75:\n",
    "            return 1.5\n",
    "        elif 1.75 < prediction <= 2.25:\n",
    "            return 2\n",
    "        elif 2.25 < prediction <= 2.75:\n",
    "            return 2.5\n",
    "        elif 2.75 < prediction <= 3.25:\n",
    "            return 3\n",
    "        elif 3.25 < prediction <= 3.75:\n",
    "            return 3.5\n",
    "        elif 3.75 < prediction <= 4.25:\n",
    "            return 4\n",
    "        elif 4.25 < prediction <= 4.75:\n",
    "            return 4.5\n",
    "        else:\n",
    "            return 5\n",
    "        \n",
    "for i in range(y_pred.size):\n",
    "        y_pred[i]=rating(y_pred[i])"
   ]
  },
  {
   "cell_type": "code",
   "execution_count": 139,
   "metadata": {
    "execution": {
     "iopub.execute_input": "2021-09-04T15:49:34.921310Z",
     "iopub.status.busy": "2021-09-04T15:49:34.920959Z",
     "iopub.status.idle": "2021-09-04T15:49:34.926631Z",
     "shell.execute_reply": "2021-09-04T15:49:34.925878Z",
     "shell.execute_reply.started": "2021-09-04T15:49:34.921273Z"
    }
   },
   "outputs": [
    {
     "name": "stdout",
     "output_type": "stream",
     "text": [
      "MAE: 0.1778125\n"
     ]
    }
   ],
   "source": [
    "# Сравниваем предсказанные значения (y_pred) с реальными (y_test), и смотрим насколько они в среднем отличаются\n",
    "# Метрика называется Mean Absolute Error (MAE) и показывает среднее отклонение предсказанных значений от фактических.\n",
    "print('MAE:', metrics.mean_absolute_error(y_test, y_pred))"
   ]
  },
  {
   "cell_type": "code",
   "execution_count": 140,
   "metadata": {
    "execution": {
     "iopub.execute_input": "2021-09-04T15:49:34.928186Z",
     "iopub.status.busy": "2021-09-04T15:49:34.927735Z",
     "iopub.status.idle": "2021-09-04T15:49:35.512159Z",
     "shell.execute_reply": "2021-09-04T15:49:35.511496Z",
     "shell.execute_reply.started": "2021-09-04T15:49:34.928141Z"
    }
   },
   "outputs": [
    {
     "data": {
      "text/plain": [
       "<AxesSubplot:>"
      ]
     },
     "execution_count": 140,
     "metadata": {},
     "output_type": "execute_result"
    },
    {
     "data": {
      "image/png": "[encoded data removed]",
      "text/plain": [
       "<Figure size 720x720 with 1 Axes>"
      ]
     },
     "metadata": {
      "needs_background": "light"
     },
     "output_type": "display_data"
    }
   ],
   "source": [
    "# в RandomForestRegressor есть возможность вывести самые важные признаки для модели\n",
    "plt.rcParams['figure.figsize'] = (10,10)\n",
    "feat_importances = pd.Series(model.feature_importances_, index=X.columns)\n",
    "feat_importances.nlargest(30).plot(kind='barh')"
   ]
  },
  {
   "cell_type": "markdown",
   "metadata": {},
   "source": [
    "# Submission\n",
    "Если все устраевает - готовим Submission на кагл"
   ]
  },
  {
   "cell_type": "code",
   "execution_count": null,
   "metadata": {
    "execution": {
     "iopub.execute_input": "2021-09-04T15:49:35.513509Z",
     "iopub.status.busy": "2021-09-04T15:49:35.513149Z",
     "iopub.status.idle": "2021-09-04T15:49:35.545214Z",
     "shell.execute_reply": "2021-09-04T15:49:35.544477Z",
     "shell.execute_reply.started": "2021-09-04T15:49:35.513470Z"
    }
   },
   "outputs": [],
   "source": [
    "test_data.sample(10)"
   ]
  },
  {
   "cell_type": "code",
   "execution_count": null,
   "metadata": {
    "execution": {
     "iopub.execute_input": "2021-09-04T15:49:35.546522Z",
     "iopub.status.busy": "2021-09-04T15:49:35.546225Z",
     "iopub.status.idle": "2021-09-04T15:49:35.556013Z",
     "shell.execute_reply": "2021-09-04T15:49:35.554987Z",
     "shell.execute_reply.started": "2021-09-04T15:49:35.546469Z"
    }
   },
   "outputs": [],
   "source": [
    "test_data = test_data.drop(['Rating'], axis=1)"
   ]
  },
  {
   "cell_type": "code",
   "execution_count": null,
   "metadata": {
    "execution": {
     "iopub.execute_input": "2021-09-04T15:49:35.557783Z",
     "iopub.status.busy": "2021-09-04T15:49:35.557504Z",
     "iopub.status.idle": "2021-09-04T15:49:35.577752Z",
     "shell.execute_reply": "2021-09-04T15:49:35.576258Z",
     "shell.execute_reply.started": "2021-09-04T15:49:35.557737Z"
    }
   },
   "outputs": [],
   "source": [
    "sample_submission"
   ]
  },
  {
   "cell_type": "code",
   "execution_count": null,
   "metadata": {
    "execution": {
     "iopub.execute_input": "2021-09-04T15:49:35.579998Z",
     "iopub.status.busy": "2021-09-04T15:49:35.579426Z",
     "iopub.status.idle": "2021-09-04T15:49:35.806862Z",
     "shell.execute_reply": "2021-09-04T15:49:35.806018Z",
     "shell.execute_reply.started": "2021-09-04T15:49:35.579927Z"
    }
   },
   "outputs": [],
   "source": [
    "predict_submission = model.predict(test_data)"
   ]
  },
  {
   "cell_type": "code",
   "execution_count": null,
   "metadata": {
    "execution": {
     "iopub.execute_input": "2021-09-04T15:51:33.354922Z",
     "iopub.status.busy": "2021-09-04T15:51:33.354573Z",
     "iopub.status.idle": "2021-09-04T15:51:33.400285Z",
     "shell.execute_reply": "2021-09-04T15:51:33.399405Z",
     "shell.execute_reply.started": "2021-09-04T15:51:33.354866Z"
    }
   },
   "outputs": [],
   "source": [
    "# Применим постпроцессинг\n",
    "for i in range(predict_submission.size):\n",
    "        predict_submission[i]=rating(predict_submission[i])"
   ]
  },
  {
   "cell_type": "code",
   "execution_count": null,
   "metadata": {
    "execution": {
     "iopub.status.busy": "2021-09-04T15:49:35.997380Z",
     "iopub.status.idle": "2021-09-04T15:49:35.997856Z"
    }
   },
   "outputs": [],
   "source": [
    "predict_submission"
   ]
  },
  {
   "cell_type": "code",
   "execution_count": null,
   "metadata": {
    "execution": {
     "iopub.status.busy": "2021-09-04T15:49:35.999285Z",
     "iopub.status.idle": "2021-09-04T15:49:35.999990Z"
    }
   },
   "outputs": [],
   "source": [
    "sample_submission['Rating'] = predict_submission\n",
    "sample_submission.to_csv('submission.csv', index=False)\n",
    "sample_submission.head(10)"
   ]
  }
 ],
 "metadata": {
  "kernelspec": {
   "display_name": "Python 3",
   "language": "python",
   "name": "python3"
  },
  "language_info": {
   "codemirror_mode": {
    "name": "ipython",
    "version": 3
   },
   "file_extension": ".py",
   "mimetype": "text/x-python",
   "name": "python",
   "nbconvert_exporter": "python",
   "pygments_lexer": "ipython3",
   "version": "3.8.8"
  }
 },
 "nbformat": 4,
 "nbformat_minor": 4
}
