{
 "cells": [
  {
   "cell_type": "markdown",
   "metadata": {},
   "source": [
    "![](https://www.pata.org/wp-content/uploads/2014/09/TripAdvisor_Logo-300x119.png)\n",
    "# Predict TripAdvisor Rating\n",
    "## В этом соревновании нам предстоит предсказать рейтинг ресторана в TripAdvisor\n",
    "**По ходу задачи:**\n",
    "* Прокачаем работу с pandas\n",
    "* Научимся работать с Kaggle Notebooks\n",
    "* Поймем как делать предобработку различных данных\n",
    "* Научимся работать с пропущенными данными (Nan)\n",
    "* Познакомимся с различными видами кодирования признаков\n",
    "* Немного попробуем [Feature Engineering](https://ru.wikipedia.org/wiki/Конструирование_признаков) (генерировать новые признаки)\n",
    "* И совсем немного затронем ML\n",
    "* И многое другое...   \n",
    "\n",
    "\n",
    "\n",
    "### И самое важное, все это вы сможете сделать самостоятельно!\n",
    "\n",
    "*Этот Ноутбук являетсся Примером/Шаблоном к этому соревнованию (Baseline) и не служит готовым решением!*   \n",
    "Вы можете использовать его как основу для построения своего решения.\n",
    "\n",
    "> что такое baseline решение, зачем оно нужно и почему предоставлять baseline к соревнованию стало важным стандартом на kaggle и других площадках.   \n",
    "**baseline** создается больше как шаблон, где можно посмотреть как происходит обращение с входящими данными и что нужно получить на выходе. При этом МЛ начинка может быть достаточно простой, просто для примера. Это помогает быстрее приступить к самому МЛ, а не тратить ценное время на чисто инженерные задачи. \n",
    "Также baseline являеться хорошей опорной точкой по метрике. Если твое решение хуже baseline - ты явно делаешь что-то не то и стоит попробовать другой путь) \n",
    "\n",
    "В контексте нашего соревнования baseline идет с небольшими примерами того, что можно делать с данными, и с инструкцией, что делать дальше, чтобы улучшить результат.  Вообще готовым решением это сложно назвать, так как используются всего 2 самых простых признака (а остальные исключаются)."
   ]
  },
  {
   "cell_type": "markdown",
   "metadata": {},
   "source": [
    "# import"
   ]
  },
  {
   "cell_type": "code",
   "execution_count": 1,
   "metadata": {
    "_cell_guid": "b1076dfc-b9ad-4769-8c92-a6c4dae69d19",
    "_uuid": "8f2839f25d086af736a60e9eeb907d3b93b6e0e5",
    "execution": {
     "iopub.execute_input": "2021-09-04T15:46:08.926601Z",
     "iopub.status.busy": "2021-09-04T15:46:08.926147Z",
     "iopub.status.idle": "2021-09-04T15:46:12.224061Z",
     "shell.execute_reply": "2021-09-04T15:46:12.222933Z",
     "shell.execute_reply.started": "2021-09-04T15:46:08.926553Z"
    }
   },
   "outputs": [],
   "source": [
    "# This Python 3 environment comes with many helpful analytics libraries installed\n",
    "# It is defined by the kaggle/python docker image: https://github.com/kaggle/docker-python\n",
    "# For example, here's several helpful packages to load in \n",
    "\n",
    "import numpy as np # linear algebra\n",
    "import pandas as pd # data processing, CSV file I/O (e.g. pd.read_csv)\n",
    "\n",
    "from datetime import datetime\n",
    "import re \n",
    "from collections import Counter\n",
    "from sklearn import preprocessing\n",
    "\n",
    "import matplotlib.pyplot as plt\n",
    "import seaborn as sns \n",
    "%matplotlib inline\n",
    "\n",
    "# Загружаем специальный удобный инструмент для разделения датасета:\n",
    "from sklearn.model_selection import train_test_split\n",
    "\n",
    "# Input data files are available in the \"../input/\" directory.\n",
    "# For example, running this (by clicking run or pressing Shift+Enter) will list all files under the input directory\n",
    "\n",
    "import os\n",
    "for dirname, _, filenames in os.walk('/kaggle/input'):\n",
    "    for filename in filenames:\n",
    "        print(os.path.join(dirname, filename))\n",
    "\n",
    "# Any results you write to the current directory are saved as output."
   ]
  },
  {
   "cell_type": "code",
   "execution_count": 2,
   "metadata": {
    "execution": {
     "iopub.execute_input": "2021-09-04T15:46:12.225937Z",
     "iopub.status.busy": "2021-09-04T15:46:12.225702Z",
     "iopub.status.idle": "2021-09-04T15:46:12.229714Z",
     "shell.execute_reply": "2021-09-04T15:46:12.228765Z",
     "shell.execute_reply.started": "2021-09-04T15:46:12.225903Z"
    }
   },
   "outputs": [],
   "source": [
    "# всегда фиксируйте RANDOM_SEED, чтобы ваши эксперименты были воспроизводимы!\n",
    "RANDOM_SEED = 42"
   ]
  },
  {
   "cell_type": "code",
   "execution_count": 3,
   "metadata": {
    "execution": {
     "iopub.execute_input": "2021-09-04T15:46:12.231635Z",
     "iopub.status.busy": "2021-09-04T15:46:12.231380Z",
     "iopub.status.idle": "2021-09-04T15:46:15.731320Z",
     "shell.execute_reply": "2021-09-04T15:46:15.730090Z",
     "shell.execute_reply.started": "2021-09-04T15:46:12.231592Z"
    }
   },
   "outputs": [],
   "source": [
    "# зафиксируем версию пакетов, чтобы эксперименты были воспроизводимы:\n",
    "!pip freeze > requirements.txt"
   ]
  },
  {
   "cell_type": "markdown",
   "metadata": {},
   "source": [
    "# DATA"
   ]
  },
  {
   "cell_type": "code",
   "execution_count": 4,
   "metadata": {
    "_cell_guid": "79c7e3d0-c299-4dcb-8224-4455121ee9b0",
    "_uuid": "d629ff2d2480ee46fbb7e2d37f6b5fab8052498a",
    "execution": {
     "iopub.execute_input": "2021-09-04T15:46:15.736235Z",
     "iopub.status.busy": "2021-09-04T15:46:15.735909Z",
     "iopub.status.idle": "2021-09-04T15:46:16.144530Z",
     "shell.execute_reply": "2021-09-04T15:46:16.143568Z",
     "shell.execute_reply.started": "2021-09-04T15:46:15.736181Z"
    }
   },
   "outputs": [
    {
     "ename": "FileNotFoundError",
     "evalue": "[Errno 2] No such file or directory: '/kaggle/input/sf-dst-restaurant-rating//main_task.csv'",
     "output_type": "error",
     "traceback": [
      "\u001b[1;31m---------------------------------------------------------------------------\u001b[0m",
      "\u001b[1;31mFileNotFoundError\u001b[0m                         Traceback (most recent call last)",
      "\u001b[1;32m<ipython-input-4-7e98853660f4>\u001b[0m in \u001b[0;36m<module>\u001b[1;34m\u001b[0m\n\u001b[0;32m      1\u001b[0m \u001b[0mDATA_DIR\u001b[0m \u001b[1;33m=\u001b[0m \u001b[1;34m'/kaggle/input/sf-dst-restaurant-rating/'\u001b[0m\u001b[1;33m\u001b[0m\u001b[1;33m\u001b[0m\u001b[0m\n\u001b[1;32m----> 2\u001b[1;33m \u001b[0mdf_train\u001b[0m \u001b[1;33m=\u001b[0m \u001b[0mpd\u001b[0m\u001b[1;33m.\u001b[0m\u001b[0mread_csv\u001b[0m\u001b[1;33m(\u001b[0m\u001b[0mDATA_DIR\u001b[0m\u001b[1;33m+\u001b[0m\u001b[1;34m'/main_task.csv'\u001b[0m\u001b[1;33m)\u001b[0m\u001b[1;33m\u001b[0m\u001b[1;33m\u001b[0m\u001b[0m\n\u001b[0m\u001b[0;32m      3\u001b[0m \u001b[0mdf_test\u001b[0m \u001b[1;33m=\u001b[0m \u001b[0mpd\u001b[0m\u001b[1;33m.\u001b[0m\u001b[0mread_csv\u001b[0m\u001b[1;33m(\u001b[0m\u001b[0mDATA_DIR\u001b[0m\u001b[1;33m+\u001b[0m\u001b[1;34m'kaggle_task.csv'\u001b[0m\u001b[1;33m)\u001b[0m\u001b[1;33m\u001b[0m\u001b[1;33m\u001b[0m\u001b[0m\n\u001b[0;32m      4\u001b[0m \u001b[0msample_submission\u001b[0m \u001b[1;33m=\u001b[0m \u001b[0mpd\u001b[0m\u001b[1;33m.\u001b[0m\u001b[0mread_csv\u001b[0m\u001b[1;33m(\u001b[0m\u001b[0mDATA_DIR\u001b[0m\u001b[1;33m+\u001b[0m\u001b[1;34m'/sample_submission.csv'\u001b[0m\u001b[1;33m)\u001b[0m\u001b[1;33m\u001b[0m\u001b[1;33m\u001b[0m\u001b[0m\n",
      "\u001b[1;32m~\\anaconda3\\lib\\site-packages\\pandas\\io\\parsers.py\u001b[0m in \u001b[0;36mread_csv\u001b[1;34m(filepath_or_buffer, sep, delimiter, header, names, index_col, usecols, squeeze, prefix, mangle_dupe_cols, dtype, engine, converters, true_values, false_values, skipinitialspace, skiprows, skipfooter, nrows, na_values, keep_default_na, na_filter, verbose, skip_blank_lines, parse_dates, infer_datetime_format, keep_date_col, date_parser, dayfirst, cache_dates, iterator, chunksize, compression, thousands, decimal, lineterminator, quotechar, quoting, doublequote, escapechar, comment, encoding, dialect, error_bad_lines, warn_bad_lines, delim_whitespace, low_memory, memory_map, float_precision, storage_options)\u001b[0m\n\u001b[0;32m    608\u001b[0m     \u001b[0mkwds\u001b[0m\u001b[1;33m.\u001b[0m\u001b[0mupdate\u001b[0m\u001b[1;33m(\u001b[0m\u001b[0mkwds_defaults\u001b[0m\u001b[1;33m)\u001b[0m\u001b[1;33m\u001b[0m\u001b[1;33m\u001b[0m\u001b[0m\n\u001b[0;32m    609\u001b[0m \u001b[1;33m\u001b[0m\u001b[0m\n\u001b[1;32m--> 610\u001b[1;33m     \u001b[1;32mreturn\u001b[0m \u001b[0m_read\u001b[0m\u001b[1;33m(\u001b[0m\u001b[0mfilepath_or_buffer\u001b[0m\u001b[1;33m,\u001b[0m \u001b[0mkwds\u001b[0m\u001b[1;33m)\u001b[0m\u001b[1;33m\u001b[0m\u001b[1;33m\u001b[0m\u001b[0m\n\u001b[0m\u001b[0;32m    611\u001b[0m \u001b[1;33m\u001b[0m\u001b[0m\n\u001b[0;32m    612\u001b[0m \u001b[1;33m\u001b[0m\u001b[0m\n",
      "\u001b[1;32m~\\anaconda3\\lib\\site-packages\\pandas\\io\\parsers.py\u001b[0m in \u001b[0;36m_read\u001b[1;34m(filepath_or_buffer, kwds)\u001b[0m\n\u001b[0;32m    460\u001b[0m \u001b[1;33m\u001b[0m\u001b[0m\n\u001b[0;32m    461\u001b[0m     \u001b[1;31m# Create the parser.\u001b[0m\u001b[1;33m\u001b[0m\u001b[1;33m\u001b[0m\u001b[1;33m\u001b[0m\u001b[0m\n\u001b[1;32m--> 462\u001b[1;33m     \u001b[0mparser\u001b[0m \u001b[1;33m=\u001b[0m \u001b[0mTextFileReader\u001b[0m\u001b[1;33m(\u001b[0m\u001b[0mfilepath_or_buffer\u001b[0m\u001b[1;33m,\u001b[0m \u001b[1;33m**\u001b[0m\u001b[0mkwds\u001b[0m\u001b[1;33m)\u001b[0m\u001b[1;33m\u001b[0m\u001b[1;33m\u001b[0m\u001b[0m\n\u001b[0m\u001b[0;32m    463\u001b[0m \u001b[1;33m\u001b[0m\u001b[0m\n\u001b[0;32m    464\u001b[0m     \u001b[1;32mif\u001b[0m \u001b[0mchunksize\u001b[0m \u001b[1;32mor\u001b[0m \u001b[0miterator\u001b[0m\u001b[1;33m:\u001b[0m\u001b[1;33m\u001b[0m\u001b[1;33m\u001b[0m\u001b[0m\n",
      "\u001b[1;32m~\\anaconda3\\lib\\site-packages\\pandas\\io\\parsers.py\u001b[0m in \u001b[0;36m__init__\u001b[1;34m(self, f, engine, **kwds)\u001b[0m\n\u001b[0;32m    817\u001b[0m             \u001b[0mself\u001b[0m\u001b[1;33m.\u001b[0m\u001b[0moptions\u001b[0m\u001b[1;33m[\u001b[0m\u001b[1;34m\"has_index_names\"\u001b[0m\u001b[1;33m]\u001b[0m \u001b[1;33m=\u001b[0m \u001b[0mkwds\u001b[0m\u001b[1;33m[\u001b[0m\u001b[1;34m\"has_index_names\"\u001b[0m\u001b[1;33m]\u001b[0m\u001b[1;33m\u001b[0m\u001b[1;33m\u001b[0m\u001b[0m\n\u001b[0;32m    818\u001b[0m \u001b[1;33m\u001b[0m\u001b[0m\n\u001b[1;32m--> 819\u001b[1;33m         \u001b[0mself\u001b[0m\u001b[1;33m.\u001b[0m\u001b[0m_engine\u001b[0m \u001b[1;33m=\u001b[0m \u001b[0mself\u001b[0m\u001b[1;33m.\u001b[0m\u001b[0m_make_engine\u001b[0m\u001b[1;33m(\u001b[0m\u001b[0mself\u001b[0m\u001b[1;33m.\u001b[0m\u001b[0mengine\u001b[0m\u001b[1;33m)\u001b[0m\u001b[1;33m\u001b[0m\u001b[1;33m\u001b[0m\u001b[0m\n\u001b[0m\u001b[0;32m    820\u001b[0m \u001b[1;33m\u001b[0m\u001b[0m\n\u001b[0;32m    821\u001b[0m     \u001b[1;32mdef\u001b[0m \u001b[0mclose\u001b[0m\u001b[1;33m(\u001b[0m\u001b[0mself\u001b[0m\u001b[1;33m)\u001b[0m\u001b[1;33m:\u001b[0m\u001b[1;33m\u001b[0m\u001b[1;33m\u001b[0m\u001b[0m\n",
      "\u001b[1;32m~\\anaconda3\\lib\\site-packages\\pandas\\io\\parsers.py\u001b[0m in \u001b[0;36m_make_engine\u001b[1;34m(self, engine)\u001b[0m\n\u001b[0;32m   1048\u001b[0m             )\n\u001b[0;32m   1049\u001b[0m         \u001b[1;31m# error: Too many arguments for \"ParserBase\"\u001b[0m\u001b[1;33m\u001b[0m\u001b[1;33m\u001b[0m\u001b[1;33m\u001b[0m\u001b[0m\n\u001b[1;32m-> 1050\u001b[1;33m         \u001b[1;32mreturn\u001b[0m \u001b[0mmapping\u001b[0m\u001b[1;33m[\u001b[0m\u001b[0mengine\u001b[0m\u001b[1;33m]\u001b[0m\u001b[1;33m(\u001b[0m\u001b[0mself\u001b[0m\u001b[1;33m.\u001b[0m\u001b[0mf\u001b[0m\u001b[1;33m,\u001b[0m \u001b[1;33m**\u001b[0m\u001b[0mself\u001b[0m\u001b[1;33m.\u001b[0m\u001b[0moptions\u001b[0m\u001b[1;33m)\u001b[0m  \u001b[1;31m# type: ignore[call-arg]\u001b[0m\u001b[1;33m\u001b[0m\u001b[1;33m\u001b[0m\u001b[0m\n\u001b[0m\u001b[0;32m   1051\u001b[0m \u001b[1;33m\u001b[0m\u001b[0m\n\u001b[0;32m   1052\u001b[0m     \u001b[1;32mdef\u001b[0m \u001b[0m_failover_to_python\u001b[0m\u001b[1;33m(\u001b[0m\u001b[0mself\u001b[0m\u001b[1;33m)\u001b[0m\u001b[1;33m:\u001b[0m\u001b[1;33m\u001b[0m\u001b[1;33m\u001b[0m\u001b[0m\n",
      "\u001b[1;32m~\\anaconda3\\lib\\site-packages\\pandas\\io\\parsers.py\u001b[0m in \u001b[0;36m__init__\u001b[1;34m(self, src, **kwds)\u001b[0m\n\u001b[0;32m   1865\u001b[0m \u001b[1;33m\u001b[0m\u001b[0m\n\u001b[0;32m   1866\u001b[0m         \u001b[1;31m# open handles\u001b[0m\u001b[1;33m\u001b[0m\u001b[1;33m\u001b[0m\u001b[1;33m\u001b[0m\u001b[0m\n\u001b[1;32m-> 1867\u001b[1;33m         \u001b[0mself\u001b[0m\u001b[1;33m.\u001b[0m\u001b[0m_open_handles\u001b[0m\u001b[1;33m(\u001b[0m\u001b[0msrc\u001b[0m\u001b[1;33m,\u001b[0m \u001b[0mkwds\u001b[0m\u001b[1;33m)\u001b[0m\u001b[1;33m\u001b[0m\u001b[1;33m\u001b[0m\u001b[0m\n\u001b[0m\u001b[0;32m   1868\u001b[0m         \u001b[1;32massert\u001b[0m \u001b[0mself\u001b[0m\u001b[1;33m.\u001b[0m\u001b[0mhandles\u001b[0m \u001b[1;32mis\u001b[0m \u001b[1;32mnot\u001b[0m \u001b[1;32mNone\u001b[0m\u001b[1;33m\u001b[0m\u001b[1;33m\u001b[0m\u001b[0m\n\u001b[0;32m   1869\u001b[0m         \u001b[1;32mfor\u001b[0m \u001b[0mkey\u001b[0m \u001b[1;32min\u001b[0m \u001b[1;33m(\u001b[0m\u001b[1;34m\"storage_options\"\u001b[0m\u001b[1;33m,\u001b[0m \u001b[1;34m\"encoding\"\u001b[0m\u001b[1;33m,\u001b[0m \u001b[1;34m\"memory_map\"\u001b[0m\u001b[1;33m,\u001b[0m \u001b[1;34m\"compression\"\u001b[0m\u001b[1;33m)\u001b[0m\u001b[1;33m:\u001b[0m\u001b[1;33m\u001b[0m\u001b[1;33m\u001b[0m\u001b[0m\n",
      "\u001b[1;32m~\\anaconda3\\lib\\site-packages\\pandas\\io\\parsers.py\u001b[0m in \u001b[0;36m_open_handles\u001b[1;34m(self, src, kwds)\u001b[0m\n\u001b[0;32m   1360\u001b[0m         \u001b[0mLet\u001b[0m \u001b[0mthe\u001b[0m \u001b[0mreaders\u001b[0m \u001b[0mopen\u001b[0m \u001b[0mIOHanldes\u001b[0m \u001b[0mafter\u001b[0m \u001b[0mthey\u001b[0m \u001b[0mare\u001b[0m \u001b[0mdone\u001b[0m \u001b[1;32mwith\u001b[0m \u001b[0mtheir\u001b[0m \u001b[0mpotential\u001b[0m \u001b[0mraises\u001b[0m\u001b[1;33m.\u001b[0m\u001b[1;33m\u001b[0m\u001b[1;33m\u001b[0m\u001b[0m\n\u001b[0;32m   1361\u001b[0m         \"\"\"\n\u001b[1;32m-> 1362\u001b[1;33m         self.handles = get_handle(\n\u001b[0m\u001b[0;32m   1363\u001b[0m             \u001b[0msrc\u001b[0m\u001b[1;33m,\u001b[0m\u001b[1;33m\u001b[0m\u001b[1;33m\u001b[0m\u001b[0m\n\u001b[0;32m   1364\u001b[0m             \u001b[1;34m\"r\"\u001b[0m\u001b[1;33m,\u001b[0m\u001b[1;33m\u001b[0m\u001b[1;33m\u001b[0m\u001b[0m\n",
      "\u001b[1;32m~\\anaconda3\\lib\\site-packages\\pandas\\io\\common.py\u001b[0m in \u001b[0;36mget_handle\u001b[1;34m(path_or_buf, mode, encoding, compression, memory_map, is_text, errors, storage_options)\u001b[0m\n\u001b[0;32m    640\u001b[0m                 \u001b[0merrors\u001b[0m \u001b[1;33m=\u001b[0m \u001b[1;34m\"replace\"\u001b[0m\u001b[1;33m\u001b[0m\u001b[1;33m\u001b[0m\u001b[0m\n\u001b[0;32m    641\u001b[0m             \u001b[1;31m# Encoding\u001b[0m\u001b[1;33m\u001b[0m\u001b[1;33m\u001b[0m\u001b[1;33m\u001b[0m\u001b[0m\n\u001b[1;32m--> 642\u001b[1;33m             handle = open(\n\u001b[0m\u001b[0;32m    643\u001b[0m                 \u001b[0mhandle\u001b[0m\u001b[1;33m,\u001b[0m\u001b[1;33m\u001b[0m\u001b[1;33m\u001b[0m\u001b[0m\n\u001b[0;32m    644\u001b[0m                 \u001b[0mioargs\u001b[0m\u001b[1;33m.\u001b[0m\u001b[0mmode\u001b[0m\u001b[1;33m,\u001b[0m\u001b[1;33m\u001b[0m\u001b[1;33m\u001b[0m\u001b[0m\n",
      "\u001b[1;31mFileNotFoundError\u001b[0m: [Errno 2] No such file or directory: '/kaggle/input/sf-dst-restaurant-rating//main_task.csv'"
     ]
    }
   ],
   "source": [
    "DATA_DIR = '/kaggle/input/sf-dst-restaurant-rating/'\n",
    "df_train = pd.read_csv(DATA_DIR+'/main_task.csv')\n",
    "df_test = pd.read_csv(DATA_DIR+'kaggle_task.csv')\n",
    "sample_submission = pd.read_csv(DATA_DIR+'/sample_submission.csv')"
   ]
  },
  {
   "cell_type": "code",
   "execution_count": null,
   "metadata": {
    "execution": {
     "iopub.execute_input": "2021-09-04T15:46:16.148432Z",
     "iopub.status.busy": "2021-09-04T15:46:16.148087Z",
     "iopub.status.idle": "2021-09-04T15:46:16.327970Z",
     "shell.execute_reply": "2021-09-04T15:46:16.326865Z",
     "shell.execute_reply.started": "2021-09-04T15:46:16.148368Z"
    }
   },
   "outputs": [],
   "source": [
    "#  Добавим дополнительные данные\n",
    "worldcities = pd.read_csv('worldcities.csv')\n",
    "сost_of_living_index = pd.read_csv('/kaggle/input/cost-of-living-index-by-country/Cost_of_living_index.csv')"
   ]
  },
  {
   "cell_type": "code",
   "execution_count": null,
   "metadata": {
    "execution": {
     "iopub.execute_input": "2021-09-04T15:46:16.331464Z",
     "iopub.status.busy": "2021-09-04T15:46:16.330984Z",
     "iopub.status.idle": "2021-09-04T15:46:16.383090Z",
     "shell.execute_reply": "2021-09-04T15:46:16.382296Z",
     "shell.execute_reply.started": "2021-09-04T15:46:16.331260Z"
    }
   },
   "outputs": [],
   "source": [
    "df_train.info()"
   ]
  },
  {
   "cell_type": "code",
   "execution_count": null,
   "metadata": {
    "execution": {
     "iopub.execute_input": "2021-09-04T15:46:16.385607Z",
     "iopub.status.busy": "2021-09-04T15:46:16.385184Z",
     "iopub.status.idle": "2021-09-04T15:46:16.389506Z",
     "shell.execute_reply": "2021-09-04T15:46:16.388845Z",
     "shell.execute_reply.started": "2021-09-04T15:46:16.385428Z"
    }
   },
   "outputs": [],
   "source": [
    "# отметим колонки которые будем удалять\n",
    "drop_col = ['Restaurant_id', 'Cuisine Style' , 'Price Range',\n",
    "            'Reviews', 'URL_TA', \"ID_TA\"] "
   ]
  },
  {
   "cell_type": "code",
   "execution_count": null,
   "metadata": {
    "execution": {
     "iopub.execute_input": "2021-09-04T15:46:16.391297Z",
     "iopub.status.busy": "2021-09-04T15:46:16.390840Z",
     "iopub.status.idle": "2021-09-04T15:46:16.430836Z",
     "shell.execute_reply": "2021-09-04T15:46:16.430093Z",
     "shell.execute_reply.started": "2021-09-04T15:46:16.391258Z"
    }
   },
   "outputs": [],
   "source": [
    "df_train.head(5)"
   ]
  },
  {
   "cell_type": "code",
   "execution_count": null,
   "metadata": {
    "execution": {
     "iopub.execute_input": "2021-09-04T15:46:16.432198Z",
     "iopub.status.busy": "2021-09-04T15:46:16.431858Z",
     "iopub.status.idle": "2021-09-04T15:46:16.450068Z",
     "shell.execute_reply": "2021-09-04T15:46:16.448888Z",
     "shell.execute_reply.started": "2021-09-04T15:46:16.432161Z"
    }
   },
   "outputs": [],
   "source": [
    "df_test.info()"
   ]
  },
  {
   "cell_type": "code",
   "execution_count": null,
   "metadata": {
    "execution": {
     "iopub.execute_input": "2021-09-04T15:46:16.451854Z",
     "iopub.status.busy": "2021-09-04T15:46:16.451581Z",
     "iopub.status.idle": "2021-09-04T15:46:16.471506Z",
     "shell.execute_reply": "2021-09-04T15:46:16.470666Z",
     "shell.execute_reply.started": "2021-09-04T15:46:16.451802Z"
    }
   },
   "outputs": [],
   "source": [
    "df_test.head(5)"
   ]
  },
  {
   "cell_type": "code",
   "execution_count": null,
   "metadata": {
    "execution": {
     "iopub.execute_input": "2021-09-04T15:46:16.473015Z",
     "iopub.status.busy": "2021-09-04T15:46:16.472770Z",
     "iopub.status.idle": "2021-09-04T15:46:16.484738Z",
     "shell.execute_reply": "2021-09-04T15:46:16.483596Z",
     "shell.execute_reply.started": "2021-09-04T15:46:16.472974Z"
    }
   },
   "outputs": [],
   "source": [
    "sample_submission.head(5)"
   ]
  },
  {
   "cell_type": "code",
   "execution_count": null,
   "metadata": {
    "execution": {
     "iopub.execute_input": "2021-09-04T15:46:16.486574Z",
     "iopub.status.busy": "2021-09-04T15:46:16.486199Z",
     "iopub.status.idle": "2021-09-04T15:46:16.498965Z",
     "shell.execute_reply": "2021-09-04T15:46:16.497812Z",
     "shell.execute_reply.started": "2021-09-04T15:46:16.486504Z"
    }
   },
   "outputs": [],
   "source": [
    "sample_submission.info()"
   ]
  },
  {
   "cell_type": "code",
   "execution_count": null,
   "metadata": {
    "execution": {
     "iopub.execute_input": "2021-09-04T15:46:16.501212Z",
     "iopub.status.busy": "2021-09-04T15:46:16.500835Z",
     "iopub.status.idle": "2021-09-04T15:46:16.557761Z",
     "shell.execute_reply": "2021-09-04T15:46:16.556685Z",
     "shell.execute_reply.started": "2021-09-04T15:46:16.501143Z"
    }
   },
   "outputs": [],
   "source": [
    "# ВАЖНО! дря корректной обработки признаков объединяем трейн и тест в один датасет\n",
    "df_train['sample'] = 1 # помечаем где у нас трейн\n",
    "df_test['sample'] = 0 # помечаем где у нас тест\n",
    "df_test['Rating'] = 0 # в тесте у нас нет значения Rating, мы его должны предсказать, по этому пока просто заполняем нулями\n",
    "\n",
    "data = df_test.append(df_train, sort=False).reset_index(drop=True) # объединяем"
   ]
  },
  {
   "cell_type": "code",
   "execution_count": null,
   "metadata": {
    "execution": {
     "iopub.execute_input": "2021-09-04T15:46:16.559411Z",
     "iopub.status.busy": "2021-09-04T15:46:16.559106Z",
     "iopub.status.idle": "2021-09-04T15:46:16.606023Z",
     "shell.execute_reply": "2021-09-04T15:46:16.604695Z",
     "shell.execute_reply.started": "2021-09-04T15:46:16.559336Z"
    }
   },
   "outputs": [],
   "source": [
    "data.info()"
   ]
  },
  {
   "cell_type": "markdown",
   "metadata": {},
   "source": [
    "Подробнее по признакам:\n",
    "* City: Город \n",
    "* Cuisine Style: Кухня\n",
    "* Ranking: Ранг ресторана относительно других ресторанов в этом городе\n",
    "* Price Range: Цены в ресторане в 3 категориях\n",
    "* Number of Reviews: Количество отзывов\n",
    "* Reviews: 2 последних отзыва и даты этих отзывов\n",
    "* URL_TA: страница ресторана на 'www.tripadvisor.com' \n",
    "* ID_TA: ID ресторана в TripAdvisor\n",
    "* Rating: Рейтинг ресторана"
   ]
  },
  {
   "cell_type": "code",
   "execution_count": null,
   "metadata": {
    "execution": {
     "iopub.execute_input": "2021-09-04T15:46:16.608342Z",
     "iopub.status.busy": "2021-09-04T15:46:16.608008Z",
     "iopub.status.idle": "2021-09-04T15:46:16.631415Z",
     "shell.execute_reply": "2021-09-04T15:46:16.629880Z",
     "shell.execute_reply.started": "2021-09-04T15:46:16.608262Z"
    }
   },
   "outputs": [],
   "source": [
    "data.sample(5)"
   ]
  },
  {
   "cell_type": "code",
   "execution_count": null,
   "metadata": {
    "execution": {
     "iopub.execute_input": "2021-09-04T15:46:16.633137Z",
     "iopub.status.busy": "2021-09-04T15:46:16.632698Z",
     "iopub.status.idle": "2021-09-04T15:46:16.645959Z",
     "shell.execute_reply": "2021-09-04T15:46:16.645164Z",
     "shell.execute_reply.started": "2021-09-04T15:46:16.632937Z"
    }
   },
   "outputs": [],
   "source": [
    "data.Reviews[1]"
   ]
  },
  {
   "cell_type": "markdown",
   "metadata": {},
   "source": [
    "Как видим, большинство признаков у нас требует очистки и предварительной обработки."
   ]
  },
  {
   "cell_type": "markdown",
   "metadata": {},
   "source": [
    "# Предобработка внешней информации."
   ]
  },
  {
   "cell_type": "markdown",
   "metadata": {},
   "source": [
    "# worldcities - Население"
   ]
  },
  {
   "cell_type": "code",
   "execution_count": null,
   "metadata": {
    "execution": {
     "iopub.execute_input": "2021-09-04T15:46:16.648281Z",
     "iopub.status.busy": "2021-09-04T15:46:16.647788Z",
     "iopub.status.idle": "2021-09-04T15:46:16.670657Z",
     "shell.execute_reply": "2021-09-04T15:46:16.669648Z",
     "shell.execute_reply.started": "2021-09-04T15:46:16.648117Z"
    }
   },
   "outputs": [],
   "source": [
    "worldcities.head()\n"
   ]
  },
  {
   "cell_type": "code",
   "execution_count": null,
   "metadata": {
    "execution": {
     "iopub.execute_input": "2021-09-04T15:46:16.672561Z",
     "iopub.status.busy": "2021-09-04T15:46:16.672179Z",
     "iopub.status.idle": "2021-09-04T15:46:16.718800Z",
     "shell.execute_reply": "2021-09-04T15:46:16.717754Z",
     "shell.execute_reply.started": "2021-09-04T15:46:16.672485Z"
    }
   },
   "outputs": [],
   "source": [
    "worldcities.info()"
   ]
  },
  {
   "cell_type": "code",
   "execution_count": null,
   "metadata": {
    "execution": {
     "iopub.execute_input": "2021-09-04T15:46:16.720610Z",
     "iopub.status.busy": "2021-09-04T15:46:16.720330Z",
     "iopub.status.idle": "2021-09-04T15:46:16.756794Z",
     "shell.execute_reply": "2021-09-04T15:46:16.755965Z",
     "shell.execute_reply.started": "2021-09-04T15:46:16.720561Z"
    }
   },
   "outputs": [],
   "source": [
    "#замена наименований городов\n",
    "worldcities.loc[worldcities.city_ascii == 'Porto', 'city_ascii'] = 'Oporto'\n",
    "worldcities.loc[worldcities.city_ascii == 'Zürich', 'city_ascii'] = 'Zurich' \n",
    "worldcities.loc[worldcities.city_ascii == 'Kraków', 'city_ascii'] = 'Krakow'"
   ]
  },
  {
   "cell_type": "code",
   "execution_count": null,
   "metadata": {
    "execution": {
     "iopub.execute_input": "2021-09-04T15:46:16.758362Z",
     "iopub.status.busy": "2021-09-04T15:46:16.757956Z",
     "iopub.status.idle": "2021-09-04T15:46:16.815591Z",
     "shell.execute_reply": "2021-09-04T15:46:16.814819Z",
     "shell.execute_reply.started": "2021-09-04T15:46:16.758309Z"
    }
   },
   "outputs": [],
   "source": [
    "# из дополнительного датасета по населению городов выбираем только нужные нам города Европы\n",
    "worldcities = worldcities[(worldcities.city_ascii.isin(data.City.unique()))&\n",
    "                  (worldcities.country != 'United States') &\n",
    "                  (worldcities.country != 'Canada') &\n",
    "                  (worldcities.country != 'Venezuela') &\n",
    "                  (worldcities.country != 'Philippines') &\n",
    "                  (worldcities.country != 'Colombia') &\n",
    "                  (worldcities.country != 'Brazil')]\n",
    "# удаляем ненужные столбцы\n",
    "worldcities = worldcities.drop(['city', 'lat','lng','country','iso2','iso3','admin_name','id','capital'], axis=1)"
   ]
  },
  {
   "cell_type": "code",
   "execution_count": null,
   "metadata": {
    "execution": {
     "iopub.execute_input": "2021-09-04T15:46:16.817010Z",
     "iopub.status.busy": "2021-09-04T15:46:16.816647Z",
     "iopub.status.idle": "2021-09-04T15:46:16.830416Z",
     "shell.execute_reply": "2021-09-04T15:46:16.829248Z",
     "shell.execute_reply.started": "2021-09-04T15:46:16.816972Z"
    }
   },
   "outputs": [],
   "source": [
    "worldcities"
   ]
  },
  {
   "cell_type": "code",
   "execution_count": null,
   "metadata": {
    "execution": {
     "iopub.execute_input": "2021-09-04T15:46:16.832549Z",
     "iopub.status.busy": "2021-09-04T15:46:16.832027Z",
     "iopub.status.idle": "2021-09-04T15:46:16.862274Z",
     "shell.execute_reply": "2021-09-04T15:46:16.861499Z",
     "shell.execute_reply.started": "2021-09-04T15:46:16.832311Z"
    }
   },
   "outputs": [],
   "source": [
    "worldcities.describe()"
   ]
  },
  {
   "cell_type": "markdown",
   "metadata": {},
   "source": [
    "Пропусков нету. Явные выбросы не обнаружены Данные можно вносить в наш дата фрейм."
   ]
  },
  {
   "cell_type": "markdown",
   "metadata": {},
   "source": [
    "# сost_of_living_index"
   ]
  },
  {
   "cell_type": "code",
   "execution_count": null,
   "metadata": {
    "execution": {
     "iopub.execute_input": "2021-09-04T15:46:16.863883Z",
     "iopub.status.busy": "2021-09-04T15:46:16.863475Z",
     "iopub.status.idle": "2021-09-04T15:46:16.871134Z",
     "shell.execute_reply": "2021-09-04T15:46:16.870072Z",
     "shell.execute_reply.started": "2021-09-04T15:46:16.863835Z"
    }
   },
   "outputs": [],
   "source": [
    "сost_of_living_index.drop(сost_of_living_index[\n",
    "    сost_of_living_index.City == 'London, Canada'].index, inplace = True)"
   ]
  },
  {
   "cell_type": "code",
   "execution_count": null,
   "metadata": {
    "execution": {
     "iopub.execute_input": "2021-09-04T15:46:16.872753Z",
     "iopub.status.busy": "2021-09-04T15:46:16.872401Z",
     "iopub.status.idle": "2021-09-04T15:46:16.917831Z",
     "shell.execute_reply": "2021-09-04T15:46:16.917197Z",
     "shell.execute_reply.started": "2021-09-04T15:46:16.872696Z"
    }
   },
   "outputs": [],
   "source": [
    "# в датасете уровня жизни городов обрезаем в колоне City название города\n",
    "сost_of_living_index.City = сost_of_living_index.City.apply(lambda x:x.split(',')[0])\n",
    "# Преобразуем название городов которые не совпадают с названьями в тестовом дата фрейме\n",
    "сost_of_living_index.loc[сost_of_living_index.City == 'Krakow (Cracow)', 'City'] = 'Krakow'\n",
    "сost_of_living_index.loc[сost_of_living_index.City == 'Porto','City'] = 'Oporto'\n",
    "# из дополнительного датасета по населению городов выбираем только нужные нам города Европы\n",
    "сost_of_living_index = сost_of_living_index[(сost_of_living_index.City.isin(data.City.unique()))] \n",
    "сost_of_living_index"
   ]
  },
  {
   "cell_type": "code",
   "execution_count": null,
   "metadata": {
    "execution": {
     "iopub.execute_input": "2021-09-04T15:46:16.919518Z",
     "iopub.status.busy": "2021-09-04T15:46:16.919082Z",
     "iopub.status.idle": "2021-09-04T15:46:16.929100Z",
     "shell.execute_reply": "2021-09-04T15:46:16.927947Z",
     "shell.execute_reply.started": "2021-09-04T15:46:16.919476Z"
    }
   },
   "outputs": [],
   "source": [
    "сost_of_living_index.info()"
   ]
  },
  {
   "cell_type": "code",
   "execution_count": null,
   "metadata": {
    "execution": {
     "iopub.execute_input": "2021-09-04T15:46:16.930897Z",
     "iopub.status.busy": "2021-09-04T15:46:16.930630Z",
     "iopub.status.idle": "2021-09-04T15:46:16.977275Z",
     "shell.execute_reply": "2021-09-04T15:46:16.976293Z",
     "shell.execute_reply.started": "2021-09-04T15:46:16.930853Z"
    }
   },
   "outputs": [],
   "source": [
    "сost_of_living_index.describe()"
   ]
  },
  {
   "cell_type": "markdown",
   "metadata": {},
   "source": [
    "Пропусков нету. Явные выбросы не обнаружены Данные можно вносить в наш дата фрейм."
   ]
  },
  {
   "cell_type": "markdown",
   "metadata": {},
   "source": [
    "# Cleaning and Prepping Data\n",
    "Обычно данные содержат в себе кучу мусора, который необходимо почистить, для того чтобы привести их в приемлемый формат. Чистка данных — это необходимый этап решения почти любой реальной задачи.   \n",
    "![](https://analyticsindiamag.com/wp-content/uploads/2018/01/data-cleaning.png)"
   ]
  },
  {
   "cell_type": "markdown",
   "metadata": {},
   "source": [
    "## 1. Обработка NAN \n",
    "У наличия пропусков могут быть разные причины, но пропуски нужно либо заполнить, либо исключить из набора полностью. Но с пропусками нужно быть внимательным, **даже отсутствие информации может быть важным признаком!**   \n",
    "По этому перед обработкой NAN лучше вынести информацию о наличии пропуска как отдельный признак "
   ]
  },
  {
   "cell_type": "markdown",
   "metadata": {
    "execution": {
     "iopub.execute_input": "2021-08-27T08:18:54.053144Z",
     "iopub.status.busy": "2021-08-27T08:18:54.052807Z",
     "iopub.status.idle": "2021-08-27T08:18:54.062727Z",
     "shell.execute_reply": "2021-08-27T08:18:54.060724Z",
     "shell.execute_reply.started": "2021-08-27T08:18:54.053085Z"
    }
   },
   "source": [
    "Пройдемся по каждому столбцу, и познакомимся с данными по ближе."
   ]
  },
  {
   "cell_type": "markdown",
   "metadata": {},
   "source": [
    "# Restaurant_id "
   ]
  },
  {
   "cell_type": "code",
   "execution_count": null,
   "metadata": {
    "execution": {
     "iopub.execute_input": "2021-09-04T15:46:16.980649Z",
     "iopub.status.busy": "2021-09-04T15:46:16.980318Z",
     "iopub.status.idle": "2021-09-04T15:46:17.015776Z",
     "shell.execute_reply": "2021-09-04T15:46:17.014644Z",
     "shell.execute_reply.started": "2021-09-04T15:46:16.980589Z"
    }
   },
   "outputs": [],
   "source": [
    "# Посмотрим количество уникальных значений и их количество\n",
    "data.Restaurant_id.value_counts()"
   ]
  },
  {
   "cell_type": "code",
   "execution_count": null,
   "metadata": {
    "execution": {
     "iopub.execute_input": "2021-09-04T15:46:17.017648Z",
     "iopub.status.busy": "2021-09-04T15:46:17.017263Z",
     "iopub.status.idle": "2021-09-04T15:46:17.025706Z",
     "shell.execute_reply": "2021-09-04T15:46:17.024483Z",
     "shell.execute_reply.started": "2021-09-04T15:46:17.017573Z"
    }
   },
   "outputs": [],
   "source": [
    "yyy = data[['Restaurant_id',\"Rating\" ]].groupby(\"Restaurant_id\")"
   ]
  },
  {
   "cell_type": "markdown",
   "metadata": {},
   "source": [
    "В общем дата фрейме предоставлено 50000 строк, а у нас всего 13094 уникальных значений ID, отметим, что у нас есть сетевые рестораны, либо у ресторанов один владелец. Отсутствуют пропуски в признаке."
   ]
  },
  {
   "cell_type": "markdown",
   "metadata": {},
   "source": [
    "# City"
   ]
  },
  {
   "cell_type": "code",
   "execution_count": null,
   "metadata": {
    "execution": {
     "iopub.execute_input": "2021-09-04T15:46:17.028028Z",
     "iopub.status.busy": "2021-09-04T15:46:17.027414Z",
     "iopub.status.idle": "2021-09-04T15:46:17.062776Z",
     "shell.execute_reply": "2021-09-04T15:46:17.061850Z",
     "shell.execute_reply.started": "2021-09-04T15:46:17.027969Z"
    }
   },
   "outputs": [],
   "source": [
    "# Посмотрим количество уникальных значений и их количество\n",
    "print('Количество уникальных городов', len(data.City.unique()))\n",
    "data.City.value_counts()"
   ]
  },
  {
   "cell_type": "code",
   "execution_count": null,
   "metadata": {
    "execution": {
     "iopub.execute_input": "2021-09-04T15:46:17.064807Z",
     "iopub.status.busy": "2021-09-04T15:46:17.064261Z",
     "iopub.status.idle": "2021-09-04T15:46:17.989803Z",
     "shell.execute_reply": "2021-09-04T15:46:17.988522Z",
     "shell.execute_reply.started": "2021-09-04T15:46:17.064748Z"
    }
   },
   "outputs": [],
   "source": [
    "plt.figure(figsize=(18, 7))\n",
    "sns.boxplot(x='City', y='Rating', data=data[data['sample'] == 1])\n",
    "plt.xticks(rotation=90);"
   ]
  },
  {
   "cell_type": "markdown",
   "metadata": {},
   "source": [
    "В дата фрейме 31 уникальный город. Отсутствуют пропуски в признаке.    \n",
    "Отметим, у Рима самые высокие оценки."
   ]
  },
  {
   "cell_type": "markdown",
   "metadata": {},
   "source": [
    "# **Cuisine Style**"
   ]
  },
  {
   "cell_type": "markdown",
   "metadata": {},
   "source": [
    "Первый столбце, где есть пропуски это Cuisine Style. Отметим данные пропуски в отдельном столбце. Предположим, что в данных ресторанах предложена местная кухня и заполним её значением значением local."
   ]
  },
  {
   "cell_type": "code",
   "execution_count": null,
   "metadata": {
    "execution": {
     "iopub.execute_input": "2021-09-04T15:46:17.991420Z",
     "iopub.status.busy": "2021-09-04T15:46:17.991141Z",
     "iopub.status.idle": "2021-09-04T15:46:18.004242Z",
     "shell.execute_reply": "2021-09-04T15:46:18.003224Z",
     "shell.execute_reply.started": "2021-09-04T15:46:17.991344Z"
    }
   },
   "outputs": [],
   "source": [
    "data['Number_of_Cuisine_Style_isNAN'] = pd.isna(data['Cuisine Style']).\\\n",
    "                                        astype('uint8')"
   ]
  },
  {
   "cell_type": "code",
   "execution_count": null,
   "metadata": {
    "execution": {
     "iopub.execute_input": "2021-09-04T15:46:18.017456Z",
     "iopub.status.busy": "2021-09-04T15:46:18.017100Z",
     "iopub.status.idle": "2021-09-04T15:46:18.032248Z",
     "shell.execute_reply": "2021-09-04T15:46:18.030930Z",
     "shell.execute_reply.started": "2021-09-04T15:46:18.017412Z"
    }
   },
   "outputs": [],
   "source": [
    "data['Cuisine Style'].fillna(\"local\", inplace=True)"
   ]
  },
  {
   "cell_type": "markdown",
   "metadata": {},
   "source": [
    "# *Price Range*"
   ]
  },
  {
   "cell_type": "markdown",
   "metadata": {},
   "source": [
    "В связи с тем, что в данных есть сетевые ресторыны, применим следующую логику.      \n",
    "    1) для начала отметим все данные где есть пропуски.     \n",
    "    2) если ресторан сетевой. То ставиь наиболее популярный ценовой рейтинг в данной сети.    \n",
    "    3) если ресторан только один, то ставим минимальный рейнитинг.     "
   ]
  },
  {
   "cell_type": "code",
   "execution_count": null,
   "metadata": {
    "execution": {
     "iopub.execute_input": "2021-09-04T15:46:18.034806Z",
     "iopub.status.busy": "2021-09-04T15:46:18.034485Z",
     "iopub.status.idle": "2021-09-04T15:46:18.051828Z",
     "shell.execute_reply": "2021-09-04T15:46:18.050642Z",
     "shell.execute_reply.started": "2021-09-04T15:46:18.034745Z"
    }
   },
   "outputs": [],
   "source": [
    "data['Price_Range_isNAN'] = pd.isna(data['Price Range']).astype('uint8')"
   ]
  },
  {
   "cell_type": "markdown",
   "metadata": {},
   "source": [
    "Создадим список, который будет хранить ID ресторана и наиболее популярную категорию цену.\n",
    "Пропуски сразу заполним \"$\""
   ]
  },
  {
   "cell_type": "code",
   "execution_count": null,
   "metadata": {
    "execution": {
     "iopub.execute_input": "2021-09-04T15:46:18.054055Z",
     "iopub.status.busy": "2021-09-04T15:46:18.053662Z",
     "iopub.status.idle": "2021-09-04T15:46:52.695867Z",
     "shell.execute_reply": "2021-09-04T15:46:52.694511Z",
     "shell.execute_reply.started": "2021-09-04T15:46:18.053984Z"
    }
   },
   "outputs": [],
   "source": [
    "most_com_price = data[[\"Restaurant_id\", \"Price Range\"]].\\\n",
    "groupby(\"Restaurant_id\").apply(lambda x: x.mode()).fillna(\"$\")"
   ]
  },
  {
   "cell_type": "markdown",
   "metadata": {},
   "source": [
    "Далее напишем код, который будет возвращать нам значение в соответствии с заданной нами логикой. И сразу же применим его к дата фрейму."
   ]
  },
  {
   "cell_type": "code",
   "execution_count": null,
   "metadata": {
    "execution": {
     "iopub.execute_input": "2021-09-04T15:46:52.697324Z",
     "iopub.status.busy": "2021-09-04T15:46:52.697042Z",
     "iopub.status.idle": "2021-09-04T15:46:52.704942Z",
     "shell.execute_reply": "2021-09-04T15:46:52.703830Z",
     "shell.execute_reply.started": "2021-09-04T15:46:52.697286Z"
    }
   },
   "outputs": [],
   "source": [
    "                                                                        \n",
    "def fill_price_na(x):\n",
    "    '''Код принимает в себя всю строку и возращает значение\n",
    "    price range в зависемости нулевое это значение или нет'''\n",
    "    if pd.isna(x['Price Range']):\n",
    "        return most_com_price.loc[x[\"Restaurant_id\"]][\"Price Range\"][0]\n",
    "    else:\n",
    "        return x[\"Price Range\"]"
   ]
  },
  {
   "cell_type": "code",
   "execution_count": null,
   "metadata": {
    "execution": {
     "iopub.execute_input": "2021-09-04T15:46:52.706682Z",
     "iopub.status.busy": "2021-09-04T15:46:52.706417Z",
     "iopub.status.idle": "2021-09-04T15:47:05.554108Z",
     "shell.execute_reply": "2021-09-04T15:47:05.552966Z",
     "shell.execute_reply.started": "2021-09-04T15:46:52.706640Z"
    }
   },
   "outputs": [],
   "source": [
    "data[\"Price Range\"] = data.apply(lambda x: fill_price_na(x), axis = 1)"
   ]
  },
  {
   "cell_type": "code",
   "execution_count": null,
   "metadata": {
    "execution": {
     "iopub.execute_input": "2021-09-04T15:47:05.555638Z",
     "iopub.status.busy": "2021-09-04T15:47:05.555340Z",
     "iopub.status.idle": "2021-09-04T15:47:05.605798Z",
     "shell.execute_reply": "2021-09-04T15:47:05.604294Z",
     "shell.execute_reply.started": "2021-09-04T15:47:05.555591Z"
    }
   },
   "outputs": [],
   "source": [
    "data.info()"
   ]
  },
  {
   "cell_type": "markdown",
   "metadata": {},
   "source": [
    "# **Number of Reviews**"
   ]
  },
  {
   "cell_type": "markdown",
   "metadata": {
    "execution": {
     "iopub.execute_input": "2021-08-27T10:42:16.16553Z",
     "iopub.status.busy": "2021-08-27T10:42:16.165066Z",
     "iopub.status.idle": "2021-08-27T10:42:16.175041Z",
     "shell.execute_reply": "2021-08-27T10:42:16.17395Z",
     "shell.execute_reply.started": "2021-08-27T10:42:16.165451Z"
    }
   },
   "source": [
    "Данный столбик неразрывно связан с Reviews. Так же при более детальном просмотре, можно заметить, что в некоторых строках у нас есть комментарии, хотя их фактическое количество не указано."
   ]
  },
  {
   "cell_type": "code",
   "execution_count": null,
   "metadata": {
    "execution": {
     "iopub.execute_input": "2021-09-04T15:47:05.607663Z",
     "iopub.status.busy": "2021-09-04T15:47:05.607254Z",
     "iopub.status.idle": "2021-09-04T15:47:05.616484Z",
     "shell.execute_reply": "2021-09-04T15:47:05.615405Z",
     "shell.execute_reply.started": "2021-09-04T15:47:05.607507Z"
    }
   },
   "outputs": [],
   "source": [
    "# Например\n",
    "data.iloc[74]"
   ]
  },
  {
   "cell_type": "markdown",
   "metadata": {
    "execution": {
     "iopub.execute_input": "2021-08-27T10:48:19.803181Z",
     "iopub.status.busy": "2021-08-27T10:48:19.802849Z",
     "iopub.status.idle": "2021-08-27T10:48:19.809625Z",
     "shell.execute_reply": "2021-08-27T10:48:19.80808Z",
     "shell.execute_reply.started": "2021-08-27T10:48:19.803131Z"
    }
   },
   "source": [
    "Поэтому будем использовать следующий подход к заполнению пропусков.    \n",
    "Оставлять значение если оно указано.    \n",
    "Если значение не указано, будем проверять есть ли комментарии в Reviews, подсчитывать их и возвращать значение комментариев либо 0 если пусто.    \n",
    "Отметим, что в данных указано максимально 2 комментария в столбцу Reviews.   \n",
    "А все пустые значение Reviews отмечены как [[], []], и длинна такой строки составляет 8. Больше комментариев с такой длинной нету. Поэтому пропуск можно вычислить по длине строки.\n",
    "Количество комментариев (1 или 2) можно вычислить через функцию сплит.\n",
    "Т.к. если в столбце указан два комментария, то используется шаблон \"[['Good for a quick lunch', 'A good option'], ['01/10/2018', '12/29/2017']]\", и если использовать сплит по (\"', '\"), то у нас получится лист длинной 3.    \n",
    "При одном комментарии в столбце используется маска \"[['Good, not Great'], ['01/20/2015']]\"Если использовать такой же сплит этой маске, то получим лист с длинной один.  \n",
    "Первым делом отметим все пропущенные значения."
   ]
  },
  {
   "cell_type": "code",
   "execution_count": null,
   "metadata": {
    "execution": {
     "iopub.execute_input": "2021-09-04T15:47:05.618663Z",
     "iopub.status.busy": "2021-09-04T15:47:05.618042Z",
     "iopub.status.idle": "2021-09-04T15:47:05.632986Z",
     "shell.execute_reply": "2021-09-04T15:47:05.632053Z",
     "shell.execute_reply.started": "2021-09-04T15:47:05.618589Z"
    }
   },
   "outputs": [],
   "source": [
    "data['Number_of_Reviews_isNAN'] = pd.isna(data['Number of Reviews'])\\\n",
    "                                  .astype('uint8')"
   ]
  },
  {
   "cell_type": "markdown",
   "metadata": {},
   "source": [
    "Снова напишем функцию для заполнения. "
   ]
  },
  {
   "cell_type": "code",
   "execution_count": null,
   "metadata": {
    "execution": {
     "iopub.execute_input": "2021-09-04T15:47:05.634974Z",
     "iopub.status.busy": "2021-09-04T15:47:05.634606Z",
     "iopub.status.idle": "2021-09-04T15:47:05.649162Z",
     "shell.execute_reply": "2021-09-04T15:47:05.647759Z",
     "shell.execute_reply.started": "2021-09-04T15:47:05.634904Z"
    }
   },
   "outputs": [],
   "source": [
    "def fill_Number_of_Reviews(x):\n",
    "    '''функция принимает в себя строку, и проверяет есть ли комментарии \n",
    "    в Reviews и возвращает соответствующие значение'''\n",
    "    \n",
    "    if pd.isna(x[\"Number of Reviews\"]):\n",
    "        if pd.isna(x[\"Reviews\"]):\n",
    "            return 0\n",
    "        if len(x[\"Reviews\"]) == 8:\n",
    "            return 0\n",
    "        else:\n",
    "            list_ = x[\"Reviews\"].split(\"', '\")\n",
    "            if len(list_) == 3:\n",
    "                return 2\n",
    "            else:\n",
    "                return 1\n",
    "    else:\n",
    "        return x[\"Number of Reviews\"]"
   ]
  },
  {
   "cell_type": "code",
   "execution_count": null,
   "metadata": {
    "execution": {
     "iopub.execute_input": "2021-09-04T15:47:05.650779Z",
     "iopub.status.busy": "2021-09-04T15:47:05.650515Z",
     "iopub.status.idle": "2021-09-04T15:47:07.480724Z",
     "shell.execute_reply": "2021-09-04T15:47:07.479672Z",
     "shell.execute_reply.started": "2021-09-04T15:47:05.650736Z"
    }
   },
   "outputs": [],
   "source": [
    "data[\"Number of Reviews\"] = data.apply(lambda x: fill_Number_of_Reviews(x),\n",
    "                                       axis=1)"
   ]
  },
  {
   "cell_type": "markdown",
   "metadata": {},
   "source": [
    "Теперь посмотрим на распределение признака."
   ]
  },
  {
   "cell_type": "code",
   "execution_count": null,
   "metadata": {
    "execution": {
     "iopub.execute_input": "2021-09-04T15:47:07.483305Z",
     "iopub.status.busy": "2021-09-04T15:47:07.482952Z",
     "iopub.status.idle": "2021-09-04T15:47:07.498819Z",
     "shell.execute_reply": "2021-09-04T15:47:07.497281Z",
     "shell.execute_reply.started": "2021-09-04T15:47:07.483245Z"
    }
   },
   "outputs": [],
   "source": [
    "data[\"Number of Reviews\"].describe()"
   ]
  },
  {
   "cell_type": "code",
   "execution_count": null,
   "metadata": {
    "execution": {
     "iopub.execute_input": "2021-09-04T15:47:07.500515Z",
     "iopub.status.busy": "2021-09-04T15:47:07.500214Z",
     "iopub.status.idle": "2021-09-04T15:47:07.509965Z",
     "shell.execute_reply": "2021-09-04T15:47:07.509080Z",
     "shell.execute_reply.started": "2021-09-04T15:47:07.500461Z"
    }
   },
   "outputs": [],
   "source": [
    "# Посмотрим на моду\n",
    "data[\"Number of Reviews\"].mode()"
   ]
  },
  {
   "cell_type": "code",
   "execution_count": null,
   "metadata": {
    "execution": {
     "iopub.execute_input": "2021-09-04T15:47:07.511857Z",
     "iopub.status.busy": "2021-09-04T15:47:07.511505Z",
     "iopub.status.idle": "2021-09-04T15:47:07.774306Z",
     "shell.execute_reply": "2021-09-04T15:47:07.773577Z",
     "shell.execute_reply.started": "2021-09-04T15:47:07.511723Z"
    }
   },
   "outputs": [],
   "source": [
    "data[\"Number of Reviews\"].hist()"
   ]
  },
  {
   "cell_type": "code",
   "execution_count": null,
   "metadata": {
    "execution": {
     "iopub.execute_input": "2021-09-04T15:47:07.776202Z",
     "iopub.status.busy": "2021-09-04T15:47:07.775679Z",
     "iopub.status.idle": "2021-09-04T15:47:07.944207Z",
     "shell.execute_reply": "2021-09-04T15:47:07.942946Z",
     "shell.execute_reply.started": "2021-09-04T15:47:07.776143Z"
    }
   },
   "outputs": [],
   "source": [
    "sns.boxplot(data[\"Number of Reviews\"])"
   ]
  },
  {
   "cell_type": "markdown",
   "metadata": {
    "execution": {
     "iopub.execute_input": "2021-09-03T02:19:39.67538Z",
     "iopub.status.busy": "2021-09-03T02:19:39.675004Z",
     "iopub.status.idle": "2021-09-03T02:19:39.685085Z",
     "shell.execute_reply": "2021-09-03T02:19:39.683154Z",
     "shell.execute_reply.started": "2021-09-03T02:19:39.675338Z"
    }
   },
   "source": [
    "Принимаем решение, все значение свыше 200 будет объединены в одну группу. И присвоим им значение рейтинга равное 200."
   ]
  },
  {
   "cell_type": "code",
   "execution_count": null,
   "metadata": {
    "execution": {
     "iopub.execute_input": "2021-09-04T15:47:07.946730Z",
     "iopub.status.busy": "2021-09-04T15:47:07.946163Z",
     "iopub.status.idle": "2021-09-04T15:47:07.979139Z",
     "shell.execute_reply": "2021-09-04T15:47:07.978198Z",
     "shell.execute_reply.started": "2021-09-04T15:47:07.946507Z"
    }
   },
   "outputs": [],
   "source": [
    "data[\"Number of Reviews\"] = data[\"Number of Reviews\"].apply(lambda x:\n",
    "                                                            200 if x>200 else x)"
   ]
  },
  {
   "cell_type": "markdown",
   "metadata": {
    "execution": {
     "iopub.execute_input": "2021-08-27T16:19:18.222622Z",
     "iopub.status.busy": "2021-08-27T16:19:18.222294Z",
     "iopub.status.idle": "2021-08-27T16:19:18.255651Z",
     "shell.execute_reply": "2021-08-27T16:19:18.255023Z",
     "shell.execute_reply.started": "2021-08-27T16:19:18.222567Z"
    }
   },
   "source": [
    "# **Reviews**"
   ]
  },
  {
   "cell_type": "markdown",
   "metadata": {
    "execution": {
     "iopub.execute_input": "2021-08-27T16:21:44.269178Z",
     "iopub.status.busy": "2021-08-27T16:21:44.268853Z",
     "iopub.status.idle": "2021-08-27T16:21:44.275844Z",
     "shell.execute_reply": "2021-08-27T16:21:44.274812Z",
     "shell.execute_reply.started": "2021-08-27T16:21:44.269128Z"
    }
   },
   "source": [
    "Reviews содержит всего 2 Nan, заполним пропуски пустой строкой."
   ]
  },
  {
   "cell_type": "code",
   "execution_count": null,
   "metadata": {
    "execution": {
     "iopub.execute_input": "2021-09-04T15:47:07.981561Z",
     "iopub.status.busy": "2021-09-04T15:47:07.980923Z",
     "iopub.status.idle": "2021-09-04T15:47:08.000742Z",
     "shell.execute_reply": "2021-09-04T15:47:07.999737Z",
     "shell.execute_reply.started": "2021-09-04T15:47:07.981500Z"
    }
   },
   "outputs": [],
   "source": [
    "data['Reviews'].fillna(\"[[], []]\", inplace=True)"
   ]
  },
  {
   "cell_type": "code",
   "execution_count": null,
   "metadata": {
    "execution": {
     "iopub.execute_input": "2021-09-04T15:47:08.003071Z",
     "iopub.status.busy": "2021-09-04T15:47:08.002403Z",
     "iopub.status.idle": "2021-09-04T15:47:08.057928Z",
     "shell.execute_reply": "2021-09-04T15:47:08.056894Z",
     "shell.execute_reply.started": "2021-09-04T15:47:08.002997Z"
    }
   },
   "outputs": [],
   "source": [
    "# Проверим ещё раз данные на пропуски\n",
    "data.info()"
   ]
  },
  {
   "cell_type": "markdown",
   "metadata": {},
   "source": [
    "Все заполнено. Идем дальше"
   ]
  },
  {
   "cell_type": "markdown",
   "metadata": {},
   "source": [
    "### 2. Обработка признаков\n",
    "Для начала посмотрим какие признаки у нас могут быть категориальными."
   ]
  },
  {
   "cell_type": "code",
   "execution_count": null,
   "metadata": {
    "execution": {
     "iopub.execute_input": "2021-09-04T15:47:08.059969Z",
     "iopub.status.busy": "2021-09-04T15:47:08.059594Z",
     "iopub.status.idle": "2021-09-04T15:47:08.200804Z",
     "shell.execute_reply": "2021-09-04T15:47:08.199725Z",
     "shell.execute_reply.started": "2021-09-04T15:47:08.059895Z"
    }
   },
   "outputs": [],
   "source": [
    "data.nunique(dropna=False)"
   ]
  },
  {
   "cell_type": "markdown",
   "metadata": {},
   "source": [
    "Прежде чем приступить к обработке столбца City мы сгенерируем новый признак - количество ресторанов в одном городе."
   ]
  },
  {
   "cell_type": "markdown",
   "metadata": {},
   "source": [
    "#### Возьмем следующий признак \"Price Range\"."
   ]
  },
  {
   "cell_type": "code",
   "execution_count": null,
   "metadata": {
    "execution": {
     "iopub.execute_input": "2021-09-04T15:47:08.202906Z",
     "iopub.status.busy": "2021-09-04T15:47:08.202490Z",
     "iopub.status.idle": "2021-09-04T15:47:08.224970Z",
     "shell.execute_reply": "2021-09-04T15:47:08.223860Z",
     "shell.execute_reply.started": "2021-09-04T15:47:08.202837Z"
    }
   },
   "outputs": [],
   "source": [
    "data['Price Range'].value_counts()"
   ]
  },
  {
   "cell_type": "markdown",
   "metadata": {},
   "source": [
    "По описанию 'Price Range' это - Цены в ресторане.  \n",
    "Их можно поставить по возрастанию (значит это не категориальный признак). А это значит, что их можно заменить последовательными числами, например 1,2,3 "
   ]
  },
  {
   "cell_type": "code",
   "execution_count": null,
   "metadata": {
    "execution": {
     "iopub.execute_input": "2021-09-04T15:47:08.227074Z",
     "iopub.status.busy": "2021-09-04T15:47:08.226502Z",
     "iopub.status.idle": "2021-09-04T15:47:08.253140Z",
     "shell.execute_reply": "2021-09-04T15:47:08.252148Z",
     "shell.execute_reply.started": "2021-09-04T15:47:08.226738Z"
    }
   },
   "outputs": [],
   "source": [
    "data['Price Range'].value_counts()"
   ]
  },
  {
   "cell_type": "code",
   "execution_count": null,
   "metadata": {
    "execution": {
     "iopub.execute_input": "2021-09-04T15:47:08.255476Z",
     "iopub.status.busy": "2021-09-04T15:47:08.255043Z",
     "iopub.status.idle": "2021-09-04T15:47:08.264938Z",
     "shell.execute_reply": "2021-09-04T15:47:08.263908Z",
     "shell.execute_reply.started": "2021-09-04T15:47:08.255272Z"
    }
   },
   "outputs": [],
   "source": [
    "code_price_range = {\"$$ - $$$\": 2, \"$\": 1, \"$$$$\": 3}"
   ]
  },
  {
   "cell_type": "code",
   "execution_count": null,
   "metadata": {
    "execution": {
     "iopub.execute_input": "2021-09-04T15:47:08.267056Z",
     "iopub.status.busy": "2021-09-04T15:47:08.266757Z",
     "iopub.status.idle": "2021-09-04T15:47:08.309064Z",
     "shell.execute_reply": "2021-09-04T15:47:08.308056Z",
     "shell.execute_reply.started": "2021-09-04T15:47:08.267009Z"
    }
   },
   "outputs": [],
   "source": [
    "data[\"label_encoding_price\"] = data['Price Range'].apply(lambda x:\n",
    "                                                   code_price_range[x])"
   ]
  },
  {
   "cell_type": "markdown",
   "metadata": {},
   "source": [
    "> Для некоторых алгоритмов МЛ даже для не категориальных признаков можно применить One-Hot Encoding, и это может улучшить качество модели. Пробуйте разные подходы к кодированию признака - никто не знает заранее, что может взлететь."
   ]
  },
  {
   "cell_type": "markdown",
   "metadata": {},
   "source": [
    "### Обработка Cuisine Style"
   ]
  },
  {
   "cell_type": "code",
   "execution_count": null,
   "metadata": {
    "execution": {
     "iopub.execute_input": "2021-09-04T15:47:08.310779Z",
     "iopub.status.busy": "2021-09-04T15:47:08.310497Z",
     "iopub.status.idle": "2021-09-04T15:47:08.531288Z",
     "shell.execute_reply": "2021-09-04T15:47:08.530391Z",
     "shell.execute_reply.started": "2021-09-04T15:47:08.310734Z"
    }
   },
   "outputs": [],
   "source": [
    "# Преобразуем значение str в лист. \n",
    "data[\"Cuisine Style\"] = data[\"Cuisine Style\"].str.replace(\"'\", \"\")\\\n",
    "                        .str.strip('''['']''').str.split(', ')"
   ]
  },
  {
   "cell_type": "code",
   "execution_count": null,
   "metadata": {
    "execution": {
     "iopub.execute_input": "2021-09-04T15:47:08.533276Z",
     "iopub.status.busy": "2021-09-04T15:47:08.532809Z",
     "iopub.status.idle": "2021-09-04T15:47:08.568509Z",
     "shell.execute_reply": "2021-09-04T15:47:08.567301Z",
     "shell.execute_reply.started": "2021-09-04T15:47:08.533048Z"
    }
   },
   "outputs": [],
   "source": [
    "# Найдем уникальные значения.\n",
    "unique_cuisine_style = set()\n",
    "for list_ in data[\"Cuisine Style\"]:\n",
    "    unique_cuisine_style.update(list_)"
   ]
  },
  {
   "cell_type": "markdown",
   "metadata": {},
   "source": [
    "Закодируем данные перед построением модели, дабы не затруднять анализ данных на данном этапе."
   ]
  },
  {
   "cell_type": "markdown",
   "metadata": {
    "execution": {
     "iopub.execute_input": "2021-08-28T03:05:48.53128Z",
     "iopub.status.busy": "2021-08-28T03:05:48.53095Z",
     "iopub.status.idle": "2021-08-28T03:05:48.53522Z",
     "shell.execute_reply": "2021-08-28T03:05:48.534197Z",
     "shell.execute_reply.started": "2021-08-28T03:05:48.531241Z"
    }
   },
   "source": [
    "### Обработка Reviews"
   ]
  },
  {
   "cell_type": "markdown",
   "metadata": {},
   "source": [
    "#  Найдем в Reviews даты и занесем их в новый столбки\n"
   ]
  },
  {
   "cell_type": "code",
   "execution_count": null,
   "metadata": {
    "execution": {
     "iopub.execute_input": "2021-09-04T15:47:08.570374Z",
     "iopub.status.busy": "2021-09-04T15:47:08.569855Z",
     "iopub.status.idle": "2021-09-04T15:47:22.491004Z",
     "shell.execute_reply": "2021-09-04T15:47:22.489961Z",
     "shell.execute_reply.started": "2021-09-04T15:47:08.570204Z"
    }
   },
   "outputs": [],
   "source": [
    "data['Reviews data'] = data['Reviews'].apply(lambda x:\n",
    "                                             re.findall(r\"\\d\\d\\/\\d\\d\\/\\d{4}\",\n",
    "                                                        str(x)))\n",
    "data[['Date_1','Date_2']] = data['Reviews data'].apply(pd.Series, 1)\n",
    "data['Date_1'] = pd.to_datetime(data['Date_1'])\n",
    "data['Date_2'] = pd.to_datetime(data['Date_2'])\n",
    "# вычислим разницу между датами\n",
    "data['Delta review'] = abs(data['Date_1'] - data['Date_2'])\n",
    "# приведем разницу в дни\n",
    "data['Delta review'] = data['Delta review'].dt.days\n",
    "# пропуски заполняем средним значением\n",
    "data['Delta review'].fillna(round(data['Delta review'].mean()), inplace=True)"
   ]
  },
  {
   "cell_type": "code",
   "execution_count": null,
   "metadata": {
    "execution": {
     "iopub.execute_input": "2021-09-04T15:47:22.492809Z",
     "iopub.status.busy": "2021-09-04T15:47:22.492528Z",
     "iopub.status.idle": "2021-09-04T15:47:22.533820Z",
     "shell.execute_reply": "2021-09-04T15:47:22.532772Z",
     "shell.execute_reply.started": "2021-09-04T15:47:22.492763Z"
    }
   },
   "outputs": [],
   "source": [
    "# Сразу же удалим ненужные столбцы \n",
    "data.drop('Date_1', axis=1, inplace=True)\n",
    "data.drop('Date_2', axis=1, inplace=True)"
   ]
  },
  {
   "cell_type": "markdown",
   "metadata": {},
   "source": []
  },
  {
   "cell_type": "markdown",
   "metadata": {},
   "source": [
    "![](https://cs10.pikabu.ru/post_img/2018/09/06/11/1536261023140110012.jpg)"
   ]
  },
  {
   "cell_type": "markdown",
   "metadata": {},
   "source": [
    "# EDA \n",
    "Теперь займемся самым интересным.   \n",
    "[Exploratory Data Analysis](https://ru.wikipedia.org/wiki/Разведочный_анализ_данных) - Анализ данных\n",
    "На этом этапе мы строим графики, ищем закономерности, аномалии, выбросы или связи между признаками.\n",
    "В общем цель этого этапа понять, что эти данные могут нам дать и как признаки могут быть взаимосвязаны между собой.\n",
    "Понимание изначальных признаков позволит сгенерировать новые, более сильные и, тем самым, сделать нашу модель лучше.\n",
    "![](https://miro.medium.com/max/2598/1*RXdMb7Uk6mGqWqPguHULaQ.png)"
   ]
  },
  {
   "cell_type": "markdown",
   "metadata": {},
   "source": [
    "Создадим новые признаки. \n",
    "1) Количество ресторанов с одним ID. Предположим, что это сетевые рестораны или рестораны с одним владельцем.     \n",
    "2) Количество ресторанов в одном городе.    \n",
    "3) Население в городе.   \n",
    "4) Количество слов, которые придают положительный или негативный оттенок в комментариях.    \n",
    "5) Добавим признак. Количество кухонь в ресторане.   \n",
    "6) Отметим столицы.   \n",
    "7) Присоединим таблицу сost_of_living_index..         \n",
    "8) Отметим, к какой части Европы относятся города    \n",
    "9) Отметим топ 10 самых встречающихся городов в выборке    \n",
    "10) Добавим новый признак. Количество слов в комментариях    \n",
    "Прежде чем мы начнем считать новые признаки на основе старых, нормализуем числовые признаки.    \n",
    "11) Добавим признак. Население в городе, деленное на количество ресторанов.    \n",
    "12) Добавим признак. Население в городе деленное, на количество кухонь.    \n",
    "13) Добавим признак. Население в городе, деленное на рейтинг стоимости.   \n",
    "14) Вычисляем относительную позицию ресторана среди всех ресторанов города    \n",
    "15) Добавим признак. Рейтинг стоимости, умноженный на стоимость жизни     \n",
    "16) Добавим признак. Рейтинг стоимости, деленный на покупательскую способность    \n",
    "17) Добавим признак. Покупательскую способность разделим на население    \n",
    "18) Добавим признак. Как часто оставляют отзывы. Разделим население на количество отзывов    \n",
    "\n"
   ]
  },
  {
   "cell_type": "markdown",
   "metadata": {},
   "source": [
    "# 1) Количество ресторанов с одним ID. Предположим, что это сетевые рестораны или рестораны с одним владельцем. "
   ]
  },
  {
   "cell_type": "code",
   "execution_count": null,
   "metadata": {
    "execution": {
     "iopub.execute_input": "2021-09-04T15:47:22.536269Z",
     "iopub.status.busy": "2021-09-04T15:47:22.535702Z",
     "iopub.status.idle": "2021-09-04T15:47:23.225102Z",
     "shell.execute_reply": "2021-09-04T15:47:23.224045Z",
     "shell.execute_reply.started": "2021-09-04T15:47:22.536049Z"
    }
   },
   "outputs": [],
   "source": [
    "number_by_ID = data[\"Restaurant_id\"].value_counts()\n",
    "data[\"number_by_ID\"] = data[\"Restaurant_id\"].apply(\n",
    "    lambda x: number_by_ID[x])"
   ]
  },
  {
   "cell_type": "markdown",
   "metadata": {},
   "source": [
    "# 2) Количество ресторанов в одном городе."
   ]
  },
  {
   "cell_type": "code",
   "execution_count": null,
   "metadata": {
    "execution": {
     "iopub.execute_input": "2021-09-04T15:47:23.227536Z",
     "iopub.status.busy": "2021-09-04T15:47:23.226943Z",
     "iopub.status.idle": "2021-09-04T15:47:23.888302Z",
     "shell.execute_reply": "2021-09-04T15:47:23.887330Z",
     "shell.execute_reply.started": "2021-09-04T15:47:23.227290Z"
    }
   },
   "outputs": [],
   "source": [
    "# Количество ресторанов в одном городе.\n",
    "number_by_city = data[\"City\"].value_counts()\n",
    "data[\"number_by_city\"] = data[\"City\"].apply(\n",
    "    lambda x: number_by_city[x])"
   ]
  },
  {
   "cell_type": "markdown",
   "metadata": {},
   "source": [
    "# 3) Население в городе.   "
   ]
  },
  {
   "cell_type": "code",
   "execution_count": null,
   "metadata": {
    "execution": {
     "iopub.execute_input": "2021-09-04T15:47:23.889959Z",
     "iopub.status.busy": "2021-09-04T15:47:23.889670Z",
     "iopub.status.idle": "2021-09-04T15:47:23.932781Z",
     "shell.execute_reply": "2021-09-04T15:47:23.931725Z",
     "shell.execute_reply.started": "2021-09-04T15:47:23.889909Z"
    }
   },
   "outputs": [],
   "source": [
    "data = data.join(worldcities.set_index('city_ascii'), on='City') "
   ]
  },
  {
   "cell_type": "markdown",
   "metadata": {},
   "source": [
    "# 4) Количество слов, которые придают положительный или негативный оттенок в комментариях.    "
   ]
  },
  {
   "cell_type": "code",
   "execution_count": null,
   "metadata": {
    "execution": {
     "iopub.execute_input": "2021-09-04T15:47:23.934865Z",
     "iopub.status.busy": "2021-09-04T15:47:23.934479Z",
     "iopub.status.idle": "2021-09-04T15:47:23.942045Z",
     "shell.execute_reply": "2021-09-04T15:47:23.941069Z",
     "shell.execute_reply.started": "2021-09-04T15:47:23.934796Z"
    }
   },
   "outputs": [],
   "source": [
    "def count_words(line, words):\n",
    "    '''Функция принимает на вход строку и список слов\n",
    "    и возвращает количество слов встреченных в строке из списка '''\n",
    "    list_count = list()\n",
    "    for text in line:\n",
    "        text_words = set(re.findall(r'\\w+', text.casefold()))\n",
    "        test = sum(w in text_words for w in set(map(str.casefold, words)))\n",
    "        list_count.append(test)\n",
    "    return list_count\n"
   ]
  },
  {
   "cell_type": "code",
   "execution_count": null,
   "metadata": {
    "execution": {
     "iopub.execute_input": "2021-09-04T15:47:23.944722Z",
     "iopub.status.busy": "2021-09-04T15:47:23.944002Z",
     "iopub.status.idle": "2021-09-04T15:47:23.966691Z",
     "shell.execute_reply": "2021-09-04T15:47:23.965701Z",
     "shell.execute_reply.started": "2021-09-04T15:47:23.944654Z"
    }
   },
   "outputs": [],
   "source": [
    "# Список слов с положительным оттенком.\n",
    "good_words = ['good', 'great', 'nice', 'best', 'excellent', 'delicious',\n",
    "             'friendly', 'lovely', 'amazing', 'tasty', 'fine',\n",
    "              'Piping hot', 'Tender' , 'well', 'palatable']"
   ]
  },
  {
   "cell_type": "code",
   "execution_count": null,
   "metadata": {
    "execution": {
     "iopub.execute_input": "2021-09-04T15:47:23.968783Z",
     "iopub.status.busy": "2021-09-04T15:47:23.968129Z",
     "iopub.status.idle": "2021-09-04T15:47:23.982890Z",
     "shell.execute_reply": "2021-09-04T15:47:23.981396Z",
     "shell.execute_reply.started": "2021-09-04T15:47:23.968691Z"
    }
   },
   "outputs": [],
   "source": [
    "# Список слов с отрицательным оттенком.\n",
    "bad_words = ['terrible', 'horrible', 'awful', 'dreadful', 'horrendous',\n",
    "             'Raw', 'Tasteless', 'Bland ','Salty', 'Bitter', 'Sour',\n",
    "             'Rancid', 'Tough']"
   ]
  },
  {
   "cell_type": "code",
   "execution_count": null,
   "metadata": {
    "execution": {
     "iopub.execute_input": "2021-09-04T15:47:23.985210Z",
     "iopub.status.busy": "2021-09-04T15:47:23.984824Z",
     "iopub.status.idle": "2021-09-04T15:47:25.391761Z",
     "shell.execute_reply": "2021-09-04T15:47:25.390722Z",
     "shell.execute_reply.started": "2021-09-04T15:47:23.985140Z"
    }
   },
   "outputs": [],
   "source": [
    "# Выделим отдельные списки, и запустим нашу функцию.\n",
    "data_Reviews = data[\"Reviews\"]\n",
    "count_of_good_words = count_words(data_Reviews, good_words)\n",
    "count_of_bad_words = count_words(data_Reviews, bad_words)"
   ]
  },
  {
   "cell_type": "code",
   "execution_count": null,
   "metadata": {
    "execution": {
     "iopub.execute_input": "2021-09-04T15:47:25.393274Z",
     "iopub.status.busy": "2021-09-04T15:47:25.393041Z",
     "iopub.status.idle": "2021-09-04T15:47:25.443746Z",
     "shell.execute_reply": "2021-09-04T15:47:25.442616Z",
     "shell.execute_reply.started": "2021-09-04T15:47:25.393240Z"
    }
   },
   "outputs": [],
   "source": [
    "# Добавим результаты в дата фрейм\n",
    "data[\"count_of_good_words\"] = count_of_good_words\n",
    "data[\"count_of_bad_words\"] = count_of_bad_words"
   ]
  },
  {
   "cell_type": "code",
   "execution_count": null,
   "metadata": {
    "execution": {
     "iopub.execute_input": "2021-09-04T15:47:25.445435Z",
     "iopub.status.busy": "2021-09-04T15:47:25.445136Z",
     "iopub.status.idle": "2021-09-04T15:47:25.494811Z",
     "shell.execute_reply": "2021-09-04T15:47:25.493804Z",
     "shell.execute_reply.started": "2021-09-04T15:47:25.445370Z"
    }
   },
   "outputs": [],
   "source": [
    "# Посмотрим сразу и на распределение новых признаков\n",
    "data[[\"count_of_good_words\", \"count_of_bad_words\"]].describe()"
   ]
  },
  {
   "cell_type": "markdown",
   "metadata": {},
   "source": [
    "Смотря на данные можно сделать вывод, что люди чаще оставляют положительный отзыв."
   ]
  },
  {
   "cell_type": "markdown",
   "metadata": {},
   "source": [
    "# 5) Добавим признак. Количество кухонь в ресторане.     "
   ]
  },
  {
   "cell_type": "code",
   "execution_count": null,
   "metadata": {
    "execution": {
     "iopub.execute_input": "2021-09-04T15:47:25.496827Z",
     "iopub.status.busy": "2021-09-04T15:47:25.496442Z",
     "iopub.status.idle": "2021-09-04T15:47:25.568062Z",
     "shell.execute_reply": "2021-09-04T15:47:25.566913Z",
     "shell.execute_reply.started": "2021-09-04T15:47:25.496757Z"
    }
   },
   "outputs": [],
   "source": [
    "# Количество кухонь в городе. \n",
    "def city_cuisine_count (cuis_st):\n",
    "    '''функция принимает сгруппированные по городу данные\n",
    "    и возвращает количество уникальных стилей кухонь по городу'''\n",
    "    cuisine_set = set()\n",
    "    \n",
    "    for x in cuis_st[\"Cuisine Style\"]:\n",
    "        cuisine_set.update(x)\n",
    "    return len(cuisine_set) \n",
    "\n",
    "\n",
    "\n",
    "number_of_unique_cuisines = data[['City','Cuisine Style']]\\\n",
    ".groupby('City').apply(lambda x: city_cuisine_count(x))\n",
    "\n",
    "data['number_of_unique_cuisines'] = data.City.map(number_of_unique_cuisines)"
   ]
  },
  {
   "cell_type": "markdown",
   "metadata": {},
   "source": [
    "# 6) Отметим столицы.    "
   ]
  },
  {
   "cell_type": "code",
   "execution_count": null,
   "metadata": {
    "execution": {
     "iopub.execute_input": "2021-09-04T15:47:25.570102Z",
     "iopub.status.busy": "2021-09-04T15:47:25.569701Z",
     "iopub.status.idle": "2021-09-04T15:47:25.616689Z",
     "shell.execute_reply": "2021-09-04T15:47:25.615634Z",
     "shell.execute_reply.started": "2021-09-04T15:47:25.570002Z"
    }
   },
   "outputs": [],
   "source": [
    "# Отметим столицы.\n",
    "# Для начала создадим список со столицами\n",
    "capital = ['Barcelona', 'Milan', 'Hamburg', 'Munich', \n",
    "                          'Lyon', 'Zurich', 'Oporto', 'Geneva', 'Krakow']\n",
    "data['is_capital'] = data['City'].apply(lambda x: 0 if x in capital else 1)"
   ]
  },
  {
   "cell_type": "markdown",
   "metadata": {
    "execution": {
     "iopub.execute_input": "2021-08-31T16:05:54.611115Z",
     "iopub.status.busy": "2021-08-31T16:05:54.610772Z",
     "iopub.status.idle": "2021-08-31T16:05:54.614573Z",
     "shell.execute_reply": "2021-08-31T16:05:54.613972Z",
     "shell.execute_reply.started": "2021-08-31T16:05:54.611031Z"
    }
   },
   "source": [
    "# 7) Присоеденим таблицу сost_of_living_index.         "
   ]
  },
  {
   "cell_type": "code",
   "execution_count": null,
   "metadata": {
    "execution": {
     "iopub.execute_input": "2021-09-04T15:47:25.618826Z",
     "iopub.status.busy": "2021-09-04T15:47:25.618415Z",
     "iopub.status.idle": "2021-09-04T15:47:25.653869Z",
     "shell.execute_reply": "2021-09-04T15:47:25.652780Z",
     "shell.execute_reply.started": "2021-09-04T15:47:25.618753Z"
    }
   },
   "outputs": [],
   "source": [
    "data = data.join(сost_of_living_index.set_index('City'), on='City') "
   ]
  },
  {
   "cell_type": "markdown",
   "metadata": {},
   "source": [
    "# 8) Отметим, к какой части Европы относятся города.     "
   ]
  },
  {
   "cell_type": "code",
   "execution_count": null,
   "metadata": {
    "execution": {
     "iopub.execute_input": "2021-09-04T15:47:25.655963Z",
     "iopub.status.busy": "2021-09-04T15:47:25.655594Z",
     "iopub.status.idle": "2021-09-04T15:47:25.664230Z",
     "shell.execute_reply": "2021-09-04T15:47:25.663026Z",
     "shell.execute_reply.started": "2021-09-04T15:47:25.655892Z"
    }
   },
   "outputs": [],
   "source": [
    "# Предварительно отсортируем и создадим списки. \n",
    "city = data['City']\n",
    "westert_europe = ['Paris', 'Edinburgh', 'London', 'Munich', 'Hamburg',\n",
    "                  'Vienna', 'Dublin', 'Brussels', 'Amsterdam', 'Berlin',\n",
    "                  'Lyon', 'Luxembourg'\n",
    "                 ]\n",
    "northern_europe = ['Helsinki', 'Stockholm', 'Oslo', 'Copenhagen', 'Zurich',\n",
    "                   'Geneva'\n",
    "                  ]\n",
    "eastern_europe = ['Bratislava', 'Budapest', 'Prague', 'Warsaw', 'Krakow']\n",
    "southern_europe = ['Lisbon', 'Rome', 'Milan', 'Barcelona', 'Madrid', 'Athens',\n",
    "                   'Oporto', 'Ljubljana'\n",
    "                  ]"
   ]
  },
  {
   "cell_type": "code",
   "execution_count": null,
   "metadata": {
    "execution": {
     "iopub.execute_input": "2021-09-04T15:47:25.666246Z",
     "iopub.status.busy": "2021-09-04T15:47:25.665876Z",
     "iopub.status.idle": "2021-09-04T15:47:25.679137Z",
     "shell.execute_reply": "2021-09-04T15:47:25.677960Z",
     "shell.execute_reply.started": "2021-09-04T15:47:25.666180Z"
    }
   },
   "outputs": [],
   "source": [
    "#  Напишем функцию для заполнения наших признаков.\n",
    "def europe_coding(city, europe_type):\n",
    "    '''Функция принимает списко городов и список городов входящих\n",
    "    в определунню часть европу'''\n",
    "    for i in city:\n",
    "        if i in europe_type:\n",
    "            return 1\n",
    "        else:\n",
    "            return 0"
   ]
  },
  {
   "cell_type": "code",
   "execution_count": null,
   "metadata": {
    "execution": {
     "iopub.execute_input": "2021-09-04T15:47:25.680985Z",
     "iopub.status.busy": "2021-09-04T15:47:25.680692Z",
     "iopub.status.idle": "2021-09-04T15:47:25.705301Z",
     "shell.execute_reply": "2021-09-04T15:47:25.704282Z",
     "shell.execute_reply.started": "2021-09-04T15:47:25.680931Z"
    }
   },
   "outputs": [],
   "source": [
    "is_westert_europe = europe_coding(city, westert_europe)\n",
    "is_northern_europe = europe_coding(city, northern_europe)\n",
    "is_eastern_europe = europe_coding(city, eastern_europe)\n",
    "is_southern_europe = europe_coding(city, southern_europe)\n",
    "data['is_westert_europe'] = is_westert_europe\n",
    "data['is_northern_europe'] = is_northern_europe\n",
    "data['is_eastern_europe'] = is_eastern_europe\n",
    "data['is_southern_europe'] = is_southern_europe"
   ]
  },
  {
   "cell_type": "markdown",
   "metadata": {
    "execution": {
     "iopub.execute_input": "2021-08-29T14:51:02.659155Z",
     "iopub.status.busy": "2021-08-29T14:51:02.658642Z",
     "iopub.status.idle": "2021-08-29T14:51:02.666288Z",
     "shell.execute_reply": "2021-08-29T14:51:02.664695Z",
     "shell.execute_reply.started": "2021-08-29T14:51:02.659101Z"
    }
   },
   "source": [
    "Отметим, что в выборке больше всего данных из Восточной Европы и меньше всего из Восточной Европы. "
   ]
  },
  {
   "cell_type": "markdown",
   "metadata": {},
   "source": [
    "# 9) Отметим топ 10 самых встречающихся городов в выборке. "
   ]
  },
  {
   "cell_type": "code",
   "execution_count": null,
   "metadata": {
    "execution": {
     "iopub.execute_input": "2021-09-04T15:47:25.707501Z",
     "iopub.status.busy": "2021-09-04T15:47:25.706856Z",
     "iopub.status.idle": "2021-09-04T15:47:25.734716Z",
     "shell.execute_reply": "2021-09-04T15:47:25.733755Z",
     "shell.execute_reply.started": "2021-09-04T15:47:25.707426Z"
    }
   },
   "outputs": [],
   "source": [
    "# Отметим топ 10 самых больших городов\n",
    "top_10_city = data['City'].value_counts()[0:10].index\n",
    "# Создадим наш будущий признак, воспользуемся функцией europe_coding\n",
    "top_10_city_list = europe_coding(top_10_city,data[\"City\"])\n",
    "data[\"Top_10_City\"] = top_10_city_list"
   ]
  },
  {
   "cell_type": "markdown",
   "metadata": {},
   "source": [
    "# 10) Добавим новый признак. Количество слов в комментариях**"
   ]
  },
  {
   "cell_type": "code",
   "execution_count": null,
   "metadata": {
    "execution": {
     "iopub.execute_input": "2021-09-04T15:47:25.736327Z",
     "iopub.status.busy": "2021-09-04T15:47:25.736070Z",
     "iopub.status.idle": "2021-09-04T15:47:25.743216Z",
     "shell.execute_reply": "2021-09-04T15:47:25.742473Z",
     "shell.execute_reply.started": "2021-09-04T15:47:25.736291Z"
    }
   },
   "outputs": [],
   "source": [
    "#  Напишем функцию, для нахождения количества слов\n",
    "def count_words (rev):\n",
    "    '''Функция принимает в себя строку \n",
    "    и возращает её длинну'''\n",
    "    sentence = rev.split(\"], [\")[0]\n",
    "    sentence = sentence.replace('[',\"\").replace(\"'\",\"\")\n",
    "    return (len(sentence.split(\" \")))\n"
   ]
  },
  {
   "cell_type": "code",
   "execution_count": null,
   "metadata": {
    "execution": {
     "iopub.execute_input": "2021-09-04T15:47:25.744846Z",
     "iopub.status.busy": "2021-09-04T15:47:25.744509Z",
     "iopub.status.idle": "2021-09-04T15:47:25.884246Z",
     "shell.execute_reply": "2021-09-04T15:47:25.883246Z",
     "shell.execute_reply.started": "2021-09-04T15:47:25.744793Z"
    }
   },
   "outputs": [],
   "source": [
    "data[\"count_words\"] = data[\"Reviews\"].apply(lambda x: count_words(x))"
   ]
  },
  {
   "cell_type": "markdown",
   "metadata": {},
   "source": [
    "# **Прежде чем мы начнем считать новые признаки на основе старых, нормализуем числовые признаки.**"
   ]
  },
  {
   "cell_type": "code",
   "execution_count": null,
   "metadata": {
    "execution": {
     "iopub.execute_input": "2021-09-04T15:47:25.886479Z",
     "iopub.status.busy": "2021-09-04T15:47:25.886052Z",
     "iopub.status.idle": "2021-09-04T15:47:25.918611Z",
     "shell.execute_reply": "2021-09-04T15:47:25.917643Z",
     "shell.execute_reply.started": "2021-09-04T15:47:25.886407Z"
    }
   },
   "outputs": [],
   "source": [
    "for i in data:\n",
    "    if not(data[i].dtype == object):\n",
    "        array_before =  np.array(data[i])\n",
    "        array_before = array_before.reshape(1, -1)\n",
    "        array_normalize = preprocessing.normalize(array_before)\n",
    "        array_after = array_before.reshape(-1,1)\n",
    "        data[i] = array_after"
   ]
  },
  {
   "cell_type": "markdown",
   "metadata": {},
   "source": [
    "# 11) Добавим признак. Население в городе, деленное на количество ресторанов."
   ]
  },
  {
   "cell_type": "code",
   "execution_count": null,
   "metadata": {
    "execution": {
     "iopub.execute_input": "2021-09-04T15:47:25.920692Z",
     "iopub.status.busy": "2021-09-04T15:47:25.920286Z",
     "iopub.status.idle": "2021-09-04T15:47:27.697867Z",
     "shell.execute_reply": "2021-09-04T15:47:27.696852Z",
     "shell.execute_reply.started": "2021-09-04T15:47:25.920619Z"
    }
   },
   "outputs": [],
   "source": [
    "data['pop_res'] = data.apply(lambda x: x['population'] / x[\"number_by_city\"],\n",
    "                             axis=1)\n"
   ]
  },
  {
   "cell_type": "markdown",
   "metadata": {},
   "source": [
    "# 12) Добавим признак. Население в городе деленное, на количество кухонь.  "
   ]
  },
  {
   "cell_type": "code",
   "execution_count": null,
   "metadata": {
    "execution": {
     "iopub.execute_input": "2021-09-04T15:47:27.699390Z",
     "iopub.status.busy": "2021-09-04T15:47:27.699121Z",
     "iopub.status.idle": "2021-09-04T15:47:29.466602Z",
     "shell.execute_reply": "2021-09-04T15:47:29.465537Z",
     "shell.execute_reply.started": "2021-09-04T15:47:27.699332Z"
    }
   },
   "outputs": [],
   "source": [
    "data['pop_cuis'] = data.apply(lambda x:\n",
    "                              x['population'] / x['number_of_unique_cuisines'],\n",
    "                              axis=1)"
   ]
  },
  {
   "cell_type": "markdown",
   "metadata": {},
   "source": [
    "# 13) Добавим признак. Население в городе, деленное на рейтинг стоимости.   "
   ]
  },
  {
   "cell_type": "code",
   "execution_count": null,
   "metadata": {
    "execution": {
     "iopub.execute_input": "2021-09-04T15:47:29.468093Z",
     "iopub.status.busy": "2021-09-04T15:47:29.467828Z",
     "iopub.status.idle": "2021-09-04T15:47:31.218764Z",
     "shell.execute_reply": "2021-09-04T15:47:31.217580Z",
     "shell.execute_reply.started": "2021-09-04T15:47:29.468050Z"
    }
   },
   "outputs": [],
   "source": [
    "data['pop_price'] = data.apply(lambda x:\n",
    "                              x['population'] / x['label_encoding_price'],\n",
    "                              axis=1)"
   ]
  },
  {
   "cell_type": "markdown",
   "metadata": {},
   "source": [
    "# 14) Вычисляем относительную позицию ресторана среди всех ресторанов города"
   ]
  },
  {
   "cell_type": "code",
   "execution_count": null,
   "metadata": {
    "execution": {
     "iopub.execute_input": "2021-09-04T15:47:31.220324Z",
     "iopub.status.busy": "2021-09-04T15:47:31.220065Z",
     "iopub.status.idle": "2021-09-04T15:47:31.488907Z",
     "shell.execute_reply": "2021-09-04T15:47:31.487838Z",
     "shell.execute_reply.started": "2021-09-04T15:47:31.220282Z"
    }
   },
   "outputs": [],
   "source": [
    "data[\"rank_number_by_city\"] = data['Ranking'] / data['number_by_city']"
   ]
  },
  {
   "cell_type": "markdown",
   "metadata": {},
   "source": [
    "# 15) Добавим признак. Рейтинг стоимости, умноженный на стоимость жизни"
   ]
  },
  {
   "cell_type": "code",
   "execution_count": null,
   "metadata": {
    "execution": {
     "iopub.execute_input": "2021-09-04T15:47:31.490327Z",
     "iopub.status.busy": "2021-09-04T15:47:31.490097Z",
     "iopub.status.idle": "2021-09-04T15:47:33.299424Z",
     "shell.execute_reply": "2021-09-04T15:47:33.298210Z",
     "shell.execute_reply.started": "2021-09-04T15:47:31.490292Z"
    }
   },
   "outputs": [],
   "source": [
    "data['price_cost_of_liv'] = data.apply(lambda x:\n",
    "                            x['label_encoding_price']/ x['Cost of Living Index'],\n",
    "                              axis=1)"
   ]
  },
  {
   "cell_type": "markdown",
   "metadata": {},
   "source": [
    "# 16) Добавим признак. Рейтинг стоимости, деленный на покупательскую способность"
   ]
  },
  {
   "cell_type": "code",
   "execution_count": null,
   "metadata": {
    "execution": {
     "iopub.execute_input": "2021-09-04T15:47:33.301675Z",
     "iopub.status.busy": "2021-09-04T15:47:33.301086Z",
     "iopub.status.idle": "2021-09-04T15:47:35.120682Z",
     "shell.execute_reply": "2021-09-04T15:47:35.119658Z",
     "shell.execute_reply.started": "2021-09-04T15:47:33.301425Z"
    }
   },
   "outputs": [],
   "source": [
    "data['price_pur_power'] = data.apply(lambda x:\n",
    "                            x['label_encoding_price'] / x['Local Purchasing Power Index'],\n",
    "                              axis=1) "
   ]
  },
  {
   "cell_type": "markdown",
   "metadata": {},
   "source": [
    "# 17) Добавим признак. Покупательскую способность умножим на население"
   ]
  },
  {
   "cell_type": "code",
   "execution_count": null,
   "metadata": {
    "execution": {
     "iopub.execute_input": "2021-09-04T15:47:35.123256Z",
     "iopub.status.busy": "2021-09-04T15:47:35.122710Z",
     "iopub.status.idle": "2021-09-04T15:47:36.907989Z",
     "shell.execute_reply": "2021-09-04T15:47:36.906852Z",
     "shell.execute_reply.started": "2021-09-04T15:47:35.123055Z"
    }
   },
   "outputs": [],
   "source": [
    "data['pop_loc_pur'] = data.apply(lambda x:\n",
    "                            x['Local Purchasing Power Index'] *  x['population'],\n",
    "                              axis=1)"
   ]
  },
  {
   "cell_type": "markdown",
   "metadata": {},
   "source": [
    "# 18) Добавим признак. Как часто оставляют отзывы. Разделим население на количество отзывов"
   ]
  },
  {
   "cell_type": "code",
   "execution_count": null,
   "metadata": {
    "execution": {
     "iopub.execute_input": "2021-09-04T15:47:36.909658Z",
     "iopub.status.busy": "2021-09-04T15:47:36.909336Z",
     "iopub.status.idle": "2021-09-04T15:47:39.246537Z",
     "shell.execute_reply": "2021-09-04T15:47:39.245235Z",
     "shell.execute_reply.started": "2021-09-04T15:47:36.909605Z"
    }
   },
   "outputs": [],
   "source": [
    "data['pop_num_rev'] = data.apply(lambda x:\n",
    "                            x['population'] / x['Number of Reviews']\n",
    "                                 if x['Number of Reviews'] != 0  else 0,\n",
    "                              axis=1)"
   ]
  },
  {
   "cell_type": "markdown",
   "metadata": {},
   "source": [
    "### Посмотрим распределение признака"
   ]
  },
  {
   "cell_type": "code",
   "execution_count": null,
   "metadata": {
    "execution": {
     "iopub.execute_input": "2021-09-04T15:47:39.248317Z",
     "iopub.status.busy": "2021-09-04T15:47:39.247994Z",
     "iopub.status.idle": "2021-09-04T15:47:39.682739Z",
     "shell.execute_reply": "2021-09-04T15:47:39.681623Z",
     "shell.execute_reply.started": "2021-09-04T15:47:39.248258Z"
    }
   },
   "outputs": [],
   "source": [
    "plt.rcParams['figure.figsize'] = (10,7)\n",
    "df_train['Ranking'].hist(bins=100)"
   ]
  },
  {
   "cell_type": "markdown",
   "metadata": {
    "execution": {
     "iopub.execute_input": "2021-09-04T15:47:39.684968Z",
     "iopub.status.busy": "2021-09-04T15:47:39.684402Z",
     "iopub.status.idle": "2021-09-04T15:47:39.693856Z",
     "shell.execute_reply": "2021-09-04T15:47:39.691888Z",
     "shell.execute_reply.started": "2021-09-04T15:47:39.684728Z"
    }
   },
   "source": [
    "У нас много ресторанов, которые не дотягивают и до 2500 места в своем городе, а что там по городам?"
   ]
  },
  {
   "cell_type": "code",
   "execution_count": null,
   "metadata": {
    "execution": {
     "iopub.execute_input": "2021-09-04T15:48:02.603967Z",
     "iopub.status.busy": "2021-09-04T15:48:02.603673Z",
     "iopub.status.idle": "2021-09-04T15:48:02.986334Z",
     "shell.execute_reply": "2021-09-04T15:48:02.985266Z",
     "shell.execute_reply.started": "2021-09-04T15:48:02.603931Z"
    }
   },
   "outputs": [],
   "source": [
    "df_train['City'].value_counts(ascending=True).plot(kind='barh')"
   ]
  },
  {
   "cell_type": "markdown",
   "metadata": {},
   "source": [
    "А кто-то говорил, что французы любят поесть=) Посмотрим, как изменится распределение в большом городе:"
   ]
  },
  {
   "cell_type": "code",
   "execution_count": null,
   "metadata": {
    "execution": {
     "iopub.execute_input": "2021-09-04T15:48:51.422731Z",
     "iopub.status.busy": "2021-09-04T15:48:51.422295Z",
     "iopub.status.idle": "2021-09-04T15:48:51.939552Z",
     "shell.execute_reply": "2021-09-04T15:48:51.938472Z",
     "shell.execute_reply.started": "2021-09-04T15:48:51.422674Z"
    }
   },
   "outputs": [],
   "source": [
    "df_train['Ranking'][df_train['City'] =='London'].hist(bins=100)"
   ]
  },
  {
   "cell_type": "code",
   "execution_count": null,
   "metadata": {
    "execution": {
     "iopub.execute_input": "2021-09-04T15:48:51.943999Z",
     "iopub.status.busy": "2021-09-04T15:48:51.941989Z",
     "iopub.status.idle": "2021-09-04T15:48:54.536844Z",
     "shell.execute_reply": "2021-09-04T15:48:54.536019Z",
     "shell.execute_reply.started": "2021-09-04T15:48:51.943905Z"
    }
   },
   "outputs": [],
   "source": [
    "# посмотрим на топ 10 городов\n",
    "for x in (df_train['City'].value_counts())[0:10].index:\n",
    "    df_train['Ranking'][df_train['City'] == x].hist(bins=100)\n",
    "plt.show()"
   ]
  },
  {
   "cell_type": "markdown",
   "metadata": {},
   "source": [
    "### Посмотрим распределение целевой переменной"
   ]
  },
  {
   "cell_type": "code",
   "execution_count": null,
   "metadata": {
    "execution": {
     "iopub.execute_input": "2021-09-04T15:48:54.538251Z",
     "iopub.status.busy": "2021-09-04T15:48:54.538006Z",
     "iopub.status.idle": "2021-09-04T15:48:54.842876Z",
     "shell.execute_reply": "2021-09-04T15:48:54.841452Z",
     "shell.execute_reply.started": "2021-09-04T15:48:54.538216Z"
    }
   },
   "outputs": [],
   "source": [
    "df_train['Rating'].value_counts(ascending=True).plot(kind='barh')"
   ]
  },
  {
   "cell_type": "markdown",
   "metadata": {},
   "source": [
    "### Посмотрим распределение целевой переменной относительно признака"
   ]
  },
  {
   "cell_type": "code",
   "execution_count": null,
   "metadata": {
    "execution": {
     "iopub.execute_input": "2021-09-04T15:48:54.845677Z",
     "iopub.status.busy": "2021-09-04T15:48:54.844934Z",
     "iopub.status.idle": "2021-09-04T15:48:55.395892Z",
     "shell.execute_reply": "2021-09-04T15:48:55.394814Z",
     "shell.execute_reply.started": "2021-09-04T15:48:54.845299Z"
    }
   },
   "outputs": [],
   "source": [
    "df_train['Ranking'][df_train['Rating'] == 5].hist(bins=100)"
   ]
  },
  {
   "cell_type": "code",
   "execution_count": null,
   "metadata": {
    "execution": {
     "iopub.execute_input": "2021-09-04T15:48:55.401186Z",
     "iopub.status.busy": "2021-09-04T15:48:55.400388Z",
     "iopub.status.idle": "2021-09-04T15:48:55.916796Z",
     "shell.execute_reply": "2021-09-04T15:48:55.915328Z",
     "shell.execute_reply.started": "2021-09-04T15:48:55.401113Z"
    }
   },
   "outputs": [],
   "source": [
    "df_train['Ranking'][df_train['Rating'] < 4].hist(bins=100)"
   ]
  },
  {
   "cell_type": "code",
   "execution_count": null,
   "metadata": {
    "execution": {
     "iopub.execute_input": "2021-09-04T15:48:55.920963Z",
     "iopub.status.busy": "2021-09-04T15:48:55.920314Z",
     "iopub.status.idle": "2021-09-04T15:48:55.997140Z",
     "shell.execute_reply": "2021-09-04T15:48:55.996104Z",
     "shell.execute_reply.started": "2021-09-04T15:48:55.920702Z"
    }
   },
   "outputs": [],
   "source": [
    "data.info()"
   ]
  },
  {
   "cell_type": "markdown",
   "metadata": {},
   "source": [
    "# **Закодируем \"Cuisine Style\" и 'City'**"
   ]
  },
  {
   "cell_type": "code",
   "execution_count": null,
   "metadata": {
    "execution": {
     "iopub.execute_input": "2021-09-04T15:48:55.998640Z",
     "iopub.status.busy": "2021-09-04T15:48:55.998385Z",
     "iopub.status.idle": "2021-09-04T15:48:56.048521Z",
     "shell.execute_reply": "2021-09-04T15:48:56.047630Z",
     "shell.execute_reply.started": "2021-09-04T15:48:55.998598Z"
    }
   },
   "outputs": [],
   "source": [
    "# закодируем City Способом One-Hot Encoding в pandas есть готовая функция - get_dummies. Особенно радует параметр dummy_na\n",
    "data = pd.get_dummies(data, columns=[ 'City',], dummy_na=True)"
   ]
  },
  {
   "cell_type": "markdown",
   "metadata": {},
   "source": [
    "Напишем функцию, которая проведет кодирование,    \n",
    "но предварительно из уникальных кухонь удалим local    \n",
    "т.к. данный столбец будет полностью повторять 'Number_of_Cuisine_Style_isNAN'\n"
   ]
  },
  {
   "cell_type": "code",
   "execution_count": null,
   "metadata": {
    "execution": {
     "iopub.execute_input": "2021-09-04T15:48:56.050433Z",
     "iopub.status.busy": "2021-09-04T15:48:56.050078Z",
     "iopub.status.idle": "2021-09-04T15:49:01.262019Z",
     "shell.execute_reply": "2021-09-04T15:49:01.260810Z",
     "shell.execute_reply.started": "2021-09-04T15:48:56.050340Z"
    }
   },
   "outputs": [],
   "source": [
    "unique_cuisine_style.remove(\"local\")\n",
    "\n",
    "for cuisine in unique_cuisine_style:\n",
    "    cuisine_array = list() # лист для добавления в датафрейм\n",
    "    for cuisine_data in data[\"Cuisine Style\"]:\n",
    "        if cuisine in cuisine_data:\n",
    "            cuisine_array.append(1)\n",
    "        else:\n",
    "            cuisine_array.append(0)\n",
    "    data[cuisine] = cuisine_array"
   ]
  },
  {
   "cell_type": "markdown",
   "metadata": {
    "execution": {
     "iopub.execute_input": "2021-08-31T15:21:41.700495Z",
     "iopub.status.busy": "2021-08-31T15:21:41.700182Z",
     "iopub.status.idle": "2021-08-31T15:21:41.707781Z",
     "shell.execute_reply": "2021-08-31T15:21:41.706135Z",
     "shell.execute_reply.started": "2021-08-31T15:21:41.700447Z"
    }
   },
   "source": [
    "### И один из моих любимых - [корреляция признаков](https://ru.wikipedia.org/wiki/Корреляция)\n",
    "На этом графике уже сейчас вы сможете заметить, как признаки связаны между собой и с целевой переменной."
   ]
  },
  {
   "cell_type": "code",
   "execution_count": null,
   "metadata": {
    "execution": {
     "iopub.execute_input": "2021-09-04T15:49:01.264024Z",
     "iopub.status.busy": "2021-09-04T15:49:01.263653Z",
     "iopub.status.idle": "2021-09-04T15:49:07.211793Z",
     "shell.execute_reply": "2021-09-04T15:49:07.210452Z",
     "shell.execute_reply.started": "2021-09-04T15:49:01.263956Z"
    }
   },
   "outputs": [],
   "source": [
    "plt.rcParams['figure.figsize'] = (15,10)\n",
    "sns.heatmap(data.drop(['sample'], axis=1).corr())"
   ]
  },
  {
   "cell_type": "markdown",
   "metadata": {},
   "source": [
    "# Data Preprocessing\n",
    "Теперь, для удобства и воспроизводимости кода, завернем всю обработку в одну большую функцию."
   ]
  },
  {
   "cell_type": "markdown",
   "metadata": {},
   "source": [
    "#### Запускаем и проверяем что получилось"
   ]
  },
  {
   "cell_type": "code",
   "execution_count": null,
   "metadata": {
    "execution": {
     "iopub.execute_input": "2021-09-04T15:49:07.214216Z",
     "iopub.status.busy": "2021-09-04T15:49:07.213748Z",
     "iopub.status.idle": "2021-09-04T15:49:07.417462Z",
     "shell.execute_reply": "2021-09-04T15:49:07.416410Z",
     "shell.execute_reply.started": "2021-09-04T15:49:07.214078Z"
    }
   },
   "outputs": [],
   "source": [
    "# Удалим все object признаки\n",
    "for i in data:\n",
    "    if data[i].dtype == object:\n",
    "        data.drop(i,axis=1,inplace = True)"
   ]
  },
  {
   "cell_type": "code",
   "execution_count": null,
   "metadata": {
    "execution": {
     "iopub.execute_input": "2021-09-04T15:49:07.419668Z",
     "iopub.status.busy": "2021-09-04T15:49:07.419141Z",
     "iopub.status.idle": "2021-09-04T15:49:07.424074Z",
     "shell.execute_reply": "2021-09-04T15:49:07.422956Z",
     "shell.execute_reply.started": "2021-09-04T15:49:07.419588Z"
    }
   },
   "outputs": [],
   "source": [
    "df_preproc = data"
   ]
  },
  {
   "cell_type": "code",
   "execution_count": null,
   "metadata": {
    "execution": {
     "iopub.execute_input": "2021-09-04T15:49:07.426135Z",
     "iopub.status.busy": "2021-09-04T15:49:07.425805Z",
     "iopub.status.idle": "2021-09-04T15:49:07.519089Z",
     "shell.execute_reply": "2021-09-04T15:49:07.518313Z",
     "shell.execute_reply.started": "2021-09-04T15:49:07.426079Z"
    }
   },
   "outputs": [],
   "source": [
    "# Теперь выделим тестовую часть\n",
    "train_data = df_preproc.query('sample == 1').drop(['sample'], axis=1)\n",
    "test_data = df_preproc.query('sample == 0').drop(['sample'], axis=1)\n",
    "\n",
    "y = train_data.Rating.values            # наш таргет\n",
    "X = train_data.drop(['Rating'], axis=1)"
   ]
  },
  {
   "cell_type": "markdown",
   "metadata": {},
   "source": [
    "**Перед тем как отправлять наши данные на обучение, разделим данные на еще один тест и трейн, для валидации. \n",
    "Это поможет нам проверить, как хорошо наша модель работает, до отправки submissiona на kaggle.**"
   ]
  },
  {
   "cell_type": "code",
   "execution_count": null,
   "metadata": {
    "execution": {
     "iopub.execute_input": "2021-09-04T15:49:07.520637Z",
     "iopub.status.busy": "2021-09-04T15:49:07.520106Z",
     "iopub.status.idle": "2021-09-04T15:49:07.575480Z",
     "shell.execute_reply": "2021-09-04T15:49:07.574439Z",
     "shell.execute_reply.started": "2021-09-04T15:49:07.520537Z"
    }
   },
   "outputs": [],
   "source": [
    "# Воспользуемся специальной функцие train_test_split для разбивки тестовых данных\n",
    "# выделим 20% данных на валидацию (параметр test_size)\n",
    "X_train, X_test, y_train, y_test = train_test_split(X, y, test_size=0.2, random_state=RANDOM_SEED)"
   ]
  },
  {
   "cell_type": "code",
   "execution_count": null,
   "metadata": {
    "execution": {
     "iopub.execute_input": "2021-09-04T15:49:07.576950Z",
     "iopub.status.busy": "2021-09-04T15:49:07.576706Z",
     "iopub.status.idle": "2021-09-04T15:49:07.583778Z",
     "shell.execute_reply": "2021-09-04T15:49:07.582424Z",
     "shell.execute_reply.started": "2021-09-04T15:49:07.576908Z"
    }
   },
   "outputs": [],
   "source": [
    "# проверяем\n",
    "test_data.shape, train_data.shape, X.shape, X_train.shape, X_test.shape"
   ]
  },
  {
   "cell_type": "markdown",
   "metadata": {},
   "source": [
    "# Model \n",
    "Сам ML"
   ]
  },
  {
   "cell_type": "code",
   "execution_count": null,
   "metadata": {
    "execution": {
     "iopub.execute_input": "2021-09-04T15:49:07.586065Z",
     "iopub.status.busy": "2021-09-04T15:49:07.585602Z",
     "iopub.status.idle": "2021-09-04T15:49:07.778043Z",
     "shell.execute_reply": "2021-09-04T15:49:07.777093Z",
     "shell.execute_reply.started": "2021-09-04T15:49:07.585994Z"
    }
   },
   "outputs": [],
   "source": [
    "# Импортируем необходимые библиотеки:\n",
    "from sklearn.ensemble import RandomForestRegressor # инструмент для создания и обучения модели\n",
    "from sklearn import metrics # инструменты для оценки точности модели"
   ]
  },
  {
   "cell_type": "code",
   "execution_count": null,
   "metadata": {
    "execution": {
     "iopub.execute_input": "2021-09-04T15:49:07.779910Z",
     "iopub.status.busy": "2021-09-04T15:49:07.779596Z",
     "iopub.status.idle": "2021-09-04T15:49:07.785710Z",
     "shell.execute_reply": "2021-09-04T15:49:07.784232Z",
     "shell.execute_reply.started": "2021-09-04T15:49:07.779862Z"
    }
   },
   "outputs": [],
   "source": [
    "# Создаём модель (НАСТРОЙКИ НЕ ТРОГАЕМ)\n",
    "model = RandomForestRegressor(n_estimators=100, verbose=1, n_jobs=-1, random_state=RANDOM_SEED)"
   ]
  },
  {
   "cell_type": "code",
   "execution_count": null,
   "metadata": {
    "execution": {
     "iopub.execute_input": "2021-09-04T15:49:07.788295Z",
     "iopub.status.busy": "2021-09-04T15:49:07.787801Z",
     "iopub.status.idle": "2021-09-04T15:49:34.919899Z",
     "shell.execute_reply": "2021-09-04T15:49:34.919016Z",
     "shell.execute_reply.started": "2021-09-04T15:49:07.788224Z"
    }
   },
   "outputs": [],
   "source": [
    "# Обучаем модель на тестовом наборе данных\n",
    "model.fit(X_train, y_train)\n",
    "\n",
    "# Используем обученную модель для предсказания рейтинга ресторанов в тестовой выборке.\n",
    "# Предсказанные значения записываем в переменную y_pred\n",
    "y_pred = model.predict(X_test)\n",
    "\n",
    "# # Округлим предсказанные значения до степени округления целевой переменной\n",
    "\n",
    "def rating(prediction):\n",
    "        if prediction < 0.25:\n",
    "            return 0\n",
    "        elif 0.25 < prediction <= 0.75:\n",
    "            return 0.5\n",
    "        elif 0.75 < prediction <= 1.25:\n",
    "            return 1\n",
    "        elif 1.25 < prediction <= 1.75:\n",
    "            return 1.5\n",
    "        elif 1.75 < prediction <= 2.25:\n",
    "            return 2\n",
    "        elif 2.25 < prediction <= 2.75:\n",
    "            return 2.5\n",
    "        elif 2.75 < prediction <= 3.25:\n",
    "            return 3\n",
    "        elif 3.25 < prediction <= 3.75:\n",
    "            return 3.5\n",
    "        elif 3.75 < prediction <= 4.25:\n",
    "            return 4\n",
    "        elif 4.25 < prediction <= 4.75:\n",
    "            return 4.5\n",
    "        else:\n",
    "            return 5\n",
    "        \n",
    "for i in range(y_pred.size):\n",
    "        y_pred[i]=rating(y_pred[i])"
   ]
  },
  {
   "cell_type": "code",
   "execution_count": null,
   "metadata": {
    "execution": {
     "iopub.execute_input": "2021-09-04T15:49:34.921310Z",
     "iopub.status.busy": "2021-09-04T15:49:34.920959Z",
     "iopub.status.idle": "2021-09-04T15:49:34.926631Z",
     "shell.execute_reply": "2021-09-04T15:49:34.925878Z",
     "shell.execute_reply.started": "2021-09-04T15:49:34.921273Z"
    }
   },
   "outputs": [],
   "source": [
    "# Сравниваем предсказанные значения (y_pred) с реальными (y_test), и смотрим насколько они в среднем отличаются\n",
    "# Метрика называется Mean Absolute Error (MAE) и показывает среднее отклонение предсказанных значений от фактических.\n",
    "print('MAE:', metrics.mean_absolute_error(y_test, y_pred))"
   ]
  },
  {
   "cell_type": "code",
   "execution_count": null,
   "metadata": {
    "execution": {
     "iopub.execute_input": "2021-09-04T15:49:34.928186Z",
     "iopub.status.busy": "2021-09-04T15:49:34.927735Z",
     "iopub.status.idle": "2021-09-04T15:49:35.512159Z",
     "shell.execute_reply": "2021-09-04T15:49:35.511496Z",
     "shell.execute_reply.started": "2021-09-04T15:49:34.928141Z"
    }
   },
   "outputs": [],
   "source": [
    "# в RandomForestRegressor есть возможность вывести самые важные признаки для модели\n",
    "plt.rcParams['figure.figsize'] = (10,10)\n",
    "feat_importances = pd.Series(model.feature_importances_, index=X.columns)\n",
    "feat_importances.nlargest(30).plot(kind='barh')"
   ]
  },
  {
   "cell_type": "markdown",
   "metadata": {},
   "source": [
    "# Submission\n",
    "Если все устраевает - готовим Submission на кагл"
   ]
  },
  {
   "cell_type": "code",
   "execution_count": null,
   "metadata": {
    "execution": {
     "iopub.execute_input": "2021-09-04T15:49:35.513509Z",
     "iopub.status.busy": "2021-09-04T15:49:35.513149Z",
     "iopub.status.idle": "2021-09-04T15:49:35.545214Z",
     "shell.execute_reply": "2021-09-04T15:49:35.544477Z",
     "shell.execute_reply.started": "2021-09-04T15:49:35.513470Z"
    }
   },
   "outputs": [],
   "source": [
    "test_data.sample(10)"
   ]
  },
  {
   "cell_type": "code",
   "execution_count": null,
   "metadata": {
    "execution": {
     "iopub.execute_input": "2021-09-04T15:49:35.546522Z",
     "iopub.status.busy": "2021-09-04T15:49:35.546225Z",
     "iopub.status.idle": "2021-09-04T15:49:35.556013Z",
     "shell.execute_reply": "2021-09-04T15:49:35.554987Z",
     "shell.execute_reply.started": "2021-09-04T15:49:35.546469Z"
    }
   },
   "outputs": [],
   "source": [
    "test_data = test_data.drop(['Rating'], axis=1)"
   ]
  },
  {
   "cell_type": "code",
   "execution_count": null,
   "metadata": {
    "execution": {
     "iopub.execute_input": "2021-09-04T15:49:35.557783Z",
     "iopub.status.busy": "2021-09-04T15:49:35.557504Z",
     "iopub.status.idle": "2021-09-04T15:49:35.577752Z",
     "shell.execute_reply": "2021-09-04T15:49:35.576258Z",
     "shell.execute_reply.started": "2021-09-04T15:49:35.557737Z"
    }
   },
   "outputs": [],
   "source": [
    "sample_submission"
   ]
  },
  {
   "cell_type": "code",
   "execution_count": null,
   "metadata": {
    "execution": {
     "iopub.execute_input": "2021-09-04T15:49:35.579998Z",
     "iopub.status.busy": "2021-09-04T15:49:35.579426Z",
     "iopub.status.idle": "2021-09-04T15:49:35.806862Z",
     "shell.execute_reply": "2021-09-04T15:49:35.806018Z",
     "shell.execute_reply.started": "2021-09-04T15:49:35.579927Z"
    }
   },
   "outputs": [],
   "source": [
    "predict_submission = model.predict(test_data)"
   ]
  },
  {
   "cell_type": "code",
   "execution_count": null,
   "metadata": {
    "execution": {
     "iopub.execute_input": "2021-09-04T15:51:33.354922Z",
     "iopub.status.busy": "2021-09-04T15:51:33.354573Z",
     "iopub.status.idle": "2021-09-04T15:51:33.400285Z",
     "shell.execute_reply": "2021-09-04T15:51:33.399405Z",
     "shell.execute_reply.started": "2021-09-04T15:51:33.354866Z"
    }
   },
   "outputs": [],
   "source": [
    "# Применим постпроцессинг\n",
    "for i in range(predict_submission.size):\n",
    "        predict_submission[i]=rating(predict_submission[i])"
   ]
  },
  {
   "cell_type": "code",
   "execution_count": null,
   "metadata": {
    "execution": {
     "iopub.status.busy": "2021-09-04T15:49:35.997380Z",
     "iopub.status.idle": "2021-09-04T15:49:35.997856Z"
    }
   },
   "outputs": [],
   "source": [
    "predict_submission"
   ]
  },
  {
   "cell_type": "code",
   "execution_count": null,
   "metadata": {
    "execution": {
     "iopub.status.busy": "2021-09-04T15:49:35.999285Z",
     "iopub.status.idle": "2021-09-04T15:49:35.999990Z"
    }
   },
   "outputs": [],
   "source": [
    "sample_submission['Rating'] = predict_submission\n",
    "sample_submission.to_csv('submission.csv', index=False)\n",
    "sample_submission.head(10)"
   ]
  }
 ],
 "metadata": {
  "kernelspec": {
   "display_name": "Python 3",
   "language": "python",
   "name": "python3"
  },
  "language_info": {
   "codemirror_mode": {
    "name": "ipython",
    "version": 3
   },
   "file_extension": ".py",
   "mimetype": "text/x-python",
   "name": "python",
   "nbconvert_exporter": "python",
   "pygments_lexer": "ipython3",
   "version": "3.8.8"
  }
 },
 "nbformat": 4,
 "nbformat_minor": 4
}
