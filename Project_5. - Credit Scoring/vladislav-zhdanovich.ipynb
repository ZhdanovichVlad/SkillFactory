{
 "cells": [
  {
   "cell_type": "markdown",
   "id": "dad67f44",
   "metadata": {
    "_cell_guid": "e396e89f-58fd-46ca-b8e5-cda7c34fa25c",
    "_uuid": "47df4bfa-b03b-4f2a-9f75-b2deb7b01c0b",
    "papermill": {
     "duration": 0.119664,
     "end_time": "2021-11-22T17:01:28.657336",
     "exception": false,
     "start_time": "2021-11-22T17:01:28.537672",
     "status": "completed"
    },
    "tags": []
   },
   "source": [
    "# <center> Проект №5. Компьютер говорит нет."
   ]
  },
  {
   "cell_type": "markdown",
   "id": "35b02353",
   "metadata": {
    "_cell_guid": "ceb18c98-78dc-425b-a823-c654350c732c",
    "_uuid": "65eb5184-d8ae-44f6-aebb-02f0839839c4",
    "papermill": {
     "duration": 0.09233,
     "end_time": "2021-11-22T17:01:28.896993",
     "exception": false,
     "start_time": "2021-11-22T17:01:28.804663",
     "status": "completed"
    },
    "tags": []
   },
   "source": [
    "Добрый день. Вашему вниманию представлен проект по машинному обучению.    \n",
    "Задача проекта - построить скоринг модель для клиентов банка, которая будет предсказывать вероятность дефолта клиента. "
   ]
  },
  {
   "cell_type": "markdown",
   "id": "020a3876",
   "metadata": {
    "_cell_guid": "5239338f-27e4-4daa-b3f6-b119a616c415",
    "_uuid": "4d9fc75e-7be6-49f8-9de0-c7344cf8f519",
    "execution": {
     "iopub.execute_input": "2021-11-03T14:16:36.565374Z",
     "iopub.status.busy": "2021-11-03T14:16:36.564903Z",
     "iopub.status.idle": "2021-11-03T14:16:36.590784Z",
     "shell.execute_reply": "2021-11-03T14:16:36.589737Z",
     "shell.execute_reply.started": "2021-11-03T14:16:36.565274Z"
    },
    "papermill": {
     "duration": 0.091863,
     "end_time": "2021-11-22T17:01:29.080877",
     "exception": false,
     "start_time": "2021-11-22T17:01:28.989014",
     "status": "completed"
    },
    "tags": []
   },
   "source": [
    "Работу подготовил: Жданович Владислав Геннадьевич"
   ]
  },
  {
   "cell_type": "markdown",
   "id": "9f920bf0",
   "metadata": {
    "_cell_guid": "5574e140-d375-4612-9fd4-f45dafcf63d3",
    "_uuid": "7c6c6e5a-0a25-434b-b3ce-1987dc578f8e",
    "execution": {
     "iopub.execute_input": "2021-11-03T14:18:58.420219Z",
     "iopub.status.busy": "2021-11-03T14:18:58.419906Z",
     "iopub.status.idle": "2021-11-03T14:18:58.426406Z",
     "shell.execute_reply": "2021-11-03T14:18:58.425516Z",
     "shell.execute_reply.started": "2021-11-03T14:18:58.420183Z"
    },
    "papermill": {
     "duration": 0.090919,
     "end_time": "2021-11-22T17:01:29.262722",
     "exception": false,
     "start_time": "2021-11-22T17:01:29.171803",
     "status": "completed"
    },
    "tags": []
   },
   "source": [
    "Для начала, импортируем все библиотеки."
   ]
  },
  {
   "cell_type": "code",
   "execution_count": 64,
   "id": "d59c7505",
   "metadata": {
    "_cell_guid": "effc1f96-163b-4689-b136-284a3a155199",
    "_uuid": "13146b9e-1669-47ae-a6a2-f7a0dfe4109f",
    "execution": {
     "iopub.execute_input": "2021-11-22T17:01:29.454788Z",
     "iopub.status.busy": "2021-11-22T17:01:29.454183Z",
     "iopub.status.idle": "2021-11-22T17:01:31.429250Z",
     "shell.execute_reply": "2021-11-22T17:01:31.430592Z",
     "shell.execute_reply.started": "2021-11-22T16:51:50.563972Z"
    },
    "jupyter": {
     "outputs_hidden": false
    },
    "papermill": {
     "duration": 2.075893,
     "end_time": "2021-11-22T17:01:31.430967",
     "exception": false,
     "start_time": "2021-11-22T17:01:29.355074",
     "status": "completed"
    },
    "tags": []
   },
   "outputs": [],
   "source": [
    "import numpy as np\n",
    "import pandas as pd\n",
    "import math\n",
    "from datetime import datetime\n",
    "\n",
    "\n",
    "import matplotlib.pyplot as plt\n",
    "import seaborn as sns\n",
    "\n",
    "from sklearn.feature_selection import f_classif, mutual_info_classif\n",
    "from sklearn.preprocessing import LabelEncoder, OneHotEncoder, StandardScaler, PolynomialFeatures\n",
    "\n",
    "from sklearn.model_selection import train_test_split\n",
    "from sklearn.linear_model import LogisticRegression\n",
    "\n",
    "from sklearn.metrics import confusion_matrix\n",
    "from sklearn.metrics import auc, roc_auc_score, roc_curve\n",
    "from sklearn.metrics import balanced_accuracy_score, f1_score\n",
    "from sklearn.metrics import precision_score, recall_score\n",
    "from sklearn.metrics import mean_squared_error, accuracy_score\n",
    "from sklearn.model_selection import GridSearchCV\n",
    "from sklearn.preprocessing import MinMaxScaler\n",
    "\n",
    "import os\n",
    "for dirname, _, filenames in os.walk('/kaggle/input'):\n",
    "    for filename in filenames:\n",
    "        print(os.path.join(dirname, filename))\n",
    "\n",
    "pd.set_option(\"display.max_columns\", None)"
   ]
  },
  {
   "cell_type": "code",
   "execution_count": 2,
   "id": "dd35cb12",
   "metadata": {
    "_cell_guid": "5b5d8e08-08c2-4855-9497-23b1ca47397d",
    "_uuid": "beb00485-5dc4-48b6-9385-61f6e28c9b86",
    "execution": {
     "iopub.execute_input": "2021-11-22T17:01:31.622204Z",
     "iopub.status.busy": "2021-11-22T17:01:31.621022Z",
     "iopub.status.idle": "2021-11-22T17:01:31.638511Z",
     "shell.execute_reply": "2021-11-22T17:01:31.638996Z",
     "shell.execute_reply.started": "2021-11-22T16:51:52.867527Z"
    },
    "jupyter": {
     "outputs_hidden": false
    },
    "papermill": {
     "duration": 0.115261,
     "end_time": "2021-11-22T17:01:31.639174",
     "exception": false,
     "start_time": "2021-11-22T17:01:31.523913",
     "status": "completed"
    },
    "tags": []
   },
   "outputs": [],
   "source": [
    "# Вынесем функцию которую будем использовать\n",
    "# для обработки бинарных и категориальных переменных\n",
    "def show_information(col):\n",
    "    '''Функция принимает список признаков, и по каждому \n",
    "    признаку выводит уникальные значения, общее количество,\n",
    "    процентное отношение дефолтных клиентов в каждом уникальном\n",
    "    значении и строит catplot'''\n",
    "    for i in col:\n",
    "        total = df[i].value_counts()\n",
    "        num_ = total.count()\n",
    "        print('Признак - ', i)\n",
    "        print('Уникальные значения - ', df[i].unique())\n",
    "    # Выведем общее количество значений по группе\n",
    "        print('общее количество значений по группе')\n",
    "        print(total)\n",
    "        group_count = df[[i, 'default', 'client_id']].groupby(\n",
    "            [i, 'default']).count()\n",
    "    # т.к. у нас выборка несбалансированная, для более корректного анализа\n",
    "    # узнаем процентное соотношение дефолтных клиентов между группами\n",
    "        sns.catplot(data=df, kind=\"count\", x=i, hue=\"default\",\n",
    "                    ci=\"sd\", palette=\"dark\", alpha=.6, height=6)\n",
    "        plt.show()\n",
    "        # Выведем вероятность деволта по каждому значению\n",
    "        print(\"Процент дефолта по категории\")\n",
    "        for x in range(0, num_*2, 2):\n",
    "            index = (group_count.index[x], group_count.index[x+1])\n",
    "            total_2 = group_count.iloc[x]+group_count.iloc[x+1]\n",
    "            num = (group_count.iloc[x][0], group_count.iloc[x+1][0])\n",
    "            plt.pie(num, autopct='%1.2f%%')\n",
    "            plt.legend(index,\n",
    "                       loc=\"center left\",\n",
    "                       bbox_to_anchor=(1, 0, 0.5, 1))\n",
    "            plt.show()\n",
    "\n",
    "\n",
    "def show_num_information(num_cols):\n",
    "    '''Функция принимает на вход название количественного признака\n",
    "    и выводи всю описательную статистику.'''\n",
    "    print(f'вывод информации по признаку {num_cols}')\n",
    "    print('Мода - ', df[num_cols].mode()[0])\n",
    "    print(df[num_cols].describe())\n",
    "    sns.boxplot(data=df, x='default', y=num_cols)\n",
    "    plt.show()\n",
    "    sns.distplot(df[num_cols], kde=False, rug=False)\n",
    "    plt.title(num_cols)\n",
    "    plt.show()\n",
    "\n",
    "# функция для вывода f_classif\n",
    "def print_f_classif(data, col):\n",
    "    '''Функция для вывода f_classif по заданным столбцам\n",
    "    data - датафрейм\n",
    "    col - признаки по которым будут проходит сравнения\n",
    "    '''\n",
    "    imp_num2 = pd.Series(f_classif(data[col], data['default'])[0], index=col)\n",
    "    imp_num2.sort_values(inplace=True)\n",
    "    imp_num2.plot(kind='barh')\n",
    "\n",
    "# Функция для вывода корреляционной матрицы.\n",
    "def print_corr_matrix(cor_matrix, limit=0.5):\n",
    "    '''Функция для вывода корреляционной матрицы и указанием сильной корреляции\n",
    "    corr_matrix - Корреляционная матрица\n",
    "    limit - минимальная корреляция. По умолчанию 0.5'''\n",
    "    sns.heatmap(cor_matrix)\n",
    "    cof = 0\n",
    "    for x in cor_matrix.columns:\n",
    "        cof += 1\n",
    "        for y in cor_matrix.index[cof:]:\n",
    "            if abs(cor_matrix[x][y]) > 0.5:\n",
    "                print(\n",
    "                    f'Сильная корреляция между {x} and {y} - {cor_matrix.loc[x][y]}')"
   ]
  },
  {
   "cell_type": "code",
   "execution_count": 3,
   "id": "5494ad6c",
   "metadata": {
    "_cell_guid": "0b831933-17d4-4425-a850-84deb05c5bb7",
    "_uuid": "81c127fb-abde-42e1-b85d-aba63ad4d5b3",
    "execution": {
     "iopub.execute_input": "2021-11-22T17:01:31.831122Z",
     "iopub.status.busy": "2021-11-22T17:01:31.830158Z",
     "iopub.status.idle": "2021-11-22T17:01:31.836021Z",
     "shell.execute_reply": "2021-11-22T17:01:31.836825Z",
     "shell.execute_reply.started": "2021-11-22T16:51:52.889566Z"
    },
    "jupyter": {
     "outputs_hidden": false
    },
    "papermill": {
     "duration": 0.103416,
     "end_time": "2021-11-22T17:01:31.837031",
     "exception": false,
     "start_time": "2021-11-22T17:01:31.733615",
     "status": "completed"
    },
    "tags": []
   },
   "outputs": [],
   "source": [
    "# функция которая выводит все наши метрики.\n",
    "def print_roc_curve(y_test, y_train):\n",
    "    fpr, tpr, threshold = roc_curve(y_test, y_train)\n",
    "    roc_auc = roc_auc_score(y_test, y_train)\n",
    "    plt.figure()\n",
    "    plt.plot([0, 1], label='Baseline', linestyle='--')\n",
    "    plt.plot(fpr, tpr, label = 'Regression')\n",
    "    plt.title('Logistic Regression ROC AUC = %0.3f' % roc_auc)\n",
    "    plt.ylabel('True Positive Rate')\n",
    "    plt.xlabel('False Positive Rate')\n",
    "    plt.legend(loc = 'lower right')\n",
    "    plt.show()"
   ]
  },
  {
   "cell_type": "code",
   "execution_count": 4,
   "id": "19124b6f",
   "metadata": {
    "_cell_guid": "b0682f6d-5b56-4714-a1d0-eb9ca34cbabc",
    "_uuid": "9e170998-1496-43f1-bca1-db4a46283f24",
    "execution": {
     "iopub.execute_input": "2021-11-22T17:01:32.028368Z",
     "iopub.status.busy": "2021-11-22T17:01:32.027327Z",
     "iopub.status.idle": "2021-11-22T17:01:32.042349Z",
     "shell.execute_reply": "2021-11-22T17:01:32.042805Z",
     "shell.execute_reply.started": "2021-11-22T16:51:52.908451Z"
    },
    "jupyter": {
     "outputs_hidden": false
    },
    "papermill": {
     "duration": 0.112246,
     "end_time": "2021-11-22T17:01:32.043000",
     "exception": false,
     "start_time": "2021-11-22T17:01:31.930754",
     "status": "completed"
    },
    "tags": []
   },
   "outputs": [],
   "source": [
    "# Функция для вывода confusion_matrix\n",
    "# Спасибо за идею The A-Team\n",
    "def make_confusion_matrix(cf,\n",
    "                          group_names=['TN', 'FP', 'FN', 'TP'],\n",
    "                          categories='auto',\n",
    "                          sum_stats=True,\n",
    "                          count=True,\n",
    "                          cbar=True,\n",
    "                          percent=True,\n",
    "                          cmap='BuPu'):\n",
    "    '''Function is called for making a confusion matrix\n",
    "    args\n",
    "    ------\n",
    "    cf - confusion matrix\n",
    "    group_names - Names for each group\n",
    "    categories -  categories to be displayed on the x,y axis. Default is 'auto'\n",
    "    sum_stats -   shows Accuracies. Deafult is TRUE\n",
    "    c_bar -       If True, show the color bar. The cbar values are based off the values in the confusion matrix. \n",
    "                  Default is True\n",
    "    percent -     to be displayed on the x,y axis. Default is True\n",
    "    '''\n",
    "    # CODE TO GENERATE TEXT INSIDE EACH SQUARE\n",
    "    blanks = ['' for i in range(cf.size)]\n",
    "\n",
    "    group_labels = [\"{}\\n\".format(value) for value in group_names]\n",
    "\n",
    "    if count:\n",
    "        group_counts = [\"{0:0.0f}\\n\".format(value) for value in cf.flatten()]\n",
    "    else:\n",
    "        group_counts = blanks\n",
    "\n",
    "    if percent:\n",
    "        group_percentages = [\n",
    "            \"{0:.2%}\".format(value) for value in cf.flatten() / np.sum(cf)\n",
    "        ]\n",
    "    else:\n",
    "        group_percentages = blanks\n",
    "\n",
    "    box_labels = [\n",
    "        f\"{v1}{v2}{v3}\".strip()\n",
    "        for v1, v2, v3 in zip(group_labels, group_counts, group_percentages)\n",
    "    ]\n",
    "    box_labels = np.asarray(box_labels).reshape(cf.shape[0], cf.shape[1])\n",
    "\n",
    "    # Metrics\n",
    "    if sum_stats:\n",
    "        # Accuracy is sum of diagonal divided by total observations\n",
    "        accuracy = np.trace(cf) / float(np.sum(cf))\n",
    "        ball_accuracy = .5 * (cf[1, 1] / sum(cf[1, :]) +\n",
    "                              cf[0, 0] / sum(cf[0, :]))\n",
    "\n",
    "        # if it is a binary confusion matrix, show some more stats\n",
    "        if len(cf) == 2:\n",
    "            # pr = how many real true\n",
    "            precision = cf[1, 1] / sum(cf[:, 1])\n",
    "            # How many positives from all positives\n",
    "            recall = cf[1, 1] / sum(cf[1, :])\n",
    "            # F1 score\n",
    "            f1_score = 2 * precision * recall / (precision + recall)\n",
    "            stats_text = \"\\n\\nAccuracy={:0.3f}\\nBallancedAcc={:0.3f}\\nPrecision={:0.3f}\\nRecall={:0.3f}\\nF1 Score={:0.3f}\".format(\n",
    "                accuracy, ball_accuracy, precision, recall, f1_score)\n",
    "        else:\n",
    "            stats_text = \"\\n\\nAccuracy={:0.3f}\".format(accuracy)\n",
    "    else:\n",
    "        stats_text = \"\"\n",
    "\n",
    "    plt.rcParams.get('figure.figsize')\n",
    "    plt.figure(figsize=(5, 5))\n",
    "    sns.heatmap(cf,\n",
    "                annot=box_labels,\n",
    "                fmt=\"\",\n",
    "                cmap=cmap,\n",
    "                cbar=cbar,\n",
    "                xticklabels=categories,\n",
    "                yticklabels=categories)\n",
    "    plt.ylabel('True label')\n",
    "    plt.xlabel('Predicted label' + stats_text)"
   ]
  },
  {
   "cell_type": "markdown",
   "id": "b1864fd2",
   "metadata": {
    "_cell_guid": "46a2beae-63be-4428-8441-5491bf903129",
    "_uuid": "4d05e786-b20a-438b-a0e5-abaaa663cc12",
    "papermill": {
     "duration": 0.093176,
     "end_time": "2021-11-22T17:01:32.233905",
     "exception": false,
     "start_time": "2021-11-22T17:01:32.140729",
     "status": "completed"
    },
    "tags": []
   },
   "source": [
    "# Раздел 1. Знакомство с датасетом."
   ]
  },
  {
   "cell_type": "markdown",
   "id": "87791354",
   "metadata": {
    "_cell_guid": "4ddc0014-02d1-4d71-97cc-a974e8f34035",
    "_uuid": "1faec00b-158d-4915-8b2f-71ecea6fa668",
    "papermill": {
     "duration": 0.091719,
     "end_time": "2021-11-22T17:01:32.417685",
     "exception": false,
     "start_time": "2021-11-22T17:01:32.325966",
     "status": "completed"
    },
    "tags": []
   },
   "source": [
    "Вспомним описания полей:   \n",
    "client_id - идентификатор клиента    \n",
    "app_date - дата подачи заявки      \n",
    "education - уровень образования    \n",
    "sex - пол заемщика    \n",
    "age - возраст заемщика    \n",
    "car - флаг наличия автомобиля    \n",
    "car_type - флаг автомобиля иномарки    \n",
    "decline_app_cnt - количество отказанных прошлых заявок    \n",
    "good_work - флаг наличия “хорошей” работы    \n",
    "bki_request_cnt - количество запросов в БКИ    \n",
    "home_address - категоризатор домашнего адреса    \n",
    "work_address - категоризатор рабочего адреса    \n",
    "income - доход заемщика    \n",
    "foreign_passport - наличие загранпаспорта    \n",
    "sna - связь заемщика с клиентами банка    \n",
    "first_time - давность наличия информации о заемщике    \n",
    "score_bki - скоринговый балл по данным из БКИ    \n",
    "region_rating - рейтинг региона       \n",
    "default - флаг дефолта по кредиту"
   ]
  },
  {
   "cell_type": "code",
   "execution_count": 5,
   "id": "1d201226",
   "metadata": {
    "_cell_guid": "6b572135-85ca-4636-a0f2-842e7d8136e7",
    "_uuid": "f1dd3b5d-747d-4813-b2dc-ab915f116dd1",
    "execution": {
     "iopub.execute_input": "2021-11-22T17:01:32.606854Z",
     "iopub.status.busy": "2021-11-22T17:01:32.604928Z",
     "iopub.status.idle": "2021-11-22T17:01:32.878551Z",
     "shell.execute_reply": "2021-11-22T17:01:32.878006Z",
     "shell.execute_reply.started": "2021-11-22T16:51:52.927663Z"
    },
    "jupyter": {
     "outputs_hidden": false
    },
    "papermill": {
     "duration": 0.369056,
     "end_time": "2021-11-22T17:01:32.878699",
     "exception": false,
     "start_time": "2021-11-22T17:01:32.509643",
     "status": "completed"
    },
    "tags": []
   },
   "outputs": [],
   "source": [
    "# загрузка данных при работе с Kaggle\n",
    "#DATA_DIR = '/kaggle/input/sf-dst-scoring/'\n",
    "#df_test = pd.read_csv(DATA_DIR+'test.csv')\n",
    "#df_train = pd.read_csv(DATA_DIR+'train.csv')"
   ]
  },
  {
   "cell_type": "code",
   "execution_count": 6,
   "id": "205634aa",
   "metadata": {
    "execution": {
     "iopub.execute_input": "2021-11-22T17:01:33.069238Z",
     "iopub.status.busy": "2021-11-22T17:01:33.068602Z",
     "iopub.status.idle": "2021-11-22T17:01:33.071216Z",
     "shell.execute_reply": "2021-11-22T17:01:33.071663Z",
     "shell.execute_reply.started": "2021-11-22T16:51:53.267277Z"
    },
    "papermill": {
     "duration": 0.100074,
     "end_time": "2021-11-22T17:01:33.071823",
     "exception": false,
     "start_time": "2021-11-22T17:01:32.971749",
     "status": "completed"
    },
    "tags": []
   },
   "outputs": [],
   "source": [
    "#Загрузка данных при работе с офлайн\n",
    "df_test = pd.read_csv('test.csv')\n",
    "df_train = pd.read_csv('train.csv')"
   ]
  },
  {
   "cell_type": "code",
   "execution_count": 7,
   "id": "485342b6",
   "metadata": {
    "_cell_guid": "625c95d0-aa95-43ec-a34e-a6774ad050d4",
    "_uuid": "0f6c2b4c-7b0c-446d-bb95-8d4d7913d6dd",
    "execution": {
     "iopub.execute_input": "2021-11-22T17:01:33.262548Z",
     "iopub.status.busy": "2021-11-22T17:01:33.261886Z",
     "iopub.status.idle": "2021-11-22T17:01:33.339137Z",
     "shell.execute_reply": "2021-11-22T17:01:33.339661Z",
     "shell.execute_reply.started": "2021-11-22T16:51:53.273447Z"
    },
    "jupyter": {
     "outputs_hidden": false
    },
    "papermill": {
     "duration": 0.175509,
     "end_time": "2021-11-22T17:01:33.339831",
     "exception": false,
     "start_time": "2021-11-22T17:01:33.164322",
     "status": "completed"
    },
    "tags": []
   },
   "outputs": [],
   "source": [
    "# Для корректной обработки объединяем данные\n",
    "df_train['sample'] = 1 \n",
    "df_test['sample'] = 0 \n",
    "df_test['default'] = 0 \n",
    "\n",
    "df = df_test.append(df_train, sort=False).reset_index(drop=True)"
   ]
  },
  {
   "cell_type": "markdown",
   "id": "d1798330",
   "metadata": {},
   "source": [
    "### Быстренько познакомимся с данными"
   ]
  },
  {
   "cell_type": "code",
   "execution_count": 8,
   "id": "c58f5277",
   "metadata": {
    "_cell_guid": "007c362d-bfc0-4396-b304-49a494206789",
    "_uuid": "495dda3c-3a18-4a96-bd5e-99ad245bcf63",
    "execution": {
     "iopub.execute_input": "2021-11-22T17:01:33.526587Z",
     "iopub.status.busy": "2021-11-22T17:01:33.525979Z",
     "iopub.status.idle": "2021-11-22T17:01:33.617644Z",
     "shell.execute_reply": "2021-11-22T17:01:33.618159Z",
     "shell.execute_reply.started": "2021-11-22T16:51:53.370939Z"
    },
    "jupyter": {
     "outputs_hidden": false
    },
    "papermill": {
     "duration": 0.186458,
     "end_time": "2021-11-22T17:01:33.618342",
     "exception": false,
     "start_time": "2021-11-22T17:01:33.431884",
     "status": "completed"
    },
    "tags": []
   },
   "outputs": [
    {
     "name": "stdout",
     "output_type": "stream",
     "text": [
      "<class 'pandas.core.frame.DataFrame'>\n",
      "RangeIndex: 110148 entries, 0 to 110147\n",
      "Data columns (total 20 columns):\n",
      " #   Column            Non-Null Count   Dtype  \n",
      "---  ------            --------------   -----  \n",
      " 0   client_id         110148 non-null  int64  \n",
      " 1   app_date          110148 non-null  object \n",
      " 2   education         109670 non-null  object \n",
      " 3   sex               110148 non-null  object \n",
      " 4   age               110148 non-null  int64  \n",
      " 5   car               110148 non-null  object \n",
      " 6   car_type          110148 non-null  object \n",
      " 7   decline_app_cnt   110148 non-null  int64  \n",
      " 8   good_work         110148 non-null  int64  \n",
      " 9   score_bki         110148 non-null  float64\n",
      " 10  bki_request_cnt   110148 non-null  int64  \n",
      " 11  region_rating     110148 non-null  int64  \n",
      " 12  home_address      110148 non-null  int64  \n",
      " 13  work_address      110148 non-null  int64  \n",
      " 14  income            110148 non-null  int64  \n",
      " 15  sna               110148 non-null  int64  \n",
      " 16  first_time        110148 non-null  int64  \n",
      " 17  foreign_passport  110148 non-null  object \n",
      " 18  sample            110148 non-null  int64  \n",
      " 19  default           110148 non-null  int64  \n",
      "dtypes: float64(1), int64(13), object(6)\n",
      "memory usage: 16.8+ MB\n"
     ]
    }
   ],
   "source": [
    "df.info()"
   ]
  },
  {
   "cell_type": "code",
   "execution_count": 9,
   "id": "a05c58b0",
   "metadata": {
    "_cell_guid": "405ee414-cef8-43b5-a592-c86a312c21f8",
    "_uuid": "6db1b43a-4382-4e0c-a5e5-0d6183e4389d",
    "execution": {
     "iopub.execute_input": "2021-11-22T17:01:33.809984Z",
     "iopub.status.busy": "2021-11-22T17:01:33.809206Z",
     "iopub.status.idle": "2021-11-22T17:01:33.836080Z",
     "shell.execute_reply": "2021-11-22T17:01:33.836571Z",
     "shell.execute_reply.started": "2021-11-22T16:51:53.468603Z"
    },
    "jupyter": {
     "outputs_hidden": false
    },
    "papermill": {
     "duration": 0.124859,
     "end_time": "2021-11-22T17:01:33.836733",
     "exception": false,
     "start_time": "2021-11-22T17:01:33.711874",
     "status": "completed"
    },
    "tags": []
   },
   "outputs": [
    {
     "data": {
      "text/html": [
       "<div>\n",
       "<style scoped>\n",
       "    .dataframe tbody tr th:only-of-type {\n",
       "        vertical-align: middle;\n",
       "    }\n",
       "\n",
       "    .dataframe tbody tr th {\n",
       "        vertical-align: top;\n",
       "    }\n",
       "\n",
       "    .dataframe thead th {\n",
       "        text-align: right;\n",
       "    }\n",
       "</style>\n",
       "<table border=\"1\" class=\"dataframe\">\n",
       "  <thead>\n",
       "    <tr style=\"text-align: right;\">\n",
       "      <th></th>\n",
       "      <th>client_id</th>\n",
       "      <th>app_date</th>\n",
       "      <th>education</th>\n",
       "      <th>sex</th>\n",
       "      <th>age</th>\n",
       "      <th>car</th>\n",
       "      <th>car_type</th>\n",
       "      <th>decline_app_cnt</th>\n",
       "      <th>good_work</th>\n",
       "      <th>score_bki</th>\n",
       "      <th>bki_request_cnt</th>\n",
       "      <th>region_rating</th>\n",
       "      <th>home_address</th>\n",
       "      <th>work_address</th>\n",
       "      <th>income</th>\n",
       "      <th>sna</th>\n",
       "      <th>first_time</th>\n",
       "      <th>foreign_passport</th>\n",
       "      <th>sample</th>\n",
       "      <th>default</th>\n",
       "    </tr>\n",
       "  </thead>\n",
       "  <tbody>\n",
       "    <tr>\n",
       "      <th>28533</th>\n",
       "      <td>10308</td>\n",
       "      <td>17JAN2014</td>\n",
       "      <td>SCH</td>\n",
       "      <td>F</td>\n",
       "      <td>58</td>\n",
       "      <td>N</td>\n",
       "      <td>N</td>\n",
       "      <td>0</td>\n",
       "      <td>0</td>\n",
       "      <td>-3.145233</td>\n",
       "      <td>1</td>\n",
       "      <td>40</td>\n",
       "      <td>1</td>\n",
       "      <td>2</td>\n",
       "      <td>5400</td>\n",
       "      <td>1</td>\n",
       "      <td>3</td>\n",
       "      <td>N</td>\n",
       "      <td>0</td>\n",
       "      <td>0</td>\n",
       "    </tr>\n",
       "    <tr>\n",
       "      <th>14653</th>\n",
       "      <td>38190</td>\n",
       "      <td>14FEB2014</td>\n",
       "      <td>UGR</td>\n",
       "      <td>M</td>\n",
       "      <td>27</td>\n",
       "      <td>N</td>\n",
       "      <td>N</td>\n",
       "      <td>0</td>\n",
       "      <td>0</td>\n",
       "      <td>-2.354714</td>\n",
       "      <td>6</td>\n",
       "      <td>40</td>\n",
       "      <td>1</td>\n",
       "      <td>2</td>\n",
       "      <td>20000</td>\n",
       "      <td>2</td>\n",
       "      <td>3</td>\n",
       "      <td>N</td>\n",
       "      <td>0</td>\n",
       "      <td>0</td>\n",
       "    </tr>\n",
       "    <tr>\n",
       "      <th>98734</th>\n",
       "      <td>20141</td>\n",
       "      <td>27JAN2014</td>\n",
       "      <td>GRD</td>\n",
       "      <td>M</td>\n",
       "      <td>29</td>\n",
       "      <td>Y</td>\n",
       "      <td>N</td>\n",
       "      <td>0</td>\n",
       "      <td>0</td>\n",
       "      <td>-1.505461</td>\n",
       "      <td>3</td>\n",
       "      <td>50</td>\n",
       "      <td>1</td>\n",
       "      <td>3</td>\n",
       "      <td>40000</td>\n",
       "      <td>1</td>\n",
       "      <td>3</td>\n",
       "      <td>N</td>\n",
       "      <td>1</td>\n",
       "      <td>1</td>\n",
       "    </tr>\n",
       "    <tr>\n",
       "      <th>61954</th>\n",
       "      <td>56040</td>\n",
       "      <td>04MAR2014</td>\n",
       "      <td>SCH</td>\n",
       "      <td>F</td>\n",
       "      <td>56</td>\n",
       "      <td>Y</td>\n",
       "      <td>N</td>\n",
       "      <td>0</td>\n",
       "      <td>0</td>\n",
       "      <td>-1.782145</td>\n",
       "      <td>5</td>\n",
       "      <td>40</td>\n",
       "      <td>2</td>\n",
       "      <td>3</td>\n",
       "      <td>50000</td>\n",
       "      <td>1</td>\n",
       "      <td>2</td>\n",
       "      <td>N</td>\n",
       "      <td>1</td>\n",
       "      <td>0</td>\n",
       "    </tr>\n",
       "    <tr>\n",
       "      <th>80972</th>\n",
       "      <td>52263</td>\n",
       "      <td>28FEB2014</td>\n",
       "      <td>UGR</td>\n",
       "      <td>M</td>\n",
       "      <td>31</td>\n",
       "      <td>Y</td>\n",
       "      <td>Y</td>\n",
       "      <td>1</td>\n",
       "      <td>0</td>\n",
       "      <td>-1.177858</td>\n",
       "      <td>4</td>\n",
       "      <td>80</td>\n",
       "      <td>2</td>\n",
       "      <td>3</td>\n",
       "      <td>60000</td>\n",
       "      <td>2</td>\n",
       "      <td>3</td>\n",
       "      <td>N</td>\n",
       "      <td>1</td>\n",
       "      <td>0</td>\n",
       "    </tr>\n",
       "    <tr>\n",
       "      <th>79447</th>\n",
       "      <td>67962</td>\n",
       "      <td>17MAR2014</td>\n",
       "      <td>SCH</td>\n",
       "      <td>F</td>\n",
       "      <td>36</td>\n",
       "      <td>N</td>\n",
       "      <td>N</td>\n",
       "      <td>0</td>\n",
       "      <td>0</td>\n",
       "      <td>-1.916841</td>\n",
       "      <td>3</td>\n",
       "      <td>40</td>\n",
       "      <td>1</td>\n",
       "      <td>1</td>\n",
       "      <td>30000</td>\n",
       "      <td>1</td>\n",
       "      <td>3</td>\n",
       "      <td>N</td>\n",
       "      <td>1</td>\n",
       "      <td>0</td>\n",
       "    </tr>\n",
       "    <tr>\n",
       "      <th>54954</th>\n",
       "      <td>22799</td>\n",
       "      <td>30JAN2014</td>\n",
       "      <td>SCH</td>\n",
       "      <td>F</td>\n",
       "      <td>22</td>\n",
       "      <td>N</td>\n",
       "      <td>N</td>\n",
       "      <td>0</td>\n",
       "      <td>0</td>\n",
       "      <td>-2.225004</td>\n",
       "      <td>0</td>\n",
       "      <td>50</td>\n",
       "      <td>2</td>\n",
       "      <td>3</td>\n",
       "      <td>18000</td>\n",
       "      <td>4</td>\n",
       "      <td>1</td>\n",
       "      <td>N</td>\n",
       "      <td>1</td>\n",
       "      <td>0</td>\n",
       "    </tr>\n",
       "    <tr>\n",
       "      <th>12069</th>\n",
       "      <td>24136</td>\n",
       "      <td>31JAN2014</td>\n",
       "      <td>UGR</td>\n",
       "      <td>F</td>\n",
       "      <td>27</td>\n",
       "      <td>N</td>\n",
       "      <td>N</td>\n",
       "      <td>0</td>\n",
       "      <td>1</td>\n",
       "      <td>-1.833711</td>\n",
       "      <td>0</td>\n",
       "      <td>40</td>\n",
       "      <td>2</td>\n",
       "      <td>3</td>\n",
       "      <td>25000</td>\n",
       "      <td>1</td>\n",
       "      <td>3</td>\n",
       "      <td>N</td>\n",
       "      <td>0</td>\n",
       "      <td>0</td>\n",
       "    </tr>\n",
       "    <tr>\n",
       "      <th>11026</th>\n",
       "      <td>6178</td>\n",
       "      <td>13JAN2014</td>\n",
       "      <td>SCH</td>\n",
       "      <td>F</td>\n",
       "      <td>48</td>\n",
       "      <td>Y</td>\n",
       "      <td>Y</td>\n",
       "      <td>0</td>\n",
       "      <td>0</td>\n",
       "      <td>-2.102288</td>\n",
       "      <td>2</td>\n",
       "      <td>50</td>\n",
       "      <td>1</td>\n",
       "      <td>2</td>\n",
       "      <td>47500</td>\n",
       "      <td>1</td>\n",
       "      <td>3</td>\n",
       "      <td>N</td>\n",
       "      <td>0</td>\n",
       "      <td>0</td>\n",
       "    </tr>\n",
       "    <tr>\n",
       "      <th>1713</th>\n",
       "      <td>27919</td>\n",
       "      <td>04FEB2014</td>\n",
       "      <td>SCH</td>\n",
       "      <td>M</td>\n",
       "      <td>46</td>\n",
       "      <td>Y</td>\n",
       "      <td>Y</td>\n",
       "      <td>0</td>\n",
       "      <td>0</td>\n",
       "      <td>-2.309968</td>\n",
       "      <td>2</td>\n",
       "      <td>60</td>\n",
       "      <td>2</td>\n",
       "      <td>3</td>\n",
       "      <td>55000</td>\n",
       "      <td>4</td>\n",
       "      <td>1</td>\n",
       "      <td>N</td>\n",
       "      <td>0</td>\n",
       "      <td>0</td>\n",
       "    </tr>\n",
       "  </tbody>\n",
       "</table>\n",
       "</div>"
      ],
      "text/plain": [
       "       client_id   app_date education sex  age car car_type  decline_app_cnt  \\\n",
       "28533      10308  17JAN2014       SCH   F   58   N        N                0   \n",
       "14653      38190  14FEB2014       UGR   M   27   N        N                0   \n",
       "98734      20141  27JAN2014       GRD   M   29   Y        N                0   \n",
       "61954      56040  04MAR2014       SCH   F   56   Y        N                0   \n",
       "80972      52263  28FEB2014       UGR   M   31   Y        Y                1   \n",
       "79447      67962  17MAR2014       SCH   F   36   N        N                0   \n",
       "54954      22799  30JAN2014       SCH   F   22   N        N                0   \n",
       "12069      24136  31JAN2014       UGR   F   27   N        N                0   \n",
       "11026       6178  13JAN2014       SCH   F   48   Y        Y                0   \n",
       "1713       27919  04FEB2014       SCH   M   46   Y        Y                0   \n",
       "\n",
       "       good_work  score_bki  bki_request_cnt  region_rating  home_address  \\\n",
       "28533          0  -3.145233                1             40             1   \n",
       "14653          0  -2.354714                6             40             1   \n",
       "98734          0  -1.505461                3             50             1   \n",
       "61954          0  -1.782145                5             40             2   \n",
       "80972          0  -1.177858                4             80             2   \n",
       "79447          0  -1.916841                3             40             1   \n",
       "54954          0  -2.225004                0             50             2   \n",
       "12069          1  -1.833711                0             40             2   \n",
       "11026          0  -2.102288                2             50             1   \n",
       "1713           0  -2.309968                2             60             2   \n",
       "\n",
       "       work_address  income  sna  first_time foreign_passport  sample  default  \n",
       "28533             2    5400    1           3                N       0        0  \n",
       "14653             2   20000    2           3                N       0        0  \n",
       "98734             3   40000    1           3                N       1        1  \n",
       "61954             3   50000    1           2                N       1        0  \n",
       "80972             3   60000    2           3                N       1        0  \n",
       "79447             1   30000    1           3                N       1        0  \n",
       "54954             3   18000    4           1                N       1        0  \n",
       "12069             3   25000    1           3                N       0        0  \n",
       "11026             2   47500    1           3                N       0        0  \n",
       "1713              3   55000    4           1                N       0        0  "
      ]
     },
     "execution_count": 9,
     "metadata": {},
     "output_type": "execute_result"
    }
   ],
   "source": [
    "df.sample(10)"
   ]
  },
  {
   "cell_type": "code",
   "execution_count": 10,
   "id": "727cf34c",
   "metadata": {
    "_cell_guid": "3384bf6e-be2b-46f9-bfa8-f4ea77fb3b68",
    "_uuid": "86ad35bf-2187-4f65-b8d2-1cae07f242e2",
    "execution": {
     "iopub.execute_input": "2021-11-22T17:01:34.028189Z",
     "iopub.status.busy": "2021-11-22T17:01:34.026826Z",
     "iopub.status.idle": "2021-11-22T17:01:34.111768Z",
     "shell.execute_reply": "2021-11-22T17:01:34.112277Z",
     "shell.execute_reply.started": "2021-11-22T16:51:53.506020Z"
    },
    "jupyter": {
     "outputs_hidden": false
    },
    "papermill": {
     "duration": 0.182721,
     "end_time": "2021-11-22T17:01:34.112454",
     "exception": false,
     "start_time": "2021-11-22T17:01:33.929733",
     "status": "completed"
    },
    "tags": []
   },
   "outputs": [
    {
     "data": {
      "text/html": [
       "<div>\n",
       "<style scoped>\n",
       "    .dataframe tbody tr th:only-of-type {\n",
       "        vertical-align: middle;\n",
       "    }\n",
       "\n",
       "    .dataframe tbody tr th {\n",
       "        vertical-align: top;\n",
       "    }\n",
       "\n",
       "    .dataframe thead th {\n",
       "        text-align: right;\n",
       "    }\n",
       "</style>\n",
       "<table border=\"1\" class=\"dataframe\">\n",
       "  <thead>\n",
       "    <tr style=\"text-align: right;\">\n",
       "      <th></th>\n",
       "      <th>client_id</th>\n",
       "      <th>age</th>\n",
       "      <th>decline_app_cnt</th>\n",
       "      <th>good_work</th>\n",
       "      <th>score_bki</th>\n",
       "      <th>bki_request_cnt</th>\n",
       "      <th>region_rating</th>\n",
       "      <th>home_address</th>\n",
       "      <th>work_address</th>\n",
       "      <th>income</th>\n",
       "      <th>sna</th>\n",
       "      <th>first_time</th>\n",
       "      <th>sample</th>\n",
       "      <th>default</th>\n",
       "    </tr>\n",
       "  </thead>\n",
       "  <tbody>\n",
       "    <tr>\n",
       "      <th>count</th>\n",
       "      <td>110148.000000</td>\n",
       "      <td>110148.000000</td>\n",
       "      <td>110148.000000</td>\n",
       "      <td>110148.000000</td>\n",
       "      <td>110148.000000</td>\n",
       "      <td>110148.000000</td>\n",
       "      <td>110148.000000</td>\n",
       "      <td>110148.000000</td>\n",
       "      <td>110148.000000</td>\n",
       "      <td>110148.000000</td>\n",
       "      <td>110148.000000</td>\n",
       "      <td>110148.000000</td>\n",
       "      <td>110148.000000</td>\n",
       "      <td>110148.000000</td>\n",
       "    </tr>\n",
       "    <tr>\n",
       "      <th>mean</th>\n",
       "      <td>55074.500000</td>\n",
       "      <td>39.249410</td>\n",
       "      <td>0.273205</td>\n",
       "      <td>0.165514</td>\n",
       "      <td>-1.904535</td>\n",
       "      <td>2.005002</td>\n",
       "      <td>56.751189</td>\n",
       "      <td>1.574945</td>\n",
       "      <td>2.497867</td>\n",
       "      <td>41012.648537</td>\n",
       "      <td>1.731588</td>\n",
       "      <td>2.765570</td>\n",
       "      <td>0.669999</td>\n",
       "      <td>0.085086</td>\n",
       "    </tr>\n",
       "    <tr>\n",
       "      <th>std</th>\n",
       "      <td>31797.133063</td>\n",
       "      <td>11.518063</td>\n",
       "      <td>0.799099</td>\n",
       "      <td>0.371645</td>\n",
       "      <td>0.499397</td>\n",
       "      <td>2.266926</td>\n",
       "      <td>13.065923</td>\n",
       "      <td>0.527562</td>\n",
       "      <td>0.687651</td>\n",
       "      <td>45399.735051</td>\n",
       "      <td>1.122652</td>\n",
       "      <td>1.010151</td>\n",
       "      <td>0.470215</td>\n",
       "      <td>0.279010</td>\n",
       "    </tr>\n",
       "    <tr>\n",
       "      <th>min</th>\n",
       "      <td>1.000000</td>\n",
       "      <td>21.000000</td>\n",
       "      <td>0.000000</td>\n",
       "      <td>0.000000</td>\n",
       "      <td>-3.624586</td>\n",
       "      <td>0.000000</td>\n",
       "      <td>20.000000</td>\n",
       "      <td>1.000000</td>\n",
       "      <td>1.000000</td>\n",
       "      <td>1000.000000</td>\n",
       "      <td>1.000000</td>\n",
       "      <td>1.000000</td>\n",
       "      <td>0.000000</td>\n",
       "      <td>0.000000</td>\n",
       "    </tr>\n",
       "    <tr>\n",
       "      <th>25%</th>\n",
       "      <td>27537.750000</td>\n",
       "      <td>30.000000</td>\n",
       "      <td>0.000000</td>\n",
       "      <td>0.000000</td>\n",
       "      <td>-2.260434</td>\n",
       "      <td>0.000000</td>\n",
       "      <td>50.000000</td>\n",
       "      <td>1.000000</td>\n",
       "      <td>2.000000</td>\n",
       "      <td>20000.000000</td>\n",
       "      <td>1.000000</td>\n",
       "      <td>2.000000</td>\n",
       "      <td>0.000000</td>\n",
       "      <td>0.000000</td>\n",
       "    </tr>\n",
       "    <tr>\n",
       "      <th>50%</th>\n",
       "      <td>55074.500000</td>\n",
       "      <td>37.000000</td>\n",
       "      <td>0.000000</td>\n",
       "      <td>0.000000</td>\n",
       "      <td>-1.920823</td>\n",
       "      <td>1.000000</td>\n",
       "      <td>50.000000</td>\n",
       "      <td>2.000000</td>\n",
       "      <td>3.000000</td>\n",
       "      <td>30000.000000</td>\n",
       "      <td>1.000000</td>\n",
       "      <td>3.000000</td>\n",
       "      <td>1.000000</td>\n",
       "      <td>0.000000</td>\n",
       "    </tr>\n",
       "    <tr>\n",
       "      <th>75%</th>\n",
       "      <td>82611.250000</td>\n",
       "      <td>48.000000</td>\n",
       "      <td>0.000000</td>\n",
       "      <td>0.000000</td>\n",
       "      <td>-1.567888</td>\n",
       "      <td>3.000000</td>\n",
       "      <td>60.000000</td>\n",
       "      <td>2.000000</td>\n",
       "      <td>3.000000</td>\n",
       "      <td>48000.000000</td>\n",
       "      <td>2.000000</td>\n",
       "      <td>4.000000</td>\n",
       "      <td>1.000000</td>\n",
       "      <td>0.000000</td>\n",
       "    </tr>\n",
       "    <tr>\n",
       "      <th>max</th>\n",
       "      <td>110148.000000</td>\n",
       "      <td>72.000000</td>\n",
       "      <td>33.000000</td>\n",
       "      <td>1.000000</td>\n",
       "      <td>0.199773</td>\n",
       "      <td>53.000000</td>\n",
       "      <td>80.000000</td>\n",
       "      <td>3.000000</td>\n",
       "      <td>3.000000</td>\n",
       "      <td>1000000.000000</td>\n",
       "      <td>4.000000</td>\n",
       "      <td>4.000000</td>\n",
       "      <td>1.000000</td>\n",
       "      <td>1.000000</td>\n",
       "    </tr>\n",
       "  </tbody>\n",
       "</table>\n",
       "</div>"
      ],
      "text/plain": [
       "           client_id            age  decline_app_cnt      good_work  \\\n",
       "count  110148.000000  110148.000000    110148.000000  110148.000000   \n",
       "mean    55074.500000      39.249410         0.273205       0.165514   \n",
       "std     31797.133063      11.518063         0.799099       0.371645   \n",
       "min         1.000000      21.000000         0.000000       0.000000   \n",
       "25%     27537.750000      30.000000         0.000000       0.000000   \n",
       "50%     55074.500000      37.000000         0.000000       0.000000   \n",
       "75%     82611.250000      48.000000         0.000000       0.000000   \n",
       "max    110148.000000      72.000000        33.000000       1.000000   \n",
       "\n",
       "           score_bki  bki_request_cnt  region_rating   home_address  \\\n",
       "count  110148.000000    110148.000000  110148.000000  110148.000000   \n",
       "mean       -1.904535         2.005002      56.751189       1.574945   \n",
       "std         0.499397         2.266926      13.065923       0.527562   \n",
       "min        -3.624586         0.000000      20.000000       1.000000   \n",
       "25%        -2.260434         0.000000      50.000000       1.000000   \n",
       "50%        -1.920823         1.000000      50.000000       2.000000   \n",
       "75%        -1.567888         3.000000      60.000000       2.000000   \n",
       "max         0.199773        53.000000      80.000000       3.000000   \n",
       "\n",
       "        work_address          income            sna     first_time  \\\n",
       "count  110148.000000   110148.000000  110148.000000  110148.000000   \n",
       "mean        2.497867    41012.648537       1.731588       2.765570   \n",
       "std         0.687651    45399.735051       1.122652       1.010151   \n",
       "min         1.000000     1000.000000       1.000000       1.000000   \n",
       "25%         2.000000    20000.000000       1.000000       2.000000   \n",
       "50%         3.000000    30000.000000       1.000000       3.000000   \n",
       "75%         3.000000    48000.000000       2.000000       4.000000   \n",
       "max         3.000000  1000000.000000       4.000000       4.000000   \n",
       "\n",
       "              sample        default  \n",
       "count  110148.000000  110148.000000  \n",
       "mean        0.669999       0.085086  \n",
       "std         0.470215       0.279010  \n",
       "min         0.000000       0.000000  \n",
       "25%         0.000000       0.000000  \n",
       "50%         1.000000       0.000000  \n",
       "75%         1.000000       0.000000  \n",
       "max         1.000000       1.000000  "
      ]
     },
     "execution_count": 10,
     "metadata": {},
     "output_type": "execute_result"
    }
   ],
   "source": [
    "df.describe()"
   ]
  },
  {
   "cell_type": "markdown",
   "id": "81e542c7",
   "metadata": {
    "_cell_guid": "4e3b97de-1589-4390-aae7-f89aeb52f3c3",
    "_uuid": "ef8fdd80-162e-433a-8b08-40bb995a8b38",
    "execution": {
     "iopub.execute_input": "2021-11-04T09:26:09.081266Z",
     "iopub.status.busy": "2021-11-04T09:26:09.08089Z",
     "iopub.status.idle": "2021-11-04T09:26:09.088264Z",
     "shell.execute_reply": "2021-11-04T09:26:09.086642Z",
     "shell.execute_reply.started": "2021-11-04T09:26:09.081216Z"
    },
    "papermill": {
     "duration": 0.093849,
     "end_time": "2021-11-22T17:01:34.301231",
     "exception": false,
     "start_time": "2021-11-22T17:01:34.207382",
     "status": "completed"
    },
    "tags": []
   },
   "source": [
    "Видим, что пропуски есть только в признаке education. Обработаем их чуть позже.  \n",
    "В дата сете присутствуют как бинарные, категориальные и количественные признаки.    \n",
    "Так же у нас есть дата, надо будет преобразовать данный признак в понятный для алгоритма признак."
   ]
  },
  {
   "cell_type": "markdown",
   "id": "a94d924c",
   "metadata": {
    "_cell_guid": "d1377f5b-6978-4a2f-b52b-a91bdabb5391",
    "_uuid": "f19c8313-e1cc-4a60-b96d-81c5f84053d5",
    "papermill": {
     "duration": 0.093985,
     "end_time": "2021-11-22T17:01:34.489229",
     "exception": false,
     "start_time": "2021-11-22T17:01:34.395244",
     "status": "completed"
    },
    "tags": []
   },
   "source": [
    "Для упрощения анализа на следующих этапах, сразу рассортируем наши признаки.    \n",
    "Сразу найдем количество уникальных значений в каждом признаки."
   ]
  },
  {
   "cell_type": "code",
   "execution_count": 11,
   "id": "361aac79",
   "metadata": {
    "_cell_guid": "c4268efd-245a-4666-945c-e15c70119123",
    "_uuid": "8c9892c9-00e7-4297-bee6-d1c9aefeba16",
    "execution": {
     "iopub.execute_input": "2021-11-22T17:01:34.684221Z",
     "iopub.status.busy": "2021-11-22T17:01:34.683514Z",
     "iopub.status.idle": "2021-11-22T17:01:34.685753Z",
     "shell.execute_reply": "2021-11-22T17:01:34.686303Z",
     "shell.execute_reply.started": "2021-11-22T16:51:53.606652Z"
    },
    "jupyter": {
     "outputs_hidden": false
    },
    "papermill": {
     "duration": 0.103465,
     "end_time": "2021-11-22T17:01:34.686481",
     "exception": false,
     "start_time": "2021-11-22T17:01:34.583016",
     "status": "completed"
    },
    "tags": []
   },
   "outputs": [],
   "source": [
    "bin_cols = []\n",
    "cat_cols = []\n",
    "num_cols = []\n",
    "new_cat_cols = [] # сюда будем категориальные сохранять признаки, которые мы создали\n",
    "col_for_drop = [] # здесь будем сохранять признаки которые надо удалить"
   ]
  },
  {
   "cell_type": "code",
   "execution_count": 12,
   "id": "848dcebb",
   "metadata": {
    "_cell_guid": "1128c3d8-e9a7-4a0f-bf4e-8f1a4699dff0",
    "_uuid": "3cef993e-8cc4-4401-8b53-b1cbefe7036e",
    "execution": {
     "iopub.execute_input": "2021-11-22T17:01:34.902432Z",
     "iopub.status.busy": "2021-11-22T17:01:34.885323Z",
     "iopub.status.idle": "2021-11-22T17:01:34.957670Z",
     "shell.execute_reply": "2021-11-22T17:01:34.957002Z",
     "shell.execute_reply.started": "2021-11-22T16:51:53.614084Z"
    },
    "jupyter": {
     "outputs_hidden": false
    },
    "papermill": {
     "duration": 0.174959,
     "end_time": "2021-11-22T17:01:34.957810",
     "exception": false,
     "start_time": "2021-11-22T17:01:34.782851",
     "status": "completed"
    },
    "tags": []
   },
   "outputs": [
    {
     "name": "stdout",
     "output_type": "stream",
     "text": [
      "Признак education содержит 5 уникальных значений\n",
      "Признак education - категориальная переменная\n",
      "Признак sex содержит 2 уникальных значений\n",
      "Признак sex - бинарная переменная\n",
      "Признак age содержит 52 уникальных значений\n",
      "Признак age - количественная переменная\n",
      "Признак car содержит 2 уникальных значений\n",
      "Признак car - бинарная переменная\n",
      "Признак car_type содержит 2 уникальных значений\n",
      "Признак car_type - бинарная переменная\n",
      "Признак decline_app_cnt содержит 24 уникальных значений\n",
      "Признак decline_app_cnt - количественная переменная\n",
      "Признак good_work содержит 2 уникальных значений\n",
      "Признак good_work - бинарная переменная\n",
      "Признак score_bki содержит 102618 уникальных значений\n",
      "Признак score_bki - количественная переменная\n",
      "Признак bki_request_cnt содержит 40 уникальных значений\n",
      "Признак bki_request_cnt - количественная переменная\n",
      "Признак region_rating содержит 7 уникальных значений\n",
      "Признак region_rating - количественная переменная\n",
      "Признак home_address содержит 3 уникальных значений\n",
      "Признак home_address - категориальная переменная\n",
      "Признак work_address содержит 3 уникальных значений\n",
      "Признак work_address - категориальная переменная\n",
      "Признак income содержит 1207 уникальных значений\n",
      "Признак income - количественная переменная\n",
      "Признак sna содержит 4 уникальных значений\n",
      "Признак sna - категориальная переменная\n",
      "Признак first_time содержит 4 уникальных значений\n",
      "Признак first_time - категориальная переменная\n",
      "Признак foreign_passport содержит 2 уникальных значений\n",
      "Признак foreign_passport - бинарная переменная\n"
     ]
    }
   ],
   "source": [
    "# отсортируем наши признаки\n",
    "for i in df.iloc[:, 2:-2]:\n",
    "    n_unique = df[i].nunique()\n",
    "    print(f'Признак {i} содержит {n_unique} уникальных значений')\n",
    "    if n_unique == 2:\n",
    "        print(f'Признак {i} - бинарная переменная')\n",
    "        bin_cols.append(i)\n",
    "    elif n_unique > 2 and n_unique < 6:\n",
    "        print(f'Признак {i} - категориальная переменная')\n",
    "        cat_cols.append(i)\n",
    "    elif n_unique >= 6:\n",
    "        print(f'Признак {i} - количественная переменная')\n",
    "        num_cols.append(i)"
   ]
  },
  {
   "cell_type": "markdown",
   "id": "90ecb67c",
   "metadata": {
    "_cell_guid": "6922a2dc-535d-45ce-a0bb-deac2dd48fa9",
    "_uuid": "360befa7-e1a3-49de-9f60-8011d4703511",
    "papermill": {
     "duration": 0.096401,
     "end_time": "2021-11-22T17:01:35.150700",
     "exception": false,
     "start_time": "2021-11-22T17:01:35.054299",
     "status": "completed"
    },
    "tags": []
   },
   "source": [
    "# Раздел 2. Строим наивную модель"
   ]
  },
  {
   "cell_type": "code",
   "execution_count": 13,
   "id": "59e9be03",
   "metadata": {
    "_cell_guid": "1820a32f-4683-48e4-b8ae-f2a69c7d05ab",
    "_uuid": "b82e597a-706f-4557-8025-87c2c9e83ad2",
    "execution": {
     "iopub.execute_input": "2021-11-22T17:01:35.541691Z",
     "iopub.status.busy": "2021-11-22T17:01:35.540518Z",
     "iopub.status.idle": "2021-11-22T17:01:35.545319Z",
     "shell.execute_reply": "2021-11-22T17:01:35.545797Z",
     "shell.execute_reply.started": "2021-11-22T16:51:53.707401Z"
    },
    "jupyter": {
     "outputs_hidden": false
    },
    "papermill": {
     "duration": 0.106805,
     "end_time": "2021-11-22T17:01:35.545993",
     "exception": false,
     "start_time": "2021-11-22T17:01:35.439188",
     "status": "completed"
    },
    "tags": []
   },
   "outputs": [],
   "source": [
    "df_naiv = df_train.copy()"
   ]
  },
  {
   "cell_type": "code",
   "execution_count": 14,
   "id": "821fc861",
   "metadata": {
    "_cell_guid": "5a49cd19-8ed9-4396-baf9-76744010b642",
    "_uuid": "9024fc68-b20c-4529-be47-a24f89bf7aae",
    "execution": {
     "iopub.execute_input": "2021-11-22T17:01:35.817184Z",
     "iopub.status.busy": "2021-11-22T17:01:35.816495Z",
     "iopub.status.idle": "2021-11-22T17:01:36.033737Z",
     "shell.execute_reply": "2021-11-22T17:01:36.034268Z",
     "shell.execute_reply.started": "2021-11-22T16:51:53.718080Z"
    },
    "jupyter": {
     "outputs_hidden": false
    },
    "papermill": {
     "duration": 0.394512,
     "end_time": "2021-11-22T17:01:36.034455",
     "exception": false,
     "start_time": "2021-11-22T17:01:35.639943",
     "status": "completed"
    },
    "tags": []
   },
   "outputs": [],
   "source": [
    "\n",
    "label_encoder = LabelEncoder()\n",
    "df_naiv['education'] = label_encoder.fit_transform(df_naiv['education'])\n",
    "for i in bin_cols:\n",
    "    df_naiv[i] = label_encoder.fit_transform(df_naiv[i])"
   ]
  },
  {
   "cell_type": "code",
   "execution_count": 15,
   "id": "a4047055",
   "metadata": {
    "_cell_guid": "9516c074-ec42-412c-9ba2-5926267aa23c",
    "_uuid": "06330fe4-807c-43d4-bc08-d64e0388d615",
    "execution": {
     "iopub.execute_input": "2021-11-22T17:01:36.237598Z",
     "iopub.status.busy": "2021-11-22T17:01:36.229827Z",
     "iopub.status.idle": "2021-11-22T17:01:36.273447Z",
     "shell.execute_reply": "2021-11-22T17:01:36.272761Z",
     "shell.execute_reply.started": "2021-11-22T16:51:54.013448Z"
    },
    "jupyter": {
     "outputs_hidden": false
    },
    "papermill": {
     "duration": 0.14285,
     "end_time": "2021-11-22T17:01:36.273590",
     "exception": false,
     "start_time": "2021-11-22T17:01:36.130740",
     "status": "completed"
    },
    "tags": []
   },
   "outputs": [],
   "source": [
    "#  разабьем наш дата сет\n",
    "X = df_naiv.iloc[:, 2:-1]\n",
    "Y = df_naiv['default']\n",
    "X_train, X_test, y_train, y_test = train_test_split(\n",
    "    X, Y, test_size=0.20, random_state=42)"
   ]
  },
  {
   "cell_type": "code",
   "execution_count": 16,
   "id": "94313603",
   "metadata": {
    "_cell_guid": "eedc4af4-55ce-4911-9104-90495abd405d",
    "_uuid": "394d59b8-8646-4247-83f2-27215e8b68e4",
    "execution": {
     "iopub.execute_input": "2021-11-22T17:01:36.470705Z",
     "iopub.status.busy": "2021-11-22T17:01:36.469989Z",
     "iopub.status.idle": "2021-11-22T17:01:37.266356Z",
     "shell.execute_reply": "2021-11-22T17:01:37.267012Z",
     "shell.execute_reply.started": "2021-11-22T16:51:54.060084Z"
    },
    "jupyter": {
     "outputs_hidden": false
    },
    "papermill": {
     "duration": 0.898237,
     "end_time": "2021-11-22T17:01:37.267190",
     "exception": false,
     "start_time": "2021-11-22T17:01:36.368953",
     "status": "completed"
    },
    "tags": []
   },
   "outputs": [
    {
     "data": {
      "image/png": "[encoded data removed]",
      "text/plain": [
       "<Figure size 432x288 with 1 Axes>"
      ]
     },
     "metadata": {
      "needs_background": "light"
     },
     "output_type": "display_data"
    }
   ],
   "source": [
    "# построим сразу roc_curve\n",
    "model_naiv = LogisticRegression()\n",
    "model_naiv.fit(X_train, y_train)\n",
    "\n",
    "probs = model_naiv.predict_proba(X_test)\n",
    "probs = probs[:, 1]\n",
    "\n",
    "print_roc_curve(y_test, probs)"
   ]
  },
  {
   "cell_type": "code",
   "execution_count": 17,
   "id": "423288e9",
   "metadata": {
    "_cell_guid": "d27e7844-3f4e-4451-aab3-baef846a4d81",
    "_uuid": "1be4e468-efdf-4365-90ca-97b71bac75fc",
    "execution": {
     "iopub.execute_input": "2021-11-22T17:01:37.465967Z",
     "iopub.status.busy": "2021-11-22T17:01:37.465295Z",
     "iopub.status.idle": "2021-11-22T17:01:37.475445Z",
     "shell.execute_reply": "2021-11-22T17:01:37.475963Z",
     "shell.execute_reply.started": "2021-11-22T16:51:54.941884Z"
    },
    "jupyter": {
     "outputs_hidden": false
    },
    "papermill": {
     "duration": 0.11271,
     "end_time": "2021-11-22T17:01:37.476139",
     "exception": false,
     "start_time": "2021-11-22T17:01:37.363429",
     "status": "completed"
    },
    "tags": []
   },
   "outputs": [],
   "source": [
    "# для того что бы посмотреть другие метрики, преобразуем полученный результат\n",
    "y_bin_pred = model_naiv.predict(X_test)"
   ]
  },
  {
   "cell_type": "code",
   "execution_count": 18,
   "id": "77b0fd3d",
   "metadata": {
    "_cell_guid": "a0eb3edf-00ad-4d5e-b075-2d4d2d58a178",
    "_uuid": "b3fadda6-c37e-4ae6-89c2-e779dc0bd69c",
    "execution": {
     "iopub.execute_input": "2021-11-22T17:01:37.724823Z",
     "iopub.status.busy": "2021-11-22T17:01:37.724204Z",
     "iopub.status.idle": "2021-11-22T17:01:38.047121Z",
     "shell.execute_reply": "2021-11-22T17:01:38.047584Z",
     "shell.execute_reply.started": "2021-11-22T16:51:54.954202Z"
    },
    "jupyter": {
     "outputs_hidden": false
    },
    "papermill": {
     "duration": 0.426483,
     "end_time": "2021-11-22T17:01:38.047755",
     "exception": false,
     "start_time": "2021-11-22T17:01:37.621272",
     "status": "completed"
    },
    "tags": []
   },
   "outputs": [
    {
     "name": "stderr",
     "output_type": "stream",
     "text": [
      "<ipython-input-4-300fae532a82>:55: RuntimeWarning: invalid value encountered in longlong_scalars\n",
      "  precision = cf[1, 1] / sum(cf[:, 1])\n"
     ]
    },
    {
     "data": {
      "image/png": "[encoded data removed]",
      "text/plain": [
       "<Figure size 360x360 with 2 Axes>"
      ]
     },
     "metadata": {
      "needs_background": "light"
     },
     "output_type": "display_data"
    }
   ],
   "source": [
    "categories = ['Regular guy', 'DEFAULT']\n",
    "cf_matrix = confusion_matrix(y_test, y_bin_pred)\n",
    "make_confusion_matrix(cf_matrix,categories=categories,sum_stats=True)"
   ]
  },
  {
   "cell_type": "markdown",
   "id": "e0bba2d8",
   "metadata": {
    "_cell_guid": "a26178f0-0bda-438c-84ec-2f1bb15cab6a",
    "_uuid": "f48e11af-5918-477b-989a-fb2fa4f8c0cc",
    "execution": {
     "iopub.execute_input": "2021-11-05T05:05:13.261702Z",
     "iopub.status.busy": "2021-11-05T05:05:13.261412Z",
     "iopub.status.idle": "2021-11-05T05:05:13.277887Z",
     "shell.execute_reply": "2021-11-05T05:05:13.277016Z",
     "shell.execute_reply.started": "2021-11-05T05:05:13.261662Z"
    },
    "papermill": {
     "duration": 0.096434,
     "end_time": "2021-11-22T17:01:38.241514",
     "exception": false,
     "start_time": "2021-11-22T17:01:38.145080",
     "status": "completed"
    },
    "tags": []
   },
   "source": [
    "Метрика Accuracy показывает весьма хороший результат, однако он достигается за счет того, что наша модель выдает кредит всем.\n",
    "Судя по сбалансированной точности и roc кривой, точность построенной модели немного лучше, чем выдача кредитов на основе подбрасывания монетки.    \n",
    "Метрики Pricision и Recall вообще не отображаются, т.к. у нас отсутствуют данные по правильно отобранных дефолтных клиентах. \n",
    "p.s. в целом намешало бы использовать метрику прибыльности, описанную в статье (https://www.osp.ru/os/2020/03/13055545), но у нас нет данных потерь при дефолте.\n",
    "Так же я бы ещё выделил клиентов, которые находиться в зоне риска (у которых вероятность вернуть кредит небольшая), и поставил бы им ограничения по сумме, чтобы уменьшить возможные потери."
   ]
  },
  {
   "cell_type": "markdown",
   "id": "05dbd050",
   "metadata": {
    "_cell_guid": "c57110a2-bb1d-4f90-8fc1-e032ba3d4389",
    "_uuid": "54081c53-0f36-420c-b4ba-d6299a90dd5b",
    "papermill": {
     "duration": 0.096019,
     "end_time": "2021-11-22T17:01:38.434101",
     "exception": false,
     "start_time": "2021-11-22T17:01:38.338082",
     "status": "completed"
    },
    "tags": []
   },
   "source": [
    "# Раздел 3. Обработка пропусков"
   ]
  },
  {
   "cell_type": "markdown",
   "id": "3022ef6c",
   "metadata": {
    "_cell_guid": "945143a5-1993-49fe-a011-a7137ad19415",
    "_uuid": "2c5a5bd2-16b3-4d10-9c7a-2d57282b03c4",
    "papermill": {
     "duration": 0.096961,
     "end_time": "2021-11-22T17:01:38.627145",
     "exception": false,
     "start_time": "2021-11-22T17:01:38.530184",
     "status": "completed"
    },
    "tags": []
   },
   "source": [
    "Так как у нас всего 478 пропусков в колонке education, а это примерно 0,4% от всех данных, заполним данный признак модой. Это не сильно испортит на наших данных."
   ]
  },
  {
   "cell_type": "code",
   "execution_count": 19,
   "id": "2de8268d",
   "metadata": {
    "_cell_guid": "c6ac36df-73cd-4434-a516-c65ec658d078",
    "_uuid": "072dd8f6-dc5a-4c39-bc83-ea7de7ff8663",
    "execution": {
     "iopub.execute_input": "2021-11-22T17:01:38.839438Z",
     "iopub.status.busy": "2021-11-22T17:01:38.824798Z",
     "iopub.status.idle": "2021-11-22T17:01:38.872848Z",
     "shell.execute_reply": "2021-11-22T17:01:38.873347Z",
     "shell.execute_reply.started": "2021-11-22T16:51:55.349735Z"
    },
    "jupyter": {
     "outputs_hidden": false
    },
    "papermill": {
     "duration": 0.14934,
     "end_time": "2021-11-22T17:01:38.873541",
     "exception": false,
     "start_time": "2021-11-22T17:01:38.724201",
     "status": "completed"
    },
    "tags": []
   },
   "outputs": [],
   "source": [
    "# Отметим данные где есть пропуски\n",
    "df[\"is_null_education\"] = df.education.isnull().astype(int)\n",
    "df.education = df.education.fillna(df.education.mode()[0])"
   ]
  },
  {
   "cell_type": "markdown",
   "id": "1fc12d37",
   "metadata": {
    "_cell_guid": "a478503c-e2fb-40db-9272-da0d2c1d1394",
    "_uuid": "fae5f331-1fb0-4080-8e31-715237029b0c",
    "papermill": {
     "duration": 0.097129,
     "end_time": "2021-11-22T17:01:39.067171",
     "exception": false,
     "start_time": "2021-11-22T17:01:38.970042",
     "status": "completed"
    },
    "tags": []
   },
   "source": [
    "# Раздел 4. Обработка банирных признаков."
   ]
  },
  {
   "cell_type": "markdown",
   "id": "f2c859d7",
   "metadata": {
    "_cell_guid": "bce233ad-1297-42bf-8df6-cf775b60a824",
    "_uuid": "224efe44-770f-4e3d-b013-5cec92b954b4",
    "execution": {
     "iopub.execute_input": "2021-11-05T05:39:15.674192Z",
     "iopub.status.busy": "2021-11-05T05:39:15.673913Z",
     "iopub.status.idle": "2021-11-05T05:39:15.679839Z",
     "shell.execute_reply": "2021-11-05T05:39:15.679059Z",
     "shell.execute_reply.started": "2021-11-05T05:39:15.674159Z"
    },
    "papermill": {
     "duration": 0.095927,
     "end_time": "2021-11-22T17:01:39.261185",
     "exception": false,
     "start_time": "2021-11-22T17:01:39.165258",
     "status": "completed"
    },
    "tags": []
   },
   "source": [
    "В данном разделе мы рассмотрим признаки, которые мы отнесли к бинарным."
   ]
  },
  {
   "cell_type": "code",
   "execution_count": 20,
   "id": "2b564dad",
   "metadata": {
    "_cell_guid": "1a70b695-b656-45e2-9d04-429a1a262450",
    "_uuid": "15c525c6-ebba-498b-80cd-c137b48691c7",
    "execution": {
     "iopub.execute_input": "2021-11-22T17:01:39.460157Z",
     "iopub.status.busy": "2021-11-22T17:01:39.459341Z",
     "iopub.status.idle": "2021-11-22T17:01:39.462319Z",
     "shell.execute_reply": "2021-11-22T17:01:39.462808Z",
     "shell.execute_reply.started": "2021-11-22T16:51:55.401326Z"
    },
    "jupyter": {
     "outputs_hidden": false
    },
    "papermill": {
     "duration": 0.105044,
     "end_time": "2021-11-22T17:01:39.463001",
     "exception": false,
     "start_time": "2021-11-22T17:01:39.357957",
     "status": "completed"
    },
    "tags": []
   },
   "outputs": [
    {
     "name": "stdout",
     "output_type": "stream",
     "text": [
      "К бинарным признакам мы отнесли ['sex', 'car', 'car_type', 'good_work', 'foreign_passport']\n"
     ]
    }
   ],
   "source": [
    "print('К бинарным признакам мы отнесли', bin_cols)"
   ]
  },
  {
   "cell_type": "code",
   "execution_count": 21,
   "id": "a5c0501a",
   "metadata": {
    "_cell_guid": "68b59245-a2be-4b56-a60a-b503a0f49cdb",
    "_uuid": "33860d6d-a1cd-4b67-9532-88e9448d3a08",
    "execution": {
     "iopub.execute_input": "2021-11-22T17:01:39.698599Z",
     "iopub.status.busy": "2021-11-22T17:01:39.697657Z",
     "iopub.status.idle": "2021-11-22T17:01:44.107551Z",
     "shell.execute_reply": "2021-11-22T17:01:44.107032Z",
     "shell.execute_reply.started": "2021-11-22T16:51:55.406940Z"
    },
    "jupyter": {
     "outputs_hidden": false
    },
    "papermill": {
     "duration": 4.539765,
     "end_time": "2021-11-22T17:01:44.107697",
     "exception": false,
     "start_time": "2021-11-22T17:01:39.567932",
     "status": "completed"
    },
    "tags": []
   },
   "outputs": [
    {
     "name": "stdout",
     "output_type": "stream",
     "text": [
      "Признак -  sex\n",
      "Уникальные значения -  ['M' 'F']\n",
      "общее количество значений по группе\n",
      "F    61836\n",
      "M    48312\n",
      "Name: sex, dtype: int64\n"
     ]
    },
    {
     "data": {
      "image/png": "[encoded data removed]",
      "text/plain": [
       "<Figure size 475.375x432 with 1 Axes>"
      ]
     },
     "metadata": {
      "needs_background": "light"
     },
     "output_type": "display_data"
    },
    {
     "name": "stdout",
     "output_type": "stream",
     "text": [
      "Процент дефолта по категории\n"
     ]
    },
    {
     "data": {
      "image/png": "[encoded data removed]",
      "text/plain": [
       "<Figure size 432x288 with 1 Axes>"
      ]
     },
     "metadata": {},
     "output_type": "display_data"
    },
    {
     "data": {
      "image/png": "[encoded data removed]",
      "text/plain": [
       "<Figure size 432x288 with 1 Axes>"
      ]
     },
     "metadata": {},
     "output_type": "display_data"
    },
    {
     "name": "stdout",
     "output_type": "stream",
     "text": [
      "Признак -  car\n",
      "Уникальные значения -  ['Y' 'N']\n",
      "общее количество значений по группе\n",
      "N    74290\n",
      "Y    35858\n",
      "Name: car, dtype: int64\n"
     ]
    },
    {
     "data": {
      "image/png": "[encoded data removed]",
      "text/plain": [
       "<Figure size 475.375x432 with 1 Axes>"
      ]
     },
     "metadata": {
      "needs_background": "light"
     },
     "output_type": "display_data"
    },
    {
     "name": "stdout",
     "output_type": "stream",
     "text": [
      "Процент дефолта по категории\n"
     ]
    },
    {
     "data": {
      "image/png": "[encoded data removed]",
      "text/plain": [
       "<Figure size 432x288 with 1 Axes>"
      ]
     },
     "metadata": {},
     "output_type": "display_data"
    },
    {
     "data": {
      "image/png": "[encoded data removed]",
      "text/plain": [
       "<Figure size 432x288 with 1 Axes>"
      ]
     },
     "metadata": {},
     "output_type": "display_data"
    },
    {
     "name": "stdout",
     "output_type": "stream",
     "text": [
      "Признак -  car_type\n",
      "Уникальные значения -  ['Y' 'N']\n",
      "общее количество значений по группе\n",
      "N    89140\n",
      "Y    21008\n",
      "Name: car_type, dtype: int64\n"
     ]
    },
    {
     "data": {
      "image/png": "[encoded data removed]",
      "text/plain": [
       "<Figure size 475.375x432 with 1 Axes>"
      ]
     },
     "metadata": {
      "needs_background": "light"
     },
     "output_type": "display_data"
    },
    {
     "name": "stdout",
     "output_type": "stream",
     "text": [
      "Процент дефолта по категории\n"
     ]
    },
    {
     "data": {
      "image/png": "[encoded data removed]",
      "text/plain": [
       "<Figure size 432x288 with 1 Axes>"
      ]
     },
     "metadata": {},
     "output_type": "display_data"
    },
    {
     "data": {
      "image/png": "[encoded data removed]",
      "text/plain": [
       "<Figure size 432x288 with 1 Axes>"
      ]
     },
     "metadata": {},
     "output_type": "display_data"
    },
    {
     "name": "stdout",
     "output_type": "stream",
     "text": [
      "Признак -  good_work\n",
      "Уникальные значения -  [0 1]\n",
      "общее количество значений по группе\n",
      "0    91917\n",
      "1    18231\n",
      "Name: good_work, dtype: int64\n"
     ]
    },
    {
     "data": {
      "image/png": "[encoded data removed]",
      "text/plain": [
       "<Figure size 475.375x432 with 1 Axes>"
      ]
     },
     "metadata": {
      "needs_background": "light"
     },
     "output_type": "display_data"
    },
    {
     "name": "stdout",
     "output_type": "stream",
     "text": [
      "Процент дефолта по категории\n"
     ]
    },
    {
     "data": {
      "image/png": "[encoded data removed]",
      "text/plain": [
       "<Figure size 432x288 with 1 Axes>"
      ]
     },
     "metadata": {},
     "output_type": "display_data"
    },
    {
     "data": {
      "image/png": "[encoded data removed]",
      "text/plain": [
       "<Figure size 432x288 with 1 Axes>"
      ]
     },
     "metadata": {},
     "output_type": "display_data"
    },
    {
     "name": "stdout",
     "output_type": "stream",
     "text": [
      "Признак -  foreign_passport\n",
      "Уникальные значения -  ['N' 'Y']\n",
      "общее количество значений по группе\n",
      "N    93721\n",
      "Y    16427\n",
      "Name: foreign_passport, dtype: int64\n"
     ]
    },
    {
     "data": {
      "image/png": "[encoded data removed]",
      "text/plain": [
       "<Figure size 475.375x432 with 1 Axes>"
      ]
     },
     "metadata": {
      "needs_background": "light"
     },
     "output_type": "display_data"
    },
    {
     "name": "stdout",
     "output_type": "stream",
     "text": [
      "Процент дефолта по категории\n"
     ]
    },
    {
     "data": {
      "image/png": "[encoded data removed]",
      "text/plain": [
       "<Figure size 432x288 with 1 Axes>"
      ]
     },
     "metadata": {},
     "output_type": "display_data"
    },
    {
     "data": {
      "image/png": "[encoded data removed]",
      "text/plain": [
       "<Figure size 432x288 with 1 Axes>"
      ]
     },
     "metadata": {},
     "output_type": "display_data"
    }
   ],
   "source": [
    "show_information(bin_cols)"
   ]
  },
  {
   "cell_type": "markdown",
   "id": "450202c8",
   "metadata": {
    "_cell_guid": "6be5eb6e-1424-4814-ba37-3d68e4798006",
    "_uuid": "edf88f56-0f78-4e1f-a008-0a267d45bd4b",
    "papermill": {
     "duration": 0.110526,
     "end_time": "2021-11-22T17:01:44.329255",
     "exception": false,
     "start_time": "2021-11-22T17:01:44.218729",
     "status": "completed"
    },
    "tags": []
   },
   "source": [
    "## Вывод:    \n",
    "В целом, ярко выраженная несбалансированность выборки.    \n",
    "В дата сете представлено больше женщин.    \n",
    "У большинства нет машин, а из людей, у которых есть машины, большинство владеет отечественными автомобилями.     \n",
    "Мало у кого в нашем дата сете есть хорошая работа и есть загран паспорт."
   ]
  },
  {
   "cell_type": "markdown",
   "id": "8646a6d4",
   "metadata": {
    "_cell_guid": "be982252-b46d-43ef-bbd7-e7077b84b9b2",
    "_uuid": "6ce8be92-a0ac-41f7-82bc-655809e0e45c",
    "papermill": {
     "duration": 0.11035,
     "end_time": "2021-11-22T17:01:44.550417",
     "exception": false,
     "start_time": "2021-11-22T17:01:44.440067",
     "status": "completed"
    },
    "tags": []
   },
   "source": [
    "Судя по графикам, чаще в дефолт попадают женщины.    \n",
    "У людей с хорошей работой вероятность дефолта ниже 10%.    \n",
    "Так же с наличием загран паспорта и наличием импортного автомобиля паспорта."
   ]
  },
  {
   "cell_type": "markdown",
   "id": "6b52086d",
   "metadata": {
    "_cell_guid": "8693dc69-1ff2-41ab-9843-88483eb94273",
    "_uuid": "6d564bfc-ecba-47fb-9081-f24472811d83",
    "papermill": {
     "duration": 0.110162,
     "end_time": "2021-11-22T17:01:44.771244",
     "exception": false,
     "start_time": "2021-11-22T17:01:44.661082",
     "status": "completed"
    },
    "tags": []
   },
   "source": [
    "Судя по графикам, чаще в дефолт попадают женщины, люд и у который отсутствуют транспорт и плохая работа, есть загран паспорт. У людей, у которых есть автомобиль, чаще попадают в дефолт люди с отечественным автомобилем.  \n",
    "Самые сильные веса, на глаз, у признаков «foreign_passport» и «car_type». При наличии зарган паспорта или хорошего автомобиля, вероятность дефолта всего около 5%"
   ]
  },
  {
   "cell_type": "markdown",
   "id": "f4b2782d",
   "metadata": {
    "_cell_guid": "c41d661a-0f41-4de0-be1e-69ae17ea1428",
    "_uuid": "d354ab6c-dce0-4f51-ab83-a23ce401eb7f",
    "papermill": {
     "duration": 0.112906,
     "end_time": "2021-11-22T17:01:44.996130",
     "exception": false,
     "start_time": "2021-11-22T17:01:44.883224",
     "status": "completed"
    },
    "tags": []
   },
   "source": [
    "# Раздел 4. Обработка категориальных признаков."
   ]
  },
  {
   "cell_type": "code",
   "execution_count": 22,
   "id": "36249571",
   "metadata": {
    "_cell_guid": "d0f0551e-80b7-4d3c-9eff-e44dc89aa1ef",
    "_uuid": "4410d544-344b-4917-9964-468f2d693843",
    "execution": {
     "iopub.execute_input": "2021-11-22T17:01:45.226375Z",
     "iopub.status.busy": "2021-11-22T17:01:45.225521Z",
     "iopub.status.idle": "2021-11-22T17:01:45.228741Z",
     "shell.execute_reply": "2021-11-22T17:01:45.229263Z",
     "shell.execute_reply.started": "2021-11-22T16:51:59.936692Z"
    },
    "jupyter": {
     "outputs_hidden": false
    },
    "papermill": {
     "duration": 0.119497,
     "end_time": "2021-11-22T17:01:45.229431",
     "exception": false,
     "start_time": "2021-11-22T17:01:45.109934",
     "status": "completed"
    },
    "tags": []
   },
   "outputs": [
    {
     "name": "stdout",
     "output_type": "stream",
     "text": [
      "К категориальным признакам мы отнесли ['education', 'home_address', 'work_address', 'sna', 'first_time']\n"
     ]
    }
   ],
   "source": [
    "print('К категориальным признакам мы отнесли', cat_cols)"
   ]
  },
  {
   "cell_type": "code",
   "execution_count": 23,
   "id": "481a5e21",
   "metadata": {
    "_cell_guid": "9cb0f76d-c5d0-4326-9136-0ab86ca9dc44",
    "_uuid": "732b6ec0-ec55-4f5a-a6f0-505018296aa1",
    "execution": {
     "iopub.execute_input": "2021-11-22T17:01:45.480907Z",
     "iopub.status.busy": "2021-11-22T17:01:45.480226Z",
     "iopub.status.idle": "2021-11-22T17:01:50.040844Z",
     "shell.execute_reply": "2021-11-22T17:01:50.040217Z",
     "shell.execute_reply.started": "2021-11-22T16:51:59.944110Z"
    },
    "jupyter": {
     "outputs_hidden": false
    },
    "papermill": {
     "duration": 4.699703,
     "end_time": "2021-11-22T17:01:50.041017",
     "exception": false,
     "start_time": "2021-11-22T17:01:45.341314",
     "status": "completed"
    },
    "tags": []
   },
   "outputs": [
    {
     "name": "stdout",
     "output_type": "stream",
     "text": [
      "Признак -  education\n",
      "Уникальные значения -  ['GRD' 'SCH' 'UGR' 'PGR' 'ACD']\n",
      "общее количество значений по группе\n",
      "SCH    58476\n",
      "GRD    34768\n",
      "UGR    14748\n",
      "PGR     1865\n",
      "ACD      291\n",
      "Name: education, dtype: int64\n"
     ]
    },
    {
     "data": {
      "image/png": "[encoded data removed]",
      "text/plain": [
       "<Figure size 475.375x432 with 1 Axes>"
      ]
     },
     "metadata": {
      "needs_background": "light"
     },
     "output_type": "display_data"
    },
    {
     "name": "stdout",
     "output_type": "stream",
     "text": [
      "Процент дефолта по категории\n"
     ]
    },
    {
     "data": {
      "image/png": "[encoded data removed]",
      "text/plain": [
       "<Figure size 432x288 with 1 Axes>"
      ]
     },
     "metadata": {},
     "output_type": "display_data"
    },
    {
     "data": {
      "image/png": "[encoded data removed]",
      "text/plain": [
       "<Figure size 432x288 with 1 Axes>"
      ]
     },
     "metadata": {},
     "output_type": "display_data"
    },
    {
     "data": {
      "image/png": "[encoded data removed]",
      "text/plain": [
       "<Figure size 432x288 with 1 Axes>"
      ]
     },
     "metadata": {},
     "output_type": "display_data"
    },
    {
     "data": {
      "image/png": "[encoded data removed]",
      "text/plain": [
       "<Figure size 432x288 with 1 Axes>"
      ]
     },
     "metadata": {},
     "output_type": "display_data"
    },
    {
     "data": {
      "image/png": "[encoded data removed]",
      "text/plain": [
       "<Figure size 432x288 with 1 Axes>"
      ]
     },
     "metadata": {},
     "output_type": "display_data"
    },
    {
     "name": "stdout",
     "output_type": "stream",
     "text": [
      "Признак -  home_address\n",
      "Уникальные значения -  [1 2 3]\n",
      "общее количество значений по группе\n",
      "2    59591\n",
      "1    48688\n",
      "3     1869\n",
      "Name: home_address, dtype: int64\n"
     ]
    },
    {
     "data": {
      "image/png": "[encoded data removed]",
      "text/plain": [
       "<Figure size 475.375x432 with 1 Axes>"
      ]
     },
     "metadata": {
      "needs_background": "light"
     },
     "output_type": "display_data"
    },
    {
     "name": "stdout",
     "output_type": "stream",
     "text": [
      "Процент дефолта по категории\n"
     ]
    },
    {
     "data": {
      "image/png": "[encoded data removed]",
      "text/plain": [
       "<Figure size 432x288 with 1 Axes>"
      ]
     },
     "metadata": {},
     "output_type": "display_data"
    },
    {
     "data": {
      "image/png": "[encoded data removed]",
      "text/plain": [
       "<Figure size 432x288 with 1 Axes>"
      ]
     },
     "metadata": {},
     "output_type": "display_data"
    },
    {
     "data": {
      "image/png": "[encoded data removed]",
      "text/plain": [
       "<Figure size 432x288 with 1 Axes>"
      ]
     },
     "metadata": {},
     "output_type": "display_data"
    },
    {
     "name": "stdout",
     "output_type": "stream",
     "text": [
      "Признак -  work_address\n",
      "Уникальные значения -  [2 3 1]\n",
      "общее количество значений по группе\n",
      "3    67113\n",
      "2    30761\n",
      "1    12274\n",
      "Name: work_address, dtype: int64\n"
     ]
    },
    {
     "data": {
      "image/png": "[encoded data removed]",
      "text/plain": [
       "<Figure size 475.375x432 with 1 Axes>"
      ]
     },
     "metadata": {
      "needs_background": "light"
     },
     "output_type": "display_data"
    },
    {
     "name": "stdout",
     "output_type": "stream",
     "text": [
      "Процент дефолта по категории\n"
     ]
    },
    {
     "data": {
      "image/png": "[encoded data removed]",
      "text/plain": [
       "<Figure size 432x288 with 1 Axes>"
      ]
     },
     "metadata": {},
     "output_type": "display_data"
    },
    {
     "data": {
      "image/png": "[encoded data removed]",
      "text/plain": [
       "<Figure size 432x288 with 1 Axes>"
      ]
     },
     "metadata": {},
     "output_type": "display_data"
    },
    {
     "data": {
      "image/png": "[encoded data removed]",
      "text/plain": [
       "<Figure size 432x288 with 1 Axes>"
      ]
     },
     "metadata": {},
     "output_type": "display_data"
    },
    {
     "name": "stdout",
     "output_type": "stream",
     "text": [
      "Признак -  sna\n",
      "Уникальные значения -  [1 4 2 3]\n",
      "общее количество значений по группе\n",
      "1    70681\n",
      "4    17481\n",
      "2    15832\n",
      "3     6154\n",
      "Name: sna, dtype: int64\n"
     ]
    },
    {
     "data": {
      "image/png": "[encoded data removed]",
      "text/plain": [
       "<Figure size 475.375x432 with 1 Axes>"
      ]
     },
     "metadata": {
      "needs_background": "light"
     },
     "output_type": "display_data"
    },
    {
     "name": "stdout",
     "output_type": "stream",
     "text": [
      "Процент дефолта по категории\n"
     ]
    },
    {
     "data": {
      "image/png": "[encoded data removed]",
      "text/plain": [
       "<Figure size 432x288 with 1 Axes>"
      ]
     },
     "metadata": {},
     "output_type": "display_data"
    },
    {
     "data": {
      "image/png": "[encoded data removed]",
      "text/plain": [
       "<Figure size 432x288 with 1 Axes>"
      ]
     },
     "metadata": {},
     "output_type": "display_data"
    },
    {
     "data": {
      "image/png": "[encoded data removed]",
      "text/plain": [
       "<Figure size 432x288 with 1 Axes>"
      ]
     },
     "metadata": {},
     "output_type": "display_data"
    },
    {
     "data": {
      "image/png": "[encoded data removed]",
      "text/plain": [
       "<Figure size 432x288 with 1 Axes>"
      ]
     },
     "metadata": {},
     "output_type": "display_data"
    },
    {
     "name": "stdout",
     "output_type": "stream",
     "text": [
      "Признак -  first_time\n",
      "Уникальные значения -  [4 3 1 2]\n",
      "общее количество значений по группе\n",
      "3    46588\n",
      "4    28017\n",
      "1    18296\n",
      "2    17247\n",
      "Name: first_time, dtype: int64\n"
     ]
    },
    {
     "data": {
      "image/png": "[encoded data removed]",
      "text/plain": [
       "<Figure size 475.375x432 with 1 Axes>"
      ]
     },
     "metadata": {
      "needs_background": "light"
     },
     "output_type": "display_data"
    },
    {
     "name": "stdout",
     "output_type": "stream",
     "text": [
      "Процент дефолта по категории\n"
     ]
    },
    {
     "data": {
      "image/png": "[encoded data removed]",
      "text/plain": [
       "<Figure size 432x288 with 1 Axes>"
      ]
     },
     "metadata": {},
     "output_type": "display_data"
    },
    {
     "data": {
      "image/png": "[encoded data removed]",
      "text/plain": [
       "<Figure size 432x288 with 1 Axes>"
      ]
     },
     "metadata": {},
     "output_type": "display_data"
    },
    {
     "data": {
      "image/png": "[encoded data removed]",
      "text/plain": [
       "<Figure size 432x288 with 1 Axes>"
      ]
     },
     "metadata": {},
     "output_type": "display_data"
    },
    {
     "data": {
      "image/png": "[encoded data removed]",
      "text/plain": [
       "<Figure size 432x288 with 1 Axes>"
      ]
     },
     "metadata": {},
     "output_type": "display_data"
    }
   ],
   "source": [
    "show_information(cat_cols)"
   ]
  },
  {
   "cell_type": "markdown",
   "id": "a63a51e3",
   "metadata": {
    "_cell_guid": "f856ecda-5bff-4edc-80cb-457d23820731",
    "_uuid": "e2f33f61-c57b-4e1f-b5c2-6bbf4efb2ff7",
    "papermill": {
     "duration": 0.13504,
     "end_time": "2021-11-22T17:01:50.311294",
     "exception": false,
     "start_time": "2021-11-22T17:01:50.176254",
     "status": "completed"
    },
    "tags": []
   },
   "source": [
    "## Вывод:   \n",
    "Наблюдаем несбалансированность выборки по всем признакам. Пройдемся более \n",
    "подробно по каждому признаку.    \n",
    "### Признак Education    \n",
    "Самое популярное значение признака - SCH.     \n",
    "Самый большой дефолт у значения SCH и UGR.\n",
    "Весьма интересно, что у значений ACD и PGR весьма низкие показатели дефолта. Менее 5%.\n",
    "### Признак home_address    \n",
    "Самое популярное значение признака - 2.     \n",
    "Самый большой дефолт у значения 3.    \n",
    "Чем больше значение признака address, тем больше вероятность дефолта.\n",
    "Так же у значения 1 вероятность дефолта - 6.22%\n",
    "### Признак sna.    \n",
    "Самое популярное значение признака - 1.    \n",
    "Самый большой дефолт у значения 4 и 3.   \n",
    "Чем больше значение признака sna, тем больше вероятность дефолта.   \n",
    "Так же у значения 1 вероятность дефолта - 6.57%   \n",
    "### Признак first_time.    \n",
    "Самое популярное значение признака - 3.    \n",
    "Самый большой дефолт у значения 1.   \n",
    "Чем больше значение признака time, тем меньше вероятность дефолта.    \n",
    "Так же у значения 4 вероятность дефолта меньше 5.49%   "
   ]
  },
  {
   "cell_type": "markdown",
   "id": "36ead8ed",
   "metadata": {
    "_cell_guid": "679b2d38-f996-44bd-b59a-08584bb30b60",
    "_uuid": "270a78e1-8c0d-4cd9-a6f7-ba9877fa8565",
    "papermill": {
     "duration": 0.140497,
     "end_time": "2021-11-22T17:01:50.585264",
     "exception": false,
     "start_time": "2021-11-22T17:01:50.444767",
     "status": "completed"
    },
    "tags": []
   },
   "source": [
    "# Раздел 5. Обработка количественных признаков."
   ]
  },
  {
   "cell_type": "code",
   "execution_count": 24,
   "id": "4c835703",
   "metadata": {
    "_cell_guid": "ebaba9c6-5a4e-4521-9c0f-72c3bc7ea1dc",
    "_uuid": "17a480e9-036e-40e2-8a39-7c0d8f45ccc0",
    "execution": {
     "iopub.execute_input": "2021-11-22T17:01:50.866076Z",
     "iopub.status.busy": "2021-11-22T17:01:50.865446Z",
     "iopub.status.idle": "2021-11-22T17:01:50.870536Z",
     "shell.execute_reply": "2021-11-22T17:01:50.870056Z",
     "shell.execute_reply.started": "2021-11-22T16:52:04.747045Z"
    },
    "jupyter": {
     "outputs_hidden": false
    },
    "papermill": {
     "duration": 0.139758,
     "end_time": "2021-11-22T17:01:50.870674",
     "exception": false,
     "start_time": "2021-11-22T17:01:50.730916",
     "status": "completed"
    },
    "tags": []
   },
   "outputs": [
    {
     "name": "stdout",
     "output_type": "stream",
     "text": [
      "количественные признаки ['age', 'decline_app_cnt', 'score_bki', 'bki_request_cnt', 'region_rating', 'income']\n"
     ]
    }
   ],
   "source": [
    "print('количественные признаки', num_cols)"
   ]
  },
  {
   "cell_type": "markdown",
   "id": "b868932f",
   "metadata": {
    "_cell_guid": "af372d03-fc73-4d44-8abb-c0c3f3f77fbc",
    "_uuid": "731f19b6-6f6e-4cb3-b76a-3d961e3fd296",
    "papermill": {
     "duration": 0.143494,
     "end_time": "2021-11-22T17:01:51.155218",
     "exception": false,
     "start_time": "2021-11-22T17:01:51.011724",
     "status": "completed"
    },
    "tags": []
   },
   "source": [
    "Немного изменим подход. Теперь будем анализировать каждую количественную переменную отдельно."
   ]
  },
  {
   "cell_type": "markdown",
   "id": "ef74d849",
   "metadata": {
    "_cell_guid": "e787b8cc-5324-43e4-a699-c68bb76c48bf",
    "_uuid": "937f412b-94a0-4b83-922a-711caed924d4",
    "papermill": {
     "duration": 0.131522,
     "end_time": "2021-11-22T17:01:51.418709",
     "exception": false,
     "start_time": "2021-11-22T17:01:51.287187",
     "status": "completed"
    },
    "tags": []
   },
   "source": [
    "## Признак - age - возраст"
   ]
  },
  {
   "cell_type": "code",
   "execution_count": 25,
   "id": "c71acd57",
   "metadata": {
    "_cell_guid": "430f1dc9-06cf-44ae-956a-1bdf73ae5760",
    "_uuid": "60928055-4895-41a2-96cf-0e1f9dd83fca",
    "execution": {
     "iopub.execute_input": "2021-11-22T17:01:51.686323Z",
     "iopub.status.busy": "2021-11-22T17:01:51.685679Z",
     "iopub.status.idle": "2021-11-22T17:01:52.189147Z",
     "shell.execute_reply": "2021-11-22T17:01:52.188091Z",
     "shell.execute_reply.started": "2021-11-22T16:52:04.753690Z"
    },
    "jupyter": {
     "outputs_hidden": false
    },
    "papermill": {
     "duration": 0.638446,
     "end_time": "2021-11-22T17:01:52.189294",
     "exception": false,
     "start_time": "2021-11-22T17:01:51.550848",
     "status": "completed"
    },
    "tags": []
   },
   "outputs": [
    {
     "name": "stdout",
     "output_type": "stream",
     "text": [
      "вывод информации по признаку age\n",
      "Мода -  31\n",
      "count    110148.000000\n",
      "mean         39.249410\n",
      "std          11.518063\n",
      "min          21.000000\n",
      "25%          30.000000\n",
      "50%          37.000000\n",
      "75%          48.000000\n",
      "max          72.000000\n",
      "Name: age, dtype: float64\n"
     ]
    },
    {
     "data": {
      "image/png": "[encoded data removed]",
      "text/plain": [
       "<Figure size 432x288 with 1 Axes>"
      ]
     },
     "metadata": {
      "needs_background": "light"
     },
     "output_type": "display_data"
    },
    {
     "name": "stderr",
     "output_type": "stream",
     "text": [
      "C:\\ProgramData\\Anaconda3\\lib\\site-packages\\seaborn\\distributions.py:2557: FutureWarning: `distplot` is a deprecated function and will be removed in a future version. Please adapt your code to use either `displot` (a figure-level function with similar flexibility) or `histplot` (an axes-level function for histograms).\n",
      "  warnings.warn(msg, FutureWarning)\n"
     ]
    },
    {
     "data": {
      "image/png": "[encoded data removed]",
      "text/plain": [
       "<Figure size 432x288 with 1 Axes>"
      ]
     },
     "metadata": {
      "needs_background": "light"
     },
     "output_type": "display_data"
    }
   ],
   "source": [
    "show_num_information(num_cols[0])"
   ]
  },
  {
   "cell_type": "markdown",
   "id": "97e710ef",
   "metadata": {
    "_cell_guid": "253d60e3-fa8c-4d07-841d-c945ba4fdffc",
    "_uuid": "ef427a1e-e717-4e4c-a5aa-45b3f9c919db",
    "papermill": {
     "duration": 0.134011,
     "end_time": "2021-11-22T17:01:52.457575",
     "exception": false,
     "start_time": "2021-11-22T17:01:52.323564",
     "status": "completed"
    },
    "tags": []
   },
   "source": [
    "Вывод:    \n",
    "Признак распределен не нормально. Есть правый хвост.  \n",
    "Среди клиентов молодые люди чаще становятся дефолтными. Однако разница незначительная."
   ]
  },
  {
   "cell_type": "markdown",
   "id": "2fc49014",
   "metadata": {
    "_cell_guid": "bf4fdac3-f7ce-4d98-8d7a-edece742eabc",
    "_uuid": "1044d916-b54f-4cac-8202-20f053ab871b",
    "execution": {
     "iopub.execute_input": "2021-11-07T15:11:41.097648Z",
     "iopub.status.busy": "2021-11-07T15:11:41.097414Z",
     "iopub.status.idle": "2021-11-07T15:11:41.103727Z",
     "shell.execute_reply": "2021-11-07T15:11:41.102473Z",
     "shell.execute_reply.started": "2021-11-07T15:11:41.097618Z"
    },
    "papermill": {
     "duration": 0.13628,
     "end_time": "2021-11-22T17:01:52.730471",
     "exception": false,
     "start_time": "2021-11-22T17:01:52.594191",
     "status": "completed"
    },
    "tags": []
   },
   "source": [
    "Создадим новый признак.    \n",
    "0 - возраст до 30 - молодые люди.    \n",
    "1 - возраст от 31 до 45  - люди средних лет.    \n",
    "2 - возраст от 46 до 59  - престарелые люди.    \n",
    "3 - возраст > 60 - пенсионеры."
   ]
  },
  {
   "cell_type": "code",
   "execution_count": 26,
   "id": "65736877",
   "metadata": {
    "_cell_guid": "359fc2a5-0298-4d4b-a5e2-b77e2ce2b411",
    "_uuid": "149d6c40-a9a9-4c32-8128-ae2138af1136",
    "execution": {
     "iopub.execute_input": "2021-11-22T17:01:53.012510Z",
     "iopub.status.busy": "2021-11-22T17:01:53.011774Z",
     "iopub.status.idle": "2021-11-22T17:01:53.084326Z",
     "shell.execute_reply": "2021-11-22T17:01:53.083691Z",
     "shell.execute_reply.started": "2021-11-22T16:52:05.271603Z"
    },
    "jupyter": {
     "outputs_hidden": false
    },
    "papermill": {
     "duration": 0.217725,
     "end_time": "2021-11-22T17:01:53.084494",
     "exception": false,
     "start_time": "2021-11-22T17:01:52.866769",
     "status": "completed"
    },
    "tags": []
   },
   "outputs": [],
   "source": [
    "df['age_type'] = df['age'].apply(lambda x:\n",
    "                                 0 if x < 31 else 1 if x < 46 else 2 if x < 60 else 3)"
   ]
  },
  {
   "cell_type": "code",
   "execution_count": 27,
   "id": "54ba8d41",
   "metadata": {
    "_cell_guid": "17c98907-61b9-44e9-aadc-1b441da2431e",
    "_uuid": "8689ad73-6142-48f1-82e7-0acd97fd2ff5",
    "execution": {
     "iopub.execute_input": "2021-11-22T17:01:53.358783Z",
     "iopub.status.busy": "2021-11-22T17:01:53.358169Z",
     "iopub.status.idle": "2021-11-22T17:01:53.364985Z",
     "shell.execute_reply": "2021-11-22T17:01:53.365521Z",
     "shell.execute_reply.started": "2021-11-22T16:52:05.352426Z"
    },
    "jupyter": {
     "outputs_hidden": false
    },
    "papermill": {
     "duration": 0.145324,
     "end_time": "2021-11-22T17:01:53.365682",
     "exception": false,
     "start_time": "2021-11-22T17:01:53.220358",
     "status": "completed"
    },
    "tags": []
   },
   "outputs": [
    {
     "data": {
      "text/plain": [
       "1    46922\n",
       "0    30798\n",
       "2    26068\n",
       "3     6360\n",
       "Name: age_type, dtype: int64"
      ]
     },
     "execution_count": 27,
     "metadata": {},
     "output_type": "execute_result"
    }
   ],
   "source": [
    "# Проверим что получилось.\n",
    "df['age_type'].value_counts()"
   ]
  },
  {
   "cell_type": "code",
   "execution_count": 28,
   "id": "3e4d9871",
   "metadata": {
    "_cell_guid": "28d6f37a-d432-4701-8bdd-a51e0cd63389",
    "_uuid": "a0751fc0-1b6e-40d8-96f1-3aefec281c58",
    "execution": {
     "iopub.execute_input": "2021-11-22T17:01:53.638634Z",
     "iopub.status.busy": "2021-11-22T17:01:53.638019Z",
     "iopub.status.idle": "2021-11-22T17:01:53.641788Z",
     "shell.execute_reply": "2021-11-22T17:01:53.642284Z",
     "shell.execute_reply.started": "2021-11-22T16:52:05.365478Z"
    },
    "jupyter": {
     "outputs_hidden": false
    },
    "papermill": {
     "duration": 0.141577,
     "end_time": "2021-11-22T17:01:53.642449",
     "exception": false,
     "start_time": "2021-11-22T17:01:53.500872",
     "status": "completed"
    },
    "tags": []
   },
   "outputs": [],
   "source": [
    "# Добавим данный признак в список категориальных признаков\n",
    "new_cat_cols.append('age_type')"
   ]
  },
  {
   "cell_type": "markdown",
   "id": "aa21f463",
   "metadata": {
    "_cell_guid": "3b1a4be4-8fa7-4f9b-af6d-a64b89875134",
    "_uuid": "cafbe34a-df96-4586-a1cb-c6d44f82bf05",
    "papermill": {
     "duration": 0.135895,
     "end_time": "2021-11-22T17:01:53.912406",
     "exception": false,
     "start_time": "2021-11-22T17:01:53.776511",
     "status": "completed"
    },
    "tags": []
   },
   "source": [
    "## Признак decline_app_cnt - количество отказанных прошлых заявок"
   ]
  },
  {
   "cell_type": "code",
   "execution_count": 29,
   "id": "743f079e",
   "metadata": {
    "_cell_guid": "37ac6bf7-f269-458a-aed0-38121b25f645",
    "_uuid": "dfbeb242-04bb-4741-84b5-29894863c7d1",
    "execution": {
     "iopub.execute_input": "2021-11-22T17:01:54.189156Z",
     "iopub.status.busy": "2021-11-22T17:01:54.188496Z",
     "iopub.status.idle": "2021-11-22T17:01:54.698179Z",
     "shell.execute_reply": "2021-11-22T17:01:54.697617Z",
     "shell.execute_reply.started": "2021-11-22T16:52:05.373348Z"
    },
    "jupyter": {
     "outputs_hidden": false
    },
    "papermill": {
     "duration": 0.650299,
     "end_time": "2021-11-22T17:01:54.698320",
     "exception": false,
     "start_time": "2021-11-22T17:01:54.048021",
     "status": "completed"
    },
    "tags": []
   },
   "outputs": [
    {
     "name": "stdout",
     "output_type": "stream",
     "text": [
      "вывод информации по признаку decline_app_cnt\n",
      "Мода -  0\n",
      "count    110148.000000\n",
      "mean          0.273205\n",
      "std           0.799099\n",
      "min           0.000000\n",
      "25%           0.000000\n",
      "50%           0.000000\n",
      "75%           0.000000\n",
      "max          33.000000\n",
      "Name: decline_app_cnt, dtype: float64\n"
     ]
    },
    {
     "data": {
      "image/png": "[encoded data removed]",
      "text/plain": [
       "<Figure size 432x288 with 1 Axes>"
      ]
     },
     "metadata": {
      "needs_background": "light"
     },
     "output_type": "display_data"
    },
    {
     "name": "stderr",
     "output_type": "stream",
     "text": [
      "C:\\ProgramData\\Anaconda3\\lib\\site-packages\\seaborn\\distributions.py:2557: FutureWarning: `distplot` is a deprecated function and will be removed in a future version. Please adapt your code to use either `displot` (a figure-level function with similar flexibility) or `histplot` (an axes-level function for histograms).\n",
      "  warnings.warn(msg, FutureWarning)\n"
     ]
    },
    {
     "data": {
      "image/png": "[encoded data removed]",
      "text/plain": [
       "<Figure size 432x288 with 1 Axes>"
      ]
     },
     "metadata": {
      "needs_background": "light"
     },
     "output_type": "display_data"
    }
   ],
   "source": [
    "show_num_information(num_cols[1])"
   ]
  },
  {
   "cell_type": "markdown",
   "id": "93b1e829",
   "metadata": {
    "_cell_guid": "0e6fd4cc-8936-4131-97bf-c8e4cc06ea17",
    "_uuid": "5226a54c-eb10-45c7-824c-fd1cf68a79d9",
    "papermill": {
     "duration": 0.138805,
     "end_time": "2021-11-22T17:01:54.975373",
     "exception": false,
     "start_time": "2021-11-22T17:01:54.836568",
     "status": "completed"
    },
    "tags": []
   },
   "source": [
    "Вывод:    \n",
    "Признак распределен не нормально. Есть очень тяжелый правый хвост.\n",
    "Создадим новый признак.   \n",
    "0-\tКоличество попыток = 0    \n",
    "1-\tКоличество попыток от 1 до 5    \n",
    "2-\tКоличество попыток больше 6"
   ]
  },
  {
   "cell_type": "code",
   "execution_count": 30,
   "id": "de4f1d43",
   "metadata": {
    "_cell_guid": "45615057-2a11-4370-bdec-c119e9693f0f",
    "_uuid": "de748632-a263-48ee-99e9-e1d4ff5a31da",
    "execution": {
     "iopub.execute_input": "2021-11-22T17:01:55.258802Z",
     "iopub.status.busy": "2021-11-22T17:01:55.258104Z",
     "iopub.status.idle": "2021-11-22T17:01:55.328525Z",
     "shell.execute_reply": "2021-11-22T17:01:55.329075Z",
     "shell.execute_reply.started": "2021-11-22T16:52:05.907823Z"
    },
    "jupyter": {
     "outputs_hidden": false
    },
    "papermill": {
     "duration": 0.214843,
     "end_time": "2021-11-22T17:01:55.329245",
     "exception": false,
     "start_time": "2021-11-22T17:01:55.114402",
     "status": "completed"
    },
    "tags": []
   },
   "outputs": [],
   "source": [
    "df['type_dec_app_cnt'] = df['decline_app_cnt'].apply(lambda x:\n",
    "                                                     0 if x == 0 else 1 if x < 6 else 2)"
   ]
  },
  {
   "cell_type": "code",
   "execution_count": 31,
   "id": "7d8f303a",
   "metadata": {
    "_cell_guid": "4f312f6e-b13c-4958-92f2-032c8add2767",
    "_uuid": "48c35bef-79b7-4698-ae22-76c27d395ee0",
    "execution": {
     "iopub.execute_input": "2021-11-22T17:01:55.608993Z",
     "iopub.status.busy": "2021-11-22T17:01:55.608338Z",
     "iopub.status.idle": "2021-11-22T17:01:55.615332Z",
     "shell.execute_reply": "2021-11-22T17:01:55.615841Z",
     "shell.execute_reply.started": "2021-11-22T16:52:05.982566Z"
    },
    "jupyter": {
     "outputs_hidden": false
    },
    "papermill": {
     "duration": 0.147184,
     "end_time": "2021-11-22T17:01:55.616038",
     "exception": false,
     "start_time": "2021-11-22T17:01:55.468854",
     "status": "completed"
    },
    "tags": []
   },
   "outputs": [
    {
     "data": {
      "text/plain": [
       "0    91471\n",
       "1    18348\n",
       "2      329\n",
       "Name: type_dec_app_cnt, dtype: int64"
      ]
     },
     "execution_count": 31,
     "metadata": {},
     "output_type": "execute_result"
    }
   ],
   "source": [
    "# Проверим что получилось.\n",
    "df['type_dec_app_cnt'].value_counts()"
   ]
  },
  {
   "cell_type": "code",
   "execution_count": 32,
   "id": "51fa8a6c",
   "metadata": {
    "_cell_guid": "c610e923-e5ea-449a-9b24-92974e6bcd6f",
    "_uuid": "286a861f-d658-41bd-add5-8c2adb1126d1",
    "execution": {
     "iopub.execute_input": "2021-11-22T17:01:55.895473Z",
     "iopub.status.busy": "2021-11-22T17:01:55.894836Z",
     "iopub.status.idle": "2021-11-22T17:01:55.899196Z",
     "shell.execute_reply": "2021-11-22T17:01:55.898683Z",
     "shell.execute_reply.started": "2021-11-22T16:52:05.992573Z"
    },
    "jupyter": {
     "outputs_hidden": false
    },
    "papermill": {
     "duration": 0.144506,
     "end_time": "2021-11-22T17:01:55.899340",
     "exception": false,
     "start_time": "2021-11-22T17:01:55.754834",
     "status": "completed"
    },
    "tags": []
   },
   "outputs": [],
   "source": [
    "# Добавим данный признак в список категориальных признаков\n",
    "new_cat_cols.append('type_dec_app_cnt')"
   ]
  },
  {
   "cell_type": "raw",
   "id": "ec926b06",
   "metadata": {
    "_cell_guid": "0e5a14a6-7a51-4390-b594-bd3e0561fa19",
    "_uuid": "39c9c37a-bb97-4536-a689-66762d6f8b27",
    "papermill": {
     "duration": 0.139238,
     "end_time": "2021-11-22T17:01:56.177419",
     "exception": false,
     "start_time": "2021-11-22T17:01:56.038181",
     "status": "completed"
    },
    "tags": []
   },
   "source": [
    "так же, всех кому отказали более 10 раз, будем считать выбросами. \n",
    "Присвоим всем значениям больше 10 - значение 11."
   ]
  },
  {
   "cell_type": "code",
   "execution_count": 33,
   "id": "3e42239b",
   "metadata": {
    "_cell_guid": "a54bde47-36a1-4fe9-ad0c-78293dfc142d",
    "_uuid": "956c303d-c0cb-4404-8db5-7042f5f880cd",
    "execution": {
     "iopub.execute_input": "2021-11-22T17:01:56.457565Z",
     "iopub.status.busy": "2021-11-22T17:01:56.455521Z",
     "iopub.status.idle": "2021-11-22T17:01:56.527257Z",
     "shell.execute_reply": "2021-11-22T17:01:56.526537Z",
     "shell.execute_reply.started": "2021-11-22T16:52:06.003804Z"
    },
    "jupyter": {
     "outputs_hidden": false
    },
    "papermill": {
     "duration": 0.213075,
     "end_time": "2021-11-22T17:01:56.527401",
     "exception": false,
     "start_time": "2021-11-22T17:01:56.314326",
     "status": "completed"
    },
    "tags": []
   },
   "outputs": [],
   "source": [
    "df['decline_app_cnt'] = df['decline_app_cnt'].apply(lambda x:\n",
    "                                                    11 if x > 10 else x)"
   ]
  },
  {
   "cell_type": "markdown",
   "id": "99d5f105",
   "metadata": {
    "_cell_guid": "73be96fa-1997-4da2-9196-e43f0c146805",
    "_uuid": "fe93bfa2-9e75-4d11-9519-786a4d4d804e",
    "papermill": {
     "duration": 0.136211,
     "end_time": "2021-11-22T17:01:56.806313",
     "exception": false,
     "start_time": "2021-11-22T17:01:56.670102",
     "status": "completed"
    },
    "tags": []
   },
   "source": [
    "## Признак score_bki - скоринговый балл по данным из БКИ"
   ]
  },
  {
   "cell_type": "code",
   "execution_count": 34,
   "id": "56ffddbc",
   "metadata": {
    "_cell_guid": "dffe20c7-0c08-40f9-bb98-5f73f58daeb4",
    "_uuid": "f43b8c7d-2628-4391-ae31-e0c731555d6c",
    "execution": {
     "iopub.execute_input": "2021-11-22T17:01:57.099527Z",
     "iopub.status.busy": "2021-11-22T17:01:57.098796Z",
     "iopub.status.idle": "2021-11-22T17:01:57.607285Z",
     "shell.execute_reply": "2021-11-22T17:01:57.607768Z",
     "shell.execute_reply.started": "2021-11-22T16:52:06.086143Z"
    },
    "jupyter": {
     "outputs_hidden": false
    },
    "papermill": {
     "duration": 0.665844,
     "end_time": "2021-11-22T17:01:57.607951",
     "exception": false,
     "start_time": "2021-11-22T17:01:56.942107",
     "status": "completed"
    },
    "tags": []
   },
   "outputs": [
    {
     "name": "stdout",
     "output_type": "stream",
     "text": [
      "вывод информации по признаку score_bki\n",
      "Мода -  -1.77526279\n",
      "count    110148.000000\n",
      "mean         -1.904535\n",
      "std           0.499397\n",
      "min          -3.624586\n",
      "25%          -2.260434\n",
      "50%          -1.920823\n",
      "75%          -1.567888\n",
      "max           0.199773\n",
      "Name: score_bki, dtype: float64\n"
     ]
    },
    {
     "data": {
      "image/png": "[encoded data removed]",
      "text/plain": [
       "<Figure size 432x288 with 1 Axes>"
      ]
     },
     "metadata": {
      "needs_background": "light"
     },
     "output_type": "display_data"
    },
    {
     "name": "stderr",
     "output_type": "stream",
     "text": [
      "C:\\ProgramData\\Anaconda3\\lib\\site-packages\\seaborn\\distributions.py:2557: FutureWarning: `distplot` is a deprecated function and will be removed in a future version. Please adapt your code to use either `displot` (a figure-level function with similar flexibility) or `histplot` (an axes-level function for histograms).\n",
      "  warnings.warn(msg, FutureWarning)\n"
     ]
    },
    {
     "data": {
      "image/png": "[encoded data removed]",
      "text/plain": [
       "<Figure size 432x288 with 1 Axes>"
      ]
     },
     "metadata": {
      "needs_background": "light"
     },
     "output_type": "display_data"
    }
   ],
   "source": [
    "show_num_information(num_cols[2])"
   ]
  },
  {
   "cell_type": "markdown",
   "id": "7b92bb97",
   "metadata": {
    "_cell_guid": "adc57357-870c-4ea6-a98e-f0167d0fa733",
    "_uuid": "94379790-22f4-49a1-9e90-78c3f30a1878",
    "papermill": {
     "duration": 0.138925,
     "end_time": "2021-11-22T17:01:57.885370",
     "exception": false,
     "start_time": "2021-11-22T17:01:57.746445",
     "status": "completed"
    },
    "tags": []
   },
   "source": [
    "Вывод:    \n",
    "Признак распределен нормально.   \n",
    "На boxplot заметно влияние признака на предсказываемую переменную."
   ]
  },
  {
   "cell_type": "markdown",
   "id": "51dbbcf7",
   "metadata": {
    "_cell_guid": "d22597f9-f791-4bb1-82cb-7b79496eb8fb",
    "_uuid": "0563aa29-8c4d-45eb-a117-d909247dd3d3",
    "papermill": {
     "duration": 0.141168,
     "end_time": "2021-11-22T17:01:58.169260",
     "exception": false,
     "start_time": "2021-11-22T17:01:58.028092",
     "status": "completed"
    },
    "tags": []
   },
   "source": [
    "Добавим категориальную переменную type_score_bki. Разделим на 8 групп. Каждая группа содержит 1 стандартное отклонение начиная со среднего."
   ]
  },
  {
   "cell_type": "code",
   "execution_count": 35,
   "id": "f91cafd1",
   "metadata": {
    "_cell_guid": "ce2d249b-7504-44f7-9893-e802421e78f9",
    "_uuid": "8494b70e-82ea-4225-9af2-4a5a3aed353f",
    "execution": {
     "iopub.execute_input": "2021-11-22T17:01:58.455119Z",
     "iopub.status.busy": "2021-11-22T17:01:58.454122Z",
     "iopub.status.idle": "2021-11-22T17:01:58.537236Z",
     "shell.execute_reply": "2021-11-22T17:01:58.536673Z",
     "shell.execute_reply.started": "2021-11-22T16:52:06.635217Z"
    },
    "jupyter": {
     "outputs_hidden": false
    },
    "papermill": {
     "duration": 0.228539,
     "end_time": "2021-11-22T17:01:58.537385",
     "exception": false,
     "start_time": "2021-11-22T17:01:58.308846",
     "status": "completed"
    },
    "tags": []
   },
   "outputs": [],
   "source": [
    "df['type_score_bki'] = df['score_bki'].apply(lambda x:\n",
    "                                             8 if x <= -3.402726 else\n",
    "                                             7 if x <= -2.903329 else\n",
    "                                             6 if x <= -2.403932 else\n",
    "                                             5 if x <= -1.904535 else\n",
    "                                             4 if x <= -1.405138 else\n",
    "                                             3 if x <= -0.905741 else\n",
    "                                             2 if x <= -0.406344 else\n",
    "                                             1 if x <= 0.093053 else\n",
    "                                             0)"
   ]
  },
  {
   "cell_type": "code",
   "execution_count": 36,
   "id": "8a185132",
   "metadata": {
    "_cell_guid": "a05b5cf7-482f-449b-bf2d-8f86cd519ad6",
    "_uuid": "37cba959-fa1f-4746-bd12-b530a5bc6262",
    "execution": {
     "iopub.execute_input": "2021-11-22T17:01:58.824258Z",
     "iopub.status.busy": "2021-11-22T17:01:58.823603Z",
     "iopub.status.idle": "2021-11-22T17:01:58.826413Z",
     "shell.execute_reply": "2021-11-22T17:01:58.826951Z",
     "shell.execute_reply.started": "2021-11-22T16:52:06.722320Z"
    },
    "jupyter": {
     "outputs_hidden": false
    },
    "papermill": {
     "duration": 0.14787,
     "end_time": "2021-11-22T17:01:58.827134",
     "exception": false,
     "start_time": "2021-11-22T17:01:58.679264",
     "status": "completed"
    },
    "tags": []
   },
   "outputs": [],
   "source": [
    "#Добавим данный признак в список категориальных признаков\n",
    "new_cat_cols.append('type_score_bki')"
   ]
  },
  {
   "cell_type": "markdown",
   "id": "800ec2a5",
   "metadata": {
    "_cell_guid": "465cf4af-c7a6-4b69-9dad-6eeee144a7d5",
    "_uuid": "76b7a587-0fa8-4615-a227-75aa3fc8fe50",
    "papermill": {
     "duration": 0.141767,
     "end_time": "2021-11-22T17:01:59.109045",
     "exception": false,
     "start_time": "2021-11-22T17:01:58.967278",
     "status": "completed"
    },
    "tags": []
   },
   "source": [
    "## Признак bki_request_cnt - количество запросов в БКИ"
   ]
  },
  {
   "cell_type": "code",
   "execution_count": 37,
   "id": "7b277f62",
   "metadata": {
    "_cell_guid": "ced7c7e8-190d-4e42-a749-acbc61a8e1cd",
    "_uuid": "4d02e135-09fa-4847-8840-557bfd59d661",
    "execution": {
     "iopub.execute_input": "2021-11-22T17:01:59.398088Z",
     "iopub.status.busy": "2021-11-22T17:01:59.397409Z",
     "iopub.status.idle": "2021-11-22T17:01:59.879384Z",
     "shell.execute_reply": "2021-11-22T17:01:59.878741Z",
     "shell.execute_reply.started": "2021-11-22T16:52:06.729615Z"
    },
    "jupyter": {
     "outputs_hidden": false
    },
    "papermill": {
     "duration": 0.629167,
     "end_time": "2021-11-22T17:01:59.879539",
     "exception": false,
     "start_time": "2021-11-22T17:01:59.250372",
     "status": "completed"
    },
    "tags": []
   },
   "outputs": [
    {
     "name": "stdout",
     "output_type": "stream",
     "text": [
      "вывод информации по признаку bki_request_cnt\n",
      "Мода -  0\n",
      "count    110148.000000\n",
      "mean          2.005002\n",
      "std           2.266926\n",
      "min           0.000000\n",
      "25%           0.000000\n",
      "50%           1.000000\n",
      "75%           3.000000\n",
      "max          53.000000\n",
      "Name: bki_request_cnt, dtype: float64\n"
     ]
    },
    {
     "data": {
      "image/png": "[encoded data removed]",
      "text/plain": [
       "<Figure size 432x288 with 1 Axes>"
      ]
     },
     "metadata": {
      "needs_background": "light"
     },
     "output_type": "display_data"
    },
    {
     "name": "stderr",
     "output_type": "stream",
     "text": [
      "C:\\ProgramData\\Anaconda3\\lib\\site-packages\\seaborn\\distributions.py:2557: FutureWarning: `distplot` is a deprecated function and will be removed in a future version. Please adapt your code to use either `displot` (a figure-level function with similar flexibility) or `histplot` (an axes-level function for histograms).\n",
      "  warnings.warn(msg, FutureWarning)\n"
     ]
    },
    {
     "data": {
      "image/png": "[encoded data removed]",
      "text/plain": [
       "<Figure size 432x288 with 1 Axes>"
      ]
     },
     "metadata": {
      "needs_background": "light"
     },
     "output_type": "display_data"
    }
   ],
   "source": [
    "show_num_information(num_cols[3])"
   ]
  },
  {
   "cell_type": "markdown",
   "id": "b31e3366",
   "metadata": {
    "_cell_guid": "027dd710-0fb8-41b5-9d5c-f210dcb8816f",
    "_uuid": "72a22f68-525f-4abb-8c4c-d15c501d0d79",
    "papermill": {
     "duration": 0.143216,
     "end_time": "2021-11-22T17:02:00.164792",
     "exception": false,
     "start_time": "2021-11-22T17:02:00.021576",
     "status": "completed"
    },
    "tags": []
   },
   "source": [
    "Вывод:    \n",
    "Признак распределен не нормально. Есть очень тяжелый правый хвост.    \n",
    "На boxplot заметно влияние признака на предсказываемую переменную.    \n",
    "Так же. создадим новый признак, который будет отображать насколько много заявок подали люди от 1 до 3    \n",
    "1 - если значение равно 0 или 1.    \n",
    "2 - если значение от 0 до 3.     \n",
    "3 - если значение от 3 до 5.    \n",
    "4 - если значение больше 5.    \n",
    "Так же у нас есть выбросы в данных. Всем значения больше 7 присвоим значение 7."
   ]
  },
  {
   "cell_type": "code",
   "execution_count": 38,
   "id": "a9829c7b",
   "metadata": {
    "_cell_guid": "59d98f00-d398-45db-aba3-29d65b62b8c5",
    "_uuid": "ed999ec6-0d6c-4084-b857-3115d7fccb23",
    "execution": {
     "iopub.execute_input": "2021-11-22T17:02:00.456981Z",
     "iopub.status.busy": "2021-11-22T17:02:00.454777Z",
     "iopub.status.idle": "2021-11-22T17:02:00.527286Z",
     "shell.execute_reply": "2021-11-22T17:02:00.527808Z",
     "shell.execute_reply.started": "2021-11-22T16:52:07.251994Z"
    },
    "jupyter": {
     "outputs_hidden": false
    },
    "papermill": {
     "duration": 0.222059,
     "end_time": "2021-11-22T17:02:00.528012",
     "exception": false,
     "start_time": "2021-11-22T17:02:00.305953",
     "status": "completed"
    },
    "tags": []
   },
   "outputs": [],
   "source": [
    "df['type_bki_request_cnt'] = df['bki_request_cnt'].apply(lambda x:\n",
    "                                                         1 if x < 2 else\n",
    "                                                         2 if x < 4 else\n",
    "                                                         3 if x < 6 else\n",
    "                                                         4)"
   ]
  },
  {
   "cell_type": "code",
   "execution_count": 39,
   "id": "83341815",
   "metadata": {
    "_cell_guid": "e552f73c-3049-4adc-a012-785246b59e12",
    "_uuid": "682ad2d0-7f16-4e4d-94fe-f02fb85fbada",
    "execution": {
     "iopub.execute_input": "2021-11-22T17:02:00.814032Z",
     "iopub.status.busy": "2021-11-22T17:02:00.813415Z",
     "iopub.status.idle": "2021-11-22T17:02:00.885907Z",
     "shell.execute_reply": "2021-11-22T17:02:00.886477Z",
     "shell.execute_reply.started": "2021-11-22T16:52:07.330605Z"
    },
    "jupyter": {
     "outputs_hidden": false
    },
    "papermill": {
     "duration": 0.216626,
     "end_time": "2021-11-22T17:02:00.886668",
     "exception": false,
     "start_time": "2021-11-22T17:02:00.670042",
     "status": "completed"
    },
    "tags": []
   },
   "outputs": [],
   "source": [
    "df['bki_request_cnt'] = df['bki_request_cnt'].apply(\n",
    "    lambda x: 7 if x > 7 else x)"
   ]
  },
  {
   "cell_type": "code",
   "execution_count": 40,
   "id": "b5555db4",
   "metadata": {
    "_cell_guid": "5ce3c7ec-49c0-40c7-bdf6-cd561b2813e8",
    "_uuid": "c32d9d03-4da0-4e86-985a-4578d47e9577",
    "execution": {
     "iopub.execute_input": "2021-11-22T17:02:01.174783Z",
     "iopub.status.busy": "2021-11-22T17:02:01.174179Z",
     "iopub.status.idle": "2021-11-22T17:02:01.177467Z",
     "shell.execute_reply": "2021-11-22T17:02:01.178069Z",
     "shell.execute_reply.started": "2021-11-22T16:52:07.405145Z"
    },
    "jupyter": {
     "outputs_hidden": false
    },
    "papermill": {
     "duration": 0.148859,
     "end_time": "2021-11-22T17:02:01.178238",
     "exception": false,
     "start_time": "2021-11-22T17:02:01.029379",
     "status": "completed"
    },
    "tags": []
   },
   "outputs": [],
   "source": [
    "# Добавим данный признак в список категориальных признаков\n",
    "new_cat_cols.append('type_bki_request_cnt')"
   ]
  },
  {
   "cell_type": "markdown",
   "id": "0d7a112d",
   "metadata": {
    "_cell_guid": "057ca9a7-b4a2-4166-a158-da3d6dffdf76",
    "_uuid": "b9f6180e-9708-4a8b-b7a8-6e8681c00718",
    "papermill": {
     "duration": 0.141109,
     "end_time": "2021-11-22T17:02:01.460757",
     "exception": false,
     "start_time": "2021-11-22T17:02:01.319648",
     "status": "completed"
    },
    "tags": []
   },
   "source": [
    "## Признак region_rating - рейтинг региона"
   ]
  },
  {
   "cell_type": "code",
   "execution_count": 41,
   "id": "ddfb5012",
   "metadata": {
    "_cell_guid": "72e85ef3-b878-4322-931c-6f818d924aa6",
    "_uuid": "7fde1d81-6615-41a0-8702-371f7bc1f2b1",
    "execution": {
     "iopub.execute_input": "2021-11-22T17:02:01.765023Z",
     "iopub.status.busy": "2021-11-22T17:02:01.764332Z",
     "iopub.status.idle": "2021-11-22T17:02:02.305056Z",
     "shell.execute_reply": "2021-11-22T17:02:02.304444Z",
     "shell.execute_reply.started": "2021-11-22T16:52:07.410898Z"
    },
    "jupyter": {
     "outputs_hidden": false
    },
    "papermill": {
     "duration": 0.687987,
     "end_time": "2021-11-22T17:02:02.305209",
     "exception": false,
     "start_time": "2021-11-22T17:02:01.617222",
     "status": "completed"
    },
    "tags": []
   },
   "outputs": [
    {
     "name": "stdout",
     "output_type": "stream",
     "text": [
      "вывод информации по признаку region_rating\n",
      "Мода -  50\n",
      "count    110148.000000\n",
      "mean         56.751189\n",
      "std          13.065923\n",
      "min          20.000000\n",
      "25%          50.000000\n",
      "50%          50.000000\n",
      "75%          60.000000\n",
      "max          80.000000\n",
      "Name: region_rating, dtype: float64\n"
     ]
    },
    {
     "data": {
      "image/png": "[encoded data removed]",
      "text/plain": [
       "<Figure size 432x288 with 1 Axes>"
      ]
     },
     "metadata": {
      "needs_background": "light"
     },
     "output_type": "display_data"
    },
    {
     "name": "stderr",
     "output_type": "stream",
     "text": [
      "C:\\ProgramData\\Anaconda3\\lib\\site-packages\\seaborn\\distributions.py:2557: FutureWarning: `distplot` is a deprecated function and will be removed in a future version. Please adapt your code to use either `displot` (a figure-level function with similar flexibility) or `histplot` (an axes-level function for histograms).\n",
      "  warnings.warn(msg, FutureWarning)\n"
     ]
    },
    {
     "data": {
      "image/png": "[encoded data removed]",
      "text/plain": [
       "<Figure size 432x288 with 1 Axes>"
      ]
     },
     "metadata": {
      "needs_background": "light"
     },
     "output_type": "display_data"
    }
   ],
   "source": [
    "show_num_information(num_cols[4])"
   ]
  },
  {
   "cell_type": "markdown",
   "id": "5652203d",
   "metadata": {
    "_cell_guid": "d5a55eac-c40e-462e-8546-7d40a74ca8c1",
    "_uuid": "edcda637-9d89-4dd9-8a23-284f1e034335",
    "papermill": {
     "duration": 0.146618,
     "end_time": "2021-11-22T17:02:02.596161",
     "exception": false,
     "start_time": "2021-11-22T17:02:02.449543",
     "status": "completed"
    },
    "tags": []
   },
   "source": []
  },
  {
   "cell_type": "markdown",
   "id": "8292cb9f",
   "metadata": {
    "_cell_guid": "dd1fdee3-2f7e-4fd9-9c06-b33cd5539fe5",
    "_uuid": "3b905de4-0594-44ad-ae65-67c487da0984",
    "papermill": {
     "duration": 0.144294,
     "end_time": "2021-11-22T17:02:02.885695",
     "exception": false,
     "start_time": "2021-11-22T17:02:02.741401",
     "status": "completed"
    },
    "tags": []
   },
   "source": [
    "Признак распределен не нормально.    \n",
    "На boxplot заметно влияние признака на предсказываемую переменную, однако возможно это из-за несбалансированности выборки.\n",
    "Добавим категориальные переменные.     \n",
    "0 - рейтинг 20    \n",
    "1 - рейтинг 30    \n",
    "2 - рейтинг 40    \n",
    "3 - рейтинг 50    \n",
    "4 - рейтинг 60    \n",
    "5 - рейтинг 70    \n",
    "6 - рейтинг 80"
   ]
  },
  {
   "cell_type": "code",
   "execution_count": 42,
   "id": "5c160d9d",
   "metadata": {
    "_cell_guid": "2b83062a-a98b-4616-811b-3c1c9c65c71d",
    "_uuid": "b438593c-432f-4dd2-a77f-070206612ba4",
    "execution": {
     "iopub.execute_input": "2021-11-22T17:02:03.178382Z",
     "iopub.status.busy": "2021-11-22T17:02:03.177399Z",
     "iopub.status.idle": "2021-11-22T17:02:03.259272Z",
     "shell.execute_reply": "2021-11-22T17:02:03.259765Z",
     "shell.execute_reply.started": "2021-11-22T16:52:07.977404Z"
    },
    "jupyter": {
     "outputs_hidden": false
    },
    "papermill": {
     "duration": 0.228434,
     "end_time": "2021-11-22T17:02:03.259963",
     "exception": false,
     "start_time": "2021-11-22T17:02:03.031529",
     "status": "completed"
    },
    "tags": []
   },
   "outputs": [],
   "source": [
    "df['type_region_rating'] = df['region_rating'].apply(lambda x:\n",
    "                                                     0 if x == 20 else\n",
    "                                                     1 if x == 30 else\n",
    "                                                     2 if x == 40 else\n",
    "                                                     3 if x == 50 else\n",
    "                                                     4 if x == 60 else\n",
    "                                                     5 if x == 70 else\n",
    "                                                     6\n",
    "                                                     )"
   ]
  },
  {
   "cell_type": "code",
   "execution_count": 43,
   "id": "ca59967e",
   "metadata": {
    "_cell_guid": "f9b2fad8-2e96-414c-ab73-c2b651d3ff0b",
    "_uuid": "7c479552-bf3f-4c98-9671-8b2f1763145c",
    "execution": {
     "iopub.execute_input": "2021-11-22T17:02:03.551589Z",
     "iopub.status.busy": "2021-11-22T17:02:03.550551Z",
     "iopub.status.idle": "2021-11-22T17:02:03.552486Z",
     "shell.execute_reply": "2021-11-22T17:02:03.553091Z",
     "shell.execute_reply.started": "2021-11-22T16:52:08.063580Z"
    },
    "jupyter": {
     "outputs_hidden": false
    },
    "papermill": {
     "duration": 0.150117,
     "end_time": "2021-11-22T17:02:03.553251",
     "exception": false,
     "start_time": "2021-11-22T17:02:03.403134",
     "status": "completed"
    },
    "tags": []
   },
   "outputs": [],
   "source": [
    "#Добавим данный признак в список категориальных признаков\n",
    "new_cat_cols.append('type_region_rating')"
   ]
  },
  {
   "cell_type": "markdown",
   "id": "ce28b323",
   "metadata": {
    "_cell_guid": "23b5b1de-6c5a-48fc-bb84-5fdcb7180bec",
    "_uuid": "1039fb77-c919-46e9-845d-14b21d17eb87",
    "papermill": {
     "duration": 0.143227,
     "end_time": "2021-11-22T17:02:03.840732",
     "exception": false,
     "start_time": "2021-11-22T17:02:03.697505",
     "status": "completed"
    },
    "tags": []
   },
   "source": [
    "## Признак income - доход заемщика"
   ]
  },
  {
   "cell_type": "code",
   "execution_count": 44,
   "id": "5edc2331",
   "metadata": {
    "_cell_guid": "efc04d58-2e28-447d-afa9-9194a571db62",
    "_uuid": "fe735bb0-994a-481a-be0c-e9f6c2512e12",
    "execution": {
     "iopub.execute_input": "2021-11-22T17:02:04.131633Z",
     "iopub.status.busy": "2021-11-22T17:02:04.130693Z",
     "iopub.status.idle": "2021-11-22T17:02:04.629135Z",
     "shell.execute_reply": "2021-11-22T17:02:04.628462Z",
     "shell.execute_reply.started": "2021-11-22T16:52:08.069675Z"
    },
    "jupyter": {
     "outputs_hidden": false
    },
    "papermill": {
     "duration": 0.644909,
     "end_time": "2021-11-22T17:02:04.629282",
     "exception": false,
     "start_time": "2021-11-22T17:02:03.984373",
     "status": "completed"
    },
    "tags": []
   },
   "outputs": [
    {
     "name": "stdout",
     "output_type": "stream",
     "text": [
      "вывод информации по признаку income\n",
      "Мода -  30000\n",
      "count     110148.000000\n",
      "mean       41012.648537\n",
      "std        45399.735051\n",
      "min         1000.000000\n",
      "25%        20000.000000\n",
      "50%        30000.000000\n",
      "75%        48000.000000\n",
      "max      1000000.000000\n",
      "Name: income, dtype: float64\n"
     ]
    },
    {
     "data": {
      "image/png": "[encoded data removed]",
      "text/plain": [
       "<Figure size 432x288 with 1 Axes>"
      ]
     },
     "metadata": {
      "needs_background": "light"
     },
     "output_type": "display_data"
    },
    {
     "name": "stderr",
     "output_type": "stream",
     "text": [
      "C:\\ProgramData\\Anaconda3\\lib\\site-packages\\seaborn\\distributions.py:2557: FutureWarning: `distplot` is a deprecated function and will be removed in a future version. Please adapt your code to use either `displot` (a figure-level function with similar flexibility) or `histplot` (an axes-level function for histograms).\n",
      "  warnings.warn(msg, FutureWarning)\n"
     ]
    },
    {
     "data": {
      "image/png": "[encoded data removed]",
      "text/plain": [
       "<Figure size 432x288 with 1 Axes>"
      ]
     },
     "metadata": {
      "needs_background": "light"
     },
     "output_type": "display_data"
    }
   ],
   "source": [
    "show_num_information(num_cols[5])"
   ]
  },
  {
   "cell_type": "markdown",
   "id": "fa6efb61",
   "metadata": {
    "_cell_guid": "6fc8e881-0b4f-4d70-b76f-f0963cb86057",
    "_uuid": "dd815f74-7eba-4ae3-bdb6-013240fe1982",
    "papermill": {
     "duration": 0.145493,
     "end_time": "2021-11-22T17:02:04.919853",
     "exception": false,
     "start_time": "2021-11-22T17:02:04.774360",
     "status": "completed"
    },
    "tags": []
   },
   "source": [
    "Признак распределен не нормально.    \n",
    "На boxplot заметно влияние признака на предсказываемую переменную, однако возможно это из-за несбалансированности выборки. Данную теорию проверим позже.    \n",
    "Так же создадим новый признак.    \n",
    " Тип дохода\n",
    "1 если доход низкий. от 0 до 20 000.    \n",
    "2 если доход средний. от 20 000 до 48 000.    \n",
    "3 если доход высокий. Свыше 48 000."
   ]
  },
  {
   "cell_type": "code",
   "execution_count": 45,
   "id": "1fb7fd65",
   "metadata": {
    "_cell_guid": "63d8eaf9-8e6e-42e2-941e-ac29ed35f192",
    "_uuid": "a7256131-3c4b-4cea-b928-45202fcfdd4f",
    "execution": {
     "iopub.execute_input": "2021-11-22T17:02:05.294083Z",
     "iopub.status.busy": "2021-11-22T17:02:05.291459Z",
     "iopub.status.idle": "2021-11-22T17:02:05.298248Z",
     "shell.execute_reply": "2021-11-22T17:02:05.297609Z",
     "shell.execute_reply.started": "2021-11-22T16:52:08.579706Z"
    },
    "jupyter": {
     "outputs_hidden": false
    },
    "papermill": {
     "duration": 0.230705,
     "end_time": "2021-11-22T17:02:05.298390",
     "exception": false,
     "start_time": "2021-11-22T17:02:05.067685",
     "status": "completed"
    },
    "tags": []
   },
   "outputs": [],
   "source": [
    "df['type_income'] = df['income'].apply(lambda x:\n",
    "                                       1 if x < 20001 else 2 if x < 48001 else 3)"
   ]
  },
  {
   "cell_type": "code",
   "execution_count": 46,
   "id": "bebf8f1d",
   "metadata": {
    "_cell_guid": "c9cde2b5-890d-4d28-a0f9-3192ca1d723f",
    "_uuid": "797148c5-acb0-4f09-8813-8604b5c2ef22",
    "execution": {
     "iopub.execute_input": "2021-11-22T17:02:05.597428Z",
     "iopub.status.busy": "2021-11-22T17:02:05.596771Z",
     "iopub.status.idle": "2021-11-22T17:02:05.598992Z",
     "shell.execute_reply": "2021-11-22T17:02:05.598388Z",
     "shell.execute_reply.started": "2021-11-22T16:52:08.665344Z"
    },
    "jupyter": {
     "outputs_hidden": false
    },
    "papermill": {
     "duration": 0.154395,
     "end_time": "2021-11-22T17:02:05.599129",
     "exception": false,
     "start_time": "2021-11-22T17:02:05.444734",
     "status": "completed"
    },
    "tags": []
   },
   "outputs": [],
   "source": [
    "#Добавим данный признак в список категориальных признаков\n",
    "new_cat_cols.append('type_income')"
   ]
  },
  {
   "cell_type": "markdown",
   "id": "31c131ce",
   "metadata": {
    "_cell_guid": "d3c29e17-b4b8-487c-9e92-f72a18f5d5c8",
    "_uuid": "96005a72-e680-4ff6-bc5b-823a7787e900",
    "execution": {
     "iopub.execute_input": "2021-11-09T13:30:34.227829Z",
     "iopub.status.busy": "2021-11-09T13:30:34.227501Z",
     "iopub.status.idle": "2021-11-09T13:30:34.232822Z",
     "shell.execute_reply": "2021-11-09T13:30:34.231853Z",
     "shell.execute_reply.started": "2021-11-09T13:30:34.227799Z"
    },
    "papermill": {
     "duration": 0.145061,
     "end_time": "2021-11-22T17:02:05.889660",
     "exception": false,
     "start_time": "2021-11-22T17:02:05.744599",
     "status": "completed"
    },
    "tags": []
   },
   "source": [
    "# Раздел 6. Оценка корреляций и значимости непрерывных переменных"
   ]
  },
  {
   "cell_type": "markdown",
   "id": "107f7752",
   "metadata": {
    "_cell_guid": "b66e8175-9696-4f39-8f60-a2505fd54094",
    "_uuid": "9e93fa70-da45-43c9-9ae3-4723ded99825",
    "papermill": {
     "duration": 0.14726,
     "end_time": "2021-11-22T17:02:06.182657",
     "exception": false,
     "start_time": "2021-11-22T17:02:06.035397",
     "status": "completed"
    },
    "tags": []
   },
   "source": [
    "Воспользуемся критерием Пирсона для оценки корреляции."
   ]
  },
  {
   "cell_type": "code",
   "execution_count": 47,
   "id": "c6dc7f98",
   "metadata": {
    "_cell_guid": "7780b4cf-8aa0-4b87-b63d-cc4291c190c4",
    "_uuid": "feab0f36-2d04-4c3f-b4a6-603f0f0b22e3",
    "execution": {
     "iopub.execute_input": "2021-11-22T17:02:06.479790Z",
     "iopub.status.busy": "2021-11-22T17:02:06.479122Z",
     "iopub.status.idle": "2021-11-22T17:02:06.645391Z",
     "shell.execute_reply": "2021-11-22T17:02:06.644823Z",
     "shell.execute_reply.started": "2021-11-22T16:52:08.671921Z"
    },
    "jupyter": {
     "outputs_hidden": false
    },
    "papermill": {
     "duration": 0.316704,
     "end_time": "2021-11-22T17:02:06.645541",
     "exception": false,
     "start_time": "2021-11-22T17:02:06.328837",
     "status": "completed"
    },
    "tags": []
   },
   "outputs": [],
   "source": [
    "cor_matrix = df.corr()"
   ]
  },
  {
   "cell_type": "code",
   "execution_count": 48,
   "id": "2023b322",
   "metadata": {
    "_cell_guid": "58cbdd78-d07e-4667-9429-5eeb2d790831",
    "_uuid": "0c3a772c-fd10-4b20-877c-4b13023d2b1e",
    "execution": {
     "iopub.execute_input": "2021-11-22T17:02:06.939655Z",
     "iopub.status.busy": "2021-11-22T17:02:06.939079Z",
     "iopub.status.idle": "2021-11-22T17:02:07.636438Z",
     "shell.execute_reply": "2021-11-22T17:02:07.635822Z",
     "shell.execute_reply.started": "2021-11-22T16:52:08.847202Z"
    },
    "jupyter": {
     "outputs_hidden": false
    },
    "papermill": {
     "duration": 0.845714,
     "end_time": "2021-11-22T17:02:07.636579",
     "exception": false,
     "start_time": "2021-11-22T17:02:06.790865",
     "status": "completed"
    },
    "tags": []
   },
   "outputs": [
    {
     "name": "stdout",
     "output_type": "stream",
     "text": [
      "Сильная корреляция между age and age_type - 0.943921326402952\n",
      "Сильная корреляция между decline_app_cnt and type_dec_app_cnt - 0.8277517925325357\n",
      "Сильная корреляция между score_bki and type_score_bki - -0.9606735499391839\n",
      "Сильная корреляция между bki_request_cnt and type_bki_request_cnt - 0.962648868877561\n",
      "Сильная корреляция между region_rating and type_region_rating - 0.9999999999999876\n",
      "Сильная корреляция между home_address and work_address - 0.7265354508767263\n",
      "Сильная корреляция между income and type_income - 0.5747601207540561\n",
      "Сильная корреляция между sna and first_time - -0.5265943387583837\n"
     ]
    },
    {
     "data": {
      "image/png": "[encoded data removed]",
      "text/plain": [
       "<Figure size 432x288 with 2 Axes>"
      ]
     },
     "metadata": {
      "needs_background": "light"
     },
     "output_type": "display_data"
    }
   ],
   "source": [
    "print_corr_matrix(cor_matrix)"
   ]
  },
  {
   "cell_type": "markdown",
   "id": "6905f5ae",
   "metadata": {
    "_cell_guid": "e5466516-9c0e-4b22-9852-bbefcd1234e7",
    "_uuid": "63f3cf4f-4524-429e-89e1-41d694a75fee",
    "papermill": {
     "duration": 0.146742,
     "end_time": "2021-11-22T17:02:07.934102",
     "exception": false,
     "start_time": "2021-11-22T17:02:07.787360",
     "status": "completed"
    },
    "tags": []
   },
   "source": [
    "С целевой переменной сильной корреляции нету. Однако есть сильная зависимость между нашими созданными категориальными переменными и их родителями.    \n",
    "Обнаружена сильная корреляция между home_address and work_address. Можно предположить, что большинство людей работают рядом со своим местом работы.    \n",
    "И обнаружена корреляция между sna  and first_time. "
   ]
  },
  {
   "cell_type": "code",
   "execution_count": 49,
   "id": "8e022c84",
   "metadata": {
    "_cell_guid": "190dce34-8389-4482-a04d-d1d76bf7a82a",
    "_uuid": "5134d6c8-b13f-48cc-90f5-20052621682a",
    "execution": {
     "iopub.execute_input": "2021-11-22T17:02:08.235997Z",
     "iopub.status.busy": "2021-11-22T17:02:08.235313Z",
     "iopub.status.idle": "2021-11-22T17:02:08.543263Z",
     "shell.execute_reply": "2021-11-22T17:02:08.543769Z",
     "shell.execute_reply.started": "2021-11-22T16:52:09.566281Z"
    },
    "jupyter": {
     "outputs_hidden": false
    },
    "papermill": {
     "duration": 0.461622,
     "end_time": "2021-11-22T17:02:08.543964",
     "exception": false,
     "start_time": "2021-11-22T17:02:08.082342",
     "status": "completed"
    },
    "tags": []
   },
   "outputs": [
    {
     "data": {
      "image/png": "[encoded data removed]",
      "text/plain": [
       "<Figure size 432x288 with 1 Axes>"
      ]
     },
     "metadata": {
      "needs_background": "light"
     },
     "output_type": "display_data"
    }
   ],
   "source": [
    "print_f_classif(df, num_cols+new_cat_cols)"
   ]
  },
  {
   "cell_type": "markdown",
   "id": "a38a3ab8",
   "metadata": {
    "_cell_guid": "7aff7ce1-9d43-4d79-93ae-cc5ba2645a99",
    "_uuid": "5033786e-7b1d-4e3d-baba-ae544dad633e",
    "papermill": {
     "duration": 0.151776,
     "end_time": "2021-11-22T17:02:08.843493",
     "exception": false,
     "start_time": "2021-11-22T17:02:08.691717",
     "status": "completed"
    },
    "tags": []
   },
   "source": [
    "Самый влиятельный признак - скоринговый балл по данным из БКИ. В целом логично, чем лучше у тебя кредитный рейтинг - тем более вероятно, что тебе дадут кредит.    "
   ]
  },
  {
   "cell_type": "markdown",
   "id": "a40eb80e",
   "metadata": {
    "_cell_guid": "b99251c2-f262-423c-bbd9-c3a7383cf8f0",
    "_uuid": "2ef5865e-1355-4184-9663-5a86d00f1941",
    "papermill": {
     "duration": 0.147704,
     "end_time": "2021-11-22T17:02:09.141222",
     "exception": false,
     "start_time": "2021-11-22T17:02:08.993518",
     "status": "completed"
    },
    "tags": []
   },
   "source": [
    " # Раздел 7 кодирование категориальных и бинарных признаков."
   ]
  },
  {
   "cell_type": "markdown",
   "id": "30e2efd0",
   "metadata": {
    "_cell_guid": "554e7d10-7e48-4414-b14f-81b1f5a1ae0b",
    "_uuid": "86169c4b-8819-4f08-8361-fccf3d0231fd",
    "execution": {
     "iopub.execute_input": "2021-11-14T15:35:21.262216Z",
     "iopub.status.busy": "2021-11-14T15:35:21.261911Z",
     "iopub.status.idle": "2021-11-14T15:35:21.268224Z",
     "shell.execute_reply": "2021-11-14T15:35:21.26705Z",
     "shell.execute_reply.started": "2021-11-14T15:35:21.262185Z"
    },
    "papermill": {
     "duration": 0.149052,
     "end_time": "2021-11-22T17:02:09.439543",
     "exception": false,
     "start_time": "2021-11-22T17:02:09.290491",
     "status": "completed"
    },
    "tags": []
   },
   "source": [
    "Выполним пару простых операций по преобразованию наших данных."
   ]
  },
  {
   "cell_type": "code",
   "execution_count": 50,
   "id": "0e2e6030",
   "metadata": {
    "_cell_guid": "1132e36f-afe4-49d8-85b8-380d2ff003b4",
    "_uuid": "128a52f5-9cc9-479a-91f4-7591a4aa05e1",
    "execution": {
     "iopub.execute_input": "2021-11-22T17:02:09.787736Z",
     "iopub.status.busy": "2021-11-22T17:02:09.787069Z",
     "iopub.status.idle": "2021-11-22T17:02:09.967274Z",
     "shell.execute_reply": "2021-11-22T17:02:09.967769Z",
     "shell.execute_reply.started": "2021-11-22T16:52:09.892435Z"
    },
    "jupyter": {
     "outputs_hidden": false
    },
    "papermill": {
     "duration": 0.375286,
     "end_time": "2021-11-22T17:02:09.967950",
     "exception": false,
     "start_time": "2021-11-22T17:02:09.592664",
     "status": "completed"
    },
    "tags": []
   },
   "outputs": [
    {
     "data": {
      "text/html": [
       "<div>\n",
       "<style scoped>\n",
       "    .dataframe tbody tr th:only-of-type {\n",
       "        vertical-align: middle;\n",
       "    }\n",
       "\n",
       "    .dataframe tbody tr th {\n",
       "        vertical-align: top;\n",
       "    }\n",
       "\n",
       "    .dataframe thead th {\n",
       "        text-align: right;\n",
       "    }\n",
       "</style>\n",
       "<table border=\"1\" class=\"dataframe\">\n",
       "  <thead>\n",
       "    <tr style=\"text-align: right;\">\n",
       "      <th></th>\n",
       "      <th>client_id</th>\n",
       "      <th>app_date</th>\n",
       "      <th>education</th>\n",
       "      <th>sex</th>\n",
       "      <th>age</th>\n",
       "      <th>car</th>\n",
       "      <th>car_type</th>\n",
       "      <th>decline_app_cnt</th>\n",
       "      <th>good_work</th>\n",
       "      <th>score_bki</th>\n",
       "      <th>bki_request_cnt</th>\n",
       "      <th>region_rating</th>\n",
       "      <th>home_address</th>\n",
       "      <th>work_address</th>\n",
       "      <th>income</th>\n",
       "      <th>sna</th>\n",
       "      <th>first_time</th>\n",
       "      <th>foreign_passport</th>\n",
       "      <th>sample</th>\n",
       "      <th>default</th>\n",
       "      <th>is_null_education</th>\n",
       "      <th>age_type</th>\n",
       "      <th>type_dec_app_cnt</th>\n",
       "      <th>type_score_bki</th>\n",
       "      <th>type_bki_request_cnt</th>\n",
       "      <th>type_region_rating</th>\n",
       "      <th>type_income</th>\n",
       "    </tr>\n",
       "  </thead>\n",
       "  <tbody>\n",
       "    <tr>\n",
       "      <th>0</th>\n",
       "      <td>74835</td>\n",
       "      <td>22MAR2014</td>\n",
       "      <td>1</td>\n",
       "      <td>1</td>\n",
       "      <td>29</td>\n",
       "      <td>1</td>\n",
       "      <td>1</td>\n",
       "      <td>0</td>\n",
       "      <td>0</td>\n",
       "      <td>-2.271884</td>\n",
       "      <td>3</td>\n",
       "      <td>50</td>\n",
       "      <td>1</td>\n",
       "      <td>2</td>\n",
       "      <td>50000</td>\n",
       "      <td>1</td>\n",
       "      <td>4</td>\n",
       "      <td>0</td>\n",
       "      <td>0</td>\n",
       "      <td>0</td>\n",
       "      <td>0</td>\n",
       "      <td>0</td>\n",
       "      <td>0</td>\n",
       "      <td>5</td>\n",
       "      <td>2</td>\n",
       "      <td>3</td>\n",
       "      <td>3</td>\n",
       "    </tr>\n",
       "    <tr>\n",
       "      <th>1</th>\n",
       "      <td>17527</td>\n",
       "      <td>24JAN2014</td>\n",
       "      <td>3</td>\n",
       "      <td>0</td>\n",
       "      <td>39</td>\n",
       "      <td>0</td>\n",
       "      <td>0</td>\n",
       "      <td>5</td>\n",
       "      <td>0</td>\n",
       "      <td>-1.504999</td>\n",
       "      <td>2</td>\n",
       "      <td>50</td>\n",
       "      <td>1</td>\n",
       "      <td>2</td>\n",
       "      <td>5000</td>\n",
       "      <td>4</td>\n",
       "      <td>3</td>\n",
       "      <td>0</td>\n",
       "      <td>0</td>\n",
       "      <td>0</td>\n",
       "      <td>0</td>\n",
       "      <td>1</td>\n",
       "      <td>1</td>\n",
       "      <td>4</td>\n",
       "      <td>2</td>\n",
       "      <td>3</td>\n",
       "      <td>1</td>\n",
       "    </tr>\n",
       "    <tr>\n",
       "      <th>2</th>\n",
       "      <td>75683</td>\n",
       "      <td>23MAR2014</td>\n",
       "      <td>4</td>\n",
       "      <td>1</td>\n",
       "      <td>50</td>\n",
       "      <td>1</td>\n",
       "      <td>1</td>\n",
       "      <td>0</td>\n",
       "      <td>0</td>\n",
       "      <td>-1.691339</td>\n",
       "      <td>1</td>\n",
       "      <td>50</td>\n",
       "      <td>1</td>\n",
       "      <td>2</td>\n",
       "      <td>30000</td>\n",
       "      <td>1</td>\n",
       "      <td>3</td>\n",
       "      <td>1</td>\n",
       "      <td>0</td>\n",
       "      <td>0</td>\n",
       "      <td>0</td>\n",
       "      <td>2</td>\n",
       "      <td>0</td>\n",
       "      <td>4</td>\n",
       "      <td>1</td>\n",
       "      <td>3</td>\n",
       "      <td>2</td>\n",
       "    </tr>\n",
       "    <tr>\n",
       "      <th>3</th>\n",
       "      <td>26883</td>\n",
       "      <td>03FEB2014</td>\n",
       "      <td>3</td>\n",
       "      <td>1</td>\n",
       "      <td>56</td>\n",
       "      <td>0</td>\n",
       "      <td>0</td>\n",
       "      <td>0</td>\n",
       "      <td>0</td>\n",
       "      <td>-2.374182</td>\n",
       "      <td>1</td>\n",
       "      <td>40</td>\n",
       "      <td>1</td>\n",
       "      <td>2</td>\n",
       "      <td>17000</td>\n",
       "      <td>1</td>\n",
       "      <td>3</td>\n",
       "      <td>0</td>\n",
       "      <td>0</td>\n",
       "      <td>0</td>\n",
       "      <td>0</td>\n",
       "      <td>2</td>\n",
       "      <td>0</td>\n",
       "      <td>5</td>\n",
       "      <td>1</td>\n",
       "      <td>2</td>\n",
       "      <td>1</td>\n",
       "    </tr>\n",
       "    <tr>\n",
       "      <th>4</th>\n",
       "      <td>28862</td>\n",
       "      <td>04FEB2014</td>\n",
       "      <td>1</td>\n",
       "      <td>0</td>\n",
       "      <td>38</td>\n",
       "      <td>0</td>\n",
       "      <td>0</td>\n",
       "      <td>0</td>\n",
       "      <td>0</td>\n",
       "      <td>-2.487502</td>\n",
       "      <td>0</td>\n",
       "      <td>80</td>\n",
       "      <td>2</td>\n",
       "      <td>3</td>\n",
       "      <td>120000</td>\n",
       "      <td>1</td>\n",
       "      <td>3</td>\n",
       "      <td>0</td>\n",
       "      <td>0</td>\n",
       "      <td>0</td>\n",
       "      <td>0</td>\n",
       "      <td>1</td>\n",
       "      <td>0</td>\n",
       "      <td>6</td>\n",
       "      <td>1</td>\n",
       "      <td>6</td>\n",
       "      <td>3</td>\n",
       "    </tr>\n",
       "  </tbody>\n",
       "</table>\n",
       "</div>"
      ],
      "text/plain": [
       "   client_id   app_date  education  sex  age  car  car_type  decline_app_cnt  \\\n",
       "0      74835  22MAR2014          1    1   29    1         1                0   \n",
       "1      17527  24JAN2014          3    0   39    0         0                5   \n",
       "2      75683  23MAR2014          4    1   50    1         1                0   \n",
       "3      26883  03FEB2014          3    1   56    0         0                0   \n",
       "4      28862  04FEB2014          1    0   38    0         0                0   \n",
       "\n",
       "   good_work  score_bki  bki_request_cnt  region_rating  home_address  \\\n",
       "0          0  -2.271884                3             50             1   \n",
       "1          0  -1.504999                2             50             1   \n",
       "2          0  -1.691339                1             50             1   \n",
       "3          0  -2.374182                1             40             1   \n",
       "4          0  -2.487502                0             80             2   \n",
       "\n",
       "   work_address  income  sna  first_time  foreign_passport  sample  default  \\\n",
       "0             2   50000    1           4                 0       0        0   \n",
       "1             2    5000    4           3                 0       0        0   \n",
       "2             2   30000    1           3                 1       0        0   \n",
       "3             2   17000    1           3                 0       0        0   \n",
       "4             3  120000    1           3                 0       0        0   \n",
       "\n",
       "   is_null_education  age_type  type_dec_app_cnt  type_score_bki  \\\n",
       "0                  0         0                 0               5   \n",
       "1                  0         1                 1               4   \n",
       "2                  0         2                 0               4   \n",
       "3                  0         2                 0               5   \n",
       "4                  0         1                 0               6   \n",
       "\n",
       "   type_bki_request_cnt  type_region_rating  type_income  \n",
       "0                     2                   3            3  \n",
       "1                     2                   3            1  \n",
       "2                     1                   3            2  \n",
       "3                     1                   2            1  \n",
       "4                     1                   6            3  "
      ]
     },
     "execution_count": 50,
     "metadata": {},
     "output_type": "execute_result"
    }
   ],
   "source": [
    "label_encoder = LabelEncoder()\n",
    "\n",
    "for column in bin_cols:\n",
    "    df[column] = label_encoder.fit_transform(df[column])\n",
    "    \n",
    "df['education'] = label_encoder.fit_transform(df['education'])\n",
    "    # убедимся в преобразовании    \n",
    "df.head()"
   ]
  },
  {
   "cell_type": "markdown",
   "id": "67a4dfa7",
   "metadata": {
    "_cell_guid": "9aef7ef1-b1dd-47ca-a98c-8e2a007b451e",
    "_uuid": "73bd97be-18b2-4c3b-8a3f-6c6df8c89ebd",
    "papermill": {
     "duration": 0.148846,
     "end_time": "2021-11-22T17:02:10.313685",
     "exception": false,
     "start_time": "2021-11-22T17:02:10.164839",
     "status": "completed"
    },
    "tags": []
   },
   "source": []
  },
  {
   "cell_type": "markdown",
   "id": "d8d8f5ef",
   "metadata": {
    "_cell_guid": "b54d9cbe-092c-4e19-9101-dcc4af39e65a",
    "_uuid": "dd8b42bc-7f33-4ccb-84b2-2e323481d13b",
    "execution": {
     "iopub.execute_input": "2021-11-19T02:13:34.56017Z",
     "iopub.status.busy": "2021-11-19T02:13:34.55976Z",
     "iopub.status.idle": "2021-11-19T02:13:34.565065Z",
     "shell.execute_reply": "2021-11-19T02:13:34.564105Z",
     "shell.execute_reply.started": "2021-11-19T02:13:34.560131Z"
    },
    "papermill": {
     "duration": 0.147717,
     "end_time": "2021-11-22T17:02:10.609225",
     "exception": false,
     "start_time": "2021-11-22T17:02:10.461508",
     "status": "completed"
    },
    "tags": []
   },
   "source": [
    "# Раздел 8. Оценка значимости категориальных и бинарных признаков."
   ]
  },
  {
   "cell_type": "code",
   "execution_count": 51,
   "id": "8c58edaf",
   "metadata": {
    "_cell_guid": "e6f9f9aa-0ba8-4a6a-9f13-ed80f8ed632a",
    "_uuid": "4cac484d-be46-48cc-8ffd-db84fd3e9b66",
    "execution": {
     "iopub.execute_input": "2021-11-22T17:02:10.909642Z",
     "iopub.status.busy": "2021-11-22T17:02:10.909014Z",
     "iopub.status.idle": "2021-11-22T17:02:11.436052Z",
     "shell.execute_reply": "2021-11-22T17:02:11.436586Z",
     "shell.execute_reply.started": "2021-11-22T16:52:10.124127Z"
    },
    "jupyter": {
     "outputs_hidden": false
    },
    "papermill": {
     "duration": 0.679545,
     "end_time": "2021-11-22T17:02:11.436754",
     "exception": false,
     "start_time": "2021-11-22T17:02:10.757209",
     "status": "completed"
    },
    "tags": []
   },
   "outputs": [
    {
     "data": {
      "text/plain": [
       "<AxesSubplot:>"
      ]
     },
     "execution_count": 51,
     "metadata": {},
     "output_type": "execute_result"
    },
    {
     "data": {
      "image/png": "[encoded data removed]",
      "text/plain": [
       "<Figure size 432x288 with 1 Axes>"
      ]
     },
     "metadata": {
      "needs_background": "light"
     },
     "output_type": "display_data"
    }
   ],
   "source": [
    "imp_cat = pd.Series(mutual_info_classif(df[bin_cols + cat_cols + new_cat_cols],\n",
    "                                        df['default'], discrete_features=True),\n",
    "                                        index=bin_cols + cat_cols + new_cat_cols)\n",
    "imp_cat.sort_values(inplace=True)\n",
    "imp_cat.plot(kind='barh')"
   ]
  },
  {
   "cell_type": "markdown",
   "id": "837b87b5",
   "metadata": {
    "papermill": {
     "duration": 0.150713,
     "end_time": "2021-11-22T17:02:11.737950",
     "exception": false,
     "start_time": "2021-11-22T17:02:11.587237",
     "status": "completed"
    },
    "tags": []
   },
   "source": [
    "Самый значительный признак SNA (связь заемщика с клиентами банка).    \n",
    "Значит, если у банка хорошие взаимоотношение с клиентом, тем более вероятно он выдаст кредит.    \n",
    "Второй самый значительный признак - type_dec_app_cnt (тип количества отказов прошлых заявок). В целом и родитель этого признака, тоже хорошо себя показал на предыдущем анализе.    \n",
    "Так же видим, что созданные нами переменные тоже неплохо влияют на предсказываемое значение."
   ]
  },
  {
   "cell_type": "code",
   "execution_count": 52,
   "id": "dff89d20",
   "metadata": {
    "execution": {
     "iopub.execute_input": "2021-11-22T17:02:12.042726Z",
     "iopub.status.busy": "2021-11-22T17:02:12.042068Z",
     "iopub.status.idle": "2021-11-22T17:02:12.045297Z",
     "shell.execute_reply": "2021-11-22T17:02:12.045799Z",
     "shell.execute_reply.started": "2021-11-22T16:52:10.677844Z"
    },
    "papermill": {
     "duration": 0.158791,
     "end_time": "2021-11-22T17:02:12.045993",
     "exception": false,
     "start_time": "2021-11-22T17:02:11.887202",
     "status": "completed"
    },
    "tags": []
   },
   "outputs": [],
   "source": [
    "# после удалим признак work_address т.к. сильная корреляция с home_address\n",
    "col_for_drop.append('work_address') "
   ]
  },
  {
   "cell_type": "markdown",
   "id": "87cf803c",
   "metadata": {
    "_cell_guid": "b3cbe18e-e548-410b-86c3-60913ad22334",
    "_uuid": "f78ca9b1-cff7-4caa-bd1c-e29a5f84cce9",
    "papermill": {
     "duration": 0.150237,
     "end_time": "2021-11-22T17:02:12.345293",
     "exception": false,
     "start_time": "2021-11-22T17:02:12.195056",
     "status": "completed"
    },
    "tags": []
   },
   "source": [
    "# Раздел 10. Обработка даты"
   ]
  },
  {
   "cell_type": "code",
   "execution_count": 53,
   "id": "29c4212a",
   "metadata": {
    "_cell_guid": "6822c774-0bb7-4d57-ac6d-6e1c98bee22c",
    "_uuid": "44aea7dd-d738-4d5e-a49b-42f1eb90fed4",
    "execution": {
     "iopub.execute_input": "2021-11-22T17:02:12.676166Z",
     "iopub.status.busy": "2021-11-22T17:02:12.675490Z",
     "iopub.status.idle": "2021-11-22T17:02:14.130515Z",
     "shell.execute_reply": "2021-11-22T17:02:14.131066Z",
     "shell.execute_reply.started": "2021-11-22T16:52:10.683549Z"
    },
    "jupyter": {
     "outputs_hidden": false
    },
    "papermill": {
     "duration": 1.636677,
     "end_time": "2021-11-22T17:02:14.131240",
     "exception": false,
     "start_time": "2021-11-22T17:02:12.494563",
     "status": "completed"
    },
    "tags": []
   },
   "outputs": [],
   "source": [
    "# Преобразуем дату в понятный для компьютера вид.\n",
    "df.app_date = df.app_date.apply(lambda x: datetime.strptime(x, '%d%b%Y'))"
   ]
  },
  {
   "cell_type": "code",
   "execution_count": 54,
   "id": "e945e5df",
   "metadata": {
    "_cell_guid": "b7392d69-bc4b-404d-859f-fe35606bf98e",
    "_uuid": "128f1cf5-6379-4105-a570-57c84e1f8d67",
    "execution": {
     "iopub.execute_input": "2021-11-22T17:02:14.438960Z",
     "iopub.status.busy": "2021-11-22T17:02:14.434697Z",
     "iopub.status.idle": "2021-11-22T17:02:17.354669Z",
     "shell.execute_reply": "2021-11-22T17:02:17.355174Z",
     "shell.execute_reply.started": "2021-11-22T16:52:12.101055Z"
    },
    "jupyter": {
     "outputs_hidden": false
    },
    "papermill": {
     "duration": 3.072055,
     "end_time": "2021-11-22T17:02:17.355368",
     "exception": false,
     "start_time": "2021-11-22T17:02:14.283313",
     "status": "completed"
    },
    "tags": []
   },
   "outputs": [],
   "source": [
    "# Добавим новые признаки, месяц, день недели, день месяца и отметим выходные дни.\n",
    "df['day'] = df.app_date.apply(lambda x: int(x.day))\n",
    "df['month'] = df.app_date.apply(lambda x: int(x.month))\n",
    "df['weekday'] = df.app_date.apply(lambda x: int(x.weekday()))\n",
    "df['is_weekend'] = df.app_date.apply(lambda x: 1 if x in [5, 6] else 0)\n",
    "# Добавим признак в очередь на удаление.\n",
    "col_for_drop.append('app_date')"
   ]
  },
  {
   "cell_type": "markdown",
   "id": "70940437",
   "metadata": {
    "_cell_guid": "5ab3d464-f576-4dff-bdcf-f4b5e6bbfdff",
    "_uuid": "ef732587-32c0-4962-bbd3-2176ea503b9c",
    "papermill": {
     "duration": 0.148939,
     "end_time": "2021-11-22T17:02:17.652801",
     "exception": false,
     "start_time": "2021-11-22T17:02:17.503862",
     "status": "completed"
    },
    "tags": []
   },
   "source": [
    " # Раздел 11 future engineering"
   ]
  },
  {
   "cell_type": "markdown",
   "id": "a53299e7",
   "metadata": {
    "_cell_guid": "79584646-98d9-4b84-960d-64cca430e8bf",
    "_uuid": "14c858e0-0136-4dec-b121-30b17ecb320c",
    "papermill": {
     "duration": 0.151534,
     "end_time": "2021-11-22T17:02:17.953658",
     "exception": false,
     "start_time": "2021-11-22T17:02:17.802124",
     "status": "completed"
    },
    "tags": []
   },
   "source": [
    "Преобразуем признак car и car_type в общий признак.     \n",
    "0 - нет машины    \n",
    "1 - есть машина    \n",
    "2 - есть импортная машины"
   ]
  },
  {
   "cell_type": "code",
   "execution_count": 56,
   "id": "7765c82d",
   "metadata": {
    "_cell_guid": "a5e52f5a-2091-4bf9-9780-b343cbd00ea9",
    "_uuid": "195e1e3e-6b61-4d41-9e27-e509d50f838f",
    "execution": {
     "iopub.execute_input": "2021-11-22T17:02:18.264846Z",
     "iopub.status.busy": "2021-11-22T17:02:18.264193Z",
     "iopub.status.idle": "2021-11-22T17:02:21.258690Z",
     "shell.execute_reply": "2021-11-22T17:02:21.258074Z",
     "shell.execute_reply.started": "2021-11-22T16:52:15.219083Z"
    },
    "jupyter": {
     "outputs_hidden": false
    },
    "papermill": {
     "duration": 3.151674,
     "end_time": "2021-11-22T17:02:21.258830",
     "exception": false,
     "start_time": "2021-11-22T17:02:18.107156",
     "status": "completed"
    },
    "tags": []
   },
   "outputs": [],
   "source": [
    "df['car+car_type'] = df.apply(lambda x: x['car'] + x['car_type'], axis=1)"
   ]
  },
  {
   "cell_type": "code",
   "execution_count": 57,
   "id": "0324dbb3",
   "metadata": {
    "_cell_guid": "41e4ef79-7fd9-4f5c-80d3-d8a0184f09f0",
    "_uuid": "0344b858-6cf7-43d9-b362-56796cbdb7a9",
    "execution": {
     "iopub.execute_input": "2021-11-22T17:02:21.561549Z",
     "iopub.status.busy": "2021-11-22T17:02:21.560547Z",
     "iopub.status.idle": "2021-11-22T17:02:21.564553Z",
     "shell.execute_reply": "2021-11-22T17:02:21.565117Z",
     "shell.execute_reply.started": "2021-11-22T16:52:18.080400Z"
    },
    "jupyter": {
     "outputs_hidden": false
    },
    "papermill": {
     "duration": 0.156885,
     "end_time": "2021-11-22T17:02:21.565291",
     "exception": false,
     "start_time": "2021-11-22T17:02:21.408406",
     "status": "completed"
    },
    "tags": []
   },
   "outputs": [],
   "source": [
    "col_for_drop.append('car_type')\n",
    "col_for_drop.append('car')"
   ]
  },
  {
   "cell_type": "code",
   "execution_count": 55,
   "id": "f73276d2",
   "metadata": {
    "_cell_guid": "f24705cc-5cdf-4b6b-a1cd-2331bb21644a",
    "_uuid": "6b8b817c-fbed-478b-8657-8ad3e1963c40",
    "execution": {
     "iopub.execute_input": "2021-11-22T17:02:21.869384Z",
     "iopub.status.busy": "2021-11-22T17:02:21.868708Z",
     "iopub.status.idle": "2021-11-22T17:02:24.764719Z",
     "shell.execute_reply": "2021-11-22T17:02:24.764076Z",
     "shell.execute_reply.started": "2021-11-22T16:52:18.086107Z"
    },
    "jupyter": {
     "outputs_hidden": false
    },
    "papermill": {
     "duration": 3.050028,
     "end_time": "2021-11-22T17:02:24.764854",
     "exception": false,
     "start_time": "2021-11-22T17:02:21.714826",
     "status": "completed"
    },
    "tags": []
   },
   "outputs": [],
   "source": [
    "# добавим новый признак score_bki*region_rating\n",
    "# Данные признак вывели после череды экспериментов.\n",
    "df['score_bki*region_rating'] = df.apply(\n",
    "    lambda x: x['score_bki'] * x['region_rating'], axis=1)"
   ]
  },
  {
   "cell_type": "markdown",
   "id": "a1db58c4",
   "metadata": {
    "papermill": {
     "duration": 0.153004,
     "end_time": "2021-11-22T17:02:25.368413",
     "exception": false,
     "start_time": "2021-11-22T17:02:25.215409",
     "status": "completed"
    },
    "tags": []
   },
   "source": [
    "### По каждому признаку их col_for_analytics выделим средние, максимальные и минимальные значения 'score_bki', 'bki_request_cnt', 'income'. После вычтем каждое значение от среднего."
   ]
  },
  {
   "cell_type": "code",
   "execution_count": 58,
   "id": "13447e32",
   "metadata": {
    "execution": {
     "iopub.execute_input": "2021-11-22T17:02:25.677821Z",
     "iopub.status.busy": "2021-11-22T17:02:25.676952Z",
     "iopub.status.idle": "2021-11-22T17:02:25.679775Z",
     "shell.execute_reply": "2021-11-22T17:02:25.679253Z",
     "shell.execute_reply.started": "2021-11-22T16:52:20.962277Z"
    },
    "papermill": {
     "duration": 0.158815,
     "end_time": "2021-11-22T17:02:25.679970",
     "exception": false,
     "start_time": "2021-11-22T17:02:25.521155",
     "status": "completed"
    },
    "tags": []
   },
   "outputs": [],
   "source": [
    "col_for_analytics = ['education', 'sex', 'age_type', 'car+car_type',\n",
    "                     'good_work', 'home_address', 'type_region_rating']"
   ]
  },
  {
   "cell_type": "code",
   "execution_count": 59,
   "id": "73ac6b0d",
   "metadata": {
    "execution": {
     "iopub.execute_input": "2021-11-22T17:02:25.985136Z",
     "iopub.status.busy": "2021-11-22T17:02:25.984495Z",
     "iopub.status.idle": "2021-11-22T17:02:25.987409Z",
     "shell.execute_reply": "2021-11-22T17:02:25.988021Z",
     "shell.execute_reply.started": "2021-11-22T16:52:20.969003Z"
    },
    "papermill": {
     "duration": 0.158139,
     "end_time": "2021-11-22T17:02:25.988189",
     "exception": false,
     "start_time": "2021-11-22T17:02:25.830050",
     "status": "completed"
    },
    "tags": []
   },
   "outputs": [],
   "source": [
    "num_cols_2 = [] # сюда сохраним созданные нами признаки"
   ]
  },
  {
   "cell_type": "markdown",
   "id": "cc493c8b",
   "metadata": {
    "papermill": {
     "duration": 0.149682,
     "end_time": "2021-11-22T17:02:26.287795",
     "exception": false,
     "start_time": "2021-11-22T17:02:26.138113",
     "status": "completed"
    },
    "tags": []
   },
   "source": [
    "Можно идти пить чай, следующая функция работает долго."
   ]
  },
  {
   "cell_type": "code",
   "execution_count": 60,
   "id": "6f29da1d",
   "metadata": {
    "execution": {
     "iopub.execute_input": "2021-11-22T17:02:26.596610Z",
     "iopub.status.busy": "2021-11-22T17:02:26.595611Z",
     "iopub.status.idle": "2021-11-22T17:03:36.447227Z",
     "shell.execute_reply": "2021-11-22T17:03:36.447753Z",
     "shell.execute_reply.started": "2021-11-22T16:52:20.986815Z"
    },
    "papermill": {
     "duration": 70.009273,
     "end_time": "2021-11-22T17:03:36.447950",
     "exception": false,
     "start_time": "2021-11-22T17:02:26.438677",
     "status": "completed"
    },
    "tags": []
   },
   "outputs": [
    {
     "name": "stdout",
     "output_type": "stream",
     "text": [
      "Начало работы над education\n",
      "Конец работы над education\n",
      "Начало работы над sex\n",
      "Конец работы над sex\n",
      "Начало работы над age_type\n",
      "Конец работы над age_type\n",
      "Начало работы над car+car_type\n",
      "Конец работы над car+car_type\n",
      "Начало работы над good_work\n",
      "Конец работы над good_work\n",
      "Начало работы над home_address\n",
      "Конец работы над home_address\n",
      "Начало работы над type_region_rating\n",
      "Конец работы над type_region_rating\n",
      "Конец\n"
     ]
    }
   ],
   "source": [
    "for i in col_for_analytics:\n",
    "    print(f'Начало работы над {i}')\n",
    "    mean_income = df.groupby(i)['income'].mean().to_dict()\n",
    "    min_income = df.groupby(i)['income'].min().to_dict()\n",
    "    max_income = df.groupby(i)['income'].max().to_dict()\n",
    "\n",
    "    mean_bki_request_cnt = df.groupby(i)['bki_request_cnt'].mean().to_dict()\n",
    "    min_bki_request_cnt = df.groupby(i)['bki_request_cnt'].min().to_dict()\n",
    "    max_bki_request_cnt = df.groupby(i)['bki_request_cnt'].max().to_dict()\n",
    "\n",
    "    mean_score_bki = df.groupby(i)['score_bki'].mean().to_dict()\n",
    "    min_score_bki = df.groupby(i)['score_bki'].min().to_dict()\n",
    "    max_score_bki = df.groupby(i)['score_bki'].max().to_dict()\n",
    "############################################################################\n",
    "    df[i + '_mean_income'] = df[i].map(mean_income)\n",
    "    df[i + 'min_income'] = df[i].map(min_income)\n",
    "    df[i + 'max_income'] = df[i].map(max_income)\n",
    "    df[i + '-mean_income'] = df.apply(lambda x:\n",
    "                                      x['income'] - x[i + '_mean_income'],\n",
    "                                      axis=1)\n",
    "\n",
    "    num_cols_2.append(i + '_mean_income')\n",
    "    num_cols_2.append(i + 'min_income')\n",
    "    num_cols_2.append(i + 'max_income')\n",
    "    num_cols_2.append(i + '-mean_income')\n",
    "    #########################################################################\n",
    "    df[i + 'mean_bki_request_cnt'] = df[i].map(mean_bki_request_cnt)\n",
    "    df[i + 'min_bki_request_cnt'] = df[i].map(min_bki_request_cnt)\n",
    "    df[i + 'max_bki_request_cnt'] = df[i].map(max_bki_request_cnt)\n",
    "    df[i + '-mean_bki_request_cnt'] = df.apply(lambda x:\n",
    "                                               x['bki_request_cnt'] -\n",
    "                                               x[i + 'mean_bki_request_cnt'],\n",
    "                                               axis=1)\n",
    "\n",
    "    num_cols_2.append(i + 'mean_bki_request_cnt')\n",
    "    num_cols_2.append(i + 'min_bki_request_cnt')\n",
    "    num_cols_2.append(i + 'max_bki_request_cnt')\n",
    "    num_cols_2.append(i + '-mean_bki_request_cnt')\n",
    " ##########################################################################\n",
    "    df[i + 'mean_score_bki'] = df[i].map(mean_score_bki)\n",
    "    df[i + 'min_score_bki'] = df[i].map(min_score_bki)\n",
    "    df[i + 'max_score_bki'] = df[i].map(max_score_bki)\n",
    "    df[i + '-mean_score_bki'] = df.apply(lambda x:\n",
    "                                         x['score_bki'] -\n",
    "                                         x[i + 'mean_score_bki'],\n",
    "                                         axis=1)\n",
    "\n",
    "    num_cols_2.append(i + 'mean_score_bki')\n",
    "    num_cols_2.append(i + 'min_bki_request_cnt')\n",
    "    num_cols_2.append(i + 'max_score_bki')\n",
    "    num_cols_2.append(i + '-mean_score_bki')\n",
    "    print(f'Конец работы над {i}')\n",
    "print(\"Конец\")"
   ]
  },
  {
   "cell_type": "markdown",
   "id": "515e0637",
   "metadata": {
    "_cell_guid": "c10e9e7f-18c5-4f65-85a1-fdfe861d42a4",
    "_uuid": "00abed92-96dd-4eb9-8f22-7e1a80900649",
    "papermill": {
     "duration": 0.15166,
     "end_time": "2021-11-22T17:03:36.757307",
     "exception": false,
     "start_time": "2021-11-22T17:03:36.605647",
     "status": "completed"
    },
    "tags": []
   },
   "source": [
    "# Раздел 12. Нормализация и логарифмирование непрерывных переменных."
   ]
  },
  {
   "cell_type": "code",
   "execution_count": 93,
   "id": "5b414a51",
   "metadata": {
    "execution": {
     "iopub.execute_input": "2021-11-22T17:03:37.372786Z",
     "iopub.status.busy": "2021-11-22T17:03:37.372162Z",
     "iopub.status.idle": "2021-11-22T17:03:37.457426Z",
     "shell.execute_reply": "2021-11-22T17:03:37.456744Z",
     "shell.execute_reply.started": "2021-11-22T16:53:29.627648Z"
    },
    "papermill": {
     "duration": 0.240693,
     "end_time": "2021-11-22T17:03:37.457566",
     "exception": false,
     "start_time": "2021-11-22T17:03:37.216873",
     "status": "completed"
    },
    "tags": []
   },
   "outputs": [],
   "source": [
    "df_end = df.copy()"
   ]
  },
  {
   "cell_type": "code",
   "execution_count": 94,
   "id": "ecc43103",
   "metadata": {
    "execution": {
     "iopub.execute_input": "2021-11-22T17:03:37.765810Z",
     "iopub.status.busy": "2021-11-22T17:03:37.765185Z",
     "iopub.status.idle": "2021-11-22T17:03:37.835750Z",
     "shell.execute_reply": "2021-11-22T17:03:37.835203Z",
     "shell.execute_reply.started": "2021-11-22T16:53:29.706280Z"
    },
    "papermill": {
     "duration": 0.225751,
     "end_time": "2021-11-22T17:03:37.835916",
     "exception": false,
     "start_time": "2021-11-22T17:03:37.610165",
     "status": "completed"
    },
    "tags": []
   },
   "outputs": [],
   "source": [
    "# удалим все ненужные признаки.\n",
    "df_end.drop(col_for_drop, axis = 1, inplace = True)\n",
    "# признак ниже преобразован в категориальный. \n",
    "# поэтому для сокращения размерности матрицы, удалим его.\n",
    "df_end.drop(num_cols, axis = 1, inplace = True)"
   ]
  },
  {
   "cell_type": "markdown",
   "id": "e6aa8ff6",
   "metadata": {},
   "source": [
    "Нормализуем численные переменные, для улучшения работы алгоритма."
   ]
  },
  {
   "cell_type": "code",
   "execution_count": 95,
   "id": "b33310ad",
   "metadata": {},
   "outputs": [],
   "source": [
    "num_cols_2.append('score_bki*region_rating')"
   ]
  },
  {
   "cell_type": "code",
   "execution_count": 96,
   "id": "cbdc4d64",
   "metadata": {
    "execution": {
     "iopub.execute_input": "2021-11-22T17:03:38.175198Z",
     "iopub.status.busy": "2021-11-22T17:03:38.174471Z",
     "iopub.status.idle": "2021-11-22T17:04:04.654755Z",
     "shell.execute_reply": "2021-11-22T17:04:04.655276Z",
     "shell.execute_reply.started": "2021-11-22T16:53:29.773343Z"
    },
    "papermill": {
     "duration": 26.665627,
     "end_time": "2021-11-22T17:04:04.655447",
     "exception": false,
     "start_time": "2021-11-22T17:03:37.989820",
     "status": "completed"
    },
    "tags": []
   },
   "outputs": [
    {
     "data": {
      "text/html": [
       "<div>\n",
       "<style scoped>\n",
       "    .dataframe tbody tr th:only-of-type {\n",
       "        vertical-align: middle;\n",
       "    }\n",
       "\n",
       "    .dataframe tbody tr th {\n",
       "        vertical-align: top;\n",
       "    }\n",
       "\n",
       "    .dataframe thead th {\n",
       "        text-align: right;\n",
       "    }\n",
       "</style>\n",
       "<table border=\"1\" class=\"dataframe\">\n",
       "  <thead>\n",
       "    <tr style=\"text-align: right;\">\n",
       "      <th></th>\n",
       "      <th>client_id</th>\n",
       "      <th>app_date</th>\n",
       "      <th>education</th>\n",
       "      <th>sex</th>\n",
       "      <th>age</th>\n",
       "      <th>car</th>\n",
       "      <th>car_type</th>\n",
       "      <th>decline_app_cnt</th>\n",
       "      <th>good_work</th>\n",
       "      <th>score_bki</th>\n",
       "      <th>bki_request_cnt</th>\n",
       "      <th>region_rating</th>\n",
       "      <th>home_address</th>\n",
       "      <th>work_address</th>\n",
       "      <th>income</th>\n",
       "      <th>sna</th>\n",
       "      <th>first_time</th>\n",
       "      <th>foreign_passport</th>\n",
       "      <th>sample</th>\n",
       "      <th>default</th>\n",
       "      <th>is_null_education</th>\n",
       "      <th>age_type</th>\n",
       "      <th>type_dec_app_cnt</th>\n",
       "      <th>type_score_bki</th>\n",
       "      <th>type_bki_request_cnt</th>\n",
       "      <th>type_region_rating</th>\n",
       "      <th>type_income</th>\n",
       "      <th>day</th>\n",
       "      <th>month</th>\n",
       "      <th>weekday</th>\n",
       "      <th>is_weekend</th>\n",
       "      <th>score_bki*region_rating</th>\n",
       "      <th>car+car_type</th>\n",
       "      <th>education_mean_income</th>\n",
       "      <th>educationmin_income</th>\n",
       "      <th>educationmax_income</th>\n",
       "      <th>education-mean_income</th>\n",
       "      <th>educationmean_bki_request_cnt</th>\n",
       "      <th>educationmin_bki_request_cnt</th>\n",
       "      <th>educationmax_bki_request_cnt</th>\n",
       "      <th>education-mean_bki_request_cnt</th>\n",
       "      <th>educationmean_score_bki</th>\n",
       "      <th>educationmin_score_bki</th>\n",
       "      <th>educationmax_score_bki</th>\n",
       "      <th>education-mean_score_bki</th>\n",
       "      <th>sex_mean_income</th>\n",
       "      <th>sexmin_income</th>\n",
       "      <th>sexmax_income</th>\n",
       "      <th>sex-mean_income</th>\n",
       "      <th>sexmean_bki_request_cnt</th>\n",
       "      <th>sexmin_bki_request_cnt</th>\n",
       "      <th>sexmax_bki_request_cnt</th>\n",
       "      <th>sex-mean_bki_request_cnt</th>\n",
       "      <th>sexmean_score_bki</th>\n",
       "      <th>sexmin_score_bki</th>\n",
       "      <th>sexmax_score_bki</th>\n",
       "      <th>sex-mean_score_bki</th>\n",
       "      <th>age_type_mean_income</th>\n",
       "      <th>age_typemin_income</th>\n",
       "      <th>age_typemax_income</th>\n",
       "      <th>age_type-mean_income</th>\n",
       "      <th>age_typemean_bki_request_cnt</th>\n",
       "      <th>age_typemin_bki_request_cnt</th>\n",
       "      <th>age_typemax_bki_request_cnt</th>\n",
       "      <th>age_type-mean_bki_request_cnt</th>\n",
       "      <th>age_typemean_score_bki</th>\n",
       "      <th>age_typemin_score_bki</th>\n",
       "      <th>age_typemax_score_bki</th>\n",
       "      <th>age_type-mean_score_bki</th>\n",
       "      <th>car+car_type_mean_income</th>\n",
       "      <th>car+car_typemin_income</th>\n",
       "      <th>car+car_typemax_income</th>\n",
       "      <th>car+car_type-mean_income</th>\n",
       "      <th>car+car_typemean_bki_request_cnt</th>\n",
       "      <th>car+car_typemin_bki_request_cnt</th>\n",
       "      <th>car+car_typemax_bki_request_cnt</th>\n",
       "      <th>car+car_type-mean_bki_request_cnt</th>\n",
       "      <th>car+car_typemean_score_bki</th>\n",
       "      <th>car+car_typemin_score_bki</th>\n",
       "      <th>car+car_typemax_score_bki</th>\n",
       "      <th>car+car_type-mean_score_bki</th>\n",
       "      <th>good_work_mean_income</th>\n",
       "      <th>good_workmin_income</th>\n",
       "      <th>good_workmax_income</th>\n",
       "      <th>good_work-mean_income</th>\n",
       "      <th>good_workmean_bki_request_cnt</th>\n",
       "      <th>good_workmin_bki_request_cnt</th>\n",
       "      <th>good_workmax_bki_request_cnt</th>\n",
       "      <th>good_work-mean_bki_request_cnt</th>\n",
       "      <th>good_workmean_score_bki</th>\n",
       "      <th>good_workmin_score_bki</th>\n",
       "      <th>good_workmax_score_bki</th>\n",
       "      <th>good_work-mean_score_bki</th>\n",
       "      <th>home_address_mean_income</th>\n",
       "      <th>home_addressmin_income</th>\n",
       "      <th>home_addressmax_income</th>\n",
       "      <th>home_address-mean_income</th>\n",
       "      <th>home_addressmean_bki_request_cnt</th>\n",
       "      <th>home_addressmin_bki_request_cnt</th>\n",
       "      <th>home_addressmax_bki_request_cnt</th>\n",
       "      <th>home_address-mean_bki_request_cnt</th>\n",
       "      <th>home_addressmean_score_bki</th>\n",
       "      <th>home_addressmin_score_bki</th>\n",
       "      <th>home_addressmax_score_bki</th>\n",
       "      <th>home_address-mean_score_bki</th>\n",
       "      <th>type_region_rating_mean_income</th>\n",
       "      <th>type_region_ratingmin_income</th>\n",
       "      <th>type_region_ratingmax_income</th>\n",
       "      <th>type_region_rating-mean_income</th>\n",
       "      <th>type_region_ratingmean_bki_request_cnt</th>\n",
       "      <th>type_region_ratingmin_bki_request_cnt</th>\n",
       "      <th>type_region_ratingmax_bki_request_cnt</th>\n",
       "      <th>type_region_rating-mean_bki_request_cnt</th>\n",
       "      <th>type_region_ratingmean_score_bki</th>\n",
       "      <th>type_region_ratingmin_score_bki</th>\n",
       "      <th>type_region_ratingmax_score_bki</th>\n",
       "      <th>type_region_rating-mean_score_bki</th>\n",
       "    </tr>\n",
       "  </thead>\n",
       "  <tbody>\n",
       "    <tr>\n",
       "      <th>0</th>\n",
       "      <td>74835</td>\n",
       "      <td>2014-03-22</td>\n",
       "      <td>1</td>\n",
       "      <td>1</td>\n",
       "      <td>29</td>\n",
       "      <td>1</td>\n",
       "      <td>1</td>\n",
       "      <td>0</td>\n",
       "      <td>0</td>\n",
       "      <td>-2.271884</td>\n",
       "      <td>3</td>\n",
       "      <td>50</td>\n",
       "      <td>1</td>\n",
       "      <td>2</td>\n",
       "      <td>50000</td>\n",
       "      <td>1</td>\n",
       "      <td>4</td>\n",
       "      <td>0</td>\n",
       "      <td>0</td>\n",
       "      <td>0</td>\n",
       "      <td>0</td>\n",
       "      <td>0</td>\n",
       "      <td>0</td>\n",
       "      <td>5</td>\n",
       "      <td>2</td>\n",
       "      <td>3</td>\n",
       "      <td>3</td>\n",
       "      <td>22</td>\n",
       "      <td>3</td>\n",
       "      <td>5</td>\n",
       "      <td>0</td>\n",
       "      <td>-113.594183</td>\n",
       "      <td>2</td>\n",
       "      <td>54315.008916</td>\n",
       "      <td>1000</td>\n",
       "      <td>1000000</td>\n",
       "      <td>-4315.008916</td>\n",
       "      <td>2.018983</td>\n",
       "      <td>0</td>\n",
       "      <td>7</td>\n",
       "      <td>0.981017</td>\n",
       "      <td>-1.920431</td>\n",
       "      <td>-3.624586</td>\n",
       "      <td>0.199773</td>\n",
       "      <td>-0.351453</td>\n",
       "      <td>50902.634542</td>\n",
       "      <td>2000</td>\n",
       "      <td>1000000</td>\n",
       "      <td>-902.634542</td>\n",
       "      <td>1.794420</td>\n",
       "      <td>0</td>\n",
       "      <td>7</td>\n",
       "      <td>1.205580</td>\n",
       "      <td>-1.930645</td>\n",
       "      <td>-3.624586</td>\n",
       "      <td>0.199773</td>\n",
       "      <td>-0.341239</td>\n",
       "      <td>37549.644490</td>\n",
       "      <td>1000</td>\n",
       "      <td>950000</td>\n",
       "      <td>12450.355510</td>\n",
       "      <td>1.761608</td>\n",
       "      <td>0</td>\n",
       "      <td>7</td>\n",
       "      <td>1.238392</td>\n",
       "      <td>-1.828189</td>\n",
       "      <td>-3.455709</td>\n",
       "      <td>0.199773</td>\n",
       "      <td>-0.443695</td>\n",
       "      <td>69478.156417</td>\n",
       "      <td>1000</td>\n",
       "      <td>1000000</td>\n",
       "      <td>-19478.156417</td>\n",
       "      <td>1.878665</td>\n",
       "      <td>0</td>\n",
       "      <td>7</td>\n",
       "      <td>1.121335</td>\n",
       "      <td>-1.947850</td>\n",
       "      <td>-3.624586</td>\n",
       "      <td>0.199773</td>\n",
       "      <td>-0.324034</td>\n",
       "      <td>40477.925204</td>\n",
       "      <td>1000</td>\n",
       "      <td>1000000</td>\n",
       "      <td>9522.074796</td>\n",
       "      <td>1.900834</td>\n",
       "      <td>0</td>\n",
       "      <td>7</td>\n",
       "      <td>1.099166</td>\n",
       "      <td>-1.905661</td>\n",
       "      <td>-3.624586</td>\n",
       "      <td>0.199773</td>\n",
       "      <td>-0.366222</td>\n",
       "      <td>38952.375801</td>\n",
       "      <td>1000</td>\n",
       "      <td>1000000</td>\n",
       "      <td>11047.624199</td>\n",
       "      <td>1.903036</td>\n",
       "      <td>0</td>\n",
       "      <td>7</td>\n",
       "      <td>1.096964</td>\n",
       "      <td>-1.914808</td>\n",
       "      <td>-3.574197</td>\n",
       "      <td>0.199773</td>\n",
       "      <td>-0.357076</td>\n",
       "      <td>35042.573583</td>\n",
       "      <td>1000</td>\n",
       "      <td>1000000</td>\n",
       "      <td>14957.426417</td>\n",
       "      <td>1.901906</td>\n",
       "      <td>0</td>\n",
       "      <td>7</td>\n",
       "      <td>1.098094</td>\n",
       "      <td>-1.914400</td>\n",
       "      <td>-3.597981</td>\n",
       "      <td>0.199773</td>\n",
       "      <td>-0.357484</td>\n",
       "    </tr>\n",
       "    <tr>\n",
       "      <th>1</th>\n",
       "      <td>17527</td>\n",
       "      <td>2014-01-24</td>\n",
       "      <td>3</td>\n",
       "      <td>0</td>\n",
       "      <td>39</td>\n",
       "      <td>0</td>\n",
       "      <td>0</td>\n",
       "      <td>5</td>\n",
       "      <td>0</td>\n",
       "      <td>-1.504999</td>\n",
       "      <td>2</td>\n",
       "      <td>50</td>\n",
       "      <td>1</td>\n",
       "      <td>2</td>\n",
       "      <td>5000</td>\n",
       "      <td>4</td>\n",
       "      <td>3</td>\n",
       "      <td>0</td>\n",
       "      <td>0</td>\n",
       "      <td>0</td>\n",
       "      <td>0</td>\n",
       "      <td>1</td>\n",
       "      <td>1</td>\n",
       "      <td>4</td>\n",
       "      <td>2</td>\n",
       "      <td>3</td>\n",
       "      <td>1</td>\n",
       "      <td>24</td>\n",
       "      <td>1</td>\n",
       "      <td>4</td>\n",
       "      <td>0</td>\n",
       "      <td>-75.249957</td>\n",
       "      <td>0</td>\n",
       "      <td>32149.392606</td>\n",
       "      <td>1000</td>\n",
       "      <td>1000000</td>\n",
       "      <td>-27149.392606</td>\n",
       "      <td>1.889869</td>\n",
       "      <td>0</td>\n",
       "      <td>7</td>\n",
       "      <td>0.110131</td>\n",
       "      <td>-1.904309</td>\n",
       "      <td>-3.559133</td>\n",
       "      <td>0.198070</td>\n",
       "      <td>0.399310</td>\n",
       "      <td>33285.677130</td>\n",
       "      <td>1000</td>\n",
       "      <td>1000000</td>\n",
       "      <td>-28285.677130</td>\n",
       "      <td>1.997138</td>\n",
       "      <td>0</td>\n",
       "      <td>7</td>\n",
       "      <td>0.002862</td>\n",
       "      <td>-1.884135</td>\n",
       "      <td>-3.597981</td>\n",
       "      <td>0.199773</td>\n",
       "      <td>0.379136</td>\n",
       "      <td>45100.755019</td>\n",
       "      <td>1000</td>\n",
       "      <td>1000000</td>\n",
       "      <td>-40100.755019</td>\n",
       "      <td>1.888986</td>\n",
       "      <td>0</td>\n",
       "      <td>7</td>\n",
       "      <td>0.111014</td>\n",
       "      <td>-1.915606</td>\n",
       "      <td>-3.624586</td>\n",
       "      <td>0.199773</td>\n",
       "      <td>0.410606</td>\n",
       "      <td>33153.865554</td>\n",
       "      <td>1000</td>\n",
       "      <td>1000000</td>\n",
       "      <td>-28153.865554</td>\n",
       "      <td>1.958487</td>\n",
       "      <td>0</td>\n",
       "      <td>7</td>\n",
       "      <td>0.041513</td>\n",
       "      <td>-1.889588</td>\n",
       "      <td>-3.597981</td>\n",
       "      <td>0.199773</td>\n",
       "      <td>0.384589</td>\n",
       "      <td>40477.925204</td>\n",
       "      <td>1000</td>\n",
       "      <td>1000000</td>\n",
       "      <td>-35477.925204</td>\n",
       "      <td>1.900834</td>\n",
       "      <td>0</td>\n",
       "      <td>7</td>\n",
       "      <td>0.099166</td>\n",
       "      <td>-1.905661</td>\n",
       "      <td>-3.624586</td>\n",
       "      <td>0.199773</td>\n",
       "      <td>0.400662</td>\n",
       "      <td>38952.375801</td>\n",
       "      <td>1000</td>\n",
       "      <td>1000000</td>\n",
       "      <td>-33952.375801</td>\n",
       "      <td>1.903036</td>\n",
       "      <td>0</td>\n",
       "      <td>7</td>\n",
       "      <td>0.096964</td>\n",
       "      <td>-1.914808</td>\n",
       "      <td>-3.574197</td>\n",
       "      <td>0.199773</td>\n",
       "      <td>0.409809</td>\n",
       "      <td>35042.573583</td>\n",
       "      <td>1000</td>\n",
       "      <td>1000000</td>\n",
       "      <td>-30042.573583</td>\n",
       "      <td>1.901906</td>\n",
       "      <td>0</td>\n",
       "      <td>7</td>\n",
       "      <td>0.098094</td>\n",
       "      <td>-1.914400</td>\n",
       "      <td>-3.597981</td>\n",
       "      <td>0.199773</td>\n",
       "      <td>0.409401</td>\n",
       "    </tr>\n",
       "    <tr>\n",
       "      <th>2</th>\n",
       "      <td>75683</td>\n",
       "      <td>2014-03-23</td>\n",
       "      <td>4</td>\n",
       "      <td>1</td>\n",
       "      <td>50</td>\n",
       "      <td>1</td>\n",
       "      <td>1</td>\n",
       "      <td>0</td>\n",
       "      <td>0</td>\n",
       "      <td>-1.691339</td>\n",
       "      <td>1</td>\n",
       "      <td>50</td>\n",
       "      <td>1</td>\n",
       "      <td>2</td>\n",
       "      <td>30000</td>\n",
       "      <td>1</td>\n",
       "      <td>3</td>\n",
       "      <td>1</td>\n",
       "      <td>0</td>\n",
       "      <td>0</td>\n",
       "      <td>0</td>\n",
       "      <td>2</td>\n",
       "      <td>0</td>\n",
       "      <td>4</td>\n",
       "      <td>1</td>\n",
       "      <td>3</td>\n",
       "      <td>2</td>\n",
       "      <td>23</td>\n",
       "      <td>3</td>\n",
       "      <td>6</td>\n",
       "      <td>0</td>\n",
       "      <td>-84.566952</td>\n",
       "      <td>2</td>\n",
       "      <td>39009.904868</td>\n",
       "      <td>1000</td>\n",
       "      <td>950000</td>\n",
       "      <td>-9009.904868</td>\n",
       "      <td>1.722471</td>\n",
       "      <td>0</td>\n",
       "      <td>7</td>\n",
       "      <td>-0.722471</td>\n",
       "      <td>-1.855721</td>\n",
       "      <td>-3.497759</td>\n",
       "      <td>0.188820</td>\n",
       "      <td>0.164382</td>\n",
       "      <td>50902.634542</td>\n",
       "      <td>2000</td>\n",
       "      <td>1000000</td>\n",
       "      <td>-20902.634542</td>\n",
       "      <td>1.794420</td>\n",
       "      <td>0</td>\n",
       "      <td>7</td>\n",
       "      <td>-0.794420</td>\n",
       "      <td>-1.930645</td>\n",
       "      <td>-3.624586</td>\n",
       "      <td>0.199773</td>\n",
       "      <td>0.239306</td>\n",
       "      <td>41262.880582</td>\n",
       "      <td>1000</td>\n",
       "      <td>1000000</td>\n",
       "      <td>-11262.880582</td>\n",
       "      <td>2.118958</td>\n",
       "      <td>0</td>\n",
       "      <td>7</td>\n",
       "      <td>-1.118958</td>\n",
       "      <td>-1.952215</td>\n",
       "      <td>-3.559133</td>\n",
       "      <td>0.198070</td>\n",
       "      <td>0.260876</td>\n",
       "      <td>69478.156417</td>\n",
       "      <td>1000</td>\n",
       "      <td>1000000</td>\n",
       "      <td>-39478.156417</td>\n",
       "      <td>1.878665</td>\n",
       "      <td>0</td>\n",
       "      <td>7</td>\n",
       "      <td>-0.878665</td>\n",
       "      <td>-1.947850</td>\n",
       "      <td>-3.624586</td>\n",
       "      <td>0.199773</td>\n",
       "      <td>0.256511</td>\n",
       "      <td>40477.925204</td>\n",
       "      <td>1000</td>\n",
       "      <td>1000000</td>\n",
       "      <td>-10477.925204</td>\n",
       "      <td>1.900834</td>\n",
       "      <td>0</td>\n",
       "      <td>7</td>\n",
       "      <td>-0.900834</td>\n",
       "      <td>-1.905661</td>\n",
       "      <td>-3.624586</td>\n",
       "      <td>0.199773</td>\n",
       "      <td>0.214322</td>\n",
       "      <td>38952.375801</td>\n",
       "      <td>1000</td>\n",
       "      <td>1000000</td>\n",
       "      <td>-8952.375801</td>\n",
       "      <td>1.903036</td>\n",
       "      <td>0</td>\n",
       "      <td>7</td>\n",
       "      <td>-0.903036</td>\n",
       "      <td>-1.914808</td>\n",
       "      <td>-3.574197</td>\n",
       "      <td>0.199773</td>\n",
       "      <td>0.223469</td>\n",
       "      <td>35042.573583</td>\n",
       "      <td>1000</td>\n",
       "      <td>1000000</td>\n",
       "      <td>-5042.573583</td>\n",
       "      <td>1.901906</td>\n",
       "      <td>0</td>\n",
       "      <td>7</td>\n",
       "      <td>-0.901906</td>\n",
       "      <td>-1.914400</td>\n",
       "      <td>-3.597981</td>\n",
       "      <td>0.199773</td>\n",
       "      <td>0.223061</td>\n",
       "    </tr>\n",
       "    <tr>\n",
       "      <th>3</th>\n",
       "      <td>26883</td>\n",
       "      <td>2014-02-03</td>\n",
       "      <td>3</td>\n",
       "      <td>1</td>\n",
       "      <td>56</td>\n",
       "      <td>0</td>\n",
       "      <td>0</td>\n",
       "      <td>0</td>\n",
       "      <td>0</td>\n",
       "      <td>-2.374182</td>\n",
       "      <td>1</td>\n",
       "      <td>40</td>\n",
       "      <td>1</td>\n",
       "      <td>2</td>\n",
       "      <td>17000</td>\n",
       "      <td>1</td>\n",
       "      <td>3</td>\n",
       "      <td>0</td>\n",
       "      <td>0</td>\n",
       "      <td>0</td>\n",
       "      <td>0</td>\n",
       "      <td>2</td>\n",
       "      <td>0</td>\n",
       "      <td>5</td>\n",
       "      <td>1</td>\n",
       "      <td>2</td>\n",
       "      <td>1</td>\n",
       "      <td>3</td>\n",
       "      <td>2</td>\n",
       "      <td>0</td>\n",
       "      <td>0</td>\n",
       "      <td>-94.967299</td>\n",
       "      <td>0</td>\n",
       "      <td>32149.392606</td>\n",
       "      <td>1000</td>\n",
       "      <td>1000000</td>\n",
       "      <td>-15149.392606</td>\n",
       "      <td>1.889869</td>\n",
       "      <td>0</td>\n",
       "      <td>7</td>\n",
       "      <td>-0.889869</td>\n",
       "      <td>-1.904309</td>\n",
       "      <td>-3.559133</td>\n",
       "      <td>0.198070</td>\n",
       "      <td>-0.469874</td>\n",
       "      <td>50902.634542</td>\n",
       "      <td>2000</td>\n",
       "      <td>1000000</td>\n",
       "      <td>-33902.634542</td>\n",
       "      <td>1.794420</td>\n",
       "      <td>0</td>\n",
       "      <td>7</td>\n",
       "      <td>-0.794420</td>\n",
       "      <td>-1.930645</td>\n",
       "      <td>-3.624586</td>\n",
       "      <td>0.199773</td>\n",
       "      <td>-0.443537</td>\n",
       "      <td>41262.880582</td>\n",
       "      <td>1000</td>\n",
       "      <td>1000000</td>\n",
       "      <td>-24262.880582</td>\n",
       "      <td>2.118958</td>\n",
       "      <td>0</td>\n",
       "      <td>7</td>\n",
       "      <td>-1.118958</td>\n",
       "      <td>-1.952215</td>\n",
       "      <td>-3.559133</td>\n",
       "      <td>0.198070</td>\n",
       "      <td>-0.421968</td>\n",
       "      <td>33153.865554</td>\n",
       "      <td>1000</td>\n",
       "      <td>1000000</td>\n",
       "      <td>-16153.865554</td>\n",
       "      <td>1.958487</td>\n",
       "      <td>0</td>\n",
       "      <td>7</td>\n",
       "      <td>-0.958487</td>\n",
       "      <td>-1.889588</td>\n",
       "      <td>-3.597981</td>\n",
       "      <td>0.199773</td>\n",
       "      <td>-0.484594</td>\n",
       "      <td>40477.925204</td>\n",
       "      <td>1000</td>\n",
       "      <td>1000000</td>\n",
       "      <td>-23477.925204</td>\n",
       "      <td>1.900834</td>\n",
       "      <td>0</td>\n",
       "      <td>7</td>\n",
       "      <td>-0.900834</td>\n",
       "      <td>-1.905661</td>\n",
       "      <td>-3.624586</td>\n",
       "      <td>0.199773</td>\n",
       "      <td>-0.468521</td>\n",
       "      <td>38952.375801</td>\n",
       "      <td>1000</td>\n",
       "      <td>1000000</td>\n",
       "      <td>-21952.375801</td>\n",
       "      <td>1.903036</td>\n",
       "      <td>0</td>\n",
       "      <td>7</td>\n",
       "      <td>-0.903036</td>\n",
       "      <td>-1.914808</td>\n",
       "      <td>-3.574197</td>\n",
       "      <td>0.199773</td>\n",
       "      <td>-0.459375</td>\n",
       "      <td>33438.350811</td>\n",
       "      <td>1000</td>\n",
       "      <td>1000000</td>\n",
       "      <td>-16438.350811</td>\n",
       "      <td>1.907561</td>\n",
       "      <td>0</td>\n",
       "      <td>7</td>\n",
       "      <td>-0.907561</td>\n",
       "      <td>-1.891859</td>\n",
       "      <td>-3.455709</td>\n",
       "      <td>0.199773</td>\n",
       "      <td>-0.482324</td>\n",
       "    </tr>\n",
       "    <tr>\n",
       "      <th>4</th>\n",
       "      <td>28862</td>\n",
       "      <td>2014-02-04</td>\n",
       "      <td>1</td>\n",
       "      <td>0</td>\n",
       "      <td>38</td>\n",
       "      <td>0</td>\n",
       "      <td>0</td>\n",
       "      <td>0</td>\n",
       "      <td>0</td>\n",
       "      <td>-2.487502</td>\n",
       "      <td>0</td>\n",
       "      <td>80</td>\n",
       "      <td>2</td>\n",
       "      <td>3</td>\n",
       "      <td>120000</td>\n",
       "      <td>1</td>\n",
       "      <td>3</td>\n",
       "      <td>0</td>\n",
       "      <td>0</td>\n",
       "      <td>0</td>\n",
       "      <td>0</td>\n",
       "      <td>1</td>\n",
       "      <td>0</td>\n",
       "      <td>6</td>\n",
       "      <td>1</td>\n",
       "      <td>6</td>\n",
       "      <td>3</td>\n",
       "      <td>4</td>\n",
       "      <td>2</td>\n",
       "      <td>1</td>\n",
       "      <td>0</td>\n",
       "      <td>-199.000192</td>\n",
       "      <td>0</td>\n",
       "      <td>54315.008916</td>\n",
       "      <td>1000</td>\n",
       "      <td>1000000</td>\n",
       "      <td>65684.991084</td>\n",
       "      <td>2.018983</td>\n",
       "      <td>0</td>\n",
       "      <td>7</td>\n",
       "      <td>-2.018983</td>\n",
       "      <td>-1.920431</td>\n",
       "      <td>-3.624586</td>\n",
       "      <td>0.199773</td>\n",
       "      <td>-0.567071</td>\n",
       "      <td>33285.677130</td>\n",
       "      <td>1000</td>\n",
       "      <td>1000000</td>\n",
       "      <td>86714.322870</td>\n",
       "      <td>1.997138</td>\n",
       "      <td>0</td>\n",
       "      <td>7</td>\n",
       "      <td>-1.997138</td>\n",
       "      <td>-1.884135</td>\n",
       "      <td>-3.597981</td>\n",
       "      <td>0.199773</td>\n",
       "      <td>-0.603367</td>\n",
       "      <td>45100.755019</td>\n",
       "      <td>1000</td>\n",
       "      <td>1000000</td>\n",
       "      <td>74899.244981</td>\n",
       "      <td>1.888986</td>\n",
       "      <td>0</td>\n",
       "      <td>7</td>\n",
       "      <td>-1.888986</td>\n",
       "      <td>-1.915606</td>\n",
       "      <td>-3.624586</td>\n",
       "      <td>0.199773</td>\n",
       "      <td>-0.571897</td>\n",
       "      <td>33153.865554</td>\n",
       "      <td>1000</td>\n",
       "      <td>1000000</td>\n",
       "      <td>86846.134446</td>\n",
       "      <td>1.958487</td>\n",
       "      <td>0</td>\n",
       "      <td>7</td>\n",
       "      <td>-1.958487</td>\n",
       "      <td>-1.889588</td>\n",
       "      <td>-3.597981</td>\n",
       "      <td>0.199773</td>\n",
       "      <td>-0.597914</td>\n",
       "      <td>40477.925204</td>\n",
       "      <td>1000</td>\n",
       "      <td>1000000</td>\n",
       "      <td>79522.074796</td>\n",
       "      <td>1.900834</td>\n",
       "      <td>0</td>\n",
       "      <td>7</td>\n",
       "      <td>-1.900834</td>\n",
       "      <td>-1.905661</td>\n",
       "      <td>-3.624586</td>\n",
       "      <td>0.199773</td>\n",
       "      <td>-0.581841</td>\n",
       "      <td>42702.205417</td>\n",
       "      <td>1000</td>\n",
       "      <td>1000000</td>\n",
       "      <td>77297.794583</td>\n",
       "      <td>1.911430</td>\n",
       "      <td>0</td>\n",
       "      <td>7</td>\n",
       "      <td>-1.911430</td>\n",
       "      <td>-1.895568</td>\n",
       "      <td>-3.624586</td>\n",
       "      <td>0.199773</td>\n",
       "      <td>-0.591935</td>\n",
       "      <td>60805.944729</td>\n",
       "      <td>1700</td>\n",
       "      <td>1000000</td>\n",
       "      <td>59194.055271</td>\n",
       "      <td>1.831916</td>\n",
       "      <td>0</td>\n",
       "      <td>7</td>\n",
       "      <td>-1.831916</td>\n",
       "      <td>-1.900764</td>\n",
       "      <td>-3.624586</td>\n",
       "      <td>0.183613</td>\n",
       "      <td>-0.586738</td>\n",
       "    </tr>\n",
       "  </tbody>\n",
       "</table>\n",
       "</div>"
      ],
      "text/plain": [
       "   client_id   app_date  education  sex  age  car  car_type  decline_app_cnt  \\\n",
       "0      74835 2014-03-22          1    1   29    1         1                0   \n",
       "1      17527 2014-01-24          3    0   39    0         0                5   \n",
       "2      75683 2014-03-23          4    1   50    1         1                0   \n",
       "3      26883 2014-02-03          3    1   56    0         0                0   \n",
       "4      28862 2014-02-04          1    0   38    0         0                0   \n",
       "\n",
       "   good_work  score_bki  bki_request_cnt  region_rating  home_address  \\\n",
       "0          0  -2.271884                3             50             1   \n",
       "1          0  -1.504999                2             50             1   \n",
       "2          0  -1.691339                1             50             1   \n",
       "3          0  -2.374182                1             40             1   \n",
       "4          0  -2.487502                0             80             2   \n",
       "\n",
       "   work_address  income  sna  first_time  foreign_passport  sample  default  \\\n",
       "0             2   50000    1           4                 0       0        0   \n",
       "1             2    5000    4           3                 0       0        0   \n",
       "2             2   30000    1           3                 1       0        0   \n",
       "3             2   17000    1           3                 0       0        0   \n",
       "4             3  120000    1           3                 0       0        0   \n",
       "\n",
       "   is_null_education  age_type  type_dec_app_cnt  type_score_bki  \\\n",
       "0                  0         0                 0               5   \n",
       "1                  0         1                 1               4   \n",
       "2                  0         2                 0               4   \n",
       "3                  0         2                 0               5   \n",
       "4                  0         1                 0               6   \n",
       "\n",
       "   type_bki_request_cnt  type_region_rating  type_income  day  month  weekday  \\\n",
       "0                     2                   3            3   22      3        5   \n",
       "1                     2                   3            1   24      1        4   \n",
       "2                     1                   3            2   23      3        6   \n",
       "3                     1                   2            1    3      2        0   \n",
       "4                     1                   6            3    4      2        1   \n",
       "\n",
       "   is_weekend  score_bki*region_rating  car+car_type  education_mean_income  \\\n",
       "0           0              -113.594183             2           54315.008916   \n",
       "1           0               -75.249957             0           32149.392606   \n",
       "2           0               -84.566952             2           39009.904868   \n",
       "3           0               -94.967299             0           32149.392606   \n",
       "4           0              -199.000192             0           54315.008916   \n",
       "\n",
       "   educationmin_income  educationmax_income  education-mean_income  \\\n",
       "0                 1000              1000000           -4315.008916   \n",
       "1                 1000              1000000          -27149.392606   \n",
       "2                 1000               950000           -9009.904868   \n",
       "3                 1000              1000000          -15149.392606   \n",
       "4                 1000              1000000           65684.991084   \n",
       "\n",
       "   educationmean_bki_request_cnt  educationmin_bki_request_cnt  \\\n",
       "0                       2.018983                             0   \n",
       "1                       1.889869                             0   \n",
       "2                       1.722471                             0   \n",
       "3                       1.889869                             0   \n",
       "4                       2.018983                             0   \n",
       "\n",
       "   educationmax_bki_request_cnt  education-mean_bki_request_cnt  \\\n",
       "0                             7                        0.981017   \n",
       "1                             7                        0.110131   \n",
       "2                             7                       -0.722471   \n",
       "3                             7                       -0.889869   \n",
       "4                             7                       -2.018983   \n",
       "\n",
       "   educationmean_score_bki  educationmin_score_bki  educationmax_score_bki  \\\n",
       "0                -1.920431               -3.624586                0.199773   \n",
       "1                -1.904309               -3.559133                0.198070   \n",
       "2                -1.855721               -3.497759                0.188820   \n",
       "3                -1.904309               -3.559133                0.198070   \n",
       "4                -1.920431               -3.624586                0.199773   \n",
       "\n",
       "   education-mean_score_bki  sex_mean_income  sexmin_income  sexmax_income  \\\n",
       "0                 -0.351453     50902.634542           2000        1000000   \n",
       "1                  0.399310     33285.677130           1000        1000000   \n",
       "2                  0.164382     50902.634542           2000        1000000   \n",
       "3                 -0.469874     50902.634542           2000        1000000   \n",
       "4                 -0.567071     33285.677130           1000        1000000   \n",
       "\n",
       "   sex-mean_income  sexmean_bki_request_cnt  sexmin_bki_request_cnt  \\\n",
       "0      -902.634542                 1.794420                       0   \n",
       "1    -28285.677130                 1.997138                       0   \n",
       "2    -20902.634542                 1.794420                       0   \n",
       "3    -33902.634542                 1.794420                       0   \n",
       "4     86714.322870                 1.997138                       0   \n",
       "\n",
       "   sexmax_bki_request_cnt  sex-mean_bki_request_cnt  sexmean_score_bki  \\\n",
       "0                       7                  1.205580          -1.930645   \n",
       "1                       7                  0.002862          -1.884135   \n",
       "2                       7                 -0.794420          -1.930645   \n",
       "3                       7                 -0.794420          -1.930645   \n",
       "4                       7                 -1.997138          -1.884135   \n",
       "\n",
       "   sexmin_score_bki  sexmax_score_bki  sex-mean_score_bki  \\\n",
       "0         -3.624586          0.199773           -0.341239   \n",
       "1         -3.597981          0.199773            0.379136   \n",
       "2         -3.624586          0.199773            0.239306   \n",
       "3         -3.624586          0.199773           -0.443537   \n",
       "4         -3.597981          0.199773           -0.603367   \n",
       "\n",
       "   age_type_mean_income  age_typemin_income  age_typemax_income  \\\n",
       "0          37549.644490                1000              950000   \n",
       "1          45100.755019                1000             1000000   \n",
       "2          41262.880582                1000             1000000   \n",
       "3          41262.880582                1000             1000000   \n",
       "4          45100.755019                1000             1000000   \n",
       "\n",
       "   age_type-mean_income  age_typemean_bki_request_cnt  \\\n",
       "0          12450.355510                      1.761608   \n",
       "1         -40100.755019                      1.888986   \n",
       "2         -11262.880582                      2.118958   \n",
       "3         -24262.880582                      2.118958   \n",
       "4          74899.244981                      1.888986   \n",
       "\n",
       "   age_typemin_bki_request_cnt  age_typemax_bki_request_cnt  \\\n",
       "0                            0                            7   \n",
       "1                            0                            7   \n",
       "2                            0                            7   \n",
       "3                            0                            7   \n",
       "4                            0                            7   \n",
       "\n",
       "   age_type-mean_bki_request_cnt  age_typemean_score_bki  \\\n",
       "0                       1.238392               -1.828189   \n",
       "1                       0.111014               -1.915606   \n",
       "2                      -1.118958               -1.952215   \n",
       "3                      -1.118958               -1.952215   \n",
       "4                      -1.888986               -1.915606   \n",
       "\n",
       "   age_typemin_score_bki  age_typemax_score_bki  age_type-mean_score_bki  \\\n",
       "0              -3.455709               0.199773                -0.443695   \n",
       "1              -3.624586               0.199773                 0.410606   \n",
       "2              -3.559133               0.198070                 0.260876   \n",
       "3              -3.559133               0.198070                -0.421968   \n",
       "4              -3.624586               0.199773                -0.571897   \n",
       "\n",
       "   car+car_type_mean_income  car+car_typemin_income  car+car_typemax_income  \\\n",
       "0              69478.156417                    1000                 1000000   \n",
       "1              33153.865554                    1000                 1000000   \n",
       "2              69478.156417                    1000                 1000000   \n",
       "3              33153.865554                    1000                 1000000   \n",
       "4              33153.865554                    1000                 1000000   \n",
       "\n",
       "   car+car_type-mean_income  car+car_typemean_bki_request_cnt  \\\n",
       "0             -19478.156417                          1.878665   \n",
       "1             -28153.865554                          1.958487   \n",
       "2             -39478.156417                          1.878665   \n",
       "3             -16153.865554                          1.958487   \n",
       "4              86846.134446                          1.958487   \n",
       "\n",
       "   car+car_typemin_bki_request_cnt  car+car_typemax_bki_request_cnt  \\\n",
       "0                                0                                7   \n",
       "1                                0                                7   \n",
       "2                                0                                7   \n",
       "3                                0                                7   \n",
       "4                                0                                7   \n",
       "\n",
       "   car+car_type-mean_bki_request_cnt  car+car_typemean_score_bki  \\\n",
       "0                           1.121335                   -1.947850   \n",
       "1                           0.041513                   -1.889588   \n",
       "2                          -0.878665                   -1.947850   \n",
       "3                          -0.958487                   -1.889588   \n",
       "4                          -1.958487                   -1.889588   \n",
       "\n",
       "   car+car_typemin_score_bki  car+car_typemax_score_bki  \\\n",
       "0                  -3.624586                   0.199773   \n",
       "1                  -3.597981                   0.199773   \n",
       "2                  -3.624586                   0.199773   \n",
       "3                  -3.597981                   0.199773   \n",
       "4                  -3.597981                   0.199773   \n",
       "\n",
       "   car+car_type-mean_score_bki  good_work_mean_income  good_workmin_income  \\\n",
       "0                    -0.324034           40477.925204                 1000   \n",
       "1                     0.384589           40477.925204                 1000   \n",
       "2                     0.256511           40477.925204                 1000   \n",
       "3                    -0.484594           40477.925204                 1000   \n",
       "4                    -0.597914           40477.925204                 1000   \n",
       "\n",
       "   good_workmax_income  good_work-mean_income  good_workmean_bki_request_cnt  \\\n",
       "0              1000000            9522.074796                       1.900834   \n",
       "1              1000000          -35477.925204                       1.900834   \n",
       "2              1000000          -10477.925204                       1.900834   \n",
       "3              1000000          -23477.925204                       1.900834   \n",
       "4              1000000           79522.074796                       1.900834   \n",
       "\n",
       "   good_workmin_bki_request_cnt  good_workmax_bki_request_cnt  \\\n",
       "0                             0                             7   \n",
       "1                             0                             7   \n",
       "2                             0                             7   \n",
       "3                             0                             7   \n",
       "4                             0                             7   \n",
       "\n",
       "   good_work-mean_bki_request_cnt  good_workmean_score_bki  \\\n",
       "0                        1.099166                -1.905661   \n",
       "1                        0.099166                -1.905661   \n",
       "2                       -0.900834                -1.905661   \n",
       "3                       -0.900834                -1.905661   \n",
       "4                       -1.900834                -1.905661   \n",
       "\n",
       "   good_workmin_score_bki  good_workmax_score_bki  good_work-mean_score_bki  \\\n",
       "0               -3.624586                0.199773                 -0.366222   \n",
       "1               -3.624586                0.199773                  0.400662   \n",
       "2               -3.624586                0.199773                  0.214322   \n",
       "3               -3.624586                0.199773                 -0.468521   \n",
       "4               -3.624586                0.199773                 -0.581841   \n",
       "\n",
       "   home_address_mean_income  home_addressmin_income  home_addressmax_income  \\\n",
       "0              38952.375801                    1000                 1000000   \n",
       "1              38952.375801                    1000                 1000000   \n",
       "2              38952.375801                    1000                 1000000   \n",
       "3              38952.375801                    1000                 1000000   \n",
       "4              42702.205417                    1000                 1000000   \n",
       "\n",
       "   home_address-mean_income  home_addressmean_bki_request_cnt  \\\n",
       "0              11047.624199                          1.903036   \n",
       "1             -33952.375801                          1.903036   \n",
       "2              -8952.375801                          1.903036   \n",
       "3             -21952.375801                          1.903036   \n",
       "4              77297.794583                          1.911430   \n",
       "\n",
       "   home_addressmin_bki_request_cnt  home_addressmax_bki_request_cnt  \\\n",
       "0                                0                                7   \n",
       "1                                0                                7   \n",
       "2                                0                                7   \n",
       "3                                0                                7   \n",
       "4                                0                                7   \n",
       "\n",
       "   home_address-mean_bki_request_cnt  home_addressmean_score_bki  \\\n",
       "0                           1.096964                   -1.914808   \n",
       "1                           0.096964                   -1.914808   \n",
       "2                          -0.903036                   -1.914808   \n",
       "3                          -0.903036                   -1.914808   \n",
       "4                          -1.911430                   -1.895568   \n",
       "\n",
       "   home_addressmin_score_bki  home_addressmax_score_bki  \\\n",
       "0                  -3.574197                   0.199773   \n",
       "1                  -3.574197                   0.199773   \n",
       "2                  -3.574197                   0.199773   \n",
       "3                  -3.574197                   0.199773   \n",
       "4                  -3.624586                   0.199773   \n",
       "\n",
       "   home_address-mean_score_bki  type_region_rating_mean_income  \\\n",
       "0                    -0.357076                    35042.573583   \n",
       "1                     0.409809                    35042.573583   \n",
       "2                     0.223469                    35042.573583   \n",
       "3                    -0.459375                    33438.350811   \n",
       "4                    -0.591935                    60805.944729   \n",
       "\n",
       "   type_region_ratingmin_income  type_region_ratingmax_income  \\\n",
       "0                          1000                       1000000   \n",
       "1                          1000                       1000000   \n",
       "2                          1000                       1000000   \n",
       "3                          1000                       1000000   \n",
       "4                          1700                       1000000   \n",
       "\n",
       "   type_region_rating-mean_income  type_region_ratingmean_bki_request_cnt  \\\n",
       "0                    14957.426417                                1.901906   \n",
       "1                   -30042.573583                                1.901906   \n",
       "2                    -5042.573583                                1.901906   \n",
       "3                   -16438.350811                                1.907561   \n",
       "4                    59194.055271                                1.831916   \n",
       "\n",
       "   type_region_ratingmin_bki_request_cnt  \\\n",
       "0                                      0   \n",
       "1                                      0   \n",
       "2                                      0   \n",
       "3                                      0   \n",
       "4                                      0   \n",
       "\n",
       "   type_region_ratingmax_bki_request_cnt  \\\n",
       "0                                      7   \n",
       "1                                      7   \n",
       "2                                      7   \n",
       "3                                      7   \n",
       "4                                      7   \n",
       "\n",
       "   type_region_rating-mean_bki_request_cnt  type_region_ratingmean_score_bki  \\\n",
       "0                                 1.098094                         -1.914400   \n",
       "1                                 0.098094                         -1.914400   \n",
       "2                                -0.901906                         -1.914400   \n",
       "3                                -0.907561                         -1.891859   \n",
       "4                                -1.831916                         -1.900764   \n",
       "\n",
       "   type_region_ratingmin_score_bki  type_region_ratingmax_score_bki  \\\n",
       "0                        -3.597981                         0.199773   \n",
       "1                        -3.597981                         0.199773   \n",
       "2                        -3.597981                         0.199773   \n",
       "3                        -3.455709                         0.199773   \n",
       "4                        -3.624586                         0.183613   \n",
       "\n",
       "   type_region_rating-mean_score_bki  \n",
       "0                          -0.357484  \n",
       "1                           0.409401  \n",
       "2                           0.223061  \n",
       "3                          -0.482324  \n",
       "4                          -0.586738  "
      ]
     },
     "execution_count": 96,
     "metadata": {},
     "output_type": "execute_result"
    }
   ],
   "source": [
    "for column in num_cols_2:\n",
    "    df_end[column] = StandardScaler().fit_transform(df_end[num_cols_2])\n",
    "\n",
    "    # убедимся в преобразовании    \n",
    "df.head()"
   ]
  },
  {
   "cell_type": "markdown",
   "id": "5ad91b91",
   "metadata": {},
   "source": [
    "Для того чтобы сделать распределение данных переменных более нормальным, будем работать с логарифмированными величинами этих переменных. Тогда мы сможем избежать чувствительности к сильным отклонениям в суммах у линейных моделей. А также это позволит улучшить процесс создание признаков и убрать ошибку при работе с большими величинами."
   ]
  },
  {
   "cell_type": "code",
   "execution_count": 97,
   "id": "8c37b707",
   "metadata": {
    "_cell_guid": "6e585578-a38e-41ce-b89b-817289412bf9",
    "_uuid": "8f62c799-d3bc-4264-931b-08f8eb9af6be",
    "execution": {
     "iopub.execute_input": "2021-11-22T17:04:04.970766Z",
     "iopub.status.busy": "2021-11-22T17:04:04.970102Z",
     "iopub.status.idle": "2021-11-22T17:04:10.816309Z",
     "shell.execute_reply": "2021-11-22T17:04:10.816830Z",
     "shell.execute_reply.started": "2021-11-22T16:53:56.626212Z"
    },
    "jupyter": {
     "outputs_hidden": false
    },
    "papermill": {
     "duration": 6.005104,
     "end_time": "2021-11-22T17:04:10.817034",
     "exception": false,
     "start_time": "2021-11-22T17:04:04.811930",
     "status": "completed"
    },
    "tags": []
   },
   "outputs": [],
   "source": [
    "# логарифмирование\n",
    "for i in num_cols_2 :\n",
    "    df_end[i] = df_end[i].apply(lambda x: math.log(10+x))"
   ]
  },
  {
   "cell_type": "markdown",
   "id": "b465d1e9",
   "metadata": {
    "_cell_guid": "b25d3c38-00a8-4d94-9fc0-bd08822c0ef1",
    "_uuid": "f4e28b51-12e6-48fd-a59b-bf6e0733394b",
    "papermill": {
     "duration": 0.158476,
     "end_time": "2021-11-22T17:04:11.131221",
     "exception": false,
     "start_time": "2021-11-22T17:04:10.972745",
     "status": "completed"
    },
    "tags": []
   },
   "source": [
    "# Раздел 13. Построение модели"
   ]
  },
  {
   "cell_type": "code",
   "execution_count": 98,
   "id": "2e75e03f",
   "metadata": {
    "execution": {
     "iopub.execute_input": "2021-11-22T17:04:11.448782Z",
     "iopub.status.busy": "2021-11-22T17:04:11.448174Z",
     "iopub.status.idle": "2021-11-22T17:04:11.451388Z",
     "shell.execute_reply": "2021-11-22T17:04:11.451954Z",
     "shell.execute_reply.started": "2021-11-22T16:54:02.416095Z"
    },
    "papermill": {
     "duration": 0.165164,
     "end_time": "2021-11-22T17:04:11.452118",
     "exception": false,
     "start_time": "2021-11-22T17:04:11.286954",
     "status": "completed"
    },
    "tags": []
   },
   "outputs": [],
   "source": [
    "# Отметим все бинарные и категориальные переменные\n",
    "code_col = ['education', 'home_address', 'first_time', 'age_type', 'type_dec_app_cnt', 'type_score_bki',\n",
    "            'type_bki_request_cnt', 'type_region_rating', 'type_income', 'car+car_type']"
   ]
  },
  {
   "cell_type": "code",
   "execution_count": 99,
   "id": "d70a1ca7",
   "metadata": {
    "execution": {
     "iopub.execute_input": "2021-11-22T17:04:11.764689Z",
     "iopub.status.busy": "2021-11-22T17:04:11.763758Z",
     "iopub.status.idle": "2021-11-22T17:04:11.854557Z",
     "shell.execute_reply": "2021-11-22T17:04:11.855111Z",
     "shell.execute_reply.started": "2021-11-22T16:54:02.422474Z"
    },
    "papermill": {
     "duration": 0.24806,
     "end_time": "2021-11-22T17:04:11.855289",
     "exception": false,
     "start_time": "2021-11-22T17:04:11.607229",
     "status": "completed"
    },
    "tags": []
   },
   "outputs": [],
   "source": [
    "df_end = pd.get_dummies(df_end, prefix=code_col, columns=code_col)"
   ]
  },
  {
   "cell_type": "code",
   "execution_count": 100,
   "id": "5aa39c2a",
   "metadata": {
    "_cell_guid": "a56aaa65-dc62-4922-bc64-beb6f4f6dca4",
    "_uuid": "d071e372-59a2-4da1-9bc1-69005844a3c5",
    "execution": {
     "iopub.execute_input": "2021-11-22T17:04:12.170286Z",
     "iopub.status.busy": "2021-11-22T17:04:12.169614Z",
     "iopub.status.idle": "2021-11-22T17:04:12.245142Z",
     "shell.execute_reply": "2021-11-22T17:04:12.245684Z",
     "shell.execute_reply.started": "2021-11-22T16:54:02.527297Z"
    },
    "jupyter": {
     "outputs_hidden": false
    },
    "papermill": {
     "duration": 0.23616,
     "end_time": "2021-11-22T17:04:12.245853",
     "exception": false,
     "start_time": "2021-11-22T17:04:12.009693",
     "status": "completed"
    },
    "tags": []
   },
   "outputs": [],
   "source": [
    "# выделим трейн и тест\n",
    "df_train = df_end[df_end['sample'] == 1].drop('sample', axis=1)\n",
    "df_test = df_end[df_end['sample'] == 0].drop('sample', axis=1)"
   ]
  },
  {
   "cell_type": "code",
   "execution_count": 101,
   "id": "a13c0aca",
   "metadata": {
    "_cell_guid": "afaaece1-1854-4190-a9a2-f9e9e61a4ece",
    "_uuid": "46192517-9d4a-444a-a05a-8e4ee6970b05",
    "execution": {
     "iopub.execute_input": "2021-11-22T17:04:12.867751Z",
     "iopub.status.busy": "2021-11-22T17:04:12.867118Z",
     "iopub.status.idle": "2021-11-22T17:04:12.967684Z",
     "shell.execute_reply": "2021-11-22T17:04:12.968217Z",
     "shell.execute_reply.started": "2021-11-22T16:54:45.139206Z"
    },
    "jupyter": {
     "outputs_hidden": false
    },
    "papermill": {
     "duration": 0.257167,
     "end_time": "2021-11-22T17:04:12.968386",
     "exception": false,
     "start_time": "2021-11-22T17:04:12.711219",
     "status": "completed"
    },
    "tags": []
   },
   "outputs": [],
   "source": [
    "X = df_train.drop('default', axis=1).iloc[:, 1:]\n",
    "Y = df_train['default']\n",
    "X_train, X_test, y_train, y_test = train_test_split(\n",
    "    X, Y, test_size=0.20, random_state=42)"
   ]
  },
  {
   "cell_type": "code",
   "execution_count": 139,
   "id": "865579ca",
   "metadata": {
    "_cell_guid": "7e61a1bc-378a-4e6a-86c7-c99778028ffc",
    "_uuid": "25845780-79ea-4ecd-93c4-2c957480dcee",
    "execution": {
     "iopub.execute_input": "2021-11-22T17:04:13.279801Z",
     "iopub.status.busy": "2021-11-22T17:04:13.279188Z",
     "iopub.status.idle": "2021-11-22T17:04:16.063114Z",
     "shell.execute_reply": "2021-11-22T17:04:16.062563Z",
     "shell.execute_reply.started": "2021-11-22T16:54:48.895803Z"
    },
    "jupyter": {
     "outputs_hidden": false
    },
    "papermill": {
     "duration": 2.941923,
     "end_time": "2021-11-22T17:04:16.063255",
     "exception": false,
     "start_time": "2021-11-22T17:04:13.121332",
     "status": "completed"
    },
    "tags": []
   },
   "outputs": [
    {
     "data": {
      "image/png": "[encoded data removed]",
      "text/plain": [
       "<Figure size 432x288 with 1 Axes>"
      ]
     },
     "metadata": {
      "needs_background": "light"
     },
     "output_type": "display_data"
    }
   ],
   "source": [
    "# обучим модель и построим сразу roc_curve\n",
    "model = LogisticRegression(C=0.1, solver='liblinear', random_state = 42)\n",
    "model.fit(X_train, y_train)\n",
    "# X_test y_test\n",
    "probs = model.predict_proba(X_test)\n",
    "probs = probs[:, 1]\n",
    "\n",
    "print_roc_curve(y_test, probs)"
   ]
  },
  {
   "cell_type": "code",
   "execution_count": 103,
   "id": "0ee9c293",
   "metadata": {
    "execution": {
     "iopub.execute_input": "2021-11-22T17:04:16.382716Z",
     "iopub.status.busy": "2021-11-22T17:04:16.381712Z",
     "iopub.status.idle": "2021-11-22T17:04:16.852533Z",
     "shell.execute_reply": "2021-11-22T17:04:16.853078Z",
     "shell.execute_reply.started": "2021-11-22T16:54:54.377792Z"
    },
    "papermill": {
     "duration": 0.630703,
     "end_time": "2021-11-22T17:04:16.853260",
     "exception": false,
     "start_time": "2021-11-22T17:04:16.222557",
     "status": "completed"
    },
    "tags": []
   },
   "outputs": [
    {
     "data": {
      "image/png": "[encoded data removed]",
      "text/plain": [
       "<Figure size 360x360 with 2 Axes>"
      ]
     },
     "metadata": {
      "needs_background": "light"
     },
     "output_type": "display_data"
    }
   ],
   "source": [
    "y_bin_pred = model.predict(X_test)\n",
    "categories = ['Regular guy', 'DEFAULT']\n",
    "cf_matrix = confusion_matrix(y_test, y_bin_pred)\n",
    "make_confusion_matrix(cf_matrix, categories=categories, sum_stats=True)"
   ]
  },
  {
   "cell_type": "markdown",
   "id": "0d0442ed",
   "metadata": {},
   "source": [
    "# Выводы по работе"
   ]
  },
  {
   "cell_type": "markdown",
   "id": "3b05b385",
   "metadata": {},
   "source": [
    "В целом удалось увеличить показатели Roc AUC с 0.584 до 0.738.\n",
    "Однако показатель Accuracy упал с 0,876 до 0.874, что значит наша модель стала допускать больше ошибок при обнаружении не дефолтных клиентов.\n",
    "Весьма интересно, что Balanced Accuracy увеличилась всего на 0,006.\n",
    "Наша модель все ещё недостаточно хорошо определяет дефолтных клиентов, поэтому есть куда расти.\n",
    "\n",
    "Самый большой прирост метрики roc_auc замечен после применения one hot encoding, а также добавления новых признаков - минимум, максиму, среднее по группам и разница между средним.\n",
    "\n",
    "Отметим, что два самых важных признака для построения модели - sna (связь заемщика с клиентами банка) и score_bki (скоринговый балл по данным из БКИ).\n",
    "Поэтому, всегда пользуйтесь одним банком, берите там кредиты и погашайте их вовремя, для повышения score_ bki.\n"
   ]
  },
  {
   "cell_type": "markdown",
   "id": "6f866c06",
   "metadata": {
    "execution": {
     "iopub.execute_input": "2021-11-22T16:41:56.457901Z",
     "iopub.status.busy": "2021-11-22T16:41:56.457008Z",
     "iopub.status.idle": "2021-11-22T16:47:27.602629Z",
     "shell.execute_reply": "2021-11-22T16:47:27.597620Z",
     "shell.execute_reply.started": "2021-11-22T16:41:56.457859Z"
    },
    "papermill": {
     "duration": 0.159418,
     "end_time": "2021-11-22T17:04:17.491319",
     "exception": false,
     "start_time": "2021-11-22T17:04:17.331901",
     "status": "completed"
    },
    "tags": []
   },
   "source": [
    "# Вариант логистической регрессии с автопобором гиперпараметров\n",
    "params = {\n",
    "    'C' : np.logspace(0, 4, 10),\n",
    "    'solver' : ['liblinear', 'sag', 'saga']\n",
    "}\n",
    "\n",
    "model = LogisticRegression(penalty='l2', max_iter=1000, class_weight='balanced', n_jobs=4)\n",
    "model.fit(X_train, y_train)\n",
    "\n",
    "clf = GridSearchCV(model, params, cv=3, verbose=3)\n",
    "\n",
    "best_model = clf.fit(X_train, y_train)\n",
    "\n",
    "print('Лучшее C:', best_model.best_estimator_.get_params()['C'])\n",
    "print('Лучшее solver:', best_model.best_estimator_.get_params()['solver'])"
   ]
  },
  {
   "cell_type": "markdown",
   "id": "53a0e731",
   "metadata": {
    "execution": {
     "iopub.execute_input": "2021-11-20T15:21:10.457528Z",
     "iopub.status.busy": "2021-11-20T15:21:10.457223Z",
     "iopub.status.idle": "2021-11-20T15:21:10.46193Z",
     "shell.execute_reply": "2021-11-20T15:21:10.461038Z",
     "shell.execute_reply.started": "2021-11-20T15:21:10.457494Z"
    },
    "papermill": {
     "duration": 0.156247,
     "end_time": "2021-11-22T17:04:17.805908",
     "exception": false,
     "start_time": "2021-11-22T17:04:17.649661",
     "status": "completed"
    },
    "tags": []
   },
   "source": [
    "# Готовим к решение к сабмиту"
   ]
  },
  {
   "cell_type": "code",
   "execution_count": null,
   "id": "f9561d9e",
   "metadata": {
    "execution": {
     "iopub.execute_input": "2021-11-22T17:04:18.124862Z",
     "iopub.status.busy": "2021-11-22T17:04:18.124218Z",
     "iopub.status.idle": "2021-11-22T17:04:18.369348Z",
     "shell.execute_reply": "2021-11-22T17:04:18.368839Z",
     "shell.execute_reply.started": "2021-11-22T17:00:57.401614Z"
    },
    "papermill": {
     "duration": 0.405949,
     "end_time": "2021-11-22T17:04:18.369484",
     "exception": false,
     "start_time": "2021-11-22T17:04:17.963535",
     "status": "completed"
    },
    "tags": []
   },
   "outputs": [],
   "source": [
    "X_2 = df_test.drop('default', axis = 1).iloc[:,1:]\n",
    "y_pred = model.predict_proba(X_2)\n",
    "results_df = pd.DataFrame(data={'client_id':df_test['client_id'], 'default':y_pred[:,1]})\n",
    "results_df.to_csv('submission.csv', index=False)\n",
    "results_df"
   ]
  }
 ],
 "metadata": {
  "kernelspec": {
   "display_name": "Python 3 (ipykernel)",
   "language": "python",
   "name": "python3"
  },
  "language_info": {
   "codemirror_mode": {
    "name": "ipython",
    "version": 3
   },
   "file_extension": ".py",
   "mimetype": "text/x-python",
   "name": "python",
   "nbconvert_exporter": "python",
   "pygments_lexer": "ipython3",
   "version": "3.9.7"
  },
  "papermill": {
   "default_parameters": {},
   "duration": 180.156489,
   "end_time": "2021-11-22T17:04:19.555620",
   "environment_variables": {},
   "exception": null,
   "input_path": "__notebook__.ipynb",
   "output_path": "__notebook__.ipynb",
   "parameters": {},
   "start_time": "2021-11-22T17:01:19.399131",
   "version": "2.3.3"
  }
 },
 "nbformat": 4,
 "nbformat_minor": 5
}
