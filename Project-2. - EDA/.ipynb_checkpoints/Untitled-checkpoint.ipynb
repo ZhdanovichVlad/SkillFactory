{
 "cells": [
  {
   "cell_type": "markdown",
   "id": "72176fb6",
   "metadata": {},
   "source": [
    "### Добрый день.\n",
    "Вашему вниманию представлено решение задачи по итоговому модулю разведывательный анализ данных.\n",
    "\n",
    "Суть проекта— отследить влияние условий жизни учащихся в возрасте от 15 до 22 лет на их успеваемость по математике, чтобы на ранней стадии выявлять студентов, находящихся в группе риска.\n",
    "\n",
    "И сделать это можно с помощью модели, которая предсказывала бы результаты госэкзамена по математике для каждого ученика школы (вот она, сила ML!). Чтобы определиться с параметрами будущей модели, проведите разведывательный анализ данных и составьте отчёт по его результатам.\n",
    "\n",
    "Так же в датасете присутствует переменная-загадка (**studytime, granular**). Необходимо узнать, имеет ли она влияние на успеваемость.\n",
    "\n",
    "\n",
    "Для начала загрузим все нужные библиотеки и наш датасет."
   ]
  },
  {
   "cell_type": "code",
   "execution_count": 12,
   "id": "a2e11f62",
   "metadata": {},
   "outputs": [],
   "source": [
    "import pandas as pd\n",
    "import numpy as np\n",
    "import matplotlib.pyplot as plt\n",
    "import seaborn as sns\n",
    "from itertools import combinations\n",
    "from scipy.stats import ttest_ind\n",
    "import math \n",
    "\n",
    "pd.set_option('display.max_rows', 50)\n",
    "pd.set_option('display.max_columns', 50)\n",
    "\n",
    "df = pd.read_csv(\"stud_math.xls\")"
   ]
  },
  {
   "cell_type": "markdown",
   "id": "8283cc54",
   "metadata": {},
   "source": [
    "Исходя из условий задачи, дата сет содержит следующие переменные:\n",
    "\n",
    "1. **school** — аббревиатура школы, в которой учится ученик\n",
    "\n",
    "2.  **sex** — пол ученика ('F' - женский, 'M' - мужской)\n",
    "\n",
    "3. **age** — возраст ученика (от 15 до 22)\n",
    "\n",
    "4. **address** — тип адреса ученика ('U' - городской, 'R' - за городом)\n",
    "\n",
    "5. **famsize** — размер семьи('LE3' <= 3, 'GT3' >3)\n",
    "\n",
    "6. **Pstatus** — статус совместного жилья родителей ('T' - живут вместе 'A' - раздельно)\n",
    "\n",
    "7. **Medu** — образование матери (0 - нет, 1 - 4 класса, 2 - 5-9 классы, 3 - среднее специальное или 11 классов, 4 - высшее)\n",
    "\n",
    "8. **Fedu** — образование отца (0 - нет, 1 - 4 класса, 2 - 5-9 классы, 3 - среднее специальное или 11 классов, 4 - высшее)\n",
    "\n",
    "9. **Mjob** — работа матери ('teacher' - учитель, 'health' - сфера здравоохранения, 'services' - гос служба, 'at_home' - не работает, 'other' - другое)\n",
    "\n",
    "10. **Fjob** — работа отца ('teacher' - учитель, 'health' - сфера здравоохранения, 'services' - гос служба, 'at_home' - не работает, 'other' - другое)\n",
    "\n",
    "11. **reason** — причина выбора школы ('home' - близость к дому, 'reputation' - репутация школы, 'course' - образовательная программа, 'other' - другое)\n",
    "\n",
    "12. **guardian** — опекун ('mother' - мать, 'father' - отец, 'other' - другое)\n",
    "\n",
    "13. **traveltime** — время в пути до школы (1 - <15 мин., 2 - 15-30 мин., 3 - 30-60 мин., 4 - >60 мин.)\n",
    "\n",
    "14. **studytime** — время на учёбу помимо школы в неделю (1 - <2 часов, 2 - 2-5 часов, 3 - 5-10 часов, 4 - >10 часов)\n",
    "\n",
    "15. **failures** — количество внеучебных неудач (n, если 1<=n<=3, иначе 0)\n",
    "\n",
    "16. **schoolsup** — дополнительная образовательная поддержка (yes или no)\n",
    "\n",
    "17. **famsup** — семейная образовательная поддержка (yes или no)\n",
    "\n",
    "18. **paid** — дополнительные платные занятия по математике (yes или no)\n",
    "\n",
    "19. **activities** — дополнительные внеучебные занятия (yes или no)\n",
    "\n",
    "20. **nursery** — посещал детский сад (yes или no)\n",
    "\n",
    "21. **studytime, granular**- переменная загадка. Исходя из условий, надо определить имеет она влияние на успеваемость или нет.\n",
    "\n",
    "21. **higher** — хочет получить высшее образование (yes или no)\n",
    "\n",
    "22. **internet** — наличие интернета дома (yes или no)\n",
    "\n",
    "23. **romantic** — в романтических отношениях (yes или no)\n",
    "\n",
    "24. **famrel** — семейные отношения (от 1 - очень плохо до 5 - очень хорошо)\n",
    "\n",
    "25. **freetime** — свободное время после школы (от 1 - очень мало до 5 - очень мого)\n",
    "\n",
    "26. **goout** — проведение времени с друзьями (от 1 - очень мало до 5 - очень много)\n",
    "\n",
    "27. **health** — текущее состояние здоровья (от 1 - очень плохо до 5 - очень хорошо)\n",
    "\n",
    "28. **absences** — количество пропущенных занятий\n",
    "\n",
    "29. **score** — баллы по госэкзамену по математике\n",
    "\n"
   ]
  },
  {
   "cell_type": "markdown",
   "id": "89321e8c",
   "metadata": {},
   "source": [
    "# Часть 1. Знакомство с данными"
   ]
  },
  {
   "cell_type": "code",
   "execution_count": 13,
   "id": "08b1c2a3",
   "metadata": {},
   "outputs": [
    {
     "name": "stdout",
     "output_type": "stream",
     "text": [
      "Размер дата сета - (395, 30)\n"
     ]
    }
   ],
   "source": [
    "print(f\"Размер дата сета - {df.shape}\")"
   ]
  },
  {
   "cell_type": "code",
   "execution_count": 14,
   "id": "32330885",
   "metadata": {},
   "outputs": [
    {
     "name": "stdout",
     "output_type": "stream",
     "text": [
      "Проверим какие у нас есть столбцы и какие значения содержат\n",
      "<class 'pandas.core.frame.DataFrame'>\n",
      "RangeIndex: 395 entries, 0 to 394\n",
      "Data columns (total 30 columns):\n",
      " #   Column               Non-Null Count  Dtype  \n",
      "---  ------               --------------  -----  \n",
      " 0   school               395 non-null    object \n",
      " 1   sex                  395 non-null    object \n",
      " 2   age                  395 non-null    int64  \n",
      " 3   address              378 non-null    object \n",
      " 4   famsize              368 non-null    object \n",
      " 5   Pstatus              350 non-null    object \n",
      " 6   Medu                 392 non-null    float64\n",
      " 7   Fedu                 371 non-null    float64\n",
      " 8   Mjob                 376 non-null    object \n",
      " 9   Fjob                 359 non-null    object \n",
      " 10  reason               378 non-null    object \n",
      " 11  guardian             364 non-null    object \n",
      " 12  traveltime           367 non-null    float64\n",
      " 13  studytime            388 non-null    float64\n",
      " 14  failures             373 non-null    float64\n",
      " 15  schoolsup            386 non-null    object \n",
      " 16  famsup               356 non-null    object \n",
      " 17  paid                 355 non-null    object \n",
      " 18  activities           381 non-null    object \n",
      " 19  nursery              379 non-null    object \n",
      " 20  studytime, granular  388 non-null    float64\n",
      " 21  higher               375 non-null    object \n",
      " 22  internet             361 non-null    object \n",
      " 23  romantic             364 non-null    object \n",
      " 24  famrel               368 non-null    float64\n",
      " 25  freetime             384 non-null    float64\n",
      " 26  goout                387 non-null    float64\n",
      " 27  health               380 non-null    float64\n",
      " 28  absences             383 non-null    float64\n",
      " 29  score                389 non-null    float64\n",
      "dtypes: float64(12), int64(1), object(17)\n",
      "memory usage: 92.7+ KB\n"
     ]
    }
   ],
   "source": [
    "#-----------------------------------------------------------------------\n",
    "print(\"Проверим какие у нас есть столбцы и какие значения содержат\")\n",
    "df.info()"
   ]
  },
  {
   "cell_type": "code",
   "execution_count": 15,
   "id": "81264c01",
   "metadata": {},
   "outputs": [
    {
     "name": "stdout",
     "output_type": "stream",
     "text": [
      "Посмотрим более подробнее сколько изначально пропущенных значений\n"
     ]
    },
    {
     "data": {
      "text/plain": [
       "address                17\n",
       "famsize                27\n",
       "Pstatus                45\n",
       "Medu                    3\n",
       "Fedu                   24\n",
       "Mjob                   19\n",
       "Fjob                   36\n",
       "reason                 17\n",
       "guardian               31\n",
       "traveltime             28\n",
       "studytime               7\n",
       "failures               22\n",
       "schoolsup               9\n",
       "famsup                 39\n",
       "paid                   40\n",
       "activities             14\n",
       "nursery                16\n",
       "studytime, granular     7\n",
       "higher                 20\n",
       "internet               34\n",
       "romantic               31\n",
       "famrel                 27\n",
       "freetime               11\n",
       "goout                   8\n",
       "health                 15\n",
       "absences               12\n",
       "score                   6\n",
       "dtype: int64"
      ]
     },
     "execution_count": 15,
     "metadata": {},
     "output_type": "execute_result"
    }
   ],
   "source": [
    "#-----------------------------------------------------------------------\n",
    "print('Посмотрим более подробнее сколько изначально пропущенных значений')\n",
    "null_data_1 = df.isnull().sum()\n",
    "null_data_1[null_data_1 > 0]"
   ]
  },
  {
   "cell_type": "code",
   "execution_count": 16,
   "id": "1870ef7c",
   "metadata": {
    "scrolled": true
   },
   "outputs": [
    {
     "name": "stdout",
     "output_type": "stream",
     "text": [
      "А теперь взглянем на наш датасет, выведем первые 10 строк\n"
     ]
    },
    {
     "data": {
      "text/html": [
       "<div>\n",
       "<style scoped>\n",
       "    .dataframe tbody tr th:only-of-type {\n",
       "        vertical-align: middle;\n",
       "    }\n",
       "\n",
       "    .dataframe tbody tr th {\n",
       "        vertical-align: top;\n",
       "    }\n",
       "\n",
       "    .dataframe thead th {\n",
       "        text-align: right;\n",
       "    }\n",
       "</style>\n",
       "<table border=\"1\" class=\"dataframe\">\n",
       "  <thead>\n",
       "    <tr style=\"text-align: right;\">\n",
       "      <th></th>\n",
       "      <th>school</th>\n",
       "      <th>sex</th>\n",
       "      <th>age</th>\n",
       "      <th>address</th>\n",
       "      <th>famsize</th>\n",
       "      <th>Pstatus</th>\n",
       "      <th>Medu</th>\n",
       "      <th>Fedu</th>\n",
       "      <th>Mjob</th>\n",
       "      <th>Fjob</th>\n",
       "      <th>reason</th>\n",
       "      <th>guardian</th>\n",
       "      <th>traveltime</th>\n",
       "      <th>studytime</th>\n",
       "      <th>failures</th>\n",
       "      <th>schoolsup</th>\n",
       "      <th>famsup</th>\n",
       "      <th>paid</th>\n",
       "      <th>activities</th>\n",
       "      <th>nursery</th>\n",
       "      <th>studytime, granular</th>\n",
       "      <th>higher</th>\n",
       "      <th>internet</th>\n",
       "      <th>romantic</th>\n",
       "      <th>famrel</th>\n",
       "      <th>freetime</th>\n",
       "      <th>goout</th>\n",
       "      <th>health</th>\n",
       "      <th>absences</th>\n",
       "      <th>score</th>\n",
       "    </tr>\n",
       "  </thead>\n",
       "  <tbody>\n",
       "    <tr>\n",
       "      <th>0</th>\n",
       "      <td>GP</td>\n",
       "      <td>F</td>\n",
       "      <td>18</td>\n",
       "      <td>U</td>\n",
       "      <td>NaN</td>\n",
       "      <td>A</td>\n",
       "      <td>4.0</td>\n",
       "      <td>4.0</td>\n",
       "      <td>at_home</td>\n",
       "      <td>teacher</td>\n",
       "      <td>course</td>\n",
       "      <td>mother</td>\n",
       "      <td>2.0</td>\n",
       "      <td>2.0</td>\n",
       "      <td>0.0</td>\n",
       "      <td>yes</td>\n",
       "      <td>no</td>\n",
       "      <td>no</td>\n",
       "      <td>no</td>\n",
       "      <td>yes</td>\n",
       "      <td>-6.0</td>\n",
       "      <td>yes</td>\n",
       "      <td>NaN</td>\n",
       "      <td>no</td>\n",
       "      <td>4.0</td>\n",
       "      <td>3.0</td>\n",
       "      <td>4.0</td>\n",
       "      <td>3.0</td>\n",
       "      <td>6.0</td>\n",
       "      <td>30.0</td>\n",
       "    </tr>\n",
       "    <tr>\n",
       "      <th>1</th>\n",
       "      <td>GP</td>\n",
       "      <td>F</td>\n",
       "      <td>17</td>\n",
       "      <td>U</td>\n",
       "      <td>GT3</td>\n",
       "      <td>NaN</td>\n",
       "      <td>1.0</td>\n",
       "      <td>1.0</td>\n",
       "      <td>at_home</td>\n",
       "      <td>other</td>\n",
       "      <td>course</td>\n",
       "      <td>father</td>\n",
       "      <td>1.0</td>\n",
       "      <td>2.0</td>\n",
       "      <td>0.0</td>\n",
       "      <td>no</td>\n",
       "      <td>yes</td>\n",
       "      <td>no</td>\n",
       "      <td>no</td>\n",
       "      <td>no</td>\n",
       "      <td>-6.0</td>\n",
       "      <td>yes</td>\n",
       "      <td>yes</td>\n",
       "      <td>no</td>\n",
       "      <td>5.0</td>\n",
       "      <td>3.0</td>\n",
       "      <td>3.0</td>\n",
       "      <td>3.0</td>\n",
       "      <td>4.0</td>\n",
       "      <td>30.0</td>\n",
       "    </tr>\n",
       "    <tr>\n",
       "      <th>2</th>\n",
       "      <td>GP</td>\n",
       "      <td>F</td>\n",
       "      <td>15</td>\n",
       "      <td>U</td>\n",
       "      <td>LE3</td>\n",
       "      <td>T</td>\n",
       "      <td>1.0</td>\n",
       "      <td>1.0</td>\n",
       "      <td>at_home</td>\n",
       "      <td>other</td>\n",
       "      <td>other</td>\n",
       "      <td>mother</td>\n",
       "      <td>1.0</td>\n",
       "      <td>2.0</td>\n",
       "      <td>3.0</td>\n",
       "      <td>yes</td>\n",
       "      <td>no</td>\n",
       "      <td>NaN</td>\n",
       "      <td>no</td>\n",
       "      <td>yes</td>\n",
       "      <td>-6.0</td>\n",
       "      <td>yes</td>\n",
       "      <td>yes</td>\n",
       "      <td>NaN</td>\n",
       "      <td>4.0</td>\n",
       "      <td>3.0</td>\n",
       "      <td>2.0</td>\n",
       "      <td>3.0</td>\n",
       "      <td>10.0</td>\n",
       "      <td>50.0</td>\n",
       "    </tr>\n",
       "    <tr>\n",
       "      <th>3</th>\n",
       "      <td>GP</td>\n",
       "      <td>F</td>\n",
       "      <td>15</td>\n",
       "      <td>U</td>\n",
       "      <td>GT3</td>\n",
       "      <td>T</td>\n",
       "      <td>4.0</td>\n",
       "      <td>2.0</td>\n",
       "      <td>health</td>\n",
       "      <td>NaN</td>\n",
       "      <td>home</td>\n",
       "      <td>mother</td>\n",
       "      <td>1.0</td>\n",
       "      <td>3.0</td>\n",
       "      <td>0.0</td>\n",
       "      <td>no</td>\n",
       "      <td>yes</td>\n",
       "      <td>yes</td>\n",
       "      <td>yes</td>\n",
       "      <td>yes</td>\n",
       "      <td>-9.0</td>\n",
       "      <td>yes</td>\n",
       "      <td>yes</td>\n",
       "      <td>yes</td>\n",
       "      <td>3.0</td>\n",
       "      <td>2.0</td>\n",
       "      <td>2.0</td>\n",
       "      <td>5.0</td>\n",
       "      <td>2.0</td>\n",
       "      <td>75.0</td>\n",
       "    </tr>\n",
       "    <tr>\n",
       "      <th>4</th>\n",
       "      <td>GP</td>\n",
       "      <td>F</td>\n",
       "      <td>16</td>\n",
       "      <td>U</td>\n",
       "      <td>GT3</td>\n",
       "      <td>T</td>\n",
       "      <td>3.0</td>\n",
       "      <td>3.0</td>\n",
       "      <td>other</td>\n",
       "      <td>other</td>\n",
       "      <td>home</td>\n",
       "      <td>father</td>\n",
       "      <td>1.0</td>\n",
       "      <td>2.0</td>\n",
       "      <td>0.0</td>\n",
       "      <td>no</td>\n",
       "      <td>yes</td>\n",
       "      <td>yes</td>\n",
       "      <td>no</td>\n",
       "      <td>yes</td>\n",
       "      <td>-6.0</td>\n",
       "      <td>yes</td>\n",
       "      <td>no</td>\n",
       "      <td>no</td>\n",
       "      <td>4.0</td>\n",
       "      <td>3.0</td>\n",
       "      <td>2.0</td>\n",
       "      <td>5.0</td>\n",
       "      <td>4.0</td>\n",
       "      <td>50.0</td>\n",
       "    </tr>\n",
       "    <tr>\n",
       "      <th>5</th>\n",
       "      <td>GP</td>\n",
       "      <td>M</td>\n",
       "      <td>16</td>\n",
       "      <td>U</td>\n",
       "      <td>LE3</td>\n",
       "      <td>T</td>\n",
       "      <td>4.0</td>\n",
       "      <td>3.0</td>\n",
       "      <td>services</td>\n",
       "      <td>other</td>\n",
       "      <td>reputation</td>\n",
       "      <td>mother</td>\n",
       "      <td>1.0</td>\n",
       "      <td>2.0</td>\n",
       "      <td>0.0</td>\n",
       "      <td>no</td>\n",
       "      <td>yes</td>\n",
       "      <td>yes</td>\n",
       "      <td>yes</td>\n",
       "      <td>yes</td>\n",
       "      <td>-6.0</td>\n",
       "      <td>yes</td>\n",
       "      <td>yes</td>\n",
       "      <td>no</td>\n",
       "      <td>5.0</td>\n",
       "      <td>4.0</td>\n",
       "      <td>2.0</td>\n",
       "      <td>5.0</td>\n",
       "      <td>10.0</td>\n",
       "      <td>75.0</td>\n",
       "    </tr>\n",
       "    <tr>\n",
       "      <th>6</th>\n",
       "      <td>GP</td>\n",
       "      <td>M</td>\n",
       "      <td>16</td>\n",
       "      <td>NaN</td>\n",
       "      <td>LE3</td>\n",
       "      <td>T</td>\n",
       "      <td>2.0</td>\n",
       "      <td>2.0</td>\n",
       "      <td>other</td>\n",
       "      <td>other</td>\n",
       "      <td>home</td>\n",
       "      <td>mother</td>\n",
       "      <td>1.0</td>\n",
       "      <td>2.0</td>\n",
       "      <td>0.0</td>\n",
       "      <td>no</td>\n",
       "      <td>no</td>\n",
       "      <td>no</td>\n",
       "      <td>no</td>\n",
       "      <td>yes</td>\n",
       "      <td>-6.0</td>\n",
       "      <td>yes</td>\n",
       "      <td>yes</td>\n",
       "      <td>no</td>\n",
       "      <td>4.0</td>\n",
       "      <td>4.0</td>\n",
       "      <td>4.0</td>\n",
       "      <td>3.0</td>\n",
       "      <td>0.0</td>\n",
       "      <td>55.0</td>\n",
       "    </tr>\n",
       "    <tr>\n",
       "      <th>7</th>\n",
       "      <td>GP</td>\n",
       "      <td>F</td>\n",
       "      <td>17</td>\n",
       "      <td>U</td>\n",
       "      <td>GT3</td>\n",
       "      <td>A</td>\n",
       "      <td>4.0</td>\n",
       "      <td>4.0</td>\n",
       "      <td>other</td>\n",
       "      <td>teacher</td>\n",
       "      <td>home</td>\n",
       "      <td>mother</td>\n",
       "      <td>2.0</td>\n",
       "      <td>2.0</td>\n",
       "      <td>0.0</td>\n",
       "      <td>yes</td>\n",
       "      <td>yes</td>\n",
       "      <td>no</td>\n",
       "      <td>no</td>\n",
       "      <td>yes</td>\n",
       "      <td>-6.0</td>\n",
       "      <td>yes</td>\n",
       "      <td>no</td>\n",
       "      <td>no</td>\n",
       "      <td>4.0</td>\n",
       "      <td>1.0</td>\n",
       "      <td>4.0</td>\n",
       "      <td>1.0</td>\n",
       "      <td>6.0</td>\n",
       "      <td>30.0</td>\n",
       "    </tr>\n",
       "    <tr>\n",
       "      <th>8</th>\n",
       "      <td>GP</td>\n",
       "      <td>M</td>\n",
       "      <td>15</td>\n",
       "      <td>U</td>\n",
       "      <td>LE3</td>\n",
       "      <td>A</td>\n",
       "      <td>3.0</td>\n",
       "      <td>2.0</td>\n",
       "      <td>services</td>\n",
       "      <td>other</td>\n",
       "      <td>home</td>\n",
       "      <td>mother</td>\n",
       "      <td>1.0</td>\n",
       "      <td>2.0</td>\n",
       "      <td>0.0</td>\n",
       "      <td>no</td>\n",
       "      <td>yes</td>\n",
       "      <td>yes</td>\n",
       "      <td>no</td>\n",
       "      <td>yes</td>\n",
       "      <td>-6.0</td>\n",
       "      <td>yes</td>\n",
       "      <td>yes</td>\n",
       "      <td>no</td>\n",
       "      <td>NaN</td>\n",
       "      <td>2.0</td>\n",
       "      <td>2.0</td>\n",
       "      <td>1.0</td>\n",
       "      <td>0.0</td>\n",
       "      <td>95.0</td>\n",
       "    </tr>\n",
       "    <tr>\n",
       "      <th>9</th>\n",
       "      <td>GP</td>\n",
       "      <td>M</td>\n",
       "      <td>15</td>\n",
       "      <td>U</td>\n",
       "      <td>NaN</td>\n",
       "      <td>NaN</td>\n",
       "      <td>3.0</td>\n",
       "      <td>4.0</td>\n",
       "      <td>other</td>\n",
       "      <td>other</td>\n",
       "      <td>home</td>\n",
       "      <td>mother</td>\n",
       "      <td>1.0</td>\n",
       "      <td>2.0</td>\n",
       "      <td>0.0</td>\n",
       "      <td>no</td>\n",
       "      <td>yes</td>\n",
       "      <td>yes</td>\n",
       "      <td>yes</td>\n",
       "      <td>yes</td>\n",
       "      <td>-6.0</td>\n",
       "      <td>yes</td>\n",
       "      <td>yes</td>\n",
       "      <td>no</td>\n",
       "      <td>5.0</td>\n",
       "      <td>5.0</td>\n",
       "      <td>1.0</td>\n",
       "      <td>5.0</td>\n",
       "      <td>0.0</td>\n",
       "      <td>75.0</td>\n",
       "    </tr>\n",
       "  </tbody>\n",
       "</table>\n",
       "</div>"
      ],
      "text/plain": [
       "  school sex  age address famsize Pstatus  Medu  Fedu      Mjob     Fjob  \\\n",
       "0     GP   F   18       U     NaN       A   4.0   4.0   at_home  teacher   \n",
       "1     GP   F   17       U     GT3     NaN   1.0   1.0   at_home    other   \n",
       "2     GP   F   15       U     LE3       T   1.0   1.0   at_home    other   \n",
       "3     GP   F   15       U     GT3       T   4.0   2.0    health      NaN   \n",
       "4     GP   F   16       U     GT3       T   3.0   3.0     other    other   \n",
       "5     GP   M   16       U     LE3       T   4.0   3.0  services    other   \n",
       "6     GP   M   16     NaN     LE3       T   2.0   2.0     other    other   \n",
       "7     GP   F   17       U     GT3       A   4.0   4.0     other  teacher   \n",
       "8     GP   M   15       U     LE3       A   3.0   2.0  services    other   \n",
       "9     GP   M   15       U     NaN     NaN   3.0   4.0     other    other   \n",
       "\n",
       "       reason guardian  traveltime  studytime  failures schoolsup famsup paid  \\\n",
       "0      course   mother         2.0        2.0       0.0       yes     no   no   \n",
       "1      course   father         1.0        2.0       0.0        no    yes   no   \n",
       "2       other   mother         1.0        2.0       3.0       yes     no  NaN   \n",
       "3        home   mother         1.0        3.0       0.0        no    yes  yes   \n",
       "4        home   father         1.0        2.0       0.0        no    yes  yes   \n",
       "5  reputation   mother         1.0        2.0       0.0        no    yes  yes   \n",
       "6        home   mother         1.0        2.0       0.0        no     no   no   \n",
       "7        home   mother         2.0        2.0       0.0       yes    yes   no   \n",
       "8        home   mother         1.0        2.0       0.0        no    yes  yes   \n",
       "9        home   mother         1.0        2.0       0.0        no    yes  yes   \n",
       "\n",
       "  activities nursery  studytime, granular higher internet romantic  famrel  \\\n",
       "0         no     yes                 -6.0    yes      NaN       no     4.0   \n",
       "1         no      no                 -6.0    yes      yes       no     5.0   \n",
       "2         no     yes                 -6.0    yes      yes      NaN     4.0   \n",
       "3        yes     yes                 -9.0    yes      yes      yes     3.0   \n",
       "4         no     yes                 -6.0    yes       no       no     4.0   \n",
       "5        yes     yes                 -6.0    yes      yes       no     5.0   \n",
       "6         no     yes                 -6.0    yes      yes       no     4.0   \n",
       "7         no     yes                 -6.0    yes       no       no     4.0   \n",
       "8         no     yes                 -6.0    yes      yes       no     NaN   \n",
       "9        yes     yes                 -6.0    yes      yes       no     5.0   \n",
       "\n",
       "   freetime  goout  health  absences  score  \n",
       "0       3.0    4.0     3.0       6.0   30.0  \n",
       "1       3.0    3.0     3.0       4.0   30.0  \n",
       "2       3.0    2.0     3.0      10.0   50.0  \n",
       "3       2.0    2.0     5.0       2.0   75.0  \n",
       "4       3.0    2.0     5.0       4.0   50.0  \n",
       "5       4.0    2.0     5.0      10.0   75.0  \n",
       "6       4.0    4.0     3.0       0.0   55.0  \n",
       "7       1.0    4.0     1.0       6.0   30.0  \n",
       "8       2.0    2.0     1.0       0.0   95.0  \n",
       "9       5.0    1.0     5.0       0.0   75.0  "
      ]
     },
     "execution_count": 16,
     "metadata": {},
     "output_type": "execute_result"
    }
   ],
   "source": [
    "print(\"А теперь взглянем на наш датасет, выведем первые 10 строк\")\n",
    "df.head(10)"
   ]
  },
  {
   "cell_type": "markdown",
   "id": "49addfd1",
   "metadata": {},
   "source": [
    "Преобразуем все пустые знначения и Nan в None "
   ]
  },
  {
   "cell_type": "code",
   "execution_count": 17,
   "id": "584ff790",
   "metadata": {},
   "outputs": [],
   "source": [
    "#  Для начала получим список столбцов, которые имеют тип object\n",
    "object_col = [] \n",
    "for i in df:\n",
    "    if df[i].dtypes == \"object\": object_col.append(i)"
   ]
  },
  {
   "cell_type": "code",
   "execution_count": 18,
   "id": "86ebbfe0",
   "metadata": {},
   "outputs": [],
   "source": [
    "#-----------------------------------------------------------------------\n",
    "# Преобразовываем все пустые значение и NaN в None\n",
    "for i in object_col:\n",
    "    df[i] = df[i].apply(lambda x: None if str(x).split() == \"\" else\n",
    "                        None if str(x).lower() == \"Nan\" else x)"
   ]
  },
  {
   "cell_type": "code",
   "execution_count": 19,
   "id": "5f6780e8",
   "metadata": {},
   "outputs": [
    {
     "data": {
      "text/html": [
       "<div>\n",
       "<style scoped>\n",
       "    .dataframe tbody tr th:only-of-type {\n",
       "        vertical-align: middle;\n",
       "    }\n",
       "\n",
       "    .dataframe tbody tr th {\n",
       "        vertical-align: top;\n",
       "    }\n",
       "\n",
       "    .dataframe thead th {\n",
       "        text-align: right;\n",
       "    }\n",
       "</style>\n",
       "<table border=\"1\" class=\"dataframe\">\n",
       "  <thead>\n",
       "    <tr style=\"text-align: right;\">\n",
       "      <th></th>\n",
       "      <th>school</th>\n",
       "      <th>sex</th>\n",
       "      <th>age</th>\n",
       "      <th>address</th>\n",
       "      <th>famsize</th>\n",
       "      <th>Pstatus</th>\n",
       "      <th>Medu</th>\n",
       "      <th>Fedu</th>\n",
       "      <th>Mjob</th>\n",
       "      <th>Fjob</th>\n",
       "      <th>reason</th>\n",
       "      <th>guardian</th>\n",
       "      <th>traveltime</th>\n",
       "      <th>studytime</th>\n",
       "      <th>failures</th>\n",
       "      <th>schoolsup</th>\n",
       "      <th>famsup</th>\n",
       "      <th>paid</th>\n",
       "      <th>activities</th>\n",
       "      <th>nursery</th>\n",
       "      <th>studytime, granular</th>\n",
       "      <th>higher</th>\n",
       "      <th>internet</th>\n",
       "      <th>romantic</th>\n",
       "      <th>famrel</th>\n",
       "      <th>freetime</th>\n",
       "      <th>goout</th>\n",
       "      <th>health</th>\n",
       "      <th>absences</th>\n",
       "      <th>score</th>\n",
       "    </tr>\n",
       "  </thead>\n",
       "  <tbody>\n",
       "    <tr>\n",
       "      <th>0</th>\n",
       "      <td>GP</td>\n",
       "      <td>F</td>\n",
       "      <td>18</td>\n",
       "      <td>U</td>\n",
       "      <td>NaN</td>\n",
       "      <td>A</td>\n",
       "      <td>4.0</td>\n",
       "      <td>4.0</td>\n",
       "      <td>at_home</td>\n",
       "      <td>teacher</td>\n",
       "      <td>course</td>\n",
       "      <td>mother</td>\n",
       "      <td>2.0</td>\n",
       "      <td>2.0</td>\n",
       "      <td>0.0</td>\n",
       "      <td>yes</td>\n",
       "      <td>no</td>\n",
       "      <td>no</td>\n",
       "      <td>no</td>\n",
       "      <td>yes</td>\n",
       "      <td>-6.0</td>\n",
       "      <td>yes</td>\n",
       "      <td>NaN</td>\n",
       "      <td>no</td>\n",
       "      <td>4.0</td>\n",
       "      <td>3.0</td>\n",
       "      <td>4.0</td>\n",
       "      <td>3.0</td>\n",
       "      <td>6.0</td>\n",
       "      <td>30.0</td>\n",
       "    </tr>\n",
       "    <tr>\n",
       "      <th>1</th>\n",
       "      <td>GP</td>\n",
       "      <td>F</td>\n",
       "      <td>17</td>\n",
       "      <td>U</td>\n",
       "      <td>GT3</td>\n",
       "      <td>NaN</td>\n",
       "      <td>1.0</td>\n",
       "      <td>1.0</td>\n",
       "      <td>at_home</td>\n",
       "      <td>other</td>\n",
       "      <td>course</td>\n",
       "      <td>father</td>\n",
       "      <td>1.0</td>\n",
       "      <td>2.0</td>\n",
       "      <td>0.0</td>\n",
       "      <td>no</td>\n",
       "      <td>yes</td>\n",
       "      <td>no</td>\n",
       "      <td>no</td>\n",
       "      <td>no</td>\n",
       "      <td>-6.0</td>\n",
       "      <td>yes</td>\n",
       "      <td>yes</td>\n",
       "      <td>no</td>\n",
       "      <td>5.0</td>\n",
       "      <td>3.0</td>\n",
       "      <td>3.0</td>\n",
       "      <td>3.0</td>\n",
       "      <td>4.0</td>\n",
       "      <td>30.0</td>\n",
       "    </tr>\n",
       "    <tr>\n",
       "      <th>2</th>\n",
       "      <td>GP</td>\n",
       "      <td>F</td>\n",
       "      <td>15</td>\n",
       "      <td>U</td>\n",
       "      <td>LE3</td>\n",
       "      <td>T</td>\n",
       "      <td>1.0</td>\n",
       "      <td>1.0</td>\n",
       "      <td>at_home</td>\n",
       "      <td>other</td>\n",
       "      <td>other</td>\n",
       "      <td>mother</td>\n",
       "      <td>1.0</td>\n",
       "      <td>2.0</td>\n",
       "      <td>3.0</td>\n",
       "      <td>yes</td>\n",
       "      <td>no</td>\n",
       "      <td>NaN</td>\n",
       "      <td>no</td>\n",
       "      <td>yes</td>\n",
       "      <td>-6.0</td>\n",
       "      <td>yes</td>\n",
       "      <td>yes</td>\n",
       "      <td>NaN</td>\n",
       "      <td>4.0</td>\n",
       "      <td>3.0</td>\n",
       "      <td>2.0</td>\n",
       "      <td>3.0</td>\n",
       "      <td>10.0</td>\n",
       "      <td>50.0</td>\n",
       "    </tr>\n",
       "    <tr>\n",
       "      <th>3</th>\n",
       "      <td>GP</td>\n",
       "      <td>F</td>\n",
       "      <td>15</td>\n",
       "      <td>U</td>\n",
       "      <td>GT3</td>\n",
       "      <td>T</td>\n",
       "      <td>4.0</td>\n",
       "      <td>2.0</td>\n",
       "      <td>health</td>\n",
       "      <td>NaN</td>\n",
       "      <td>home</td>\n",
       "      <td>mother</td>\n",
       "      <td>1.0</td>\n",
       "      <td>3.0</td>\n",
       "      <td>0.0</td>\n",
       "      <td>no</td>\n",
       "      <td>yes</td>\n",
       "      <td>yes</td>\n",
       "      <td>yes</td>\n",
       "      <td>yes</td>\n",
       "      <td>-9.0</td>\n",
       "      <td>yes</td>\n",
       "      <td>yes</td>\n",
       "      <td>yes</td>\n",
       "      <td>3.0</td>\n",
       "      <td>2.0</td>\n",
       "      <td>2.0</td>\n",
       "      <td>5.0</td>\n",
       "      <td>2.0</td>\n",
       "      <td>75.0</td>\n",
       "    </tr>\n",
       "    <tr>\n",
       "      <th>4</th>\n",
       "      <td>GP</td>\n",
       "      <td>F</td>\n",
       "      <td>16</td>\n",
       "      <td>U</td>\n",
       "      <td>GT3</td>\n",
       "      <td>T</td>\n",
       "      <td>3.0</td>\n",
       "      <td>3.0</td>\n",
       "      <td>other</td>\n",
       "      <td>other</td>\n",
       "      <td>home</td>\n",
       "      <td>father</td>\n",
       "      <td>1.0</td>\n",
       "      <td>2.0</td>\n",
       "      <td>0.0</td>\n",
       "      <td>no</td>\n",
       "      <td>yes</td>\n",
       "      <td>yes</td>\n",
       "      <td>no</td>\n",
       "      <td>yes</td>\n",
       "      <td>-6.0</td>\n",
       "      <td>yes</td>\n",
       "      <td>no</td>\n",
       "      <td>no</td>\n",
       "      <td>4.0</td>\n",
       "      <td>3.0</td>\n",
       "      <td>2.0</td>\n",
       "      <td>5.0</td>\n",
       "      <td>4.0</td>\n",
       "      <td>50.0</td>\n",
       "    </tr>\n",
       "  </tbody>\n",
       "</table>\n",
       "</div>"
      ],
      "text/plain": [
       "  school sex  age address famsize Pstatus  Medu  Fedu     Mjob     Fjob  \\\n",
       "0     GP   F   18       U     NaN       A   4.0   4.0  at_home  teacher   \n",
       "1     GP   F   17       U     GT3     NaN   1.0   1.0  at_home    other   \n",
       "2     GP   F   15       U     LE3       T   1.0   1.0  at_home    other   \n",
       "3     GP   F   15       U     GT3       T   4.0   2.0   health      NaN   \n",
       "4     GP   F   16       U     GT3       T   3.0   3.0    other    other   \n",
       "\n",
       "   reason guardian  traveltime  studytime  failures schoolsup famsup paid  \\\n",
       "0  course   mother         2.0        2.0       0.0       yes     no   no   \n",
       "1  course   father         1.0        2.0       0.0        no    yes   no   \n",
       "2   other   mother         1.0        2.0       3.0       yes     no  NaN   \n",
       "3    home   mother         1.0        3.0       0.0        no    yes  yes   \n",
       "4    home   father         1.0        2.0       0.0        no    yes  yes   \n",
       "\n",
       "  activities nursery  studytime, granular higher internet romantic  famrel  \\\n",
       "0         no     yes                 -6.0    yes      NaN       no     4.0   \n",
       "1         no      no                 -6.0    yes      yes       no     5.0   \n",
       "2         no     yes                 -6.0    yes      yes      NaN     4.0   \n",
       "3        yes     yes                 -9.0    yes      yes      yes     3.0   \n",
       "4         no     yes                 -6.0    yes       no       no     4.0   \n",
       "\n",
       "   freetime  goout  health  absences  score  \n",
       "0       3.0    4.0     3.0       6.0   30.0  \n",
       "1       3.0    3.0     3.0       4.0   30.0  \n",
       "2       3.0    2.0     3.0      10.0   50.0  \n",
       "3       2.0    2.0     5.0       2.0   75.0  \n",
       "4       3.0    2.0     5.0       4.0   50.0  "
      ]
     },
     "execution_count": 19,
     "metadata": {},
     "output_type": "execute_result"
    }
   ],
   "source": [
    "df.head()"
   ]
  },
  {
   "cell_type": "code",
   "execution_count": 20,
   "id": "ad0ab45e",
   "metadata": {},
   "outputs": [
    {
     "name": "stdout",
     "output_type": "stream",
     "text": [
      "Проверим сколько пропущенных значений стало\n"
     ]
    },
    {
     "data": {
      "text/plain": [
       "address                17\n",
       "famsize                27\n",
       "Pstatus                45\n",
       "Medu                    3\n",
       "Fedu                   24\n",
       "Mjob                   19\n",
       "Fjob                   36\n",
       "reason                 17\n",
       "guardian               31\n",
       "traveltime             28\n",
       "studytime               7\n",
       "failures               22\n",
       "schoolsup               9\n",
       "famsup                 39\n",
       "paid                   40\n",
       "activities             14\n",
       "nursery                16\n",
       "studytime, granular     7\n",
       "higher                 20\n",
       "internet               34\n",
       "romantic               31\n",
       "famrel                 27\n",
       "freetime               11\n",
       "goout                   8\n",
       "health                 15\n",
       "absences               12\n",
       "score                   6\n",
       "dtype: int64"
      ]
     },
     "execution_count": 20,
     "metadata": {},
     "output_type": "execute_result"
    }
   ],
   "source": [
    "print(\"Проверим сколько пропущенных значений стало\")\n",
    "null_data_2 = df.isnull().sum()\n",
    "null_data_2[null_data_2 > 0]"
   ]
  },
  {
   "cell_type": "markdown",
   "id": "08c929a7",
   "metadata": {},
   "source": [
    "Явным образом видно, что у нас нету столбцов где пропуски составляют более 40% от данных."
   ]
  },
  {
   "cell_type": "markdown",
   "id": "95deefec",
   "metadata": {},
   "source": [
    "Попробуем узнать, какой процент от данных мы потерям, если удалим все строки с пустыми значениями"
   ]
  },
  {
   "cell_type": "code",
   "execution_count": 21,
   "id": "03229827",
   "metadata": {
    "scrolled": true
   },
   "outputs": [
    {
     "data": {
      "text/plain": [
       "(298, 30)"
      ]
     },
     "execution_count": 21,
     "metadata": {},
     "output_type": "execute_result"
    }
   ],
   "source": [
    "df[df.isnull().any(axis=1)].shape"
   ]
  },
  {
   "cell_type": "markdown",
   "id": "e6c573c8",
   "metadata": {},
   "source": [
    "ух.. 298 строк из 395 содержать пустые значение... Мы не можем себе позволить необдуманно удалить все строки где есть хотя бы один пропуск..."
   ]
  },
  {
   "cell_type": "code",
   "execution_count": 22,
   "id": "ec613bd4",
   "metadata": {},
   "outputs": [
    {
     "name": "stdout",
     "output_type": "stream",
     "text": [
      "Проверим, увеличилось ли количество пустых ячеек \n"
     ]
    },
    {
     "data": {
      "text/plain": [
       "school                 0\n",
       "sex                    0\n",
       "age                    0\n",
       "address                0\n",
       "famsize                0\n",
       "Pstatus                0\n",
       "Medu                   0\n",
       "Fedu                   0\n",
       "Mjob                   0\n",
       "Fjob                   0\n",
       "reason                 0\n",
       "guardian               0\n",
       "traveltime             0\n",
       "studytime              0\n",
       "failures               0\n",
       "schoolsup              0\n",
       "famsup                 0\n",
       "paid                   0\n",
       "activities             0\n",
       "nursery                0\n",
       "studytime, granular    0\n",
       "higher                 0\n",
       "internet               0\n",
       "romantic               0\n",
       "famrel                 0\n",
       "freetime               0\n",
       "goout                  0\n",
       "health                 0\n",
       "absences               0\n",
       "score                  0\n",
       "dtype: int64"
      ]
     },
     "execution_count": 22,
     "metadata": {},
     "output_type": "execute_result"
    }
   ],
   "source": [
    "#-----------------------------------------------------------------------\n",
    "print(\"Проверим, увеличилось ли количество пустых ячеек \")\n",
    "null_data_2 - null_data_1"
   ]
  },
  {
   "cell_type": "markdown",
   "id": "a462bc2e",
   "metadata": {},
   "source": [
    "Ничего не изменилось... Нам повезло с данными :)"
   ]
  },
  {
   "cell_type": "markdown",
   "id": "5bde2330",
   "metadata": {},
   "source": [
    "# Раздел 2. Смотрим распределение признака для числовых переменным, устраням выбросы."
   ]
  },
  {
   "cell_type": "markdown",
   "id": "a8271428",
   "metadata": {},
   "source": [
    "Прибегнем к инфо, что бы посмотреть какие числовые данные используются."
   ]
  },
  {
   "cell_type": "code",
   "execution_count": 23,
   "id": "0e978d01",
   "metadata": {},
   "outputs": [
    {
     "name": "stdout",
     "output_type": "stream",
     "text": [
      "<class 'pandas.core.frame.DataFrame'>\n",
      "RangeIndex: 395 entries, 0 to 394\n",
      "Data columns (total 30 columns):\n",
      " #   Column               Non-Null Count  Dtype  \n",
      "---  ------               --------------  -----  \n",
      " 0   school               395 non-null    object \n",
      " 1   sex                  395 non-null    object \n",
      " 2   age                  395 non-null    int64  \n",
      " 3   address              378 non-null    object \n",
      " 4   famsize              368 non-null    object \n",
      " 5   Pstatus              350 non-null    object \n",
      " 6   Medu                 392 non-null    float64\n",
      " 7   Fedu                 371 non-null    float64\n",
      " 8   Mjob                 376 non-null    object \n",
      " 9   Fjob                 359 non-null    object \n",
      " 10  reason               378 non-null    object \n",
      " 11  guardian             364 non-null    object \n",
      " 12  traveltime           367 non-null    float64\n",
      " 13  studytime            388 non-null    float64\n",
      " 14  failures             373 non-null    float64\n",
      " 15  schoolsup            386 non-null    object \n",
      " 16  famsup               356 non-null    object \n",
      " 17  paid                 355 non-null    object \n",
      " 18  activities           381 non-null    object \n",
      " 19  nursery              379 non-null    object \n",
      " 20  studytime, granular  388 non-null    float64\n",
      " 21  higher               375 non-null    object \n",
      " 22  internet             361 non-null    object \n",
      " 23  romantic             364 non-null    object \n",
      " 24  famrel               368 non-null    float64\n",
      " 25  freetime             384 non-null    float64\n",
      " 26  goout                387 non-null    float64\n",
      " 27  health               380 non-null    float64\n",
      " 28  absences             383 non-null    float64\n",
      " 29  score                389 non-null    float64\n",
      "dtypes: float64(12), int64(1), object(17)\n",
      "memory usage: 92.7+ KB\n"
     ]
    }
   ],
   "source": [
    "df.info()"
   ]
  },
  {
   "cell_type": "markdown",
   "id": "4dfcbe96",
   "metadata": {},
   "source": [
    "Выше можно увидеть, что используется только два типа числовых данные - int64 и float64.\n",
    "\n",
    "Напишем маленькой код, который автоматически соберет название колонок для нас."
   ]
  },
  {
   "cell_type": "code",
   "execution_count": 24,
   "id": "c7af1d28",
   "metadata": {},
   "outputs": [],
   "source": [
    "#-----------------------------------------------------------------------\n",
    "numeric_col = [] \n",
    "for i in df:\n",
    "    if df[i].dtypes == \"int64\" or df[i].dtypes == \"float64\" :\n",
    "        numeric_col.append(i)"
   ]
  },
  {
   "cell_type": "markdown",
   "id": "0cc78cd8",
   "metadata": {},
   "source": [
    "Посмотрим на результат. "
   ]
  },
  {
   "cell_type": "code",
   "execution_count": 25,
   "id": "b536352c",
   "metadata": {
    "scrolled": true
   },
   "outputs": [
    {
     "data": {
      "text/plain": [
       "['age',\n",
       " 'Medu',\n",
       " 'Fedu',\n",
       " 'traveltime',\n",
       " 'studytime',\n",
       " 'failures',\n",
       " 'studytime, granular',\n",
       " 'famrel',\n",
       " 'freetime',\n",
       " 'goout',\n",
       " 'health',\n",
       " 'absences',\n",
       " 'score']"
      ]
     },
     "execution_count": 25,
     "metadata": {},
     "output_type": "execute_result"
    }
   ],
   "source": [
    "numeric_col"
   ]
  },
  {
   "cell_type": "markdown",
   "id": "39b9fa17",
   "metadata": {},
   "source": [
    "Преобразуем все значение в тип Integer"
   ]
  },
  {
   "cell_type": "code",
   "execution_count": 26,
   "id": "e96b55f8",
   "metadata": {
    "scrolled": true
   },
   "outputs": [
    {
     "name": "stdout",
     "output_type": "stream",
     "text": [
      "<class 'pandas.core.frame.DataFrame'>\n",
      "RangeIndex: 395 entries, 0 to 394\n",
      "Data columns (total 30 columns):\n",
      " #   Column               Non-Null Count  Dtype  \n",
      "---  ------               --------------  -----  \n",
      " 0   school               395 non-null    object \n",
      " 1   sex                  395 non-null    object \n",
      " 2   age                  395 non-null    int64  \n",
      " 3   address              378 non-null    object \n",
      " 4   famsize              368 non-null    object \n",
      " 5   Pstatus              350 non-null    object \n",
      " 6   Medu                 392 non-null    float64\n",
      " 7   Fedu                 371 non-null    float64\n",
      " 8   Mjob                 376 non-null    object \n",
      " 9   Fjob                 359 non-null    object \n",
      " 10  reason               378 non-null    object \n",
      " 11  guardian             364 non-null    object \n",
      " 12  traveltime           367 non-null    float64\n",
      " 13  studytime            388 non-null    float64\n",
      " 14  failures             373 non-null    float64\n",
      " 15  schoolsup            386 non-null    object \n",
      " 16  famsup               356 non-null    object \n",
      " 17  paid                 355 non-null    object \n",
      " 18  activities           381 non-null    object \n",
      " 19  nursery              379 non-null    object \n",
      " 20  studytime, granular  388 non-null    float64\n",
      " 21  higher               375 non-null    object \n",
      " 22  internet             361 non-null    object \n",
      " 23  romantic             364 non-null    object \n",
      " 24  famrel               368 non-null    float64\n",
      " 25  freetime             384 non-null    float64\n",
      " 26  goout                387 non-null    float64\n",
      " 27  health               380 non-null    float64\n",
      " 28  absences             383 non-null    float64\n",
      " 29  score                389 non-null    float64\n",
      "dtypes: float64(12), int64(1), object(17)\n",
      "memory usage: 92.7+ KB\n"
     ]
    }
   ],
   "source": [
    "df.info()"
   ]
  },
  {
   "cell_type": "code",
   "execution_count": 27,
   "id": "69dc9044",
   "metadata": {},
   "outputs": [
    {
     "data": {
      "text/html": [
       "<div>\n",
       "<style scoped>\n",
       "    .dataframe tbody tr th:only-of-type {\n",
       "        vertical-align: middle;\n",
       "    }\n",
       "\n",
       "    .dataframe tbody tr th {\n",
       "        vertical-align: top;\n",
       "    }\n",
       "\n",
       "    .dataframe thead th {\n",
       "        text-align: right;\n",
       "    }\n",
       "</style>\n",
       "<table border=\"1\" class=\"dataframe\">\n",
       "  <thead>\n",
       "    <tr style=\"text-align: right;\">\n",
       "      <th></th>\n",
       "      <th>age</th>\n",
       "      <th>Medu</th>\n",
       "      <th>Fedu</th>\n",
       "      <th>traveltime</th>\n",
       "      <th>studytime</th>\n",
       "      <th>failures</th>\n",
       "      <th>studytime, granular</th>\n",
       "      <th>famrel</th>\n",
       "      <th>freetime</th>\n",
       "      <th>goout</th>\n",
       "      <th>health</th>\n",
       "      <th>absences</th>\n",
       "      <th>score</th>\n",
       "    </tr>\n",
       "  </thead>\n",
       "  <tbody>\n",
       "    <tr>\n",
       "      <th>count</th>\n",
       "      <td>395.000000</td>\n",
       "      <td>392.000000</td>\n",
       "      <td>371.000000</td>\n",
       "      <td>367.000000</td>\n",
       "      <td>388.000000</td>\n",
       "      <td>373.000000</td>\n",
       "      <td>388.000000</td>\n",
       "      <td>368.000000</td>\n",
       "      <td>384.000000</td>\n",
       "      <td>387.000000</td>\n",
       "      <td>380.000000</td>\n",
       "      <td>383.000000</td>\n",
       "      <td>389.000000</td>\n",
       "    </tr>\n",
       "    <tr>\n",
       "      <th>mean</th>\n",
       "      <td>16.696203</td>\n",
       "      <td>2.750000</td>\n",
       "      <td>2.614555</td>\n",
       "      <td>1.438692</td>\n",
       "      <td>2.038660</td>\n",
       "      <td>0.337802</td>\n",
       "      <td>-6.115979</td>\n",
       "      <td>3.937500</td>\n",
       "      <td>3.231771</td>\n",
       "      <td>3.105943</td>\n",
       "      <td>3.531579</td>\n",
       "      <td>7.279373</td>\n",
       "      <td>52.262211</td>\n",
       "    </tr>\n",
       "    <tr>\n",
       "      <th>std</th>\n",
       "      <td>1.276043</td>\n",
       "      <td>1.098127</td>\n",
       "      <td>2.228732</td>\n",
       "      <td>0.694181</td>\n",
       "      <td>0.842078</td>\n",
       "      <td>0.743135</td>\n",
       "      <td>2.526235</td>\n",
       "      <td>0.927277</td>\n",
       "      <td>0.993940</td>\n",
       "      <td>1.115896</td>\n",
       "      <td>1.396019</td>\n",
       "      <td>23.465197</td>\n",
       "      <td>22.919022</td>\n",
       "    </tr>\n",
       "    <tr>\n",
       "      <th>min</th>\n",
       "      <td>15.000000</td>\n",
       "      <td>0.000000</td>\n",
       "      <td>0.000000</td>\n",
       "      <td>1.000000</td>\n",
       "      <td>1.000000</td>\n",
       "      <td>0.000000</td>\n",
       "      <td>-12.000000</td>\n",
       "      <td>-1.000000</td>\n",
       "      <td>1.000000</td>\n",
       "      <td>1.000000</td>\n",
       "      <td>1.000000</td>\n",
       "      <td>0.000000</td>\n",
       "      <td>0.000000</td>\n",
       "    </tr>\n",
       "    <tr>\n",
       "      <th>25%</th>\n",
       "      <td>16.000000</td>\n",
       "      <td>2.000000</td>\n",
       "      <td>2.000000</td>\n",
       "      <td>1.000000</td>\n",
       "      <td>1.000000</td>\n",
       "      <td>0.000000</td>\n",
       "      <td>-6.000000</td>\n",
       "      <td>4.000000</td>\n",
       "      <td>3.000000</td>\n",
       "      <td>2.000000</td>\n",
       "      <td>3.000000</td>\n",
       "      <td>0.000000</td>\n",
       "      <td>40.000000</td>\n",
       "    </tr>\n",
       "    <tr>\n",
       "      <th>50%</th>\n",
       "      <td>17.000000</td>\n",
       "      <td>3.000000</td>\n",
       "      <td>2.000000</td>\n",
       "      <td>1.000000</td>\n",
       "      <td>2.000000</td>\n",
       "      <td>0.000000</td>\n",
       "      <td>-6.000000</td>\n",
       "      <td>4.000000</td>\n",
       "      <td>3.000000</td>\n",
       "      <td>3.000000</td>\n",
       "      <td>4.000000</td>\n",
       "      <td>4.000000</td>\n",
       "      <td>55.000000</td>\n",
       "    </tr>\n",
       "    <tr>\n",
       "      <th>75%</th>\n",
       "      <td>18.000000</td>\n",
       "      <td>4.000000</td>\n",
       "      <td>3.000000</td>\n",
       "      <td>2.000000</td>\n",
       "      <td>2.000000</td>\n",
       "      <td>0.000000</td>\n",
       "      <td>-3.000000</td>\n",
       "      <td>5.000000</td>\n",
       "      <td>4.000000</td>\n",
       "      <td>4.000000</td>\n",
       "      <td>5.000000</td>\n",
       "      <td>8.000000</td>\n",
       "      <td>70.000000</td>\n",
       "    </tr>\n",
       "    <tr>\n",
       "      <th>max</th>\n",
       "      <td>22.000000</td>\n",
       "      <td>4.000000</td>\n",
       "      <td>40.000000</td>\n",
       "      <td>4.000000</td>\n",
       "      <td>4.000000</td>\n",
       "      <td>3.000000</td>\n",
       "      <td>-3.000000</td>\n",
       "      <td>5.000000</td>\n",
       "      <td>5.000000</td>\n",
       "      <td>5.000000</td>\n",
       "      <td>5.000000</td>\n",
       "      <td>385.000000</td>\n",
       "      <td>100.000000</td>\n",
       "    </tr>\n",
       "  </tbody>\n",
       "</table>\n",
       "</div>"
      ],
      "text/plain": [
       "              age        Medu        Fedu  traveltime   studytime    failures  \\\n",
       "count  395.000000  392.000000  371.000000  367.000000  388.000000  373.000000   \n",
       "mean    16.696203    2.750000    2.614555    1.438692    2.038660    0.337802   \n",
       "std      1.276043    1.098127    2.228732    0.694181    0.842078    0.743135   \n",
       "min     15.000000    0.000000    0.000000    1.000000    1.000000    0.000000   \n",
       "25%     16.000000    2.000000    2.000000    1.000000    1.000000    0.000000   \n",
       "50%     17.000000    3.000000    2.000000    1.000000    2.000000    0.000000   \n",
       "75%     18.000000    4.000000    3.000000    2.000000    2.000000    0.000000   \n",
       "max     22.000000    4.000000   40.000000    4.000000    4.000000    3.000000   \n",
       "\n",
       "       studytime, granular      famrel    freetime       goout      health  \\\n",
       "count           388.000000  368.000000  384.000000  387.000000  380.000000   \n",
       "mean             -6.115979    3.937500    3.231771    3.105943    3.531579   \n",
       "std               2.526235    0.927277    0.993940    1.115896    1.396019   \n",
       "min             -12.000000   -1.000000    1.000000    1.000000    1.000000   \n",
       "25%              -6.000000    4.000000    3.000000    2.000000    3.000000   \n",
       "50%              -6.000000    4.000000    3.000000    3.000000    4.000000   \n",
       "75%              -3.000000    5.000000    4.000000    4.000000    5.000000   \n",
       "max              -3.000000    5.000000    5.000000    5.000000    5.000000   \n",
       "\n",
       "         absences       score  \n",
       "count  383.000000  389.000000  \n",
       "mean     7.279373   52.262211  \n",
       "std     23.465197   22.919022  \n",
       "min      0.000000    0.000000  \n",
       "25%      0.000000   40.000000  \n",
       "50%      4.000000   55.000000  \n",
       "75%      8.000000   70.000000  \n",
       "max    385.000000  100.000000  "
      ]
     },
     "execution_count": 27,
     "metadata": {},
     "output_type": "execute_result"
    }
   ],
   "source": [
    "df.describe()"
   ]
  },
  {
   "cell_type": "markdown",
   "id": "eb880f7d",
   "metadata": {},
   "source": [
    "Так же создадим функцию, что бы одной строкой кода выводить все графики и числовые значения.\n",
    "В связи с тем, что мы работаем только со смешанными типами переменными, воспользуемся графиком countplot."
   ]
  },
  {
   "cell_type": "code",
   "execution_count": 28,
   "id": "681fadc2",
   "metadata": {},
   "outputs": [],
   "source": [
    "# -----------------------------------------------------------------------\n",
    "def look_at_col(df, col_name):\n",
    "    '''Данная функция принимает в качестве аргументов датасет и название\n",
    "    колонки в str формате, и возращает уникальные значение, моду,\n",
    "    так же гистограмму и discribe по отношению к указанному столбук\n",
    "    '''\n",
    "\n",
    "    print(f\"Анализируем столбец {col_name} \")\n",
    "    print(f\"Уникальные значения : {df[col_name].unique()}\")\n",
    "    print(\"---------------------------------------------------------\")\n",
    "    print(f\"Кол-во нулевых значение {df[col_name].isnull().sum()} \")\n",
    "    print(\"Мода -\", df[col_name].mode())\n",
    "    print(df[col_name].describe())\n",
    "    plt.subplot(1, 2, 1)\n",
    "    plt.subplots_adjust(wspace= 1, hspace=0.3)\n",
    "    ax = sns.countplot(x=col_name, data=df)\n",
    "    plt.title(f'Гистограмма к столбцу {col_name}')\n",
    "    plt.ylabel(\"Количество\")\n",
    "    ax.tick_params(axis='x', labelrotation=90)\n",
    "    plt.subplot(1, 2, 2)\n",
    "    ax_2 = sns.boxplot(x=col_name, y = 'score', data=df)\n",
    "    plt.title(f'Ящик с усами к столбцу {col_name}')\n",
    "    plt.ylabel(\"Количество\")\n",
    "    ax_2.tick_params(axis='x', labelrotation=90)"
   ]
  },
  {
   "cell_type": "code",
   "execution_count": 29,
   "id": "a426189e",
   "metadata": {
    "scrolled": true
   },
   "outputs": [
    {
     "name": "stdout",
     "output_type": "stream",
     "text": [
      "Анализируем столбец age \n",
      "Уникальные значения : [18 17 15 16 19 22 20 21]\n",
      "---------------------------------------------------------\n",
      "Кол-во нулевых значение 0 \n",
      "Мода - 0    16\n",
      "dtype: int64\n",
      "count    395.000000\n",
      "mean      16.696203\n",
      "std        1.276043\n",
      "min       15.000000\n",
      "25%       16.000000\n",
      "50%       17.000000\n",
      "75%       18.000000\n",
      "max       22.000000\n",
      "Name: age, dtype: float64\n"
     ]
    },
    {
     "data": {
      "image/png": "[encoded data removed]",
      "text/plain": [
       "<Figure size 432x288 with 2 Axes>"
      ]
     },
     "metadata": {
      "needs_background": "light"
     },
     "output_type": "display_data"
    }
   ],
   "source": [
    "look_at_col(df, numeric_col[0])"
   ]
  },
  {
   "cell_type": "markdown",
   "id": "e98a5b85",
   "metadata": {},
   "source": [
    "Условие к столбцу:\n",
    "\n",
    "**age** — возраст ученика (от 15 до 22).\n",
    "\n",
    "В соответствии с условием, выбросы не обнаружены.\n",
    "\n",
    "\n",
    "Вывод:\n",
    "\n",
    "В выборке большая половина учащихся в возрасте от 15 до 17 лет."
   ]
  },
  {
   "cell_type": "markdown",
   "id": "fb9da2d8",
   "metadata": {},
   "source": [
    "### Анализируем столбец Medu."
   ]
  },
  {
   "cell_type": "code",
   "execution_count": 30,
   "id": "d9a72dcc",
   "metadata": {},
   "outputs": [
    {
     "name": "stdout",
     "output_type": "stream",
     "text": [
      "Анализируем столбец Medu \n",
      "Уникальные значения : [ 4.  1.  3.  2. nan  0.]\n",
      "---------------------------------------------------------\n",
      "Кол-во нулевых значение 3 \n",
      "Мода - 0    4.0\n",
      "dtype: float64\n",
      "count    392.000000\n",
      "mean       2.750000\n",
      "std        1.098127\n",
      "min        0.000000\n",
      "25%        2.000000\n",
      "50%        3.000000\n",
      "75%        4.000000\n",
      "max        4.000000\n",
      "Name: Medu, dtype: float64\n"
     ]
    },
    {
     "data": {
      "image/png": "[encoded data removed]",
      "text/plain": [
       "<Figure size 432x288 with 2 Axes>"
      ]
     },
     "metadata": {
      "needs_background": "light"
     },
     "output_type": "display_data"
    }
   ],
   "source": [
    "look_at_col(df, numeric_col[1])"
   ]
  },
  {
   "cell_type": "markdown",
   "id": "35e463ca",
   "metadata": {},
   "source": [
    "Вспоминаем условие. \n",
    "\n",
    "Medu — образование матери (0 - нет, 1 - 4 класса, 2 - 5-9 классы, 3 - среднее специальное или 11 классов, 4 - высшее)\n",
    "\n",
    "В соответствии с условием, выбросы не обнаружены.\n",
    "\n",
    "Вывод:\n",
    "\n",
    "У большинства матерей образование высшее. Весьма интересно, что матерей с неполным высшим образованием, больше чем с среднеспециальным образованием.\n"
   ]
  },
  {
   "cell_type": "markdown",
   "id": "9690768f",
   "metadata": {},
   "source": [
    "### Анализируем столбец Fedu."
   ]
  },
  {
   "cell_type": "code",
   "execution_count": 31,
   "id": "d8c7bb06",
   "metadata": {},
   "outputs": [
    {
     "name": "stdout",
     "output_type": "stream",
     "text": [
      "Анализируем столбец Fedu \n",
      "Уникальные значения : [ 4.  1.  2.  3. 40. nan  0.]\n",
      "---------------------------------------------------------\n",
      "Кол-во нулевых значение 24 \n",
      "Мода - 0    2.0\n",
      "dtype: float64\n",
      "count    371.000000\n",
      "mean       2.614555\n",
      "std        2.228732\n",
      "min        0.000000\n",
      "25%        2.000000\n",
      "50%        2.000000\n",
      "75%        3.000000\n",
      "max       40.000000\n",
      "Name: Fedu, dtype: float64\n"
     ]
    },
    {
     "data": {
      "image/png": "[encoded data removed]",
      "text/plain": [
       "<Figure size 432x288 with 2 Axes>"
      ]
     },
     "metadata": {
      "needs_background": "light"
     },
     "output_type": "display_data"
    }
   ],
   "source": [
    "look_at_col(df, numeric_col[2])"
   ]
  },
  {
   "cell_type": "markdown",
   "id": "14ee9b4d",
   "metadata": {},
   "source": [
    "Условие к столбцу:\n",
    "\n",
    "Fedu — образование отца (0 - нет, 1 - 4 класса, 2 - 5-9 классы, 3 - среднее специальное или 11 классов, 4 - высшее)\n",
    "\n",
    "Сразу видим выбросы. У нас появились значение равное 40, что противоречит нашему условию.\n",
    "\n",
    "Взглянем на выбросы подробнее"
   ]
  },
  {
   "cell_type": "code",
   "execution_count": 32,
   "id": "e425af74",
   "metadata": {},
   "outputs": [
    {
     "data": {
      "text/html": [
       "<div>\n",
       "<style scoped>\n",
       "    .dataframe tbody tr th:only-of-type {\n",
       "        vertical-align: middle;\n",
       "    }\n",
       "\n",
       "    .dataframe tbody tr th {\n",
       "        vertical-align: top;\n",
       "    }\n",
       "\n",
       "    .dataframe thead th {\n",
       "        text-align: right;\n",
       "    }\n",
       "</style>\n",
       "<table border=\"1\" class=\"dataframe\">\n",
       "  <thead>\n",
       "    <tr style=\"text-align: right;\">\n",
       "      <th></th>\n",
       "      <th>school</th>\n",
       "      <th>sex</th>\n",
       "      <th>age</th>\n",
       "      <th>address</th>\n",
       "      <th>famsize</th>\n",
       "      <th>Pstatus</th>\n",
       "      <th>Medu</th>\n",
       "      <th>Fedu</th>\n",
       "      <th>Mjob</th>\n",
       "      <th>Fjob</th>\n",
       "      <th>reason</th>\n",
       "      <th>guardian</th>\n",
       "      <th>traveltime</th>\n",
       "      <th>studytime</th>\n",
       "      <th>failures</th>\n",
       "      <th>schoolsup</th>\n",
       "      <th>famsup</th>\n",
       "      <th>paid</th>\n",
       "      <th>activities</th>\n",
       "      <th>nursery</th>\n",
       "      <th>studytime, granular</th>\n",
       "      <th>higher</th>\n",
       "      <th>internet</th>\n",
       "      <th>romantic</th>\n",
       "      <th>famrel</th>\n",
       "      <th>freetime</th>\n",
       "      <th>goout</th>\n",
       "      <th>health</th>\n",
       "      <th>absences</th>\n",
       "      <th>score</th>\n",
       "    </tr>\n",
       "  </thead>\n",
       "  <tbody>\n",
       "    <tr>\n",
       "      <th>11</th>\n",
       "      <td>GP</td>\n",
       "      <td>F</td>\n",
       "      <td>15</td>\n",
       "      <td>U</td>\n",
       "      <td>GT3</td>\n",
       "      <td>NaN</td>\n",
       "      <td>2.0</td>\n",
       "      <td>40.0</td>\n",
       "      <td>services</td>\n",
       "      <td>other</td>\n",
       "      <td>reputation</td>\n",
       "      <td>father</td>\n",
       "      <td>3.0</td>\n",
       "      <td>3.0</td>\n",
       "      <td>0.0</td>\n",
       "      <td>no</td>\n",
       "      <td>yes</td>\n",
       "      <td>no</td>\n",
       "      <td>yes</td>\n",
       "      <td>yes</td>\n",
       "      <td>-9.0</td>\n",
       "      <td>yes</td>\n",
       "      <td>yes</td>\n",
       "      <td>no</td>\n",
       "      <td>5.0</td>\n",
       "      <td>2.0</td>\n",
       "      <td>2.0</td>\n",
       "      <td>4.0</td>\n",
       "      <td>4.0</td>\n",
       "      <td>60.0</td>\n",
       "    </tr>\n",
       "  </tbody>\n",
       "</table>\n",
       "</div>"
      ],
      "text/plain": [
       "   school sex  age address famsize Pstatus  Medu  Fedu      Mjob   Fjob  \\\n",
       "11     GP   F   15       U     GT3     NaN   2.0  40.0  services  other   \n",
       "\n",
       "        reason guardian  traveltime  studytime  failures schoolsup famsup  \\\n",
       "11  reputation   father         3.0        3.0       0.0        no    yes   \n",
       "\n",
       "   paid activities nursery  studytime, granular higher internet romantic  \\\n",
       "11   no        yes     yes                 -9.0    yes      yes       no   \n",
       "\n",
       "    famrel  freetime  goout  health  absences  score  \n",
       "11     5.0       2.0    2.0     4.0       4.0   60.0  "
      ]
     },
     "execution_count": 32,
     "metadata": {},
     "output_type": "execute_result"
    }
   ],
   "source": [
    "df[df.Fedu > 4]"
   ]
  },
  {
   "cell_type": "markdown",
   "id": "3f809268",
   "metadata": {},
   "source": [
    "Обнаружен 1 выброс. Скорее всего кто-то допустил опечатку и ввели 40 вместо 4.\n",
    "\n",
    "Удалим данный выброс. "
   ]
  },
  {
   "cell_type": "code",
   "execution_count": 33,
   "id": "cb6d1179",
   "metadata": {},
   "outputs": [],
   "source": [
    "df = df[df.Fedu < 40]"
   ]
  },
  {
   "cell_type": "markdown",
   "id": "405532b4",
   "metadata": {},
   "source": [
    "Вывод:\n",
    "\n",
    "Отметим, что в данной выборке, в среднем, образование у мужчин ниже чему у женщин."
   ]
  },
  {
   "cell_type": "markdown",
   "id": "188ca82e",
   "metadata": {},
   "source": [
    "### Анализируем столбец traveltime."
   ]
  },
  {
   "cell_type": "code",
   "execution_count": 34,
   "id": "00ffc666",
   "metadata": {},
   "outputs": [
    {
     "name": "stdout",
     "output_type": "stream",
     "text": [
      "Анализируем столбец traveltime \n",
      "Уникальные значения : [ 2.  1.  3. nan  4.]\n",
      "---------------------------------------------------------\n",
      "Кол-во нулевых значение 25 \n",
      "Мода - 0    1.0\n",
      "dtype: float64\n",
      "count    345.000000\n",
      "mean       1.449275\n",
      "std        0.701664\n",
      "min        1.000000\n",
      "25%        1.000000\n",
      "50%        1.000000\n",
      "75%        2.000000\n",
      "max        4.000000\n",
      "Name: traveltime, dtype: float64\n"
     ]
    },
    {
     "data": {
      "image/png": "[encoded data removed]",
      "text/plain": [
       "<Figure size 432x288 with 2 Axes>"
      ]
     },
     "metadata": {
      "needs_background": "light"
     },
     "output_type": "display_data"
    }
   ],
   "source": [
    "look_at_col(df, numeric_col[3])"
   ]
  },
  {
   "cell_type": "markdown",
   "id": "a4585304",
   "metadata": {},
   "source": [
    "Условие к столбцу:\n",
    "\n",
    "traveltime — время в пути до школы (1 - <15 мин., 2 - 15-30 мин., 3 - 30-60 мин., 4 - >60 мин.)\n",
    "\n",
    "В соответствии с условием, выбросы не обнаружены.\n",
    "\n",
    "На графике видно, что в выборке много учеников живут в относительной близости от школы.\n"
   ]
  },
  {
   "cell_type": "markdown",
   "id": "66d4aed4",
   "metadata": {},
   "source": [
    "### Анализируем столбец studytime."
   ]
  },
  {
   "cell_type": "code",
   "execution_count": 35,
   "id": "53880e65",
   "metadata": {},
   "outputs": [
    {
     "name": "stdout",
     "output_type": "stream",
     "text": [
      "Анализируем столбец studytime \n",
      "Уникальные значения : [ 2.  3.  1. nan  4.]\n",
      "---------------------------------------------------------\n",
      "Кол-во нулевых значение 7 \n",
      "Мода - 0    2.0\n",
      "dtype: float64\n",
      "count    363.000000\n",
      "mean       2.027548\n",
      "std        0.840489\n",
      "min        1.000000\n",
      "25%        1.000000\n",
      "50%        2.000000\n",
      "75%        2.000000\n",
      "max        4.000000\n",
      "Name: studytime, dtype: float64\n"
     ]
    },
    {
     "data": {
      "image/png": "[encoded data removed]",
      "text/plain": [
       "<Figure size 432x288 with 2 Axes>"
      ]
     },
     "metadata": {
      "needs_background": "light"
     },
     "output_type": "display_data"
    }
   ],
   "source": [
    "look_at_col(df, numeric_col[4])"
   ]
  },
  {
   "cell_type": "markdown",
   "id": "0d3075d3",
   "metadata": {},
   "source": [
    "Условие к столбцу:\n",
    "    \n",
    "**studytime** — время на учёбу помимо школы в неделю (1 - <2 часов, 2 - 2-5 часов, 3 - 5-10 часов, 4 - >10 часов)\n",
    "\n",
    "В соответствии с условием, выбросы не обнаружены.\n",
    "\n",
    "Вывод:\n",
    "\n",
    "Заметно, что в среднем ученики в выборке проводят от 2 до 5 часов на дополнительную учебу.\n",
    "А так же, среднее значение равно медиане и моде."
   ]
  },
  {
   "cell_type": "markdown",
   "id": "71fed26e",
   "metadata": {},
   "source": [
    "### Анализируем столбец failures."
   ]
  },
  {
   "cell_type": "code",
   "execution_count": 36,
   "id": "5b0a46a8",
   "metadata": {},
   "outputs": [
    {
     "name": "stdout",
     "output_type": "stream",
     "text": [
      "Анализируем столбец failures \n",
      "Уникальные значения : [ 0.  3.  2.  1. nan]\n",
      "---------------------------------------------------------\n",
      "Кол-во нулевых значение 19 \n",
      "Мода - 0    0.0\n",
      "dtype: float64\n",
      "count    351.000000\n",
      "mean       0.336182\n",
      "std        0.748962\n",
      "min        0.000000\n",
      "25%        0.000000\n",
      "50%        0.000000\n",
      "75%        0.000000\n",
      "max        3.000000\n",
      "Name: failures, dtype: float64\n"
     ]
    },
    {
     "data": {
      "image/png": "[encoded data removed]",
      "text/plain": [
       "<Figure size 432x288 with 2 Axes>"
      ]
     },
     "metadata": {
      "needs_background": "light"
     },
     "output_type": "display_data"
    }
   ],
   "source": [
    "look_at_col(df, numeric_col[5])"
   ]
  },
  {
   "cell_type": "markdown",
   "id": "59427bc7",
   "metadata": {},
   "source": [
    "\n",
    "Условие к столбцу:\n",
    "    \n",
    "**failures** — количество внеучебных неудач (n, если 1<=n<=3, иначе 0)\n",
    "\n",
    "В соответствии с условием, выбросы не обнаружены.\n",
    "\n",
    "Вывод:\n",
    "\n",
    "Почти все ученики в выборке имеют более 3 неудач. "
   ]
  },
  {
   "cell_type": "markdown",
   "id": "5d2f1aed",
   "metadata": {},
   "source": [
    "Однако, вероятность, что количетсво количество неудач в 15-летнем возрасте равно 0, стремиться к 0. Поэтому для правильного корреляционного анализа заменим все значения 0 на 4 и назовем её, как количество неудач больше 3.   "
   ]
  },
  {
   "cell_type": "code",
   "execution_count": 37,
   "id": "96f7bd77",
   "metadata": {},
   "outputs": [],
   "source": [
    "df[numeric_col[5]] = df[numeric_col[5]].apply(lambda x: 4 if x == 0 else x)"
   ]
  },
  {
   "cell_type": "markdown",
   "id": "cc60c1d8",
   "metadata": {},
   "source": [
    "### Анализируем столбец granular."
   ]
  },
  {
   "cell_type": "code",
   "execution_count": 38,
   "id": "ce0db585",
   "metadata": {},
   "outputs": [
    {
     "name": "stdout",
     "output_type": "stream",
     "text": [
      "Анализируем столбец studytime, granular \n",
      "Уникальные значения : [ -6.  -9.  -3.  nan -12.]\n",
      "---------------------------------------------------------\n",
      "Кол-во нулевых значение 7 \n",
      "Мода - 0   -6.0\n",
      "dtype: float64\n",
      "count    363.000000\n",
      "mean      -6.082645\n",
      "std        2.521466\n",
      "min      -12.000000\n",
      "25%       -6.000000\n",
      "50%       -6.000000\n",
      "75%       -3.000000\n",
      "max       -3.000000\n",
      "Name: studytime, granular, dtype: float64\n"
     ]
    },
    {
     "data": {
      "image/png": "[encoded data removed]",
      "text/plain": [
       "<Figure size 432x288 with 2 Axes>"
      ]
     },
     "metadata": {
      "needs_background": "light"
     },
     "output_type": "display_data"
    }
   ],
   "source": [
    "look_at_col(df, numeric_col[6])"
   ]
  },
  {
   "cell_type": "markdown",
   "id": "847e8677",
   "metadata": {},
   "source": [
    "Условие к столбцу:\n",
    "    \n",
    "**studytime, granular**- переменная загадка. Исходя из условий, надо определить имеет она влияние на успеваемость или нет.\n",
    "\n",
    "В данном случаи в условии не указано какие значения могут примать значения.\n",
    "\n",
    "Давайте к данному методу построим дополнительный график - ящик с усами."
   ]
  },
  {
   "cell_type": "code",
   "execution_count": 39,
   "id": "595db373",
   "metadata": {},
   "outputs": [
    {
     "data": {
      "text/plain": [
       "<AxesSubplot:xlabel='studytime, granular'>"
      ]
     },
     "execution_count": 39,
     "metadata": {},
     "output_type": "execute_result"
    },
    {
     "data": {
      "image/png": "[encoded data removed]",
      "text/plain": [
       "<Figure size 432x288 with 1 Axes>"
      ]
     },
     "metadata": {
      "needs_background": "light"
     },
     "output_type": "display_data"
    }
   ],
   "source": [
    "sns.boxplot(x = numeric_col[6], data = df)"
   ]
  },
  {
   "cell_type": "markdown",
   "id": "d97f6129",
   "metadata": {},
   "source": [
    "Как видно из графика, значение -12 выходит за границу межквартильного размаха. Однако учитывая что таких значений около 25 можно предположить что это тоже номинативная переменная. \n",
    "\n",
    "Вывод: Выбросы не обнаружены."
   ]
  },
  {
   "cell_type": "markdown",
   "id": "86dc3a59",
   "metadata": {},
   "source": [
    "### Анализируем столбец famrel."
   ]
  },
  {
   "cell_type": "code",
   "execution_count": 40,
   "id": "dd6918c4",
   "metadata": {},
   "outputs": [
    {
     "name": "stdout",
     "output_type": "stream",
     "text": [
      "Анализируем столбец famrel \n",
      "Уникальные значения : [ 4.  5.  3. nan -1.  2.  1.]\n",
      "---------------------------------------------------------\n",
      "Кол-во нулевых значение 24 \n",
      "Мода - 0    4.0\n",
      "dtype: float64\n",
      "count    346.000000\n",
      "mean       3.936416\n",
      "std        0.939629\n",
      "min       -1.000000\n",
      "25%        4.000000\n",
      "50%        4.000000\n",
      "75%        5.000000\n",
      "max        5.000000\n",
      "Name: famrel, dtype: float64\n"
     ]
    },
    {
     "data": {
      "image/png": "[encoded data removed]",
      "text/plain": [
       "<Figure size 432x288 with 2 Axes>"
      ]
     },
     "metadata": {
      "needs_background": "light"
     },
     "output_type": "display_data"
    }
   ],
   "source": [
    "look_at_col(df,numeric_col[7])"
   ]
  },
  {
   "cell_type": "markdown",
   "id": "6df9286a",
   "metadata": {},
   "source": [
    "Условие к столбцу:\n",
    "    \n",
    "**famrel** — семейные отношения (от 1 - очень плохо до 5 - очень хорошо)\n",
    "\n",
    "В соответствии с условием, выбросы все значение ниже 0."
   ]
  },
  {
   "cell_type": "code",
   "execution_count": 41,
   "id": "03464f2d",
   "metadata": {},
   "outputs": [],
   "source": [
    "df = df[df.famrel > 0]"
   ]
  },
  {
   "cell_type": "markdown",
   "id": "4ed2bd35",
   "metadata": {},
   "source": [
    "Проверим столбец ещё раз."
   ]
  },
  {
   "cell_type": "code",
   "execution_count": 42,
   "id": "43d91a4a",
   "metadata": {},
   "outputs": [
    {
     "name": "stdout",
     "output_type": "stream",
     "text": [
      "Анализируем столбец famrel \n",
      "Уникальные значения : [4. 5. 3. 2. 1.]\n",
      "---------------------------------------------------------\n",
      "Кол-во нулевых значение 0 \n",
      "Мода - 0    4.0\n",
      "dtype: float64\n",
      "count    345.000000\n",
      "mean       3.950725\n",
      "std        0.902455\n",
      "min        1.000000\n",
      "25%        4.000000\n",
      "50%        4.000000\n",
      "75%        5.000000\n",
      "max        5.000000\n",
      "Name: famrel, dtype: float64\n"
     ]
    },
    {
     "data": {
      "image/png": "[encoded data removed]",
      "text/plain": [
       "<Figure size 432x288 with 2 Axes>"
      ]
     },
     "metadata": {
      "needs_background": "light"
     },
     "output_type": "display_data"
    }
   ],
   "source": [
    "look_at_col(df,numeric_col[7])"
   ]
  },
  {
   "cell_type": "markdown",
   "id": "e9451b59",
   "metadata": {},
   "source": [
    "Вывод:\n",
    "\n",
    "Согласно нашему 25 квантилю, более 75 % учеников имеют 3-(нормальное) и выше показетель отношения в семье."
   ]
  },
  {
   "cell_type": "markdown",
   "id": "f05cc4eb",
   "metadata": {},
   "source": [
    "### Анализируем столбец freetime."
   ]
  },
  {
   "cell_type": "code",
   "execution_count": 43,
   "id": "3bd08024",
   "metadata": {},
   "outputs": [
    {
     "name": "stdout",
     "output_type": "stream",
     "text": [
      "Анализируем столбец freetime \n",
      "Уникальные значения : [ 3.  2.  4.  1.  5. nan]\n",
      "---------------------------------------------------------\n",
      "Кол-во нулевых значение 9 \n",
      "Мода - 0    3.0\n",
      "dtype: float64\n",
      "count    336.000000\n",
      "mean       3.229167\n",
      "std        1.003508\n",
      "min        1.000000\n",
      "25%        3.000000\n",
      "50%        3.000000\n",
      "75%        4.000000\n",
      "max        5.000000\n",
      "Name: freetime, dtype: float64\n"
     ]
    },
    {
     "data": {
      "image/png": "[encoded data removed]",
      "text/plain": [
       "<Figure size 432x288 with 2 Axes>"
      ]
     },
     "metadata": {
      "needs_background": "light"
     },
     "output_type": "display_data"
    }
   ],
   "source": [
    "look_at_col(df,numeric_col[8])"
   ]
  },
  {
   "cell_type": "markdown",
   "id": "650659dc",
   "metadata": {},
   "source": [
    "Условие к столбцу:\n",
    "    \n",
    "**freetime** — свободное время после школы (от 1 - очень мало до 5 - очень мого)\n",
    "\n",
    "В соответствии с условием, выбросы не обнаружены.\n",
    "\n",
    "Вывод:\n",
    "\n",
    "Заметно, что в среднем у учеников в выборке от 3- среднее и выше показатели свободного времени.\n",
    "Среднее значение равно медиане и моде."
   ]
  },
  {
   "cell_type": "markdown",
   "id": "d97c1279",
   "metadata": {},
   "source": [
    "### Анализируем столбец goout."
   ]
  },
  {
   "cell_type": "code",
   "execution_count": 44,
   "id": "e591cdcf",
   "metadata": {},
   "outputs": [
    {
     "name": "stdout",
     "output_type": "stream",
     "text": [
      "Анализируем столбец goout \n",
      "Уникальные значения : [ 4.  3.  2.  1.  5. nan]\n",
      "---------------------------------------------------------\n",
      "Кол-во нулевых значение 8 \n",
      "Мода - 0    3.0\n",
      "dtype: float64\n",
      "count    337.000000\n",
      "mean       3.106825\n",
      "std        1.104852\n",
      "min        1.000000\n",
      "25%        2.000000\n",
      "50%        3.000000\n",
      "75%        4.000000\n",
      "max        5.000000\n",
      "Name: goout, dtype: float64\n"
     ]
    },
    {
     "data": {
      "image/png": "[encoded data removed]",
      "text/plain": [
       "<Figure size 432x288 with 2 Axes>"
      ]
     },
     "metadata": {
      "needs_background": "light"
     },
     "output_type": "display_data"
    }
   ],
   "source": [
    "look_at_col(df,numeric_col[9])"
   ]
  },
  {
   "cell_type": "markdown",
   "id": "38ed13fe",
   "metadata": {},
   "source": [
    "Условие к столбцу:\n",
    "    \n",
    "goout — проведение времени с друзьями (от 1 - очень мало до 5 - очень много)\n",
    "\n",
    "В соответствии с условием, выбросы не обнаружены.\n",
    "\n",
    "Вывод:\n",
    "\n",
    "Заметно, что в среднем у учеников в выборке от 3- среднее и выше показатель времени провождения с друзьями.\n",
    "К слову. График немного напоминает предыдущий. Очевидна зависимость между количеством свободного времени и времени провождения с друзьями. "
   ]
  },
  {
   "cell_type": "markdown",
   "id": "8661d8af",
   "metadata": {},
   "source": [
    "### Анализируем столбец health."
   ]
  },
  {
   "cell_type": "code",
   "execution_count": 45,
   "id": "da521c01",
   "metadata": {},
   "outputs": [
    {
     "name": "stdout",
     "output_type": "stream",
     "text": [
      "Анализируем столбец health \n",
      "Уникальные значения : [ 3.  5.  1.  2.  4. nan]\n",
      "---------------------------------------------------------\n",
      "Кол-во нулевых значение 13 \n",
      "Мода - 0    5.0\n",
      "dtype: float64\n",
      "count    332.000000\n",
      "mean       3.469880\n",
      "std        1.386925\n",
      "min        1.000000\n",
      "25%        3.000000\n",
      "50%        4.000000\n",
      "75%        5.000000\n",
      "max        5.000000\n",
      "Name: health, dtype: float64\n"
     ]
    },
    {
     "data": {
      "image/png": "[encoded data removed]",
      "text/plain": [
       "<Figure size 432x288 with 2 Axes>"
      ]
     },
     "metadata": {
      "needs_background": "light"
     },
     "output_type": "display_data"
    }
   ],
   "source": [
    "look_at_col(df,numeric_col[10])"
   ]
  },
  {
   "cell_type": "markdown",
   "id": "53201eb5",
   "metadata": {},
   "source": [
    "Условие к столбцу:\n",
    "    \n",
    "**health** — текущее состояние здоровья (от 1 - очень плохо до 5 - очень хорошо)\n",
    "\n",
    "В соответствии с условием, выбросы не обнаружены.\n",
    "\n",
    "Вывод:\n",
    "\n",
    "Согласно медиане и среднему, большинство учеников в выборке имеют нормальные и выше показатели здоровья.  "
   ]
  },
  {
   "cell_type": "markdown",
   "id": "a1cd81d6",
   "metadata": {},
   "source": [
    "### Анализируем столбец absences ."
   ]
  },
  {
   "cell_type": "code",
   "execution_count": 46,
   "id": "ceca9473",
   "metadata": {},
   "outputs": [
    {
     "name": "stdout",
     "output_type": "stream",
     "text": [
      "Анализируем столбец absences \n",
      "Уникальные значения : [  6.   4.  10.   2.   0.  16.  nan   7.   8.  25.  14.  12.  54.  18.\n",
      "  26.  56.  24.  28.   5.  13.  15.  22.   3. 385.  20.  21.   1.   9.\n",
      "  38.  40.  23.  11.  17. 212.]\n",
      "---------------------------------------------------------\n",
      "Кол-во нулевых значение 12 \n",
      "Мода - 0    0.0\n",
      "dtype: float64\n",
      "count    333.000000\n",
      "mean       7.315315\n",
      "std       24.755302\n",
      "min        0.000000\n",
      "25%        0.000000\n",
      "50%        4.000000\n",
      "75%        8.000000\n",
      "max      385.000000\n",
      "Name: absences, dtype: float64\n"
     ]
    },
    {
     "data": {
      "image/png": "[encoded data removed]",
      "text/plain": [
       "<Figure size 432x288 with 2 Axes>"
      ]
     },
     "metadata": {
      "needs_background": "light"
     },
     "output_type": "display_data"
    }
   ],
   "source": [
    "look_at_col(df, numeric_col[11])"
   ]
  },
  {
   "cell_type": "markdown",
   "id": "3687c360",
   "metadata": {},
   "source": [
    "Условие к столбцу:\n",
    "    \n",
    "**absences** — количество пропущенных занятий\n",
    "\n",
    "Наблюдается большой разброс значение. Значений меньше 0 нет. Значит выбросы слева у нас отсуствуют. Выведем ящик с усами, для более детального анализа."
   ]
  },
  {
   "cell_type": "code",
   "execution_count": 47,
   "id": "19903fff",
   "metadata": {},
   "outputs": [
    {
     "data": {
      "text/plain": [
       "<AxesSubplot:xlabel='absences'>"
      ]
     },
     "execution_count": 47,
     "metadata": {},
     "output_type": "execute_result"
    },
    {
     "data": {
      "image/png": "[encoded data removed]",
      "text/plain": [
       "<Figure size 432x288 with 1 Axes>"
      ]
     },
     "metadata": {
      "needs_background": "light"
     },
     "output_type": "display_data"
    }
   ],
   "source": [
    "sns.boxplot(x = numeric_col[11], data = df)"
   ]
  },
  {
   "cell_type": "markdown",
   "id": "c65626a3",
   "metadata": {},
   "source": [
    "как видим. У нас явные выбросы со значением > 200, посмотрим на эти данные."
   ]
  },
  {
   "cell_type": "code",
   "execution_count": 48,
   "id": "df2e9c3d",
   "metadata": {},
   "outputs": [
    {
     "data": {
      "text/html": [
       "<div>\n",
       "<style scoped>\n",
       "    .dataframe tbody tr th:only-of-type {\n",
       "        vertical-align: middle;\n",
       "    }\n",
       "\n",
       "    .dataframe tbody tr th {\n",
       "        vertical-align: top;\n",
       "    }\n",
       "\n",
       "    .dataframe thead th {\n",
       "        text-align: right;\n",
       "    }\n",
       "</style>\n",
       "<table border=\"1\" class=\"dataframe\">\n",
       "  <thead>\n",
       "    <tr style=\"text-align: right;\">\n",
       "      <th></th>\n",
       "      <th>school</th>\n",
       "      <th>sex</th>\n",
       "      <th>age</th>\n",
       "      <th>address</th>\n",
       "      <th>famsize</th>\n",
       "      <th>Pstatus</th>\n",
       "      <th>Medu</th>\n",
       "      <th>Fedu</th>\n",
       "      <th>Mjob</th>\n",
       "      <th>Fjob</th>\n",
       "      <th>reason</th>\n",
       "      <th>guardian</th>\n",
       "      <th>traveltime</th>\n",
       "      <th>studytime</th>\n",
       "      <th>failures</th>\n",
       "      <th>schoolsup</th>\n",
       "      <th>famsup</th>\n",
       "      <th>paid</th>\n",
       "      <th>activities</th>\n",
       "      <th>nursery</th>\n",
       "      <th>studytime, granular</th>\n",
       "      <th>higher</th>\n",
       "      <th>internet</th>\n",
       "      <th>romantic</th>\n",
       "      <th>famrel</th>\n",
       "      <th>freetime</th>\n",
       "      <th>goout</th>\n",
       "      <th>health</th>\n",
       "      <th>absences</th>\n",
       "      <th>score</th>\n",
       "    </tr>\n",
       "  </thead>\n",
       "  <tbody>\n",
       "    <tr>\n",
       "      <th>222</th>\n",
       "      <td>GP</td>\n",
       "      <td>F</td>\n",
       "      <td>16</td>\n",
       "      <td>U</td>\n",
       "      <td>GT3</td>\n",
       "      <td>T</td>\n",
       "      <td>2.0</td>\n",
       "      <td>3.0</td>\n",
       "      <td>services</td>\n",
       "      <td>teacher</td>\n",
       "      <td>other</td>\n",
       "      <td>mother</td>\n",
       "      <td>1.0</td>\n",
       "      <td>2.0</td>\n",
       "      <td>4.0</td>\n",
       "      <td>yes</td>\n",
       "      <td>NaN</td>\n",
       "      <td>no</td>\n",
       "      <td>no</td>\n",
       "      <td>yes</td>\n",
       "      <td>-6.0</td>\n",
       "      <td>yes</td>\n",
       "      <td>yes</td>\n",
       "      <td>no</td>\n",
       "      <td>2.0</td>\n",
       "      <td>3.0</td>\n",
       "      <td>1.0</td>\n",
       "      <td>3.0</td>\n",
       "      <td>385.0</td>\n",
       "      <td>85.0</td>\n",
       "    </tr>\n",
       "    <tr>\n",
       "      <th>390</th>\n",
       "      <td>MS</td>\n",
       "      <td>M</td>\n",
       "      <td>20</td>\n",
       "      <td>U</td>\n",
       "      <td>LE3</td>\n",
       "      <td>A</td>\n",
       "      <td>2.0</td>\n",
       "      <td>2.0</td>\n",
       "      <td>services</td>\n",
       "      <td>services</td>\n",
       "      <td>course</td>\n",
       "      <td>NaN</td>\n",
       "      <td>1.0</td>\n",
       "      <td>2.0</td>\n",
       "      <td>2.0</td>\n",
       "      <td>no</td>\n",
       "      <td>yes</td>\n",
       "      <td>yes</td>\n",
       "      <td>no</td>\n",
       "      <td>yes</td>\n",
       "      <td>-6.0</td>\n",
       "      <td>yes</td>\n",
       "      <td>no</td>\n",
       "      <td>no</td>\n",
       "      <td>5.0</td>\n",
       "      <td>5.0</td>\n",
       "      <td>4.0</td>\n",
       "      <td>4.0</td>\n",
       "      <td>212.0</td>\n",
       "      <td>45.0</td>\n",
       "    </tr>\n",
       "  </tbody>\n",
       "</table>\n",
       "</div>"
      ],
      "text/plain": [
       "    school sex  age address famsize Pstatus  Medu  Fedu      Mjob      Fjob  \\\n",
       "222     GP   F   16       U     GT3       T   2.0   3.0  services   teacher   \n",
       "390     MS   M   20       U     LE3       A   2.0   2.0  services  services   \n",
       "\n",
       "     reason guardian  traveltime  studytime  failures schoolsup famsup paid  \\\n",
       "222   other   mother         1.0        2.0       4.0       yes    NaN   no   \n",
       "390  course      NaN         1.0        2.0       2.0        no    yes  yes   \n",
       "\n",
       "    activities nursery  studytime, granular higher internet romantic  famrel  \\\n",
       "222         no     yes                 -6.0    yes      yes       no     2.0   \n",
       "390         no     yes                 -6.0    yes       no       no     5.0   \n",
       "\n",
       "     freetime  goout  health  absences  score  \n",
       "222       3.0    1.0     3.0     385.0   85.0  \n",
       "390       5.0    4.0     4.0     212.0   45.0  "
      ]
     },
     "execution_count": 48,
     "metadata": {},
     "output_type": "execute_result"
    }
   ],
   "source": [
    "df[df[numeric_col[11]] > 200]"
   ]
  },
  {
   "cell_type": "markdown",
   "id": "358ffec3",
   "metadata": {},
   "source": [
    "Исходя из исходных условий, нам не известно максимальное число часов занятий в неделю, однако исключим данные значение, т.к. такие сильные выбросы очень сильно повлияют на наш дальнейший анализ.\n",
    "\n",
    "Так же следуют отметить, что студент 222 имеет довольно-таки высокие баллы по математике. Возможно это будущий гений, который пропускает занятия по какой-либо причине.\n",
    "\n",
    "Удалим данные из таблицы."
   ]
  },
  {
   "cell_type": "code",
   "execution_count": 49,
   "id": "3a4a2a8f",
   "metadata": {},
   "outputs": [],
   "source": [
    "df_2 = df[df[numeric_col[11]] < 200].copy()"
   ]
  },
  {
   "cell_type": "markdown",
   "id": "26eaf4bf",
   "metadata": {},
   "source": [
    "В связи с тем, что данных у нас и так мало, не хотелось бы удалять просто так данные которые выходят за границы межквартильного размаха. \n",
    "Предлагаю посмотреть подробнее глянуть на строки которые попали за межквартальный размах. "
   ]
  },
  {
   "cell_type": "code",
   "execution_count": 50,
   "id": "e4b7feac",
   "metadata": {},
   "outputs": [
    {
     "name": "stdout",
     "output_type": "stream",
     "text": [
      "Верхняя граница межкватрильного размаха равна  12.0\n"
     ]
    }
   ],
   "source": [
    "perc25 = df.absences.quantile(0.25)\n",
    "perc75 = df.absences.quantile(0.75)\n",
    "IQR = perc75 - perc25\n",
    "max_IQR = IQR * 1.5\n",
    "print(\"Верхняя граница межкватрильного размаха равна \", max_IQR)"
   ]
  },
  {
   "cell_type": "code",
   "execution_count": 51,
   "id": "6fac2f93",
   "metadata": {},
   "outputs": [
    {
     "name": "stdout",
     "output_type": "stream",
     "text": [
      "Анализируем столбец absences \n",
      "Уникальные значения : [ 6.  4. 10.  2.  0. 16.  7.  8. 25. 14. 12. 54. 18. 26. 56. 24. 28.  5.\n",
      " 13. 15. 22.  3. 20. 21.  1.  9. 38. 40. 23. 11. 17.]\n",
      "---------------------------------------------------------\n",
      "Кол-во нулевых значение 0 \n",
      "Мода - 0    0.0\n",
      "dtype: float64\n",
      "count    331.000000\n",
      "mean       5.555891\n",
      "std        7.363241\n",
      "min        0.000000\n",
      "25%        0.000000\n",
      "50%        4.000000\n",
      "75%        8.000000\n",
      "max       56.000000\n",
      "Name: absences, dtype: float64\n"
     ]
    },
    {
     "data": {
      "image/png": "[encoded data removed]",
      "text/plain": [
       "<Figure size 432x288 with 2 Axes>"
      ]
     },
     "metadata": {
      "needs_background": "light"
     },
     "output_type": "display_data"
    }
   ],
   "source": [
    "look_at_col(df_2, numeric_col[11])"
   ]
  },
  {
   "cell_type": "markdown",
   "id": "0a9ae456",
   "metadata": {},
   "source": [
    "Допускаем возможность, что данные верные. \n",
    "Вывод. \n",
    "Только около 90 человек не имеют пропусков, это всего примерно 30 процентов от всех учеников.\n",
    "\n",
    "Переходим к следующему столбцу."
   ]
  },
  {
   "cell_type": "markdown",
   "id": "037eedca",
   "metadata": {},
   "source": [
    "### Анализируем столбец score."
   ]
  },
  {
   "cell_type": "code",
   "execution_count": 52,
   "id": "5b2299d1",
   "metadata": {},
   "outputs": [
    {
     "name": "stdout",
     "output_type": "stream",
     "text": [
      "Анализируем столбец score \n",
      "Уникальные значения : [ 30.  50.  75.  55.  45.  80.  70.  25.  60.  85.  90.  65. 100.  35.\n",
      "  40.  95.   0.  nan  20.]\n",
      "---------------------------------------------------------\n",
      "Кол-во нулевых значение 5 \n",
      "Мода - 0    50.0\n",
      "dtype: float64\n",
      "count    326.000000\n",
      "mean      52.147239\n",
      "std       22.401712\n",
      "min        0.000000\n",
      "25%       41.250000\n",
      "50%       55.000000\n",
      "75%       65.000000\n",
      "max      100.000000\n",
      "Name: score, dtype: float64\n"
     ]
    },
    {
     "data": {
      "image/png": "[encoded data removed]",
      "text/plain": [
       "<Figure size 432x288 with 2 Axes>"
      ]
     },
     "metadata": {
      "needs_background": "light"
     },
     "output_type": "display_data"
    }
   ],
   "source": [
    "look_at_col(df_2, numeric_col[12])"
   ]
  },
  {
   "cell_type": "markdown",
   "id": "5590c670",
   "metadata": {},
   "source": [
    "Условие к столбцу:\n",
    "\n",
    "**score** — баллы по госэкзамену по математике.\n",
    "\n",
    "Предполагаем, что максимальный бал по экзамену 100%. В соответствии с данным условием, выбросы не обнаружены.\n",
    "\n",
    "Вывод:\n",
    "В целом график похож на график нормально распределения, кроме 0. Как то с трудов вериться что около 10% от выборки набрали всего 0 баллов. С данным показателем надо быть особенно внимательным.  \n"
   ]
  },
  {
   "cell_type": "markdown",
   "id": "b5c20478",
   "metadata": {},
   "source": [
    "Давайте посмотрим на эти данные."
   ]
  },
  {
   "cell_type": "code",
   "execution_count": 53,
   "id": "3d289baa",
   "metadata": {
    "scrolled": false
   },
   "outputs": [],
   "source": [
    "df_score_zero = df_2[df_2.score == 0]"
   ]
  },
  {
   "cell_type": "code",
   "execution_count": 54,
   "id": "faee1418",
   "metadata": {},
   "outputs": [
    {
     "data": {
      "text/html": [
       "<div>\n",
       "<style scoped>\n",
       "    .dataframe tbody tr th:only-of-type {\n",
       "        vertical-align: middle;\n",
       "    }\n",
       "\n",
       "    .dataframe tbody tr th {\n",
       "        vertical-align: top;\n",
       "    }\n",
       "\n",
       "    .dataframe thead th {\n",
       "        text-align: right;\n",
       "    }\n",
       "</style>\n",
       "<table border=\"1\" class=\"dataframe\">\n",
       "  <thead>\n",
       "    <tr style=\"text-align: right;\">\n",
       "      <th></th>\n",
       "      <th>school</th>\n",
       "      <th>sex</th>\n",
       "      <th>age</th>\n",
       "      <th>address</th>\n",
       "      <th>famsize</th>\n",
       "      <th>Pstatus</th>\n",
       "      <th>Medu</th>\n",
       "      <th>Fedu</th>\n",
       "      <th>Mjob</th>\n",
       "      <th>Fjob</th>\n",
       "      <th>reason</th>\n",
       "      <th>guardian</th>\n",
       "      <th>traveltime</th>\n",
       "      <th>studytime</th>\n",
       "      <th>failures</th>\n",
       "      <th>schoolsup</th>\n",
       "      <th>famsup</th>\n",
       "      <th>paid</th>\n",
       "      <th>activities</th>\n",
       "      <th>nursery</th>\n",
       "      <th>studytime, granular</th>\n",
       "      <th>higher</th>\n",
       "      <th>internet</th>\n",
       "      <th>romantic</th>\n",
       "      <th>famrel</th>\n",
       "      <th>freetime</th>\n",
       "      <th>goout</th>\n",
       "      <th>health</th>\n",
       "      <th>absences</th>\n",
       "      <th>score</th>\n",
       "    </tr>\n",
       "  </thead>\n",
       "  <tbody>\n",
       "    <tr>\n",
       "      <th>128</th>\n",
       "      <td>GP</td>\n",
       "      <td>M</td>\n",
       "      <td>18</td>\n",
       "      <td>R</td>\n",
       "      <td>NaN</td>\n",
       "      <td>T</td>\n",
       "      <td>2.0</td>\n",
       "      <td>2.0</td>\n",
       "      <td>NaN</td>\n",
       "      <td>other</td>\n",
       "      <td>reputation</td>\n",
       "      <td>mother</td>\n",
       "      <td>1.0</td>\n",
       "      <td>1.0</td>\n",
       "      <td>2.0</td>\n",
       "      <td>no</td>\n",
       "      <td>yes</td>\n",
       "      <td>no</td>\n",
       "      <td>yes</td>\n",
       "      <td>yes</td>\n",
       "      <td>-3.0</td>\n",
       "      <td>yes</td>\n",
       "      <td>yes</td>\n",
       "      <td>no</td>\n",
       "      <td>3.0</td>\n",
       "      <td>3.0</td>\n",
       "      <td>3.0</td>\n",
       "      <td>4.0</td>\n",
       "      <td>0.0</td>\n",
       "      <td>0.0</td>\n",
       "    </tr>\n",
       "    <tr>\n",
       "      <th>130</th>\n",
       "      <td>GP</td>\n",
       "      <td>F</td>\n",
       "      <td>15</td>\n",
       "      <td>R</td>\n",
       "      <td>GT3</td>\n",
       "      <td>T</td>\n",
       "      <td>3.0</td>\n",
       "      <td>4.0</td>\n",
       "      <td>services</td>\n",
       "      <td>teacher</td>\n",
       "      <td>course</td>\n",
       "      <td>father</td>\n",
       "      <td>2.0</td>\n",
       "      <td>3.0</td>\n",
       "      <td>2.0</td>\n",
       "      <td>no</td>\n",
       "      <td>yes</td>\n",
       "      <td>no</td>\n",
       "      <td>no</td>\n",
       "      <td>yes</td>\n",
       "      <td>-9.0</td>\n",
       "      <td>yes</td>\n",
       "      <td>yes</td>\n",
       "      <td>yes</td>\n",
       "      <td>4.0</td>\n",
       "      <td>2.0</td>\n",
       "      <td>2.0</td>\n",
       "      <td>5.0</td>\n",
       "      <td>0.0</td>\n",
       "      <td>0.0</td>\n",
       "    </tr>\n",
       "    <tr>\n",
       "      <th>131</th>\n",
       "      <td>GP</td>\n",
       "      <td>F</td>\n",
       "      <td>15</td>\n",
       "      <td>U</td>\n",
       "      <td>GT3</td>\n",
       "      <td>NaN</td>\n",
       "      <td>1.0</td>\n",
       "      <td>1.0</td>\n",
       "      <td>at_home</td>\n",
       "      <td>other</td>\n",
       "      <td>course</td>\n",
       "      <td>mother</td>\n",
       "      <td>3.0</td>\n",
       "      <td>1.0</td>\n",
       "      <td>4.0</td>\n",
       "      <td>no</td>\n",
       "      <td>yes</td>\n",
       "      <td>no</td>\n",
       "      <td>yes</td>\n",
       "      <td>no</td>\n",
       "      <td>-3.0</td>\n",
       "      <td>yes</td>\n",
       "      <td>yes</td>\n",
       "      <td>yes</td>\n",
       "      <td>4.0</td>\n",
       "      <td>NaN</td>\n",
       "      <td>3.0</td>\n",
       "      <td>4.0</td>\n",
       "      <td>0.0</td>\n",
       "      <td>0.0</td>\n",
       "    </tr>\n",
       "    <tr>\n",
       "      <th>134</th>\n",
       "      <td>GP</td>\n",
       "      <td>M</td>\n",
       "      <td>15</td>\n",
       "      <td>R</td>\n",
       "      <td>GT3</td>\n",
       "      <td>T</td>\n",
       "      <td>3.0</td>\n",
       "      <td>4.0</td>\n",
       "      <td>at_home</td>\n",
       "      <td>teacher</td>\n",
       "      <td>course</td>\n",
       "      <td>mother</td>\n",
       "      <td>NaN</td>\n",
       "      <td>2.0</td>\n",
       "      <td>4.0</td>\n",
       "      <td>no</td>\n",
       "      <td>yes</td>\n",
       "      <td>no</td>\n",
       "      <td>no</td>\n",
       "      <td>yes</td>\n",
       "      <td>-6.0</td>\n",
       "      <td>yes</td>\n",
       "      <td>no</td>\n",
       "      <td>yes</td>\n",
       "      <td>5.0</td>\n",
       "      <td>3.0</td>\n",
       "      <td>3.0</td>\n",
       "      <td>5.0</td>\n",
       "      <td>0.0</td>\n",
       "      <td>0.0</td>\n",
       "    </tr>\n",
       "    <tr>\n",
       "      <th>135</th>\n",
       "      <td>GP</td>\n",
       "      <td>F</td>\n",
       "      <td>15</td>\n",
       "      <td>U</td>\n",
       "      <td>GT3</td>\n",
       "      <td>T</td>\n",
       "      <td>4.0</td>\n",
       "      <td>4.0</td>\n",
       "      <td>services</td>\n",
       "      <td>NaN</td>\n",
       "      <td>course</td>\n",
       "      <td>mother</td>\n",
       "      <td>1.0</td>\n",
       "      <td>3.0</td>\n",
       "      <td>4.0</td>\n",
       "      <td>no</td>\n",
       "      <td>yes</td>\n",
       "      <td>no</td>\n",
       "      <td>yes</td>\n",
       "      <td>yes</td>\n",
       "      <td>-9.0</td>\n",
       "      <td>yes</td>\n",
       "      <td>yes</td>\n",
       "      <td>yes</td>\n",
       "      <td>4.0</td>\n",
       "      <td>3.0</td>\n",
       "      <td>3.0</td>\n",
       "      <td>5.0</td>\n",
       "      <td>0.0</td>\n",
       "      <td>0.0</td>\n",
       "    </tr>\n",
       "    <tr>\n",
       "      <th>140</th>\n",
       "      <td>GP</td>\n",
       "      <td>M</td>\n",
       "      <td>15</td>\n",
       "      <td>U</td>\n",
       "      <td>GT3</td>\n",
       "      <td>T</td>\n",
       "      <td>4.0</td>\n",
       "      <td>3.0</td>\n",
       "      <td>teacher</td>\n",
       "      <td>services</td>\n",
       "      <td>NaN</td>\n",
       "      <td>father</td>\n",
       "      <td>2.0</td>\n",
       "      <td>4.0</td>\n",
       "      <td>4.0</td>\n",
       "      <td>yes</td>\n",
       "      <td>yes</td>\n",
       "      <td>no</td>\n",
       "      <td>NaN</td>\n",
       "      <td>yes</td>\n",
       "      <td>-12.0</td>\n",
       "      <td>yes</td>\n",
       "      <td>yes</td>\n",
       "      <td>no</td>\n",
       "      <td>2.0</td>\n",
       "      <td>2.0</td>\n",
       "      <td>2.0</td>\n",
       "      <td>3.0</td>\n",
       "      <td>0.0</td>\n",
       "      <td>0.0</td>\n",
       "    </tr>\n",
       "    <tr>\n",
       "      <th>144</th>\n",
       "      <td>GP</td>\n",
       "      <td>M</td>\n",
       "      <td>17</td>\n",
       "      <td>U</td>\n",
       "      <td>GT3</td>\n",
       "      <td>T</td>\n",
       "      <td>2.0</td>\n",
       "      <td>1.0</td>\n",
       "      <td>other</td>\n",
       "      <td>other</td>\n",
       "      <td>home</td>\n",
       "      <td>NaN</td>\n",
       "      <td>1.0</td>\n",
       "      <td>1.0</td>\n",
       "      <td>3.0</td>\n",
       "      <td>no</td>\n",
       "      <td>yes</td>\n",
       "      <td>no</td>\n",
       "      <td>no</td>\n",
       "      <td>yes</td>\n",
       "      <td>-3.0</td>\n",
       "      <td>yes</td>\n",
       "      <td>yes</td>\n",
       "      <td>no</td>\n",
       "      <td>5.0</td>\n",
       "      <td>4.0</td>\n",
       "      <td>5.0</td>\n",
       "      <td>5.0</td>\n",
       "      <td>0.0</td>\n",
       "      <td>0.0</td>\n",
       "    </tr>\n",
       "    <tr>\n",
       "      <th>146</th>\n",
       "      <td>GP</td>\n",
       "      <td>F</td>\n",
       "      <td>15</td>\n",
       "      <td>U</td>\n",
       "      <td>GT3</td>\n",
       "      <td>T</td>\n",
       "      <td>3.0</td>\n",
       "      <td>2.0</td>\n",
       "      <td>health</td>\n",
       "      <td>services</td>\n",
       "      <td>home</td>\n",
       "      <td>father</td>\n",
       "      <td>1.0</td>\n",
       "      <td>2.0</td>\n",
       "      <td>3.0</td>\n",
       "      <td>no</td>\n",
       "      <td>NaN</td>\n",
       "      <td>no</td>\n",
       "      <td>no</td>\n",
       "      <td>yes</td>\n",
       "      <td>-6.0</td>\n",
       "      <td>yes</td>\n",
       "      <td>yes</td>\n",
       "      <td>no</td>\n",
       "      <td>3.0</td>\n",
       "      <td>3.0</td>\n",
       "      <td>2.0</td>\n",
       "      <td>3.0</td>\n",
       "      <td>0.0</td>\n",
       "      <td>0.0</td>\n",
       "    </tr>\n",
       "    <tr>\n",
       "      <th>148</th>\n",
       "      <td>GP</td>\n",
       "      <td>M</td>\n",
       "      <td>16</td>\n",
       "      <td>U</td>\n",
       "      <td>GT3</td>\n",
       "      <td>T</td>\n",
       "      <td>4.0</td>\n",
       "      <td>4.0</td>\n",
       "      <td>teacher</td>\n",
       "      <td>teacher</td>\n",
       "      <td>course</td>\n",
       "      <td>mother</td>\n",
       "      <td>1.0</td>\n",
       "      <td>1.0</td>\n",
       "      <td>4.0</td>\n",
       "      <td>no</td>\n",
       "      <td>yes</td>\n",
       "      <td>NaN</td>\n",
       "      <td>no</td>\n",
       "      <td>yes</td>\n",
       "      <td>-3.0</td>\n",
       "      <td>no</td>\n",
       "      <td>yes</td>\n",
       "      <td>yes</td>\n",
       "      <td>3.0</td>\n",
       "      <td>3.0</td>\n",
       "      <td>2.0</td>\n",
       "      <td>5.0</td>\n",
       "      <td>0.0</td>\n",
       "      <td>0.0</td>\n",
       "    </tr>\n",
       "    <tr>\n",
       "      <th>153</th>\n",
       "      <td>GP</td>\n",
       "      <td>M</td>\n",
       "      <td>19</td>\n",
       "      <td>U</td>\n",
       "      <td>GT3</td>\n",
       "      <td>NaN</td>\n",
       "      <td>3.0</td>\n",
       "      <td>2.0</td>\n",
       "      <td>services</td>\n",
       "      <td>at_home</td>\n",
       "      <td>home</td>\n",
       "      <td>mother</td>\n",
       "      <td>1.0</td>\n",
       "      <td>1.0</td>\n",
       "      <td>NaN</td>\n",
       "      <td>no</td>\n",
       "      <td>yes</td>\n",
       "      <td>no</td>\n",
       "      <td>no</td>\n",
       "      <td>yes</td>\n",
       "      <td>-3.0</td>\n",
       "      <td>no</td>\n",
       "      <td>yes</td>\n",
       "      <td>yes</td>\n",
       "      <td>4.0</td>\n",
       "      <td>5.0</td>\n",
       "      <td>4.0</td>\n",
       "      <td>NaN</td>\n",
       "      <td>0.0</td>\n",
       "      <td>0.0</td>\n",
       "    </tr>\n",
       "    <tr>\n",
       "      <th>162</th>\n",
       "      <td>GP</td>\n",
       "      <td>M</td>\n",
       "      <td>16</td>\n",
       "      <td>U</td>\n",
       "      <td>LE3</td>\n",
       "      <td>T</td>\n",
       "      <td>1.0</td>\n",
       "      <td>2.0</td>\n",
       "      <td>other</td>\n",
       "      <td>other</td>\n",
       "      <td>course</td>\n",
       "      <td>mother</td>\n",
       "      <td>2.0</td>\n",
       "      <td>1.0</td>\n",
       "      <td>1.0</td>\n",
       "      <td>no</td>\n",
       "      <td>no</td>\n",
       "      <td>no</td>\n",
       "      <td>yes</td>\n",
       "      <td>yes</td>\n",
       "      <td>-3.0</td>\n",
       "      <td>yes</td>\n",
       "      <td>NaN</td>\n",
       "      <td>NaN</td>\n",
       "      <td>4.0</td>\n",
       "      <td>4.0</td>\n",
       "      <td>4.0</td>\n",
       "      <td>5.0</td>\n",
       "      <td>0.0</td>\n",
       "      <td>0.0</td>\n",
       "    </tr>\n",
       "    <tr>\n",
       "      <th>168</th>\n",
       "      <td>GP</td>\n",
       "      <td>F</td>\n",
       "      <td>16</td>\n",
       "      <td>NaN</td>\n",
       "      <td>GT3</td>\n",
       "      <td>T</td>\n",
       "      <td>2.0</td>\n",
       "      <td>2.0</td>\n",
       "      <td>other</td>\n",
       "      <td>other</td>\n",
       "      <td>home</td>\n",
       "      <td>mother</td>\n",
       "      <td>1.0</td>\n",
       "      <td>2.0</td>\n",
       "      <td>4.0</td>\n",
       "      <td>no</td>\n",
       "      <td>yes</td>\n",
       "      <td>yes</td>\n",
       "      <td>no</td>\n",
       "      <td>no</td>\n",
       "      <td>-6.0</td>\n",
       "      <td>yes</td>\n",
       "      <td>yes</td>\n",
       "      <td>no</td>\n",
       "      <td>5.0</td>\n",
       "      <td>1.0</td>\n",
       "      <td>5.0</td>\n",
       "      <td>4.0</td>\n",
       "      <td>0.0</td>\n",
       "      <td>0.0</td>\n",
       "    </tr>\n",
       "    <tr>\n",
       "      <th>170</th>\n",
       "      <td>GP</td>\n",
       "      <td>M</td>\n",
       "      <td>16</td>\n",
       "      <td>U</td>\n",
       "      <td>GT3</td>\n",
       "      <td>T</td>\n",
       "      <td>3.0</td>\n",
       "      <td>4.0</td>\n",
       "      <td>other</td>\n",
       "      <td>other</td>\n",
       "      <td>course</td>\n",
       "      <td>father</td>\n",
       "      <td>3.0</td>\n",
       "      <td>1.0</td>\n",
       "      <td>NaN</td>\n",
       "      <td>no</td>\n",
       "      <td>yes</td>\n",
       "      <td>no</td>\n",
       "      <td>yes</td>\n",
       "      <td>no</td>\n",
       "      <td>-3.0</td>\n",
       "      <td>NaN</td>\n",
       "      <td>yes</td>\n",
       "      <td>no</td>\n",
       "      <td>3.0</td>\n",
       "      <td>4.0</td>\n",
       "      <td>5.0</td>\n",
       "      <td>2.0</td>\n",
       "      <td>0.0</td>\n",
       "      <td>0.0</td>\n",
       "    </tr>\n",
       "    <tr>\n",
       "      <th>173</th>\n",
       "      <td>GP</td>\n",
       "      <td>F</td>\n",
       "      <td>16</td>\n",
       "      <td>U</td>\n",
       "      <td>GT3</td>\n",
       "      <td>T</td>\n",
       "      <td>1.0</td>\n",
       "      <td>3.0</td>\n",
       "      <td>at_home</td>\n",
       "      <td>services</td>\n",
       "      <td>home</td>\n",
       "      <td>NaN</td>\n",
       "      <td>1.0</td>\n",
       "      <td>2.0</td>\n",
       "      <td>3.0</td>\n",
       "      <td>no</td>\n",
       "      <td>no</td>\n",
       "      <td>no</td>\n",
       "      <td>yes</td>\n",
       "      <td>no</td>\n",
       "      <td>-6.0</td>\n",
       "      <td>yes</td>\n",
       "      <td>yes</td>\n",
       "      <td>yes</td>\n",
       "      <td>4.0</td>\n",
       "      <td>3.0</td>\n",
       "      <td>5.0</td>\n",
       "      <td>3.0</td>\n",
       "      <td>0.0</td>\n",
       "      <td>0.0</td>\n",
       "    </tr>\n",
       "    <tr>\n",
       "      <th>221</th>\n",
       "      <td>GP</td>\n",
       "      <td>F</td>\n",
       "      <td>17</td>\n",
       "      <td>U</td>\n",
       "      <td>NaN</td>\n",
       "      <td>T</td>\n",
       "      <td>1.0</td>\n",
       "      <td>1.0</td>\n",
       "      <td>at_home</td>\n",
       "      <td>other</td>\n",
       "      <td>reputation</td>\n",
       "      <td>mother</td>\n",
       "      <td>1.0</td>\n",
       "      <td>3.0</td>\n",
       "      <td>1.0</td>\n",
       "      <td>no</td>\n",
       "      <td>yes</td>\n",
       "      <td>no</td>\n",
       "      <td>yes</td>\n",
       "      <td>yes</td>\n",
       "      <td>-9.0</td>\n",
       "      <td>yes</td>\n",
       "      <td>no</td>\n",
       "      <td>yes</td>\n",
       "      <td>4.0</td>\n",
       "      <td>3.0</td>\n",
       "      <td>NaN</td>\n",
       "      <td>5.0</td>\n",
       "      <td>0.0</td>\n",
       "      <td>0.0</td>\n",
       "    </tr>\n",
       "    <tr>\n",
       "      <th>239</th>\n",
       "      <td>GP</td>\n",
       "      <td>M</td>\n",
       "      <td>18</td>\n",
       "      <td>U</td>\n",
       "      <td>GT3</td>\n",
       "      <td>NaN</td>\n",
       "      <td>NaN</td>\n",
       "      <td>2.0</td>\n",
       "      <td>other</td>\n",
       "      <td>services</td>\n",
       "      <td>reputation</td>\n",
       "      <td>father</td>\n",
       "      <td>1.0</td>\n",
       "      <td>2.0</td>\n",
       "      <td>1.0</td>\n",
       "      <td>no</td>\n",
       "      <td>no</td>\n",
       "      <td>no</td>\n",
       "      <td>no</td>\n",
       "      <td>yes</td>\n",
       "      <td>-6.0</td>\n",
       "      <td>no</td>\n",
       "      <td>NaN</td>\n",
       "      <td>NaN</td>\n",
       "      <td>5.0</td>\n",
       "      <td>5.0</td>\n",
       "      <td>4.0</td>\n",
       "      <td>2.0</td>\n",
       "      <td>0.0</td>\n",
       "      <td>0.0</td>\n",
       "    </tr>\n",
       "    <tr>\n",
       "      <th>242</th>\n",
       "      <td>GP</td>\n",
       "      <td>M</td>\n",
       "      <td>16</td>\n",
       "      <td>U</td>\n",
       "      <td>LE3</td>\n",
       "      <td>T</td>\n",
       "      <td>4.0</td>\n",
       "      <td>3.0</td>\n",
       "      <td>teacher</td>\n",
       "      <td>other</td>\n",
       "      <td>course</td>\n",
       "      <td>mother</td>\n",
       "      <td>1.0</td>\n",
       "      <td>1.0</td>\n",
       "      <td>4.0</td>\n",
       "      <td>no</td>\n",
       "      <td>no</td>\n",
       "      <td>no</td>\n",
       "      <td>yes</td>\n",
       "      <td>no</td>\n",
       "      <td>-3.0</td>\n",
       "      <td>yes</td>\n",
       "      <td>yes</td>\n",
       "      <td>no</td>\n",
       "      <td>5.0</td>\n",
       "      <td>4.0</td>\n",
       "      <td>5.0</td>\n",
       "      <td>3.0</td>\n",
       "      <td>0.0</td>\n",
       "      <td>0.0</td>\n",
       "    </tr>\n",
       "    <tr>\n",
       "      <th>264</th>\n",
       "      <td>GP</td>\n",
       "      <td>F</td>\n",
       "      <td>18</td>\n",
       "      <td>U</td>\n",
       "      <td>GT3</td>\n",
       "      <td>T</td>\n",
       "      <td>2.0</td>\n",
       "      <td>2.0</td>\n",
       "      <td>at_home</td>\n",
       "      <td>services</td>\n",
       "      <td>home</td>\n",
       "      <td>mother</td>\n",
       "      <td>1.0</td>\n",
       "      <td>3.0</td>\n",
       "      <td>4.0</td>\n",
       "      <td>no</td>\n",
       "      <td>yes</td>\n",
       "      <td>yes</td>\n",
       "      <td>yes</td>\n",
       "      <td>yes</td>\n",
       "      <td>-9.0</td>\n",
       "      <td>yes</td>\n",
       "      <td>yes</td>\n",
       "      <td>yes</td>\n",
       "      <td>4.0</td>\n",
       "      <td>3.0</td>\n",
       "      <td>3.0</td>\n",
       "      <td>3.0</td>\n",
       "      <td>0.0</td>\n",
       "      <td>0.0</td>\n",
       "    </tr>\n",
       "    <tr>\n",
       "      <th>269</th>\n",
       "      <td>GP</td>\n",
       "      <td>F</td>\n",
       "      <td>18</td>\n",
       "      <td>R</td>\n",
       "      <td>GT3</td>\n",
       "      <td>T</td>\n",
       "      <td>2.0</td>\n",
       "      <td>1.0</td>\n",
       "      <td>other</td>\n",
       "      <td>other</td>\n",
       "      <td>reputation</td>\n",
       "      <td>mother</td>\n",
       "      <td>2.0</td>\n",
       "      <td>2.0</td>\n",
       "      <td>4.0</td>\n",
       "      <td>no</td>\n",
       "      <td>NaN</td>\n",
       "      <td>no</td>\n",
       "      <td>no</td>\n",
       "      <td>yes</td>\n",
       "      <td>-6.0</td>\n",
       "      <td>no</td>\n",
       "      <td>yes</td>\n",
       "      <td>yes</td>\n",
       "      <td>4.0</td>\n",
       "      <td>3.0</td>\n",
       "      <td>5.0</td>\n",
       "      <td>3.0</td>\n",
       "      <td>0.0</td>\n",
       "      <td>0.0</td>\n",
       "    </tr>\n",
       "    <tr>\n",
       "      <th>296</th>\n",
       "      <td>GP</td>\n",
       "      <td>F</td>\n",
       "      <td>19</td>\n",
       "      <td>U</td>\n",
       "      <td>GT3</td>\n",
       "      <td>T</td>\n",
       "      <td>4.0</td>\n",
       "      <td>4.0</td>\n",
       "      <td>health</td>\n",
       "      <td>other</td>\n",
       "      <td>reputation</td>\n",
       "      <td>other</td>\n",
       "      <td>2.0</td>\n",
       "      <td>2.0</td>\n",
       "      <td>4.0</td>\n",
       "      <td>no</td>\n",
       "      <td>yes</td>\n",
       "      <td>yes</td>\n",
       "      <td>yes</td>\n",
       "      <td>yes</td>\n",
       "      <td>-6.0</td>\n",
       "      <td>yes</td>\n",
       "      <td>yes</td>\n",
       "      <td>no</td>\n",
       "      <td>2.0</td>\n",
       "      <td>3.0</td>\n",
       "      <td>4.0</td>\n",
       "      <td>2.0</td>\n",
       "      <td>0.0</td>\n",
       "      <td>0.0</td>\n",
       "    </tr>\n",
       "    <tr>\n",
       "      <th>316</th>\n",
       "      <td>GP</td>\n",
       "      <td>F</td>\n",
       "      <td>18</td>\n",
       "      <td>U</td>\n",
       "      <td>GT3</td>\n",
       "      <td>T</td>\n",
       "      <td>2.0</td>\n",
       "      <td>1.0</td>\n",
       "      <td>services</td>\n",
       "      <td>NaN</td>\n",
       "      <td>course</td>\n",
       "      <td>mother</td>\n",
       "      <td>2.0</td>\n",
       "      <td>2.0</td>\n",
       "      <td>4.0</td>\n",
       "      <td>no</td>\n",
       "      <td>yes</td>\n",
       "      <td>yes</td>\n",
       "      <td>yes</td>\n",
       "      <td>yes</td>\n",
       "      <td>-6.0</td>\n",
       "      <td>yes</td>\n",
       "      <td>yes</td>\n",
       "      <td>no</td>\n",
       "      <td>5.0</td>\n",
       "      <td>3.0</td>\n",
       "      <td>3.0</td>\n",
       "      <td>1.0</td>\n",
       "      <td>0.0</td>\n",
       "      <td>0.0</td>\n",
       "    </tr>\n",
       "    <tr>\n",
       "      <th>332</th>\n",
       "      <td>GP</td>\n",
       "      <td>F</td>\n",
       "      <td>18</td>\n",
       "      <td>U</td>\n",
       "      <td>GT3</td>\n",
       "      <td>T</td>\n",
       "      <td>3.0</td>\n",
       "      <td>3.0</td>\n",
       "      <td>services</td>\n",
       "      <td>services</td>\n",
       "      <td>home</td>\n",
       "      <td>mother</td>\n",
       "      <td>1.0</td>\n",
       "      <td>2.0</td>\n",
       "      <td>4.0</td>\n",
       "      <td>no</td>\n",
       "      <td>no</td>\n",
       "      <td>no</td>\n",
       "      <td>yes</td>\n",
       "      <td>NaN</td>\n",
       "      <td>-6.0</td>\n",
       "      <td>yes</td>\n",
       "      <td>yes</td>\n",
       "      <td>no</td>\n",
       "      <td>5.0</td>\n",
       "      <td>3.0</td>\n",
       "      <td>4.0</td>\n",
       "      <td>4.0</td>\n",
       "      <td>0.0</td>\n",
       "      <td>0.0</td>\n",
       "    </tr>\n",
       "    <tr>\n",
       "      <th>333</th>\n",
       "      <td>GP</td>\n",
       "      <td>F</td>\n",
       "      <td>18</td>\n",
       "      <td>U</td>\n",
       "      <td>LE3</td>\n",
       "      <td>NaN</td>\n",
       "      <td>2.0</td>\n",
       "      <td>2.0</td>\n",
       "      <td>other</td>\n",
       "      <td>other</td>\n",
       "      <td>home</td>\n",
       "      <td>other</td>\n",
       "      <td>1.0</td>\n",
       "      <td>2.0</td>\n",
       "      <td>4.0</td>\n",
       "      <td>no</td>\n",
       "      <td>no</td>\n",
       "      <td>no</td>\n",
       "      <td>yes</td>\n",
       "      <td>no</td>\n",
       "      <td>-6.0</td>\n",
       "      <td>yes</td>\n",
       "      <td>NaN</td>\n",
       "      <td>yes</td>\n",
       "      <td>4.0</td>\n",
       "      <td>3.0</td>\n",
       "      <td>3.0</td>\n",
       "      <td>2.0</td>\n",
       "      <td>0.0</td>\n",
       "      <td>0.0</td>\n",
       "    </tr>\n",
       "    <tr>\n",
       "      <th>334</th>\n",
       "      <td>GP</td>\n",
       "      <td>F</td>\n",
       "      <td>18</td>\n",
       "      <td>R</td>\n",
       "      <td>GT3</td>\n",
       "      <td>T</td>\n",
       "      <td>2.0</td>\n",
       "      <td>2.0</td>\n",
       "      <td>at_home</td>\n",
       "      <td>other</td>\n",
       "      <td>course</td>\n",
       "      <td>mother</td>\n",
       "      <td>2.0</td>\n",
       "      <td>4.0</td>\n",
       "      <td>4.0</td>\n",
       "      <td>no</td>\n",
       "      <td>no</td>\n",
       "      <td>no</td>\n",
       "      <td>yes</td>\n",
       "      <td>yes</td>\n",
       "      <td>-12.0</td>\n",
       "      <td>yes</td>\n",
       "      <td>no</td>\n",
       "      <td>no</td>\n",
       "      <td>4.0</td>\n",
       "      <td>4.0</td>\n",
       "      <td>4.0</td>\n",
       "      <td>4.0</td>\n",
       "      <td>0.0</td>\n",
       "      <td>0.0</td>\n",
       "    </tr>\n",
       "    <tr>\n",
       "      <th>341</th>\n",
       "      <td>GP</td>\n",
       "      <td>M</td>\n",
       "      <td>18</td>\n",
       "      <td>U</td>\n",
       "      <td>GT3</td>\n",
       "      <td>T</td>\n",
       "      <td>4.0</td>\n",
       "      <td>4.0</td>\n",
       "      <td>teacher</td>\n",
       "      <td>NaN</td>\n",
       "      <td>home</td>\n",
       "      <td>father</td>\n",
       "      <td>1.0</td>\n",
       "      <td>2.0</td>\n",
       "      <td>1.0</td>\n",
       "      <td>no</td>\n",
       "      <td>yes</td>\n",
       "      <td>NaN</td>\n",
       "      <td>yes</td>\n",
       "      <td>NaN</td>\n",
       "      <td>-6.0</td>\n",
       "      <td>yes</td>\n",
       "      <td>yes</td>\n",
       "      <td>no</td>\n",
       "      <td>4.0</td>\n",
       "      <td>3.0</td>\n",
       "      <td>3.0</td>\n",
       "      <td>2.0</td>\n",
       "      <td>0.0</td>\n",
       "      <td>0.0</td>\n",
       "    </tr>\n",
       "    <tr>\n",
       "      <th>343</th>\n",
       "      <td>GP</td>\n",
       "      <td>F</td>\n",
       "      <td>17</td>\n",
       "      <td>U</td>\n",
       "      <td>GT3</td>\n",
       "      <td>A</td>\n",
       "      <td>2.0</td>\n",
       "      <td>2.0</td>\n",
       "      <td>at_home</td>\n",
       "      <td>at_home</td>\n",
       "      <td>home</td>\n",
       "      <td>father</td>\n",
       "      <td>1.0</td>\n",
       "      <td>2.0</td>\n",
       "      <td>1.0</td>\n",
       "      <td>no</td>\n",
       "      <td>yes</td>\n",
       "      <td>no</td>\n",
       "      <td>no</td>\n",
       "      <td>yes</td>\n",
       "      <td>-6.0</td>\n",
       "      <td>yes</td>\n",
       "      <td>yes</td>\n",
       "      <td>yes</td>\n",
       "      <td>3.0</td>\n",
       "      <td>3.0</td>\n",
       "      <td>1.0</td>\n",
       "      <td>4.0</td>\n",
       "      <td>0.0</td>\n",
       "      <td>0.0</td>\n",
       "    </tr>\n",
       "    <tr>\n",
       "      <th>367</th>\n",
       "      <td>MS</td>\n",
       "      <td>F</td>\n",
       "      <td>17</td>\n",
       "      <td>R</td>\n",
       "      <td>NaN</td>\n",
       "      <td>T</td>\n",
       "      <td>1.0</td>\n",
       "      <td>1.0</td>\n",
       "      <td>other</td>\n",
       "      <td>services</td>\n",
       "      <td>reputation</td>\n",
       "      <td>mother</td>\n",
       "      <td>3.0</td>\n",
       "      <td>1.0</td>\n",
       "      <td>1.0</td>\n",
       "      <td>no</td>\n",
       "      <td>yes</td>\n",
       "      <td>yes</td>\n",
       "      <td>no</td>\n",
       "      <td>yes</td>\n",
       "      <td>-3.0</td>\n",
       "      <td>yes</td>\n",
       "      <td>yes</td>\n",
       "      <td>yes</td>\n",
       "      <td>5.0</td>\n",
       "      <td>2.0</td>\n",
       "      <td>1.0</td>\n",
       "      <td>1.0</td>\n",
       "      <td>0.0</td>\n",
       "      <td>0.0</td>\n",
       "    </tr>\n",
       "    <tr>\n",
       "      <th>383</th>\n",
       "      <td>MS</td>\n",
       "      <td>M</td>\n",
       "      <td>19</td>\n",
       "      <td>R</td>\n",
       "      <td>GT3</td>\n",
       "      <td>T</td>\n",
       "      <td>1.0</td>\n",
       "      <td>1.0</td>\n",
       "      <td>other</td>\n",
       "      <td>services</td>\n",
       "      <td>other</td>\n",
       "      <td>mother</td>\n",
       "      <td>2.0</td>\n",
       "      <td>1.0</td>\n",
       "      <td>1.0</td>\n",
       "      <td>no</td>\n",
       "      <td>no</td>\n",
       "      <td>no</td>\n",
       "      <td>no</td>\n",
       "      <td>NaN</td>\n",
       "      <td>-3.0</td>\n",
       "      <td>yes</td>\n",
       "      <td>no</td>\n",
       "      <td>no</td>\n",
       "      <td>4.0</td>\n",
       "      <td>3.0</td>\n",
       "      <td>2.0</td>\n",
       "      <td>5.0</td>\n",
       "      <td>0.0</td>\n",
       "      <td>0.0</td>\n",
       "    </tr>\n",
       "    <tr>\n",
       "      <th>387</th>\n",
       "      <td>MS</td>\n",
       "      <td>F</td>\n",
       "      <td>19</td>\n",
       "      <td>R</td>\n",
       "      <td>GT3</td>\n",
       "      <td>T</td>\n",
       "      <td>2.0</td>\n",
       "      <td>3.0</td>\n",
       "      <td>services</td>\n",
       "      <td>other</td>\n",
       "      <td>course</td>\n",
       "      <td>mother</td>\n",
       "      <td>1.0</td>\n",
       "      <td>3.0</td>\n",
       "      <td>1.0</td>\n",
       "      <td>no</td>\n",
       "      <td>no</td>\n",
       "      <td>no</td>\n",
       "      <td>yes</td>\n",
       "      <td>no</td>\n",
       "      <td>-9.0</td>\n",
       "      <td>yes</td>\n",
       "      <td>yes</td>\n",
       "      <td>no</td>\n",
       "      <td>5.0</td>\n",
       "      <td>4.0</td>\n",
       "      <td>2.0</td>\n",
       "      <td>5.0</td>\n",
       "      <td>0.0</td>\n",
       "      <td>0.0</td>\n",
       "    </tr>\n",
       "    <tr>\n",
       "      <th>389</th>\n",
       "      <td>MS</td>\n",
       "      <td>F</td>\n",
       "      <td>18</td>\n",
       "      <td>U</td>\n",
       "      <td>GT3</td>\n",
       "      <td>T</td>\n",
       "      <td>1.0</td>\n",
       "      <td>1.0</td>\n",
       "      <td>other</td>\n",
       "      <td>other</td>\n",
       "      <td>course</td>\n",
       "      <td>mother</td>\n",
       "      <td>NaN</td>\n",
       "      <td>2.0</td>\n",
       "      <td>1.0</td>\n",
       "      <td>no</td>\n",
       "      <td>no</td>\n",
       "      <td>no</td>\n",
       "      <td>yes</td>\n",
       "      <td>yes</td>\n",
       "      <td>-6.0</td>\n",
       "      <td>yes</td>\n",
       "      <td>NaN</td>\n",
       "      <td>no</td>\n",
       "      <td>1.0</td>\n",
       "      <td>1.0</td>\n",
       "      <td>1.0</td>\n",
       "      <td>5.0</td>\n",
       "      <td>0.0</td>\n",
       "      <td>0.0</td>\n",
       "    </tr>\n",
       "  </tbody>\n",
       "</table>\n",
       "</div>"
      ],
      "text/plain": [
       "    school sex  age address famsize Pstatus  Medu  Fedu      Mjob      Fjob  \\\n",
       "128     GP   M   18       R     NaN       T   2.0   2.0       NaN     other   \n",
       "130     GP   F   15       R     GT3       T   3.0   4.0  services   teacher   \n",
       "131     GP   F   15       U     GT3     NaN   1.0   1.0   at_home     other   \n",
       "134     GP   M   15       R     GT3       T   3.0   4.0   at_home   teacher   \n",
       "135     GP   F   15       U     GT3       T   4.0   4.0  services       NaN   \n",
       "140     GP   M   15       U     GT3       T   4.0   3.0   teacher  services   \n",
       "144     GP   M   17       U     GT3       T   2.0   1.0     other     other   \n",
       "146     GP   F   15       U     GT3       T   3.0   2.0    health  services   \n",
       "148     GP   M   16       U     GT3       T   4.0   4.0   teacher   teacher   \n",
       "153     GP   M   19       U     GT3     NaN   3.0   2.0  services   at_home   \n",
       "162     GP   M   16       U     LE3       T   1.0   2.0     other     other   \n",
       "168     GP   F   16     NaN     GT3       T   2.0   2.0     other     other   \n",
       "170     GP   M   16       U     GT3       T   3.0   4.0     other     other   \n",
       "173     GP   F   16       U     GT3       T   1.0   3.0   at_home  services   \n",
       "221     GP   F   17       U     NaN       T   1.0   1.0   at_home     other   \n",
       "239     GP   M   18       U     GT3     NaN   NaN   2.0     other  services   \n",
       "242     GP   M   16       U     LE3       T   4.0   3.0   teacher     other   \n",
       "264     GP   F   18       U     GT3       T   2.0   2.0   at_home  services   \n",
       "269     GP   F   18       R     GT3       T   2.0   1.0     other     other   \n",
       "296     GP   F   19       U     GT3       T   4.0   4.0    health     other   \n",
       "316     GP   F   18       U     GT3       T   2.0   1.0  services       NaN   \n",
       "332     GP   F   18       U     GT3       T   3.0   3.0  services  services   \n",
       "333     GP   F   18       U     LE3     NaN   2.0   2.0     other     other   \n",
       "334     GP   F   18       R     GT3       T   2.0   2.0   at_home     other   \n",
       "341     GP   M   18       U     GT3       T   4.0   4.0   teacher       NaN   \n",
       "343     GP   F   17       U     GT3       A   2.0   2.0   at_home   at_home   \n",
       "367     MS   F   17       R     NaN       T   1.0   1.0     other  services   \n",
       "383     MS   M   19       R     GT3       T   1.0   1.0     other  services   \n",
       "387     MS   F   19       R     GT3       T   2.0   3.0  services     other   \n",
       "389     MS   F   18       U     GT3       T   1.0   1.0     other     other   \n",
       "\n",
       "         reason guardian  traveltime  studytime  failures schoolsup famsup  \\\n",
       "128  reputation   mother         1.0        1.0       2.0        no    yes   \n",
       "130      course   father         2.0        3.0       2.0        no    yes   \n",
       "131      course   mother         3.0        1.0       4.0        no    yes   \n",
       "134      course   mother         NaN        2.0       4.0        no    yes   \n",
       "135      course   mother         1.0        3.0       4.0        no    yes   \n",
       "140         NaN   father         2.0        4.0       4.0       yes    yes   \n",
       "144        home      NaN         1.0        1.0       3.0        no    yes   \n",
       "146        home   father         1.0        2.0       3.0        no    NaN   \n",
       "148      course   mother         1.0        1.0       4.0        no    yes   \n",
       "153        home   mother         1.0        1.0       NaN        no    yes   \n",
       "162      course   mother         2.0        1.0       1.0        no     no   \n",
       "168        home   mother         1.0        2.0       4.0        no    yes   \n",
       "170      course   father         3.0        1.0       NaN        no    yes   \n",
       "173        home      NaN         1.0        2.0       3.0        no     no   \n",
       "221  reputation   mother         1.0        3.0       1.0        no    yes   \n",
       "239  reputation   father         1.0        2.0       1.0        no     no   \n",
       "242      course   mother         1.0        1.0       4.0        no     no   \n",
       "264        home   mother         1.0        3.0       4.0        no    yes   \n",
       "269  reputation   mother         2.0        2.0       4.0        no    NaN   \n",
       "296  reputation    other         2.0        2.0       4.0        no    yes   \n",
       "316      course   mother         2.0        2.0       4.0        no    yes   \n",
       "332        home   mother         1.0        2.0       4.0        no     no   \n",
       "333        home    other         1.0        2.0       4.0        no     no   \n",
       "334      course   mother         2.0        4.0       4.0        no     no   \n",
       "341        home   father         1.0        2.0       1.0        no    yes   \n",
       "343        home   father         1.0        2.0       1.0        no    yes   \n",
       "367  reputation   mother         3.0        1.0       1.0        no    yes   \n",
       "383       other   mother         2.0        1.0       1.0        no     no   \n",
       "387      course   mother         1.0        3.0       1.0        no     no   \n",
       "389      course   mother         NaN        2.0       1.0        no     no   \n",
       "\n",
       "    paid activities nursery  studytime, granular higher internet romantic  \\\n",
       "128   no        yes     yes                 -3.0    yes      yes       no   \n",
       "130   no         no     yes                 -9.0    yes      yes      yes   \n",
       "131   no        yes      no                 -3.0    yes      yes      yes   \n",
       "134   no         no     yes                 -6.0    yes       no      yes   \n",
       "135   no        yes     yes                 -9.0    yes      yes      yes   \n",
       "140   no        NaN     yes                -12.0    yes      yes       no   \n",
       "144   no         no     yes                 -3.0    yes      yes       no   \n",
       "146   no         no     yes                 -6.0    yes      yes       no   \n",
       "148  NaN         no     yes                 -3.0     no      yes      yes   \n",
       "153   no         no     yes                 -3.0     no      yes      yes   \n",
       "162   no        yes     yes                 -3.0    yes      NaN      NaN   \n",
       "168  yes         no      no                 -6.0    yes      yes       no   \n",
       "170   no        yes      no                 -3.0    NaN      yes       no   \n",
       "173   no        yes      no                 -6.0    yes      yes      yes   \n",
       "221   no        yes     yes                 -9.0    yes       no      yes   \n",
       "239   no         no     yes                 -6.0     no      NaN      NaN   \n",
       "242   no        yes      no                 -3.0    yes      yes       no   \n",
       "264  yes        yes     yes                 -9.0    yes      yes      yes   \n",
       "269   no         no     yes                 -6.0     no      yes      yes   \n",
       "296  yes        yes     yes                 -6.0    yes      yes       no   \n",
       "316  yes        yes     yes                 -6.0    yes      yes       no   \n",
       "332   no        yes     NaN                 -6.0    yes      yes       no   \n",
       "333   no        yes      no                 -6.0    yes      NaN      yes   \n",
       "334   no        yes     yes                -12.0    yes       no       no   \n",
       "341  NaN        yes     NaN                 -6.0    yes      yes       no   \n",
       "343   no         no     yes                 -6.0    yes      yes      yes   \n",
       "367  yes         no     yes                 -3.0    yes      yes      yes   \n",
       "383   no         no     NaN                 -3.0    yes       no       no   \n",
       "387   no        yes      no                 -9.0    yes      yes       no   \n",
       "389   no        yes     yes                 -6.0    yes      NaN       no   \n",
       "\n",
       "     famrel  freetime  goout  health  absences  score  \n",
       "128     3.0       3.0    3.0     4.0       0.0    0.0  \n",
       "130     4.0       2.0    2.0     5.0       0.0    0.0  \n",
       "131     4.0       NaN    3.0     4.0       0.0    0.0  \n",
       "134     5.0       3.0    3.0     5.0       0.0    0.0  \n",
       "135     4.0       3.0    3.0     5.0       0.0    0.0  \n",
       "140     2.0       2.0    2.0     3.0       0.0    0.0  \n",
       "144     5.0       4.0    5.0     5.0       0.0    0.0  \n",
       "146     3.0       3.0    2.0     3.0       0.0    0.0  \n",
       "148     3.0       3.0    2.0     5.0       0.0    0.0  \n",
       "153     4.0       5.0    4.0     NaN       0.0    0.0  \n",
       "162     4.0       4.0    4.0     5.0       0.0    0.0  \n",
       "168     5.0       1.0    5.0     4.0       0.0    0.0  \n",
       "170     3.0       4.0    5.0     2.0       0.0    0.0  \n",
       "173     4.0       3.0    5.0     3.0       0.0    0.0  \n",
       "221     4.0       3.0    NaN     5.0       0.0    0.0  \n",
       "239     5.0       5.0    4.0     2.0       0.0    0.0  \n",
       "242     5.0       4.0    5.0     3.0       0.0    0.0  \n",
       "264     4.0       3.0    3.0     3.0       0.0    0.0  \n",
       "269     4.0       3.0    5.0     3.0       0.0    0.0  \n",
       "296     2.0       3.0    4.0     2.0       0.0    0.0  \n",
       "316     5.0       3.0    3.0     1.0       0.0    0.0  \n",
       "332     5.0       3.0    4.0     4.0       0.0    0.0  \n",
       "333     4.0       3.0    3.0     2.0       0.0    0.0  \n",
       "334     4.0       4.0    4.0     4.0       0.0    0.0  \n",
       "341     4.0       3.0    3.0     2.0       0.0    0.0  \n",
       "343     3.0       3.0    1.0     4.0       0.0    0.0  \n",
       "367     5.0       2.0    1.0     1.0       0.0    0.0  \n",
       "383     4.0       3.0    2.0     5.0       0.0    0.0  \n",
       "387     5.0       4.0    2.0     5.0       0.0    0.0  \n",
       "389     1.0       1.0    1.0     5.0       0.0    0.0  "
      ]
     },
     "execution_count": 54,
     "metadata": {},
     "output_type": "execute_result"
    }
   ],
   "source": [
    "df_score_zero"
   ]
  },
  {
   "cell_type": "markdown",
   "id": "6b0d0454",
   "metadata": {},
   "source": [
    "Все данные значения помечаем как выбросы, т.к. у всех данных признаков одинаковые показатели в столбцах absences, famsize и Pstatus так же почти одинаковые показатели school.\n",
    "В связи с выше изложенным, данный показатель будет негативно влиять на алгоритмы дальнейшего обучения.\n",
    "\n",
    "В целом это выборка, требует отдельного анализа и уточнения условий задачи. "
   ]
  },
  {
   "cell_type": "code",
   "execution_count": 55,
   "id": "ffa0d33a",
   "metadata": {},
   "outputs": [],
   "source": [
    "df_3 = df_2[df_2.score > 0]"
   ]
  },
  {
   "cell_type": "markdown",
   "id": "4d41a4af",
   "metadata": {},
   "source": [
    "# Раздел 3. Корреляционный анализ количественных переменных"
   ]
  },
  {
   "cell_type": "markdown",
   "id": "8b799371",
   "metadata": {},
   "source": [
    "Для анализа выведем графики и значения кореляций."
   ]
  },
  {
   "cell_type": "code",
   "execution_count": 56,
   "id": "0c2c9396",
   "metadata": {
    "scrolled": true
   },
   "outputs": [],
   "source": [
    "cor_matr = df_3.corr()"
   ]
  },
  {
   "cell_type": "code",
   "execution_count": 57,
   "id": "32cbf396",
   "metadata": {},
   "outputs": [
    {
     "data": {
      "text/html": [
       "<div>\n",
       "<style scoped>\n",
       "    .dataframe tbody tr th:only-of-type {\n",
       "        vertical-align: middle;\n",
       "    }\n",
       "\n",
       "    .dataframe tbody tr th {\n",
       "        vertical-align: top;\n",
       "    }\n",
       "\n",
       "    .dataframe thead th {\n",
       "        text-align: right;\n",
       "    }\n",
       "</style>\n",
       "<table border=\"1\" class=\"dataframe\">\n",
       "  <thead>\n",
       "    <tr style=\"text-align: right;\">\n",
       "      <th></th>\n",
       "      <th>age</th>\n",
       "      <th>Medu</th>\n",
       "      <th>Fedu</th>\n",
       "      <th>traveltime</th>\n",
       "      <th>studytime</th>\n",
       "      <th>failures</th>\n",
       "      <th>studytime, granular</th>\n",
       "      <th>famrel</th>\n",
       "      <th>freetime</th>\n",
       "      <th>goout</th>\n",
       "      <th>health</th>\n",
       "      <th>absences</th>\n",
       "      <th>score</th>\n",
       "    </tr>\n",
       "  </thead>\n",
       "  <tbody>\n",
       "    <tr>\n",
       "      <th>age</th>\n",
       "      <td>1.000000</td>\n",
       "      <td>-0.121777</td>\n",
       "      <td>-0.131275</td>\n",
       "      <td>0.081641</td>\n",
       "      <td>-0.016761</td>\n",
       "      <td>-0.228916</td>\n",
       "      <td>0.016761</td>\n",
       "      <td>0.047913</td>\n",
       "      <td>-0.029774</td>\n",
       "      <td>0.075850</td>\n",
       "      <td>-0.055506</td>\n",
       "      <td>0.191553</td>\n",
       "      <td>-0.129530</td>\n",
       "    </tr>\n",
       "    <tr>\n",
       "      <th>Medu</th>\n",
       "      <td>-0.121777</td>\n",
       "      <td>1.000000</td>\n",
       "      <td>0.633534</td>\n",
       "      <td>-0.168856</td>\n",
       "      <td>0.071598</td>\n",
       "      <td>0.116639</td>\n",
       "      <td>-0.071598</td>\n",
       "      <td>-0.017684</td>\n",
       "      <td>-0.009434</td>\n",
       "      <td>0.076914</td>\n",
       "      <td>-0.080423</td>\n",
       "      <td>0.102373</td>\n",
       "      <td>0.176149</td>\n",
       "    </tr>\n",
       "    <tr>\n",
       "      <th>Fedu</th>\n",
       "      <td>-0.131275</td>\n",
       "      <td>0.633534</td>\n",
       "      <td>1.000000</td>\n",
       "      <td>-0.180165</td>\n",
       "      <td>-0.022392</td>\n",
       "      <td>0.158883</td>\n",
       "      <td>0.022392</td>\n",
       "      <td>-0.022907</td>\n",
       "      <td>-0.030331</td>\n",
       "      <td>0.024430</td>\n",
       "      <td>0.001726</td>\n",
       "      <td>0.062221</td>\n",
       "      <td>0.127480</td>\n",
       "    </tr>\n",
       "    <tr>\n",
       "      <th>traveltime</th>\n",
       "      <td>0.081641</td>\n",
       "      <td>-0.168856</td>\n",
       "      <td>-0.180165</td>\n",
       "      <td>1.000000</td>\n",
       "      <td>-0.122454</td>\n",
       "      <td>-0.031696</td>\n",
       "      <td>0.122454</td>\n",
       "      <td>-0.060292</td>\n",
       "      <td>0.016263</td>\n",
       "      <td>0.015348</td>\n",
       "      <td>0.015257</td>\n",
       "      <td>-0.053440</td>\n",
       "      <td>-0.085483</td>\n",
       "    </tr>\n",
       "    <tr>\n",
       "      <th>studytime</th>\n",
       "      <td>-0.016761</td>\n",
       "      <td>0.071598</td>\n",
       "      <td>-0.022392</td>\n",
       "      <td>-0.122454</td>\n",
       "      <td>1.000000</td>\n",
       "      <td>0.073922</td>\n",
       "      <td>-1.000000</td>\n",
       "      <td>0.038382</td>\n",
       "      <td>-0.126557</td>\n",
       "      <td>-0.048393</td>\n",
       "      <td>-0.107636</td>\n",
       "      <td>-0.063713</td>\n",
       "      <td>0.148863</td>\n",
       "    </tr>\n",
       "    <tr>\n",
       "      <th>failures</th>\n",
       "      <td>-0.228916</td>\n",
       "      <td>0.116639</td>\n",
       "      <td>0.158883</td>\n",
       "      <td>-0.031696</td>\n",
       "      <td>0.073922</td>\n",
       "      <td>1.000000</td>\n",
       "      <td>-0.073922</td>\n",
       "      <td>-0.000534</td>\n",
       "      <td>-0.074030</td>\n",
       "      <td>-0.102016</td>\n",
       "      <td>-0.113935</td>\n",
       "      <td>-0.259524</td>\n",
       "      <td>0.200263</td>\n",
       "    </tr>\n",
       "    <tr>\n",
       "      <th>studytime, granular</th>\n",
       "      <td>0.016761</td>\n",
       "      <td>-0.071598</td>\n",
       "      <td>0.022392</td>\n",
       "      <td>0.122454</td>\n",
       "      <td>-1.000000</td>\n",
       "      <td>-0.073922</td>\n",
       "      <td>1.000000</td>\n",
       "      <td>-0.038382</td>\n",
       "      <td>0.126557</td>\n",
       "      <td>0.048393</td>\n",
       "      <td>0.107636</td>\n",
       "      <td>0.063713</td>\n",
       "      <td>-0.148863</td>\n",
       "    </tr>\n",
       "    <tr>\n",
       "      <th>famrel</th>\n",
       "      <td>0.047913</td>\n",
       "      <td>-0.017684</td>\n",
       "      <td>-0.022907</td>\n",
       "      <td>-0.060292</td>\n",
       "      <td>0.038382</td>\n",
       "      <td>-0.000534</td>\n",
       "      <td>-0.038382</td>\n",
       "      <td>1.000000</td>\n",
       "      <td>0.147038</td>\n",
       "      <td>0.037946</td>\n",
       "      <td>0.122917</td>\n",
       "      <td>-0.042859</td>\n",
       "      <td>0.047958</td>\n",
       "    </tr>\n",
       "    <tr>\n",
       "      <th>freetime</th>\n",
       "      <td>-0.029774</td>\n",
       "      <td>-0.009434</td>\n",
       "      <td>-0.030331</td>\n",
       "      <td>0.016263</td>\n",
       "      <td>-0.126557</td>\n",
       "      <td>-0.074030</td>\n",
       "      <td>0.126557</td>\n",
       "      <td>0.147038</td>\n",
       "      <td>1.000000</td>\n",
       "      <td>0.272872</td>\n",
       "      <td>0.107494</td>\n",
       "      <td>-0.031848</td>\n",
       "      <td>-0.012593</td>\n",
       "    </tr>\n",
       "    <tr>\n",
       "      <th>goout</th>\n",
       "      <td>0.075850</td>\n",
       "      <td>0.076914</td>\n",
       "      <td>0.024430</td>\n",
       "      <td>0.015348</td>\n",
       "      <td>-0.048393</td>\n",
       "      <td>-0.102016</td>\n",
       "      <td>0.048393</td>\n",
       "      <td>0.037946</td>\n",
       "      <td>0.272872</td>\n",
       "      <td>1.000000</td>\n",
       "      <td>-0.003843</td>\n",
       "      <td>0.066747</td>\n",
       "      <td>-0.183775</td>\n",
       "    </tr>\n",
       "    <tr>\n",
       "      <th>health</th>\n",
       "      <td>-0.055506</td>\n",
       "      <td>-0.080423</td>\n",
       "      <td>0.001726</td>\n",
       "      <td>0.015257</td>\n",
       "      <td>-0.107636</td>\n",
       "      <td>-0.113935</td>\n",
       "      <td>0.107636</td>\n",
       "      <td>0.122917</td>\n",
       "      <td>0.107494</td>\n",
       "      <td>-0.003843</td>\n",
       "      <td>1.000000</td>\n",
       "      <td>-0.052142</td>\n",
       "      <td>-0.033492</td>\n",
       "    </tr>\n",
       "    <tr>\n",
       "      <th>absences</th>\n",
       "      <td>0.191553</td>\n",
       "      <td>0.102373</td>\n",
       "      <td>0.062221</td>\n",
       "      <td>-0.053440</td>\n",
       "      <td>-0.063713</td>\n",
       "      <td>-0.259524</td>\n",
       "      <td>0.063713</td>\n",
       "      <td>-0.042859</td>\n",
       "      <td>-0.031848</td>\n",
       "      <td>0.066747</td>\n",
       "      <td>-0.052142</td>\n",
       "      <td>1.000000</td>\n",
       "      <td>-0.180839</td>\n",
       "    </tr>\n",
       "    <tr>\n",
       "      <th>score</th>\n",
       "      <td>-0.129530</td>\n",
       "      <td>0.176149</td>\n",
       "      <td>0.127480</td>\n",
       "      <td>-0.085483</td>\n",
       "      <td>0.148863</td>\n",
       "      <td>0.200263</td>\n",
       "      <td>-0.148863</td>\n",
       "      <td>0.047958</td>\n",
       "      <td>-0.012593</td>\n",
       "      <td>-0.183775</td>\n",
       "      <td>-0.033492</td>\n",
       "      <td>-0.180839</td>\n",
       "      <td>1.000000</td>\n",
       "    </tr>\n",
       "  </tbody>\n",
       "</table>\n",
       "</div>"
      ],
      "text/plain": [
       "                          age      Medu      Fedu  traveltime  studytime  \\\n",
       "age                  1.000000 -0.121777 -0.131275    0.081641  -0.016761   \n",
       "Medu                -0.121777  1.000000  0.633534   -0.168856   0.071598   \n",
       "Fedu                -0.131275  0.633534  1.000000   -0.180165  -0.022392   \n",
       "traveltime           0.081641 -0.168856 -0.180165    1.000000  -0.122454   \n",
       "studytime           -0.016761  0.071598 -0.022392   -0.122454   1.000000   \n",
       "failures            -0.228916  0.116639  0.158883   -0.031696   0.073922   \n",
       "studytime, granular  0.016761 -0.071598  0.022392    0.122454  -1.000000   \n",
       "famrel               0.047913 -0.017684 -0.022907   -0.060292   0.038382   \n",
       "freetime            -0.029774 -0.009434 -0.030331    0.016263  -0.126557   \n",
       "goout                0.075850  0.076914  0.024430    0.015348  -0.048393   \n",
       "health              -0.055506 -0.080423  0.001726    0.015257  -0.107636   \n",
       "absences             0.191553  0.102373  0.062221   -0.053440  -0.063713   \n",
       "score               -0.129530  0.176149  0.127480   -0.085483   0.148863   \n",
       "\n",
       "                     failures  studytime, granular    famrel  freetime  \\\n",
       "age                 -0.228916             0.016761  0.047913 -0.029774   \n",
       "Medu                 0.116639            -0.071598 -0.017684 -0.009434   \n",
       "Fedu                 0.158883             0.022392 -0.022907 -0.030331   \n",
       "traveltime          -0.031696             0.122454 -0.060292  0.016263   \n",
       "studytime            0.073922            -1.000000  0.038382 -0.126557   \n",
       "failures             1.000000            -0.073922 -0.000534 -0.074030   \n",
       "studytime, granular -0.073922             1.000000 -0.038382  0.126557   \n",
       "famrel              -0.000534            -0.038382  1.000000  0.147038   \n",
       "freetime            -0.074030             0.126557  0.147038  1.000000   \n",
       "goout               -0.102016             0.048393  0.037946  0.272872   \n",
       "health              -0.113935             0.107636  0.122917  0.107494   \n",
       "absences            -0.259524             0.063713 -0.042859 -0.031848   \n",
       "score                0.200263            -0.148863  0.047958 -0.012593   \n",
       "\n",
       "                        goout    health  absences     score  \n",
       "age                  0.075850 -0.055506  0.191553 -0.129530  \n",
       "Medu                 0.076914 -0.080423  0.102373  0.176149  \n",
       "Fedu                 0.024430  0.001726  0.062221  0.127480  \n",
       "traveltime           0.015348  0.015257 -0.053440 -0.085483  \n",
       "studytime           -0.048393 -0.107636 -0.063713  0.148863  \n",
       "failures            -0.102016 -0.113935 -0.259524  0.200263  \n",
       "studytime, granular  0.048393  0.107636  0.063713 -0.148863  \n",
       "famrel               0.037946  0.122917 -0.042859  0.047958  \n",
       "freetime             0.272872  0.107494 -0.031848 -0.012593  \n",
       "goout                1.000000 -0.003843  0.066747 -0.183775  \n",
       "health              -0.003843  1.000000 -0.052142 -0.033492  \n",
       "absences             0.066747 -0.052142  1.000000 -0.180839  \n",
       "score               -0.183775 -0.033492 -0.180839  1.000000  "
      ]
     },
     "execution_count": 57,
     "metadata": {},
     "output_type": "execute_result"
    }
   ],
   "source": [
    "cor_matr"
   ]
  },
  {
   "cell_type": "code",
   "execution_count": 58,
   "id": "38979450",
   "metadata": {},
   "outputs": [
    {
     "data": {
      "text/plain": [
       "<AxesSubplot:>"
      ]
     },
     "execution_count": 58,
     "metadata": {},
     "output_type": "execute_result"
    },
    {
     "data": {
      "image/png": "[encoded data removed]",
      "text/plain": [
       "<Figure size 432x288 with 2 Axes>"
      ]
     },
     "metadata": {
      "needs_background": "light"
     },
     "output_type": "display_data"
    }
   ],
   "source": [
    "sns.heatmap(cor_matr)"
   ]
  },
  {
   "cell_type": "markdown",
   "id": "ffba95f6",
   "metadata": {},
   "source": [
    "в связи с относительно невысокой корреляцией, определим что 15% будет являться пороговым значением.\n",
    "Отсортируем все наши значения и выведем их.\n",
    "График получился слишком большой и нечитаемый, отсортируем интересующие нас значения."
   ]
  },
  {
   "cell_type": "markdown",
   "id": "7a4c8ff8",
   "metadata": {},
   "source": [
    "Создадим код, для вывода информации в более читаемом виде."
   ]
  },
  {
   "cell_type": "code",
   "execution_count": 59,
   "id": "ecda1779",
   "metadata": {},
   "outputs": [],
   "source": [
    "def print_res(cor_matr):\n",
    "    ''' Код сортирует столбцы которые коррелируются более чем 0,15 \n",
    "    и выводит их на экран. Код на вход принимает матрицу кореляции'''\n",
    "\n",
    "    cor_dict = {}\n",
    "    for y in range(len(numeric_col)):\n",
    "        cor_dict[numeric_col[y]] = {}\n",
    "        for x in range(len(numeric_col)):\n",
    "            if y != x:\n",
    "                if abs(cor_matr.iloc[y][x]) > 0.15:\n",
    "                    cor_dict[numeric_col[y]][numeric_col[x]\n",
    "                                             ] = cor_matr.iloc[y][x]\n",
    "\n",
    "    for x in cor_dict:\n",
    "        print(f\"Столбец {x} корелируеться  c\")\n",
    "        print(cor_dict[x])\n",
    "        print()"
   ]
  },
  {
   "cell_type": "markdown",
   "id": "22b2ef36",
   "metadata": {},
   "source": [
    "Теперь выведем полученный результат"
   ]
  },
  {
   "cell_type": "code",
   "execution_count": 60,
   "id": "0ed43e01",
   "metadata": {
    "scrolled": false
   },
   "outputs": [
    {
     "name": "stdout",
     "output_type": "stream",
     "text": [
      "Столбец age корелируеться  c\n",
      "{'failures': -0.22891590843174184, 'absences': 0.19155274509478915}\n",
      "\n",
      "Столбец Medu корелируеться  c\n",
      "{'Fedu': 0.6335342210576845, 'traveltime': -0.1688560840513973, 'score': 0.17614944677292513}\n",
      "\n",
      "Столбец Fedu корелируеться  c\n",
      "{'Medu': 0.6335342210576845, 'traveltime': -0.18016539625005204, 'failures': 0.15888348996216908}\n",
      "\n",
      "Столбец traveltime корелируеться  c\n",
      "{'Medu': -0.1688560840513973, 'Fedu': -0.18016539625005204}\n",
      "\n",
      "Столбец studytime корелируеться  c\n",
      "{'studytime, granular': -1.0000000000000007}\n",
      "\n",
      "Столбец failures корелируеться  c\n",
      "{'age': -0.22891590843174184, 'Fedu': 0.15888348996216908, 'absences': -0.259524123977111, 'score': 0.20026307956803086}\n",
      "\n",
      "Столбец studytime, granular корелируеться  c\n",
      "{'studytime': -1.0000000000000007}\n",
      "\n",
      "Столбец famrel корелируеться  c\n",
      "{}\n",
      "\n",
      "Столбец freetime корелируеться  c\n",
      "{'goout': 0.2728716351849462}\n",
      "\n",
      "Столбец goout корелируеться  c\n",
      "{'freetime': 0.2728716351849462, 'score': -0.18377492314342764}\n",
      "\n",
      "Столбец health корелируеться  c\n",
      "{}\n",
      "\n",
      "Столбец absences корелируеться  c\n",
      "{'age': 0.19155274509478915, 'failures': -0.259524123977111, 'score': -0.18083899640845688}\n",
      "\n",
      "Столбец score корелируеться  c\n",
      "{'Medu': 0.17614944677292513, 'failures': 0.20026307956803086, 'goout': -0.18377492314342764, 'absences': -0.18083899640845688}\n",
      "\n"
     ]
    }
   ],
   "source": [
    "print_res(cor_matr)"
   ]
  },
  {
   "cell_type": "markdown",
   "id": "0d1e696c",
   "metadata": {},
   "source": [
    "Выводы:\n",
    "\n",
    "Видно что с возрастом (Столбец age), ученики прогуливают больше (absences) и совершают больше ошибок(failures).\n",
    "\n",
    "Так же высокая корреляция у переменных Medu и Fedu. Можно сделать вывод, что чем более образованные человек, тем более образованную пару он будет себе искать. Однако значение Medu коррелируется с Итоговой оценкой на экзамене (score) намного лучше чем Fedu. Исходя из этого можно предположить, что обучением детей больше занимается мать чем отец. Так же более образованные родители живут ближе к школе. Видимо это связано с тем, что более образованные люди живут в городе, где есть школы, а менее образованные более больше заняты в сельском хозяйстве и соответственно проживают за городом. Так же у более образованных отцов ученики допускают больше ошибок. Опять же это можно связать с воспитанием детей, т.к. более образованные родители чаще будут отдавать своих детей в разные кружки, и давать детям больше пробовать делать что-то новое. \n",
    "\n",
    "Так же отмечаем, что свободное время(freetime) так же коррелируется с временим проведенными с друзьями(goout).Значит, чем больше свободного времени у ученика, тем больше он проводит времени с друзьями.\n",
    "\n",
    "\n",
    "Отметим, что есть отрицательная корреляция у и количеством внеучебных неудач. Данный вопрос потребует отдельной проработки.\n",
    "\n",
    "\n",
    "Переменные studytime, granular и studytime обратно скоррелированы почти полностью, одну переменную можно исключить. Пусть это будет переменная studytime, granular.\n",
    "\n",
    "Столбцы health и famrel не скоррелированы ни с одним из других столбцов. \n",
    "\n",
    "В конце ещё раз отметим, что итоговая переменная (score) более скоррелирована только с образованием матери, и с количеством внеучебных неудач. Как мы отмечали ранее, матери больше занимаются чем отцы, а количество внеучебных неудач учит преодолевать трудности, и учебные неудачи в том числе. А так же вспомним крылатое выражение \" На ошибках учатся\". Так же присутствует обратная корреляция к столбцам goout, и absences. В целом тоже логично, что чем больше пропусков, тем хуже ученик учиться. "
   ]
  },
  {
   "cell_type": "markdown",
   "id": "52afdbe2",
   "metadata": {},
   "source": [
    "# Раздел 4. Анализи номинативных переменных"
   ]
  },
  {
   "cell_type": "markdown",
   "id": "2269127e",
   "metadata": {},
   "source": [
    "Возвращаемся к списку object_col который хранит в себе название столбцов, имеющие тип Object, создадим функцию, которая будет выводить нам ящик с усами для каждой переменной. И проверим данные на выбросы."
   ]
  },
  {
   "cell_type": "code",
   "execution_count": 77,
   "id": "182098a0",
   "metadata": {},
   "outputs": [],
   "source": [
    "def get_boxplot(df, column):\n",
    "    ''' Данный код выдает ящик с усами и описательную статистику\n",
    "    по результатам итогового экзамена в зависимости от столбца.\n",
    "    На вход принимает df (датасет), и имя столбца (column)\n",
    "    '''\n",
    "\n",
    "    print(f\"Анализируем столбец {column}\")\n",
    "    print(f\"Уникальные значения: \")\n",
    "    print(f\"Кол-во нулевых значений: {df[column].isnull().sum()}\")\n",
    "    print(df[column].unique())\n",
    "    sns.boxplot(x=column, y='score', data=df)\n",
    "    plt.title(f'Ящик с усами к столбцу {column}')\n",
    "    plt.ylabel('Итоговые результаты за экзамен')"
   ]
  },
  {
   "cell_type": "markdown",
   "id": "0cbf973f",
   "metadata": {},
   "source": [
    "Так же создадим отдельный список столбцов, в который будем заносить результаты, которые нам покажутся странными."
   ]
  },
  {
   "cell_type": "code",
   "execution_count": null,
   "id": "0dc2e574",
   "metadata": {},
   "outputs": [],
   "source": []
  },
  {
   "cell_type": "markdown",
   "id": "c4538efb",
   "metadata": {},
   "source": [
    "### Анализируем столбец school."
   ]
  },
  {
   "cell_type": "code",
   "execution_count": 62,
   "id": "3c8f455f",
   "metadata": {},
   "outputs": [
    {
     "name": "stdout",
     "output_type": "stream",
     "text": [
      "Анализируем столбец school\n",
      "Уникальные значения: \n",
      "Кол-во нулевых значений: 0\n",
      "['GP' 'MS']\n"
     ]
    },
    {
     "data": {
      "image/png": "[encoded data removed]",
      "text/plain": [
       "<Figure size 432x288 with 1 Axes>"
      ]
     },
     "metadata": {
      "needs_background": "light"
     },
     "output_type": "display_data"
    }
   ],
   "source": [
    "get_boxplot(df_3,object_col[0])"
   ]
  },
  {
   "cell_type": "markdown",
   "id": "9720efa1",
   "metadata": {},
   "source": [
    "Условие к столбцу:\n",
    "\n",
    "school — аббревиатура школы, в которой учится ученик\n",
    "\n",
    "Вывод:\n",
    "\n",
    "В соответствии  с условием, выбросы не обнаружены.\n",
    "\n",
    "Судя по графику, ученики получают более высокие балы в GP.\n"
   ]
  },
  {
   "cell_type": "markdown",
   "id": "73b58737",
   "metadata": {},
   "source": [
    "### Анализируем столбец sex."
   ]
  },
  {
   "cell_type": "code",
   "execution_count": 63,
   "id": "8de8888b",
   "metadata": {
    "scrolled": true
   },
   "outputs": [
    {
     "name": "stdout",
     "output_type": "stream",
     "text": [
      "Анализируем столбец sex\n",
      "Уникальные значения: \n",
      "Кол-во нулевых значений: 0\n",
      "['F' 'M']\n"
     ]
    },
    {
     "data": {
      "image/png": "[encoded data removed]",
      "text/plain": [
       "<Figure size 432x288 with 1 Axes>"
      ]
     },
     "metadata": {
      "needs_background": "light"
     },
     "output_type": "display_data"
    }
   ],
   "source": [
    "get_boxplot(df_3,object_col[1])"
   ]
  },
  {
   "cell_type": "markdown",
   "id": "077ed876",
   "metadata": {},
   "source": [
    "Условие к столбцу:\n",
    "\n",
    "sex — пол ученика ('F' - женский, 'M' - мужской)\n",
    "\n",
    "Вывод:\n",
    "\n",
    "В соответствии  с условием, выбросы не обнаружены.\n",
    "\n",
    "Судя по графику, ученики - мужчины получают чуть чуть более высокие балы на экзамене."
   ]
  },
  {
   "cell_type": "markdown",
   "id": "d6e1c767",
   "metadata": {},
   "source": [
    "### Анализируем столбец address."
   ]
  },
  {
   "cell_type": "code",
   "execution_count": 64,
   "id": "2ba24618",
   "metadata": {},
   "outputs": [
    {
     "name": "stdout",
     "output_type": "stream",
     "text": [
      "Анализируем столбец address\n",
      "Уникальные значения: \n",
      "Кол-во нулевых значений: 10\n",
      "['U' nan 'R']\n"
     ]
    },
    {
     "data": {
      "image/png": "[encoded data removed]",
      "text/plain": [
       "<Figure size 432x288 with 1 Axes>"
      ]
     },
     "metadata": {
      "needs_background": "light"
     },
     "output_type": "display_data"
    }
   ],
   "source": [
    "get_boxplot(df_3,object_col[2])"
   ]
  },
  {
   "cell_type": "markdown",
   "id": "5aae0448",
   "metadata": {},
   "source": [
    "Условие к столбцу:\n",
    "\n",
    "address — тип адреса ученика ('U' - городской, 'R' - за городом)\n",
    "\n",
    "Вывод:\n",
    "\n",
    "В соответствии  с условием, выбросы не обнаружены.\n",
    "\n",
    "Судя по графику, городские получают более высокий был чем ученики которые живут за городом."
   ]
  },
  {
   "cell_type": "markdown",
   "id": "17b184c6",
   "metadata": {},
   "source": [
    "### Анализируем столбец famsize."
   ]
  },
  {
   "cell_type": "code",
   "execution_count": 65,
   "id": "2068d31e",
   "metadata": {},
   "outputs": [
    {
     "name": "stdout",
     "output_type": "stream",
     "text": [
      "Анализируем столбец famsize\n",
      "Уникальные значения: \n",
      "Кол-во нулевых значений: 18\n",
      "[nan 'GT3' 'LE3']\n"
     ]
    },
    {
     "data": {
      "image/png": "[encoded data removed]",
      "text/plain": [
       "<Figure size 432x288 with 1 Axes>"
      ]
     },
     "metadata": {
      "needs_background": "light"
     },
     "output_type": "display_data"
    }
   ],
   "source": [
    "get_boxplot(df_3,object_col[3])"
   ]
  },
  {
   "cell_type": "markdown",
   "id": "40440161",
   "metadata": {},
   "source": [
    "Условие к столбцу:\n",
    "\n",
    "famsize — размер семьи('LE3' <= 3, 'GT3' >3)\n",
    "\n",
    "Вывод:\n",
    "\n",
    "В соответствии  с условием, выбросы не обнаружены.\n",
    "\n",
    "Судя по графику, столбец не влияет на баллы набранные экзамене."
   ]
  },
  {
   "cell_type": "markdown",
   "id": "45581ed5",
   "metadata": {},
   "source": [
    "### Анализируем столбец Pstatus."
   ]
  },
  {
   "cell_type": "code",
   "execution_count": 66,
   "id": "bc552839",
   "metadata": {},
   "outputs": [
    {
     "name": "stdout",
     "output_type": "stream",
     "text": [
      "Анализируем столбец Pstatus\n",
      "Уникальные значения: \n",
      "Кол-во нулевых значений: 36\n",
      "['A' nan 'T']\n"
     ]
    },
    {
     "data": {
      "image/png": "[encoded data removed]",
      "text/plain": [
       "<Figure size 432x288 with 1 Axes>"
      ]
     },
     "metadata": {
      "needs_background": "light"
     },
     "output_type": "display_data"
    }
   ],
   "source": [
    "get_boxplot(df_3,object_col[4])"
   ]
  },
  {
   "cell_type": "markdown",
   "id": "7e00e5ef",
   "metadata": {},
   "source": [
    "Условие к столбцу:\n",
    "\n",
    "Pstatus — статус совместного жилья родителей ('T' - живут вместе 'A' - раздельно)\n",
    "\n",
    "Вывод:\n",
    "\n",
    "В соответствии  с условием, выбросы не обнаружены.\n",
    "\n",
    "Судя по графику, столбец не влияет на баллы набранные экзамене."
   ]
  },
  {
   "cell_type": "markdown",
   "id": "f64c0477",
   "metadata": {},
   "source": [
    "### Анализируем столбец Mjob."
   ]
  },
  {
   "cell_type": "code",
   "execution_count": 75,
   "id": "6a9821d8",
   "metadata": {},
   "outputs": [
    {
     "name": "stdout",
     "output_type": "stream",
     "text": [
      "Анализируем столбец Mjob\n",
      "Уникальные значения: \n",
      "Кол-во нулевых значений: 16\n",
      "['at_home' 'health' 'other' 'services' 'teacher' nan]\n"
     ]
    },
    {
     "data": {
      "image/png": "[encoded data removed]",
      "text/plain": [
       "<Figure size 432x288 with 1 Axes>"
      ]
     },
     "metadata": {
      "needs_background": "light"
     },
     "output_type": "display_data"
    }
   ],
   "source": [
    "get_boxplot(df_3,object_col[5])"
   ]
  },
  {
   "cell_type": "markdown",
   "id": "5be4a9a5",
   "metadata": {},
   "source": [
    "Условие к столбцу:\n",
    "\n",
    "Mjob — работа матери ('teacher' - учитель, 'health' - сфера здравоохранения, 'services' - гос служба, 'at_home' - не работает, 'other' - другое)\n",
    "\n",
    "Вывод:\n",
    "\n",
    "В соответствии с условием, выбросы не обнаружены.\n",
    "\n",
    "Судя по графику, столбец незначительно влияет на баллы набранные на экзамене."
   ]
  },
  {
   "cell_type": "markdown",
   "id": "770d460e",
   "metadata": {},
   "source": [
    "### Анализируем столбец Fjob."
   ]
  },
  {
   "cell_type": "code",
   "execution_count": 76,
   "id": "445d5abb",
   "metadata": {},
   "outputs": [
    {
     "name": "stdout",
     "output_type": "stream",
     "text": [
      "Анализируем столбец Fjob\n",
      "Уникальные значения: \n",
      "Кол-во нулевых значений: 25\n",
      "['teacher' 'other' nan 'health' 'services' 'at_home']\n"
     ]
    },
    {
     "data": {
      "image/png": "[encoded data removed]",
      "text/plain": [
       "<Figure size 432x288 with 1 Axes>"
      ]
     },
     "metadata": {
      "needs_background": "light"
     },
     "output_type": "display_data"
    }
   ],
   "source": [
    "get_boxplot(df_3,object_col[6])"
   ]
  },
  {
   "cell_type": "markdown",
   "id": "133c5129",
   "metadata": {},
   "source": [
    "### Анализируем столбец reason."
   ]
  },
  {
   "cell_type": "code",
   "execution_count": 78,
   "id": "afe0b75e",
   "metadata": {},
   "outputs": [
    {
     "name": "stdout",
     "output_type": "stream",
     "text": [
      "Анализируем столбец reason\n",
      "Уникальные значения: \n",
      "Кол-во нулевых значений: 13\n",
      "['course' 'other' 'home' 'reputation' nan]\n"
     ]
    },
    {
     "data": {
      "image/png": "[encoded data removed]",
      "text/plain": [
       "<Figure size 432x288 with 1 Axes>"
      ]
     },
     "metadata": {
      "needs_background": "light"
     },
     "output_type": "display_data"
    }
   ],
   "source": [
    "get_boxplot(df_3,object_col[7])"
   ]
  },
  {
   "cell_type": "markdown",
   "id": "b55a3ed4",
   "metadata": {},
   "source": [
    "Условие к столбцу:\n",
    "\n",
    "reason — причина выбора школы ('home' - близость к дому, 'reputation' - репутация школы, 'course' - образовательная программа, 'other' - другое)\n",
    "\n",
    "Вывод:\n",
    "\n",
    "В соответствии с условием, выбросы не обнаружены.\n",
    "\n",
    "Судя по графику, столбец не влияет на баллы набранные на экзамене."
   ]
  },
  {
   "cell_type": "markdown",
   "id": "7d1cf8ea",
   "metadata": {},
   "source": [
    "### Анализируем столбец guardian."
   ]
  },
  {
   "cell_type": "code",
   "execution_count": 80,
   "id": "96cd34ac",
   "metadata": {},
   "outputs": [
    {
     "name": "stdout",
     "output_type": "stream",
     "text": [
      "Анализируем столбец guardian\n",
      "Уникальные значения: \n",
      "Кол-во нулевых значений: 26\n",
      "['mother' 'father' 'other' nan]\n"
     ]
    },
    {
     "data": {
      "image/png": "[encoded data removed]",
      "text/plain": [
       "<Figure size 432x288 with 1 Axes>"
      ]
     },
     "metadata": {
      "needs_background": "light"
     },
     "output_type": "display_data"
    }
   ],
   "source": [
    "get_boxplot(df_3,object_col[8])"
   ]
  },
  {
   "cell_type": "markdown",
   "id": "587b5d23",
   "metadata": {},
   "source": [
    "Условие к столбцу:\n",
    "\n",
    "guardian — опекун ('mother' - мать, 'father' - отец, 'other' - другое)\n",
    "\n",
    "Вывод:\n",
    "\n",
    "В соответствии с условием, выбросы не обнаружены.\n",
    "\n",
    "Судя по графику, столбец незначительно влияет на баллы набранные на экзамене."
   ]
  },
  {
   "cell_type": "markdown",
   "id": "6f097b2d",
   "metadata": {},
   "source": [
    "### Анализируем столбец schoolsup."
   ]
  },
  {
   "cell_type": "code",
   "execution_count": 83,
   "id": "98749f5f",
   "metadata": {},
   "outputs": [
    {
     "name": "stdout",
     "output_type": "stream",
     "text": [
      "Анализируем столбец schoolsup\n",
      "Уникальные значения: \n",
      "Кол-во нулевых значений: 9\n",
      "['yes' 'no' nan]\n"
     ]
    },
    {
     "data": {
      "image/png": "[encoded data removed]",
      "text/plain": [
       "<Figure size 432x288 with 1 Axes>"
      ]
     },
     "metadata": {
      "needs_background": "light"
     },
     "output_type": "display_data"
    }
   ],
   "source": [
    "get_boxplot(df_3,object_col[9])"
   ]
  },
  {
   "cell_type": "markdown",
   "id": "bb97f888",
   "metadata": {},
   "source": [
    "Условие к столбцу:\n",
    "\n",
    "schoolsup — дополнительная образовательная поддержка (yes или no)\n",
    "\n",
    "\n",
    "Вывод:\n",
    "\n",
    "В соответствии с условием, выбросы не обнаружены.\n",
    "\n",
    "Судя по графику, столбец влияет на баллы набранные на экзамене.\n",
    "Однако, логически, это выглядит странно. В дальнейшем надо будет поэкспериментировать с данным признаком."
   ]
  },
  {
   "cell_type": "markdown",
   "id": "6d36e327",
   "metadata": {},
   "source": [
    "### Анализируем столбец famsup."
   ]
  },
  {
   "cell_type": "code",
   "execution_count": 84,
   "id": "59e5828e",
   "metadata": {},
   "outputs": [
    {
     "name": "stdout",
     "output_type": "stream",
     "text": [
      "Анализируем столбец famsup\n",
      "Уникальные значения: \n",
      "Кол-во нулевых значений: 30\n",
      "['no' 'yes' nan]\n"
     ]
    },
    {
     "data": {
      "image/png": "[encoded data removed]",
      "text/plain": [
       "<Figure size 432x288 with 1 Axes>"
      ]
     },
     "metadata": {
      "needs_background": "light"
     },
     "output_type": "display_data"
    }
   ],
   "source": [
    "get_boxplot(df_3,object_col[10])"
   ]
  },
  {
   "cell_type": "markdown",
   "id": "1b8b62b0",
   "metadata": {},
   "source": [
    "Условие к столбцу:\n",
    "\n",
    "famsup — семейная образовательная поддержка (yes или no)\n",
    "\n",
    "\n",
    "Вывод:\n",
    "\n",
    "В соответствии с условием, выбросы не обнаружены.\n",
    "\n",
    "Судя по графику, столбец незначительно влияет на баллы набранные на экзамене.\n",
    "Однако, логически, это выглядит странно. В дальнейшем надо будет поэкспериментировать с данным признаком."
   ]
  },
  {
   "cell_type": "markdown",
   "id": "6800cab3",
   "metadata": {},
   "source": [
    "### Анализируем столбец famsup."
   ]
  },
  {
   "cell_type": "code",
   "execution_count": 85,
   "id": "7e78b42a",
   "metadata": {},
   "outputs": [
    {
     "name": "stdout",
     "output_type": "stream",
     "text": [
      "Анализируем столбец paid\n",
      "Уникальные значения: \n",
      "Кол-во нулевых значений: 31\n",
      "['no' nan 'yes']\n"
     ]
    },
    {
     "data": {
      "image/png": "[encoded data removed]",
      "text/plain": [
       "<Figure size 432x288 with 1 Axes>"
      ]
     },
     "metadata": {
      "needs_background": "light"
     },
     "output_type": "display_data"
    }
   ],
   "source": [
    "get_boxplot(df_3,object_col[11])"
   ]
  },
  {
   "cell_type": "markdown",
   "id": "56394647",
   "metadata": {},
   "source": [
    "Условие к столбцу:\n",
    "\n",
    "paid — дополнительные платные занятия по математике (yes или no)\n",
    "\n",
    "\n",
    "Вывод:\n",
    "\n",
    "В соответствии с условием, выбросы не обнаружены.\n",
    "\n",
    "Судя по графику, столбец незначительно влияет на баллы набранные на экзамене.\n",
    "Однако, логически, это выглядит странно. В дальнейшем надо будет поэкспериментировать с данным признаком."
   ]
  },
  {
   "cell_type": "code",
   "execution_count": 67,
   "id": "26390516",
   "metadata": {
    "scrolled": true
   },
   "outputs": [
    {
     "data": {
      "text/plain": [
       "17"
      ]
     },
     "execution_count": 67,
     "metadata": {},
     "output_type": "execute_result"
    }
   ],
   "source": [
    "len(object_col)"
   ]
  },
  {
   "cell_type": "code",
   "execution_count": 72,
   "id": "1a16055c",
   "metadata": {},
   "outputs": [],
   "source": [
    "def get_stat_dif(df,column):\n",
    "    cols = df.loc[:, column].value_counts().index[:10]\n",
    "    combinations_all = list(combinations(cols, 2))\n",
    "    for comb in combinations_all:\n",
    "        if ttest_ind(df.loc[df.loc[:, column] == comb[0], 'score'], \n",
    "                        df.loc[df.loc[:, column] == comb[1], 'score']).pvalue \\\n",
    "            <= 0.05/len(combinations_all): # Учли поправку Бонферони\n",
    "            print('Найдены статистически значимые различия для колонки', column)\n",
    "            break"
   ]
  },
  {
   "cell_type": "code",
   "execution_count": 73,
   "id": "376a2211",
   "metadata": {},
   "outputs": [
    {
     "name": "stdout",
     "output_type": "stream",
     "text": [
      "Найдены статистически значимые различия для колонки address\n",
      "Найдены статистически значимые различия для колонки Mjob\n",
      "Найдены статистически значимые различия для колонки schoolsup\n"
     ]
    }
   ],
   "source": [
    "for i in object_col:\n",
    "    get_stat_dif(df_3,i)"
   ]
  },
  {
   "cell_type": "code",
   "execution_count": 74,
   "id": "556e2cd7",
   "metadata": {},
   "outputs": [],
   "source": [
    "for i in object_col:\n",
    "    get_stat_dif(df_2,i)"
   ]
  },
  {
   "cell_type": "code",
   "execution_count": null,
   "id": "7ee3a1c4",
   "metadata": {},
   "outputs": [],
   "source": []
  }
 ],
 "metadata": {
  "kernelspec": {
   "display_name": "Python 3",
   "language": "python",
   "name": "python3"
  },
  "language_info": {
   "codemirror_mode": {
    "name": "ipython",
    "version": 3
   },
   "file_extension": ".py",
   "mimetype": "text/x-python",
   "name": "python",
   "nbconvert_exporter": "python",
   "pygments_lexer": "ipython3",
   "version": "3.8.8"
  }
 },
 "nbformat": 4,
 "nbformat_minor": 5
}
