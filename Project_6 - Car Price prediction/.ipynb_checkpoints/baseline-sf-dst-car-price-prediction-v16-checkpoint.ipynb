{
 "cells": [
  {
   "cell_type": "markdown",
   "metadata": {
    "papermill": {
     "duration": 0.029718,
     "end_time": "2020-10-26T12:46:41.276296",
     "exception": false,
     "start_time": "2020-10-26T12:46:41.246578",
     "status": "completed"
    },
    "tags": []
   },
   "source": [
    "<img src=\"https://whatcar.vn/media/2018/09/car-lot-940x470.jpg\"/>\n",
    "\n",
    "## Прогнозирование стоимости автомобиля по характеристикам\n",
    "*Этот Ноутбук является Примером/Шаблоном (Baseline) к этому соревнованию и не служит готовым решением!*   \n",
    "Вы можете использовать его как основу для построения своего решения.\n",
    "\n",
    "\n",
    "> **baseline** создается больше как шаблон, где можно посмотреть как происходит обращение с входящими данными и что нужно получить на выходе. При этом МЛ начинка может быть достаточно простой. Это помогает быстрее приступить к самому МЛ, а не тратить ценное время на чисто инженерные задачи. \n",
    "Также baseline является хорошей опорной точкой по метрике. Если твое решение хуже baseline - ты явно делаешь что-то не то и стоит попробовать другой путь) "
   ]
  },
  {
   "cell_type": "markdown",
   "metadata": {
    "papermill": {
     "duration": 0.028027,
     "end_time": "2020-10-26T12:46:41.334278",
     "exception": false,
     "start_time": "2020-10-26T12:46:41.306251",
     "status": "completed"
    },
    "tags": []
   },
   "source": [
    "Помним, что по условию соревнования, нам нужно самостоятельно собрать обучающий датасет. В этом ноутбуке мы не будем рассматривать сбор данных. Предположим, что мы уже все собрали и просто подключили свой датасет через \"Add Data\", чтобы приступить к самому ML."
   ]
  },
  {
   "cell_type": "code",
   "execution_count": null,
   "metadata": {
    "_cell_guid": "b1076dfc-b9ad-4769-8c92-a6c4dae69d19",
    "_uuid": "8f2839f25d086af736a60e9eeb907d3b93b6e0e5",
    "execution": {
     "iopub.execute_input": "2022-06-18T12:13:21.668813Z",
     "iopub.status.busy": "2022-06-18T12:13:21.66832Z",
     "iopub.status.idle": "2022-06-18T12:13:21.676415Z",
     "shell.execute_reply": "2022-06-18T12:13:21.675208Z",
     "shell.execute_reply.started": "2022-06-18T12:13:21.66877Z"
    },
    "papermill": {
     "duration": 1.219772,
     "end_time": "2020-10-26T12:46:42.581597",
     "exception": false,
     "start_time": "2020-10-26T12:46:41.361825",
     "status": "completed"
    },
    "tags": []
   },
   "outputs": [],
   "source": [
    "import numpy as np # linear algebra\n",
    "import pandas as pd # data processing, CSV file I/O (e.g. pd.read_csv)\n",
    "import sys\n",
    "from sklearn.model_selection import train_test_split\n",
    "from sklearn.model_selection import KFold\n",
    "from tqdm.notebook import tqdm\n",
    "import re\n",
    "from catboost import CatBoostRegressor\n",
    "from catboost import Pool, cv\n",
    "from datetime import datetime, timedelta\n",
    "from sklearn.preprocessing import LabelEncoder\n",
    "pd.set_option('display.max_columns', None)\n",
    "from datetime import datetime, timedelta"
   ]
  },
  {
   "cell_type": "markdown",
   "metadata": {},
   "source": []
  },
  {
   "cell_type": "code",
   "execution_count": null,
   "metadata": {
    "_kg_hide-input": true,
    "execution": {
     "iopub.execute_input": "2022-06-18T12:13:21.698414Z",
     "iopub.status.busy": "2022-06-18T12:13:21.698048Z",
     "iopub.status.idle": "2022-06-18T12:13:21.704754Z",
     "shell.execute_reply": "2022-06-18T12:13:21.70383Z",
     "shell.execute_reply.started": "2022-06-18T12:13:21.698371Z"
    },
    "papermill": {
     "duration": 0.040034,
     "end_time": "2020-10-26T12:46:42.650603",
     "exception": false,
     "start_time": "2020-10-26T12:46:42.610569",
     "status": "completed"
    },
    "tags": []
   },
   "outputs": [],
   "source": [
    "print('Python       :', sys.version.split('\\n')[0])\n",
    "print('Numpy        :', np.__version__)"
   ]
  },
  {
   "cell_type": "code",
   "execution_count": null,
   "metadata": {
    "_kg_hide-input": true,
    "execution": {
     "iopub.execute_input": "2022-06-18T12:13:21.707077Z",
     "iopub.status.busy": "2022-06-18T12:13:21.70679Z",
     "iopub.status.idle": "2022-06-18T12:13:23.699171Z",
     "shell.execute_reply": "2022-06-18T12:13:23.697883Z",
     "shell.execute_reply.started": "2022-06-18T12:13:21.707048Z"
    },
    "papermill": {
     "duration": 5.172536,
     "end_time": "2020-10-26T12:46:47.852593",
     "exception": false,
     "start_time": "2020-10-26T12:46:42.680057",
     "status": "completed"
    },
    "tags": []
   },
   "outputs": [],
   "source": [
    "# зафиксируем версию пакетов, чтобы эксперименты были воспроизводимы:\n",
    "!pip freeze > requirements.txt"
   ]
  },
  {
   "cell_type": "code",
   "execution_count": null,
   "metadata": {
    "execution": {
     "iopub.execute_input": "2022-06-18T12:13:23.703101Z",
     "iopub.status.busy": "2022-06-18T12:13:23.702726Z",
     "iopub.status.idle": "2022-06-18T12:13:23.708001Z",
     "shell.execute_reply": "2022-06-18T12:13:23.707023Z",
     "shell.execute_reply.started": "2022-06-18T12:13:23.703062Z"
    },
    "papermill": {
     "duration": 0.039842,
     "end_time": "2020-10-26T12:46:47.922434",
     "exception": false,
     "start_time": "2020-10-26T12:46:47.882592",
     "status": "completed"
    },
    "tags": []
   },
   "outputs": [],
   "source": [
    "# всегда фиксируйте RANDOM_SEED, чтобы ваши эксперименты были воспроизводимы!\n",
    "RANDOM_SEED = 42"
   ]
  },
  {
   "cell_type": "code",
   "execution_count": null,
   "metadata": {
    "_kg_hide-input": true,
    "execution": {
     "iopub.execute_input": "2022-06-18T12:13:23.710975Z",
     "iopub.status.busy": "2022-06-18T12:13:23.710238Z",
     "iopub.status.idle": "2022-06-18T12:13:23.722234Z",
     "shell.execute_reply": "2022-06-18T12:13:23.721Z",
     "shell.execute_reply.started": "2022-06-18T12:13:23.710917Z"
    }
   },
   "outputs": [],
   "source": [
    "def mape(y_true, y_pred):\n",
    "    return np.mean(np.abs((y_pred-y_true)/y_true))"
   ]
  },
  {
   "cell_type": "markdown",
   "metadata": {
    "papermill": {
     "duration": 0.028837,
     "end_time": "2020-10-26T12:46:47.981435",
     "exception": false,
     "start_time": "2020-10-26T12:46:47.952598",
     "status": "completed"
    },
    "tags": []
   },
   "source": [
    "# Setup"
   ]
  },
  {
   "cell_type": "code",
   "execution_count": null,
   "metadata": {
    "execution": {
     "iopub.execute_input": "2022-06-18T12:13:23.724371Z",
     "iopub.status.busy": "2022-06-18T12:13:23.723984Z",
     "iopub.status.idle": "2022-06-18T12:13:23.734972Z",
     "shell.execute_reply": "2022-06-18T12:13:23.733789Z",
     "shell.execute_reply.started": "2022-06-18T12:13:23.724334Z"
    },
    "papermill": {
     "duration": 0.039969,
     "end_time": "2020-10-26T12:46:48.052728",
     "exception": false,
     "start_time": "2020-10-26T12:46:48.012759",
     "status": "completed"
    },
    "tags": []
   },
   "outputs": [],
   "source": [
    "VERSION    = 16\n",
    "DIR_TRAIN  = '../input/parsing-all-moscow-auto-ru-09-09-2020/' # подключил к ноутбуку внешний датасет\n",
    "DIR_TEST   = '../input/sf-dst-car-price-prediction/'\n",
    "VAL_SIZE   = 0.20   # 20%"
   ]
  },
  {
   "cell_type": "markdown",
   "metadata": {
    "papermill": {
     "duration": 0.030254,
     "end_time": "2020-10-26T12:46:48.112586",
     "exception": false,
     "start_time": "2020-10-26T12:46:48.082332",
     "status": "completed"
    },
    "tags": []
   },
   "source": [
    "# Data"
   ]
  },
  {
   "cell_type": "code",
   "execution_count": null,
   "metadata": {
    "execution": {
     "iopub.execute_input": "2022-06-18T12:13:23.73698Z",
     "iopub.status.busy": "2022-06-18T12:13:23.736603Z",
     "iopub.status.idle": "2022-06-18T12:13:24.575277Z",
     "shell.execute_reply": "2022-06-18T12:13:24.574125Z",
     "shell.execute_reply.started": "2022-06-18T12:13:23.736939Z"
    },
    "papermill": {
     "duration": 0.783211,
     "end_time": "2020-10-26T12:46:48.925418",
     "exception": false,
     "start_time": "2020-10-26T12:46:48.142207",
     "status": "completed"
    },
    "tags": []
   },
   "outputs": [],
   "source": [
    "!ls '../input'"
   ]
  },
  {
   "cell_type": "code",
   "execution_count": null,
   "metadata": {
    "_cell_guid": "79c7e3d0-c299-4dcb-8224-4455121ee9b0",
    "_uuid": "d629ff2d2480ee46fbb7e2d37f6b5fab8052498a",
    "execution": {
     "iopub.execute_input": "2022-06-18T12:13:24.577592Z",
     "iopub.status.busy": "2022-06-18T12:13:24.577211Z",
     "iopub.status.idle": "2022-06-18T12:13:29.273695Z",
     "shell.execute_reply": "2022-06-18T12:13:29.272814Z",
     "shell.execute_reply.started": "2022-06-18T12:13:24.577552Z"
    },
    "papermill": {
     "duration": 13.16556,
     "end_time": "2020-10-26T12:47:02.12133",
     "exception": false,
     "start_time": "2020-10-26T12:46:48.95577",
     "status": "completed"
    },
    "tags": []
   },
   "outputs": [],
   "source": [
    "train = pd.read_csv(DIR_TRAIN+'all_auto_ru_09_09_2020.csv') # датасет для обучения модели\n",
    "test = pd.read_csv(DIR_TEST+'test.csv')\n",
    "sample_submission = pd.read_csv(DIR_TEST+'sample_submission.csv')"
   ]
  },
  {
   "cell_type": "code",
   "execution_count": null,
   "metadata": {
    "execution": {
     "iopub.execute_input": "2022-06-18T12:13:29.275167Z",
     "iopub.status.busy": "2022-06-18T12:13:29.274889Z",
     "iopub.status.idle": "2022-06-18T12:13:29.280844Z",
     "shell.execute_reply": "2022-06-18T12:13:29.27964Z",
     "shell.execute_reply.started": "2022-06-18T12:13:29.275139Z"
    }
   },
   "outputs": [],
   "source": [
    "print('Размер train', train.shape)\n",
    "print('Размер test', test.shape)"
   ]
  },
  {
   "cell_type": "markdown",
   "metadata": {},
   "source": [
    "У нас разное количество признаков на train и  test. Приведем все к единому виду.  "
   ]
  },
  {
   "cell_type": "code",
   "execution_count": null,
   "metadata": {
    "execution": {
     "iopub.execute_input": "2022-06-18T12:13:29.282781Z",
     "iopub.status.busy": "2022-06-18T12:13:29.282449Z",
     "iopub.status.idle": "2022-06-18T12:13:29.327581Z",
     "shell.execute_reply": "2022-06-18T12:13:29.326389Z",
     "shell.execute_reply.started": "2022-06-18T12:13:29.282752Z"
    },
    "papermill": {
     "duration": 0.09378,
     "end_time": "2020-10-26T12:47:02.246755",
     "exception": false,
     "start_time": "2020-10-26T12:47:02.152975",
     "status": "completed"
    },
    "tags": []
   },
   "outputs": [],
   "source": [
    "train.sample(5)"
   ]
  },
  {
   "cell_type": "code",
   "execution_count": null,
   "metadata": {
    "execution": {
     "iopub.execute_input": "2022-06-18T12:13:29.32976Z",
     "iopub.status.busy": "2022-06-18T12:13:29.329113Z",
     "iopub.status.idle": "2022-06-18T12:13:29.364228Z",
     "shell.execute_reply": "2022-06-18T12:13:29.363286Z",
     "shell.execute_reply.started": "2022-06-18T12:13:29.329706Z"
    }
   },
   "outputs": [],
   "source": [
    "test.sample(5)"
   ]
  },
  {
   "cell_type": "markdown",
   "metadata": {},
   "source": [
    "model_name в test и model в train значат одно и тоже. Переименуем model в train в model_name "
   ]
  },
  {
   "cell_type": "code",
   "execution_count": null,
   "metadata": {
    "execution": {
     "iopub.execute_input": "2022-06-18T12:13:29.366048Z",
     "iopub.status.busy": "2022-06-18T12:13:29.365724Z",
     "iopub.status.idle": "2022-06-18T12:13:29.371844Z",
     "shell.execute_reply": "2022-06-18T12:13:29.370941Z",
     "shell.execute_reply.started": "2022-06-18T12:13:29.366016Z"
    }
   },
   "outputs": [],
   "source": [
    "train.rename(columns={'model': 'model_name'}, inplace=True)"
   ]
  },
  {
   "cell_type": "code",
   "execution_count": null,
   "metadata": {
    "execution": {
     "iopub.execute_input": "2022-06-18T12:13:29.378192Z",
     "iopub.status.busy": "2022-06-18T12:13:29.377722Z",
     "iopub.status.idle": "2022-06-18T12:13:29.44647Z",
     "shell.execute_reply": "2022-06-18T12:13:29.445337Z",
     "shell.execute_reply.started": "2022-06-18T12:13:29.378153Z"
    }
   },
   "outputs": [],
   "source": [
    "test.info()"
   ]
  },
  {
   "cell_type": "code",
   "execution_count": null,
   "metadata": {
    "execution": {
     "iopub.execute_input": "2022-06-18T12:13:29.451401Z",
     "iopub.status.busy": "2022-06-18T12:13:29.451054Z",
     "iopub.status.idle": "2022-06-18T12:13:29.541402Z",
     "shell.execute_reply": "2022-06-18T12:13:29.540166Z",
     "shell.execute_reply.started": "2022-06-18T12:13:29.451366Z"
    }
   },
   "outputs": [],
   "source": [
    "train.info()"
   ]
  },
  {
   "cell_type": "markdown",
   "metadata": {},
   "source": [
    "У нас разное количество признаков в тесте и трейне. Приведем после все к единому виду. Для начала посмотрим на пропуски и посмотрим какие данные у нас предоставлены. "
   ]
  },
  {
   "cell_type": "markdown",
   "metadata": {},
   "source": [
    "# Начнем с Train"
   ]
  },
  {
   "cell_type": "code",
   "execution_count": null,
   "metadata": {
    "execution": {
     "iopub.execute_input": "2022-06-18T12:13:29.54331Z",
     "iopub.status.busy": "2022-06-18T12:13:29.543004Z",
     "iopub.status.idle": "2022-06-18T12:13:29.628514Z",
     "shell.execute_reply": "2022-06-18T12:13:29.62724Z",
     "shell.execute_reply.started": "2022-06-18T12:13:29.54328Z"
    }
   },
   "outputs": [],
   "source": [
    "train.isnull().sum()"
   ]
  },
  {
   "cell_type": "code",
   "execution_count": null,
   "metadata": {
    "execution": {
     "iopub.execute_input": "2022-06-18T12:13:29.630381Z",
     "iopub.status.busy": "2022-06-18T12:13:29.630075Z",
     "iopub.status.idle": "2022-06-18T12:13:29.663887Z",
     "shell.execute_reply": "2022-06-18T12:13:29.66298Z",
     "shell.execute_reply.started": "2022-06-18T12:13:29.63035Z"
    }
   },
   "outputs": [],
   "source": [
    "train[train['bodyType'].isnull()]"
   ]
  },
  {
   "cell_type": "markdown",
   "metadata": {},
   "source": [
    "У нас есть пересечение пропусков, где пропущено всего 1 значение. это civic 1989 года. Удалим эти данные. Они не сильно повлияют на обучение модели. "
   ]
  },
  {
   "cell_type": "code",
   "execution_count": null,
   "metadata": {
    "execution": {
     "iopub.execute_input": "2022-06-18T12:13:29.66551Z",
     "iopub.status.busy": "2022-06-18T12:13:29.665213Z",
     "iopub.status.idle": "2022-06-18T12:13:29.700028Z",
     "shell.execute_reply": "2022-06-18T12:13:29.699185Z",
     "shell.execute_reply.started": "2022-06-18T12:13:29.665477Z"
    }
   },
   "outputs": [],
   "source": [
    "train.drop(index=[24624], inplace = True)"
   ]
  },
  {
   "cell_type": "markdown",
   "metadata": {},
   "source": [
    "description — это текстовое описание рекламы. Оставим столбец так как есть.    \n",
    "Состояние - в трейне одни пропуски в признаке. в тесте все машины на ходу. Примем,  что все машины в трейне на ходу и удалил признак, т.к. он не информативен.   \n",
    "Владельцы - если посмотреть на пропуски. То start_date совпадает с productionDate либо есть небольшая разница. Примем, что все пропуски - это новые машины. И поставим значение 0.     \n",
    "ПТС - опять же, все пропуски только в новых машинах. Заменим значение на 'ORIGINAL'. Так же, данный столбце придеться удалить. Так как у нас все значения равны 'ORIGINAL'. К сожелению в тесте есть значения и дублекат. Однако в связи с тем, что на обучающей выборке у нас таких данных нету, мы не сможем исследовать влияние данного признака на стоимость.    \n",
    "Владение - столбец содержит информацию, как долго владел авто последний владелец. К сожелению заполнить данный столбец невозможно. Его придеться удалить. Так же на тесте более 60% пропусков у данного признака.    \n",
    "price - целевая переменная, на которой мы будем обучаться. Удаляем эти столбцы\n",
    "hidden- одни Nan. Удаляем признак"
   ]
  },
  {
   "cell_type": "code",
   "execution_count": null,
   "metadata": {
    "execution": {
     "iopub.execute_input": "2022-06-18T12:13:29.703063Z",
     "iopub.status.busy": "2022-06-18T12:13:29.702071Z",
     "iopub.status.idle": "2022-06-18T12:13:29.835371Z",
     "shell.execute_reply": "2022-06-18T12:13:29.834363Z",
     "shell.execute_reply.started": "2022-06-18T12:13:29.703009Z"
    }
   },
   "outputs": [],
   "source": [
    "train.drop('Состояние', axis = 1, inplace = True)\n",
    "test.drop('Состояние', axis = 1, inplace = True)\n",
    "train.drop('ПТС', axis = 1, inplace = True)\n",
    "test.drop('ПТС', axis = 1, inplace = True)\n",
    "train.drop('Владение', axis = 1, inplace = True)\n",
    "test.drop('Владение', axis = 1, inplace = True)\n",
    "train.drop('hidden', axis = 1, inplace = True)"
   ]
  },
  {
   "cell_type": "code",
   "execution_count": null,
   "metadata": {
    "execution": {
     "iopub.execute_input": "2022-06-18T12:13:29.837749Z",
     "iopub.status.busy": "2022-06-18T12:13:29.837133Z",
     "iopub.status.idle": "2022-06-18T12:13:29.87614Z",
     "shell.execute_reply": "2022-06-18T12:13:29.874865Z",
     "shell.execute_reply.started": "2022-06-18T12:13:29.837698Z"
    }
   },
   "outputs": [],
   "source": [
    "train.drop(train[train['price'].isnull()].index, axis = 0, inplace = True)"
   ]
  },
  {
   "cell_type": "code",
   "execution_count": null,
   "metadata": {
    "execution": {
     "iopub.execute_input": "2022-06-18T12:13:29.878597Z",
     "iopub.status.busy": "2022-06-18T12:13:29.878075Z",
     "iopub.status.idle": "2022-06-18T12:13:29.88976Z",
     "shell.execute_reply": "2022-06-18T12:13:29.888664Z",
     "shell.execute_reply.started": "2022-06-18T12:13:29.878519Z"
    }
   },
   "outputs": [],
   "source": [
    "train['price'].isnull()"
   ]
  },
  {
   "cell_type": "code",
   "execution_count": null,
   "metadata": {
    "execution": {
     "iopub.execute_input": "2022-06-18T12:13:29.8916Z",
     "iopub.status.busy": "2022-06-18T12:13:29.891177Z",
     "iopub.status.idle": "2022-06-18T12:13:29.899786Z",
     "shell.execute_reply": "2022-06-18T12:13:29.898754Z",
     "shell.execute_reply.started": "2022-06-18T12:13:29.891554Z"
    }
   },
   "outputs": [],
   "source": [
    "train['Владельцы'].fillna(0, inplace = True)"
   ]
  },
  {
   "cell_type": "markdown",
   "metadata": {
    "execution": {
     "iopub.execute_input": "2022-06-04T05:39:28.147212Z",
     "iopub.status.busy": "2022-06-04T05:39:28.146838Z",
     "iopub.status.idle": "2022-06-04T05:39:28.15467Z",
     "shell.execute_reply": "2022-06-04T05:39:28.152973Z",
     "shell.execute_reply.started": "2022-06-04T05:39:28.147182Z"
    }
   },
   "source": [
    "Теперь отберем признаки для построения модели, а так же приведем их к единому типу."
   ]
  },
  {
   "cell_type": "code",
   "execution_count": null,
   "metadata": {
    "execution": {
     "iopub.execute_input": "2022-06-18T12:13:29.902108Z",
     "iopub.status.busy": "2022-06-18T12:13:29.901654Z",
     "iopub.status.idle": "2022-06-18T12:13:29.926895Z",
     "shell.execute_reply": "2022-06-18T12:13:29.925717Z",
     "shell.execute_reply.started": "2022-06-18T12:13:29.902053Z"
    }
   },
   "outputs": [],
   "source": [
    "# для создания инвертированных словарей\n",
    "def invert_dict(my_dict):\n",
    "    inverted_dict = {}\n",
    "    for (new_key, new_value) in my_dict.items():\n",
    "        inverted_dict[new_value] = new_key\n",
    "    return inverted_dict\n",
    "\n",
    "# для вычисления объема двигателя из тестового DF\n",
    "def get_engineDisplacement_test(s):\n",
    "    if (re.search('\\d+', s) is not None) == False:\n",
    "        return 0\n",
    "    else:\n",
    "        return s.replace(' LTR','')\n",
    "\n",
    "# для вычисления мощности двигателя из тестового DF\n",
    "def get_enginePower_test(s):\n",
    "    return s.replace(' N12','')\n",
    "\n",
    "\n",
    "# для вычисления объема двигателя из train0\n",
    "def get_obiyom_dvigatelya_train0(s):\n",
    "    s1 = s['engineDisplacement']\n",
    "    b = False\n",
    "    if (s1[-1]=='d'):\n",
    "        s1 = s1[:-1]\n",
    "        try:\n",
    "            f = float(s1)\n",
    "            if f>100:\n",
    "                b = True\n",
    "            elif f>10:\n",
    "                f/=10\n",
    "            # return f\n",
    "        except Exception as ex:\n",
    "            b = True\n",
    "        if b==False:\n",
    "            return f\n",
    "    try:\n",
    "        f = float(s1)\n",
    "        if f>10:\n",
    "            b = True\n",
    "    except Exception as ex:\n",
    "        b = True\n",
    "    if b==False:\n",
    "        return s1\n",
    "    else:\n",
    "        s2 = s['name']\n",
    "        i = s2.find(s['engineDisplacement']) \n",
    "        if i==-1:\n",
    "            return -1\n",
    "        else:\n",
    "            j = s2.find(\".\"[i:])\n",
    "            s3 = s2[j-1:j+2]\n",
    "    try:\n",
    "        f2 = float(s3)\n",
    "    except Exception as es:\n",
    "        return -1\n",
    "    if f2>10:\n",
    "        return -1\n",
    "    return f2\n",
    "\n",
    "\n",
    "\n",
    "# для получения первого слова\n",
    "def get_first_word(s):\n",
    "    if not isinstance(s, str):\n",
    "        return \"\"\n",
    "    s = s.strip()\n",
    "    i = s.find(' ')\n",
    "    if i<1:\n",
    "        return s\n",
    "    else:\n",
    "        return s[0:i]"
   ]
  },
  {
   "cell_type": "code",
   "execution_count": null,
   "metadata": {
    "execution": {
     "iopub.execute_input": "2022-06-18T12:13:29.92956Z",
     "iopub.status.busy": "2022-06-18T12:13:29.929035Z",
     "iopub.status.idle": "2022-06-18T12:13:31.238735Z",
     "shell.execute_reply": "2022-06-18T12:13:31.237675Z",
     "shell.execute_reply.started": "2022-06-18T12:13:29.929475Z"
    }
   },
   "outputs": [],
   "source": [
    "# создадим колонку с объемом двигателя (из колонки 'engineDisplacement')\n",
    "train['engineDisplacement'] = train.apply(get_obiyom_dvigatelya_train0, axis=1).astype(float)\n",
    "test['engineDisplacement'] = test['engineDisplacement'].apply(get_engineDisplacement_test).astype(float)\n",
    "# приведем к общему виду кузова автомобилей\n",
    "test.bodyType = test.bodyType.apply(get_first_word).apply(lambda x: x.upper())\n",
    "train.bodyType = train.bodyType.apply(get_first_word).apply(lambda x: x.upper())"
   ]
  },
  {
   "cell_type": "code",
   "execution_count": null,
   "metadata": {
    "execution": {
     "iopub.execute_input": "2022-06-18T12:13:31.240605Z",
     "iopub.status.busy": "2022-06-18T12:13:31.240271Z",
     "iopub.status.idle": "2022-06-18T12:13:31.247981Z",
     "shell.execute_reply": "2022-06-18T12:13:31.246922Z",
     "shell.execute_reply.started": "2022-06-18T12:13:31.240568Z"
    }
   },
   "outputs": [],
   "source": [
    "# словарь для кодирования цветов автомобилей\n",
    "dict_color_direct       = {'ЗЕЛЁНЫЙ' : 0, 'БЕЛЫЙ' : 1, 'ЧЁРНЫЙ' : 2, 'КОРИЧНЕВЫЙ' : 3, \n",
    "                           'СЕРЕБРИСТЫЙ' : 4, 'СЕРЫЙ' : 5, 'КРАСНЫЙ' : 6, 'СИНИЙ' : 7, 'БЕЖЕВЫЙ' : 8, \n",
    "                           'ГОЛУБОЙ' : 9, 'ФИОЛЕТОВЫЙ' : 11, 'ЗОЛОТИСТЫЙ' : 12, # 'БОРДОВЫЙ' : 6, # 'Бордовый' : 10, \n",
    "                           'ОРАНЖЕВЫЙ' : 13, 'ЖЁЛТЫЙ' : 14, 'ПУРПУРНЫЙ' : 15, 'РОЗОВЫЙ' : 16}\n",
    "dict_color2_direct      = {'007F00' : 0, 'FAFBFB' : 1, '040001' : 2, '200204' : 3, 'CACECB' : 4, \n",
    "                           '97948F' : 5, 'EE1D19' : 6, '0000CC' : 7, 'C49648' : 8, '22A0F8' : 9, \n",
    "                           '4A2197' : 11, 'DEA522' : 12, 'FF8649' : 13, 'FFD600' : 14, \n",
    "                           '660099' : 15, 'FFC0CB' : 16}\n",
    "dict_color_invert       = invert_dict(dict_color_direct)"
   ]
  },
  {
   "cell_type": "code",
   "execution_count": null,
   "metadata": {
    "execution": {
     "iopub.execute_input": "2022-06-18T12:13:31.249649Z",
     "iopub.status.busy": "2022-06-18T12:13:31.249277Z",
     "iopub.status.idle": "2022-06-18T12:13:31.289595Z",
     "shell.execute_reply": "2022-06-18T12:13:31.288309Z",
     "shell.execute_reply.started": "2022-06-18T12:13:31.249615Z"
    }
   },
   "outputs": [],
   "source": [
    "# Преобразование color к единому виду\n",
    "train['color'] = train['color'].map(dict_color2_direct).map(dict_color_invert)\n",
    "test.color = test.color.apply(lambda x: x.upper())"
   ]
  },
  {
   "cell_type": "code",
   "execution_count": null,
   "metadata": {
    "execution": {
     "iopub.execute_input": "2022-06-18T12:13:31.29176Z",
     "iopub.status.busy": "2022-06-18T12:13:31.291377Z",
     "iopub.status.idle": "2022-06-18T12:13:31.345252Z",
     "shell.execute_reply": "2022-06-18T12:13:31.344351Z",
     "shell.execute_reply.started": "2022-06-18T12:13:31.291721Z"
    }
   },
   "outputs": [],
   "source": [
    "# Преобразование fuelType к единому виду\n",
    "train.color = train.color.apply(lambda x: x.upper())\n",
    "test.color = test.color.apply(lambda x: x.upper())"
   ]
  },
  {
   "cell_type": "code",
   "execution_count": null,
   "metadata": {
    "execution": {
     "iopub.execute_input": "2022-06-18T12:13:31.347372Z",
     "iopub.status.busy": "2022-06-18T12:13:31.346984Z",
     "iopub.status.idle": "2022-06-18T12:13:31.355726Z",
     "shell.execute_reply": "2022-06-18T12:13:31.354798Z",
     "shell.execute_reply.started": "2022-06-18T12:13:31.347337Z"
    }
   },
   "outputs": [],
   "source": [
    "# Преобразование modelDate к единому виду\n",
    "test['modelDate'] = test['modelDate'].astype(int)\n",
    "train['modelDate'] = train['modelDate'].astype(int)"
   ]
  },
  {
   "cell_type": "code",
   "execution_count": null,
   "metadata": {
    "execution": {
     "iopub.execute_input": "2022-06-18T12:13:31.358166Z",
     "iopub.status.busy": "2022-06-18T12:13:31.357802Z",
     "iopub.status.idle": "2022-06-18T12:13:31.399131Z",
     "shell.execute_reply": "2022-06-18T12:13:31.398058Z",
     "shell.execute_reply.started": "2022-06-18T12:13:31.358131Z"
    }
   },
   "outputs": [],
   "source": [
    "# Преобразование enginePower к единому виду\n",
    "test['enginePower'] = test['enginePower'].apply(get_enginePower_test).astype(int)\n",
    "train['enginePower'] = train['enginePower'].astype(int)"
   ]
  },
  {
   "cell_type": "code",
   "execution_count": null,
   "metadata": {
    "execution": {
     "iopub.execute_input": "2022-06-18T12:13:31.401074Z",
     "iopub.status.busy": "2022-06-18T12:13:31.400502Z",
     "iopub.status.idle": "2022-06-18T12:13:31.447134Z",
     "shell.execute_reply": "2022-06-18T12:13:31.446183Z",
     "shell.execute_reply.started": "2022-06-18T12:13:31.40102Z"
    }
   },
   "outputs": [],
   "source": [
    "# Преобразование fuelType к единому виду\n",
    "test.fuelType = test.fuelType.apply(lambda x: x.upper())\n",
    "train.fuelType = train.fuelType.apply(lambda x: x.upper())"
   ]
  },
  {
   "cell_type": "code",
   "execution_count": null,
   "metadata": {
    "execution": {
     "iopub.execute_input": "2022-06-18T12:13:31.448923Z",
     "iopub.status.busy": "2022-06-18T12:13:31.448397Z",
     "iopub.status.idle": "2022-06-18T12:13:31.456391Z",
     "shell.execute_reply": "2022-06-18T12:13:31.455085Z",
     "shell.execute_reply.started": "2022-06-18T12:13:31.448874Z"
    }
   },
   "outputs": [],
   "source": [
    "# Преобразование numberOfDoors к единому виду\n",
    "test.numberOfDoors = test.numberOfDoors.astype(int)\n",
    "train.numberOfDoors = train.numberOfDoors.astype(int)"
   ]
  },
  {
   "cell_type": "code",
   "execution_count": null,
   "metadata": {
    "execution": {
     "iopub.execute_input": "2022-06-18T12:13:31.458423Z",
     "iopub.status.busy": "2022-06-18T12:13:31.4579Z",
     "iopub.status.idle": "2022-06-18T12:13:32.364771Z",
     "shell.execute_reply": "2022-06-18T12:13:32.363753Z",
     "shell.execute_reply.started": "2022-06-18T12:13:31.458369Z"
    }
   },
   "outputs": [],
   "source": [
    "# Преобразование даты к единому виду\n",
    "test['parsing_unixtime'] = test['parsing_unixtime'].apply(\n",
    "        lambda x: datetime.utcfromtimestamp(x).strftime('%Y-%m-%d'))\n",
    "train['start_date'] = train['start_date'].apply(\n",
    "        lambda x: datetime.strptime(x.split('T')[0], '%Y-%m-%d'))"
   ]
  },
  {
   "cell_type": "code",
   "execution_count": null,
   "metadata": {
    "execution": {
     "iopub.execute_input": "2022-06-18T12:13:32.36661Z",
     "iopub.status.busy": "2022-06-18T12:13:32.366241Z",
     "iopub.status.idle": "2022-06-18T12:13:32.384101Z",
     "shell.execute_reply": "2022-06-18T12:13:32.382483Z",
     "shell.execute_reply.started": "2022-06-18T12:13:32.36657Z"
    }
   },
   "outputs": [],
   "source": [
    "# Преобразование признак Владельцы к единому виду\n",
    "test['Владельцы'] = test['Владельцы'].apply(lambda x: x[0])\n",
    "train['Владельцы'] = train['Владельцы'].astype(int)"
   ]
  },
  {
   "cell_type": "code",
   "execution_count": null,
   "metadata": {
    "execution": {
     "iopub.execute_input": "2022-06-18T12:13:32.385953Z",
     "iopub.status.busy": "2022-06-18T12:13:32.385619Z",
     "iopub.status.idle": "2022-06-18T12:13:32.412234Z",
     "shell.execute_reply": "2022-06-18T12:13:32.410972Z",
     "shell.execute_reply.started": "2022-06-18T12:13:32.38592Z"
    }
   },
   "outputs": [],
   "source": [
    "# Преобразование признак руль к единому виду\n",
    "dict_rul_direct = {'ЛЕВЫЙ' : 'LEFT', 'ПРАВЫЙ' : 'RIGHT'}\n",
    "test['Руль'] = test['Руль'].apply(lambda x: x.upper()).map(dict_rul_direct)"
   ]
  },
  {
   "cell_type": "code",
   "execution_count": null,
   "metadata": {
    "execution": {
     "iopub.execute_input": "2022-06-18T12:13:32.413877Z",
     "iopub.status.busy": "2022-06-18T12:13:32.413585Z",
     "iopub.status.idle": "2022-06-18T12:13:32.498186Z",
     "shell.execute_reply": "2022-06-18T12:13:32.497058Z",
     "shell.execute_reply.started": "2022-06-18T12:13:32.413849Z"
    }
   },
   "outputs": [],
   "source": [
    "train.info()"
   ]
  },
  {
   "cell_type": "code",
   "execution_count": null,
   "metadata": {
    "execution": {
     "iopub.execute_input": "2022-06-18T12:13:32.499546Z",
     "iopub.status.busy": "2022-06-18T12:13:32.499237Z",
     "iopub.status.idle": "2022-06-18T12:13:32.579735Z",
     "shell.execute_reply": "2022-06-18T12:13:32.578771Z",
     "shell.execute_reply.started": "2022-06-18T12:13:32.499502Z"
    }
   },
   "outputs": [],
   "source": [
    "test.info()"
   ]
  },
  {
   "cell_type": "code",
   "execution_count": null,
   "metadata": {
    "execution": {
     "iopub.execute_input": "2022-06-18T12:13:32.581489Z",
     "iopub.status.busy": "2022-06-18T12:13:32.581176Z",
     "iopub.status.idle": "2022-06-18T12:13:32.590733Z",
     "shell.execute_reply": "2022-06-18T12:13:32.589883Z",
     "shell.execute_reply.started": "2022-06-18T12:13:32.581456Z"
    }
   },
   "outputs": [],
   "source": [
    "train['start_date']"
   ]
  },
  {
   "cell_type": "code",
   "execution_count": null,
   "metadata": {
    "execution": {
     "iopub.execute_input": "2022-06-18T12:13:32.593414Z",
     "iopub.status.busy": "2022-06-18T12:13:32.592675Z",
     "iopub.status.idle": "2022-06-18T12:13:32.604073Z",
     "shell.execute_reply": "2022-06-18T12:13:32.603057Z",
     "shell.execute_reply.started": "2022-06-18T12:13:32.593371Z"
    }
   },
   "outputs": [],
   "source": [
    "train.rename(columns={'start_date': 'parsing_unixtime'}, inplace=True)"
   ]
  },
  {
   "cell_type": "markdown",
   "metadata": {},
   "source": [
    "Отметим, что признак ‘Таможня’ тоже не информативен, так как все машины как в трейне так и в тесте расторможены. \n",
    "Подберем признаки для построения модели. \n"
   ]
  },
  {
   "cell_type": "code",
   "execution_count": null,
   "metadata": {
    "execution": {
     "iopub.execute_input": "2022-06-18T12:13:32.606389Z",
     "iopub.status.busy": "2022-06-18T12:13:32.605722Z",
     "iopub.status.idle": "2022-06-18T12:13:32.617835Z",
     "shell.execute_reply": "2022-06-18T12:13:32.616501Z",
     "shell.execute_reply.started": "2022-06-18T12:13:32.606341Z"
    }
   },
   "outputs": [],
   "source": [
    "columns_model = ['bodyType', 'brand','color','description','engineDisplacement','enginePower',\n",
    "             'fuelType','mileage','modelDate','model_name','numberOfDoors','parsing_unixtime',\n",
    "             'productionDate','Владельцы','Привод','Руль']"
   ]
  },
  {
   "cell_type": "code",
   "execution_count": null,
   "metadata": {
    "execution": {
     "iopub.execute_input": "2022-06-18T12:13:32.620709Z",
     "iopub.status.busy": "2022-06-18T12:13:32.619743Z",
     "iopub.status.idle": "2022-06-18T12:13:32.673686Z",
     "shell.execute_reply": "2022-06-18T12:13:32.672695Z",
     "shell.execute_reply.started": "2022-06-18T12:13:32.620655Z"
    }
   },
   "outputs": [],
   "source": [
    "train[columns_model]"
   ]
  },
  {
   "cell_type": "code",
   "execution_count": null,
   "metadata": {
    "execution": {
     "iopub.execute_input": "2022-06-18T12:13:32.67576Z",
     "iopub.status.busy": "2022-06-18T12:13:32.675327Z",
     "iopub.status.idle": "2022-06-18T12:13:32.718063Z",
     "shell.execute_reply": "2022-06-18T12:13:32.717061Z",
     "shell.execute_reply.started": "2022-06-18T12:13:32.675717Z"
    }
   },
   "outputs": [],
   "source": [
    "test[columns_model]"
   ]
  },
  {
   "cell_type": "markdown",
   "metadata": {
    "papermill": {
     "duration": 0.033402,
     "end_time": "2020-10-26T12:47:02.866506",
     "exception": false,
     "start_time": "2020-10-26T12:47:02.833104",
     "status": "completed"
    },
    "tags": []
   },
   "source": [
    "## Data Preprocessing"
   ]
  },
  {
   "cell_type": "code",
   "execution_count": null,
   "metadata": {
    "execution": {
     "iopub.execute_input": "2022-06-18T12:13:32.719746Z",
     "iopub.status.busy": "2022-06-18T12:13:32.71942Z",
     "iopub.status.idle": "2022-06-18T12:13:32.762812Z",
     "shell.execute_reply": "2022-06-18T12:13:32.761841Z",
     "shell.execute_reply.started": "2022-06-18T12:13:32.719716Z"
    }
   },
   "outputs": [],
   "source": [
    "train"
   ]
  },
  {
   "cell_type": "markdown",
   "metadata": {},
   "source": [
    "# Подготовка данных к наивной модели."
   ]
  },
  {
   "cell_type": "code",
   "execution_count": null,
   "metadata": {
    "execution": {
     "iopub.execute_input": "2022-06-18T12:13:32.76507Z",
     "iopub.status.busy": "2022-06-18T12:13:32.764404Z",
     "iopub.status.idle": "2022-06-18T12:13:32.785247Z",
     "shell.execute_reply": "2022-06-18T12:13:32.783889Z",
     "shell.execute_reply.started": "2022-06-18T12:13:32.765014Z"
    },
    "papermill": {
     "duration": 0.054414,
     "end_time": "2020-10-26T12:47:03.223614",
     "exception": false,
     "start_time": "2020-10-26T12:47:03.1692",
     "status": "completed"
    },
    "tags": []
   },
   "outputs": [],
   "source": [
    "# для baseline просто возьму пару схожих признаков\n",
    "columns_naiv = ['bodyType', 'brand', 'productionDate', 'engineDisplacement', 'mileage']\n",
    "df_train = train[columns_naiv]\n",
    "df_test = test[columns_naiv]"
   ]
  },
  {
   "cell_type": "code",
   "execution_count": null,
   "metadata": {
    "execution": {
     "iopub.execute_input": "2022-06-18T12:13:32.787827Z",
     "iopub.status.busy": "2022-06-18T12:13:32.787048Z",
     "iopub.status.idle": "2022-06-18T12:13:32.799501Z",
     "shell.execute_reply": "2022-06-18T12:13:32.798592Z",
     "shell.execute_reply.started": "2022-06-18T12:13:32.787733Z"
    }
   },
   "outputs": [],
   "source": [
    "y = train['price']"
   ]
  },
  {
   "cell_type": "markdown",
   "metadata": {
    "papermill": {
     "duration": 0.033657,
     "end_time": "2020-10-26T12:47:03.29162",
     "exception": false,
     "start_time": "2020-10-26T12:47:03.257963",
     "status": "completed"
    },
    "tags": []
   },
   "source": [
    "## Label Encoding"
   ]
  },
  {
   "cell_type": "code",
   "execution_count": null,
   "metadata": {
    "execution": {
     "iopub.execute_input": "2022-06-18T12:13:32.801621Z",
     "iopub.status.busy": "2022-06-18T12:13:32.801196Z",
     "iopub.status.idle": "2022-06-18T12:13:32.831718Z",
     "shell.execute_reply": "2022-06-18T12:13:32.830631Z",
     "shell.execute_reply.started": "2022-06-18T12:13:32.801585Z"
    },
    "papermill": {
     "duration": 0.080223,
     "end_time": "2020-10-26T12:47:03.406196",
     "exception": false,
     "start_time": "2020-10-26T12:47:03.325973",
     "status": "completed"
    },
    "tags": []
   },
   "outputs": [],
   "source": [
    "# ВАЖНО! дря корректной обработки признаков объединяем трейн и тест в один датасет\n",
    "df_train['sample'] = 1 # помечаем где у нас трейн\n",
    "df_test['sample'] = 0 # помечаем где у нас тест\n",
    "\n",
    "data = df_test.append(df_train, sort=False).reset_index(drop=True) # объединяем"
   ]
  },
  {
   "cell_type": "code",
   "execution_count": null,
   "metadata": {
    "execution": {
     "iopub.execute_input": "2022-06-18T12:13:32.833508Z",
     "iopub.status.busy": "2022-06-18T12:13:32.833199Z",
     "iopub.status.idle": "2022-06-18T12:13:32.887885Z",
     "shell.execute_reply": "2022-06-18T12:13:32.886836Z",
     "shell.execute_reply.started": "2022-06-18T12:13:32.833478Z"
    },
    "papermill": {
     "duration": 0.10809,
     "end_time": "2020-10-26T12:47:03.549533",
     "exception": false,
     "start_time": "2020-10-26T12:47:03.441443",
     "status": "completed"
    },
    "tags": []
   },
   "outputs": [],
   "source": [
    "for colum in ['bodyType', 'brand', 'engineDisplacement']:\n",
    "    data[colum] = data[colum].astype('category').cat.codes\n"
   ]
  },
  {
   "cell_type": "code",
   "execution_count": null,
   "metadata": {
    "execution": {
     "iopub.execute_input": "2022-06-18T12:13:32.89129Z",
     "iopub.status.busy": "2022-06-18T12:13:32.890794Z",
     "iopub.status.idle": "2022-06-18T12:13:32.921144Z",
     "shell.execute_reply": "2022-06-18T12:13:32.919932Z",
     "shell.execute_reply.started": "2022-06-18T12:13:32.891236Z"
    },
    "papermill": {
     "duration": 0.071275,
     "end_time": "2020-10-26T12:47:03.754",
     "exception": false,
     "start_time": "2020-10-26T12:47:03.682725",
     "status": "completed"
    },
    "tags": []
   },
   "outputs": [],
   "source": [
    "X = data.query('sample == 1').drop(['sample'], axis=1)\n",
    "X_sub = data.query('sample == 0').drop(['sample'], axis=1)"
   ]
  },
  {
   "cell_type": "markdown",
   "metadata": {
    "papermill": {
     "duration": 0.035737,
     "end_time": "2020-10-26T12:47:03.826552",
     "exception": false,
     "start_time": "2020-10-26T12:47:03.790815",
     "status": "completed"
    },
    "tags": []
   },
   "source": [
    "## Train Split"
   ]
  },
  {
   "cell_type": "code",
   "execution_count": null,
   "metadata": {
    "execution": {
     "iopub.execute_input": "2022-06-18T12:13:32.923337Z",
     "iopub.status.busy": "2022-06-18T12:13:32.922993Z",
     "iopub.status.idle": "2022-06-18T12:13:32.939592Z",
     "shell.execute_reply": "2022-06-18T12:13:32.938715Z",
     "shell.execute_reply.started": "2022-06-18T12:13:32.923303Z"
    },
    "papermill": {
     "duration": 0.059208,
     "end_time": "2020-10-26T12:47:03.923564",
     "exception": false,
     "start_time": "2020-10-26T12:47:03.864356",
     "status": "completed"
    },
    "tags": []
   },
   "outputs": [],
   "source": [
    "X_train, X_test, y_train, y_test = train_test_split(X, y, test_size=VAL_SIZE, shuffle=True, random_state=RANDOM_SEED)"
   ]
  },
  {
   "cell_type": "markdown",
   "metadata": {},
   "source": [
    "# Создадим \"наивную\" модель \n",
    "Эта модель будет предсказывать среднюю цену по модели двигателя (engineDisplacement). \n",
    "C ней будем сравнивать другие модели.\n",
    "\n",
    "\n"
   ]
  },
  {
   "cell_type": "code",
   "execution_count": null,
   "metadata": {
    "execution": {
     "iopub.execute_input": "2022-06-18T12:13:32.941774Z",
     "iopub.status.busy": "2022-06-18T12:13:32.94101Z",
     "iopub.status.idle": "2022-06-18T12:13:32.956766Z",
     "shell.execute_reply": "2022-06-18T12:13:32.95552Z",
     "shell.execute_reply.started": "2022-06-18T12:13:32.941719Z"
    }
   },
   "outputs": [],
   "source": [
    "tmp_train = X_train.copy()\n",
    "tmp_train['price'] = y_train"
   ]
  },
  {
   "cell_type": "code",
   "execution_count": null,
   "metadata": {
    "execution": {
     "iopub.execute_input": "2022-06-18T12:13:32.959739Z",
     "iopub.status.busy": "2022-06-18T12:13:32.958815Z",
     "iopub.status.idle": "2022-06-18T12:13:32.977465Z",
     "shell.execute_reply": "2022-06-18T12:13:32.976269Z",
     "shell.execute_reply.started": "2022-06-18T12:13:32.959687Z"
    }
   },
   "outputs": [],
   "source": [
    "# Находим median по экземплярам engineDisplacement в трейне и размечаем тест\n",
    "predict = X_test['engineDisplacement'].map(tmp_train.groupby('engineDisplacement')['price'].median())\n",
    "\n",
    "#оцениваем точность\n",
    "print(f\"Точность наивной модели по метрике MAPE: {(mape(y_test, predict.values))*100:0.2f}%\")"
   ]
  },
  {
   "cell_type": "markdown",
   "metadata": {
    "papermill": {
     "duration": 0.037164,
     "end_time": "2020-10-26T12:47:03.997616",
     "exception": false,
     "start_time": "2020-10-26T12:47:03.960452",
     "status": "completed"
    },
    "tags": []
   },
   "source": [
    "# CatBoost\n",
    "![](https://pbs.twimg.com/media/DP-jUCyXcAArRTo.png:large)   \n",
    "\n",
    "\n",
    "У нас в данных практически все признаки категориальные. Специально для работы с такими данными была создана очень удобная библиотека CatBoost от Яндекса. [https://catboost.ai](http://)     \n",
    "На данный момент **CatBoost является одной из лучших библиотек для табличных данных!**\n",
    "\n",
    "#### Полезные видео о CatBoost (на русском):\n",
    "* [Доклад про CatBoost](https://youtu.be/9ZrfErvm97M)\n",
    "* [Свежий Туториал от команды CatBoost (практическая часть)](https://youtu.be/wQt4kgAOgV0) "
   ]
  },
  {
   "cell_type": "markdown",
   "metadata": {
    "papermill": {
     "duration": 0.035833,
     "end_time": "2020-10-26T12:47:04.149539",
     "exception": false,
     "start_time": "2020-10-26T12:47:04.113706",
     "status": "completed"
    },
    "tags": []
   },
   "source": [
    "## Fit"
   ]
  },
  {
   "cell_type": "code",
   "execution_count": null,
   "metadata": {
    "execution": {
     "iopub.execute_input": "2022-06-18T12:13:32.980471Z",
     "iopub.status.busy": "2022-06-18T12:13:32.979585Z",
     "iopub.status.idle": "2022-06-18T12:14:19.0515Z",
     "shell.execute_reply": "2022-06-18T12:14:19.050361Z",
     "shell.execute_reply.started": "2022-06-18T12:13:32.98042Z"
    },
    "papermill": {
     "duration": 67.991521,
     "end_time": "2020-10-26T12:48:12.178488",
     "exception": false,
     "start_time": "2020-10-26T12:47:04.186967",
     "status": "completed"
    },
    "tags": []
   },
   "outputs": [],
   "source": [
    "model = CatBoostRegressor(iterations = 5000,\n",
    "                          random_seed = RANDOM_SEED,\n",
    "                          eval_metric='MAPE',\n",
    "                          custom_metric=['R2', 'MAE'],\n",
    "                          silent=True,\n",
    "                         )\n",
    "model.fit(X_train, y_train,\n",
    "         #cat_features=cat_features_ids,\n",
    "         eval_set=(X_test, y_test),\n",
    "         verbose_eval=0,\n",
    "         use_best_model=True,\n",
    "         #plot=True\n",
    "         )\n",
    "\n",
    "model.save_model('catboost_single_model_baseline.model')"
   ]
  },
  {
   "cell_type": "code",
   "execution_count": null,
   "metadata": {
    "execution": {
     "iopub.execute_input": "2022-06-18T12:14:19.053835Z",
     "iopub.status.busy": "2022-06-18T12:14:19.053304Z",
     "iopub.status.idle": "2022-06-18T12:14:19.113462Z",
     "shell.execute_reply": "2022-06-18T12:14:19.112662Z",
     "shell.execute_reply.started": "2022-06-18T12:14:19.053775Z"
    }
   },
   "outputs": [],
   "source": [
    "# оцениваем точность\n",
    "predict = model.predict(X_test)\n",
    "print(f\"Точность модели по метрике MAPE: {(mape(y_test, predict))*100:0.2f}%\")"
   ]
  },
  {
   "cell_type": "markdown",
   "metadata": {
    "papermill": {
     "duration": 0.088891,
     "end_time": "2020-10-26T12:48:12.562943",
     "exception": false,
     "start_time": "2020-10-26T12:48:12.474052",
     "status": "completed"
    },
    "tags": []
   },
   "source": [
    "Вот так просто со старта, даже не трогая сами данные и не подбирая настройки catboosta, получаем модель с уровнем ошибки в 18%!"
   ]
  },
  {
   "cell_type": "markdown",
   "metadata": {},
   "source": [
    "### Log Traget\n",
    "Попробуем взять таргет в логорифм - это позволит уменьшить влияние выбросов на обучение модели (используем для этого np.log и np.exp).    \n",
    "В принциепе мы можем использовать любое приобразование на целевую переменную. Например деление на курс доллара, евро или гречки :) в дату сбора данных, смотрим дату парсинга в тесте в **parsing_unixtime**"
   ]
  },
  {
   "cell_type": "code",
   "execution_count": null,
   "metadata": {
    "execution": {
     "iopub.execute_input": "2022-06-18T12:14:19.115655Z",
     "iopub.status.busy": "2022-06-18T12:14:19.114956Z",
     "iopub.status.idle": "2022-06-18T12:14:19.127508Z",
     "shell.execute_reply": "2022-06-18T12:14:19.126345Z",
     "shell.execute_reply.started": "2022-06-18T12:14:19.115618Z"
    }
   },
   "outputs": [],
   "source": [
    "np.log(y_train)"
   ]
  },
  {
   "cell_type": "code",
   "execution_count": null,
   "metadata": {
    "execution": {
     "iopub.execute_input": "2022-06-18T12:14:19.129637Z",
     "iopub.status.busy": "2022-06-18T12:14:19.129291Z",
     "iopub.status.idle": "2022-06-18T12:15:05.415549Z",
     "shell.execute_reply": "2022-06-18T12:15:05.414603Z",
     "shell.execute_reply.started": "2022-06-18T12:14:19.129604Z"
    }
   },
   "outputs": [],
   "source": [
    "model = CatBoostRegressor(iterations = 5000,\n",
    "                          random_seed = RANDOM_SEED,\n",
    "                          eval_metric='MAPE',\n",
    "                          custom_metric=['R2', 'MAE'],\n",
    "                          silent=True,\n",
    "                         )\n",
    "model.fit(X_train, np.log(y_train),\n",
    "         #cat_features=cat_features_ids,\n",
    "         eval_set=(X_test, np.log(y_test)),\n",
    "         verbose_eval=0,\n",
    "         use_best_model=True,\n",
    "         #plot=True\n",
    "         )\n",
    "\n",
    "model.save_model('catboost_single_model_2_baseline.model')"
   ]
  },
  {
   "cell_type": "code",
   "execution_count": null,
   "metadata": {
    "execution": {
     "iopub.execute_input": "2022-06-18T12:15:05.417044Z",
     "iopub.status.busy": "2022-06-18T12:15:05.416786Z",
     "iopub.status.idle": "2022-06-18T12:15:05.552567Z",
     "shell.execute_reply": "2022-06-18T12:15:05.551719Z",
     "shell.execute_reply.started": "2022-06-18T12:15:05.417018Z"
    }
   },
   "outputs": [],
   "source": [
    "predict_test = np.exp(model.predict(X_test))\n",
    "predict_submission = np.exp(model.predict(X_sub))"
   ]
  },
  {
   "cell_type": "code",
   "execution_count": null,
   "metadata": {
    "execution": {
     "iopub.execute_input": "2022-06-18T12:15:05.554837Z",
     "iopub.status.busy": "2022-06-18T12:15:05.554503Z",
     "iopub.status.idle": "2022-06-18T12:15:05.563086Z",
     "shell.execute_reply": "2022-06-18T12:15:05.561872Z",
     "shell.execute_reply.started": "2022-06-18T12:15:05.554806Z"
    }
   },
   "outputs": [],
   "source": [
    "print(f\"Точность модели по метрике MAPE: {(mape(y_test, predict_test))*100:0.2f}%\")"
   ]
  },
  {
   "cell_type": "markdown",
   "metadata": {},
   "source": [
    "Как видим точность возросла до 15.51%. Продолжим дальше"
   ]
  },
  {
   "cell_type": "markdown",
   "metadata": {
    "execution": {
     "iopub.execute_input": "2022-06-11T05:51:55.656214Z",
     "iopub.status.busy": "2022-06-11T05:51:55.655511Z",
     "iopub.status.idle": "2022-06-11T05:51:55.660674Z",
     "shell.execute_reply": "2022-06-11T05:51:55.659147Z",
     "shell.execute_reply.started": "2022-06-11T05:51:55.656176Z"
    }
   },
   "source": [
    "# Futcher engineering "
   ]
  },
  {
   "cell_type": "code",
   "execution_count": null,
   "metadata": {
    "execution": {
     "iopub.execute_input": "2022-06-18T12:15:05.565105Z",
     "iopub.status.busy": "2022-06-18T12:15:05.56482Z",
     "iopub.status.idle": "2022-06-18T12:15:05.649216Z",
     "shell.execute_reply": "2022-06-18T12:15:05.648305Z",
     "shell.execute_reply.started": "2022-06-18T12:15:05.565078Z"
    }
   },
   "outputs": [],
   "source": [
    "test_2 = test[columns_model]\n",
    "train_2 = train[columns_model]"
   ]
  },
  {
   "cell_type": "code",
   "execution_count": null,
   "metadata": {
    "execution": {
     "iopub.execute_input": "2022-06-18T12:15:05.651571Z",
     "iopub.status.busy": "2022-06-18T12:15:05.651085Z",
     "iopub.status.idle": "2022-06-18T12:15:05.656659Z",
     "shell.execute_reply": "2022-06-18T12:15:05.655483Z",
     "shell.execute_reply.started": "2022-06-18T12:15:05.651503Z"
    }
   },
   "outputs": [],
   "source": [
    "price = train['price']"
   ]
  },
  {
   "cell_type": "code",
   "execution_count": null,
   "metadata": {
    "execution": {
     "iopub.execute_input": "2022-06-18T12:15:05.659085Z",
     "iopub.status.busy": "2022-06-18T12:15:05.658579Z",
     "iopub.status.idle": "2022-06-18T12:15:06.122083Z",
     "shell.execute_reply": "2022-06-18T12:15:06.120961Z",
     "shell.execute_reply.started": "2022-06-18T12:15:05.659046Z"
    }
   },
   "outputs": [],
   "source": [
    "test_2['sample'] = 1 # помечаем где у нас трейн\n",
    "train_2['sample'] = 0 # помечаем где у нас тест\n",
    "\n",
    "data_2 = test_2.append(train_2, sort=False).reset_index(drop=True) # объединяем"
   ]
  },
  {
   "cell_type": "markdown",
   "metadata": {},
   "source": [
    "Добавим пару новых признаков:\n",
    "Комбинация год_месяц. Что бы подобрать курс доллара для каждой машины на дату продажи.\n",
    "Количество лет машине и количество лет модели.\n"
   ]
  },
  {
   "cell_type": "code",
   "execution_count": null,
   "metadata": {
    "execution": {
     "iopub.execute_input": "2022-06-18T12:15:06.123807Z",
     "iopub.status.busy": "2022-06-18T12:15:06.123504Z",
     "iopub.status.idle": "2022-06-18T12:15:06.12892Z",
     "shell.execute_reply": "2022-06-18T12:15:06.12785Z",
     "shell.execute_reply.started": "2022-06-18T12:15:06.123778Z"
    }
   },
   "outputs": [],
   "source": [
    "def to_date(x):\n",
    "    if type(x) is str:\n",
    "        return datetime.strptime(x, '%Y-%m-%d')\n",
    "    else: return x"
   ]
  },
  {
   "cell_type": "code",
   "execution_count": null,
   "metadata": {
    "execution": {
     "iopub.execute_input": "2022-06-18T12:15:06.130822Z",
     "iopub.status.busy": "2022-06-18T12:15:06.130489Z",
     "iopub.status.idle": "2022-06-18T12:15:06.481224Z",
     "shell.execute_reply": "2022-06-18T12:15:06.480185Z",
     "shell.execute_reply.started": "2022-06-18T12:15:06.130793Z"
    }
   },
   "outputs": [],
   "source": [
    "data_2['parsing_unixtime'] = data_2['parsing_unixtime'].apply(\n",
    "        lambda x: to_date(x))"
   ]
  },
  {
   "cell_type": "code",
   "execution_count": null,
   "metadata": {
    "execution": {
     "iopub.execute_input": "2022-06-18T12:15:06.482894Z",
     "iopub.status.busy": "2022-06-18T12:15:06.482606Z",
     "iopub.status.idle": "2022-06-18T12:15:12.691585Z",
     "shell.execute_reply": "2022-06-18T12:15:12.690769Z",
     "shell.execute_reply.started": "2022-06-18T12:15:06.482865Z"
    }
   },
   "outputs": [],
   "source": [
    "data_2['parsing_unixtime'] = data_2['parsing_unixtime'].apply(\n",
    "        lambda x: to_date(x))\n",
    "data_2['year_pars'] = data_2['parsing_unixtime'].apply(\n",
    "        lambda x: str(x.year))\n",
    "data_2['year_month'] = data_2['parsing_unixtime'].apply(\n",
    "        lambda x: str(x.year)+\"_\"+str(+x.month))\n",
    "data_2['machine_age'] = data_2.apply(\n",
    "        lambda x: int(x['year_pars'])- x['productionDate'], axis = 1)\n",
    "data_2['model_age'] = data_2.apply(\n",
    "        lambda x: int(x['year_pars'])- x['modelDate'], axis = 1)"
   ]
  },
  {
   "cell_type": "code",
   "execution_count": null,
   "metadata": {
    "execution": {
     "iopub.execute_input": "2022-06-18T12:15:12.697574Z",
     "iopub.status.busy": "2022-06-18T12:15:12.697033Z",
     "iopub.status.idle": "2022-06-18T12:15:13.328172Z",
     "shell.execute_reply": "2022-06-18T12:15:13.327016Z",
     "shell.execute_reply.started": "2022-06-18T12:15:12.697503Z"
    }
   },
   "outputs": [],
   "source": [
    "data_2['month_pars'] = data_2['parsing_unixtime'].apply(\n",
    "        lambda x: str(x.month))"
   ]
  },
  {
   "cell_type": "code",
   "execution_count": null,
   "metadata": {
    "execution": {
     "iopub.execute_input": "2022-06-18T12:15:13.329929Z",
     "iopub.status.busy": "2022-06-18T12:15:13.329605Z",
     "iopub.status.idle": "2022-06-18T12:15:13.336336Z",
     "shell.execute_reply": "2022-06-18T12:15:13.334839Z",
     "shell.execute_reply.started": "2022-06-18T12:15:13.329899Z"
    }
   },
   "outputs": [],
   "source": [
    "def description_len (x):\n",
    "    '''Функция принимает на вход строку\n",
    "    и возвращает длину строки'''\n",
    "    \n",
    "    if type(x) is str:\n",
    "        return len(x)\n",
    "    else:\n",
    "        return 0"
   ]
  },
  {
   "cell_type": "code",
   "execution_count": null,
   "metadata": {
    "execution": {
     "iopub.execute_input": "2022-06-18T12:15:13.33889Z",
     "iopub.status.busy": "2022-06-18T12:15:13.338263Z",
     "iopub.status.idle": "2022-06-18T12:15:13.444387Z",
     "shell.execute_reply": "2022-06-18T12:15:13.443149Z",
     "shell.execute_reply.started": "2022-06-18T12:15:13.338841Z"
    }
   },
   "outputs": [],
   "source": [
    "data_2['description_len'] = data_2['description'].apply(lambda x: description_len(x))"
   ]
  },
  {
   "cell_type": "code",
   "execution_count": null,
   "metadata": {
    "execution": {
     "iopub.execute_input": "2022-06-18T12:15:13.446027Z",
     "iopub.status.busy": "2022-06-18T12:15:13.445716Z",
     "iopub.status.idle": "2022-06-18T12:15:13.452379Z",
     "shell.execute_reply": "2022-06-18T12:15:13.451335Z",
     "shell.execute_reply.started": "2022-06-18T12:15:13.445997Z"
    }
   },
   "outputs": [],
   "source": [
    "def seasons (x):\n",
    "    '''Функция для преобразования в сезоны года'''\n",
    "    if int(x) in [12,1,2]:\n",
    "        return 'ЗИМА'\n",
    "    elif int(x) in [3,4,5]:\n",
    "        return \"ВЕСНА\"\n",
    "    elif int(x) in [6,7,8]:\n",
    "        return 'ЛЕТО'\n",
    "    elif int(x) in [9,10,11]:\n",
    "        return 'ОСЕНЬ'"
   ]
  },
  {
   "cell_type": "code",
   "execution_count": null,
   "metadata": {
    "execution": {
     "iopub.execute_input": "2022-06-18T12:15:13.453855Z",
     "iopub.status.busy": "2022-06-18T12:15:13.453542Z",
     "iopub.status.idle": "2022-06-18T12:15:13.5826Z",
     "shell.execute_reply": "2022-06-18T12:15:13.581483Z",
     "shell.execute_reply.started": "2022-06-18T12:15:13.453823Z"
    }
   },
   "outputs": [],
   "source": [
    "data_2['season'] = data_2['month_pars'].apply(lambda x: seasons(x))"
   ]
  },
  {
   "cell_type": "code",
   "execution_count": null,
   "metadata": {
    "execution": {
     "iopub.execute_input": "2022-06-18T12:15:13.584665Z",
     "iopub.status.busy": "2022-06-18T12:15:13.584299Z",
     "iopub.status.idle": "2022-06-18T12:15:13.615081Z",
     "shell.execute_reply": "2022-06-18T12:15:13.613496Z",
     "shell.execute_reply.started": "2022-06-18T12:15:13.58463Z"
    }
   },
   "outputs": [],
   "source": [
    "data_2.head()"
   ]
  },
  {
   "cell_type": "code",
   "execution_count": null,
   "metadata": {
    "execution": {
     "iopub.execute_input": "2022-06-18T12:15:13.617699Z",
     "iopub.status.busy": "2022-06-18T12:15:13.617128Z",
     "iopub.status.idle": "2022-06-18T12:15:13.625502Z",
     "shell.execute_reply": "2022-06-18T12:15:13.62431Z",
     "shell.execute_reply.started": "2022-06-18T12:15:13.617625Z"
    }
   },
   "outputs": [],
   "source": [
    "col_check = ['bodyType','brand', 'engineDisplacement','enginePower','fuelType', 'model_name','Привод', 'Руль']"
   ]
  },
  {
   "cell_type": "code",
   "execution_count": null,
   "metadata": {
    "execution": {
     "iopub.execute_input": "2022-06-18T12:15:13.627937Z",
     "iopub.status.busy": "2022-06-18T12:15:13.627439Z",
     "iopub.status.idle": "2022-06-18T12:15:13.720428Z",
     "shell.execute_reply": "2022-06-18T12:15:13.719444Z",
     "shell.execute_reply.started": "2022-06-18T12:15:13.627888Z"
    }
   },
   "outputs": [],
   "source": [
    "# проверим данные на выборс\n",
    "for i in col_check:\n",
    "    print(i, data_2[i].unique())"
   ]
  },
  {
   "cell_type": "markdown",
   "metadata": {},
   "source": [
    "engineDisplacement содержит значения -1 и 0. Проверим данные выбросы."
   ]
  },
  {
   "cell_type": "code",
   "execution_count": null,
   "metadata": {
    "execution": {
     "iopub.execute_input": "2022-06-18T12:15:13.722922Z",
     "iopub.status.busy": "2022-06-18T12:15:13.722469Z",
     "iopub.status.idle": "2022-06-18T12:15:13.790578Z",
     "shell.execute_reply": "2022-06-18T12:15:13.789652Z",
     "shell.execute_reply.started": "2022-06-18T12:15:13.722873Z"
    }
   },
   "outputs": [],
   "source": [
    "data_2[data_2['engineDisplacement']<=0]['fuelType'].unique()"
   ]
  },
  {
   "cell_type": "markdown",
   "metadata": {},
   "source": [
    "Все данные автомобили - это электрокары. Заменим все значения -1 на 0 "
   ]
  },
  {
   "cell_type": "code",
   "execution_count": null,
   "metadata": {
    "execution": {
     "iopub.execute_input": "2022-06-18T12:15:13.792459Z",
     "iopub.status.busy": "2022-06-18T12:15:13.792145Z",
     "iopub.status.idle": "2022-06-18T12:15:13.799632Z",
     "shell.execute_reply": "2022-06-18T12:15:13.798736Z",
     "shell.execute_reply.started": "2022-06-18T12:15:13.792427Z"
    }
   },
   "outputs": [],
   "source": [
    "data_2.loc[(data_2.engineDisplacement < 0), 'engineDisplacement'] = 0"
   ]
  },
  {
   "cell_type": "markdown",
   "metadata": {},
   "source": [
    "# Добавим среднемесячные курсы валют."
   ]
  },
  {
   "cell_type": "code",
   "execution_count": null,
   "metadata": {
    "execution": {
     "iopub.execute_input": "2022-06-18T12:15:13.80102Z",
     "iopub.status.busy": "2022-06-18T12:15:13.800701Z",
     "iopub.status.idle": "2022-06-18T12:15:13.825828Z",
     "shell.execute_reply": "2022-06-18T12:15:13.824944Z",
     "shell.execute_reply.started": "2022-06-18T12:15:13.800987Z"
    }
   },
   "outputs": [],
   "source": [
    "exchange_rate = pd.read_excel('../input/exchange-rate/exchange_rate.xlsx')"
   ]
  },
  {
   "cell_type": "code",
   "execution_count": null,
   "metadata": {
    "execution": {
     "iopub.execute_input": "2022-06-18T12:15:13.827579Z",
     "iopub.status.busy": "2022-06-18T12:15:13.82711Z",
     "iopub.status.idle": "2022-06-18T12:15:13.833963Z",
     "shell.execute_reply": "2022-06-18T12:15:13.832945Z",
     "shell.execute_reply.started": "2022-06-18T12:15:13.827514Z"
    }
   },
   "outputs": [],
   "source": [
    "exchange_rate = exchange_rate[['year_month','kyrs']]"
   ]
  },
  {
   "cell_type": "code",
   "execution_count": null,
   "metadata": {
    "execution": {
     "iopub.execute_input": "2022-06-18T12:15:13.836214Z",
     "iopub.status.busy": "2022-06-18T12:15:13.835579Z",
     "iopub.status.idle": "2022-06-18T12:15:13.847821Z",
     "shell.execute_reply": "2022-06-18T12:15:13.846791Z",
     "shell.execute_reply.started": "2022-06-18T12:15:13.836154Z"
    }
   },
   "outputs": [],
   "source": [
    "def add_exchange_rate(x):\n",
    "    #print(x)\n",
    "    return exchange_rate[exchange_rate['year_month'] == x]['kyrs'].iloc[0]"
   ]
  },
  {
   "cell_type": "code",
   "execution_count": null,
   "metadata": {
    "execution": {
     "iopub.execute_input": "2022-06-18T12:15:13.849762Z",
     "iopub.status.busy": "2022-06-18T12:15:13.849401Z",
     "iopub.status.idle": "2022-06-18T12:16:11.776878Z",
     "shell.execute_reply": "2022-06-18T12:16:11.775908Z",
     "shell.execute_reply.started": "2022-06-18T12:15:13.849727Z"
    }
   },
   "outputs": [],
   "source": [
    "data_2['kyrs'] = data_2['year_month'].apply(lambda x:add_exchange_rate(x))"
   ]
  },
  {
   "cell_type": "code",
   "execution_count": null,
   "metadata": {
    "execution": {
     "iopub.execute_input": "2022-06-18T12:16:11.783944Z",
     "iopub.status.busy": "2022-06-18T12:16:11.78358Z",
     "iopub.status.idle": "2022-06-18T12:16:11.81108Z",
     "shell.execute_reply": "2022-06-18T12:16:11.810023Z",
     "shell.execute_reply.started": "2022-06-18T12:16:11.783904Z"
    }
   },
   "outputs": [],
   "source": [
    "data_2.head()"
   ]
  },
  {
   "cell_type": "markdown",
   "metadata": {
    "execution": {
     "iopub.execute_input": "2022-06-14T15:10:49.994811Z",
     "iopub.status.busy": "2022-06-14T15:10:49.994432Z",
     "iopub.status.idle": "2022-06-14T15:10:49.99918Z",
     "shell.execute_reply": "2022-06-14T15:10:49.998141Z",
     "shell.execute_reply.started": "2022-06-14T15:10:49.994779Z"
    }
   },
   "source": [
    "# Модель №1  CatBoost"
   ]
  },
  {
   "cell_type": "code",
   "execution_count": null,
   "metadata": {
    "execution": {
     "iopub.execute_input": "2022-06-18T12:16:11.813235Z",
     "iopub.status.busy": "2022-06-18T12:16:11.812724Z",
     "iopub.status.idle": "2022-06-18T12:16:11.825567Z",
     "shell.execute_reply": "2022-06-18T12:16:11.824653Z",
     "shell.execute_reply.started": "2022-06-18T12:16:11.813182Z"
    }
   },
   "outputs": [],
   "source": [
    "col_for_model_tree = ['bodyType','brand','color','engineDisplacement','enginePower','fuelType','mileage',\n",
    "                'modelDate','model_name','numberOfDoors','productionDate','Владельцы','Привод','Руль',\n",
    "                'year_pars','machine_age','model_age','description_len','season','kyrs','sample']\n",
    "col_cat_tree = ['bodyType','brand','color','fuelType','model_name','Привод','Руль',\n",
    "                'description_len','season']\n",
    "col_drop_tree = ['description','parsing_unixtime', 'year_month','month_pars']"
   ]
  },
  {
   "cell_type": "code",
   "execution_count": null,
   "metadata": {
    "execution": {
     "iopub.execute_input": "2022-06-18T12:16:11.827589Z",
     "iopub.status.busy": "2022-06-18T12:16:11.826931Z",
     "iopub.status.idle": "2022-06-18T12:16:11.891784Z",
     "shell.execute_reply": "2022-06-18T12:16:11.890803Z",
     "shell.execute_reply.started": "2022-06-18T12:16:11.827549Z"
    }
   },
   "outputs": [],
   "source": [
    "data_tree = data_2[col_for_model_tree].copy()"
   ]
  },
  {
   "cell_type": "code",
   "execution_count": null,
   "metadata": {
    "execution": {
     "iopub.execute_input": "2022-06-18T12:16:11.893743Z",
     "iopub.status.busy": "2022-06-18T12:16:11.893203Z",
     "iopub.status.idle": "2022-06-18T12:16:12.079993Z",
     "shell.execute_reply": "2022-06-18T12:16:12.07881Z",
     "shell.execute_reply.started": "2022-06-18T12:16:11.893692Z"
    }
   },
   "outputs": [],
   "source": [
    "for colum in col_cat_tree:\n",
    "    data_tree[colum] = data_tree[colum].astype('category').cat.codes\n",
    "\n",
    "X_valid = data_tree.query('sample == 1').drop(['sample'], axis=1)\n",
    "X = data_tree.query('sample == 0').drop(['sample'], axis=1)"
   ]
  },
  {
   "cell_type": "code",
   "execution_count": null,
   "metadata": {
    "execution": {
     "iopub.execute_input": "2022-06-18T12:16:12.081823Z",
     "iopub.status.busy": "2022-06-18T12:16:12.081469Z",
     "iopub.status.idle": "2022-06-18T12:16:12.087199Z",
     "shell.execute_reply": "2022-06-18T12:16:12.085913Z",
     "shell.execute_reply.started": "2022-06-18T12:16:12.081789Z"
    }
   },
   "outputs": [],
   "source": [
    "y = train['price']"
   ]
  },
  {
   "cell_type": "code",
   "execution_count": null,
   "metadata": {
    "execution": {
     "iopub.execute_input": "2022-06-18T12:16:12.08973Z",
     "iopub.status.busy": "2022-06-18T12:16:12.089186Z",
     "iopub.status.idle": "2022-06-18T12:16:12.126832Z",
     "shell.execute_reply": "2022-06-18T12:16:12.125829Z",
     "shell.execute_reply.started": "2022-06-18T12:16:12.089681Z"
    }
   },
   "outputs": [],
   "source": [
    "X_train, X_test, y_train, y_test = train_test_split(X, y, test_size=VAL_SIZE, shuffle=True, random_state=RANDOM_SEED)"
   ]
  },
  {
   "cell_type": "code",
   "execution_count": null,
   "metadata": {
    "execution": {
     "iopub.execute_input": "2022-06-18T12:16:12.129611Z",
     "iopub.status.busy": "2022-06-18T12:16:12.128481Z",
     "iopub.status.idle": "2022-06-18T12:17:13.766956Z",
     "shell.execute_reply": "2022-06-18T12:17:13.765667Z",
     "shell.execute_reply.started": "2022-06-18T12:16:12.129554Z"
    }
   },
   "outputs": [],
   "source": [
    "model = CatBoostRegressor(iterations = 5000,\n",
    "                          random_seed = RANDOM_SEED,\n",
    "                          eval_metric='MAPE',\n",
    "                          custom_metric=['R2', 'MAE'],\n",
    "                          silent=True,\n",
    "                         )\n",
    "model.fit(X_train, np.log(y_train),\n",
    "         #cat_features=cat_features_ids,\n",
    "         eval_set=(X_test, np.log(y_test)),\n",
    "         verbose_eval=0,\n",
    "         use_best_model=True,\n",
    "         #plot=True\n",
    "         )\n",
    "\n",
    "model.save_model('catboost_single_model_2_baseline.model')"
   ]
  },
  {
   "cell_type": "code",
   "execution_count": null,
   "metadata": {
    "execution": {
     "iopub.execute_input": "2022-06-18T12:17:13.768805Z",
     "iopub.status.busy": "2022-06-18T12:17:13.768401Z",
     "iopub.status.idle": "2022-06-18T12:17:13.839066Z",
     "shell.execute_reply": "2022-06-18T12:17:13.838059Z",
     "shell.execute_reply.started": "2022-06-18T12:17:13.768768Z"
    }
   },
   "outputs": [],
   "source": [
    "predict_test_Cat_Boost = np.exp(model.predict(X_test))\n",
    "#predict_submission = np.exp(model.predict(X_sub))\n",
    "print(f\"Точность модели по метрике MAPE: {(mape(y_test, predict_test))*100:0.2f}%\")"
   ]
  },
  {
   "cell_type": "code",
   "execution_count": null,
   "metadata": {
    "execution": {
     "iopub.execute_input": "2022-06-18T12:17:13.840647Z",
     "iopub.status.busy": "2022-06-18T12:17:13.840309Z"
    }
   },
   "outputs": [],
   "source": [
    "from sklearn.ensemble import GradientBoostingClassifier\n",
    "\n",
    "clf = GradientBoostingClassifier()\n",
    "clf = clf.fit(X_train, y_train)"
   ]
  },
  {
   "cell_type": "code",
   "execution_count": null,
   "metadata": {},
   "outputs": [],
   "source": [
    "predict_test_GBC = np.exp(clf.predict(X_test))\n",
    "#predict_submission = np.exp(model.predict(X_sub))\n",
    "print(f\"Точность модели по метрике MAPE: {(mape(y_test, predict_test))*100:0.2f}%\")"
   ]
  },
  {
   "cell_type": "code",
   "execution_count": null,
   "metadata": {
    "execution": {
     "iopub.execute_input": "2022-06-18T11:39:46.15295Z",
     "iopub.status.busy": "2022-06-18T11:39:46.152479Z",
     "iopub.status.idle": "2022-06-18T11:39:46.169333Z",
     "shell.execute_reply": "2022-06-18T11:39:46.167628Z",
     "shell.execute_reply.started": "2022-06-18T11:39:46.152896Z"
    }
   },
   "outputs": [],
   "source": [
    "y_train.shape"
   ]
  },
  {
   "cell_type": "code",
   "execution_count": null,
   "metadata": {},
   "outputs": [],
   "source": []
  },
  {
   "cell_type": "code",
   "execution_count": null,
   "metadata": {
    "execution": {
     "iopub.execute_input": "2022-06-18T11:46:38.180944Z",
     "iopub.status.busy": "2022-06-18T11:46:38.180609Z",
     "iopub.status.idle": "2022-06-18T11:46:38.227057Z",
     "shell.execute_reply": "2022-06-18T11:46:38.225806Z",
     "shell.execute_reply.started": "2022-06-18T11:46:38.180917Z"
    }
   },
   "outputs": [],
   "source": [
    "cv_dataset_chosen = Pool(data=X_train, label=y_train)\n",
    "params = {\"early_stopping_rounds\": 10,\n",
    "          \"loss_function\": \"MAPE\",\n",
    "          'eval_metric' :  ['R2', 'MAE'],\n",
    "          \"verbose\": 0\n",
    "         }\n",
    "sv_cb = cv(cv_dataset_chosen,\n",
    "            params,\n",
    "            shuffle=False,\n",
    "            fold_count=10,\n",
    "            return_models=True,\n",
    "            plot=\"True\"\n",
    "          )"
   ]
  },
  {
   "cell_type": "markdown",
   "metadata": {
    "papermill": {
     "duration": 0.085876,
     "end_time": "2020-10-26T12:48:12.734207",
     "exception": false,
     "start_time": "2020-10-26T12:48:12.648331",
     "status": "completed"
    },
    "tags": []
   },
   "source": [
    "# Submission"
   ]
  },
  {
   "cell_type": "code",
   "execution_count": null,
   "metadata": {
    "execution": {
     "iopub.status.busy": "2022-06-18T05:51:18.058414Z",
     "iopub.status.idle": "2022-06-18T05:51:18.059239Z"
    },
    "papermill": {
     "duration": 0.628302,
     "end_time": "2020-10-26T12:48:13.763488",
     "exception": false,
     "start_time": "2020-10-26T12:48:13.135186",
     "status": "completed"
    },
    "tags": []
   },
   "outputs": [],
   "source": [
    "#sample_submission['price'] = predict_submission\n",
    "#sample_submission.to_csv(f'submission_2_v{VERSION}.csv', index=False)\n",
    "#sample_submission.head(10)"
   ]
  },
  {
   "cell_type": "markdown",
   "metadata": {
    "papermill": {
     "duration": 0.083769,
     "end_time": "2020-10-26T12:48:13.930562",
     "exception": false,
     "start_time": "2020-10-26T12:48:13.846793",
     "status": "completed"
    },
    "tags": []
   },
   "source": [
    "В итоге получили **MAPE 27%** на ЛБ!\n",
    "\n",
    "Большая разница в ошибке может указывать на то что тест и трейн имеют различия по выборке или то что данные в трейне могли уже устареть и их нужно обновлять."
   ]
  },
  {
   "cell_type": "code",
   "execution_count": null,
   "metadata": {},
   "outputs": [],
   "source": []
  },
  {
   "cell_type": "code",
   "execution_count": null,
   "metadata": {},
   "outputs": [],
   "source": []
  },
  {
   "cell_type": "markdown",
   "metadata": {
    "papermill": {
     "duration": 0.087712,
     "end_time": "2020-10-26T12:48:14.104388",
     "exception": false,
     "start_time": "2020-10-26T12:48:14.016676",
     "status": "completed"
    },
    "tags": []
   },
   "source": [
    "# What's next?\n",
    "Или что еще можно сделать, чтоб улучшить результат:\n",
    "\n",
    "* Спарсить свежие данные \n",
    "* Посмотреть, что можно извлечь из признаков или как еще можно обработать признаки\n",
    "* Сгенерировать новые признаки\n",
    "* Попробовать подобрать параметры модели\n",
    "* Попробовать другие алгоритмы и библиотеки ML\n",
    "* Сделать Ансамбль моделей, Blending, Stacking"
   ]
  },
  {
   "cell_type": "markdown",
   "metadata": {},
   "source": [
    "Подробный чек лист: https://docs.google.com/spreadsheets/d/1I_ErM3U0Cs7Rs1obyZbIEGtVn-H47pHNCi4xdDgUmXY/edit?usp=sharing"
   ]
  },
  {
   "cell_type": "code",
   "execution_count": null,
   "metadata": {
    "papermill": {
     "duration": 0.082055,
     "end_time": "2020-10-26T12:48:14.270602",
     "exception": false,
     "start_time": "2020-10-26T12:48:14.188547",
     "status": "completed"
    },
    "tags": []
   },
   "outputs": [],
   "source": []
  },
  {
   "cell_type": "code",
   "execution_count": null,
   "metadata": {
    "papermill": {
     "duration": 0.08168,
     "end_time": "2020-10-26T12:48:14.435554",
     "exception": false,
     "start_time": "2020-10-26T12:48:14.353874",
     "status": "completed"
    },
    "tags": []
   },
   "outputs": [],
   "source": []
  },
  {
   "cell_type": "code",
   "execution_count": null,
   "metadata": {
    "execution": {
     "iopub.execute_input": "2022-06-18T12:03:24.151851Z",
     "iopub.status.busy": "2022-06-18T12:03:24.15147Z",
     "iopub.status.idle": "2022-06-18T12:03:24.96367Z",
     "shell.execute_reply": "2022-06-18T12:03:24.961795Z",
     "shell.execute_reply.started": "2022-06-18T12:03:24.151819Z"
    },
    "papermill": {
     "duration": 0.080788,
     "end_time": "2020-10-26T12:48:14.596978",
     "exception": false,
     "start_time": "2020-10-26T12:48:14.51619",
     "status": "completed"
    },
    "tags": []
   },
   "outputs": [],
   "source": [
    "import numpy as np\n",
    "import pandas as pd\n",
    "import xgboost as xg\n",
    "from sklearn.model_selection import train_test_split\n",
    "from sklearn.metrics import mean_squared_error as MSE\n",
    " \n",
    "# Load the data\n",
    "dataset = pd.read_csv(\"boston_house.csv\")\n",
    "X, y = dataset.iloc[:, :-1], dataset.iloc[:, -1]\n",
    " \n",
    "# Splitting\n",
    "train_X, test_X, train_y, test_y = train_test_split(X, y,\n",
    "                      test_size = 0.3, random_state = 123)\n",
    " \n",
    "# Instantiation\n",
    "xgb_r = xg.XGBRegressor(objective ='reg:linear',\n",
    "                  n_estimators = 10, seed = 123)\n",
    " \n",
    "# Fitting the model\n",
    "xgb_r.fit(train_X, train_y)\n",
    " \n",
    "# Predict the model\n",
    "pred = xgb_r.predict(test_X)\n",
    " \n",
    "# RMSE Computation\n",
    "rmse = np.sqrt(MSE(test_y, pred))\n",
    "print(\"RMSE : % f\" %(rmse))"
   ]
  }
 ],
 "metadata": {
  "kernelspec": {
   "display_name": "Python 3 (ipykernel)",
   "language": "python",
   "name": "python3"
  },
  "language_info": {
   "codemirror_mode": {
    "name": "ipython",
    "version": 3
   },
   "file_extension": ".py",
   "mimetype": "text/x-python",
   "name": "python",
   "nbconvert_exporter": "python",
   "pygments_lexer": "ipython3",
   "version": "3.9.7"
  }
 },
 "nbformat": 4,
 "nbformat_minor": 4
}
