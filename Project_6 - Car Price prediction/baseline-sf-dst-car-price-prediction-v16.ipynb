{
 "cells": [
  {
   "cell_type": "markdown",
   "metadata": {
    "papermill": {
     "duration": 0.029718,
     "end_time": "2020-10-26T12:46:41.276296",
     "exception": false,
     "start_time": "2020-10-26T12:46:41.246578",
     "status": "completed"
    },
    "tags": []
   },
   "source": [
    "<img src=\"https://whatcar.vn/media/2018/09/car-lot-940x470.jpg\"/>\n",
    "\n",
    "## Прогнозирование стоимости автомобиля по характеристикам\n",
    "*Этот Ноутбук является Примером/Шаблоном (Baseline) к этому соревнованию и не служит готовым решением!*   \n",
    "Вы можете использовать его как основу для построения своего решения.\n",
    "\n",
    "\n",
    "> **baseline** создается больше как шаблон, где можно посмотреть как происходит обращение с входящими данными и что нужно получить на выходе. При этом МЛ начинка может быть достаточно простой. Это помогает быстрее приступить к самому МЛ, а не тратить ценное время на чисто инженерные задачи. \n",
    "Также baseline является хорошей опорной точкой по метрике. Если твое решение хуже baseline - ты явно делаешь что-то не то и стоит попробовать другой путь) "
   ]
  },
  {
   "cell_type": "markdown",
   "metadata": {
    "papermill": {
     "duration": 0.028027,
     "end_time": "2020-10-26T12:46:41.334278",
     "exception": false,
     "start_time": "2020-10-26T12:46:41.306251",
     "status": "completed"
    },
    "tags": []
   },
   "source": [
    "Помним, что по условию соревнования, нам нужно самостоятельно собрать обучающий датасет. В этом ноутбуке мы не будем рассматривать сбор данных. Предположим, что мы уже все собрали и просто подключили свой датасет через \"Add Data\", чтобы приступить к самому ML."
   ]
  },
  {
   "cell_type": "code",
   "execution_count": 1,
   "metadata": {
    "_cell_guid": "b1076dfc-b9ad-4769-8c92-a6c4dae69d19",
    "_uuid": "8f2839f25d086af736a60e9eeb907d3b93b6e0e5",
    "execution": {
     "iopub.execute_input": "2022-06-18T12:13:21.668813Z",
     "iopub.status.busy": "2022-06-18T12:13:21.66832Z",
     "iopub.status.idle": "2022-06-18T12:13:21.676415Z",
     "shell.execute_reply": "2022-06-18T12:13:21.675208Z",
     "shell.execute_reply.started": "2022-06-18T12:13:21.66877Z"
    },
    "papermill": {
     "duration": 1.219772,
     "end_time": "2020-10-26T12:46:42.581597",
     "exception": false,
     "start_time": "2020-10-26T12:46:41.361825",
     "status": "completed"
    },
    "tags": []
   },
   "outputs": [],
   "source": [
    "import numpy as np # linear algebra\n",
    "import pandas as pd # data processing, CSV file I/O (e.g. pd.read_csv)\n",
    "import sys\n",
    "from sklearn.model_selection import train_test_split\n",
    "from sklearn.model_selection import KFold\n",
    "from tqdm.notebook import tqdm\n",
    "import re\n",
    "from catboost import CatBoostRegressor\n",
    "from catboost import Pool, cv\n",
    "from datetime import datetime, timedelta\n",
    "from sklearn.preprocessing import LabelEncoder\n",
    "pd.set_option('display.max_columns', None)\n",
    "from datetime import datetime, timedelta\n",
    "import matplotlib.pyplot as plt \n",
    "from pandas_profiling import ProfileReport\n",
    "from sklearn.ensemble import RandomForestRegressor\n",
    "from sklearn.ensemble import AdaBoostRegressor\n",
    "from sklearn.tree import DecisionTreeRegressor"
   ]
  },
  {
   "cell_type": "markdown",
   "metadata": {},
   "source": []
  },
  {
   "cell_type": "code",
   "execution_count": 2,
   "metadata": {
    "_kg_hide-input": true,
    "execution": {
     "iopub.execute_input": "2022-06-18T12:13:21.698414Z",
     "iopub.status.busy": "2022-06-18T12:13:21.698048Z",
     "iopub.status.idle": "2022-06-18T12:13:21.704754Z",
     "shell.execute_reply": "2022-06-18T12:13:21.70383Z",
     "shell.execute_reply.started": "2022-06-18T12:13:21.698371Z"
    },
    "papermill": {
     "duration": 0.040034,
     "end_time": "2020-10-26T12:46:42.650603",
     "exception": false,
     "start_time": "2020-10-26T12:46:42.610569",
     "status": "completed"
    },
    "tags": []
   },
   "outputs": [
    {
     "name": "stdout",
     "output_type": "stream",
     "text": [
      "Python       : 3.9.7 (default, Sep 16 2021, 16:59:28) [MSC v.1916 64 bit (AMD64)]\n",
      "Numpy        : 1.20.3\n"
     ]
    }
   ],
   "source": [
    "print('Python       :', sys.version.split('\\n')[0])\n",
    "print('Numpy        :', np.__version__)"
   ]
  },
  {
   "cell_type": "code",
   "execution_count": 3,
   "metadata": {
    "_kg_hide-input": true,
    "execution": {
     "iopub.execute_input": "2022-06-18T12:13:21.707077Z",
     "iopub.status.busy": "2022-06-18T12:13:21.70679Z",
     "iopub.status.idle": "2022-06-18T12:13:23.699171Z",
     "shell.execute_reply": "2022-06-18T12:13:23.697883Z",
     "shell.execute_reply.started": "2022-06-18T12:13:21.707048Z"
    },
    "papermill": {
     "duration": 5.172536,
     "end_time": "2020-10-26T12:46:47.852593",
     "exception": false,
     "start_time": "2020-10-26T12:46:42.680057",
     "status": "completed"
    },
    "tags": []
   },
   "outputs": [],
   "source": [
    "# зафиксируем версию пакетов, чтобы эксперименты были воспроизводимы:\n",
    "!pip freeze > requirements.txt"
   ]
  },
  {
   "cell_type": "code",
   "execution_count": 4,
   "metadata": {
    "execution": {
     "iopub.execute_input": "2022-06-18T12:13:23.703101Z",
     "iopub.status.busy": "2022-06-18T12:13:23.702726Z",
     "iopub.status.idle": "2022-06-18T12:13:23.708001Z",
     "shell.execute_reply": "2022-06-18T12:13:23.707023Z",
     "shell.execute_reply.started": "2022-06-18T12:13:23.703062Z"
    },
    "papermill": {
     "duration": 0.039842,
     "end_time": "2020-10-26T12:46:47.922434",
     "exception": false,
     "start_time": "2020-10-26T12:46:47.882592",
     "status": "completed"
    },
    "tags": []
   },
   "outputs": [],
   "source": [
    "# всегда фиксируйте RANDOM_SEED, чтобы ваши эксперименты были воспроизводимы!\n",
    "RANDOM_SEED = 42"
   ]
  },
  {
   "cell_type": "code",
   "execution_count": 5,
   "metadata": {
    "_kg_hide-input": true,
    "execution": {
     "iopub.execute_input": "2022-06-18T12:13:23.710975Z",
     "iopub.status.busy": "2022-06-18T12:13:23.710238Z",
     "iopub.status.idle": "2022-06-18T12:13:23.722234Z",
     "shell.execute_reply": "2022-06-18T12:13:23.721Z",
     "shell.execute_reply.started": "2022-06-18T12:13:23.710917Z"
    }
   },
   "outputs": [],
   "source": [
    "def mape(y_true, y_pred):\n",
    "    return np.mean(np.abs((y_pred-y_true)/y_true))"
   ]
  },
  {
   "cell_type": "markdown",
   "metadata": {
    "papermill": {
     "duration": 0.028837,
     "end_time": "2020-10-26T12:46:47.981435",
     "exception": false,
     "start_time": "2020-10-26T12:46:47.952598",
     "status": "completed"
    },
    "tags": []
   },
   "source": [
    "# Setup"
   ]
  },
  {
   "cell_type": "code",
   "execution_count": 6,
   "metadata": {
    "execution": {
     "iopub.execute_input": "2022-06-18T12:13:23.724371Z",
     "iopub.status.busy": "2022-06-18T12:13:23.723984Z",
     "iopub.status.idle": "2022-06-18T12:13:23.734972Z",
     "shell.execute_reply": "2022-06-18T12:13:23.733789Z",
     "shell.execute_reply.started": "2022-06-18T12:13:23.724334Z"
    },
    "papermill": {
     "duration": 0.039969,
     "end_time": "2020-10-26T12:46:48.052728",
     "exception": false,
     "start_time": "2020-10-26T12:46:48.012759",
     "status": "completed"
    },
    "tags": []
   },
   "outputs": [],
   "source": [
    "VERSION    = 16\n",
    "#DIR_TRAIN  = '../input/parsing-all-moscow-auto-ru-09-09-2020/' # подключил к ноутбуку внешний датасет\n",
    "#DIR_TEST   = '../input/sf-dst-car-price-prediction/'\n",
    "VAL_SIZE   = 0.20   # 20%"
   ]
  },
  {
   "cell_type": "markdown",
   "metadata": {
    "papermill": {
     "duration": 0.030254,
     "end_time": "2020-10-26T12:46:48.112586",
     "exception": false,
     "start_time": "2020-10-26T12:46:48.082332",
     "status": "completed"
    },
    "tags": []
   },
   "source": [
    "# Data"
   ]
  },
  {
   "cell_type": "code",
   "execution_count": null,
   "metadata": {
    "execution": {
     "iopub.execute_input": "2022-06-18T12:13:23.73698Z",
     "iopub.status.busy": "2022-06-18T12:13:23.736603Z",
     "iopub.status.idle": "2022-06-18T12:13:24.575277Z",
     "shell.execute_reply": "2022-06-18T12:13:24.574125Z",
     "shell.execute_reply.started": "2022-06-18T12:13:23.736939Z"
    },
    "papermill": {
     "duration": 0.783211,
     "end_time": "2020-10-26T12:46:48.925418",
     "exception": false,
     "start_time": "2020-10-26T12:46:48.142207",
     "status": "completed"
    },
    "tags": []
   },
   "outputs": [],
   "source": [
    "#Kaggle\n",
    "!ls '../input'\n",
    "train = pd.read_csv(DIR_TRAIN+'all_auto_ru_09_09_2020.csv') # датасет для обучения модели\n",
    "test = pd.read_csv(DIR_TEST+'test.csv')\n",
    "sample_submission = pd.read_csv(DIR_TEST+'sample_submission.csv')"
   ]
  },
  {
   "cell_type": "code",
   "execution_count": 7,
   "metadata": {
    "_cell_guid": "79c7e3d0-c299-4dcb-8224-4455121ee9b0",
    "_uuid": "d629ff2d2480ee46fbb7e2d37f6b5fab8052498a",
    "execution": {
     "iopub.execute_input": "2022-06-18T12:13:24.577592Z",
     "iopub.status.busy": "2022-06-18T12:13:24.577211Z",
     "iopub.status.idle": "2022-06-18T12:13:29.273695Z",
     "shell.execute_reply": "2022-06-18T12:13:29.272814Z",
     "shell.execute_reply.started": "2022-06-18T12:13:24.577552Z"
    },
    "papermill": {
     "duration": 13.16556,
     "end_time": "2020-10-26T12:47:02.12133",
     "exception": false,
     "start_time": "2020-10-26T12:46:48.95577",
     "status": "completed"
    },
    "tags": []
   },
   "outputs": [],
   "source": [
    "train = pd.read_csv('all_auto_ru_09_09_2020.csv') # датасет для обучения модели\n",
    "test = pd.read_csv('test.csv')\n",
    "sample_submission = pd.read_csv('sample_submission.csv')"
   ]
  },
  {
   "cell_type": "code",
   "execution_count": 8,
   "metadata": {
    "execution": {
     "iopub.execute_input": "2022-06-18T12:13:29.275167Z",
     "iopub.status.busy": "2022-06-18T12:13:29.274889Z",
     "iopub.status.idle": "2022-06-18T12:13:29.280844Z",
     "shell.execute_reply": "2022-06-18T12:13:29.27964Z",
     "shell.execute_reply.started": "2022-06-18T12:13:29.275139Z"
    }
   },
   "outputs": [
    {
     "name": "stdout",
     "output_type": "stream",
     "text": [
      "Размер train (89378, 26)\n",
      "Размер test (34686, 32)\n"
     ]
    }
   ],
   "source": [
    "print('Размер train', train.shape)\n",
    "print('Размер test', test.shape)"
   ]
  },
  {
   "cell_type": "markdown",
   "metadata": {},
   "source": [
    "У нас разное количество признаков на train и  test. Приведем все к единому виду.  "
   ]
  },
  {
   "cell_type": "code",
   "execution_count": 9,
   "metadata": {
    "execution": {
     "iopub.execute_input": "2022-06-18T12:13:29.282781Z",
     "iopub.status.busy": "2022-06-18T12:13:29.282449Z",
     "iopub.status.idle": "2022-06-18T12:13:29.327581Z",
     "shell.execute_reply": "2022-06-18T12:13:29.326389Z",
     "shell.execute_reply.started": "2022-06-18T12:13:29.282752Z"
    },
    "papermill": {
     "duration": 0.09378,
     "end_time": "2020-10-26T12:47:02.246755",
     "exception": false,
     "start_time": "2020-10-26T12:47:02.152975",
     "status": "completed"
    },
    "tags": []
   },
   "outputs": [
    {
     "data": {
      "text/html": [
       "<div>\n",
       "<style scoped>\n",
       "    .dataframe tbody tr th:only-of-type {\n",
       "        vertical-align: middle;\n",
       "    }\n",
       "\n",
       "    .dataframe tbody tr th {\n",
       "        vertical-align: top;\n",
       "    }\n",
       "\n",
       "    .dataframe thead th {\n",
       "        text-align: right;\n",
       "    }\n",
       "</style>\n",
       "<table border=\"1\" class=\"dataframe\">\n",
       "  <thead>\n",
       "    <tr style=\"text-align: right;\">\n",
       "      <th></th>\n",
       "      <th>bodyType</th>\n",
       "      <th>brand</th>\n",
       "      <th>color</th>\n",
       "      <th>fuelType</th>\n",
       "      <th>modelDate</th>\n",
       "      <th>name</th>\n",
       "      <th>numberOfDoors</th>\n",
       "      <th>productionDate</th>\n",
       "      <th>vehicleConfiguration</th>\n",
       "      <th>vehicleTransmission</th>\n",
       "      <th>engineDisplacement</th>\n",
       "      <th>enginePower</th>\n",
       "      <th>description</th>\n",
       "      <th>mileage</th>\n",
       "      <th>Комплектация</th>\n",
       "      <th>Привод</th>\n",
       "      <th>Руль</th>\n",
       "      <th>Состояние</th>\n",
       "      <th>Владельцы</th>\n",
       "      <th>ПТС</th>\n",
       "      <th>Таможня</th>\n",
       "      <th>Владение</th>\n",
       "      <th>price</th>\n",
       "      <th>start_date</th>\n",
       "      <th>hidden</th>\n",
       "      <th>model</th>\n",
       "    </tr>\n",
       "  </thead>\n",
       "  <tbody>\n",
       "    <tr>\n",
       "      <th>18455</th>\n",
       "      <td>Седан</td>\n",
       "      <td>DAEWOO</td>\n",
       "      <td>DEA522</td>\n",
       "      <td>бензин</td>\n",
       "      <td>2008.0</td>\n",
       "      <td>1.5 MT (80 л.с.)</td>\n",
       "      <td>4.0</td>\n",
       "      <td>2010</td>\n",
       "      <td>SEDAN MECHANICAL 1.5</td>\n",
       "      <td>MECHANICAL</td>\n",
       "      <td>1.5</td>\n",
       "      <td>80.0</td>\n",
       "      <td>Пробег 105000 км,на 85000 км,была замена ремня...</td>\n",
       "      <td>105000</td>\n",
       "      <td>{'id': '2457167', 'name': 'Базовая', 'availabl...</td>\n",
       "      <td>передний</td>\n",
       "      <td>LEFT</td>\n",
       "      <td>NaN</td>\n",
       "      <td>2.0</td>\n",
       "      <td>ORIGINAL</td>\n",
       "      <td>True</td>\n",
       "      <td>{'year': 2010, 'month': 8}</td>\n",
       "      <td>130000.0</td>\n",
       "      <td>2019-04-15T15:20:31Z</td>\n",
       "      <td>NaN</td>\n",
       "      <td>NEXIA</td>\n",
       "    </tr>\n",
       "    <tr>\n",
       "      <th>49932</th>\n",
       "      <td>Седан</td>\n",
       "      <td>NISSAN</td>\n",
       "      <td>040001</td>\n",
       "      <td>бензин</td>\n",
       "      <td>2008.0</td>\n",
       "      <td>3.5 CVT (249 л.с.)</td>\n",
       "      <td>4.0</td>\n",
       "      <td>2008</td>\n",
       "      <td>SEDAN VARIATOR 3.5</td>\n",
       "      <td>VARIATOR</td>\n",
       "      <td>3.5</td>\n",
       "      <td>249.0</td>\n",
       "      <td>Я владею автомобилем с июля 2013 года. Автомоб...</td>\n",
       "      <td>305000</td>\n",
       "      <td>{'id': '2429048', 'name': 'Premium', 'availabl...</td>\n",
       "      <td>передний</td>\n",
       "      <td>LEFT</td>\n",
       "      <td>NaN</td>\n",
       "      <td>2.0</td>\n",
       "      <td>ORIGINAL</td>\n",
       "      <td>True</td>\n",
       "      <td>{'year': 2009, 'month': 8}</td>\n",
       "      <td>470000.0</td>\n",
       "      <td>2020-08-23T13:31:26Z</td>\n",
       "      <td>NaN</td>\n",
       "      <td>TEANA</td>\n",
       "    </tr>\n",
       "    <tr>\n",
       "      <th>41015</th>\n",
       "      <td>Внедорожник 5 дв.</td>\n",
       "      <td>MAZDA</td>\n",
       "      <td>FAFBFB</td>\n",
       "      <td>бензин</td>\n",
       "      <td>2011.0</td>\n",
       "      <td>2.0 AT (150 л.с.)</td>\n",
       "      <td>5.0</td>\n",
       "      <td>2015</td>\n",
       "      <td>ALLROAD_5_DOORS AUTOMATIC 2.0</td>\n",
       "      <td>AUTOMATIC</td>\n",
       "      <td>2.0</td>\n",
       "      <td>150.0</td>\n",
       "      <td>Машина в хорошем состоянии, повреждения на бам...</td>\n",
       "      <td>51000</td>\n",
       "      <td>{'id': '0'}</td>\n",
       "      <td>передний</td>\n",
       "      <td>LEFT</td>\n",
       "      <td>NaN</td>\n",
       "      <td>1.0</td>\n",
       "      <td>ORIGINAL</td>\n",
       "      <td>True</td>\n",
       "      <td>{'year': 2015, 'month': 2}</td>\n",
       "      <td>1400000.0</td>\n",
       "      <td>2018-03-24T21:22:09Z</td>\n",
       "      <td>NaN</td>\n",
       "      <td>CX_5</td>\n",
       "    </tr>\n",
       "    <tr>\n",
       "      <th>66783</th>\n",
       "      <td>Пикап Двойная кабина</td>\n",
       "      <td>TOYOTA</td>\n",
       "      <td>040001</td>\n",
       "      <td>дизель</td>\n",
       "      <td>2011.0</td>\n",
       "      <td>3.0d AT (170 л.с.) 4WD</td>\n",
       "      <td>4.0</td>\n",
       "      <td>2013</td>\n",
       "      <td>PICKUP_TWO AUTOMATIC 3.0d</td>\n",
       "      <td>AUTOMATIC</td>\n",
       "      <td>3.0d</td>\n",
       "      <td>170.0</td>\n",
       "      <td>Полностью подготовленный автомобиль. 35 колеса...</td>\n",
       "      <td>110000</td>\n",
       "      <td>{'id': '0'}</td>\n",
       "      <td>полный</td>\n",
       "      <td>LEFT</td>\n",
       "      <td>NaN</td>\n",
       "      <td>1.0</td>\n",
       "      <td>ORIGINAL</td>\n",
       "      <td>True</td>\n",
       "      <td>{'year': 2013, 'month': 9}</td>\n",
       "      <td>2250000.0</td>\n",
       "      <td>2018-12-20T20:26:31Z</td>\n",
       "      <td>NaN</td>\n",
       "      <td>HILUX</td>\n",
       "    </tr>\n",
       "    <tr>\n",
       "      <th>42104</th>\n",
       "      <td>Внедорожник 5 дв.</td>\n",
       "      <td>MITSUBISHI</td>\n",
       "      <td>FAFBFB</td>\n",
       "      <td>бензин</td>\n",
       "      <td>2020.0</td>\n",
       "      <td>1.6 MT (117 л.с.)</td>\n",
       "      <td>5.0</td>\n",
       "      <td>2020</td>\n",
       "      <td>ALLROAD_5_DOORS MECHANICAL 1.6</td>\n",
       "      <td>MECHANICAL</td>\n",
       "      <td>1.6</td>\n",
       "      <td>117.0</td>\n",
       "      <td>———————————————————————————\\nФУНКЦИОНАЛЬНОЕ ОБ...</td>\n",
       "      <td>0</td>\n",
       "      <td>{'id': '21907890', 'name': 'Invite', 'availabl...</td>\n",
       "      <td>передний</td>\n",
       "      <td>LEFT</td>\n",
       "      <td>NaN</td>\n",
       "      <td>NaN</td>\n",
       "      <td>ORIGINAL</td>\n",
       "      <td>True</td>\n",
       "      <td>NaN</td>\n",
       "      <td>1548360.0</td>\n",
       "      <td>2020-09-01T07:25:02Z</td>\n",
       "      <td>NaN</td>\n",
       "      <td>ASX</td>\n",
       "    </tr>\n",
       "  </tbody>\n",
       "</table>\n",
       "</div>"
      ],
      "text/plain": [
       "                   bodyType       brand   color fuelType  modelDate  \\\n",
       "18455                 Седан      DAEWOO  DEA522   бензин     2008.0   \n",
       "49932                 Седан      NISSAN  040001   бензин     2008.0   \n",
       "41015     Внедорожник 5 дв.       MAZDA  FAFBFB   бензин     2011.0   \n",
       "66783  Пикап Двойная кабина      TOYOTA  040001   дизель     2011.0   \n",
       "42104     Внедорожник 5 дв.  MITSUBISHI  FAFBFB   бензин     2020.0   \n",
       "\n",
       "                         name  numberOfDoors  productionDate  \\\n",
       "18455        1.5 MT (80 л.с.)            4.0            2010   \n",
       "49932      3.5 CVT (249 л.с.)            4.0            2008   \n",
       "41015       2.0 AT (150 л.с.)            5.0            2015   \n",
       "66783  3.0d AT (170 л.с.) 4WD            4.0            2013   \n",
       "42104       1.6 MT (117 л.с.)            5.0            2020   \n",
       "\n",
       "                 vehicleConfiguration vehicleTransmission engineDisplacement  \\\n",
       "18455            SEDAN MECHANICAL 1.5          MECHANICAL                1.5   \n",
       "49932              SEDAN VARIATOR 3.5            VARIATOR                3.5   \n",
       "41015   ALLROAD_5_DOORS AUTOMATIC 2.0           AUTOMATIC                2.0   \n",
       "66783       PICKUP_TWO AUTOMATIC 3.0d           AUTOMATIC               3.0d   \n",
       "42104  ALLROAD_5_DOORS MECHANICAL 1.6          MECHANICAL                1.6   \n",
       "\n",
       "       enginePower                                        description  \\\n",
       "18455         80.0  Пробег 105000 км,на 85000 км,была замена ремня...   \n",
       "49932        249.0  Я владею автомобилем с июля 2013 года. Автомоб...   \n",
       "41015        150.0  Машина в хорошем состоянии, повреждения на бам...   \n",
       "66783        170.0  Полностью подготовленный автомобиль. 35 колеса...   \n",
       "42104        117.0  ———————————————————————————\\nФУНКЦИОНАЛЬНОЕ ОБ...   \n",
       "\n",
       "       mileage                                       Комплектация    Привод  \\\n",
       "18455   105000  {'id': '2457167', 'name': 'Базовая', 'availabl...  передний   \n",
       "49932   305000  {'id': '2429048', 'name': 'Premium', 'availabl...  передний   \n",
       "41015    51000                                        {'id': '0'}  передний   \n",
       "66783   110000                                        {'id': '0'}    полный   \n",
       "42104        0  {'id': '21907890', 'name': 'Invite', 'availabl...  передний   \n",
       "\n",
       "       Руль  Состояние  Владельцы       ПТС  Таможня  \\\n",
       "18455  LEFT        NaN        2.0  ORIGINAL     True   \n",
       "49932  LEFT        NaN        2.0  ORIGINAL     True   \n",
       "41015  LEFT        NaN        1.0  ORIGINAL     True   \n",
       "66783  LEFT        NaN        1.0  ORIGINAL     True   \n",
       "42104  LEFT        NaN        NaN  ORIGINAL     True   \n",
       "\n",
       "                         Владение      price            start_date  hidden  \\\n",
       "18455  {'year': 2010, 'month': 8}   130000.0  2019-04-15T15:20:31Z     NaN   \n",
       "49932  {'year': 2009, 'month': 8}   470000.0  2020-08-23T13:31:26Z     NaN   \n",
       "41015  {'year': 2015, 'month': 2}  1400000.0  2018-03-24T21:22:09Z     NaN   \n",
       "66783  {'year': 2013, 'month': 9}  2250000.0  2018-12-20T20:26:31Z     NaN   \n",
       "42104                         NaN  1548360.0  2020-09-01T07:25:02Z     NaN   \n",
       "\n",
       "       model  \n",
       "18455  NEXIA  \n",
       "49932  TEANA  \n",
       "41015   CX_5  \n",
       "66783  HILUX  \n",
       "42104    ASX  "
      ]
     },
     "execution_count": 9,
     "metadata": {},
     "output_type": "execute_result"
    }
   ],
   "source": [
    "train.sample(5)"
   ]
  },
  {
   "cell_type": "code",
   "execution_count": 10,
   "metadata": {
    "execution": {
     "iopub.execute_input": "2022-06-18T12:13:29.32976Z",
     "iopub.status.busy": "2022-06-18T12:13:29.329113Z",
     "iopub.status.idle": "2022-06-18T12:13:29.364228Z",
     "shell.execute_reply": "2022-06-18T12:13:29.363286Z",
     "shell.execute_reply.started": "2022-06-18T12:13:29.329706Z"
    }
   },
   "outputs": [
    {
     "data": {
      "text/html": [
       "<div>\n",
       "<style scoped>\n",
       "    .dataframe tbody tr th:only-of-type {\n",
       "        vertical-align: middle;\n",
       "    }\n",
       "\n",
       "    .dataframe tbody tr th {\n",
       "        vertical-align: top;\n",
       "    }\n",
       "\n",
       "    .dataframe thead th {\n",
       "        text-align: right;\n",
       "    }\n",
       "</style>\n",
       "<table border=\"1\" class=\"dataframe\">\n",
       "  <thead>\n",
       "    <tr style=\"text-align: right;\">\n",
       "      <th></th>\n",
       "      <th>bodyType</th>\n",
       "      <th>brand</th>\n",
       "      <th>car_url</th>\n",
       "      <th>color</th>\n",
       "      <th>complectation_dict</th>\n",
       "      <th>description</th>\n",
       "      <th>engineDisplacement</th>\n",
       "      <th>enginePower</th>\n",
       "      <th>equipment_dict</th>\n",
       "      <th>fuelType</th>\n",
       "      <th>image</th>\n",
       "      <th>mileage</th>\n",
       "      <th>modelDate</th>\n",
       "      <th>model_info</th>\n",
       "      <th>model_name</th>\n",
       "      <th>name</th>\n",
       "      <th>numberOfDoors</th>\n",
       "      <th>parsing_unixtime</th>\n",
       "      <th>priceCurrency</th>\n",
       "      <th>productionDate</th>\n",
       "      <th>sell_id</th>\n",
       "      <th>super_gen</th>\n",
       "      <th>vehicleConfiguration</th>\n",
       "      <th>vehicleTransmission</th>\n",
       "      <th>vendor</th>\n",
       "      <th>Владельцы</th>\n",
       "      <th>Владение</th>\n",
       "      <th>ПТС</th>\n",
       "      <th>Привод</th>\n",
       "      <th>Руль</th>\n",
       "      <th>Состояние</th>\n",
       "      <th>Таможня</th>\n",
       "    </tr>\n",
       "  </thead>\n",
       "  <tbody>\n",
       "    <tr>\n",
       "      <th>25363</th>\n",
       "      <td>седан</td>\n",
       "      <td>VOLKSWAGEN</td>\n",
       "      <td>https://auto.ru/cars/used/sale/volkswagen/polo...</td>\n",
       "      <td>белый</td>\n",
       "      <td>NaN</td>\n",
       "      <td>РОЛЬФ Северо-Запад - это первый мегамолл автом...</td>\n",
       "      <td>1.6 LTR</td>\n",
       "      <td>90 N12</td>\n",
       "      <td>{\"engine-proof\":true,\"electro-window-back\":tru...</td>\n",
       "      <td>бензин</td>\n",
       "      <td>https://avatars.mds.yandex.net/get-autoru-vos/...</td>\n",
       "      <td>13932</td>\n",
       "      <td>2014</td>\n",
       "      <td>{\"code\":\"POLO\",\"name\":\"Polo\",\"ru_name\":\"Поло\",...</td>\n",
       "      <td>POLO</td>\n",
       "      <td>1.6 MT (90 л.с.)</td>\n",
       "      <td>4</td>\n",
       "      <td>1603221131</td>\n",
       "      <td>RUB</td>\n",
       "      <td>2017</td>\n",
       "      <td>1100792880</td>\n",
       "      <td>{\"id\":\"20726486\",\"displacement\":1598,\"engine_t...</td>\n",
       "      <td>SEDAN MECHANICAL 1.6</td>\n",
       "      <td>механическая</td>\n",
       "      <td>EUROPEAN</td>\n",
       "      <td>2 владельца</td>\n",
       "      <td>NaN</td>\n",
       "      <td>Оригинал</td>\n",
       "      <td>передний</td>\n",
       "      <td>Левый</td>\n",
       "      <td>Не требует ремонта</td>\n",
       "      <td>Растаможен</td>\n",
       "    </tr>\n",
       "    <tr>\n",
       "      <th>25823</th>\n",
       "      <td>седан</td>\n",
       "      <td>VOLKSWAGEN</td>\n",
       "      <td>https://auto.ru/cars/used/sale/volkswagen/pass...</td>\n",
       "      <td>чёрный</td>\n",
       "      <td>{\"id\":\"6119123\",\"name\":\"Comfortline\",\"availabl...</td>\n",
       "      <td>Доброго времени суток любители немцев! Продаю ...</td>\n",
       "      <td>1.8 LTR</td>\n",
       "      <td>152 N12</td>\n",
       "      <td>{\"cruise-control\":true,\"esp\":true,\"airbag-driv...</td>\n",
       "      <td>бензин</td>\n",
       "      <td>https://autoru.naydex.net/o9DBXQ270/5ac010hAY0...</td>\n",
       "      <td>221000</td>\n",
       "      <td>2005</td>\n",
       "      <td>{\"code\":\"PASSAT\",\"name\":\"Passat\",\"ru_name\":\"Па...</td>\n",
       "      <td>PASSAT</td>\n",
       "      <td>1.8 AMT (152 л.с.)</td>\n",
       "      <td>4</td>\n",
       "      <td>1603222840</td>\n",
       "      <td>RUB</td>\n",
       "      <td>2010</td>\n",
       "      <td>1096426690</td>\n",
       "      <td>{\"id\":\"4553930\",\"displacement\":1798,\"engine_ty...</td>\n",
       "      <td>SEDAN ROBOT 1.8</td>\n",
       "      <td>роботизированная</td>\n",
       "      <td>EUROPEAN</td>\n",
       "      <td>3 или более</td>\n",
       "      <td>4 года и 1 месяц</td>\n",
       "      <td>Оригинал</td>\n",
       "      <td>передний</td>\n",
       "      <td>Левый</td>\n",
       "      <td>Не требует ремонта</td>\n",
       "      <td>Растаможен</td>\n",
       "    </tr>\n",
       "    <tr>\n",
       "      <th>21525</th>\n",
       "      <td>седан</td>\n",
       "      <td>TOYOTA</td>\n",
       "      <td>https://auto.ru/cars/used/sale/toyota/avensis/...</td>\n",
       "      <td>красный</td>\n",
       "      <td>{\"id\":\"2427159\",\"name\":\"Люкс\",\"available_optio...</td>\n",
       "      <td>Машина в хорошем техническом состоянии. Есть н...</td>\n",
       "      <td>2.0 LTR</td>\n",
       "      <td>147 N12</td>\n",
       "      <td>{\"cruise-control\":true,\"roller-blind-for-rear-...</td>\n",
       "      <td>бензин</td>\n",
       "      <td>https://avatars.mds.yandex.net/get-autoru-vos/...</td>\n",
       "      <td>180950</td>\n",
       "      <td>2006</td>\n",
       "      <td>{\"code\":\"AVENSIS\",\"name\":\"Avensis\",\"ru_name\":\"...</td>\n",
       "      <td>AVENSIS</td>\n",
       "      <td>2.0 AT (147 л.с.)</td>\n",
       "      <td>4</td>\n",
       "      <td>1603295860</td>\n",
       "      <td>RUB</td>\n",
       "      <td>2007</td>\n",
       "      <td>1097123282</td>\n",
       "      <td>{\"id\":\"2309539\",\"displacement\":1998,\"engine_ty...</td>\n",
       "      <td>SEDAN AUTOMATIC 2.0</td>\n",
       "      <td>автоматическая</td>\n",
       "      <td>JAPANESE</td>\n",
       "      <td>3 или более</td>\n",
       "      <td>NaN</td>\n",
       "      <td>Оригинал</td>\n",
       "      <td>передний</td>\n",
       "      <td>Левый</td>\n",
       "      <td>Не требует ремонта</td>\n",
       "      <td>Растаможен</td>\n",
       "    </tr>\n",
       "    <tr>\n",
       "      <th>26883</th>\n",
       "      <td>внедорожник 5 дв.</td>\n",
       "      <td>MITSUBISHI</td>\n",
       "      <td>https://auto.ru/cars/used/sale/mitsubishi/paje...</td>\n",
       "      <td>коричневый</td>\n",
       "      <td>NaN</td>\n",
       "      <td>- Один собственник\\n- Оригинал ПТС\\n- Автомоби...</td>\n",
       "      <td>3.0 LTR</td>\n",
       "      <td>178 N12</td>\n",
       "      <td>{\"electro-window-back\":true,\"esp\":true,\"rain-s...</td>\n",
       "      <td>бензин</td>\n",
       "      <td>https://autoru.naydex.net/mcQh17801/f1b5751dCi...</td>\n",
       "      <td>75262</td>\n",
       "      <td>2011</td>\n",
       "      <td>{\"code\":\"PAJERO\",\"name\":\"Pajero\",\"ru_name\":\"Па...</td>\n",
       "      <td>PAJERO</td>\n",
       "      <td>3.0 AT (178 л.с.) 4WD</td>\n",
       "      <td>5</td>\n",
       "      <td>1603260603</td>\n",
       "      <td>RUB</td>\n",
       "      <td>2013</td>\n",
       "      <td>1101267180</td>\n",
       "      <td>{\"id\":\"7744024\",\"displacement\":2972,\"engine_ty...</td>\n",
       "      <td>ALLROAD_5_DOORS AUTOMATIC 3.0</td>\n",
       "      <td>автоматическая</td>\n",
       "      <td>JAPANESE</td>\n",
       "      <td>1 владелец</td>\n",
       "      <td>NaN</td>\n",
       "      <td>Оригинал</td>\n",
       "      <td>полный</td>\n",
       "      <td>Левый</td>\n",
       "      <td>Не требует ремонта</td>\n",
       "      <td>Растаможен</td>\n",
       "    </tr>\n",
       "    <tr>\n",
       "      <th>7869</th>\n",
       "      <td>внедорожник 5 дв.</td>\n",
       "      <td>BMW</td>\n",
       "      <td>https://auto.ru/cars/used/sale/bmw/x5/11012086...</td>\n",
       "      <td>серый</td>\n",
       "      <td>{\"id\":\"21640936\",\"name\":\"xDrive30d M Sport Pro...</td>\n",
       "      <td>Автомобиль продаётся официальным дилером BMW -...</td>\n",
       "      <td>3.0 LTR</td>\n",
       "      <td>249 N12</td>\n",
       "      <td>{\"cruise-control\":true,\"sport-seats\":true,\"e-a...</td>\n",
       "      <td>дизель</td>\n",
       "      <td>https://autoru.naydex.net/lICN99c69/9bc7d3Rr7k...</td>\n",
       "      <td>4189</td>\n",
       "      <td>2018</td>\n",
       "      <td>{\"code\":\"X5\",\"name\":\"X5\",\"ru_name\":\"Х5\",\"morph...</td>\n",
       "      <td>X5</td>\n",
       "      <td>30d 3.0d AT (249 л.с.) 4WD</td>\n",
       "      <td>5</td>\n",
       "      <td>1603108895</td>\n",
       "      <td>RUB</td>\n",
       "      <td>2020</td>\n",
       "      <td>1101208617</td>\n",
       "      <td>{\"id\":\"21308274\",\"name\":\"30d\",\"nameplate\":\"30d...</td>\n",
       "      <td>ALLROAD_5_DOORS AUTOMATIC 3.0</td>\n",
       "      <td>автоматическая</td>\n",
       "      <td>EUROPEAN</td>\n",
       "      <td>1 владелец</td>\n",
       "      <td>NaN</td>\n",
       "      <td>Оригинал</td>\n",
       "      <td>полный</td>\n",
       "      <td>Левый</td>\n",
       "      <td>Не требует ремонта</td>\n",
       "      <td>Растаможен</td>\n",
       "    </tr>\n",
       "  </tbody>\n",
       "</table>\n",
       "</div>"
      ],
      "text/plain": [
       "                bodyType       brand  \\\n",
       "25363              седан  VOLKSWAGEN   \n",
       "25823              седан  VOLKSWAGEN   \n",
       "21525              седан      TOYOTA   \n",
       "26883  внедорожник 5 дв.  MITSUBISHI   \n",
       "7869   внедорожник 5 дв.         BMW   \n",
       "\n",
       "                                                 car_url       color  \\\n",
       "25363  https://auto.ru/cars/used/sale/volkswagen/polo...       белый   \n",
       "25823  https://auto.ru/cars/used/sale/volkswagen/pass...      чёрный   \n",
       "21525  https://auto.ru/cars/used/sale/toyota/avensis/...     красный   \n",
       "26883  https://auto.ru/cars/used/sale/mitsubishi/paje...  коричневый   \n",
       "7869   https://auto.ru/cars/used/sale/bmw/x5/11012086...       серый   \n",
       "\n",
       "                                      complectation_dict  \\\n",
       "25363                                                NaN   \n",
       "25823  {\"id\":\"6119123\",\"name\":\"Comfortline\",\"availabl...   \n",
       "21525  {\"id\":\"2427159\",\"name\":\"Люкс\",\"available_optio...   \n",
       "26883                                                NaN   \n",
       "7869   {\"id\":\"21640936\",\"name\":\"xDrive30d M Sport Pro...   \n",
       "\n",
       "                                             description engineDisplacement  \\\n",
       "25363  РОЛЬФ Северо-Запад - это первый мегамолл автом...            1.6 LTR   \n",
       "25823  Доброго времени суток любители немцев! Продаю ...            1.8 LTR   \n",
       "21525  Машина в хорошем техническом состоянии. Есть н...            2.0 LTR   \n",
       "26883  - Один собственник\\n- Оригинал ПТС\\n- Автомоби...            3.0 LTR   \n",
       "7869   Автомобиль продаётся официальным дилером BMW -...            3.0 LTR   \n",
       "\n",
       "      enginePower                                     equipment_dict fuelType  \\\n",
       "25363      90 N12  {\"engine-proof\":true,\"electro-window-back\":tru...   бензин   \n",
       "25823     152 N12  {\"cruise-control\":true,\"esp\":true,\"airbag-driv...   бензин   \n",
       "21525     147 N12  {\"cruise-control\":true,\"roller-blind-for-rear-...   бензин   \n",
       "26883     178 N12  {\"electro-window-back\":true,\"esp\":true,\"rain-s...   бензин   \n",
       "7869      249 N12  {\"cruise-control\":true,\"sport-seats\":true,\"e-a...   дизель   \n",
       "\n",
       "                                                   image  mileage  modelDate  \\\n",
       "25363  https://avatars.mds.yandex.net/get-autoru-vos/...    13932       2014   \n",
       "25823  https://autoru.naydex.net/o9DBXQ270/5ac010hAY0...   221000       2005   \n",
       "21525  https://avatars.mds.yandex.net/get-autoru-vos/...   180950       2006   \n",
       "26883  https://autoru.naydex.net/mcQh17801/f1b5751dCi...    75262       2011   \n",
       "7869   https://autoru.naydex.net/lICN99c69/9bc7d3Rr7k...     4189       2018   \n",
       "\n",
       "                                              model_info model_name  \\\n",
       "25363  {\"code\":\"POLO\",\"name\":\"Polo\",\"ru_name\":\"Поло\",...       POLO   \n",
       "25823  {\"code\":\"PASSAT\",\"name\":\"Passat\",\"ru_name\":\"Па...     PASSAT   \n",
       "21525  {\"code\":\"AVENSIS\",\"name\":\"Avensis\",\"ru_name\":\"...    AVENSIS   \n",
       "26883  {\"code\":\"PAJERO\",\"name\":\"Pajero\",\"ru_name\":\"Па...     PAJERO   \n",
       "7869   {\"code\":\"X5\",\"name\":\"X5\",\"ru_name\":\"Х5\",\"morph...         X5   \n",
       "\n",
       "                             name  numberOfDoors  parsing_unixtime  \\\n",
       "25363            1.6 MT (90 л.с.)              4        1603221131   \n",
       "25823          1.8 AMT (152 л.с.)              4        1603222840   \n",
       "21525           2.0 AT (147 л.с.)              4        1603295860   \n",
       "26883       3.0 AT (178 л.с.) 4WD              5        1603260603   \n",
       "7869   30d 3.0d AT (249 л.с.) 4WD              5        1603108895   \n",
       "\n",
       "      priceCurrency  productionDate     sell_id  \\\n",
       "25363           RUB            2017  1100792880   \n",
       "25823           RUB            2010  1096426690   \n",
       "21525           RUB            2007  1097123282   \n",
       "26883           RUB            2013  1101267180   \n",
       "7869            RUB            2020  1101208617   \n",
       "\n",
       "                                               super_gen  \\\n",
       "25363  {\"id\":\"20726486\",\"displacement\":1598,\"engine_t...   \n",
       "25823  {\"id\":\"4553930\",\"displacement\":1798,\"engine_ty...   \n",
       "21525  {\"id\":\"2309539\",\"displacement\":1998,\"engine_ty...   \n",
       "26883  {\"id\":\"7744024\",\"displacement\":2972,\"engine_ty...   \n",
       "7869   {\"id\":\"21308274\",\"name\":\"30d\",\"nameplate\":\"30d...   \n",
       "\n",
       "                vehicleConfiguration vehicleTransmission    vendor  \\\n",
       "25363           SEDAN MECHANICAL 1.6        механическая  EUROPEAN   \n",
       "25823                SEDAN ROBOT 1.8    роботизированная  EUROPEAN   \n",
       "21525            SEDAN AUTOMATIC 2.0      автоматическая  JAPANESE   \n",
       "26883  ALLROAD_5_DOORS AUTOMATIC 3.0      автоматическая  JAPANESE   \n",
       "7869   ALLROAD_5_DOORS AUTOMATIC 3.0      автоматическая  EUROPEAN   \n",
       "\n",
       "         Владельцы          Владение       ПТС    Привод   Руль  \\\n",
       "25363  2 владельца               NaN  Оригинал  передний  Левый   \n",
       "25823  3 или более  4 года и 1 месяц  Оригинал  передний  Левый   \n",
       "21525  3 или более               NaN  Оригинал  передний  Левый   \n",
       "26883   1 владелец               NaN  Оригинал    полный  Левый   \n",
       "7869    1 владелец               NaN  Оригинал    полный  Левый   \n",
       "\n",
       "                Состояние     Таможня  \n",
       "25363  Не требует ремонта  Растаможен  \n",
       "25823  Не требует ремонта  Растаможен  \n",
       "21525  Не требует ремонта  Растаможен  \n",
       "26883  Не требует ремонта  Растаможен  \n",
       "7869   Не требует ремонта  Растаможен  "
      ]
     },
     "execution_count": 10,
     "metadata": {},
     "output_type": "execute_result"
    }
   ],
   "source": [
    "test.sample(5)"
   ]
  },
  {
   "cell_type": "markdown",
   "metadata": {},
   "source": [
    "model_name в test и model в train значат одно и тоже. Переименуем model в train в model_name "
   ]
  },
  {
   "cell_type": "code",
   "execution_count": 11,
   "metadata": {
    "execution": {
     "iopub.execute_input": "2022-06-18T12:13:29.366048Z",
     "iopub.status.busy": "2022-06-18T12:13:29.365724Z",
     "iopub.status.idle": "2022-06-18T12:13:29.371844Z",
     "shell.execute_reply": "2022-06-18T12:13:29.370941Z",
     "shell.execute_reply.started": "2022-06-18T12:13:29.366016Z"
    }
   },
   "outputs": [],
   "source": [
    "train.rename(columns={'model': 'model_name'}, inplace=True)"
   ]
  },
  {
   "cell_type": "code",
   "execution_count": 12,
   "metadata": {
    "execution": {
     "iopub.execute_input": "2022-06-18T12:13:29.378192Z",
     "iopub.status.busy": "2022-06-18T12:13:29.377722Z",
     "iopub.status.idle": "2022-06-18T12:13:29.44647Z",
     "shell.execute_reply": "2022-06-18T12:13:29.445337Z",
     "shell.execute_reply.started": "2022-06-18T12:13:29.378153Z"
    }
   },
   "outputs": [
    {
     "name": "stdout",
     "output_type": "stream",
     "text": [
      "<class 'pandas.core.frame.DataFrame'>\n",
      "RangeIndex: 34686 entries, 0 to 34685\n",
      "Data columns (total 32 columns):\n",
      " #   Column                Non-Null Count  Dtype \n",
      "---  ------                --------------  ----- \n",
      " 0   bodyType              34686 non-null  object\n",
      " 1   brand                 34686 non-null  object\n",
      " 2   car_url               34686 non-null  object\n",
      " 3   color                 34686 non-null  object\n",
      " 4   complectation_dict    6418 non-null   object\n",
      " 5   description           34686 non-null  object\n",
      " 6   engineDisplacement    34686 non-null  object\n",
      " 7   enginePower           34686 non-null  object\n",
      " 8   equipment_dict        24690 non-null  object\n",
      " 9   fuelType              34686 non-null  object\n",
      " 10  image                 34686 non-null  object\n",
      " 11  mileage               34686 non-null  int64 \n",
      " 12  modelDate             34686 non-null  int64 \n",
      " 13  model_info            34686 non-null  object\n",
      " 14  model_name            34686 non-null  object\n",
      " 15  name                  34686 non-null  object\n",
      " 16  numberOfDoors         34686 non-null  int64 \n",
      " 17  parsing_unixtime      34686 non-null  int64 \n",
      " 18  priceCurrency         34686 non-null  object\n",
      " 19  productionDate        34686 non-null  int64 \n",
      " 20  sell_id               34686 non-null  int64 \n",
      " 21  super_gen             34686 non-null  object\n",
      " 22  vehicleConfiguration  34686 non-null  object\n",
      " 23  vehicleTransmission   34686 non-null  object\n",
      " 24  vendor                34686 non-null  object\n",
      " 25  Владельцы             34686 non-null  object\n",
      " 26  Владение              11995 non-null  object\n",
      " 27  ПТС                   34685 non-null  object\n",
      " 28  Привод                34686 non-null  object\n",
      " 29  Руль                  34686 non-null  object\n",
      " 30  Состояние             34686 non-null  object\n",
      " 31  Таможня               34686 non-null  object\n",
      "dtypes: int64(6), object(26)\n",
      "memory usage: 8.5+ MB\n"
     ]
    }
   ],
   "source": [
    "test.info()"
   ]
  },
  {
   "cell_type": "code",
   "execution_count": 13,
   "metadata": {
    "execution": {
     "iopub.execute_input": "2022-06-18T12:13:29.451401Z",
     "iopub.status.busy": "2022-06-18T12:13:29.451054Z",
     "iopub.status.idle": "2022-06-18T12:13:29.541402Z",
     "shell.execute_reply": "2022-06-18T12:13:29.540166Z",
     "shell.execute_reply.started": "2022-06-18T12:13:29.451366Z"
    }
   },
   "outputs": [
    {
     "name": "stdout",
     "output_type": "stream",
     "text": [
      "<class 'pandas.core.frame.DataFrame'>\n",
      "RangeIndex: 89378 entries, 0 to 89377\n",
      "Data columns (total 26 columns):\n",
      " #   Column                Non-Null Count  Dtype  \n",
      "---  ------                --------------  -----  \n",
      " 0   bodyType              89377 non-null  object \n",
      " 1   brand                 89378 non-null  object \n",
      " 2   color                 89378 non-null  object \n",
      " 3   fuelType              89378 non-null  object \n",
      " 4   modelDate             89377 non-null  float64\n",
      " 5   name                  89377 non-null  object \n",
      " 6   numberOfDoors         89377 non-null  float64\n",
      " 7   productionDate        89378 non-null  int64  \n",
      " 8   vehicleConfiguration  89377 non-null  object \n",
      " 9   vehicleTransmission   89377 non-null  object \n",
      " 10  engineDisplacement    89377 non-null  object \n",
      " 11  enginePower           89377 non-null  float64\n",
      " 12  description           86124 non-null  object \n",
      " 13  mileage               89378 non-null  int64  \n",
      " 14  Комплектация          89378 non-null  object \n",
      " 15  Привод                89377 non-null  object \n",
      " 16  Руль                  89378 non-null  object \n",
      " 17  Состояние             0 non-null      float64\n",
      " 18  Владельцы             75790 non-null  float64\n",
      " 19  ПТС                   89017 non-null  object \n",
      " 20  Таможня               89378 non-null  bool   \n",
      " 21  Владение              29201 non-null  object \n",
      " 22  price                 88968 non-null  float64\n",
      " 23  start_date            89378 non-null  object \n",
      " 24  hidden                0 non-null      float64\n",
      " 25  model_name            89378 non-null  object \n",
      "dtypes: bool(1), float64(7), int64(2), object(16)\n",
      "memory usage: 17.1+ MB\n"
     ]
    }
   ],
   "source": [
    "train.info()"
   ]
  },
  {
   "cell_type": "markdown",
   "metadata": {},
   "source": [
    "# EDA"
   ]
  },
  {
   "cell_type": "code",
   "execution_count": 14,
   "metadata": {},
   "outputs": [
    {
     "data": {
      "application/vnd.jupyter.widget-view+json": {
       "model_id": "c66dcc21658d402c88d7acca7afb651e",
       "version_major": 2,
       "version_minor": 0
      },
      "text/plain": [
       "Summarize dataset:   0%|          | 0/5 [00:00<?, ?it/s]"
      ]
     },
     "metadata": {},
     "output_type": "display_data"
    },
    {
     "data": {
      "application/vnd.jupyter.widget-view+json": {
       "model_id": "9ba128d906fa4cfb98f14ee22927b4ee",
       "version_major": 2,
       "version_minor": 0
      },
      "text/plain": [
       "Generate report structure:   0%|          | 0/1 [00:00<?, ?it/s]"
      ]
     },
     "metadata": {},
     "output_type": "display_data"
    },
    {
     "data": {
      "application/vnd.jupyter.widget-view+json": {
       "model_id": "08e7d560b49744e3b2af0468dee180fd",
       "version_major": 2,
       "version_minor": 0
      },
      "text/plain": [
       "Render HTML:   0%|          | 0/1 [00:00<?, ?it/s]"
      ]
     },
     "metadata": {},
     "output_type": "display_data"
    },
    {
     "data": {
      "application/vnd.jupyter.widget-view+json": {
       "model_id": "76c038838cd04befbc10f3e33413c1f3",
       "version_major": 2,
       "version_minor": 0
      },
      "text/plain": [
       "Export report to file:   0%|          | 0/1 [00:00<?, ?it/s]"
      ]
     },
     "metadata": {},
     "output_type": "display_data"
    }
   ],
   "source": [
    "profile = ProfileReport(train, title=\"Pandas Profiling Report Train\")\n",
    "profile.to_file(\"PPR_train.html\")"
   ]
  },
  {
   "cell_type": "code",
   "execution_count": 15,
   "metadata": {},
   "outputs": [
    {
     "data": {
      "application/vnd.jupyter.widget-view+json": {
       "model_id": "0073ea1fa1b24ee1adfadf1a27d4718f",
       "version_major": 2,
       "version_minor": 0
      },
      "text/plain": [
       "Summarize dataset:   0%|          | 0/5 [00:00<?, ?it/s]"
      ]
     },
     "metadata": {},
     "output_type": "display_data"
    },
    {
     "data": {
      "application/vnd.jupyter.widget-view+json": {
       "model_id": "68a9ec4076a7416ea6b8c07a78c73d8f",
       "version_major": 2,
       "version_minor": 0
      },
      "text/plain": [
       "Generate report structure:   0%|          | 0/1 [00:00<?, ?it/s]"
      ]
     },
     "metadata": {},
     "output_type": "display_data"
    },
    {
     "data": {
      "application/vnd.jupyter.widget-view+json": {
       "model_id": "055c462a69c2491ab5c55163a0c8badd",
       "version_major": 2,
       "version_minor": 0
      },
      "text/plain": [
       "Render HTML:   0%|          | 0/1 [00:00<?, ?it/s]"
      ]
     },
     "metadata": {},
     "output_type": "display_data"
    },
    {
     "data": {
      "application/vnd.jupyter.widget-view+json": {
       "model_id": "12a90086a05c4ec88e243baa9eb2068e",
       "version_major": 2,
       "version_minor": 0
      },
      "text/plain": [
       "Export report to file:   0%|          | 0/1 [00:00<?, ?it/s]"
      ]
     },
     "metadata": {},
     "output_type": "display_data"
    }
   ],
   "source": [
    "profile = ProfileReport(test, title=\"Pandas Profiling Report Test\")\n",
    "profile.to_file(\"PPR_test.html\")"
   ]
  },
  {
   "cell_type": "markdown",
   "metadata": {},
   "source": [
    "Сделаем краткие выводы.     \n",
    "Больше всего тестовом датасете представлены внедорожники и Марседесов.    \n",
    "Цвета надо будет привести к единой кодировке.    \n",
    "Почти все машины представлены с 1980 года.    \n",
    "Судя по milage у нас много новых машин.    \n",
    "Признак Таможня не информативен. Все значения имеют True.    \n",
    "hidden тоже не информативен. Все значения пропущены.   \n",
    "Так же видна сильная корреляция между model date, production date, и отрицательная корреляция с milage.\n",
    "Так же видим большой дисбаланс классов типов автомобилей и марок."
   ]
  },
  {
   "cell_type": "markdown",
   "metadata": {},
   "source": [
    "У нас разное количество признаков в тесте и трейне. Приведем после все к единому виду. Для начала посмотрим на пропуски и посмотрим какие данные у нас предоставлены. "
   ]
  },
  {
   "cell_type": "markdown",
   "metadata": {},
   "source": [
    "# Начнем с Train"
   ]
  },
  {
   "cell_type": "code",
   "execution_count": 16,
   "metadata": {
    "execution": {
     "iopub.execute_input": "2022-06-18T12:13:29.54331Z",
     "iopub.status.busy": "2022-06-18T12:13:29.543004Z",
     "iopub.status.idle": "2022-06-18T12:13:29.628514Z",
     "shell.execute_reply": "2022-06-18T12:13:29.62724Z",
     "shell.execute_reply.started": "2022-06-18T12:13:29.54328Z"
    }
   },
   "outputs": [
    {
     "data": {
      "text/plain": [
       "bodyType                    1\n",
       "brand                       0\n",
       "color                       0\n",
       "fuelType                    0\n",
       "modelDate                   1\n",
       "name                        1\n",
       "numberOfDoors               1\n",
       "productionDate              0\n",
       "vehicleConfiguration        1\n",
       "vehicleTransmission         1\n",
       "engineDisplacement          1\n",
       "enginePower                 1\n",
       "description              3254\n",
       "mileage                     0\n",
       "Комплектация                0\n",
       "Привод                      1\n",
       "Руль                        0\n",
       "Состояние               89378\n",
       "Владельцы               13588\n",
       "ПТС                       361\n",
       "Таможня                     0\n",
       "Владение                60177\n",
       "price                     410\n",
       "start_date                  0\n",
       "hidden                  89378\n",
       "model_name                  0\n",
       "dtype: int64"
      ]
     },
     "execution_count": 16,
     "metadata": {},
     "output_type": "execute_result"
    }
   ],
   "source": [
    "train.isnull().sum()"
   ]
  },
  {
   "cell_type": "code",
   "execution_count": 17,
   "metadata": {
    "execution": {
     "iopub.execute_input": "2022-06-18T12:13:29.630381Z",
     "iopub.status.busy": "2022-06-18T12:13:29.630075Z",
     "iopub.status.idle": "2022-06-18T12:13:29.663887Z",
     "shell.execute_reply": "2022-06-18T12:13:29.66298Z",
     "shell.execute_reply.started": "2022-06-18T12:13:29.63035Z"
    }
   },
   "outputs": [
    {
     "data": {
      "text/html": [
       "<div>\n",
       "<style scoped>\n",
       "    .dataframe tbody tr th:only-of-type {\n",
       "        vertical-align: middle;\n",
       "    }\n",
       "\n",
       "    .dataframe tbody tr th {\n",
       "        vertical-align: top;\n",
       "    }\n",
       "\n",
       "    .dataframe thead th {\n",
       "        text-align: right;\n",
       "    }\n",
       "</style>\n",
       "<table border=\"1\" class=\"dataframe\">\n",
       "  <thead>\n",
       "    <tr style=\"text-align: right;\">\n",
       "      <th></th>\n",
       "      <th>bodyType</th>\n",
       "      <th>brand</th>\n",
       "      <th>color</th>\n",
       "      <th>fuelType</th>\n",
       "      <th>modelDate</th>\n",
       "      <th>name</th>\n",
       "      <th>numberOfDoors</th>\n",
       "      <th>productionDate</th>\n",
       "      <th>vehicleConfiguration</th>\n",
       "      <th>vehicleTransmission</th>\n",
       "      <th>engineDisplacement</th>\n",
       "      <th>enginePower</th>\n",
       "      <th>description</th>\n",
       "      <th>mileage</th>\n",
       "      <th>Комплектация</th>\n",
       "      <th>Привод</th>\n",
       "      <th>Руль</th>\n",
       "      <th>Состояние</th>\n",
       "      <th>Владельцы</th>\n",
       "      <th>ПТС</th>\n",
       "      <th>Таможня</th>\n",
       "      <th>Владение</th>\n",
       "      <th>price</th>\n",
       "      <th>start_date</th>\n",
       "      <th>hidden</th>\n",
       "      <th>model_name</th>\n",
       "    </tr>\n",
       "  </thead>\n",
       "  <tbody>\n",
       "    <tr>\n",
       "      <th>24624</th>\n",
       "      <td>NaN</td>\n",
       "      <td>HONDA</td>\n",
       "      <td>CACECB</td>\n",
       "      <td>универсал</td>\n",
       "      <td>NaN</td>\n",
       "      <td>NaN</td>\n",
       "      <td>NaN</td>\n",
       "      <td>1989</td>\n",
       "      <td>NaN</td>\n",
       "      <td>NaN</td>\n",
       "      <td>NaN</td>\n",
       "      <td>NaN</td>\n",
       "      <td>Продаю Honda Civic Suttle 1989 г. выпуска, неу...</td>\n",
       "      <td>400000</td>\n",
       "      <td>{'id': '0', 'name': ''}</td>\n",
       "      <td>NaN</td>\n",
       "      <td>LEFT</td>\n",
       "      <td>NaN</td>\n",
       "      <td>3.0</td>\n",
       "      <td>ORIGINAL</td>\n",
       "      <td>True</td>\n",
       "      <td>NaN</td>\n",
       "      <td>120000.0</td>\n",
       "      <td>2020-04-10T16:07:57Z</td>\n",
       "      <td>NaN</td>\n",
       "      <td>CIVIC</td>\n",
       "    </tr>\n",
       "  </tbody>\n",
       "</table>\n",
       "</div>"
      ],
      "text/plain": [
       "      bodyType  brand   color   fuelType  modelDate name  numberOfDoors  \\\n",
       "24624      NaN  HONDA  CACECB  универсал        NaN  NaN            NaN   \n",
       "\n",
       "       productionDate vehicleConfiguration vehicleTransmission  \\\n",
       "24624            1989                  NaN                 NaN   \n",
       "\n",
       "      engineDisplacement  enginePower  \\\n",
       "24624                NaN          NaN   \n",
       "\n",
       "                                             description  mileage  \\\n",
       "24624  Продаю Honda Civic Suttle 1989 г. выпуска, неу...   400000   \n",
       "\n",
       "                  Комплектация Привод  Руль  Состояние  Владельцы       ПТС  \\\n",
       "24624  {'id': '0', 'name': ''}    NaN  LEFT        NaN        3.0  ORIGINAL   \n",
       "\n",
       "       Таможня Владение     price            start_date  hidden model_name  \n",
       "24624     True      NaN  120000.0  2020-04-10T16:07:57Z     NaN      CIVIC  "
      ]
     },
     "execution_count": 17,
     "metadata": {},
     "output_type": "execute_result"
    }
   ],
   "source": [
    "train[train['bodyType'].isnull()]"
   ]
  },
  {
   "cell_type": "markdown",
   "metadata": {},
   "source": [
    "У нас есть пересечение пропусков, где пропущено всего 1 значение. это civic 1989 года. Удалим эти данные. Они не сильно повлияют на обучение модели. "
   ]
  },
  {
   "cell_type": "code",
   "execution_count": 18,
   "metadata": {
    "execution": {
     "iopub.execute_input": "2022-06-18T12:13:29.66551Z",
     "iopub.status.busy": "2022-06-18T12:13:29.665213Z",
     "iopub.status.idle": "2022-06-18T12:13:29.700028Z",
     "shell.execute_reply": "2022-06-18T12:13:29.699185Z",
     "shell.execute_reply.started": "2022-06-18T12:13:29.665477Z"
    }
   },
   "outputs": [],
   "source": [
    "train.drop(index=[24624], inplace = True)"
   ]
  },
  {
   "cell_type": "markdown",
   "metadata": {},
   "source": [
    "description — это текстовое описание рекламы. Оставим столбец так как есть.    \n",
    "Состояние - в трейне одни пропуски в признаке. в тесте все машины на ходу. Примем,  что все машины в трейне на ходу и удалил признак, т.к. он не информативен.   \n",
    "Владельцы - если посмотреть на пропуски. То start_date совпадает с productionDate либо есть небольшая разница. Примем, что все пропуски - это новые машины. И поставим значение 0.     \n",
    "ПТС - опять же, все пропуски только в новых машинах. Заменим значение на 'ORIGINAL'. Так же, данный столбце придеться удалить. Так как у нас все значения равны 'ORIGINAL'. К сожелению в тесте есть значения и дублекат. Однако в связи с тем, что на обучающей выборке у нас таких данных нету, мы не сможем исследовать влияние данного признака на стоимость.    \n",
    "Владение - столбец содержит информацию, как долго владел авто последний владелец. К сожелению заполнить данный столбец невозможно. Его придеться удалить. Так же на тесте более 60% пропусков у данного признака.    \n",
    "price - целевая переменная, на которой мы будем обучаться. Удаляем эти столбцы\n",
    "hidden- одни Nan. Удаляем признак"
   ]
  },
  {
   "cell_type": "code",
   "execution_count": 19,
   "metadata": {
    "execution": {
     "iopub.execute_input": "2022-06-18T12:13:29.703063Z",
     "iopub.status.busy": "2022-06-18T12:13:29.702071Z",
     "iopub.status.idle": "2022-06-18T12:13:29.835371Z",
     "shell.execute_reply": "2022-06-18T12:13:29.834363Z",
     "shell.execute_reply.started": "2022-06-18T12:13:29.703009Z"
    }
   },
   "outputs": [],
   "source": [
    "train.drop('Состояние', axis = 1, inplace = True)\n",
    "test.drop('Состояние', axis = 1, inplace = True)\n",
    "train.drop('ПТС', axis = 1, inplace = True)\n",
    "test.drop('ПТС', axis = 1, inplace = True)\n",
    "train.drop('Владение', axis = 1, inplace = True)\n",
    "test.drop('Владение', axis = 1, inplace = True)\n",
    "train.drop('hidden', axis = 1, inplace = True)"
   ]
  },
  {
   "cell_type": "code",
   "execution_count": 20,
   "metadata": {
    "execution": {
     "iopub.execute_input": "2022-06-18T12:13:29.837749Z",
     "iopub.status.busy": "2022-06-18T12:13:29.837133Z",
     "iopub.status.idle": "2022-06-18T12:13:29.87614Z",
     "shell.execute_reply": "2022-06-18T12:13:29.874865Z",
     "shell.execute_reply.started": "2022-06-18T12:13:29.837698Z"
    }
   },
   "outputs": [],
   "source": [
    "train.drop(train[train['price'].isnull()].index, axis = 0, inplace = True)"
   ]
  },
  {
   "cell_type": "code",
   "execution_count": 21,
   "metadata": {
    "execution": {
     "iopub.execute_input": "2022-06-18T12:13:29.878597Z",
     "iopub.status.busy": "2022-06-18T12:13:29.878075Z",
     "iopub.status.idle": "2022-06-18T12:13:29.88976Z",
     "shell.execute_reply": "2022-06-18T12:13:29.888664Z",
     "shell.execute_reply.started": "2022-06-18T12:13:29.878519Z"
    }
   },
   "outputs": [
    {
     "data": {
      "text/plain": [
       "0        False\n",
       "1        False\n",
       "2        False\n",
       "3        False\n",
       "4        False\n",
       "         ...  \n",
       "89373    False\n",
       "89374    False\n",
       "89375    False\n",
       "89376    False\n",
       "89377    False\n",
       "Name: price, Length: 88967, dtype: bool"
      ]
     },
     "execution_count": 21,
     "metadata": {},
     "output_type": "execute_result"
    }
   ],
   "source": [
    "train['price'].isnull()"
   ]
  },
  {
   "cell_type": "code",
   "execution_count": 22,
   "metadata": {
    "execution": {
     "iopub.execute_input": "2022-06-18T12:13:29.8916Z",
     "iopub.status.busy": "2022-06-18T12:13:29.891177Z",
     "iopub.status.idle": "2022-06-18T12:13:29.899786Z",
     "shell.execute_reply": "2022-06-18T12:13:29.898754Z",
     "shell.execute_reply.started": "2022-06-18T12:13:29.891554Z"
    }
   },
   "outputs": [],
   "source": [
    "train['Владельцы'].fillna(0, inplace = True)"
   ]
  },
  {
   "cell_type": "markdown",
   "metadata": {
    "execution": {
     "iopub.execute_input": "2022-06-04T05:39:28.147212Z",
     "iopub.status.busy": "2022-06-04T05:39:28.146838Z",
     "iopub.status.idle": "2022-06-04T05:39:28.15467Z",
     "shell.execute_reply": "2022-06-04T05:39:28.152973Z",
     "shell.execute_reply.started": "2022-06-04T05:39:28.147182Z"
    }
   },
   "source": [
    "Теперь отберем признаки для построения модели, а так же приведем их к единому типу."
   ]
  },
  {
   "cell_type": "code",
   "execution_count": 23,
   "metadata": {
    "execution": {
     "iopub.execute_input": "2022-06-18T12:13:29.902108Z",
     "iopub.status.busy": "2022-06-18T12:13:29.901654Z",
     "iopub.status.idle": "2022-06-18T12:13:29.926895Z",
     "shell.execute_reply": "2022-06-18T12:13:29.925717Z",
     "shell.execute_reply.started": "2022-06-18T12:13:29.902053Z"
    }
   },
   "outputs": [],
   "source": [
    "# для создания инвертированных словарей\n",
    "def invert_dict(my_dict):\n",
    "    inverted_dict = {}\n",
    "    for (new_key, new_value) in my_dict.items():\n",
    "        inverted_dict[new_value] = new_key\n",
    "    return inverted_dict\n",
    "\n",
    "# для вычисления объема двигателя из тестового DF\n",
    "def get_engineDisplacement_test(s):\n",
    "    if (re.search('\\d+', s) is not None) == False:\n",
    "        return 0\n",
    "    else:\n",
    "        return s.replace(' LTR','')\n",
    "\n",
    "# для вычисления мощности двигателя из тестового DF\n",
    "def get_enginePower_test(s):\n",
    "    return s.replace(' N12','')\n",
    "\n",
    "\n",
    "# для вычисления объема двигателя из train0\n",
    "def get_obiyom_dvigatelya_train0(s):\n",
    "    s1 = s['engineDisplacement']\n",
    "    b = False\n",
    "    if (s1[-1]=='d'):\n",
    "        s1 = s1[:-1]\n",
    "        try:\n",
    "            f = float(s1)\n",
    "            if f>100:\n",
    "                b = True\n",
    "            elif f>10:\n",
    "                f/=10\n",
    "            # return f\n",
    "        except Exception as ex:\n",
    "            b = True\n",
    "        if b==False:\n",
    "            return f\n",
    "    try:\n",
    "        f = float(s1)\n",
    "        if f>10:\n",
    "            b = True\n",
    "    except Exception as ex:\n",
    "        b = True\n",
    "    if b==False:\n",
    "        return s1\n",
    "    else:\n",
    "        s2 = s['name']\n",
    "        i = s2.find(s['engineDisplacement']) \n",
    "        if i==-1:\n",
    "            return -1\n",
    "        else:\n",
    "            j = s2.find(\".\"[i:])\n",
    "            s3 = s2[j-1:j+2]\n",
    "    try:\n",
    "        f2 = float(s3)\n",
    "    except Exception as es:\n",
    "        return -1\n",
    "    if f2>10:\n",
    "        return -1\n",
    "    return f2\n",
    "\n",
    "\n",
    "\n",
    "# для получения первого слова\n",
    "def get_first_word(s):\n",
    "    if not isinstance(s, str):\n",
    "        return \"\"\n",
    "    s = s.strip()\n",
    "    i = s.find(' ')\n",
    "    if i<1:\n",
    "        return s\n",
    "    else:\n",
    "        return s[0:i]"
   ]
  },
  {
   "cell_type": "code",
   "execution_count": 24,
   "metadata": {
    "execution": {
     "iopub.execute_input": "2022-06-18T12:13:29.92956Z",
     "iopub.status.busy": "2022-06-18T12:13:29.929035Z",
     "iopub.status.idle": "2022-06-18T12:13:31.238735Z",
     "shell.execute_reply": "2022-06-18T12:13:31.237675Z",
     "shell.execute_reply.started": "2022-06-18T12:13:29.929475Z"
    }
   },
   "outputs": [],
   "source": [
    "# создадим колонку с объемом двигателя (из колонки 'engineDisplacement')\n",
    "train['engineDisplacement'] = train.apply(get_obiyom_dvigatelya_train0, axis=1).astype(float)\n",
    "test['engineDisplacement'] = test['engineDisplacement'].apply(get_engineDisplacement_test).astype(float)\n",
    "# приведем к общему виду кузова автомобилей\n",
    "test.bodyType = test.bodyType.apply(get_first_word).apply(lambda x: x.upper())\n",
    "train.bodyType = train.bodyType.apply(get_first_word).apply(lambda x: x.upper())"
   ]
  },
  {
   "cell_type": "code",
   "execution_count": 25,
   "metadata": {
    "execution": {
     "iopub.execute_input": "2022-06-18T12:13:31.240605Z",
     "iopub.status.busy": "2022-06-18T12:13:31.240271Z",
     "iopub.status.idle": "2022-06-18T12:13:31.247981Z",
     "shell.execute_reply": "2022-06-18T12:13:31.246922Z",
     "shell.execute_reply.started": "2022-06-18T12:13:31.240568Z"
    }
   },
   "outputs": [],
   "source": [
    "# словарь для кодирования цветов автомобилей\n",
    "dict_color_direct       = {'ЗЕЛЁНЫЙ' : 0, 'БЕЛЫЙ' : 1, 'ЧЁРНЫЙ' : 2, 'КОРИЧНЕВЫЙ' : 3, \n",
    "                           'СЕРЕБРИСТЫЙ' : 4, 'СЕРЫЙ' : 5, 'КРАСНЫЙ' : 6, 'СИНИЙ' : 7, 'БЕЖЕВЫЙ' : 8, \n",
    "                           'ГОЛУБОЙ' : 9, 'ФИОЛЕТОВЫЙ' : 11, 'ЗОЛОТИСТЫЙ' : 12, # 'БОРДОВЫЙ' : 6, # 'Бордовый' : 10, \n",
    "                           'ОРАНЖЕВЫЙ' : 13, 'ЖЁЛТЫЙ' : 14, 'ПУРПУРНЫЙ' : 15, 'РОЗОВЫЙ' : 16}\n",
    "dict_color2_direct      = {'007F00' : 0, 'FAFBFB' : 1, '040001' : 2, '200204' : 3, 'CACECB' : 4, \n",
    "                           '97948F' : 5, 'EE1D19' : 6, '0000CC' : 7, 'C49648' : 8, '22A0F8' : 9, \n",
    "                           '4A2197' : 11, 'DEA522' : 12, 'FF8649' : 13, 'FFD600' : 14, \n",
    "                           '660099' : 15, 'FFC0CB' : 16}\n",
    "dict_color_invert       = invert_dict(dict_color_direct)"
   ]
  },
  {
   "cell_type": "code",
   "execution_count": 26,
   "metadata": {
    "execution": {
     "iopub.execute_input": "2022-06-18T12:13:31.249649Z",
     "iopub.status.busy": "2022-06-18T12:13:31.249277Z",
     "iopub.status.idle": "2022-06-18T12:13:31.289595Z",
     "shell.execute_reply": "2022-06-18T12:13:31.288309Z",
     "shell.execute_reply.started": "2022-06-18T12:13:31.249615Z"
    }
   },
   "outputs": [],
   "source": [
    "# Преобразование color к единому виду\n",
    "train['color'] = train['color'].map(dict_color2_direct).map(dict_color_invert)\n",
    "test.color = test.color.apply(lambda x: x.upper())"
   ]
  },
  {
   "cell_type": "code",
   "execution_count": 27,
   "metadata": {
    "execution": {
     "iopub.execute_input": "2022-06-18T12:13:31.29176Z",
     "iopub.status.busy": "2022-06-18T12:13:31.291377Z",
     "iopub.status.idle": "2022-06-18T12:13:31.345252Z",
     "shell.execute_reply": "2022-06-18T12:13:31.344351Z",
     "shell.execute_reply.started": "2022-06-18T12:13:31.291721Z"
    }
   },
   "outputs": [],
   "source": [
    "# Преобразование fuelType к единому виду\n",
    "train.color = train.color.apply(lambda x: x.upper())\n",
    "test.color = test.color.apply(lambda x: x.upper())"
   ]
  },
  {
   "cell_type": "code",
   "execution_count": 28,
   "metadata": {
    "execution": {
     "iopub.execute_input": "2022-06-18T12:13:31.347372Z",
     "iopub.status.busy": "2022-06-18T12:13:31.346984Z",
     "iopub.status.idle": "2022-06-18T12:13:31.355726Z",
     "shell.execute_reply": "2022-06-18T12:13:31.354798Z",
     "shell.execute_reply.started": "2022-06-18T12:13:31.347337Z"
    }
   },
   "outputs": [],
   "source": [
    "# Преобразование modelDate к единому виду\n",
    "test['modelDate'] = test['modelDate'].astype(int)\n",
    "train['modelDate'] = train['modelDate'].astype(int)"
   ]
  },
  {
   "cell_type": "code",
   "execution_count": 29,
   "metadata": {
    "execution": {
     "iopub.execute_input": "2022-06-18T12:13:31.358166Z",
     "iopub.status.busy": "2022-06-18T12:13:31.357802Z",
     "iopub.status.idle": "2022-06-18T12:13:31.399131Z",
     "shell.execute_reply": "2022-06-18T12:13:31.398058Z",
     "shell.execute_reply.started": "2022-06-18T12:13:31.358131Z"
    }
   },
   "outputs": [],
   "source": [
    "# Преобразование enginePower к единому виду\n",
    "test['enginePower'] = test['enginePower'].apply(get_enginePower_test).astype(int)\n",
    "train['enginePower'] = train['enginePower'].astype(int)"
   ]
  },
  {
   "cell_type": "code",
   "execution_count": 30,
   "metadata": {
    "execution": {
     "iopub.execute_input": "2022-06-18T12:13:31.401074Z",
     "iopub.status.busy": "2022-06-18T12:13:31.400502Z",
     "iopub.status.idle": "2022-06-18T12:13:31.447134Z",
     "shell.execute_reply": "2022-06-18T12:13:31.446183Z",
     "shell.execute_reply.started": "2022-06-18T12:13:31.40102Z"
    }
   },
   "outputs": [],
   "source": [
    "# Преобразование fuelType к единому виду\n",
    "test.fuelType = test.fuelType.apply(lambda x: x.upper())\n",
    "train.fuelType = train.fuelType.apply(lambda x: x.upper())"
   ]
  },
  {
   "cell_type": "code",
   "execution_count": 31,
   "metadata": {
    "execution": {
     "iopub.execute_input": "2022-06-18T12:13:31.448923Z",
     "iopub.status.busy": "2022-06-18T12:13:31.448397Z",
     "iopub.status.idle": "2022-06-18T12:13:31.456391Z",
     "shell.execute_reply": "2022-06-18T12:13:31.455085Z",
     "shell.execute_reply.started": "2022-06-18T12:13:31.448874Z"
    }
   },
   "outputs": [],
   "source": [
    "# Преобразование numberOfDoors к единому виду\n",
    "test.numberOfDoors = test.numberOfDoors.astype(int)\n",
    "train.numberOfDoors = train.numberOfDoors.astype(int)"
   ]
  },
  {
   "cell_type": "code",
   "execution_count": 32,
   "metadata": {
    "execution": {
     "iopub.execute_input": "2022-06-18T12:13:31.458423Z",
     "iopub.status.busy": "2022-06-18T12:13:31.4579Z",
     "iopub.status.idle": "2022-06-18T12:13:32.364771Z",
     "shell.execute_reply": "2022-06-18T12:13:32.363753Z",
     "shell.execute_reply.started": "2022-06-18T12:13:31.458369Z"
    }
   },
   "outputs": [],
   "source": [
    "# Преобразование даты к единому виду\n",
    "test['parsing_unixtime'] = test['parsing_unixtime'].apply(\n",
    "        lambda x: datetime.utcfromtimestamp(x).strftime('%Y-%m-%d'))\n",
    "train['start_date'] = train['start_date'].apply(\n",
    "        lambda x: datetime.strptime(x.split('T')[0], '%Y-%m-%d'))"
   ]
  },
  {
   "cell_type": "code",
   "execution_count": 33,
   "metadata": {
    "execution": {
     "iopub.execute_input": "2022-06-18T12:13:32.36661Z",
     "iopub.status.busy": "2022-06-18T12:13:32.366241Z",
     "iopub.status.idle": "2022-06-18T12:13:32.384101Z",
     "shell.execute_reply": "2022-06-18T12:13:32.382483Z",
     "shell.execute_reply.started": "2022-06-18T12:13:32.36657Z"
    }
   },
   "outputs": [],
   "source": [
    "# Преобразование признак Владельцы к единому виду\n",
    "test['Владельцы'] = test['Владельцы'].apply(lambda x: x[0])\n",
    "train['Владельцы'] = train['Владельцы'].astype(int)"
   ]
  },
  {
   "cell_type": "code",
   "execution_count": 34,
   "metadata": {
    "execution": {
     "iopub.execute_input": "2022-06-18T12:13:32.385953Z",
     "iopub.status.busy": "2022-06-18T12:13:32.385619Z",
     "iopub.status.idle": "2022-06-18T12:13:32.412234Z",
     "shell.execute_reply": "2022-06-18T12:13:32.410972Z",
     "shell.execute_reply.started": "2022-06-18T12:13:32.38592Z"
    }
   },
   "outputs": [],
   "source": [
    "# Преобразование признак руль к единому виду\n",
    "dict_rul_direct = {'ЛЕВЫЙ' : 'LEFT', 'ПРАВЫЙ' : 'RIGHT'}\n",
    "test['Руль'] = test['Руль'].apply(lambda x: x.upper()).map(dict_rul_direct)"
   ]
  },
  {
   "cell_type": "code",
   "execution_count": 35,
   "metadata": {
    "execution": {
     "iopub.execute_input": "2022-06-18T12:13:32.413877Z",
     "iopub.status.busy": "2022-06-18T12:13:32.413585Z",
     "iopub.status.idle": "2022-06-18T12:13:32.498186Z",
     "shell.execute_reply": "2022-06-18T12:13:32.497058Z",
     "shell.execute_reply.started": "2022-06-18T12:13:32.413849Z"
    }
   },
   "outputs": [
    {
     "name": "stdout",
     "output_type": "stream",
     "text": [
      "<class 'pandas.core.frame.DataFrame'>\n",
      "Int64Index: 88967 entries, 0 to 89377\n",
      "Data columns (total 22 columns):\n",
      " #   Column                Non-Null Count  Dtype         \n",
      "---  ------                --------------  -----         \n",
      " 0   bodyType              88967 non-null  object        \n",
      " 1   brand                 88967 non-null  object        \n",
      " 2   color                 88967 non-null  object        \n",
      " 3   fuelType              88967 non-null  object        \n",
      " 4   modelDate             88967 non-null  int32         \n",
      " 5   name                  88967 non-null  object        \n",
      " 6   numberOfDoors         88967 non-null  int32         \n",
      " 7   productionDate        88967 non-null  int64         \n",
      " 8   vehicleConfiguration  88967 non-null  object        \n",
      " 9   vehicleTransmission   88967 non-null  object        \n",
      " 10  engineDisplacement    88967 non-null  float64       \n",
      " 11  enginePower           88967 non-null  int32         \n",
      " 12  description           85733 non-null  object        \n",
      " 13  mileage               88967 non-null  int64         \n",
      " 14  Комплектация          88967 non-null  object        \n",
      " 15  Привод                88967 non-null  object        \n",
      " 16  Руль                  88967 non-null  object        \n",
      " 17  Владельцы             88967 non-null  int32         \n",
      " 18  Таможня               88967 non-null  bool          \n",
      " 19  price                 88967 non-null  float64       \n",
      " 20  start_date            88967 non-null  datetime64[ns]\n",
      " 21  model_name            88967 non-null  object        \n",
      "dtypes: bool(1), datetime64[ns](1), float64(2), int32(4), int64(2), object(12)\n",
      "memory usage: 13.7+ MB\n"
     ]
    }
   ],
   "source": [
    "train.info()"
   ]
  },
  {
   "cell_type": "code",
   "execution_count": 36,
   "metadata": {
    "execution": {
     "iopub.execute_input": "2022-06-18T12:13:32.499546Z",
     "iopub.status.busy": "2022-06-18T12:13:32.499237Z",
     "iopub.status.idle": "2022-06-18T12:13:32.579735Z",
     "shell.execute_reply": "2022-06-18T12:13:32.578771Z",
     "shell.execute_reply.started": "2022-06-18T12:13:32.499502Z"
    }
   },
   "outputs": [
    {
     "name": "stdout",
     "output_type": "stream",
     "text": [
      "<class 'pandas.core.frame.DataFrame'>\n",
      "RangeIndex: 34686 entries, 0 to 34685\n",
      "Data columns (total 29 columns):\n",
      " #   Column                Non-Null Count  Dtype  \n",
      "---  ------                --------------  -----  \n",
      " 0   bodyType              34686 non-null  object \n",
      " 1   brand                 34686 non-null  object \n",
      " 2   car_url               34686 non-null  object \n",
      " 3   color                 34686 non-null  object \n",
      " 4   complectation_dict    6418 non-null   object \n",
      " 5   description           34686 non-null  object \n",
      " 6   engineDisplacement    34686 non-null  float64\n",
      " 7   enginePower           34686 non-null  int32  \n",
      " 8   equipment_dict        24690 non-null  object \n",
      " 9   fuelType              34686 non-null  object \n",
      " 10  image                 34686 non-null  object \n",
      " 11  mileage               34686 non-null  int64  \n",
      " 12  modelDate             34686 non-null  int32  \n",
      " 13  model_info            34686 non-null  object \n",
      " 14  model_name            34686 non-null  object \n",
      " 15  name                  34686 non-null  object \n",
      " 16  numberOfDoors         34686 non-null  int32  \n",
      " 17  parsing_unixtime      34686 non-null  object \n",
      " 18  priceCurrency         34686 non-null  object \n",
      " 19  productionDate        34686 non-null  int64  \n",
      " 20  sell_id               34686 non-null  int64  \n",
      " 21  super_gen             34686 non-null  object \n",
      " 22  vehicleConfiguration  34686 non-null  object \n",
      " 23  vehicleTransmission   34686 non-null  object \n",
      " 24  vendor                34686 non-null  object \n",
      " 25  Владельцы             34686 non-null  object \n",
      " 26  Привод                34686 non-null  object \n",
      " 27  Руль                  34686 non-null  object \n",
      " 28  Таможня               34686 non-null  object \n",
      "dtypes: float64(1), int32(3), int64(3), object(22)\n",
      "memory usage: 7.3+ MB\n"
     ]
    }
   ],
   "source": [
    "test.info()"
   ]
  },
  {
   "cell_type": "code",
   "execution_count": 37,
   "metadata": {
    "execution": {
     "iopub.execute_input": "2022-06-18T12:13:32.581489Z",
     "iopub.status.busy": "2022-06-18T12:13:32.581176Z",
     "iopub.status.idle": "2022-06-18T12:13:32.590733Z",
     "shell.execute_reply": "2022-06-18T12:13:32.589883Z",
     "shell.execute_reply.started": "2022-06-18T12:13:32.581456Z"
    }
   },
   "outputs": [
    {
     "data": {
      "text/plain": [
       "0       2019-10-03\n",
       "1       2020-09-06\n",
       "2       2020-09-02\n",
       "3       2020-08-23\n",
       "4       2020-09-08\n",
       "           ...    \n",
       "89373   2020-02-11\n",
       "89374   2020-05-30\n",
       "89375   2020-08-30\n",
       "89376   2019-05-14\n",
       "89377   2020-08-10\n",
       "Name: start_date, Length: 88967, dtype: datetime64[ns]"
      ]
     },
     "execution_count": 37,
     "metadata": {},
     "output_type": "execute_result"
    }
   ],
   "source": [
    "train['start_date']"
   ]
  },
  {
   "cell_type": "code",
   "execution_count": 38,
   "metadata": {
    "execution": {
     "iopub.execute_input": "2022-06-18T12:13:32.593414Z",
     "iopub.status.busy": "2022-06-18T12:13:32.592675Z",
     "iopub.status.idle": "2022-06-18T12:13:32.604073Z",
     "shell.execute_reply": "2022-06-18T12:13:32.603057Z",
     "shell.execute_reply.started": "2022-06-18T12:13:32.593371Z"
    }
   },
   "outputs": [],
   "source": [
    "train.rename(columns={'start_date': 'parsing_unixtime'}, inplace=True)"
   ]
  },
  {
   "cell_type": "markdown",
   "metadata": {},
   "source": [
    "Отметим, что признак ‘Таможня’ тоже не информативен, так как все машины как в трейне так и в тесте расторможены. \n",
    "Подберем признаки для построения модели. \n"
   ]
  },
  {
   "cell_type": "code",
   "execution_count": 39,
   "metadata": {
    "execution": {
     "iopub.execute_input": "2022-06-18T12:13:32.606389Z",
     "iopub.status.busy": "2022-06-18T12:13:32.605722Z",
     "iopub.status.idle": "2022-06-18T12:13:32.617835Z",
     "shell.execute_reply": "2022-06-18T12:13:32.616501Z",
     "shell.execute_reply.started": "2022-06-18T12:13:32.606341Z"
    }
   },
   "outputs": [],
   "source": [
    "columns_model = ['bodyType', 'brand','color','description','engineDisplacement','enginePower',\n",
    "             'fuelType','mileage','modelDate','model_name','numberOfDoors','parsing_unixtime',\n",
    "             'productionDate','Владельцы','Привод','Руль']"
   ]
  },
  {
   "cell_type": "code",
   "execution_count": 40,
   "metadata": {
    "execution": {
     "iopub.execute_input": "2022-06-18T12:13:32.620709Z",
     "iopub.status.busy": "2022-06-18T12:13:32.619743Z",
     "iopub.status.idle": "2022-06-18T12:13:32.673686Z",
     "shell.execute_reply": "2022-06-18T12:13:32.672695Z",
     "shell.execute_reply.started": "2022-06-18T12:13:32.620655Z"
    }
   },
   "outputs": [
    {
     "data": {
      "text/html": [
       "<div>\n",
       "<style scoped>\n",
       "    .dataframe tbody tr th:only-of-type {\n",
       "        vertical-align: middle;\n",
       "    }\n",
       "\n",
       "    .dataframe tbody tr th {\n",
       "        vertical-align: top;\n",
       "    }\n",
       "\n",
       "    .dataframe thead th {\n",
       "        text-align: right;\n",
       "    }\n",
       "</style>\n",
       "<table border=\"1\" class=\"dataframe\">\n",
       "  <thead>\n",
       "    <tr style=\"text-align: right;\">\n",
       "      <th></th>\n",
       "      <th>bodyType</th>\n",
       "      <th>brand</th>\n",
       "      <th>color</th>\n",
       "      <th>description</th>\n",
       "      <th>engineDisplacement</th>\n",
       "      <th>enginePower</th>\n",
       "      <th>fuelType</th>\n",
       "      <th>mileage</th>\n",
       "      <th>modelDate</th>\n",
       "      <th>model_name</th>\n",
       "      <th>numberOfDoors</th>\n",
       "      <th>parsing_unixtime</th>\n",
       "      <th>productionDate</th>\n",
       "      <th>Владельцы</th>\n",
       "      <th>Привод</th>\n",
       "      <th>Руль</th>\n",
       "    </tr>\n",
       "  </thead>\n",
       "  <tbody>\n",
       "    <tr>\n",
       "      <th>0</th>\n",
       "      <td>СЕДАН</td>\n",
       "      <td>AUDI</td>\n",
       "      <td>ЧЁРНЫЙ</td>\n",
       "      <td>Машина  в приличном состоянии ,не гнилая не р...</td>\n",
       "      <td>2.8</td>\n",
       "      <td>174</td>\n",
       "      <td>БЕНЗИН</td>\n",
       "      <td>350000</td>\n",
       "      <td>1990</td>\n",
       "      <td>100</td>\n",
       "      <td>4</td>\n",
       "      <td>2019-10-03</td>\n",
       "      <td>1991</td>\n",
       "      <td>3</td>\n",
       "      <td>полный</td>\n",
       "      <td>LEFT</td>\n",
       "    </tr>\n",
       "    <tr>\n",
       "      <th>1</th>\n",
       "      <td>СЕДАН</td>\n",
       "      <td>AUDI</td>\n",
       "      <td>КРАСНЫЙ</td>\n",
       "      <td>Машина в оригинале не гнилая все вопросы по те...</td>\n",
       "      <td>1.8</td>\n",
       "      <td>90</td>\n",
       "      <td>БЕНЗИН</td>\n",
       "      <td>173424</td>\n",
       "      <td>1982</td>\n",
       "      <td>100</td>\n",
       "      <td>4</td>\n",
       "      <td>2020-09-06</td>\n",
       "      <td>1986</td>\n",
       "      <td>3</td>\n",
       "      <td>передний</td>\n",
       "      <td>LEFT</td>\n",
       "    </tr>\n",
       "    <tr>\n",
       "      <th>2</th>\n",
       "      <td>УНИВЕРСАЛ</td>\n",
       "      <td>AUDI</td>\n",
       "      <td>СИНИЙ</td>\n",
       "      <td>ПТС Оригинал!\\nПолный комплект ключей!\\nПо рез...</td>\n",
       "      <td>2.3</td>\n",
       "      <td>136</td>\n",
       "      <td>БЕНЗИН</td>\n",
       "      <td>230000</td>\n",
       "      <td>1988</td>\n",
       "      <td>100</td>\n",
       "      <td>5</td>\n",
       "      <td>2020-09-02</td>\n",
       "      <td>1989</td>\n",
       "      <td>3</td>\n",
       "      <td>полный</td>\n",
       "      <td>LEFT</td>\n",
       "    </tr>\n",
       "    <tr>\n",
       "      <th>3</th>\n",
       "      <td>СЕДАН</td>\n",
       "      <td>AUDI</td>\n",
       "      <td>СЕРЕБРИСТЫЙ</td>\n",
       "      <td>NaN</td>\n",
       "      <td>1.8</td>\n",
       "      <td>90</td>\n",
       "      <td>БЕНЗИН</td>\n",
       "      <td>240000</td>\n",
       "      <td>1988</td>\n",
       "      <td>100</td>\n",
       "      <td>4</td>\n",
       "      <td>2020-08-23</td>\n",
       "      <td>1989</td>\n",
       "      <td>3</td>\n",
       "      <td>передний</td>\n",
       "      <td>LEFT</td>\n",
       "    </tr>\n",
       "    <tr>\n",
       "      <th>4</th>\n",
       "      <td>СЕДАН</td>\n",
       "      <td>AUDI</td>\n",
       "      <td>ЧЁРНЫЙ</td>\n",
       "      <td>Машина не гнилая, дыр нет, днище целое, даже в...</td>\n",
       "      <td>2.0</td>\n",
       "      <td>101</td>\n",
       "      <td>БЕНЗИН</td>\n",
       "      <td>300000</td>\n",
       "      <td>1990</td>\n",
       "      <td>100</td>\n",
       "      <td>4</td>\n",
       "      <td>2020-09-08</td>\n",
       "      <td>1991</td>\n",
       "      <td>3</td>\n",
       "      <td>передний</td>\n",
       "      <td>LEFT</td>\n",
       "    </tr>\n",
       "    <tr>\n",
       "      <th>...</th>\n",
       "      <td>...</td>\n",
       "      <td>...</td>\n",
       "      <td>...</td>\n",
       "      <td>...</td>\n",
       "      <td>...</td>\n",
       "      <td>...</td>\n",
       "      <td>...</td>\n",
       "      <td>...</td>\n",
       "      <td>...</td>\n",
       "      <td>...</td>\n",
       "      <td>...</td>\n",
       "      <td>...</td>\n",
       "      <td>...</td>\n",
       "      <td>...</td>\n",
       "      <td>...</td>\n",
       "      <td>...</td>\n",
       "    </tr>\n",
       "    <tr>\n",
       "      <th>89373</th>\n",
       "      <td>МИНИВЭН</td>\n",
       "      <td>SSANG_YONG</td>\n",
       "      <td>ЧЁРНЫЙ</td>\n",
       "      <td>СВЕТИТ КРУТИТ РАБОТАЕТ ВСЁ.  БЕЗ ТОРГА .В МОСК...</td>\n",
       "      <td>2.7</td>\n",
       "      <td>163</td>\n",
       "      <td>ДИЗЕЛЬ</td>\n",
       "      <td>260000</td>\n",
       "      <td>2004</td>\n",
       "      <td>RODIUS</td>\n",
       "      <td>5</td>\n",
       "      <td>2020-02-11</td>\n",
       "      <td>2006</td>\n",
       "      <td>3</td>\n",
       "      <td>полный</td>\n",
       "      <td>LEFT</td>\n",
       "    </tr>\n",
       "    <tr>\n",
       "      <th>89374</th>\n",
       "      <td>МИНИВЭН</td>\n",
       "      <td>SSANG_YONG</td>\n",
       "      <td>СЕРЕБРИСТЫЙ</td>\n",
       "      <td>Автомобиль на ходу, каждый день в движении.\\nС...</td>\n",
       "      <td>2.7</td>\n",
       "      <td>163</td>\n",
       "      <td>ДИЗЕЛЬ</td>\n",
       "      <td>300000</td>\n",
       "      <td>2004</td>\n",
       "      <td>RODIUS</td>\n",
       "      <td>5</td>\n",
       "      <td>2020-05-30</td>\n",
       "      <td>2007</td>\n",
       "      <td>3</td>\n",
       "      <td>полный</td>\n",
       "      <td>LEFT</td>\n",
       "    </tr>\n",
       "    <tr>\n",
       "      <th>89375</th>\n",
       "      <td>МИНИВЭН</td>\n",
       "      <td>SSANG_YONG</td>\n",
       "      <td>ЧЁРНЫЙ</td>\n",
       "      <td>Автомобиль куплен в декабре 2015 г., новым. Вс...</td>\n",
       "      <td>2.0</td>\n",
       "      <td>149</td>\n",
       "      <td>ДИЗЕЛЬ</td>\n",
       "      <td>126000</td>\n",
       "      <td>2013</td>\n",
       "      <td>STAVIC</td>\n",
       "      <td>5</td>\n",
       "      <td>2020-08-30</td>\n",
       "      <td>2014</td>\n",
       "      <td>1</td>\n",
       "      <td>полный</td>\n",
       "      <td>LEFT</td>\n",
       "    </tr>\n",
       "    <tr>\n",
       "      <th>89376</th>\n",
       "      <td>МИНИВЭН</td>\n",
       "      <td>SSANG_YONG</td>\n",
       "      <td>СЕРЫЙ</td>\n",
       "      <td>Продаю семейного любимца. Большой вместительны...</td>\n",
       "      <td>2.0</td>\n",
       "      <td>149</td>\n",
       "      <td>ДИЗЕЛЬ</td>\n",
       "      <td>84000</td>\n",
       "      <td>2013</td>\n",
       "      <td>STAVIC</td>\n",
       "      <td>5</td>\n",
       "      <td>2019-05-14</td>\n",
       "      <td>2013</td>\n",
       "      <td>3</td>\n",
       "      <td>полный</td>\n",
       "      <td>LEFT</td>\n",
       "    </tr>\n",
       "    <tr>\n",
       "      <th>89377</th>\n",
       "      <td>МИНИВЭН</td>\n",
       "      <td>SSANG_YONG</td>\n",
       "      <td>БЕЛЫЙ</td>\n",
       "      <td>Авто в отличном состоянии всё работает. Большо...</td>\n",
       "      <td>2.0</td>\n",
       "      <td>149</td>\n",
       "      <td>ДИЗЕЛЬ</td>\n",
       "      <td>144000</td>\n",
       "      <td>2013</td>\n",
       "      <td>STAVIC</td>\n",
       "      <td>5</td>\n",
       "      <td>2020-08-10</td>\n",
       "      <td>2014</td>\n",
       "      <td>2</td>\n",
       "      <td>полный</td>\n",
       "      <td>LEFT</td>\n",
       "    </tr>\n",
       "  </tbody>\n",
       "</table>\n",
       "<p>88967 rows × 16 columns</p>\n",
       "</div>"
      ],
      "text/plain": [
       "        bodyType       brand        color  \\\n",
       "0          СЕДАН        AUDI       ЧЁРНЫЙ   \n",
       "1          СЕДАН        AUDI      КРАСНЫЙ   \n",
       "2      УНИВЕРСАЛ        AUDI        СИНИЙ   \n",
       "3          СЕДАН        AUDI  СЕРЕБРИСТЫЙ   \n",
       "4          СЕДАН        AUDI       ЧЁРНЫЙ   \n",
       "...          ...         ...          ...   \n",
       "89373    МИНИВЭН  SSANG_YONG       ЧЁРНЫЙ   \n",
       "89374    МИНИВЭН  SSANG_YONG  СЕРЕБРИСТЫЙ   \n",
       "89375    МИНИВЭН  SSANG_YONG       ЧЁРНЫЙ   \n",
       "89376    МИНИВЭН  SSANG_YONG        СЕРЫЙ   \n",
       "89377    МИНИВЭН  SSANG_YONG        БЕЛЫЙ   \n",
       "\n",
       "                                             description  engineDisplacement  \\\n",
       "0       Машина  в приличном состоянии ,не гнилая не р...                 2.8   \n",
       "1      Машина в оригинале не гнилая все вопросы по те...                 1.8   \n",
       "2      ПТС Оригинал!\\nПолный комплект ключей!\\nПо рез...                 2.3   \n",
       "3                                                    NaN                 1.8   \n",
       "4      Машина не гнилая, дыр нет, днище целое, даже в...                 2.0   \n",
       "...                                                  ...                 ...   \n",
       "89373  СВЕТИТ КРУТИТ РАБОТАЕТ ВСЁ.  БЕЗ ТОРГА .В МОСК...                 2.7   \n",
       "89374  Автомобиль на ходу, каждый день в движении.\\nС...                 2.7   \n",
       "89375  Автомобиль куплен в декабре 2015 г., новым. Вс...                 2.0   \n",
       "89376  Продаю семейного любимца. Большой вместительны...                 2.0   \n",
       "89377  Авто в отличном состоянии всё работает. Большо...                 2.0   \n",
       "\n",
       "       enginePower fuelType  mileage  modelDate model_name  numberOfDoors  \\\n",
       "0              174   БЕНЗИН   350000       1990        100              4   \n",
       "1               90   БЕНЗИН   173424       1982        100              4   \n",
       "2              136   БЕНЗИН   230000       1988        100              5   \n",
       "3               90   БЕНЗИН   240000       1988        100              4   \n",
       "4              101   БЕНЗИН   300000       1990        100              4   \n",
       "...            ...      ...      ...        ...        ...            ...   \n",
       "89373          163   ДИЗЕЛЬ   260000       2004     RODIUS              5   \n",
       "89374          163   ДИЗЕЛЬ   300000       2004     RODIUS              5   \n",
       "89375          149   ДИЗЕЛЬ   126000       2013     STAVIC              5   \n",
       "89376          149   ДИЗЕЛЬ    84000       2013     STAVIC              5   \n",
       "89377          149   ДИЗЕЛЬ   144000       2013     STAVIC              5   \n",
       "\n",
       "      parsing_unixtime  productionDate  Владельцы    Привод  Руль  \n",
       "0           2019-10-03            1991          3    полный  LEFT  \n",
       "1           2020-09-06            1986          3  передний  LEFT  \n",
       "2           2020-09-02            1989          3    полный  LEFT  \n",
       "3           2020-08-23            1989          3  передний  LEFT  \n",
       "4           2020-09-08            1991          3  передний  LEFT  \n",
       "...                ...             ...        ...       ...   ...  \n",
       "89373       2020-02-11            2006          3    полный  LEFT  \n",
       "89374       2020-05-30            2007          3    полный  LEFT  \n",
       "89375       2020-08-30            2014          1    полный  LEFT  \n",
       "89376       2019-05-14            2013          3    полный  LEFT  \n",
       "89377       2020-08-10            2014          2    полный  LEFT  \n",
       "\n",
       "[88967 rows x 16 columns]"
      ]
     },
     "execution_count": 40,
     "metadata": {},
     "output_type": "execute_result"
    }
   ],
   "source": [
    "train[columns_model]"
   ]
  },
  {
   "cell_type": "code",
   "execution_count": 41,
   "metadata": {
    "execution": {
     "iopub.execute_input": "2022-06-18T12:13:32.67576Z",
     "iopub.status.busy": "2022-06-18T12:13:32.675327Z",
     "iopub.status.idle": "2022-06-18T12:13:32.718063Z",
     "shell.execute_reply": "2022-06-18T12:13:32.717061Z",
     "shell.execute_reply.started": "2022-06-18T12:13:32.675717Z"
    }
   },
   "outputs": [
    {
     "data": {
      "text/html": [
       "<div>\n",
       "<style scoped>\n",
       "    .dataframe tbody tr th:only-of-type {\n",
       "        vertical-align: middle;\n",
       "    }\n",
       "\n",
       "    .dataframe tbody tr th {\n",
       "        vertical-align: top;\n",
       "    }\n",
       "\n",
       "    .dataframe thead th {\n",
       "        text-align: right;\n",
       "    }\n",
       "</style>\n",
       "<table border=\"1\" class=\"dataframe\">\n",
       "  <thead>\n",
       "    <tr style=\"text-align: right;\">\n",
       "      <th></th>\n",
       "      <th>bodyType</th>\n",
       "      <th>brand</th>\n",
       "      <th>color</th>\n",
       "      <th>description</th>\n",
       "      <th>engineDisplacement</th>\n",
       "      <th>enginePower</th>\n",
       "      <th>fuelType</th>\n",
       "      <th>mileage</th>\n",
       "      <th>modelDate</th>\n",
       "      <th>model_name</th>\n",
       "      <th>numberOfDoors</th>\n",
       "      <th>parsing_unixtime</th>\n",
       "      <th>productionDate</th>\n",
       "      <th>Владельцы</th>\n",
       "      <th>Привод</th>\n",
       "      <th>Руль</th>\n",
       "    </tr>\n",
       "  </thead>\n",
       "  <tbody>\n",
       "    <tr>\n",
       "      <th>0</th>\n",
       "      <td>ЛИФТБЕК</td>\n",
       "      <td>SKODA</td>\n",
       "      <td>СИНИЙ</td>\n",
       "      <td>Все автомобили, представленные в продаже, прох...</td>\n",
       "      <td>1.2</td>\n",
       "      <td>105</td>\n",
       "      <td>БЕНЗИН</td>\n",
       "      <td>74000</td>\n",
       "      <td>2013</td>\n",
       "      <td>OCTAVIA</td>\n",
       "      <td>5</td>\n",
       "      <td>2020-10-20</td>\n",
       "      <td>2014</td>\n",
       "      <td>3</td>\n",
       "      <td>передний</td>\n",
       "      <td>LEFT</td>\n",
       "    </tr>\n",
       "    <tr>\n",
       "      <th>1</th>\n",
       "      <td>ЛИФТБЕК</td>\n",
       "      <td>SKODA</td>\n",
       "      <td>ЧЁРНЫЙ</td>\n",
       "      <td>ЛОТ: 01217195\\nАвтопрага Север\\nДанный автомоб...</td>\n",
       "      <td>1.6</td>\n",
       "      <td>110</td>\n",
       "      <td>БЕНЗИН</td>\n",
       "      <td>60563</td>\n",
       "      <td>2017</td>\n",
       "      <td>OCTAVIA</td>\n",
       "      <td>5</td>\n",
       "      <td>2020-10-20</td>\n",
       "      <td>2017</td>\n",
       "      <td>1</td>\n",
       "      <td>передний</td>\n",
       "      <td>LEFT</td>\n",
       "    </tr>\n",
       "    <tr>\n",
       "      <th>2</th>\n",
       "      <td>ЛИФТБЕК</td>\n",
       "      <td>SKODA</td>\n",
       "      <td>СЕРЫЙ</td>\n",
       "      <td>Все автомобили, представленные в продаже, прох...</td>\n",
       "      <td>1.8</td>\n",
       "      <td>152</td>\n",
       "      <td>БЕНЗИН</td>\n",
       "      <td>88000</td>\n",
       "      <td>2013</td>\n",
       "      <td>SUPERB</td>\n",
       "      <td>5</td>\n",
       "      <td>2020-10-20</td>\n",
       "      <td>2014</td>\n",
       "      <td>1</td>\n",
       "      <td>передний</td>\n",
       "      <td>LEFT</td>\n",
       "    </tr>\n",
       "    <tr>\n",
       "      <th>3</th>\n",
       "      <td>ЛИФТБЕК</td>\n",
       "      <td>SKODA</td>\n",
       "      <td>КОРИЧНЕВЫЙ</td>\n",
       "      <td>КОМПЛЕКТ ЗИМНЕЙ (ЛЕТНЕЙ) РЕЗИНЫ ПО СЕЗОНУ В ПО...</td>\n",
       "      <td>1.6</td>\n",
       "      <td>110</td>\n",
       "      <td>БЕНЗИН</td>\n",
       "      <td>95000</td>\n",
       "      <td>2013</td>\n",
       "      <td>OCTAVIA</td>\n",
       "      <td>5</td>\n",
       "      <td>2020-10-20</td>\n",
       "      <td>2014</td>\n",
       "      <td>1</td>\n",
       "      <td>передний</td>\n",
       "      <td>LEFT</td>\n",
       "    </tr>\n",
       "    <tr>\n",
       "      <th>4</th>\n",
       "      <td>ЛИФТБЕК</td>\n",
       "      <td>SKODA</td>\n",
       "      <td>БЕЛЫЙ</td>\n",
       "      <td>ЛОТ: 01220889\\nАвтопрага Север\\n\\nВы можете по...</td>\n",
       "      <td>1.8</td>\n",
       "      <td>152</td>\n",
       "      <td>БЕНЗИН</td>\n",
       "      <td>58536</td>\n",
       "      <td>2008</td>\n",
       "      <td>OCTAVIA</td>\n",
       "      <td>5</td>\n",
       "      <td>2020-10-20</td>\n",
       "      <td>2012</td>\n",
       "      <td>1</td>\n",
       "      <td>передний</td>\n",
       "      <td>LEFT</td>\n",
       "    </tr>\n",
       "    <tr>\n",
       "      <th>...</th>\n",
       "      <td>...</td>\n",
       "      <td>...</td>\n",
       "      <td>...</td>\n",
       "      <td>...</td>\n",
       "      <td>...</td>\n",
       "      <td>...</td>\n",
       "      <td>...</td>\n",
       "      <td>...</td>\n",
       "      <td>...</td>\n",
       "      <td>...</td>\n",
       "      <td>...</td>\n",
       "      <td>...</td>\n",
       "      <td>...</td>\n",
       "      <td>...</td>\n",
       "      <td>...</td>\n",
       "      <td>...</td>\n",
       "    </tr>\n",
       "    <tr>\n",
       "      <th>34681</th>\n",
       "      <td>СЕДАН</td>\n",
       "      <td>BMW</td>\n",
       "      <td>КОРИЧНЕВЫЙ</td>\n",
       "      <td>Продается BMW 316i в отличном состоянии. Прода...</td>\n",
       "      <td>1.6</td>\n",
       "      <td>136</td>\n",
       "      <td>БЕНЗИН</td>\n",
       "      <td>115000</td>\n",
       "      <td>2011</td>\n",
       "      <td>3ER</td>\n",
       "      <td>4</td>\n",
       "      <td>2020-10-26</td>\n",
       "      <td>2014</td>\n",
       "      <td>3</td>\n",
       "      <td>задний</td>\n",
       "      <td>LEFT</td>\n",
       "    </tr>\n",
       "    <tr>\n",
       "      <th>34682</th>\n",
       "      <td>СЕДАН</td>\n",
       "      <td>BMW</td>\n",
       "      <td>ЧЁРНЫЙ</td>\n",
       "      <td>Продаётся отличный автомобиль.</td>\n",
       "      <td>2.0</td>\n",
       "      <td>190</td>\n",
       "      <td>ДИЗЕЛЬ</td>\n",
       "      <td>98000</td>\n",
       "      <td>2016</td>\n",
       "      <td>5ER</td>\n",
       "      <td>4</td>\n",
       "      <td>2020-10-26</td>\n",
       "      <td>2018</td>\n",
       "      <td>1</td>\n",
       "      <td>полный</td>\n",
       "      <td>LEFT</td>\n",
       "    </tr>\n",
       "    <tr>\n",
       "      <th>34683</th>\n",
       "      <td>СЕДАН</td>\n",
       "      <td>BMW</td>\n",
       "      <td>СЕРЫЙ</td>\n",
       "      <td>Хорошее состояние</td>\n",
       "      <td>2.5</td>\n",
       "      <td>170</td>\n",
       "      <td>БЕНЗИН</td>\n",
       "      <td>360000</td>\n",
       "      <td>1995</td>\n",
       "      <td>5ER</td>\n",
       "      <td>4</td>\n",
       "      <td>2020-10-26</td>\n",
       "      <td>1997</td>\n",
       "      <td>3</td>\n",
       "      <td>задний</td>\n",
       "      <td>LEFT</td>\n",
       "    </tr>\n",
       "    <tr>\n",
       "      <th>34684</th>\n",
       "      <td>ВНЕДОРОЖНИК</td>\n",
       "      <td>BMW</td>\n",
       "      <td>КОРИЧНЕВЫЙ</td>\n",
       "      <td>Автомобиль в идеальном состоянии . Куплен новы...</td>\n",
       "      <td>2.0</td>\n",
       "      <td>184</td>\n",
       "      <td>ДИЗЕЛЬ</td>\n",
       "      <td>90500</td>\n",
       "      <td>2012</td>\n",
       "      <td>X1</td>\n",
       "      <td>5</td>\n",
       "      <td>2020-10-26</td>\n",
       "      <td>2013</td>\n",
       "      <td>2</td>\n",
       "      <td>полный</td>\n",
       "      <td>LEFT</td>\n",
       "    </tr>\n",
       "    <tr>\n",
       "      <th>34685</th>\n",
       "      <td>ВНЕДОРОЖНИК</td>\n",
       "      <td>BMW</td>\n",
       "      <td>ЧЁРНЫЙ</td>\n",
       "      <td>Пробег реальный, состояние отличное! Авторска...</td>\n",
       "      <td>3.0</td>\n",
       "      <td>235</td>\n",
       "      <td>ДИЗЕЛЬ</td>\n",
       "      <td>240000</td>\n",
       "      <td>2006</td>\n",
       "      <td>X5</td>\n",
       "      <td>5</td>\n",
       "      <td>2020-10-26</td>\n",
       "      <td>2008</td>\n",
       "      <td>3</td>\n",
       "      <td>полный</td>\n",
       "      <td>LEFT</td>\n",
       "    </tr>\n",
       "  </tbody>\n",
       "</table>\n",
       "<p>34686 rows × 16 columns</p>\n",
       "</div>"
      ],
      "text/plain": [
       "          bodyType  brand       color  \\\n",
       "0          ЛИФТБЕК  SKODA       СИНИЙ   \n",
       "1          ЛИФТБЕК  SKODA      ЧЁРНЫЙ   \n",
       "2          ЛИФТБЕК  SKODA       СЕРЫЙ   \n",
       "3          ЛИФТБЕК  SKODA  КОРИЧНЕВЫЙ   \n",
       "4          ЛИФТБЕК  SKODA       БЕЛЫЙ   \n",
       "...            ...    ...         ...   \n",
       "34681        СЕДАН    BMW  КОРИЧНЕВЫЙ   \n",
       "34682        СЕДАН    BMW      ЧЁРНЫЙ   \n",
       "34683        СЕДАН    BMW       СЕРЫЙ   \n",
       "34684  ВНЕДОРОЖНИК    BMW  КОРИЧНЕВЫЙ   \n",
       "34685  ВНЕДОРОЖНИК    BMW      ЧЁРНЫЙ   \n",
       "\n",
       "                                             description  engineDisplacement  \\\n",
       "0      Все автомобили, представленные в продаже, прох...                 1.2   \n",
       "1      ЛОТ: 01217195\\nАвтопрага Север\\nДанный автомоб...                 1.6   \n",
       "2      Все автомобили, представленные в продаже, прох...                 1.8   \n",
       "3      КОМПЛЕКТ ЗИМНЕЙ (ЛЕТНЕЙ) РЕЗИНЫ ПО СЕЗОНУ В ПО...                 1.6   \n",
       "4      ЛОТ: 01220889\\nАвтопрага Север\\n\\nВы можете по...                 1.8   \n",
       "...                                                  ...                 ...   \n",
       "34681  Продается BMW 316i в отличном состоянии. Прода...                 1.6   \n",
       "34682                     Продаётся отличный автомобиль.                 2.0   \n",
       "34683                                  Хорошее состояние                 2.5   \n",
       "34684  Автомобиль в идеальном состоянии . Куплен новы...                 2.0   \n",
       "34685   Пробег реальный, состояние отличное! Авторска...                 3.0   \n",
       "\n",
       "       enginePower fuelType  mileage  modelDate model_name  numberOfDoors  \\\n",
       "0              105   БЕНЗИН    74000       2013    OCTAVIA              5   \n",
       "1              110   БЕНЗИН    60563       2017    OCTAVIA              5   \n",
       "2              152   БЕНЗИН    88000       2013     SUPERB              5   \n",
       "3              110   БЕНЗИН    95000       2013    OCTAVIA              5   \n",
       "4              152   БЕНЗИН    58536       2008    OCTAVIA              5   \n",
       "...            ...      ...      ...        ...        ...            ...   \n",
       "34681          136   БЕНЗИН   115000       2011        3ER              4   \n",
       "34682          190   ДИЗЕЛЬ    98000       2016        5ER              4   \n",
       "34683          170   БЕНЗИН   360000       1995        5ER              4   \n",
       "34684          184   ДИЗЕЛЬ    90500       2012         X1              5   \n",
       "34685          235   ДИЗЕЛЬ   240000       2006         X5              5   \n",
       "\n",
       "      parsing_unixtime  productionDate Владельцы    Привод  Руль  \n",
       "0           2020-10-20            2014         3  передний  LEFT  \n",
       "1           2020-10-20            2017         1  передний  LEFT  \n",
       "2           2020-10-20            2014         1  передний  LEFT  \n",
       "3           2020-10-20            2014         1  передний  LEFT  \n",
       "4           2020-10-20            2012         1  передний  LEFT  \n",
       "...                ...             ...       ...       ...   ...  \n",
       "34681       2020-10-26            2014         3    задний  LEFT  \n",
       "34682       2020-10-26            2018         1    полный  LEFT  \n",
       "34683       2020-10-26            1997         3    задний  LEFT  \n",
       "34684       2020-10-26            2013         2    полный  LEFT  \n",
       "34685       2020-10-26            2008         3    полный  LEFT  \n",
       "\n",
       "[34686 rows x 16 columns]"
      ]
     },
     "execution_count": 41,
     "metadata": {},
     "output_type": "execute_result"
    }
   ],
   "source": [
    "test[columns_model]"
   ]
  },
  {
   "cell_type": "markdown",
   "metadata": {
    "papermill": {
     "duration": 0.033402,
     "end_time": "2020-10-26T12:47:02.866506",
     "exception": false,
     "start_time": "2020-10-26T12:47:02.833104",
     "status": "completed"
    },
    "tags": []
   },
   "source": [
    "## Data Preprocessing"
   ]
  },
  {
   "cell_type": "code",
   "execution_count": 42,
   "metadata": {
    "execution": {
     "iopub.execute_input": "2022-06-18T12:13:32.719746Z",
     "iopub.status.busy": "2022-06-18T12:13:32.71942Z",
     "iopub.status.idle": "2022-06-18T12:13:32.762812Z",
     "shell.execute_reply": "2022-06-18T12:13:32.761841Z",
     "shell.execute_reply.started": "2022-06-18T12:13:32.719716Z"
    }
   },
   "outputs": [
    {
     "data": {
      "text/html": [
       "<div>\n",
       "<style scoped>\n",
       "    .dataframe tbody tr th:only-of-type {\n",
       "        vertical-align: middle;\n",
       "    }\n",
       "\n",
       "    .dataframe tbody tr th {\n",
       "        vertical-align: top;\n",
       "    }\n",
       "\n",
       "    .dataframe thead th {\n",
       "        text-align: right;\n",
       "    }\n",
       "</style>\n",
       "<table border=\"1\" class=\"dataframe\">\n",
       "  <thead>\n",
       "    <tr style=\"text-align: right;\">\n",
       "      <th></th>\n",
       "      <th>bodyType</th>\n",
       "      <th>brand</th>\n",
       "      <th>color</th>\n",
       "      <th>fuelType</th>\n",
       "      <th>modelDate</th>\n",
       "      <th>name</th>\n",
       "      <th>numberOfDoors</th>\n",
       "      <th>productionDate</th>\n",
       "      <th>vehicleConfiguration</th>\n",
       "      <th>vehicleTransmission</th>\n",
       "      <th>engineDisplacement</th>\n",
       "      <th>enginePower</th>\n",
       "      <th>description</th>\n",
       "      <th>mileage</th>\n",
       "      <th>Комплектация</th>\n",
       "      <th>Привод</th>\n",
       "      <th>Руль</th>\n",
       "      <th>Владельцы</th>\n",
       "      <th>Таможня</th>\n",
       "      <th>price</th>\n",
       "      <th>parsing_unixtime</th>\n",
       "      <th>model_name</th>\n",
       "    </tr>\n",
       "  </thead>\n",
       "  <tbody>\n",
       "    <tr>\n",
       "      <th>0</th>\n",
       "      <td>СЕДАН</td>\n",
       "      <td>AUDI</td>\n",
       "      <td>ЧЁРНЫЙ</td>\n",
       "      <td>БЕНЗИН</td>\n",
       "      <td>1990</td>\n",
       "      <td>2.8 MT (174 л.с.) 4WD</td>\n",
       "      <td>4</td>\n",
       "      <td>1991</td>\n",
       "      <td>SEDAN MECHANICAL 2.8</td>\n",
       "      <td>MECHANICAL</td>\n",
       "      <td>2.8</td>\n",
       "      <td>174</td>\n",
       "      <td>Машина  в приличном состоянии ,не гнилая не р...</td>\n",
       "      <td>350000</td>\n",
       "      <td>{'id': '0'}</td>\n",
       "      <td>полный</td>\n",
       "      <td>LEFT</td>\n",
       "      <td>3</td>\n",
       "      <td>True</td>\n",
       "      <td>200000.0</td>\n",
       "      <td>2019-10-03</td>\n",
       "      <td>100</td>\n",
       "    </tr>\n",
       "    <tr>\n",
       "      <th>1</th>\n",
       "      <td>СЕДАН</td>\n",
       "      <td>AUDI</td>\n",
       "      <td>КРАСНЫЙ</td>\n",
       "      <td>БЕНЗИН</td>\n",
       "      <td>1982</td>\n",
       "      <td>1.8 MT (90 л.с.)</td>\n",
       "      <td>4</td>\n",
       "      <td>1986</td>\n",
       "      <td>SEDAN MECHANICAL 1.8</td>\n",
       "      <td>MECHANICAL</td>\n",
       "      <td>1.8</td>\n",
       "      <td>90</td>\n",
       "      <td>Машина в оригинале не гнилая все вопросы по те...</td>\n",
       "      <td>173424</td>\n",
       "      <td>{'id': '0'}</td>\n",
       "      <td>передний</td>\n",
       "      <td>LEFT</td>\n",
       "      <td>3</td>\n",
       "      <td>True</td>\n",
       "      <td>60000.0</td>\n",
       "      <td>2020-09-06</td>\n",
       "      <td>100</td>\n",
       "    </tr>\n",
       "    <tr>\n",
       "      <th>2</th>\n",
       "      <td>УНИВЕРСАЛ</td>\n",
       "      <td>AUDI</td>\n",
       "      <td>СИНИЙ</td>\n",
       "      <td>БЕНЗИН</td>\n",
       "      <td>1988</td>\n",
       "      <td>2.3 MT (136 л.с.) 4WD</td>\n",
       "      <td>5</td>\n",
       "      <td>1989</td>\n",
       "      <td>WAGON_5_DOORS MECHANICAL 2.3</td>\n",
       "      <td>MECHANICAL</td>\n",
       "      <td>2.3</td>\n",
       "      <td>136</td>\n",
       "      <td>ПТС Оригинал!\\nПолный комплект ключей!\\nПо рез...</td>\n",
       "      <td>230000</td>\n",
       "      <td>{'id': '0'}</td>\n",
       "      <td>полный</td>\n",
       "      <td>LEFT</td>\n",
       "      <td>3</td>\n",
       "      <td>True</td>\n",
       "      <td>99000.0</td>\n",
       "      <td>2020-09-02</td>\n",
       "      <td>100</td>\n",
       "    </tr>\n",
       "    <tr>\n",
       "      <th>3</th>\n",
       "      <td>СЕДАН</td>\n",
       "      <td>AUDI</td>\n",
       "      <td>СЕРЕБРИСТЫЙ</td>\n",
       "      <td>БЕНЗИН</td>\n",
       "      <td>1988</td>\n",
       "      <td>1.8 MT (90 л.с.)</td>\n",
       "      <td>4</td>\n",
       "      <td>1989</td>\n",
       "      <td>SEDAN MECHANICAL 1.8</td>\n",
       "      <td>MECHANICAL</td>\n",
       "      <td>1.8</td>\n",
       "      <td>90</td>\n",
       "      <td>NaN</td>\n",
       "      <td>240000</td>\n",
       "      <td>{'id': '0'}</td>\n",
       "      <td>передний</td>\n",
       "      <td>LEFT</td>\n",
       "      <td>3</td>\n",
       "      <td>True</td>\n",
       "      <td>65000.0</td>\n",
       "      <td>2020-08-23</td>\n",
       "      <td>100</td>\n",
       "    </tr>\n",
       "    <tr>\n",
       "      <th>4</th>\n",
       "      <td>СЕДАН</td>\n",
       "      <td>AUDI</td>\n",
       "      <td>ЧЁРНЫЙ</td>\n",
       "      <td>БЕНЗИН</td>\n",
       "      <td>1990</td>\n",
       "      <td>2.0 MT (101 л.с.)</td>\n",
       "      <td>4</td>\n",
       "      <td>1991</td>\n",
       "      <td>SEDAN MECHANICAL 2.0</td>\n",
       "      <td>MECHANICAL</td>\n",
       "      <td>2.0</td>\n",
       "      <td>101</td>\n",
       "      <td>Машина не гнилая, дыр нет, днище целое, даже в...</td>\n",
       "      <td>300000</td>\n",
       "      <td>{'id': '0'}</td>\n",
       "      <td>передний</td>\n",
       "      <td>LEFT</td>\n",
       "      <td>3</td>\n",
       "      <td>True</td>\n",
       "      <td>100000.0</td>\n",
       "      <td>2020-09-08</td>\n",
       "      <td>100</td>\n",
       "    </tr>\n",
       "    <tr>\n",
       "      <th>...</th>\n",
       "      <td>...</td>\n",
       "      <td>...</td>\n",
       "      <td>...</td>\n",
       "      <td>...</td>\n",
       "      <td>...</td>\n",
       "      <td>...</td>\n",
       "      <td>...</td>\n",
       "      <td>...</td>\n",
       "      <td>...</td>\n",
       "      <td>...</td>\n",
       "      <td>...</td>\n",
       "      <td>...</td>\n",
       "      <td>...</td>\n",
       "      <td>...</td>\n",
       "      <td>...</td>\n",
       "      <td>...</td>\n",
       "      <td>...</td>\n",
       "      <td>...</td>\n",
       "      <td>...</td>\n",
       "      <td>...</td>\n",
       "      <td>...</td>\n",
       "      <td>...</td>\n",
       "    </tr>\n",
       "    <tr>\n",
       "      <th>89373</th>\n",
       "      <td>МИНИВЭН</td>\n",
       "      <td>SSANG_YONG</td>\n",
       "      <td>ЧЁРНЫЙ</td>\n",
       "      <td>ДИЗЕЛЬ</td>\n",
       "      <td>2004</td>\n",
       "      <td>2.7d AT (163 л.с.) 4WD</td>\n",
       "      <td>5</td>\n",
       "      <td>2006</td>\n",
       "      <td>MINIVAN AUTOMATIC 2.7d</td>\n",
       "      <td>AUTOMATIC</td>\n",
       "      <td>2.7</td>\n",
       "      <td>163</td>\n",
       "      <td>СВЕТИТ КРУТИТ РАБОТАЕТ ВСЁ.  БЕЗ ТОРГА .В МОСК...</td>\n",
       "      <td>260000</td>\n",
       "      <td>{'id': '0'}</td>\n",
       "      <td>полный</td>\n",
       "      <td>LEFT</td>\n",
       "      <td>3</td>\n",
       "      <td>True</td>\n",
       "      <td>450000.0</td>\n",
       "      <td>2020-02-11</td>\n",
       "      <td>RODIUS</td>\n",
       "    </tr>\n",
       "    <tr>\n",
       "      <th>89374</th>\n",
       "      <td>МИНИВЭН</td>\n",
       "      <td>SSANG_YONG</td>\n",
       "      <td>СЕРЕБРИСТЫЙ</td>\n",
       "      <td>ДИЗЕЛЬ</td>\n",
       "      <td>2004</td>\n",
       "      <td>2.7d AT (163 л.с.) 4WD</td>\n",
       "      <td>5</td>\n",
       "      <td>2007</td>\n",
       "      <td>MINIVAN AUTOMATIC 2.7d</td>\n",
       "      <td>AUTOMATIC</td>\n",
       "      <td>2.7</td>\n",
       "      <td>163</td>\n",
       "      <td>Автомобиль на ходу, каждый день в движении.\\nС...</td>\n",
       "      <td>300000</td>\n",
       "      <td>{'id': '0'}</td>\n",
       "      <td>полный</td>\n",
       "      <td>LEFT</td>\n",
       "      <td>3</td>\n",
       "      <td>True</td>\n",
       "      <td>485000.0</td>\n",
       "      <td>2020-05-30</td>\n",
       "      <td>RODIUS</td>\n",
       "    </tr>\n",
       "    <tr>\n",
       "      <th>89375</th>\n",
       "      <td>МИНИВЭН</td>\n",
       "      <td>SSANG_YONG</td>\n",
       "      <td>ЧЁРНЫЙ</td>\n",
       "      <td>ДИЗЕЛЬ</td>\n",
       "      <td>2013</td>\n",
       "      <td>2.0d AT (149 л.с.) 4WD</td>\n",
       "      <td>5</td>\n",
       "      <td>2014</td>\n",
       "      <td>MINIVAN AUTOMATIC 2.0d</td>\n",
       "      <td>AUTOMATIC</td>\n",
       "      <td>2.0</td>\n",
       "      <td>149</td>\n",
       "      <td>Автомобиль куплен в декабре 2015 г., новым. Вс...</td>\n",
       "      <td>126000</td>\n",
       "      <td>{'id': '10408082', 'name': 'Luxury', 'availabl...</td>\n",
       "      <td>полный</td>\n",
       "      <td>LEFT</td>\n",
       "      <td>1</td>\n",
       "      <td>True</td>\n",
       "      <td>1090000.0</td>\n",
       "      <td>2020-08-30</td>\n",
       "      <td>STAVIC</td>\n",
       "    </tr>\n",
       "    <tr>\n",
       "      <th>89376</th>\n",
       "      <td>МИНИВЭН</td>\n",
       "      <td>SSANG_YONG</td>\n",
       "      <td>СЕРЫЙ</td>\n",
       "      <td>ДИЗЕЛЬ</td>\n",
       "      <td>2013</td>\n",
       "      <td>2.0d AT (149 л.с.) 4WD</td>\n",
       "      <td>5</td>\n",
       "      <td>2013</td>\n",
       "      <td>MINIVAN AUTOMATIC 2.0d</td>\n",
       "      <td>AUTOMATIC</td>\n",
       "      <td>2.0</td>\n",
       "      <td>149</td>\n",
       "      <td>Продаю семейного любимца. Большой вместительны...</td>\n",
       "      <td>84000</td>\n",
       "      <td>{'id': '10408081', 'name': 'Elegance', 'availa...</td>\n",
       "      <td>полный</td>\n",
       "      <td>LEFT</td>\n",
       "      <td>3</td>\n",
       "      <td>True</td>\n",
       "      <td>1180000.0</td>\n",
       "      <td>2019-05-14</td>\n",
       "      <td>STAVIC</td>\n",
       "    </tr>\n",
       "    <tr>\n",
       "      <th>89377</th>\n",
       "      <td>МИНИВЭН</td>\n",
       "      <td>SSANG_YONG</td>\n",
       "      <td>БЕЛЫЙ</td>\n",
       "      <td>ДИЗЕЛЬ</td>\n",
       "      <td>2013</td>\n",
       "      <td>2.0d AT (149 л.с.) 4WD</td>\n",
       "      <td>5</td>\n",
       "      <td>2014</td>\n",
       "      <td>MINIVAN AUTOMATIC 2.0d</td>\n",
       "      <td>AUTOMATIC</td>\n",
       "      <td>2.0</td>\n",
       "      <td>149</td>\n",
       "      <td>Авто в отличном состоянии всё работает. Большо...</td>\n",
       "      <td>144000</td>\n",
       "      <td>{'id': '0'}</td>\n",
       "      <td>полный</td>\n",
       "      <td>LEFT</td>\n",
       "      <td>2</td>\n",
       "      <td>True</td>\n",
       "      <td>1075000.0</td>\n",
       "      <td>2020-08-10</td>\n",
       "      <td>STAVIC</td>\n",
       "    </tr>\n",
       "  </tbody>\n",
       "</table>\n",
       "<p>88967 rows × 22 columns</p>\n",
       "</div>"
      ],
      "text/plain": [
       "        bodyType       brand        color fuelType  modelDate  \\\n",
       "0          СЕДАН        AUDI       ЧЁРНЫЙ   БЕНЗИН       1990   \n",
       "1          СЕДАН        AUDI      КРАСНЫЙ   БЕНЗИН       1982   \n",
       "2      УНИВЕРСАЛ        AUDI        СИНИЙ   БЕНЗИН       1988   \n",
       "3          СЕДАН        AUDI  СЕРЕБРИСТЫЙ   БЕНЗИН       1988   \n",
       "4          СЕДАН        AUDI       ЧЁРНЫЙ   БЕНЗИН       1990   \n",
       "...          ...         ...          ...      ...        ...   \n",
       "89373    МИНИВЭН  SSANG_YONG       ЧЁРНЫЙ   ДИЗЕЛЬ       2004   \n",
       "89374    МИНИВЭН  SSANG_YONG  СЕРЕБРИСТЫЙ   ДИЗЕЛЬ       2004   \n",
       "89375    МИНИВЭН  SSANG_YONG       ЧЁРНЫЙ   ДИЗЕЛЬ       2013   \n",
       "89376    МИНИВЭН  SSANG_YONG        СЕРЫЙ   ДИЗЕЛЬ       2013   \n",
       "89377    МИНИВЭН  SSANG_YONG        БЕЛЫЙ   ДИЗЕЛЬ       2013   \n",
       "\n",
       "                         name  numberOfDoors  productionDate  \\\n",
       "0       2.8 MT (174 л.с.) 4WD              4            1991   \n",
       "1            1.8 MT (90 л.с.)              4            1986   \n",
       "2       2.3 MT (136 л.с.) 4WD              5            1989   \n",
       "3            1.8 MT (90 л.с.)              4            1989   \n",
       "4           2.0 MT (101 л.с.)              4            1991   \n",
       "...                       ...            ...             ...   \n",
       "89373  2.7d AT (163 л.с.) 4WD              5            2006   \n",
       "89374  2.7d AT (163 л.с.) 4WD              5            2007   \n",
       "89375  2.0d AT (149 л.с.) 4WD              5            2014   \n",
       "89376  2.0d AT (149 л.с.) 4WD              5            2013   \n",
       "89377  2.0d AT (149 л.с.) 4WD              5            2014   \n",
       "\n",
       "               vehicleConfiguration vehicleTransmission  engineDisplacement  \\\n",
       "0              SEDAN MECHANICAL 2.8          MECHANICAL                 2.8   \n",
       "1              SEDAN MECHANICAL 1.8          MECHANICAL                 1.8   \n",
       "2      WAGON_5_DOORS MECHANICAL 2.3          MECHANICAL                 2.3   \n",
       "3              SEDAN MECHANICAL 1.8          MECHANICAL                 1.8   \n",
       "4              SEDAN MECHANICAL 2.0          MECHANICAL                 2.0   \n",
       "...                             ...                 ...                 ...   \n",
       "89373        MINIVAN AUTOMATIC 2.7d           AUTOMATIC                 2.7   \n",
       "89374        MINIVAN AUTOMATIC 2.7d           AUTOMATIC                 2.7   \n",
       "89375        MINIVAN AUTOMATIC 2.0d           AUTOMATIC                 2.0   \n",
       "89376        MINIVAN AUTOMATIC 2.0d           AUTOMATIC                 2.0   \n",
       "89377        MINIVAN AUTOMATIC 2.0d           AUTOMATIC                 2.0   \n",
       "\n",
       "       enginePower                                        description  \\\n",
       "0              174   Машина  в приличном состоянии ,не гнилая не р...   \n",
       "1               90  Машина в оригинале не гнилая все вопросы по те...   \n",
       "2              136  ПТС Оригинал!\\nПолный комплект ключей!\\nПо рез...   \n",
       "3               90                                                NaN   \n",
       "4              101  Машина не гнилая, дыр нет, днище целое, даже в...   \n",
       "...            ...                                                ...   \n",
       "89373          163  СВЕТИТ КРУТИТ РАБОТАЕТ ВСЁ.  БЕЗ ТОРГА .В МОСК...   \n",
       "89374          163  Автомобиль на ходу, каждый день в движении.\\nС...   \n",
       "89375          149  Автомобиль куплен в декабре 2015 г., новым. Вс...   \n",
       "89376          149  Продаю семейного любимца. Большой вместительны...   \n",
       "89377          149  Авто в отличном состоянии всё работает. Большо...   \n",
       "\n",
       "       mileage                                       Комплектация    Привод  \\\n",
       "0       350000                                        {'id': '0'}    полный   \n",
       "1       173424                                        {'id': '0'}  передний   \n",
       "2       230000                                        {'id': '0'}    полный   \n",
       "3       240000                                        {'id': '0'}  передний   \n",
       "4       300000                                        {'id': '0'}  передний   \n",
       "...        ...                                                ...       ...   \n",
       "89373   260000                                        {'id': '0'}    полный   \n",
       "89374   300000                                        {'id': '0'}    полный   \n",
       "89375   126000  {'id': '10408082', 'name': 'Luxury', 'availabl...    полный   \n",
       "89376    84000  {'id': '10408081', 'name': 'Elegance', 'availa...    полный   \n",
       "89377   144000                                        {'id': '0'}    полный   \n",
       "\n",
       "       Руль  Владельцы  Таможня      price parsing_unixtime model_name  \n",
       "0      LEFT          3     True   200000.0       2019-10-03        100  \n",
       "1      LEFT          3     True    60000.0       2020-09-06        100  \n",
       "2      LEFT          3     True    99000.0       2020-09-02        100  \n",
       "3      LEFT          3     True    65000.0       2020-08-23        100  \n",
       "4      LEFT          3     True   100000.0       2020-09-08        100  \n",
       "...     ...        ...      ...        ...              ...        ...  \n",
       "89373  LEFT          3     True   450000.0       2020-02-11     RODIUS  \n",
       "89374  LEFT          3     True   485000.0       2020-05-30     RODIUS  \n",
       "89375  LEFT          1     True  1090000.0       2020-08-30     STAVIC  \n",
       "89376  LEFT          3     True  1180000.0       2019-05-14     STAVIC  \n",
       "89377  LEFT          2     True  1075000.0       2020-08-10     STAVIC  \n",
       "\n",
       "[88967 rows x 22 columns]"
      ]
     },
     "execution_count": 42,
     "metadata": {},
     "output_type": "execute_result"
    }
   ],
   "source": [
    "train"
   ]
  },
  {
   "cell_type": "markdown",
   "metadata": {},
   "source": [
    "# Подготовка данных к наивной модели."
   ]
  },
  {
   "cell_type": "code",
   "execution_count": 43,
   "metadata": {
    "execution": {
     "iopub.execute_input": "2022-06-18T12:13:32.76507Z",
     "iopub.status.busy": "2022-06-18T12:13:32.764404Z",
     "iopub.status.idle": "2022-06-18T12:13:32.785247Z",
     "shell.execute_reply": "2022-06-18T12:13:32.783889Z",
     "shell.execute_reply.started": "2022-06-18T12:13:32.765014Z"
    },
    "papermill": {
     "duration": 0.054414,
     "end_time": "2020-10-26T12:47:03.223614",
     "exception": false,
     "start_time": "2020-10-26T12:47:03.1692",
     "status": "completed"
    },
    "tags": []
   },
   "outputs": [],
   "source": [
    "# для baseline просто возьму пару схожих признаков\n",
    "columns_naiv = ['bodyType', 'brand', 'productionDate', 'engineDisplacement', 'mileage']\n",
    "df_train = train[columns_naiv]\n",
    "df_test = test[columns_naiv]"
   ]
  },
  {
   "cell_type": "code",
   "execution_count": 44,
   "metadata": {
    "execution": {
     "iopub.execute_input": "2022-06-18T12:13:32.787827Z",
     "iopub.status.busy": "2022-06-18T12:13:32.787048Z",
     "iopub.status.idle": "2022-06-18T12:13:32.799501Z",
     "shell.execute_reply": "2022-06-18T12:13:32.798592Z",
     "shell.execute_reply.started": "2022-06-18T12:13:32.787733Z"
    }
   },
   "outputs": [],
   "source": [
    "y = train['price']"
   ]
  },
  {
   "cell_type": "markdown",
   "metadata": {
    "papermill": {
     "duration": 0.033657,
     "end_time": "2020-10-26T12:47:03.29162",
     "exception": false,
     "start_time": "2020-10-26T12:47:03.257963",
     "status": "completed"
    },
    "tags": []
   },
   "source": [
    "## Label Encoding"
   ]
  },
  {
   "cell_type": "code",
   "execution_count": 45,
   "metadata": {
    "execution": {
     "iopub.execute_input": "2022-06-18T12:13:32.801621Z",
     "iopub.status.busy": "2022-06-18T12:13:32.801196Z",
     "iopub.status.idle": "2022-06-18T12:13:32.831718Z",
     "shell.execute_reply": "2022-06-18T12:13:32.830631Z",
     "shell.execute_reply.started": "2022-06-18T12:13:32.801585Z"
    },
    "papermill": {
     "duration": 0.080223,
     "end_time": "2020-10-26T12:47:03.406196",
     "exception": false,
     "start_time": "2020-10-26T12:47:03.325973",
     "status": "completed"
    },
    "tags": []
   },
   "outputs": [
    {
     "name": "stderr",
     "output_type": "stream",
     "text": [
      "C:\\Users\\User\\AppData\\Local\\Temp/ipykernel_2928/1662330491.py:2: SettingWithCopyWarning: \n",
      "A value is trying to be set on a copy of a slice from a DataFrame.\n",
      "Try using .loc[row_indexer,col_indexer] = value instead\n",
      "\n",
      "See the caveats in the documentation: https://pandas.pydata.org/pandas-docs/stable/user_guide/indexing.html#returning-a-view-versus-a-copy\n",
      "  df_train['sample'] = 1 # помечаем где у нас трейн\n",
      "C:\\Users\\User\\AppData\\Local\\Temp/ipykernel_2928/1662330491.py:3: SettingWithCopyWarning: \n",
      "A value is trying to be set on a copy of a slice from a DataFrame.\n",
      "Try using .loc[row_indexer,col_indexer] = value instead\n",
      "\n",
      "See the caveats in the documentation: https://pandas.pydata.org/pandas-docs/stable/user_guide/indexing.html#returning-a-view-versus-a-copy\n",
      "  df_test['sample'] = 0 # помечаем где у нас тест\n"
     ]
    }
   ],
   "source": [
    "# ВАЖНО! дря корректной обработки признаков объединяем трейн и тест в один датасет\n",
    "df_train['sample'] = 1 # помечаем где у нас трейн\n",
    "df_test['sample'] = 0 # помечаем где у нас тест\n",
    "\n",
    "data = df_test.append(df_train, sort=False).reset_index(drop=True) # объединяем"
   ]
  },
  {
   "cell_type": "code",
   "execution_count": 46,
   "metadata": {
    "execution": {
     "iopub.execute_input": "2022-06-18T12:13:32.833508Z",
     "iopub.status.busy": "2022-06-18T12:13:32.833199Z",
     "iopub.status.idle": "2022-06-18T12:13:32.887885Z",
     "shell.execute_reply": "2022-06-18T12:13:32.886836Z",
     "shell.execute_reply.started": "2022-06-18T12:13:32.833478Z"
    },
    "papermill": {
     "duration": 0.10809,
     "end_time": "2020-10-26T12:47:03.549533",
     "exception": false,
     "start_time": "2020-10-26T12:47:03.441443",
     "status": "completed"
    },
    "tags": []
   },
   "outputs": [],
   "source": [
    "for colum in ['bodyType', 'brand', 'engineDisplacement']:\n",
    "    data[colum] = data[colum].astype('category').cat.codes\n"
   ]
  },
  {
   "cell_type": "code",
   "execution_count": 47,
   "metadata": {
    "execution": {
     "iopub.execute_input": "2022-06-18T12:13:32.89129Z",
     "iopub.status.busy": "2022-06-18T12:13:32.890794Z",
     "iopub.status.idle": "2022-06-18T12:13:32.921144Z",
     "shell.execute_reply": "2022-06-18T12:13:32.919932Z",
     "shell.execute_reply.started": "2022-06-18T12:13:32.891236Z"
    },
    "papermill": {
     "duration": 0.071275,
     "end_time": "2020-10-26T12:47:03.754",
     "exception": false,
     "start_time": "2020-10-26T12:47:03.682725",
     "status": "completed"
    },
    "tags": []
   },
   "outputs": [],
   "source": [
    "X = data.query('sample == 1').drop(['sample'], axis=1)\n",
    "X_sub = data.query('sample == 0').drop(['sample'], axis=1)"
   ]
  },
  {
   "cell_type": "markdown",
   "metadata": {
    "papermill": {
     "duration": 0.035737,
     "end_time": "2020-10-26T12:47:03.826552",
     "exception": false,
     "start_time": "2020-10-26T12:47:03.790815",
     "status": "completed"
    },
    "tags": []
   },
   "source": [
    "## Train Split"
   ]
  },
  {
   "cell_type": "code",
   "execution_count": 48,
   "metadata": {
    "execution": {
     "iopub.execute_input": "2022-06-18T12:13:32.923337Z",
     "iopub.status.busy": "2022-06-18T12:13:32.922993Z",
     "iopub.status.idle": "2022-06-18T12:13:32.939592Z",
     "shell.execute_reply": "2022-06-18T12:13:32.938715Z",
     "shell.execute_reply.started": "2022-06-18T12:13:32.923303Z"
    },
    "papermill": {
     "duration": 0.059208,
     "end_time": "2020-10-26T12:47:03.923564",
     "exception": false,
     "start_time": "2020-10-26T12:47:03.864356",
     "status": "completed"
    },
    "tags": []
   },
   "outputs": [],
   "source": [
    "X_train, X_test, y_train, y_test = train_test_split(X, y, test_size=VAL_SIZE, shuffle=True, random_state=RANDOM_SEED)"
   ]
  },
  {
   "cell_type": "markdown",
   "metadata": {},
   "source": [
    "# Создадим \"наивную\" модель \n",
    "Эта модель будет предсказывать среднюю цену по модели двигателя (engineDisplacement). \n",
    "C ней будем сравнивать другие модели.\n",
    "\n",
    "\n"
   ]
  },
  {
   "cell_type": "code",
   "execution_count": 49,
   "metadata": {
    "execution": {
     "iopub.execute_input": "2022-06-18T12:13:32.941774Z",
     "iopub.status.busy": "2022-06-18T12:13:32.94101Z",
     "iopub.status.idle": "2022-06-18T12:13:32.956766Z",
     "shell.execute_reply": "2022-06-18T12:13:32.95552Z",
     "shell.execute_reply.started": "2022-06-18T12:13:32.941719Z"
    }
   },
   "outputs": [],
   "source": [
    "tmp_train = X_train.copy()\n",
    "tmp_train['price'] = y_train"
   ]
  },
  {
   "cell_type": "code",
   "execution_count": 50,
   "metadata": {
    "execution": {
     "iopub.execute_input": "2022-06-18T12:13:32.959739Z",
     "iopub.status.busy": "2022-06-18T12:13:32.958815Z",
     "iopub.status.idle": "2022-06-18T12:13:32.977465Z",
     "shell.execute_reply": "2022-06-18T12:13:32.976269Z",
     "shell.execute_reply.started": "2022-06-18T12:13:32.959687Z"
    }
   },
   "outputs": [
    {
     "name": "stdout",
     "output_type": "stream",
     "text": [
      "Точность наивной модели по метрике MAPE: 107.32%\n"
     ]
    }
   ],
   "source": [
    "# Находим median по экземплярам engineDisplacement в трейне и размечаем тест\n",
    "predict = X_test['engineDisplacement'].map(tmp_train.groupby('engineDisplacement')['price'].median())\n",
    "\n",
    "#оцениваем точность\n",
    "print(f\"Точность наивной модели по метрике MAPE: {(mape(y_test, predict.values))*100:0.2f}%\")"
   ]
  },
  {
   "cell_type": "markdown",
   "metadata": {
    "papermill": {
     "duration": 0.037164,
     "end_time": "2020-10-26T12:47:03.997616",
     "exception": false,
     "start_time": "2020-10-26T12:47:03.960452",
     "status": "completed"
    },
    "tags": []
   },
   "source": [
    "# CatBoost\n",
    "![](https://pbs.twimg.com/media/DP-jUCyXcAArRTo.png:large)   \n",
    "\n",
    "\n",
    "У нас в данных практически все признаки категориальные. Специально для работы с такими данными была создана очень удобная библиотека CatBoost от Яндекса. [https://catboost.ai](http://)     \n",
    "На данный момент **CatBoost является одной из лучших библиотек для табличных данных!**\n",
    "\n",
    "#### Полезные видео о CatBoost (на русском):\n",
    "* [Доклад про CatBoost](https://youtu.be/9ZrfErvm97M)\n",
    "* [Свежий Туториал от команды CatBoost (практическая часть)](https://youtu.be/wQt4kgAOgV0) "
   ]
  },
  {
   "cell_type": "markdown",
   "metadata": {
    "papermill": {
     "duration": 0.035833,
     "end_time": "2020-10-26T12:47:04.149539",
     "exception": false,
     "start_time": "2020-10-26T12:47:04.113706",
     "status": "completed"
    },
    "tags": []
   },
   "source": [
    "## Fit"
   ]
  },
  {
   "cell_type": "code",
   "execution_count": 51,
   "metadata": {
    "execution": {
     "iopub.execute_input": "2022-06-18T12:13:32.980471Z",
     "iopub.status.busy": "2022-06-18T12:13:32.979585Z",
     "iopub.status.idle": "2022-06-18T12:14:19.0515Z",
     "shell.execute_reply": "2022-06-18T12:14:19.050361Z",
     "shell.execute_reply.started": "2022-06-18T12:13:32.98042Z"
    },
    "papermill": {
     "duration": 67.991521,
     "end_time": "2020-10-26T12:48:12.178488",
     "exception": false,
     "start_time": "2020-10-26T12:47:04.186967",
     "status": "completed"
    },
    "tags": []
   },
   "outputs": [],
   "source": [
    "model = CatBoostRegressor(iterations = 5000,\n",
    "                          random_seed = RANDOM_SEED,\n",
    "                          eval_metric='MAPE',\n",
    "                          custom_metric=['R2', 'MAE'],\n",
    "                          silent=True,\n",
    "                         )\n",
    "model.fit(X_train, y_train,\n",
    "         #cat_features=cat_features_ids,\n",
    "         eval_set=(X_test, y_test),\n",
    "         verbose_eval=0,\n",
    "         use_best_model=True,\n",
    "         #plot=True\n",
    "         )\n",
    "\n",
    "model.save_model('catboost_single_model_baseline.model')"
   ]
  },
  {
   "cell_type": "code",
   "execution_count": 52,
   "metadata": {
    "execution": {
     "iopub.execute_input": "2022-06-18T12:14:19.053835Z",
     "iopub.status.busy": "2022-06-18T12:14:19.053304Z",
     "iopub.status.idle": "2022-06-18T12:14:19.113462Z",
     "shell.execute_reply": "2022-06-18T12:14:19.112662Z",
     "shell.execute_reply.started": "2022-06-18T12:14:19.053775Z"
    }
   },
   "outputs": [
    {
     "name": "stdout",
     "output_type": "stream",
     "text": [
      "Точность модели по метрике MAPE: 17.87%\n"
     ]
    }
   ],
   "source": [
    "# оцениваем точность\n",
    "predict = model.predict(X_test)\n",
    "print(f\"Точность модели по метрике MAPE: {(mape(y_test, predict))*100:0.2f}%\")"
   ]
  },
  {
   "cell_type": "markdown",
   "metadata": {
    "papermill": {
     "duration": 0.088891,
     "end_time": "2020-10-26T12:48:12.562943",
     "exception": false,
     "start_time": "2020-10-26T12:48:12.474052",
     "status": "completed"
    },
    "tags": []
   },
   "source": [
    "Вот так просто со старта, даже не трогая сами данные и не подбирая настройки catboosta, получаем модель с уровнем ошибки в 18%!"
   ]
  },
  {
   "cell_type": "markdown",
   "metadata": {},
   "source": [
    "### Log Traget\n",
    "Попробуем взять таргет в логорифм - это позволит уменьшить влияние выбросов на обучение модели (используем для этого np.log и np.exp).    \n",
    "В принциепе мы можем использовать любое приобразование на целевую переменную. Например деление на курс доллара, евро или гречки :) в дату сбора данных, смотрим дату парсинга в тесте в **parsing_unixtime**"
   ]
  },
  {
   "cell_type": "code",
   "execution_count": 53,
   "metadata": {
    "execution": {
     "iopub.execute_input": "2022-06-18T12:14:19.115655Z",
     "iopub.status.busy": "2022-06-18T12:14:19.114956Z",
     "iopub.status.idle": "2022-06-18T12:14:19.127508Z",
     "shell.execute_reply": "2022-06-18T12:14:19.126345Z",
     "shell.execute_reply.started": "2022-06-18T12:14:19.115618Z"
    }
   },
   "outputs": [
    {
     "data": {
      "text/plain": [
       "45050    13.579788\n",
       "58064    11.982929\n",
       "32325    13.527828\n",
       "44804    14.038654\n",
       "75985    13.487006\n",
       "           ...    \n",
       "6291     14.508657\n",
       "55137    12.542545\n",
       "77179    13.122363\n",
       "865      12.641097\n",
       "15861    14.403297\n",
       "Name: price, Length: 71173, dtype: float64"
      ]
     },
     "execution_count": 53,
     "metadata": {},
     "output_type": "execute_result"
    }
   ],
   "source": [
    "np.log(y_train)"
   ]
  },
  {
   "cell_type": "code",
   "execution_count": 54,
   "metadata": {
    "execution": {
     "iopub.execute_input": "2022-06-18T12:14:19.129637Z",
     "iopub.status.busy": "2022-06-18T12:14:19.129291Z",
     "iopub.status.idle": "2022-06-18T12:15:05.415549Z",
     "shell.execute_reply": "2022-06-18T12:15:05.414603Z",
     "shell.execute_reply.started": "2022-06-18T12:14:19.129604Z"
    }
   },
   "outputs": [],
   "source": [
    "model = CatBoostRegressor(iterations = 5000,\n",
    "                          random_seed = RANDOM_SEED,\n",
    "                          eval_metric='MAPE',\n",
    "                          custom_metric=['R2', 'MAE'],\n",
    "                          silent=True,\n",
    "                         )\n",
    "model.fit(X_train, np.log(y_train),\n",
    "         #cat_features=cat_features_ids,\n",
    "         eval_set=(X_test, np.log(y_test)),\n",
    "         verbose_eval=0,\n",
    "         use_best_model=True,\n",
    "         #plot=True\n",
    "         )\n",
    "\n",
    "model.save_model('catboost_single_model_2_baseline.model')"
   ]
  },
  {
   "cell_type": "code",
   "execution_count": 55,
   "metadata": {
    "execution": {
     "iopub.execute_input": "2022-06-18T12:15:05.417044Z",
     "iopub.status.busy": "2022-06-18T12:15:05.416786Z",
     "iopub.status.idle": "2022-06-18T12:15:05.552567Z",
     "shell.execute_reply": "2022-06-18T12:15:05.551719Z",
     "shell.execute_reply.started": "2022-06-18T12:15:05.417018Z"
    }
   },
   "outputs": [],
   "source": [
    "predict_test = np.exp(model.predict(X_test))\n",
    "predict_submission = np.exp(model.predict(X_sub))"
   ]
  },
  {
   "cell_type": "code",
   "execution_count": 56,
   "metadata": {
    "execution": {
     "iopub.execute_input": "2022-06-18T12:15:05.554837Z",
     "iopub.status.busy": "2022-06-18T12:15:05.554503Z",
     "iopub.status.idle": "2022-06-18T12:15:05.563086Z",
     "shell.execute_reply": "2022-06-18T12:15:05.561872Z",
     "shell.execute_reply.started": "2022-06-18T12:15:05.554806Z"
    }
   },
   "outputs": [
    {
     "name": "stdout",
     "output_type": "stream",
     "text": [
      "Точность модели по метрике MAPE: 15.49%\n"
     ]
    }
   ],
   "source": [
    "print(f\"Точность модели по метрике MAPE: {(mape(y_test, predict_test))*100:0.2f}%\")"
   ]
  },
  {
   "cell_type": "markdown",
   "metadata": {},
   "source": [
    "Как видим точность возросла до 15.51%. Продолжим дальше"
   ]
  },
  {
   "cell_type": "markdown",
   "metadata": {
    "execution": {
     "iopub.execute_input": "2022-06-11T05:51:55.656214Z",
     "iopub.status.busy": "2022-06-11T05:51:55.655511Z",
     "iopub.status.idle": "2022-06-11T05:51:55.660674Z",
     "shell.execute_reply": "2022-06-11T05:51:55.659147Z",
     "shell.execute_reply.started": "2022-06-11T05:51:55.656176Z"
    }
   },
   "source": [
    "# Futcher engineering "
   ]
  },
  {
   "cell_type": "code",
   "execution_count": 57,
   "metadata": {
    "execution": {
     "iopub.execute_input": "2022-06-18T12:15:05.565105Z",
     "iopub.status.busy": "2022-06-18T12:15:05.56482Z",
     "iopub.status.idle": "2022-06-18T12:15:05.649216Z",
     "shell.execute_reply": "2022-06-18T12:15:05.648305Z",
     "shell.execute_reply.started": "2022-06-18T12:15:05.565078Z"
    }
   },
   "outputs": [],
   "source": [
    "test_2 = test[columns_model]\n",
    "train_2 = train[columns_model]"
   ]
  },
  {
   "cell_type": "code",
   "execution_count": 58,
   "metadata": {
    "execution": {
     "iopub.execute_input": "2022-06-18T12:15:05.651571Z",
     "iopub.status.busy": "2022-06-18T12:15:05.651085Z",
     "iopub.status.idle": "2022-06-18T12:15:05.656659Z",
     "shell.execute_reply": "2022-06-18T12:15:05.655483Z",
     "shell.execute_reply.started": "2022-06-18T12:15:05.651503Z"
    }
   },
   "outputs": [],
   "source": [
    "price = train['price']"
   ]
  },
  {
   "cell_type": "code",
   "execution_count": 59,
   "metadata": {
    "execution": {
     "iopub.execute_input": "2022-06-18T12:15:05.659085Z",
     "iopub.status.busy": "2022-06-18T12:15:05.658579Z",
     "iopub.status.idle": "2022-06-18T12:15:06.122083Z",
     "shell.execute_reply": "2022-06-18T12:15:06.120961Z",
     "shell.execute_reply.started": "2022-06-18T12:15:05.659046Z"
    }
   },
   "outputs": [
    {
     "name": "stderr",
     "output_type": "stream",
     "text": [
      "C:\\Users\\User\\AppData\\Local\\Temp/ipykernel_2928/1765247368.py:1: SettingWithCopyWarning: \n",
      "A value is trying to be set on a copy of a slice from a DataFrame.\n",
      "Try using .loc[row_indexer,col_indexer] = value instead\n",
      "\n",
      "See the caveats in the documentation: https://pandas.pydata.org/pandas-docs/stable/user_guide/indexing.html#returning-a-view-versus-a-copy\n",
      "  test_2['sample'] = 1 # помечаем где у нас трейн\n",
      "C:\\Users\\User\\AppData\\Local\\Temp/ipykernel_2928/1765247368.py:2: SettingWithCopyWarning: \n",
      "A value is trying to be set on a copy of a slice from a DataFrame.\n",
      "Try using .loc[row_indexer,col_indexer] = value instead\n",
      "\n",
      "See the caveats in the documentation: https://pandas.pydata.org/pandas-docs/stable/user_guide/indexing.html#returning-a-view-versus-a-copy\n",
      "  train_2['sample'] = 0 # помечаем где у нас тест\n"
     ]
    }
   ],
   "source": [
    "test_2['sample'] = 1 # помечаем где у нас трейн\n",
    "train_2['sample'] = 0 # помечаем где у нас тест\n",
    "\n",
    "data_2 = test_2.append(train_2, sort=False).reset_index(drop=True) # объединяем"
   ]
  },
  {
   "cell_type": "markdown",
   "metadata": {},
   "source": [
    "Добавим пару новых признаков:\n",
    "Комбинация год_месяц. Что бы подобрать курс доллара для каждой машины на дату продажи.\n",
    "Количество лет машине и количество лет модели.\n"
   ]
  },
  {
   "cell_type": "code",
   "execution_count": 60,
   "metadata": {
    "execution": {
     "iopub.execute_input": "2022-06-18T12:15:06.123807Z",
     "iopub.status.busy": "2022-06-18T12:15:06.123504Z",
     "iopub.status.idle": "2022-06-18T12:15:06.12892Z",
     "shell.execute_reply": "2022-06-18T12:15:06.12785Z",
     "shell.execute_reply.started": "2022-06-18T12:15:06.123778Z"
    }
   },
   "outputs": [],
   "source": [
    "def to_date(x):\n",
    "    if type(x) is str:\n",
    "        return datetime.strptime(x, '%Y-%m-%d')\n",
    "    else: return x"
   ]
  },
  {
   "cell_type": "code",
   "execution_count": 61,
   "metadata": {
    "execution": {
     "iopub.execute_input": "2022-06-18T12:15:06.130822Z",
     "iopub.status.busy": "2022-06-18T12:15:06.130489Z",
     "iopub.status.idle": "2022-06-18T12:15:06.481224Z",
     "shell.execute_reply": "2022-06-18T12:15:06.480185Z",
     "shell.execute_reply.started": "2022-06-18T12:15:06.130793Z"
    }
   },
   "outputs": [],
   "source": [
    "data_2['parsing_unixtime'] = data_2['parsing_unixtime'].apply(\n",
    "        lambda x: to_date(x))"
   ]
  },
  {
   "cell_type": "code",
   "execution_count": 62,
   "metadata": {
    "execution": {
     "iopub.execute_input": "2022-06-18T12:15:06.482894Z",
     "iopub.status.busy": "2022-06-18T12:15:06.482606Z",
     "iopub.status.idle": "2022-06-18T12:15:12.691585Z",
     "shell.execute_reply": "2022-06-18T12:15:12.690769Z",
     "shell.execute_reply.started": "2022-06-18T12:15:06.482865Z"
    }
   },
   "outputs": [],
   "source": [
    "data_2['parsing_unixtime'] = data_2['parsing_unixtime'].apply(\n",
    "        lambda x: to_date(x))\n",
    "data_2['year_pars'] = data_2['parsing_unixtime'].apply(\n",
    "        lambda x: str(x.year))\n",
    "data_2['year_month'] = data_2['parsing_unixtime'].apply(\n",
    "        lambda x: str(x.year)+\"_\"+str(+x.month))\n",
    "data_2['machine_age'] = data_2.apply(\n",
    "        lambda x: int(x['year_pars'])- x['productionDate'], axis = 1)\n",
    "data_2['model_age'] = data_2.apply(\n",
    "        lambda x: int(x['year_pars'])- x['modelDate'], axis = 1)"
   ]
  },
  {
   "cell_type": "code",
   "execution_count": 63,
   "metadata": {
    "execution": {
     "iopub.execute_input": "2022-06-18T12:15:12.697574Z",
     "iopub.status.busy": "2022-06-18T12:15:12.697033Z",
     "iopub.status.idle": "2022-06-18T12:15:13.328172Z",
     "shell.execute_reply": "2022-06-18T12:15:13.327016Z",
     "shell.execute_reply.started": "2022-06-18T12:15:12.697503Z"
    }
   },
   "outputs": [],
   "source": [
    "data_2['month_pars'] = data_2['parsing_unixtime'].apply(\n",
    "        lambda x: str(x.month))"
   ]
  },
  {
   "cell_type": "code",
   "execution_count": 64,
   "metadata": {
    "execution": {
     "iopub.execute_input": "2022-06-18T12:15:13.329929Z",
     "iopub.status.busy": "2022-06-18T12:15:13.329605Z",
     "iopub.status.idle": "2022-06-18T12:15:13.336336Z",
     "shell.execute_reply": "2022-06-18T12:15:13.334839Z",
     "shell.execute_reply.started": "2022-06-18T12:15:13.329899Z"
    }
   },
   "outputs": [],
   "source": [
    "def description_len (x):\n",
    "    '''Функция принимает на вход строку\n",
    "    и возвращает длину строки'''\n",
    "    \n",
    "    if type(x) is str:\n",
    "        return len(x)\n",
    "    else:\n",
    "        return 0"
   ]
  },
  {
   "cell_type": "code",
   "execution_count": 65,
   "metadata": {
    "execution": {
     "iopub.execute_input": "2022-06-18T12:15:13.33889Z",
     "iopub.status.busy": "2022-06-18T12:15:13.338263Z",
     "iopub.status.idle": "2022-06-18T12:15:13.444387Z",
     "shell.execute_reply": "2022-06-18T12:15:13.443149Z",
     "shell.execute_reply.started": "2022-06-18T12:15:13.338841Z"
    }
   },
   "outputs": [],
   "source": [
    "data_2['description_len'] = data_2['description'].apply(lambda x: description_len(x))"
   ]
  },
  {
   "cell_type": "code",
   "execution_count": 66,
   "metadata": {
    "execution": {
     "iopub.execute_input": "2022-06-18T12:15:13.446027Z",
     "iopub.status.busy": "2022-06-18T12:15:13.445716Z",
     "iopub.status.idle": "2022-06-18T12:15:13.452379Z",
     "shell.execute_reply": "2022-06-18T12:15:13.451335Z",
     "shell.execute_reply.started": "2022-06-18T12:15:13.445997Z"
    }
   },
   "outputs": [],
   "source": [
    "def seasons (x):\n",
    "    '''Функция для преобразования в сезоны года'''\n",
    "    if int(x) in [12,1,2]:\n",
    "        return 'ЗИМА'\n",
    "    elif int(x) in [3,4,5]:\n",
    "        return \"ВЕСНА\"\n",
    "    elif int(x) in [6,7,8]:\n",
    "        return 'ЛЕТО'\n",
    "    elif int(x) in [9,10,11]:\n",
    "        return 'ОСЕНЬ'"
   ]
  },
  {
   "cell_type": "code",
   "execution_count": 67,
   "metadata": {
    "execution": {
     "iopub.execute_input": "2022-06-18T12:15:13.453855Z",
     "iopub.status.busy": "2022-06-18T12:15:13.453542Z",
     "iopub.status.idle": "2022-06-18T12:15:13.5826Z",
     "shell.execute_reply": "2022-06-18T12:15:13.581483Z",
     "shell.execute_reply.started": "2022-06-18T12:15:13.453823Z"
    }
   },
   "outputs": [],
   "source": [
    "data_2['season'] = data_2['month_pars'].apply(lambda x: seasons(x))"
   ]
  },
  {
   "cell_type": "code",
   "execution_count": 68,
   "metadata": {
    "execution": {
     "iopub.execute_input": "2022-06-18T12:15:13.584665Z",
     "iopub.status.busy": "2022-06-18T12:15:13.584299Z",
     "iopub.status.idle": "2022-06-18T12:15:13.615081Z",
     "shell.execute_reply": "2022-06-18T12:15:13.613496Z",
     "shell.execute_reply.started": "2022-06-18T12:15:13.58463Z"
    }
   },
   "outputs": [
    {
     "data": {
      "text/html": [
       "<div>\n",
       "<style scoped>\n",
       "    .dataframe tbody tr th:only-of-type {\n",
       "        vertical-align: middle;\n",
       "    }\n",
       "\n",
       "    .dataframe tbody tr th {\n",
       "        vertical-align: top;\n",
       "    }\n",
       "\n",
       "    .dataframe thead th {\n",
       "        text-align: right;\n",
       "    }\n",
       "</style>\n",
       "<table border=\"1\" class=\"dataframe\">\n",
       "  <thead>\n",
       "    <tr style=\"text-align: right;\">\n",
       "      <th></th>\n",
       "      <th>bodyType</th>\n",
       "      <th>brand</th>\n",
       "      <th>color</th>\n",
       "      <th>description</th>\n",
       "      <th>engineDisplacement</th>\n",
       "      <th>enginePower</th>\n",
       "      <th>fuelType</th>\n",
       "      <th>mileage</th>\n",
       "      <th>modelDate</th>\n",
       "      <th>model_name</th>\n",
       "      <th>numberOfDoors</th>\n",
       "      <th>parsing_unixtime</th>\n",
       "      <th>productionDate</th>\n",
       "      <th>Владельцы</th>\n",
       "      <th>Привод</th>\n",
       "      <th>Руль</th>\n",
       "      <th>sample</th>\n",
       "      <th>year_pars</th>\n",
       "      <th>year_month</th>\n",
       "      <th>machine_age</th>\n",
       "      <th>model_age</th>\n",
       "      <th>month_pars</th>\n",
       "      <th>description_len</th>\n",
       "      <th>season</th>\n",
       "    </tr>\n",
       "  </thead>\n",
       "  <tbody>\n",
       "    <tr>\n",
       "      <th>0</th>\n",
       "      <td>ЛИФТБЕК</td>\n",
       "      <td>SKODA</td>\n",
       "      <td>СИНИЙ</td>\n",
       "      <td>Все автомобили, представленные в продаже, прох...</td>\n",
       "      <td>1.2</td>\n",
       "      <td>105</td>\n",
       "      <td>БЕНЗИН</td>\n",
       "      <td>74000</td>\n",
       "      <td>2013</td>\n",
       "      <td>OCTAVIA</td>\n",
       "      <td>5</td>\n",
       "      <td>2020-10-20</td>\n",
       "      <td>2014</td>\n",
       "      <td>3</td>\n",
       "      <td>передний</td>\n",
       "      <td>LEFT</td>\n",
       "      <td>1</td>\n",
       "      <td>2020</td>\n",
       "      <td>2020_10</td>\n",
       "      <td>6</td>\n",
       "      <td>7</td>\n",
       "      <td>10</td>\n",
       "      <td>1001</td>\n",
       "      <td>ОСЕНЬ</td>\n",
       "    </tr>\n",
       "    <tr>\n",
       "      <th>1</th>\n",
       "      <td>ЛИФТБЕК</td>\n",
       "      <td>SKODA</td>\n",
       "      <td>ЧЁРНЫЙ</td>\n",
       "      <td>ЛОТ: 01217195\\nАвтопрага Север\\nДанный автомоб...</td>\n",
       "      <td>1.6</td>\n",
       "      <td>110</td>\n",
       "      <td>БЕНЗИН</td>\n",
       "      <td>60563</td>\n",
       "      <td>2017</td>\n",
       "      <td>OCTAVIA</td>\n",
       "      <td>5</td>\n",
       "      <td>2020-10-20</td>\n",
       "      <td>2017</td>\n",
       "      <td>1</td>\n",
       "      <td>передний</td>\n",
       "      <td>LEFT</td>\n",
       "      <td>1</td>\n",
       "      <td>2020</td>\n",
       "      <td>2020_10</td>\n",
       "      <td>3</td>\n",
       "      <td>3</td>\n",
       "      <td>10</td>\n",
       "      <td>2609</td>\n",
       "      <td>ОСЕНЬ</td>\n",
       "    </tr>\n",
       "    <tr>\n",
       "      <th>2</th>\n",
       "      <td>ЛИФТБЕК</td>\n",
       "      <td>SKODA</td>\n",
       "      <td>СЕРЫЙ</td>\n",
       "      <td>Все автомобили, представленные в продаже, прох...</td>\n",
       "      <td>1.8</td>\n",
       "      <td>152</td>\n",
       "      <td>БЕНЗИН</td>\n",
       "      <td>88000</td>\n",
       "      <td>2013</td>\n",
       "      <td>SUPERB</td>\n",
       "      <td>5</td>\n",
       "      <td>2020-10-20</td>\n",
       "      <td>2014</td>\n",
       "      <td>1</td>\n",
       "      <td>передний</td>\n",
       "      <td>LEFT</td>\n",
       "      <td>1</td>\n",
       "      <td>2020</td>\n",
       "      <td>2020_10</td>\n",
       "      <td>6</td>\n",
       "      <td>7</td>\n",
       "      <td>10</td>\n",
       "      <td>1001</td>\n",
       "      <td>ОСЕНЬ</td>\n",
       "    </tr>\n",
       "    <tr>\n",
       "      <th>3</th>\n",
       "      <td>ЛИФТБЕК</td>\n",
       "      <td>SKODA</td>\n",
       "      <td>КОРИЧНЕВЫЙ</td>\n",
       "      <td>КОМПЛЕКТ ЗИМНЕЙ (ЛЕТНЕЙ) РЕЗИНЫ ПО СЕЗОНУ В ПО...</td>\n",
       "      <td>1.6</td>\n",
       "      <td>110</td>\n",
       "      <td>БЕНЗИН</td>\n",
       "      <td>95000</td>\n",
       "      <td>2013</td>\n",
       "      <td>OCTAVIA</td>\n",
       "      <td>5</td>\n",
       "      <td>2020-10-20</td>\n",
       "      <td>2014</td>\n",
       "      <td>1</td>\n",
       "      <td>передний</td>\n",
       "      <td>LEFT</td>\n",
       "      <td>1</td>\n",
       "      <td>2020</td>\n",
       "      <td>2020_10</td>\n",
       "      <td>6</td>\n",
       "      <td>7</td>\n",
       "      <td>10</td>\n",
       "      <td>1676</td>\n",
       "      <td>ОСЕНЬ</td>\n",
       "    </tr>\n",
       "    <tr>\n",
       "      <th>4</th>\n",
       "      <td>ЛИФТБЕК</td>\n",
       "      <td>SKODA</td>\n",
       "      <td>БЕЛЫЙ</td>\n",
       "      <td>ЛОТ: 01220889\\nАвтопрага Север\\n\\nВы можете по...</td>\n",
       "      <td>1.8</td>\n",
       "      <td>152</td>\n",
       "      <td>БЕНЗИН</td>\n",
       "      <td>58536</td>\n",
       "      <td>2008</td>\n",
       "      <td>OCTAVIA</td>\n",
       "      <td>5</td>\n",
       "      <td>2020-10-20</td>\n",
       "      <td>2012</td>\n",
       "      <td>1</td>\n",
       "      <td>передний</td>\n",
       "      <td>LEFT</td>\n",
       "      <td>1</td>\n",
       "      <td>2020</td>\n",
       "      <td>2020_10</td>\n",
       "      <td>8</td>\n",
       "      <td>12</td>\n",
       "      <td>10</td>\n",
       "      <td>2365</td>\n",
       "      <td>ОСЕНЬ</td>\n",
       "    </tr>\n",
       "  </tbody>\n",
       "</table>\n",
       "</div>"
      ],
      "text/plain": [
       "  bodyType  brand       color  \\\n",
       "0  ЛИФТБЕК  SKODA       СИНИЙ   \n",
       "1  ЛИФТБЕК  SKODA      ЧЁРНЫЙ   \n",
       "2  ЛИФТБЕК  SKODA       СЕРЫЙ   \n",
       "3  ЛИФТБЕК  SKODA  КОРИЧНЕВЫЙ   \n",
       "4  ЛИФТБЕК  SKODA       БЕЛЫЙ   \n",
       "\n",
       "                                         description  engineDisplacement  \\\n",
       "0  Все автомобили, представленные в продаже, прох...                 1.2   \n",
       "1  ЛОТ: 01217195\\nАвтопрага Север\\nДанный автомоб...                 1.6   \n",
       "2  Все автомобили, представленные в продаже, прох...                 1.8   \n",
       "3  КОМПЛЕКТ ЗИМНЕЙ (ЛЕТНЕЙ) РЕЗИНЫ ПО СЕЗОНУ В ПО...                 1.6   \n",
       "4  ЛОТ: 01220889\\nАвтопрага Север\\n\\nВы можете по...                 1.8   \n",
       "\n",
       "   enginePower fuelType  mileage  modelDate model_name  numberOfDoors  \\\n",
       "0          105   БЕНЗИН    74000       2013    OCTAVIA              5   \n",
       "1          110   БЕНЗИН    60563       2017    OCTAVIA              5   \n",
       "2          152   БЕНЗИН    88000       2013     SUPERB              5   \n",
       "3          110   БЕНЗИН    95000       2013    OCTAVIA              5   \n",
       "4          152   БЕНЗИН    58536       2008    OCTAVIA              5   \n",
       "\n",
       "  parsing_unixtime  productionDate Владельцы    Привод  Руль  sample  \\\n",
       "0       2020-10-20            2014         3  передний  LEFT       1   \n",
       "1       2020-10-20            2017         1  передний  LEFT       1   \n",
       "2       2020-10-20            2014         1  передний  LEFT       1   \n",
       "3       2020-10-20            2014         1  передний  LEFT       1   \n",
       "4       2020-10-20            2012         1  передний  LEFT       1   \n",
       "\n",
       "  year_pars year_month  machine_age  model_age month_pars  description_len  \\\n",
       "0      2020    2020_10            6          7         10             1001   \n",
       "1      2020    2020_10            3          3         10             2609   \n",
       "2      2020    2020_10            6          7         10             1001   \n",
       "3      2020    2020_10            6          7         10             1676   \n",
       "4      2020    2020_10            8         12         10             2365   \n",
       "\n",
       "  season  \n",
       "0  ОСЕНЬ  \n",
       "1  ОСЕНЬ  \n",
       "2  ОСЕНЬ  \n",
       "3  ОСЕНЬ  \n",
       "4  ОСЕНЬ  "
      ]
     },
     "execution_count": 68,
     "metadata": {},
     "output_type": "execute_result"
    }
   ],
   "source": [
    "data_2.head()"
   ]
  },
  {
   "cell_type": "code",
   "execution_count": 69,
   "metadata": {
    "execution": {
     "iopub.execute_input": "2022-06-18T12:15:13.617699Z",
     "iopub.status.busy": "2022-06-18T12:15:13.617128Z",
     "iopub.status.idle": "2022-06-18T12:15:13.625502Z",
     "shell.execute_reply": "2022-06-18T12:15:13.62431Z",
     "shell.execute_reply.started": "2022-06-18T12:15:13.617625Z"
    }
   },
   "outputs": [],
   "source": [
    "col_check = ['bodyType','brand', 'engineDisplacement','enginePower','fuelType', 'model_name','Привод', 'Руль']"
   ]
  },
  {
   "cell_type": "code",
   "execution_count": 70,
   "metadata": {
    "execution": {
     "iopub.execute_input": "2022-06-18T12:15:13.627937Z",
     "iopub.status.busy": "2022-06-18T12:15:13.627439Z",
     "iopub.status.idle": "2022-06-18T12:15:13.720428Z",
     "shell.execute_reply": "2022-06-18T12:15:13.719444Z",
     "shell.execute_reply.started": "2022-06-18T12:15:13.627888Z"
    }
   },
   "outputs": [
    {
     "name": "stdout",
     "output_type": "stream",
     "text": [
      "bodyType ['ЛИФТБЕК' 'ВНЕДОРОЖНИК' 'ХЭТЧБЕК' 'СЕДАН' 'КОМПАКТВЭН' 'УНИВЕРСАЛ'\n",
      " 'ПИКАП' 'КУПЕ' 'КАБРИОЛЕТ' 'МИНИВЭН' 'РОДСТЕР' 'МИКРОВЭН' 'КУПЕ-ХАРДТОП'\n",
      " 'ФАСТБЕК' 'ТАРГА' 'ЛИМУЗИН' 'СЕДАН-ХАРДТОП' 'ФУРГОН']\n",
      "brand ['SKODA' 'AUDI' 'HONDA' 'VOLVO' 'BMW' 'NISSAN' 'INFINITI' 'MERCEDES'\n",
      " 'TOYOTA' 'LEXUS' 'VOLKSWAGEN' 'MITSUBISHI' 'CADILLAC' 'CHERY' 'CHEVROLET'\n",
      " 'CHRYSLER' 'CITROEN' 'DAEWOO' 'DODGE' 'FORD' 'GEELY' 'HYUNDAI' 'JAGUAR'\n",
      " 'JEEP' 'KIA' 'MAZDA' 'MINI' 'OPEL' 'PEUGEOT' 'PORSCHE' 'RENAULT' 'SUBARU'\n",
      " 'SUZUKI' 'GREAT_WALL' 'LAND_ROVER' 'SSANG_YONG']\n",
      "engineDisplacement [ 1.2  1.6  1.8  2.   1.4  1.3  1.   3.6  1.5  1.9  2.8  1.1  2.5  4.2\n",
      "  3.   4.   5.9  2.7  3.1  2.4  5.2  3.2  4.1  6.3  2.3  6.   2.2  3.7\n",
      "  2.9  5.   3.3  2.1  2.6  0.   3.5  1.7  0.7  4.4  4.8  5.4  6.6  4.9\n",
      "  3.8  3.4  3.9  4.6  5.6  4.5  5.5  6.2  4.7  4.3  5.8  5.3  5.7 -1.\n",
      "  6.4  8.2  7.   0.8  8.1  6.7  7.5  7.4  6.5  6.1  6.8  8.4  7.3]\n",
      "enginePower [105 110 152 200 102 150  90 180 220 122  70 140 125  54  86  75  64  95\n",
      " 260 170  80  68 160 115 280  53  60 143  42 101  58 193  79  30 100  50\n",
      " 163 225 420 211 245 560 500 249 450 605 250 354 120 290 230 350 204 255\n",
      " 340 177 272 372 210 130 300 190 239 435 333 271 326 238 310 233 252 133\n",
      " 460 520 400 525 367 265 550 580  88 165 430 335 174 224 136 256 338 112\n",
      " 218 360  93 182 113 240 270 137 155  61 254 116  71 285 408 166 156 257\n",
      " 201 162 194 142 154 147 281 243 118 128  91  83 205 247 188 295 275  78\n",
      " 109  94 185 258 145 132 135  52  66 124  98 215 158  99 103 131 126 235\n",
      " 181 315 203 231  82 304 175 320 213 144 146 151 111 286 306 107 184 313\n",
      " 264 575 407 192 129 555 625 329 370 381 269 600 510 544 462 355 507 609\n",
      " 431 530 387 610 197 343 445 171  51  46 347 321 167 141 169 405 117 114\n",
      " 173 234 540 106  49 248 317 309  97 121 268 149  87  85  65  67 127 485\n",
      " 186 222 307 262 302 284 325 168 221 330 283 328 303 278 388 571 585 612\n",
      " 401 279 455 382 557 517 394 422 292 469 522 296 639 390 476 630 402 487\n",
      " 558 421 316 514 457 626 242  38  32 223  72 305 183 273 159  76 148 179\n",
      "  73 277 282 178 288 199 266  92  74 324 232 157  69 212 276 202  77 164\n",
      "  96  84 228 108 208 263 294 318 380 219 214 383 241  57  55 104  48  40\n",
      "  44 227 139 209 195 189 480 591 301 410 226 311 322 564 409 426 349 299\n",
      " 314 119 161 589 312 172 466 495 513 437 365 323 345 403  63 359 396 425\n",
      " 253 237 287 138 207  41 251 717 492 395 702 470 123 411 375 385  20 526\n",
      " 662 412  56 334 373  81 198 196 298 416 363 468 352 274 187  62 424 261\n",
      " 477 244 153  45  89 475 608 440 570 521 761 680  17  11 236 134 565 339\n",
      " 700 800]\n",
      "fuelType ['БЕНЗИН' 'ДИЗЕЛЬ' 'ГИБРИД' 'ЭЛЕКТРО' 'ГАЗ']\n",
      "model_name ['OCTAVIA' 'SUPERB' 'OCTAVIA_RS' ... 'REXTON' 'RODIUS' 'STAVIC']\n",
      "Привод ['передний' 'полный' 'задний']\n",
      "Руль ['LEFT' 'RIGHT']\n"
     ]
    }
   ],
   "source": [
    "# проверим данные на выборс\n",
    "for i in col_check:\n",
    "    print(i, data_2[i].unique())"
   ]
  },
  {
   "cell_type": "markdown",
   "metadata": {},
   "source": [
    "engineDisplacement содержит значения -1 и 0. Проверим данные выбросы."
   ]
  },
  {
   "cell_type": "code",
   "execution_count": 71,
   "metadata": {
    "execution": {
     "iopub.execute_input": "2022-06-18T12:15:13.722922Z",
     "iopub.status.busy": "2022-06-18T12:15:13.722469Z",
     "iopub.status.idle": "2022-06-18T12:15:13.790578Z",
     "shell.execute_reply": "2022-06-18T12:15:13.789652Z",
     "shell.execute_reply.started": "2022-06-18T12:15:13.722873Z"
    }
   },
   "outputs": [
    {
     "data": {
      "text/plain": [
       "array(['ЭЛЕКТРО'], dtype=object)"
      ]
     },
     "execution_count": 71,
     "metadata": {},
     "output_type": "execute_result"
    }
   ],
   "source": [
    "data_2[data_2['engineDisplacement'] <= 0]['fuelType'].unique()"
   ]
  },
  {
   "cell_type": "markdown",
   "metadata": {},
   "source": [
    "Все данные автомобили - это электрокары. Заменим все значения -1 на 0 "
   ]
  },
  {
   "cell_type": "code",
   "execution_count": 72,
   "metadata": {
    "execution": {
     "iopub.execute_input": "2022-06-18T12:15:13.792459Z",
     "iopub.status.busy": "2022-06-18T12:15:13.792145Z",
     "iopub.status.idle": "2022-06-18T12:15:13.799632Z",
     "shell.execute_reply": "2022-06-18T12:15:13.798736Z",
     "shell.execute_reply.started": "2022-06-18T12:15:13.792427Z"
    }
   },
   "outputs": [],
   "source": [
    "data_2.loc[(data_2.engineDisplacement < 0), 'engineDisplacement'] = 0"
   ]
  },
  {
   "cell_type": "markdown",
   "metadata": {},
   "source": [
    "# Добавим среднемесячные курсы валют."
   ]
  },
  {
   "cell_type": "code",
   "execution_count": 73,
   "metadata": {
    "execution": {
     "iopub.execute_input": "2022-06-18T12:15:13.80102Z",
     "iopub.status.busy": "2022-06-18T12:15:13.800701Z",
     "iopub.status.idle": "2022-06-18T12:15:13.825828Z",
     "shell.execute_reply": "2022-06-18T12:15:13.824944Z",
     "shell.execute_reply.started": "2022-06-18T12:15:13.800987Z"
    }
   },
   "outputs": [],
   "source": [
    "# exchange_rate = pd.read_excel('../input/exchange-rate/exchange_rate.xlsx')\n",
    "exchange_rate =  pd.read_excel('exchange_rate.xlsx')"
   ]
  },
  {
   "cell_type": "code",
   "execution_count": 74,
   "metadata": {
    "execution": {
     "iopub.execute_input": "2022-06-18T12:15:13.827579Z",
     "iopub.status.busy": "2022-06-18T12:15:13.82711Z",
     "iopub.status.idle": "2022-06-18T12:15:13.833963Z",
     "shell.execute_reply": "2022-06-18T12:15:13.832945Z",
     "shell.execute_reply.started": "2022-06-18T12:15:13.827514Z"
    }
   },
   "outputs": [],
   "source": [
    "exchange_rate = exchange_rate[['year_month','kyrs']]"
   ]
  },
  {
   "cell_type": "code",
   "execution_count": 75,
   "metadata": {
    "execution": {
     "iopub.execute_input": "2022-06-18T12:15:13.836214Z",
     "iopub.status.busy": "2022-06-18T12:15:13.835579Z",
     "iopub.status.idle": "2022-06-18T12:15:13.847821Z",
     "shell.execute_reply": "2022-06-18T12:15:13.846791Z",
     "shell.execute_reply.started": "2022-06-18T12:15:13.836154Z"
    }
   },
   "outputs": [],
   "source": [
    "def add_exchange_rate(x):\n",
    "    #print(x)\n",
    "    return exchange_rate[exchange_rate['year_month'] == x]['kyrs'].iloc[0]"
   ]
  },
  {
   "cell_type": "code",
   "execution_count": 76,
   "metadata": {
    "execution": {
     "iopub.execute_input": "2022-06-18T12:15:13.849762Z",
     "iopub.status.busy": "2022-06-18T12:15:13.849401Z",
     "iopub.status.idle": "2022-06-18T12:16:11.776878Z",
     "shell.execute_reply": "2022-06-18T12:16:11.775908Z",
     "shell.execute_reply.started": "2022-06-18T12:15:13.849727Z"
    }
   },
   "outputs": [],
   "source": [
    "data_2['kyrs'] = data_2['year_month'].apply(lambda x:add_exchange_rate(x))"
   ]
  },
  {
   "cell_type": "code",
   "execution_count": 77,
   "metadata": {
    "execution": {
     "iopub.execute_input": "2022-06-18T12:16:11.783944Z",
     "iopub.status.busy": "2022-06-18T12:16:11.78358Z",
     "iopub.status.idle": "2022-06-18T12:16:11.81108Z",
     "shell.execute_reply": "2022-06-18T12:16:11.810023Z",
     "shell.execute_reply.started": "2022-06-18T12:16:11.783904Z"
    }
   },
   "outputs": [
    {
     "data": {
      "text/html": [
       "<div>\n",
       "<style scoped>\n",
       "    .dataframe tbody tr th:only-of-type {\n",
       "        vertical-align: middle;\n",
       "    }\n",
       "\n",
       "    .dataframe tbody tr th {\n",
       "        vertical-align: top;\n",
       "    }\n",
       "\n",
       "    .dataframe thead th {\n",
       "        text-align: right;\n",
       "    }\n",
       "</style>\n",
       "<table border=\"1\" class=\"dataframe\">\n",
       "  <thead>\n",
       "    <tr style=\"text-align: right;\">\n",
       "      <th></th>\n",
       "      <th>bodyType</th>\n",
       "      <th>brand</th>\n",
       "      <th>color</th>\n",
       "      <th>description</th>\n",
       "      <th>engineDisplacement</th>\n",
       "      <th>enginePower</th>\n",
       "      <th>fuelType</th>\n",
       "      <th>mileage</th>\n",
       "      <th>modelDate</th>\n",
       "      <th>model_name</th>\n",
       "      <th>numberOfDoors</th>\n",
       "      <th>parsing_unixtime</th>\n",
       "      <th>productionDate</th>\n",
       "      <th>Владельцы</th>\n",
       "      <th>Привод</th>\n",
       "      <th>Руль</th>\n",
       "      <th>sample</th>\n",
       "      <th>year_pars</th>\n",
       "      <th>year_month</th>\n",
       "      <th>machine_age</th>\n",
       "      <th>model_age</th>\n",
       "      <th>month_pars</th>\n",
       "      <th>description_len</th>\n",
       "      <th>season</th>\n",
       "      <th>kyrs</th>\n",
       "    </tr>\n",
       "  </thead>\n",
       "  <tbody>\n",
       "    <tr>\n",
       "      <th>0</th>\n",
       "      <td>ЛИФТБЕК</td>\n",
       "      <td>SKODA</td>\n",
       "      <td>СИНИЙ</td>\n",
       "      <td>Все автомобили, представленные в продаже, прох...</td>\n",
       "      <td>1.2</td>\n",
       "      <td>105</td>\n",
       "      <td>БЕНЗИН</td>\n",
       "      <td>74000</td>\n",
       "      <td>2013</td>\n",
       "      <td>OCTAVIA</td>\n",
       "      <td>5</td>\n",
       "      <td>2020-10-20</td>\n",
       "      <td>2014</td>\n",
       "      <td>3</td>\n",
       "      <td>передний</td>\n",
       "      <td>LEFT</td>\n",
       "      <td>1</td>\n",
       "      <td>2020</td>\n",
       "      <td>2020_10</td>\n",
       "      <td>6</td>\n",
       "      <td>7</td>\n",
       "      <td>10</td>\n",
       "      <td>1001</td>\n",
       "      <td>ОСЕНЬ</td>\n",
       "      <td>77.6635</td>\n",
       "    </tr>\n",
       "    <tr>\n",
       "      <th>1</th>\n",
       "      <td>ЛИФТБЕК</td>\n",
       "      <td>SKODA</td>\n",
       "      <td>ЧЁРНЫЙ</td>\n",
       "      <td>ЛОТ: 01217195\\nАвтопрага Север\\nДанный автомоб...</td>\n",
       "      <td>1.6</td>\n",
       "      <td>110</td>\n",
       "      <td>БЕНЗИН</td>\n",
       "      <td>60563</td>\n",
       "      <td>2017</td>\n",
       "      <td>OCTAVIA</td>\n",
       "      <td>5</td>\n",
       "      <td>2020-10-20</td>\n",
       "      <td>2017</td>\n",
       "      <td>1</td>\n",
       "      <td>передний</td>\n",
       "      <td>LEFT</td>\n",
       "      <td>1</td>\n",
       "      <td>2020</td>\n",
       "      <td>2020_10</td>\n",
       "      <td>3</td>\n",
       "      <td>3</td>\n",
       "      <td>10</td>\n",
       "      <td>2609</td>\n",
       "      <td>ОСЕНЬ</td>\n",
       "      <td>77.6635</td>\n",
       "    </tr>\n",
       "    <tr>\n",
       "      <th>2</th>\n",
       "      <td>ЛИФТБЕК</td>\n",
       "      <td>SKODA</td>\n",
       "      <td>СЕРЫЙ</td>\n",
       "      <td>Все автомобили, представленные в продаже, прох...</td>\n",
       "      <td>1.8</td>\n",
       "      <td>152</td>\n",
       "      <td>БЕНЗИН</td>\n",
       "      <td>88000</td>\n",
       "      <td>2013</td>\n",
       "      <td>SUPERB</td>\n",
       "      <td>5</td>\n",
       "      <td>2020-10-20</td>\n",
       "      <td>2014</td>\n",
       "      <td>1</td>\n",
       "      <td>передний</td>\n",
       "      <td>LEFT</td>\n",
       "      <td>1</td>\n",
       "      <td>2020</td>\n",
       "      <td>2020_10</td>\n",
       "      <td>6</td>\n",
       "      <td>7</td>\n",
       "      <td>10</td>\n",
       "      <td>1001</td>\n",
       "      <td>ОСЕНЬ</td>\n",
       "      <td>77.6635</td>\n",
       "    </tr>\n",
       "    <tr>\n",
       "      <th>3</th>\n",
       "      <td>ЛИФТБЕК</td>\n",
       "      <td>SKODA</td>\n",
       "      <td>КОРИЧНЕВЫЙ</td>\n",
       "      <td>КОМПЛЕКТ ЗИМНЕЙ (ЛЕТНЕЙ) РЕЗИНЫ ПО СЕЗОНУ В ПО...</td>\n",
       "      <td>1.6</td>\n",
       "      <td>110</td>\n",
       "      <td>БЕНЗИН</td>\n",
       "      <td>95000</td>\n",
       "      <td>2013</td>\n",
       "      <td>OCTAVIA</td>\n",
       "      <td>5</td>\n",
       "      <td>2020-10-20</td>\n",
       "      <td>2014</td>\n",
       "      <td>1</td>\n",
       "      <td>передний</td>\n",
       "      <td>LEFT</td>\n",
       "      <td>1</td>\n",
       "      <td>2020</td>\n",
       "      <td>2020_10</td>\n",
       "      <td>6</td>\n",
       "      <td>7</td>\n",
       "      <td>10</td>\n",
       "      <td>1676</td>\n",
       "      <td>ОСЕНЬ</td>\n",
       "      <td>77.6635</td>\n",
       "    </tr>\n",
       "    <tr>\n",
       "      <th>4</th>\n",
       "      <td>ЛИФТБЕК</td>\n",
       "      <td>SKODA</td>\n",
       "      <td>БЕЛЫЙ</td>\n",
       "      <td>ЛОТ: 01220889\\nАвтопрага Север\\n\\nВы можете по...</td>\n",
       "      <td>1.8</td>\n",
       "      <td>152</td>\n",
       "      <td>БЕНЗИН</td>\n",
       "      <td>58536</td>\n",
       "      <td>2008</td>\n",
       "      <td>OCTAVIA</td>\n",
       "      <td>5</td>\n",
       "      <td>2020-10-20</td>\n",
       "      <td>2012</td>\n",
       "      <td>1</td>\n",
       "      <td>передний</td>\n",
       "      <td>LEFT</td>\n",
       "      <td>1</td>\n",
       "      <td>2020</td>\n",
       "      <td>2020_10</td>\n",
       "      <td>8</td>\n",
       "      <td>12</td>\n",
       "      <td>10</td>\n",
       "      <td>2365</td>\n",
       "      <td>ОСЕНЬ</td>\n",
       "      <td>77.6635</td>\n",
       "    </tr>\n",
       "  </tbody>\n",
       "</table>\n",
       "</div>"
      ],
      "text/plain": [
       "  bodyType  brand       color  \\\n",
       "0  ЛИФТБЕК  SKODA       СИНИЙ   \n",
       "1  ЛИФТБЕК  SKODA      ЧЁРНЫЙ   \n",
       "2  ЛИФТБЕК  SKODA       СЕРЫЙ   \n",
       "3  ЛИФТБЕК  SKODA  КОРИЧНЕВЫЙ   \n",
       "4  ЛИФТБЕК  SKODA       БЕЛЫЙ   \n",
       "\n",
       "                                         description  engineDisplacement  \\\n",
       "0  Все автомобили, представленные в продаже, прох...                 1.2   \n",
       "1  ЛОТ: 01217195\\nАвтопрага Север\\nДанный автомоб...                 1.6   \n",
       "2  Все автомобили, представленные в продаже, прох...                 1.8   \n",
       "3  КОМПЛЕКТ ЗИМНЕЙ (ЛЕТНЕЙ) РЕЗИНЫ ПО СЕЗОНУ В ПО...                 1.6   \n",
       "4  ЛОТ: 01220889\\nАвтопрага Север\\n\\nВы можете по...                 1.8   \n",
       "\n",
       "   enginePower fuelType  mileage  modelDate model_name  numberOfDoors  \\\n",
       "0          105   БЕНЗИН    74000       2013    OCTAVIA              5   \n",
       "1          110   БЕНЗИН    60563       2017    OCTAVIA              5   \n",
       "2          152   БЕНЗИН    88000       2013     SUPERB              5   \n",
       "3          110   БЕНЗИН    95000       2013    OCTAVIA              5   \n",
       "4          152   БЕНЗИН    58536       2008    OCTAVIA              5   \n",
       "\n",
       "  parsing_unixtime  productionDate Владельцы    Привод  Руль  sample  \\\n",
       "0       2020-10-20            2014         3  передний  LEFT       1   \n",
       "1       2020-10-20            2017         1  передний  LEFT       1   \n",
       "2       2020-10-20            2014         1  передний  LEFT       1   \n",
       "3       2020-10-20            2014         1  передний  LEFT       1   \n",
       "4       2020-10-20            2012         1  передний  LEFT       1   \n",
       "\n",
       "  year_pars year_month  machine_age  model_age month_pars  description_len  \\\n",
       "0      2020    2020_10            6          7         10             1001   \n",
       "1      2020    2020_10            3          3         10             2609   \n",
       "2      2020    2020_10            6          7         10             1001   \n",
       "3      2020    2020_10            6          7         10             1676   \n",
       "4      2020    2020_10            8         12         10             2365   \n",
       "\n",
       "  season     kyrs  \n",
       "0  ОСЕНЬ  77.6635  \n",
       "1  ОСЕНЬ  77.6635  \n",
       "2  ОСЕНЬ  77.6635  \n",
       "3  ОСЕНЬ  77.6635  \n",
       "4  ОСЕНЬ  77.6635  "
      ]
     },
     "execution_count": 77,
     "metadata": {},
     "output_type": "execute_result"
    }
   ],
   "source": [
    "data_2.head()"
   ]
  },
  {
   "cell_type": "markdown",
   "metadata": {
    "execution": {
     "iopub.execute_input": "2022-06-14T15:10:49.994811Z",
     "iopub.status.busy": "2022-06-14T15:10:49.994432Z",
     "iopub.status.idle": "2022-06-14T15:10:49.99918Z",
     "shell.execute_reply": "2022-06-14T15:10:49.998141Z",
     "shell.execute_reply.started": "2022-06-14T15:10:49.994779Z"
    }
   },
   "source": [
    "# Модель №1  CatBoost"
   ]
  },
  {
   "cell_type": "code",
   "execution_count": 78,
   "metadata": {
    "execution": {
     "iopub.execute_input": "2022-06-18T12:16:11.813235Z",
     "iopub.status.busy": "2022-06-18T12:16:11.812724Z",
     "iopub.status.idle": "2022-06-18T12:16:11.825567Z",
     "shell.execute_reply": "2022-06-18T12:16:11.824653Z",
     "shell.execute_reply.started": "2022-06-18T12:16:11.813182Z"
    }
   },
   "outputs": [],
   "source": [
    "col_for_model_tree = ['bodyType','brand','color','engineDisplacement','enginePower','fuelType','mileage',\n",
    "                'modelDate','model_name','numberOfDoors','productionDate','Владельцы','Привод','Руль',\n",
    "                'year_pars','machine_age','model_age','description_len','season','kyrs','sample']\n",
    "col_cat_tree = ['bodyType','brand','color','fuelType','model_name','Привод','Руль',\n",
    "                'description_len','season']\n",
    "col_drop_tree = ['description','parsing_unixtime', 'year_month','month_pars']"
   ]
  },
  {
   "cell_type": "code",
   "execution_count": 79,
   "metadata": {
    "execution": {
     "iopub.execute_input": "2022-06-18T12:16:11.827589Z",
     "iopub.status.busy": "2022-06-18T12:16:11.826931Z",
     "iopub.status.idle": "2022-06-18T12:16:11.891784Z",
     "shell.execute_reply": "2022-06-18T12:16:11.890803Z",
     "shell.execute_reply.started": "2022-06-18T12:16:11.827549Z"
    }
   },
   "outputs": [],
   "source": [
    "data_tree = data_2[col_for_model_tree].copy()"
   ]
  },
  {
   "cell_type": "code",
   "execution_count": 80,
   "metadata": {
    "execution": {
     "iopub.execute_input": "2022-06-18T12:16:11.893743Z",
     "iopub.status.busy": "2022-06-18T12:16:11.893203Z",
     "iopub.status.idle": "2022-06-18T12:16:12.079993Z",
     "shell.execute_reply": "2022-06-18T12:16:12.07881Z",
     "shell.execute_reply.started": "2022-06-18T12:16:11.893692Z"
    }
   },
   "outputs": [],
   "source": [
    "# используем label encoding т.к. у нас слишком много категориальных переменных\n",
    "# при использовании one hot encoding у нас получится слишком большая данных\n",
    "for colum in col_cat_tree:\n",
    "    data_tree[colum] = data_tree[colum].astype('category').cat.codes\n",
    "\n",
    "X_valid = data_tree.query('sample == 1').drop(['sample'], axis=1)\n",
    "X = data_tree.query('sample == 0').drop(['sample'], axis=1)"
   ]
  },
  {
   "cell_type": "code",
   "execution_count": 81,
   "metadata": {
    "execution": {
     "iopub.execute_input": "2022-06-18T12:16:12.081823Z",
     "iopub.status.busy": "2022-06-18T12:16:12.081469Z",
     "iopub.status.idle": "2022-06-18T12:16:12.087199Z",
     "shell.execute_reply": "2022-06-18T12:16:12.085913Z",
     "shell.execute_reply.started": "2022-06-18T12:16:12.081789Z"
    }
   },
   "outputs": [],
   "source": [
    "y = train['price']"
   ]
  },
  {
   "cell_type": "code",
   "execution_count": 82,
   "metadata": {
    "execution": {
     "iopub.execute_input": "2022-06-18T12:16:12.08973Z",
     "iopub.status.busy": "2022-06-18T12:16:12.089186Z",
     "iopub.status.idle": "2022-06-18T12:16:12.126832Z",
     "shell.execute_reply": "2022-06-18T12:16:12.125829Z",
     "shell.execute_reply.started": "2022-06-18T12:16:12.089681Z"
    }
   },
   "outputs": [],
   "source": [
    "X_train, X_test, y_train, y_test = train_test_split(X, y, test_size=VAL_SIZE, shuffle=True, random_state=RANDOM_SEED)"
   ]
  },
  {
   "cell_type": "code",
   "execution_count": 83,
   "metadata": {
    "execution": {
     "iopub.execute_input": "2022-06-18T12:16:12.129611Z",
     "iopub.status.busy": "2022-06-18T12:16:12.128481Z",
     "iopub.status.idle": "2022-06-18T12:17:13.766956Z",
     "shell.execute_reply": "2022-06-18T12:17:13.765667Z",
     "shell.execute_reply.started": "2022-06-18T12:16:12.129554Z"
    }
   },
   "outputs": [],
   "source": [
    "model = CatBoostRegressor(iterations = 5000,\n",
    "                          random_seed = RANDOM_SEED,\n",
    "                          eval_metric='MAPE',\n",
    "                          custom_metric=['R2', 'MAE'],\n",
    "                          silent=True,\n",
    "                         )\n",
    "model.fit(X_train, np.log(y_train),\n",
    "         #cat_features=cat_features_ids,\n",
    "         eval_set=(X_test, np.log(y_test)),\n",
    "         verbose_eval=0,\n",
    "         use_best_model=True,\n",
    "         #plot=True\n",
    "         )\n",
    "\n",
    "model.save_model('catboost_single_model_2_baseline.model')"
   ]
  },
  {
   "cell_type": "code",
   "execution_count": 84,
   "metadata": {
    "execution": {
     "iopub.execute_input": "2022-06-18T12:17:13.768805Z",
     "iopub.status.busy": "2022-06-18T12:17:13.768401Z",
     "iopub.status.idle": "2022-06-18T12:17:13.839066Z",
     "shell.execute_reply": "2022-06-18T12:17:13.838059Z",
     "shell.execute_reply.started": "2022-06-18T12:17:13.768768Z"
    }
   },
   "outputs": [
    {
     "name": "stdout",
     "output_type": "stream",
     "text": [
      "Точность модели по метрике MAPE: 12.34%\n"
     ]
    }
   ],
   "source": [
    "predict_test_Cat_Boost = np.exp(model.predict(X_test))\n",
    "#predict_submission = np.exp(model.predict(X_sub))\n",
    "print(f\"Точность модели по метрике MAPE: {(mape(y_test, predict_test_Cat_Boost))*100:0.2f}%\")"
   ]
  },
  {
   "cell_type": "code",
   "execution_count": 102,
   "metadata": {},
   "outputs": [
    {
     "data": {
      "text/plain": [
       "<AxesSubplot:title={'center':'Важность признаков'}>"
      ]
     },
     "execution_count": 102,
     "metadata": {},
     "output_type": "execute_result"
    }
   ],
   "source": [
    "# Важность признаков\n",
    "plt.rcParams['figure.figsize'] = (10,10)\n",
    "feat_importances = pd.Series(model.get_feature_importance(), index=X_train.columns)\n",
    "feat_importances.nlargest(40).plot(kind='barh', title='Важность признаков')"
   ]
  },
  {
   "cell_type": "code",
   "execution_count": 103,
   "metadata": {},
   "outputs": [
    {
     "data": {
      "text/plain": [
       "enginePower           26.099586\n",
       "modelDate             11.446357\n",
       "productionDate        10.730603\n",
       "brand                  8.076914\n",
       "model_age              6.988659\n",
       "machine_age            6.932588\n",
       "mileage                6.778959\n",
       "engineDisplacement     6.047390\n",
       "model_name             4.141527\n",
       "fuelType               3.228685\n",
       "bodyType               3.128917\n",
       "Привод                 2.553604\n",
       "Владельцы              1.347919\n",
       "description_len        0.980389\n",
       "numberOfDoors          0.734039\n",
       "kyrs                   0.266865\n",
       "color                  0.237675\n",
       "Руль                   0.133704\n",
       "season                 0.080515\n",
       "year_pars              0.065103\n",
       "dtype: float64"
      ]
     },
     "execution_count": 103,
     "metadata": {},
     "output_type": "execute_result"
    }
   ],
   "source": [
    "feat_importances.nlargest(40)"
   ]
  },
  {
   "cell_type": "markdown",
   "metadata": {},
   "source": [
    "Как мы видим, наиболее значимым признаком является объём двигателя автомобиля. \n",
    "В целом и не удивительно, это самая дорогостоящая часть в автомобиле. "
   ]
  },
  {
   "cell_type": "markdown",
   "metadata": {},
   "source": [
    "# Модель №2 AdaBoostRegressor"
   ]
  },
  {
   "cell_type": "code",
   "execution_count": 106,
   "metadata": {},
   "outputs": [
    {
     "name": "stdout",
     "output_type": "stream",
     "text": [
      "Точность модели по метрике MAPE: 28.13%\n"
     ]
    }
   ],
   "source": [
    "from sklearn.ensemble import AdaBoostRegressor\n",
    "ABR = AdaBoostRegressor() \n",
    "ABR.fit(X_train, np.log(y_train))\n",
    "predict_test_RFR = np.exp(ABR.predict(X_test))\n",
    "print(f\"Точность модели по метрике MAPE: {(mape(y_test, predict_test_RFR))*100:0.2f}%\")"
   ]
  },
  {
   "cell_type": "markdown",
   "metadata": {},
   "source": [
    "# Модель №3 DecisionTreeRegressor"
   ]
  },
  {
   "cell_type": "code",
   "execution_count": 111,
   "metadata": {},
   "outputs": [
    {
     "name": "stdout",
     "output_type": "stream",
     "text": [
      "Точность модели по метрике MAPE: 18.54%\n"
     ]
    }
   ],
   "source": [
    "from sklearn.tree import DecisionTreeRegressor\n",
    "DTG = DecisionTreeRegressor()\n",
    "DTG.fit(X_train,  np.log(y_train))\n",
    "y_pred = DTG.predict(X_test)\n",
    "predict_test_DTG = np.exp(y_pred)\n",
    "print(f\"Точность модели по метрике MAPE: {(mape(y_test, predict_test_DTG))*100:0.2f}%\")"
   ]
  },
  {
   "cell_type": "markdown",
   "metadata": {},
   "source": [
    "# Модель №4 RandomForestRegressor"
   ]
  },
  {
   "cell_type": "code",
   "execution_count": 112,
   "metadata": {},
   "outputs": [
    {
     "name": "stdout",
     "output_type": "stream",
     "text": [
      "Точность модели по метрике MAPE: 12.48%\n"
     ]
    }
   ],
   "source": [
    "# При тюнинге гиперпараметров наилучший результат был с max_depth = 25\n",
    "rf = RandomForestRegressor(max_depth = 25).fit(X_train, np.log(y_train))\n",
    "predict_test_RFR = np.exp(rf.predict(X_test))\n",
    "print(f\"Точность модели по метрике MAPE: {(mape(y_test, predict_test_RFR))*100:0.2f}%\")"
   ]
  },
  {
   "cell_type": "markdown",
   "metadata": {},
   "source": [
    "# стекинг"
   ]
  },
  {
   "cell_type": "code",
   "execution_count": 114,
   "metadata": {},
   "outputs": [
    {
     "name": "stdout",
     "output_type": "stream",
     "text": [
      "Точность модели по метрике MAPE: 12.55%\n"
     ]
    }
   ],
   "source": [
    "from sklearn.ensemble import StackingRegressor\n",
    "estimators = [('AdaBoostRegressor', ABR),('RFR', rf), ('DecisionTreeRegressor', DTG)]\n",
    "sr = StackingRegressor(estimators = estimators)\n",
    "sr.fit(X_train, np.log(y_train))\n",
    "predict_test_RFR = np.exp(sr.predict(X_test))\n",
    "print(f\"Точность модели по метрике MAPE: {(mape(y_test, predict_test_RFR))*100:0.2f}%\")"
   ]
  },
  {
   "cell_type": "markdown",
   "metadata": {},
   "source": [
    "Как мы видим по нашим метрикам, наилучшие результаты метрики MAPE достигаються при использовании модели CatBost.    \n",
    "CatBost - MAPE: 12.34%    \n",
    "AdaBoostRegressor - MAPE: 28.13%    \n",
    "DecisionTreeRegressor - 18.54%    \n",
    "RandomForestRegressor - MAPE: 12.48%    \n",
    "Стекинг - MAPE: 12.55%    \n",
    "сиспользуем CatBost для Submission"
   ]
  },
  {
   "cell_type": "markdown",
   "metadata": {
    "papermill": {
     "duration": 0.085876,
     "end_time": "2020-10-26T12:48:12.734207",
     "exception": false,
     "start_time": "2020-10-26T12:48:12.648331",
     "status": "completed"
    },
    "tags": []
   },
   "source": [
    "# Submission"
   ]
  },
  {
   "cell_type": "code",
   "execution_count": 118,
   "metadata": {
    "execution": {
     "iopub.status.busy": "2022-06-18T05:51:18.058414Z",
     "iopub.status.idle": "2022-06-18T05:51:18.059239Z"
    },
    "papermill": {
     "duration": 0.628302,
     "end_time": "2020-10-26T12:48:13.763488",
     "exception": false,
     "start_time": "2020-10-26T12:48:13.135186",
     "status": "completed"
    },
    "tags": []
   },
   "outputs": [
    {
     "data": {
      "text/html": [
       "<div>\n",
       "<style scoped>\n",
       "    .dataframe tbody tr th:only-of-type {\n",
       "        vertical-align: middle;\n",
       "    }\n",
       "\n",
       "    .dataframe tbody tr th {\n",
       "        vertical-align: top;\n",
       "    }\n",
       "\n",
       "    .dataframe thead th {\n",
       "        text-align: right;\n",
       "    }\n",
       "</style>\n",
       "<table border=\"1\" class=\"dataframe\">\n",
       "  <thead>\n",
       "    <tr style=\"text-align: right;\">\n",
       "      <th></th>\n",
       "      <th>sell_id</th>\n",
       "      <th>price</th>\n",
       "    </tr>\n",
       "  </thead>\n",
       "  <tbody>\n",
       "    <tr>\n",
       "      <th>0</th>\n",
       "      <td>1100575026</td>\n",
       "      <td>5.898256e+05</td>\n",
       "    </tr>\n",
       "    <tr>\n",
       "      <th>1</th>\n",
       "      <td>1100549428</td>\n",
       "      <td>7.604146e+05</td>\n",
       "    </tr>\n",
       "    <tr>\n",
       "      <th>2</th>\n",
       "      <td>1100658222</td>\n",
       "      <td>7.632745e+05</td>\n",
       "    </tr>\n",
       "    <tr>\n",
       "      <th>3</th>\n",
       "      <td>1100937408</td>\n",
       "      <td>5.775475e+05</td>\n",
       "    </tr>\n",
       "    <tr>\n",
       "      <th>4</th>\n",
       "      <td>1101037972</td>\n",
       "      <td>6.873317e+05</td>\n",
       "    </tr>\n",
       "    <tr>\n",
       "      <th>5</th>\n",
       "      <td>1100912634</td>\n",
       "      <td>7.517774e+05</td>\n",
       "    </tr>\n",
       "    <tr>\n",
       "      <th>6</th>\n",
       "      <td>1101228730</td>\n",
       "      <td>6.061423e+05</td>\n",
       "    </tr>\n",
       "    <tr>\n",
       "      <th>7</th>\n",
       "      <td>1100165896</td>\n",
       "      <td>4.089913e+05</td>\n",
       "    </tr>\n",
       "    <tr>\n",
       "      <th>8</th>\n",
       "      <td>1100768262</td>\n",
       "      <td>1.624616e+06</td>\n",
       "    </tr>\n",
       "    <tr>\n",
       "      <th>9</th>\n",
       "      <td>1101218501</td>\n",
       "      <td>7.255502e+05</td>\n",
       "    </tr>\n",
       "  </tbody>\n",
       "</table>\n",
       "</div>"
      ],
      "text/plain": [
       "      sell_id         price\n",
       "0  1100575026  5.898256e+05\n",
       "1  1100549428  7.604146e+05\n",
       "2  1100658222  7.632745e+05\n",
       "3  1100937408  5.775475e+05\n",
       "4  1101037972  6.873317e+05\n",
       "5  1100912634  7.517774e+05\n",
       "6  1101228730  6.061423e+05\n",
       "7  1100165896  4.089913e+05\n",
       "8  1100768262  1.624616e+06\n",
       "9  1101218501  7.255502e+05"
      ]
     },
     "execution_count": 118,
     "metadata": {},
     "output_type": "execute_result"
    }
   ],
   "source": [
    "predict_test_Cat_Boost = np.exp(model.predict(X_valid))\n",
    "sample_submission['price'] = predict_submission\n",
    "sample_submission.to_csv(f'submission_2_v{VERSION}.csv', index=False)\n",
    "sample_submission.head(10)"
   ]
  },
  {
   "cell_type": "markdown",
   "metadata": {},
   "source": [
    "# Вывод по работе.\n",
    "В процессе работы наилучшей моделью оказался СatBoost. Это модель лучше всего подходит в данных условиях.\n",
    "К сожалению, в данной версии пакетов использовать СatBoost вместе с кроссвалидацией невозможно.\n",
    "Возможно, другие методы машинного обучения работают хуже т.к. мы использовали label encoding. Использовать one hot encoding невозможно т.к. получим слишком большой дата сет.    \n",
    "Возможные идеи для доработки:    \n",
    "В целом, можно попробовать другие методы машинного обучения, а также поделить стоимость автомобиля на курс.    \n",
    "Так же можно добавить класс авто в зависимости от цены.   "
   ]
  },
  {
   "cell_type": "code",
   "execution_count": null,
   "metadata": {},
   "outputs": [],
   "source": []
  }
 ],
 "metadata": {
  "kernelspec": {
   "display_name": "Python 3 (ipykernel)",
   "language": "python",
   "name": "python3"
  },
  "language_info": {
   "codemirror_mode": {
    "name": "ipython",
    "version": 3
   },
   "file_extension": ".py",
   "mimetype": "text/x-python",
   "name": "python",
   "nbconvert_exporter": "python",
   "pygments_lexer": "ipython3",
   "version": "3.9.7"
  }
 },
 "nbformat": 4,
 "nbformat_minor": 4
}
